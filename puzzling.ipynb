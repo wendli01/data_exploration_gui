{
 "cells": [
  {
   "cell_type": "markdown",
   "metadata": {},
   "source": [
    "# That stupid wooden Puzzle"
   ]
  },
  {
   "cell_type": "markdown",
   "metadata": {},
   "source": [
    "## Imports"
   ]
  },
  {
   "cell_type": "code",
   "execution_count": 1,
   "metadata": {
    "ExecuteTime": {
     "end_time": "2019-09-24T12:02:26.319976Z",
     "start_time": "2019-09-24T12:02:26.018193Z"
    }
   },
   "outputs": [],
   "source": [
    "from matplotlib import pyplot as plt\n",
    "from typing import List\n",
    "import numpy as np\n",
    "import itertools\n",
    "from functools import lru_cache\n",
    "import matplotlib.colors as mcolors\n",
    "import ipywidgets as widgets\n",
    "from ipywidgets import interact, interactive, fixed, interact_manual\n",
    "\n",
    "from IPython.display import display"
   ]
  },
  {
   "cell_type": "markdown",
   "metadata": {},
   "source": [
    "## Logic"
   ]
  },
  {
   "cell_type": "markdown",
   "metadata": {},
   "source": [
    "### Possible Moves"
   ]
  },
  {
   "cell_type": "code",
   "execution_count": 2,
   "metadata": {
    "ExecuteTime": {
     "end_time": "2019-09-24T12:02:26.341565Z",
     "start_time": "2019-09-24T12:02:26.321580Z"
    }
   },
   "outputs": [],
   "source": [
    "@lru_cache(128)\n",
    "def get_all_directions(nb_dims = 2):\n",
    "    return np.concatenate([np.eye(nb_dims), -np.eye(nb_dims)]).astype(int)\n",
    "\n",
    "def get_new_direction(old_direction, rotation):\n",
    "    nb_dims = len(old_direction) - 1\n",
    "    was_passive = np.array(old_direction) == 0\n",
    "    out = np.zeros_like(old_direction)\n",
    "    out[was_passive] = get_all_directions()[rotation % (nb_dims * 2)]\n",
    "    return list(out)\n",
    "\n",
    "def get_points(structure, rotation):\n",
    "    points = [np.array([0,0,0])]\n",
    "    current_direction = [1,0,0]\n",
    "    for bend, rot in zip(structure, rotation):\n",
    "        if bend:\n",
    "            current_direction = get_new_direction(current_direction, rot)\n",
    "        points.append(points[-1] + current_direction)\n",
    "    return points - np.min(points, axis=0)"
   ]
  },
  {
   "cell_type": "markdown",
   "metadata": {},
   "source": [
    "### Solved Criteria"
   ]
  },
  {
   "cell_type": "code",
   "execution_count": 3,
   "metadata": {
    "ExecuteTime": {
     "end_time": "2019-09-24T12:02:26.346434Z",
     "start_time": "2019-09-24T12:02:26.342984Z"
    }
   },
   "outputs": [],
   "source": [
    "def is_in_extent(points, nb_dims = 3):\n",
    "    points = points - np.min(points, axis = 0)\n",
    "    extent = 3*[nb_dims]\n",
    "    return [all(p < extent) for p in points]\n",
    "\n",
    "def is_solved(structure, rotation, n = 3):\n",
    "    points = get_points(structure, rotation)\n",
    "    in_extent = is_in_extent(points)\n",
    "    return len(points[in_extent]) == n**3"
   ]
  },
  {
   "cell_type": "markdown",
   "metadata": {},
   "source": [
    "### Visualization"
   ]
  },
  {
   "cell_type": "code",
   "execution_count": 4,
   "metadata": {
    "ExecuteTime": {
     "end_time": "2019-09-24T12:02:26.354414Z",
     "start_time": "2019-09-24T12:02:26.347497Z"
    },
    "scrolled": false
   },
   "outputs": [],
   "source": [
    "def str_to_arr(s:str):\n",
    "    return [int(x) for x in s]\n",
    "\n",
    "def plot_cube(pos, ax, color='r', alpha = .5, extent = (3,3,3)):\n",
    "    colors = [*mcolors.to_rgb(color), alpha]\n",
    "    indices = np.indices(extent+1) + .5\n",
    "    cube = np.logical_and.reduce([ind == p+.5 for p, ind in zip(pos, indices)])\n",
    "    ax.voxels(cube, facecolors=colors, edgecolor='gray', alpha=alpha)\n",
    "\n",
    "def plot_snake(structure: str, rotation: str, show_cubes : bool = True, color_wrong=True,\n",
    "              show_string: bool = True, cube_alpha : float = 0.5, step = 27,\n",
    "              elev = 30, azim=30):\n",
    "    structure, rotation = str_to_arr(structure), str_to_arr(rotation)\n",
    "    points = get_points(structure, rotation)\n",
    "    is_in_ext = is_in_extent(points)\n",
    "            \n",
    "    from mpl_toolkits.mplot3d import Axes3D\n",
    "    fig = plt.figure(figsize = (9,9))\n",
    "    ax = fig.add_subplot(111, projection='3d')\n",
    "    if show_cubes:\n",
    "        extent = np.max(points, axis=0)\n",
    "        for i, point, in_ext in zip(range(step), points, is_in_ext):\n",
    "            color = 'peru' if i%2 == 1 else 'darkslategray'\n",
    "            if not in_ext and color_wrong:\n",
    "                color='r'\n",
    "            plot_cube(point, ax, color = color, alpha = cube_alpha, extent=extent)\n",
    "    if show_string:\n",
    "        ax.plot(*np.array(points[:step]).T + .5, lw = 5, c='gray')\n",
    "    ax.view_init(elev, azim)\n",
    "    plt.show()"
   ]
  },
  {
   "cell_type": "markdown",
   "metadata": {},
   "source": [
    "## Basic Structure"
   ]
  },
  {
   "cell_type": "code",
   "execution_count": 5,
   "metadata": {
    "ExecuteTime": {
     "end_time": "2019-09-24T12:02:26.619095Z",
     "start_time": "2019-09-24T12:02:26.355407Z"
    }
   },
   "outputs": [
    {
     "data": {
      "image/png": "[encoded data removed]",
      "text/plain": [
       "<Figure size 648x648 with 1 Axes>"
      ]
     },
     "metadata": {
      "needs_background": "light"
     },
     "output_type": "display_data"
    }
   ],
   "source": [
    "structure = str_to_arr('00101010111101011101101110')\n",
    "rotation = str_to_arr('00000000000000000000000000')\n",
    "\n",
    "plot_snake(structure, rotation, cube_alpha=0.3, color_wrong=False, azim=0, elev=90)"
   ]
  },
  {
   "cell_type": "markdown",
   "metadata": {},
   "source": [
    "## Interactive Visualization"
   ]
  },
  {
   "cell_type": "code",
   "execution_count": 6,
   "metadata": {
    "ExecuteTime": {
     "end_time": "2019-09-24T12:02:26.702505Z",
     "start_time": "2019-09-24T12:02:26.620236Z"
    },
    "scrolled": false
   },
   "outputs": [
    {
     "data": {
      "application/vnd.jupyter.widget-view+json": {
       "model_id": "ee32aa71b8cf459c825ea1d118b04932",
       "version_major": 2,
       "version_minor": 0
      },
      "text/plain": [
       "HBox(children=(Text(value='000020300102020010', description='rotation'), Text(value='0010101011110101110110111…"
      ]
     },
     "metadata": {},
     "output_type": "display_data"
    },
    {
     "data": {
      "application/vnd.jupyter.widget-view+json": {
       "model_id": "7d442dd3e1754dd2845dab2d68e0f9c3",
       "version_major": 2,
       "version_minor": 0
      },
      "text/plain": [
       "HBox(children=(Checkbox(value=True, description='show_cubes'), Checkbox(value=True, description='show_string')…"
      ]
     },
     "metadata": {},
     "output_type": "display_data"
    },
    {
     "data": {
      "application/vnd.jupyter.widget-view+json": {
       "model_id": "06be1044c4d342939db78f109490fb76",
       "version_major": 2,
       "version_minor": 0
      },
      "text/plain": [
       "HBox(children=(Play(value=27, interval=500, max=30), IntSlider(value=0, description='step', max=50)))"
      ]
     },
     "metadata": {},
     "output_type": "display_data"
    },
    {
     "data": {
      "application/vnd.jupyter.widget-view+json": {
       "model_id": "3f64eed2a4b340ad8eed8928dd49df64",
       "version_major": 2,
       "version_minor": 0
      },
      "text/plain": [
       "VBox(children=(HBox(children=(Output(layout=Layout(height='500px')), IntSlider(value=30, description='elev', m…"
      ]
     },
     "metadata": {},
     "output_type": "display_data"
    }
   ],
   "source": [
    "%matplotlib inline\n",
    "\n",
    "structure = '00101010111101011101101110'\n",
    "rotation = '00002030010202001030'\n",
    "\n",
    "play = widgets.Play(value=27, min=0, max=30, step=1, interval = 500)\n",
    "play_slider = widgets.IntSlider(max=50)\n",
    "elev_slider = widgets.IntSlider(value = 30, min = 0, max = 360, orientation='vertical')\n",
    "azim_slider = widgets.IntSlider(value = 30, min = 0, max = 360)\n",
    "structure_inp = widgets.Text(value='00101010111101011101101110')\n",
    "rotation_inp = widgets.Text(value='000020300102020010')\n",
    "show_cubes_cbox = widgets.Checkbox(value=True)\n",
    "show_string_cbox = widgets.Checkbox(value=True)\n",
    "alpha_slider = widgets.FloatSlider(value=0.5, min=0, max=1)\n",
    "\n",
    "interactive_plot = interactive(plot_snake, structure = structure_inp, rotation = rotation_inp, \n",
    "                               show_cubes=show_cubes_cbox,\n",
    "                               show_string = show_string_cbox, step = play_slider,\n",
    "                               cube_alpha = alpha_slider, azim = azim_slider,\n",
    "                              elev = elev_slider)\n",
    "\n",
    "widgets.jslink((play, 'value'), (play_slider, 'value'))\n",
    "play_box = widgets.HBox([play, play_slider])\n",
    "plot_box = widgets.VBox([widgets.HBox([interactive_plot.children[-1], elev_slider]), azim_slider])\n",
    "texts_box = widgets.HBox([rotation_inp, structure_inp])\n",
    "plot_controls = widgets.HBox([show_cubes_cbox, show_string_cbox, alpha_slider])\n",
    "\n",
    "output = interactive_plot.children[-1]\n",
    "output.layout.height = '500px'\n",
    "display(texts_box, plot_controls, play_box, plot_box)"
   ]
  }
 ],
 "metadata": {
  "kernelspec": {
   "display_name": "evofficient",
   "language": "python",
   "name": "evofficient"
  },
  "language_info": {
   "codemirror_mode": {
    "name": "ipython",
    "version": 3
   },
   "file_extension": ".py",
   "mimetype": "text/x-python",
   "name": "python",
   "nbconvert_exporter": "python",
   "pygments_lexer": "ipython3",
   "version": "3.6.7"
  },
  "toc": {
   "base_numbering": 1,
   "nav_menu": {},
   "number_sections": true,
   "sideBar": true,
   "skip_h1_title": false,
   "title_cell": "Table of Contents",
   "title_sidebar": "Contents",
   "toc_cell": false,
   "toc_position": {},
   "toc_section_display": true,
   "toc_window_display": false
  },
  "varInspector": {
   "cols": {
    "lenName": 16,
    "lenType": 16,
    "lenVar": 40
   },
   "kernels_config": {
    "python": {
     "delete_cmd_postfix": "",
     "delete_cmd_prefix": "del ",
     "library": "var_list.py",
     "varRefreshCmd": "print(var_dic_list())"
    },
    "r": {
     "delete_cmd_postfix": ") ",
     "delete_cmd_prefix": "rm(",
     "library": "var_list.r",
     "varRefreshCmd": "cat(var_dic_list()) "
    }
   },
   "types_to_exclude": [
    "module",
    "function",
    "builtin_function_or_method",
    "instance",
    "_Feature"
   ],
   "window_display": false
  },
  "widgets": {
   "application/vnd.jupyter.widget-state+json": {
    "state": {
     "033a4b256604434093beff317eadd054": {
      "model_module": "@jupyter-widgets/base",
      "model_module_version": "1.2.0",
      "model_name": "LayoutModel",
      "state": {
       "_model_module_version": "1.2.0",
       "_view_module_version": "1.2.0",
       "justify_items": null,
       "object_fit": null,
       "object_position": null
      }
     },
     "066a763453a345b6b1bb2dae8ec12c92": {
      "model_module": "@jupyter-widgets/base",
      "model_module_version": "1.2.0",
      "model_name": "LayoutModel",
      "state": {
       "_model_module_version": "1.2.0",
       "_view_module_version": "1.2.0",
       "justify_items": null,
       "object_fit": null,
       "object_position": null
      }
     },
     "06be1044c4d342939db78f109490fb76": {
      "model_module": "@jupyter-widgets/controls",
      "model_module_version": "1.5.0",
      "model_name": "HBoxModel",
      "state": {
       "_model_module_version": "1.5.0",
       "_view_module_version": "1.5.0",
       "children": [
        "IPY_MODEL_c23213a1874341f7ba3390f8c458984a",
        "IPY_MODEL_da0ad3b3e46b4fd5856b01998991aecc"
       ],
       "layout": "IPY_MODEL_5e5aa9ebb0dc416f9e9d55240c24503f"
      }
     },
     "076790b469f343faa9f1050eb496fdde": {
      "model_module": "@jupyter-widgets/controls",
      "model_module_version": "1.5.0",
      "model_name": "TextModel",
      "state": {
       "_model_module_version": "1.5.0",
       "_view_module_version": "1.5.0",
       "description": "rotation",
       "layout": "IPY_MODEL_f7e8a98f92a84d5dad2acc84747342e3",
       "style": "IPY_MODEL_f09f8ce432114b648d182cda1996c7bb",
       "value": "000020300102020010"
      }
     },
     "10b2a651aeaf4249ae52d3f7557012e5": {
      "model_module": "@jupyter-widgets/base",
      "model_module_version": "1.2.0",
      "model_name": "LayoutModel",
      "state": {
       "_model_module_version": "1.2.0",
       "_view_module_version": "1.2.0",
       "justify_items": null,
       "object_fit": null,
       "object_position": null
      }
     },
     "11f058ed1dab476a998545459de6dc37": {
      "model_module": "@jupyter-widgets/controls",
      "model_module_version": "1.5.0",
      "model_name": "IntSliderModel",
      "state": {
       "_model_module_version": "1.5.0",
       "_view_module_version": "1.5.0",
       "description": "azim",
       "layout": "IPY_MODEL_b0f9e4a98ace43d1979994a92312bf6f",
       "max": 360,
       "style": "IPY_MODEL_5e6341fa21704cccac4085f999ef6110",
       "value": 30
      }
     },
     "13e23b865cce44be92ffde2820f90809": {
      "model_module": "@jupyter-widgets/controls",
      "model_module_version": "1.5.0",
      "model_name": "CheckboxModel",
      "state": {
       "_model_module_version": "1.5.0",
       "_view_module_version": "1.5.0",
       "description": "show_cubes",
       "disabled": false,
       "layout": "IPY_MODEL_066a763453a345b6b1bb2dae8ec12c92",
       "style": "IPY_MODEL_239e9cddd0e8407f88a72d3f2e40b4f1",
       "value": true
      }
     },
     "16f9c72821d64ad88853a85831f5141e": {
      "model_module": "@jupyter-widgets/base",
      "model_module_version": "1.2.0",
      "model_name": "LayoutModel",
      "state": {
       "_model_module_version": "1.2.0",
       "_view_module_version": "1.2.0",
       "justify_items": null,
       "object_fit": null,
       "object_position": null
      }
     },
     "239e9cddd0e8407f88a72d3f2e40b4f1": {
      "model_module": "@jupyter-widgets/controls",
      "model_module_version": "1.5.0",
      "model_name": "DescriptionStyleModel",
      "state": {
       "_model_module_version": "1.5.0",
       "_view_module_version": "1.2.0",
       "description_width": ""
      }
     },
     "2504de80b4dc4ece8ff15d483cd0a114": {
      "model_module": "@jupyter-widgets/output",
      "model_module_version": "1.0.0",
      "model_name": "OutputModel",
      "state": {
       "layout": "IPY_MODEL_608cc0a1fe6049a5a0336f980e98f9d5",
       "outputs": [
        {
         "data": {
          "image/png": "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\n",
          "text/plain": "<Figure size 648x648 with 1 Axes>"
         },
         "metadata": {
          "needs_background": "light"
         },
         "output_type": "display_data"
        }
       ]
      }
     },
     "26ab2a5873304cac9912a85eb72a9b42": {
      "model_module": "@jupyter-widgets/controls",
      "model_module_version": "1.5.0",
      "model_name": "VBoxModel",
      "state": {
       "_dom_classes": [
        "widget-interact"
       ],
       "_model_module_version": "1.5.0",
       "_view_module_version": "1.5.0",
       "children": [
        "IPY_MODEL_e7484af00b92486bbdf002b3766ad424",
        "IPY_MODEL_076790b469f343faa9f1050eb496fdde",
        "IPY_MODEL_13e23b865cce44be92ffde2820f90809",
        "IPY_MODEL_63114f5733694ee49edc25fe5657074b",
        "IPY_MODEL_3a77312e8ccc4710ba572a13f30bef9e",
        "IPY_MODEL_e3fc4a0ad8404d1c97fec58dd1f62e5c",
        "IPY_MODEL_da0ad3b3e46b4fd5856b01998991aecc",
        "IPY_MODEL_6f0c546b2ca645ce9df370311cdd8781",
        "IPY_MODEL_11f058ed1dab476a998545459de6dc37",
        "IPY_MODEL_2504de80b4dc4ece8ff15d483cd0a114"
       ],
       "layout": "IPY_MODEL_2e4fa755f54a472483bc36da4f616516"
      }
     },
     "2de0ab11a16f4aa089432d904580df72": {
      "model_module": "@jupyter-widgets/controls",
      "model_module_version": "1.5.0",
      "model_name": "DescriptionStyleModel",
      "state": {
       "_model_module_version": "1.5.0",
       "_view_module_version": "1.2.0",
       "description_width": ""
      }
     },
     "2dffcf08c09d47828550d2e0bdde5fc2": {
      "model_module": "@jupyter-widgets/controls",
      "model_module_version": "1.5.0",
      "model_name": "SliderStyleModel",
      "state": {
       "_model_module_version": "1.5.0",
       "_view_module_version": "1.2.0",
       "description_width": ""
      }
     },
     "2e4fa755f54a472483bc36da4f616516": {
      "model_module": "@jupyter-widgets/base",
      "model_module_version": "1.2.0",
      "model_name": "LayoutModel",
      "state": {
       "_model_module_version": "1.2.0",
       "_view_module_version": "1.2.0",
       "justify_items": null,
       "object_fit": null,
       "object_position": null
      }
     },
     "3a77312e8ccc4710ba572a13f30bef9e": {
      "model_module": "@jupyter-widgets/controls",
      "model_module_version": "1.5.0",
      "model_name": "CheckboxModel",
      "state": {
       "_model_module_version": "1.5.0",
       "_view_module_version": "1.5.0",
       "description": "show_string",
       "disabled": false,
       "layout": "IPY_MODEL_b8b0e0e9e5224df282b257665fe2b6c4",
       "style": "IPY_MODEL_2de0ab11a16f4aa089432d904580df72",
       "value": true
      }
     },
     "3f64eed2a4b340ad8eed8928dd49df64": {
      "model_module": "@jupyter-widgets/controls",
      "model_module_version": "1.5.0",
      "model_name": "VBoxModel",
      "state": {
       "_model_module_version": "1.5.0",
       "_view_module_version": "1.5.0",
       "children": [
        "IPY_MODEL_64f9c0a9bd874e35b27a9d32cb642865",
        "IPY_MODEL_11f058ed1dab476a998545459de6dc37"
       ],
       "layout": "IPY_MODEL_10b2a651aeaf4249ae52d3f7557012e5"
      }
     },
     "4365e62e99464106b87011504932e75d": {
      "model_module": "@jupyter-widgets/controls",
      "model_module_version": "1.5.0",
      "model_name": "DescriptionStyleModel",
      "state": {
       "_model_module_version": "1.5.0",
       "_view_module_version": "1.2.0",
       "description_width": ""
      }
     },
     "44e57f488c0748e69b353b0a146ad876": {
      "model_module": "@jupyter-widgets/base",
      "model_module_version": "1.2.0",
      "model_name": "LayoutModel",
      "state": {
       "_model_module_version": "1.2.0",
       "_view_module_version": "1.2.0",
       "justify_items": null,
       "object_fit": null,
       "object_position": null
      }
     },
     "50ae0d3af9664cf799037cc23bba7979": {
      "model_module": "@jupyter-widgets/base",
      "model_module_version": "1.2.0",
      "model_name": "LayoutModel",
      "state": {
       "_model_module_version": "1.2.0",
       "_view_module_version": "1.2.0",
       "justify_items": null,
       "object_fit": null,
       "object_position": null
      }
     },
     "50c7f2883d9c40abbbbbd3fa00f9dfdd": {
      "model_module": "@jupyter-widgets/base",
      "model_module_version": "1.2.0",
      "model_name": "LayoutModel",
      "state": {
       "_model_module_version": "1.2.0",
       "_view_module_version": "1.2.0",
       "justify_items": null,
       "object_fit": null,
       "object_position": null
      }
     },
     "5c9f88e51d0d48218c94bc08e842dd9b": {
      "model_module": "@jupyter-widgets/controls",
      "model_module_version": "1.5.0",
      "model_name": "DescriptionStyleModel",
      "state": {
       "_model_module_version": "1.5.0",
       "_view_module_version": "1.2.0",
       "description_width": ""
      }
     },
     "5e5aa9ebb0dc416f9e9d55240c24503f": {
      "model_module": "@jupyter-widgets/base",
      "model_module_version": "1.2.0",
      "model_name": "LayoutModel",
      "state": {
       "_model_module_version": "1.2.0",
       "_view_module_version": "1.2.0",
       "justify_items": null,
       "object_fit": null,
       "object_position": null
      }
     },
     "5e6341fa21704cccac4085f999ef6110": {
      "model_module": "@jupyter-widgets/controls",
      "model_module_version": "1.5.0",
      "model_name": "SliderStyleModel",
      "state": {
       "_model_module_version": "1.5.0",
       "_view_module_version": "1.2.0",
       "description_width": ""
      }
     },
     "608cc0a1fe6049a5a0336f980e98f9d5": {
      "model_module": "@jupyter-widgets/base",
      "model_module_version": "1.2.0",
      "model_name": "LayoutModel",
      "state": {
       "_model_module_version": "1.2.0",
       "_view_module_version": "1.2.0",
       "height": "500px",
       "justify_items": null,
       "object_fit": null,
       "object_position": null
      }
     },
     "63114f5733694ee49edc25fe5657074b": {
      "model_module": "@jupyter-widgets/controls",
      "model_module_version": "1.5.0",
      "model_name": "CheckboxModel",
      "state": {
       "_model_module_version": "1.5.0",
       "_view_module_version": "1.5.0",
       "description": "color_wrong",
       "disabled": false,
       "layout": "IPY_MODEL_79b1e58d65644644ab7882481fa96771",
       "style": "IPY_MODEL_90e8e4cebcb0470aafd9e4fbe278673e",
       "value": true
      }
     },
     "64f9c0a9bd874e35b27a9d32cb642865": {
      "model_module": "@jupyter-widgets/controls",
      "model_module_version": "1.5.0",
      "model_name": "HBoxModel",
      "state": {
       "_model_module_version": "1.5.0",
       "_view_module_version": "1.5.0",
       "children": [
        "IPY_MODEL_2504de80b4dc4ece8ff15d483cd0a114",
        "IPY_MODEL_6f0c546b2ca645ce9df370311cdd8781"
       ],
       "layout": "IPY_MODEL_50c7f2883d9c40abbbbbd3fa00f9dfdd"
      }
     },
     "6f0c546b2ca645ce9df370311cdd8781": {
      "model_module": "@jupyter-widgets/controls",
      "model_module_version": "1.5.0",
      "model_name": "IntSliderModel",
      "state": {
       "_model_module_version": "1.5.0",
       "_view_module_version": "1.5.0",
       "description": "elev",
       "layout": "IPY_MODEL_e002e8fcaf3e40418c319d7487bada46",
       "max": 360,
       "orientation": "vertical",
       "style": "IPY_MODEL_c0e094199242410eb085e42810dac4ea",
       "value": 30
      }
     },
     "79b1e58d65644644ab7882481fa96771": {
      "model_module": "@jupyter-widgets/base",
      "model_module_version": "1.2.0",
      "model_name": "LayoutModel",
      "state": {
       "_model_module_version": "1.2.0",
       "_view_module_version": "1.2.0",
       "justify_items": null,
       "object_fit": null,
       "object_position": null
      }
     },
     "7d442dd3e1754dd2845dab2d68e0f9c3": {
      "model_module": "@jupyter-widgets/controls",
      "model_module_version": "1.5.0",
      "model_name": "HBoxModel",
      "state": {
       "_model_module_version": "1.5.0",
       "_view_module_version": "1.5.0",
       "children": [
        "IPY_MODEL_13e23b865cce44be92ffde2820f90809",
        "IPY_MODEL_3a77312e8ccc4710ba572a13f30bef9e",
        "IPY_MODEL_e3fc4a0ad8404d1c97fec58dd1f62e5c"
       ],
       "layout": "IPY_MODEL_f6a15f7ee50d481e9af4bee6f171e47d"
      }
     },
     "83cd15deaf1946b1a490372f85da797d": {
      "model_module": "@jupyter-widgets/controls",
      "model_module_version": "1.5.0",
      "model_name": "SliderStyleModel",
      "state": {
       "_model_module_version": "1.5.0",
       "_view_module_version": "1.2.0",
       "description_width": ""
      }
     },
     "8c12c3f2f7ec454ba7500a8a0ef397ae": {
      "model_module": "@jupyter-widgets/controls",
      "model_module_version": "1.5.0",
      "model_name": "LinkModel",
      "state": {
       "_model_module_version": "1.5.0",
       "_view_module_version": "1.5.0",
       "source": [
        "IPY_MODEL_c23213a1874341f7ba3390f8c458984a",
        "value"
       ],
       "target": [
        "IPY_MODEL_da0ad3b3e46b4fd5856b01998991aecc",
        "value"
       ]
      }
     },
     "90e8e4cebcb0470aafd9e4fbe278673e": {
      "model_module": "@jupyter-widgets/controls",
      "model_module_version": "1.5.0",
      "model_name": "DescriptionStyleModel",
      "state": {
       "_model_module_version": "1.5.0",
       "_view_module_version": "1.2.0",
       "description_width": ""
      }
     },
     "b0f9e4a98ace43d1979994a92312bf6f": {
      "model_module": "@jupyter-widgets/base",
      "model_module_version": "1.2.0",
      "model_name": "LayoutModel",
      "state": {
       "_model_module_version": "1.2.0",
       "_view_module_version": "1.2.0",
       "justify_items": null,
       "object_fit": null,
       "object_position": null
      }
     },
     "b8b0e0e9e5224df282b257665fe2b6c4": {
      "model_module": "@jupyter-widgets/base",
      "model_module_version": "1.2.0",
      "model_name": "LayoutModel",
      "state": {
       "_model_module_version": "1.2.0",
       "_view_module_version": "1.2.0",
       "justify_items": null,
       "object_fit": null,
       "object_position": null
      }
     },
     "c0e094199242410eb085e42810dac4ea": {
      "model_module": "@jupyter-widgets/controls",
      "model_module_version": "1.5.0",
      "model_name": "SliderStyleModel",
      "state": {
       "_model_module_version": "1.5.0",
       "_view_module_version": "1.2.0",
       "description_width": ""
      }
     },
     "c23213a1874341f7ba3390f8c458984a": {
      "model_module": "@jupyter-widgets/controls",
      "model_module_version": "1.5.0",
      "model_name": "PlayModel",
      "state": {
       "_model_module_version": "1.5.0",
       "_view_module_version": "1.5.0",
       "interval": 500,
       "layout": "IPY_MODEL_033a4b256604434093beff317eadd054",
       "max": 30,
       "style": "IPY_MODEL_5c9f88e51d0d48218c94bc08e842dd9b",
       "value": 30
      }
     },
     "d8d4f999ce504f56b39287f24e0d32cb": {
      "model_module": "@jupyter-widgets/base",
      "model_module_version": "1.2.0",
      "model_name": "LayoutModel",
      "state": {
       "_model_module_version": "1.2.0",
       "_view_module_version": "1.2.0",
       "justify_items": null,
       "object_fit": null,
       "object_position": null
      }
     },
     "da0ad3b3e46b4fd5856b01998991aecc": {
      "model_module": "@jupyter-widgets/controls",
      "model_module_version": "1.5.0",
      "model_name": "IntSliderModel",
      "state": {
       "_model_module_version": "1.5.0",
       "_view_module_version": "1.5.0",
       "description": "step",
       "layout": "IPY_MODEL_d8d4f999ce504f56b39287f24e0d32cb",
       "max": 50,
       "style": "IPY_MODEL_2dffcf08c09d47828550d2e0bdde5fc2",
       "value": 30
      }
     },
     "e002e8fcaf3e40418c319d7487bada46": {
      "model_module": "@jupyter-widgets/base",
      "model_module_version": "1.2.0",
      "model_name": "LayoutModel",
      "state": {
       "_model_module_version": "1.2.0",
       "_view_module_version": "1.2.0",
       "justify_items": null,
       "object_fit": null,
       "object_position": null
      }
     },
     "e3fc4a0ad8404d1c97fec58dd1f62e5c": {
      "model_module": "@jupyter-widgets/controls",
      "model_module_version": "1.5.0",
      "model_name": "FloatSliderModel",
      "state": {
       "_model_module_version": "1.5.0",
       "_view_module_version": "1.5.0",
       "description": "cube_alpha",
       "layout": "IPY_MODEL_50ae0d3af9664cf799037cc23bba7979",
       "max": 1,
       "step": 0.1,
       "style": "IPY_MODEL_83cd15deaf1946b1a490372f85da797d",
       "value": 0.5
      }
     },
     "e7484af00b92486bbdf002b3766ad424": {
      "model_module": "@jupyter-widgets/controls",
      "model_module_version": "1.5.0",
      "model_name": "TextModel",
      "state": {
       "_model_module_version": "1.5.0",
       "_view_module_version": "1.5.0",
       "description": "structure",
       "layout": "IPY_MODEL_16f9c72821d64ad88853a85831f5141e",
       "style": "IPY_MODEL_4365e62e99464106b87011504932e75d",
       "value": "00101010111101011101101110"
      }
     },
     "ee32aa71b8cf459c825ea1d118b04932": {
      "model_module": "@jupyter-widgets/controls",
      "model_module_version": "1.5.0",
      "model_name": "HBoxModel",
      "state": {
       "_model_module_version": "1.5.0",
       "_view_module_version": "1.5.0",
       "children": [
        "IPY_MODEL_076790b469f343faa9f1050eb496fdde",
        "IPY_MODEL_e7484af00b92486bbdf002b3766ad424"
       ],
       "layout": "IPY_MODEL_44e57f488c0748e69b353b0a146ad876"
      }
     },
     "f09f8ce432114b648d182cda1996c7bb": {
      "model_module": "@jupyter-widgets/controls",
      "model_module_version": "1.5.0",
      "model_name": "DescriptionStyleModel",
      "state": {
       "_model_module_version": "1.5.0",
       "_view_module_version": "1.2.0",
       "description_width": ""
      }
     },
     "f6a15f7ee50d481e9af4bee6f171e47d": {
      "model_module": "@jupyter-widgets/base",
      "model_module_version": "1.2.0",
      "model_name": "LayoutModel",
      "state": {
       "_model_module_version": "1.2.0",
       "_view_module_version": "1.2.0",
       "justify_items": null,
       "object_fit": null,
       "object_position": null
      }
     },
     "f7e8a98f92a84d5dad2acc84747342e3": {
      "model_module": "@jupyter-widgets/base",
      "model_module_version": "1.2.0",
      "model_name": "LayoutModel",
      "state": {
       "_model_module_version": "1.2.0",
       "_view_module_version": "1.2.0",
       "justify_items": null,
       "object_fit": null,
       "object_position": null
      }
     }
    },
    "version_major": 2,
    "version_minor": 0
   }
  }
 },
 "nbformat": 4,
 "nbformat_minor": 2
}

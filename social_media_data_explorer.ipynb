{
 "cells": [
  {
   "cell_type": "markdown",
   "metadata": {},
   "source": [
    "# Social Media Data Explorer\n",
    "\n",
    "We can create an app that allows us to easily explore social media data."
   ]
  },
  {
   "cell_type": "markdown",
   "metadata": {},
   "source": [
    "## Prerequisites"
   ]
  },
  {
   "cell_type": "markdown",
   "metadata": {},
   "source": [
    "### Imports"
   ]
  },
  {
   "cell_type": "code",
   "execution_count": 1,
   "metadata": {
    "ExecuteTime": {
     "end_time": "2019-09-24T20:03:02.959860Z",
     "start_time": "2019-09-24T20:03:02.366972Z"
    }
   },
   "outputs": [],
   "source": [
    "import pandas as pd\n",
    "import seaborn as sns\n",
    "import numpy as np\n",
    "import ipywidgets as widgets\n",
    "from ipywidgets import interact, interactive, fixed, interact_manual, Layout, interactive_output\n",
    "from IPython.display import display, HTML\n",
    "from getpass import getpass\n",
    "from matplotlib import pyplot as plt\n",
    "import geopandas as gpd\n",
    "import os\n",
    "import matplotlib.colors as colors"
   ]
  },
  {
   "cell_type": "markdown",
   "metadata": {},
   "source": [
    "### Styling"
   ]
  },
  {
   "cell_type": "code",
   "execution_count": 2,
   "metadata": {
    "ExecuteTime": {
     "end_time": "2019-09-24T20:03:02.964894Z",
     "start_time": "2019-09-24T20:03:02.961403Z"
    }
   },
   "outputs": [
    {
     "data": {
      "text/html": [
       "<style>.container { width:80% !important; }</style>"
      ],
      "text/plain": [
       "<IPython.core.display.HTML object>"
      ]
     },
     "metadata": {},
     "output_type": "display_data"
    }
   ],
   "source": [
    "display(HTML(\"<style>.container { width:80% !important; }</style>\"))\n",
    "pd.set_option('display.max_colwidth', -1)"
   ]
  },
  {
   "cell_type": "markdown",
   "metadata": {},
   "source": [
    "## Data"
   ]
  },
  {
   "cell_type": "code",
   "execution_count": 3,
   "metadata": {
    "ExecuteTime": {
     "end_time": "2019-09-24T20:03:02.992316Z",
     "start_time": "2019-09-24T20:03:02.966015Z"
    }
   },
   "outputs": [],
   "source": [
    "df = pd.read_csv('HUMAN_public_social_media.csv')\n",
    "df.set_index('uniqueid', inplace=True)\n",
    "df = df.replace('[]', np.nan)"
   ]
  },
  {
   "cell_type": "markdown",
   "metadata": {},
   "source": [
    "## Definitions"
   ]
  },
  {
   "cell_type": "markdown",
   "metadata": {
    "heading_collapsed": true
   },
   "source": [
    "### Pagination"
   ]
  },
  {
   "cell_type": "code",
   "execution_count": 4,
   "metadata": {
    "ExecuteTime": {
     "end_time": "2019-09-24T20:03:02.999712Z",
     "start_time": "2019-09-24T20:03:02.993668Z"
    },
    "hidden": true
   },
   "outputs": [],
   "source": [
    "def paginate_df(df, nb_items = 10):\n",
    "    def show_df(df, page):\n",
    "        display(df.head(page*nb_items).tail(nb_items))\n",
    "        \n",
    "    def show_next(change):\n",
    "        pagination_slider.value += change\n",
    "        \n",
    "    def get_pagination_buttons():\n",
    "        next_button = widgets.Button(layout=widgets.Layout(width='30px'), icon='chevron-right')\n",
    "        next_button.on_click(lambda _: show_next(1))\n",
    "        prev_button = widgets.Button(layout=widgets.Layout(width='30px'), icon='chevron-left')\n",
    "        prev_button.on_click(lambda _: show_next(-1))\n",
    "        return [prev_button, next_button]\n",
    "    \n",
    "    nb_rows = widgets.Label(value = '{} rows'.format(len(df)))\n",
    "    \n",
    "    if len(df) > nb_items:\n",
    "        nb_pages = int(np.ceil(len(df)/nb_items))\n",
    "        pagination_slider = widgets.IntSlider(value=1, min = 1, max = nb_pages, layout=Layout(width='60%'))\n",
    "        pagination_slider_label = widgets.Label(value = 'of {} pages with '.format(nb_pages))\n",
    "\n",
    "        pagination_controls = widgets.HBox([pagination_slider, pagination_slider_label, nb_rows, *get_pagination_buttons()])\n",
    "        paginated_table = interactive_output(show_df, dict(df=fixed(df), page = pagination_slider))\n",
    "        display(pagination_controls, paginated_table)\n",
    "    else:\n",
    "        display(nb_rows, df)"
   ]
  },
  {
   "cell_type": "markdown",
   "metadata": {
    "heading_collapsed": true
   },
   "source": [
    "### Plotting Columns"
   ]
  },
  {
   "cell_type": "code",
   "execution_count": 5,
   "metadata": {
    "ExecuteTime": {
     "end_time": "2019-09-24T20:03:03.007746Z",
     "start_time": "2019-09-24T20:03:03.001024Z"
    },
    "hidden": true
   },
   "outputs": [],
   "source": [
    "def plot_column_dist(df: pd.DataFrame, column:str, nb_to_plot = 10):\n",
    "    def is_text(vals):\n",
    "        if type(vals.dropna().values[0]) != str:\n",
    "            return False\n",
    "        \n",
    "        mean_nb_tokens = vals.dropna().str.split(' ').apply(len).mean()\n",
    "        return mean_nb_tokens > 3\n",
    "    \n",
    "    def is_numeric(vals):\n",
    "        return all(vals.apply(type).unique() == float) and len(vals.unique()) > nb_to_plot and not any(vals.isna())\n",
    "    \n",
    "    vals = df[column]\n",
    "    if len(vals.dropna()) == 0:\n",
    "        plt.title('No values to plot'), plt.show()\n",
    "        return\n",
    "    \n",
    "    if is_numeric(vals):\n",
    "        sns.distplot(vals)\n",
    "    else:\n",
    "        if type(vals.dropna().values[0]) in (list, tuple, set) or is_text(vals):\n",
    "            if is_text(vals):\n",
    "                vals = vals.str.split(' ')\n",
    "                vals.name = 'tokens'\n",
    "            concat_series = pd.Series(np.concatenate(vals.dropna().values))\n",
    "            counts = pd.DataFrame(concat_series.value_counts())\n",
    "        else:\n",
    "            counts = pd.DataFrame(vals.value_counts())\n",
    "        counts.head(nb_to_plot).plot(kind='bar', label = vals.name)\n",
    "    plt.tight_layout(), plt.grid(), plt.title(str(nb_to_plot) + ' most frequent ' + vals.name), plt.show()"
   ]
  },
  {
   "cell_type": "markdown",
   "metadata": {},
   "source": [
    "### Filtering DataFrames"
   ]
  },
  {
   "cell_type": "code",
   "execution_count": 6,
   "metadata": {
    "ExecuteTime": {
     "end_time": "2019-09-24T20:03:03.014424Z",
     "start_time": "2019-09-24T20:03:03.009276Z"
    }
   },
   "outputs": [],
   "source": [
    "def filter_df(df, order_by = 'uniqueid', ascending = True, required = [], search_column=None, search_term=''):\n",
    "    df = df.sort_values(order_by, ascending=ascending)\n",
    "    \n",
    "    if len(required) > 0:\n",
    "        df = df.dropna(subset=required)\n",
    "    \n",
    "    if search_term not in (None, '') and search_column in df.keys():\n",
    "        df = df[df[search_column].astype(str).str.lower().str.contains(search_term.lower())]\n",
    "    \n",
    "    return df\n",
    "    \n",
    "def show_filtered_df(df, order_by = 'uniqueid', ascending = True, nb_items = 10, required = [], search_column=None, search_term=''):\n",
    "    df = filter_df(df, order_by=order_by, ascending=ascending, required=required, search_column=search_column, search_term=search_term)\n",
    "    paginate_df(df, nb_items=nb_items)"
   ]
  },
  {
   "cell_type": "markdown",
   "metadata": {},
   "source": [
    "### Table App"
   ]
  },
  {
   "cell_type": "code",
   "execution_count": 7,
   "metadata": {
    "ExecuteTime": {
     "end_time": "2019-09-24T20:03:03.025616Z",
     "start_time": "2019-09-24T20:03:03.015649Z"
    },
    "scrolled": false
   },
   "outputs": [],
   "source": [
    "def table_app(df):\n",
    "    def save_filtered_data(_):\n",
    "        filtered_df = filter_df(df, order_by=order_by.value, ascending=ascending.value, required=filter_selector.value, \n",
    "                                search_column=search_column.value, search_term=search_term.value)\n",
    "        filtered_df.to_csv(save_fn.value)\n",
    "        save_status.value = '\\t  sucessfully saved {} rows as {}.'.format(len(filtered_df), save_fn.value)\n",
    "            \n",
    "    def plot_filtered(df, required, search_column, search_term, plot_column):\n",
    "        filtered_df = filter_df(df, required = required, search_column=search_column, search_term=search_term)\n",
    "        plot_column_dist(df=filtered_df, column = plot_column)\n",
    "        \n",
    "    nb_items = widgets.Dropdown(options = [10, 20, 50], description = 'items per page', \n",
    "                                layout = Layout(width = '20%'))\n",
    "    order_by = widgets.Dropdown(options = df.keys(), description='order by')\n",
    "    ascending = widgets.ToggleButton(value=True, description = 'ascending')\n",
    "    sorting = widgets.HBox([order_by, ascending, nb_items], layout=Layout(height = '50px'))\n",
    "\n",
    "    filter_selector = widgets.SelectMultiple(options = df.keys())\n",
    "    \n",
    "    filter_tip = widgets.VBox([widgets.HTML('Select multiple by dragging or ctrl + click'),\n",
    "                               widgets.HTML('Deselect with ctrl + click')])\n",
    "    filtering = widgets.HBox([filter_selector, filter_tip])\n",
    "\n",
    "    save_button = widgets.Button(description='save')\n",
    "    save_fn = widgets.Text('filtered_data.csv')\n",
    "    save_button.on_click(save_filtered_data)\n",
    "    save_status = widgets.Label()\n",
    "    saving = widgets.HBox([save_fn, save_button, save_status])\n",
    "    \n",
    "    search_term = widgets.Text('', tooltip = 'Search')\n",
    "    search_column = widgets.Dropdown(options = df.keys())\n",
    "    plot_column = widgets.Dropdown(options = df.keys())\n",
    "    \n",
    "    column_dist = interactive_output(plot_filtered, dict(df=fixed(df), search_column = search_column, required = filter_selector, \n",
    "                                                         search_term=search_term, plot_column = plot_column))\n",
    "    column_plot_box = widgets.VBox([widgets.Label('Plot Columns'), plot_column, column_dist])\n",
    "    search_box = widgets.VBox([widgets.Label('Search Columns'), search_column, search_term])\n",
    "    searching = widgets.TwoByTwoLayout(top_left = search_box, top_right = column_plot_box)\n",
    "    widgets.dlink((search_column, 'value'), (plot_column, 'value'))\n",
    "\n",
    "    accordion = widgets.Tab(children=[sorting, filtering, searching, saving])\n",
    "    accordion.set_title(0, 'Sorting')\n",
    "    accordion.set_title(1, 'Required Values')\n",
    "    accordion.set_title(2, 'Searching')\n",
    "    accordion.set_title(3, 'Save filtered Data')\n",
    "\n",
    "    interactive_table = interactive_output(show_filtered_df, \n",
    "                                           dict(df=fixed(df), order_by = order_by, nb_items = nb_items, required = filter_selector, \n",
    "                                                ascending=ascending, search_column=search_column, search_term=search_term))\n",
    "    display(widgets.VBox([accordion, interactive_table]))"
   ]
  },
  {
   "cell_type": "markdown",
   "metadata": {},
   "source": [
    "### GeoVis"
   ]
  },
  {
   "cell_type": "code",
   "execution_count": 8,
   "metadata": {
    "ExecuteTime": {
     "end_time": "2019-09-24T20:03:03.034833Z",
     "start_time": "2019-09-24T20:03:03.026709Z"
    },
    "scrolled": false
   },
   "outputs": [],
   "source": [
    "def get_nuts_shapes(shp_folder = 'nuts_data'):\n",
    "    def get_fns(directory, condition = lambda x: True):\n",
    "        return list(filter(condition, [directory + '/' + fn for fn in os.listdir(directory)]))\n",
    "\n",
    "    folders = get_fns(shp_folder ,os.path.isdir)\n",
    "    files = np.hstack([get_fns(folder, lambda f: f.endswith('.shp')) for folder in folders])\n",
    "    return pd.concat(list(map(gpd.read_file, files)))\n",
    "\n",
    "def plot_migration(data, nuts_shapes, nuts_ids_column = 'origin', xlim = (-10, 50), ylim = (-10, 50),\n",
    "                  logarithmic =False, levels = [0,1,2,3]):\n",
    "\n",
    "    def plot_nuts_shapes(data, nuts_ids_column, color_column='num_persons', aggregate = True, ax=None):\n",
    "        if ax is None:\n",
    "            ax = plt.subplots()[1]\n",
    "        if aggregate:\n",
    "            data = data.groupby(nuts_ids_column).sum()\n",
    "        data = data[data[color_column] > 0]\n",
    "        \n",
    "        merged_df = pd.merge(data, nuts_shapes, left_on = nuts_ids_column, right_on = 'NUTS_ID')\n",
    "        merged_df.dropna(subset = ['NUTS_ID', color_column], inplace=True)\n",
    "        norm = colors.LogNorm(vmin=0, vmax=merged_df[color_column].max()) if logarithmic else None\n",
    "        gpd.GeoDataFrame(merged_df).plot(cmap='viridis', column = color_column, ax=ax, legend=True, norm=norm, alpha = 0.5)\n",
    "\n",
    "    ax = plt.subplots(figsize = (12,12), dpi=120)[1]\n",
    "    world = gpd.read_file(gpd.datasets.get_path('naturalearth_lowres'))\n",
    "    world[world.continent == 'Europe'].plot(color=(.9,.9,.9), ax=ax)\n",
    "    plot_nuts_shapes(data, nuts_ids_column = nuts_ids_column, ax=ax)\n",
    "    ax.set_xlim(*xlim), ax.set_ylim(*ylim)"
   ]
  },
  {
   "cell_type": "code",
   "execution_count": 9,
   "metadata": {
    "ExecuteTime": {
     "end_time": "2019-09-24T20:03:03.041870Z",
     "start_time": "2019-09-24T20:03:03.036055Z"
    }
   },
   "outputs": [],
   "source": [
    "def geo_vis_app(data):\n",
    "    nuts_shapes = get_nuts_shapes()\n",
    "    avail_levels = sorted(nuts_shapes['LEVL_CODE'].unique())\n",
    "\n",
    "    levels = widgets.Dropdown(options = [*[[l] for l in avail_levels], avail_levels])\n",
    "    column = widgets.Dropdown(options = ['origin', 'destination'])\n",
    "    xlim = widgets.FloatRangeSlider(min=-175, max=175, value = (-10, 60))\n",
    "    ylim = widgets.FloatRangeSlider(min=-175, max=175, value = (-10,80))\n",
    "    logarithmic = widgets.Checkbox(description='logarithmic')\n",
    "    controls = widgets.HBox([column, xlim, ylim, logarithmic, levels])\n",
    "\n",
    "    display(controls, interactive_output(plot_migration, dict(nuts_shapes = fixed(nuts_shapes), data = fixed(data), nuts_ids_column=column, xlim=xlim, ylim=ylim,\n",
    "                                                         logarithmic=logarithmic, levels=levels)))"
   ]
  },
  {
   "cell_type": "markdown",
   "metadata": {},
   "source": [
    "## Table App"
   ]
  },
  {
   "cell_type": "code",
   "execution_count": 10,
   "metadata": {
    "ExecuteTime": {
     "end_time": "2019-09-24T20:03:03.463517Z",
     "start_time": "2019-09-24T20:03:03.043110Z"
    },
    "scrolled": false
   },
   "outputs": [
    {
     "data": {
      "application/vnd.jupyter.widget-view+json": {
       "model_id": "d6290713a8d648ffb206d3a0cfe2bcda",
       "version_major": 2,
       "version_minor": 0
      },
      "text/plain": [
       "VBox(children=(Tab(children=(HBox(children=(Dropdown(description='order by', options=('text', 'text_translated…"
      ]
     },
     "metadata": {},
     "output_type": "display_data"
    }
   ],
   "source": [
    "table_app(df)"
   ]
  },
  {
   "cell_type": "markdown",
   "metadata": {},
   "source": [
    "## GeoVis App"
   ]
  },
  {
   "cell_type": "code",
   "execution_count": 11,
   "metadata": {
    "ExecuteTime": {
     "end_time": "2019-09-24T20:03:05.095384Z",
     "start_time": "2019-09-24T20:03:03.464627Z"
    }
   },
   "outputs": [
    {
     "data": {
      "application/vnd.jupyter.widget-view+json": {
       "model_id": "63d2b7fd1bba45739e73620dc9419058",
       "version_major": 2,
       "version_minor": 0
      },
      "text/plain": [
       "HBox(children=(Dropdown(options=('origin', 'destination'), value='origin'), FloatRangeSlider(value=(-10.0, 60.…"
      ]
     },
     "metadata": {},
     "output_type": "display_data"
    },
    {
     "data": {
      "application/vnd.jupyter.widget-view+json": {
       "model_id": "9099661cff924141aec629e204f71af1",
       "version_major": 2,
       "version_minor": 0
      },
      "text/plain": [
       "Output()"
      ]
     },
     "metadata": {},
     "output_type": "display_data"
    }
   ],
   "source": [
    "geo_vis_app(df)"
   ]
  }
 ],
 "metadata": {
  "kernelspec": {
   "display_name": "Python (h+tf2)",
   "language": "python",
   "name": "h_plus_tf2"
  },
  "language_info": {
   "codemirror_mode": {
    "name": "ipython",
    "version": 3
   },
   "file_extension": ".py",
   "mimetype": "text/x-python",
   "name": "python",
   "nbconvert_exporter": "python",
   "pygments_lexer": "ipython3",
   "version": "3.7.3"
  },
  "toc": {
   "base_numbering": 1,
   "nav_menu": {},
   "number_sections": true,
   "sideBar": true,
   "skip_h1_title": false,
   "title_cell": "Table of Contents",
   "title_sidebar": "Contents",
   "toc_cell": false,
   "toc_position": {
    "height": "calc(100% - 180px)",
    "left": "10px",
    "top": "150px",
    "width": "291.594px"
   },
   "toc_section_display": true,
   "toc_window_display": false
  },
  "varInspector": {
   "cols": {
    "lenName": 16,
    "lenType": 16,
    "lenVar": 40
   },
   "kernels_config": {
    "python": {
     "delete_cmd_postfix": "",
     "delete_cmd_prefix": "del ",
     "library": "var_list.py",
     "varRefreshCmd": "print(var_dic_list())"
    },
    "r": {
     "delete_cmd_postfix": ") ",
     "delete_cmd_prefix": "rm(",
     "library": "var_list.r",
     "varRefreshCmd": "cat(var_dic_list()) "
    }
   },
   "types_to_exclude": [
    "module",
    "function",
    "builtin_function_or_method",
    "instance",
    "_Feature"
   ],
   "window_display": false
  },
  "widgets": {
   "application/vnd.jupyter.widget-state+json": {
    "state": {
     "001b4cc4cc074380b5b50e4680554409": {
      "model_module": "@jupyter-widgets/controls",
      "model_module_version": "1.5.0",
      "model_name": "DescriptionStyleModel",
      "state": {
       "_model_module_version": "1.5.0",
       "_view_module_version": "1.2.0",
       "description_width": ""
      }
     },
     "009a4f2a0ad7415ca0f8653a5ae8d9bd": {
      "model_module": "@jupyter-widgets/controls",
      "model_module_version": "1.5.0",
      "model_name": "LabelModel",
      "state": {
       "_model_module_version": "1.5.0",
       "_view_module_version": "1.5.0",
       "layout": "IPY_MODEL_f5db325e12224c37806725a1287ec060",
       "style": "IPY_MODEL_5835a696aecf44929ee92db1f7a22df4"
      }
     },
     "00f6191c94b84cac86d8677e862a0a4f": {
      "model_module": "@jupyter-widgets/controls",
      "model_module_version": "1.5.0",
      "model_name": "DropdownModel",
      "state": {
       "_model_module_version": "1.5.0",
       "_options_labels": [
        "text",
        "text_translated",
        "media",
        "source",
        "mode",
        "num_persons",
        "_timestamp",
        "confidence",
        "source_reliability",
        "locations",
        "origin_bool",
        "origin",
        "destination",
        "geom_tweet",
        "triage_status"
       ],
       "_view_module_version": "1.5.0",
       "index": 0,
       "layout": "IPY_MODEL_b09cf9f657194a0fa128a3c13c652631",
       "style": "IPY_MODEL_8edcad39b12c4755b591c83fa3966a10"
      }
     },
     "01131946a5a544cab8faea2b9d16671b": {
      "model_module": "@jupyter-widgets/base",
      "model_module_version": "1.2.0",
      "model_name": "LayoutModel",
      "state": {
       "_model_module_version": "1.2.0",
       "_view_module_version": "1.2.0",
       "justify_items": null,
       "object_fit": null,
       "object_position": null
      }
     },
     "011b00cfb4384d9e86a0844cb4c6601b": {
      "model_module": "@jupyter-widgets/controls",
      "model_module_version": "1.5.0",
      "model_name": "DescriptionStyleModel",
      "state": {
       "_model_module_version": "1.5.0",
       "_view_module_version": "1.2.0",
       "description_width": ""
      }
     },
     "018d5916b5cf4269b59cf0154100e994": {
      "model_module": "@jupyter-widgets/controls",
      "model_module_version": "1.5.0",
      "model_name": "HBoxModel",
      "state": {
       "_model_module_version": "1.5.0",
       "_view_module_version": "1.5.0",
       "children": [
        "IPY_MODEL_d89a61eecd24491c9103eb6bf36bde6f",
        "IPY_MODEL_5fe0e28fad524e8bb2dd120e0930a801"
       ],
       "layout": "IPY_MODEL_372207b775b94242aa80e687aa66027c"
      }
     },
     "01cd892381244b0dadfc89548c848b0f": {
      "model_module": "@jupyter-widgets/controls",
      "model_module_version": "1.5.0",
      "model_name": "ButtonModel",
      "state": {
       "_model_module_version": "1.5.0",
       "_view_module_version": "1.5.0",
       "icon": "chevron-right",
       "layout": "IPY_MODEL_8a5418e565364e9da9be180691c65eed",
       "style": "IPY_MODEL_dcad542980534ba79af7d5b14f11ea94"
      }
     },
     "01deab2700e6478c99399b8c7ee39d44": {
      "model_module": "@jupyter-widgets/base",
      "model_module_version": "1.2.0",
      "model_name": "LayoutModel",
      "state": {
       "_model_module_version": "1.2.0",
       "_view_module_version": "1.2.0",
       "justify_items": null,
       "object_fit": null,
       "object_position": null
      }
     },
     "01f0d6334f7d40098205e04547b1f360": {
      "model_module": "@jupyter-widgets/base",
      "model_module_version": "1.2.0",
      "model_name": "LayoutModel",
      "state": {
       "_model_module_version": "1.2.0",
       "_view_module_version": "1.2.0",
       "justify_items": null,
       "object_fit": null,
       "object_position": null,
       "width": "20%"
      }
     },
     "026da3ab25854b58ae0dc1e46e82a281": {
      "model_module": "@jupyter-widgets/base",
      "model_module_version": "1.2.0",
      "model_name": "LayoutModel",
      "state": {
       "_model_module_version": "1.2.0",
       "_view_module_version": "1.2.0",
       "justify_items": null,
       "object_fit": null,
       "object_position": null
      }
     },
     "02a77a355f6941b082621395cc57cba3": {
      "model_module": "@jupyter-widgets/base",
      "model_module_version": "1.2.0",
      "model_name": "LayoutModel",
      "state": {
       "_model_module_version": "1.2.0",
       "_view_module_version": "1.2.0",
       "justify_items": null,
       "object_fit": null,
       "object_position": null
      }
     },
     "02ab731aa350484da00a685a3d35d499": {
      "model_module": "@jupyter-widgets/controls",
      "model_module_version": "1.5.0",
      "model_name": "DropdownModel",
      "state": {
       "_model_module_version": "1.5.0",
       "_options_labels": [
        "text",
        "text_translated",
        "media",
        "source",
        "mode",
        "num_persons",
        "_timestamp",
        "confidence",
        "source_reliability",
        "locations",
        "origin_bool",
        "origin",
        "destination",
        "geom_tweet",
        "triage_status"
       ],
       "_view_module_version": "1.5.0",
       "index": 0,
       "layout": "IPY_MODEL_49b251ee31ea43d1b06f23438fe16763",
       "style": "IPY_MODEL_a4993c5606944908a441f25fb81b0ce7"
      }
     },
     "02c74d01b7a5434b96ad71eadfb8cfcd": {
      "model_module": "@jupyter-widgets/controls",
      "model_module_version": "1.5.0",
      "model_name": "GridBoxModel",
      "state": {
       "_model_module_version": "1.5.0",
       "_view_module_version": "1.5.0",
       "children": [
        "IPY_MODEL_6e08ef3df27e4b428793de0db573269d",
        "IPY_MODEL_cca3a276d5904e0094609bcfd5944440"
       ],
       "layout": "IPY_MODEL_26a81ec989ee4899a59142cc855bfa17"
      }
     },
     "031a3d18e2df4216b1d56a9a719f2697": {
      "model_module": "@jupyter-widgets/controls",
      "model_module_version": "1.5.0",
      "model_name": "LabelModel",
      "state": {
       "_model_module_version": "1.5.0",
       "_view_module_version": "1.5.0",
       "layout": "IPY_MODEL_f2017664d18249f7a8b3269227013b60",
       "style": "IPY_MODEL_d26b03bc4e1b49e8bafd110aa453e453"
      }
     },
     "03214ff9e6be48d7b3b0e1965016b614": {
      "model_module": "@jupyter-widgets/controls",
      "model_module_version": "1.5.0",
      "model_name": "DropdownModel",
      "state": {
       "_model_module_version": "1.5.0",
       "_options_labels": [
        "text",
        "text_translated",
        "media",
        "source",
        "mode",
        "num_persons",
        "_timestamp",
        "confidence",
        "source_reliability",
        "locations",
        "origin_bool",
        "origin",
        "destination",
        "geom_tweet",
        "triage_status"
       ],
       "_view_module_version": "1.5.0",
       "index": 0,
       "layout": "IPY_MODEL_7259d09465fb46f895df295384a09b38",
       "style": "IPY_MODEL_2e870c6812b540cb9a10f68623c15632"
      }
     },
     "03734a66d1204bb6aca20191939ee535": {
      "model_module": "@jupyter-widgets/controls",
      "model_module_version": "1.5.0",
      "model_name": "DescriptionStyleModel",
      "state": {
       "_model_module_version": "1.5.0",
       "_view_module_version": "1.2.0",
       "description_width": ""
      }
     },
     "03f45aa5d94d4afc917b7eeedf7a307d": {
      "model_module": "@jupyter-widgets/base",
      "model_module_version": "1.2.0",
      "model_name": "LayoutModel",
      "state": {
       "_model_module_version": "1.2.0",
       "_view_module_version": "1.2.0",
       "justify_items": null,
       "object_fit": null,
       "object_position": null
      }
     },
     "0440a4af657642a093f3fe4283e08262": {
      "model_module": "@jupyter-widgets/output",
      "model_module_version": "1.0.0",
      "model_name": "OutputModel",
      "state": {
       "layout": "IPY_MODEL_07ff27ddfb644d2db1088a16f2a2ac22",
       "outputs": [
        {
         "data": {
          "text/html": "<div>\n<style scoped>\n    .dataframe tbody tr th:only-of-type {\n        vertical-align: middle;\n    }\n\n    .dataframe tbody tr th {\n        vertical-align: top;\n    }\n\n    .dataframe thead th {\n        text-align: right;\n    }\n</style>\n<table border=\"1\" class=\"dataframe\">\n  <thead>\n    <tr style=\"text-align: right;\">\n      <th></th>\n      <th>text</th>\n      <th>text_translated</th>\n      <th>media</th>\n      <th>source</th>\n      <th>mode</th>\n      <th>num_persons</th>\n      <th>_timestamp</th>\n      <th>confidence</th>\n      <th>source_reliability</th>\n      <th>locations</th>\n      <th>origin_bool</th>\n      <th>origin</th>\n      <th>destination</th>\n      <th>geom_tweet</th>\n      <th>triage_status</th>\n    </tr>\n    <tr>\n      <th>uniqueid</th>\n      <th></th>\n      <th></th>\n      <th></th>\n      <th></th>\n      <th></th>\n      <th></th>\n      <th></th>\n      <th></th>\n      <th></th>\n      <th></th>\n      <th></th>\n      <th></th>\n      <th></th>\n      <th></th>\n      <th></th>\n    </tr>\n  </thead>\n  <tbody>\n    <tr>\n      <th>1</th>\n      <td>الخطوط تنقل 275 مهاجراً من أنقرة إلى بغداد https://t.co/kJF9pQdLet</td>\n      <td>the lines carry 275 migrants from ankara to baghdad</td>\n      <td>NaN</td>\n      <td>twitter</td>\n      <td>NaN</td>\n      <td>275.0</td>\n      <td>2019-12-11 16:31:09.000000</td>\n      <td>0.58</td>\n      <td>0.00</td>\n      <td>['ankara', 'baghdad']</td>\n      <td>NaN</td>\n      <td>TR510</td>\n      <td>NaN</td>\n      <td>01010000003BDF4F8D976E40409CC420B072F84340</td>\n      <td>NaN</td>\n    </tr>\n    <tr>\n      <th>2</th>\n      <td>RT @KAR_SH_313: تم الرفس\\nصيد اليوم من حدود الشرقاط\\n#جاري_تحميل_الرمادي\\nدواعش اليوم سماد الغد\\n\\n#سنرعبهم_في_الاربعين_لبيك_يا_حسين https://t.c…</td>\n      <td>kar sh 313 has been launched todays hunt from the borders of irqat downloads radadi</td>\n      <td>['http://pbs.twimg.com/media/CUSHB2mUAAEg0_w.jpg']</td>\n      <td>twitter</td>\n      <td>NaN</td>\n      <td>313.0</td>\n      <td>2019-12-13 20:49:57.000000</td>\n      <td>0.57</td>\n      <td>0.17</td>\n      <td>[]</td>\n      <td>NaN</td>\n      <td>NaN</td>\n      <td>NaN</td>\n      <td>NaN</td>\n      <td>NaN</td>\n    </tr>\n    <tr>\n      <th>3</th>\n      <td>السلطات التركية توقف 1300 مهاجر قبل إبحارهم إلى اليونان https://t.co/GNWgzhBv5d أخبار</td>\n      <td>turkish authorities stop 1300 migrants before sailing to greece news</td>\n      <td>NaN</td>\n      <td>twitter</td>\n      <td>NaN</td>\n      <td>1300.0</td>\n      <td>2019-12-23 21:31:23.000000</td>\n      <td>0.90</td>\n      <td>0.23</td>\n      <td>['greece']</td>\n      <td>NaN</td>\n      <td>NaN</td>\n      <td>EL</td>\n      <td>010100000000000000000036400000000000804340</td>\n      <td>NaN</td>\n    </tr>\n    <tr>\n      <th>4</th>\n      <td>البحرية الإيطالية: أكثر من 1500 مهاجر تم إنقاذهم قبالة سواحل ليبيا\\n#الموصلية</td>\n      <td>italian navy more than 1500 migrants rescued off the coast of libya</td>\n      <td>NaN</td>\n      <td>twitter</td>\n      <td>NaN</td>\n      <td>1500.0</td>\n      <td>2019-12-26 19:33:11.000000</td>\n      <td>0.68</td>\n      <td>0.83</td>\n      <td>['libya', 'italia']</td>\n      <td>NaN</td>\n      <td>NaN</td>\n      <td>NaN</td>\n      <td>01010000009031772D215F2A40C139234A7B734040</td>\n      <td>NaN</td>\n    </tr>\n    <tr>\n      <th>5</th>\n      <td>RT @20fourMedia: #تركيا توقف لاجئين أثناء توجههم لـ #اليونان\\nhttps://t.co/CjDWK2GH3f https://t.co/21sYzUTGGw</td>\n      <td>20fourmedia turkey stopped refugees while heading for greece</td>\n      <td>['http://pbs.twimg.com/media/CVYfgd9XAAE5JuX.jpg']</td>\n      <td>twitter</td>\n      <td>NaN</td>\n      <td>NaN</td>\n      <td>2019-12-27 12:50:19.000000</td>\n      <td>0.86</td>\n      <td>0.12</td>\n      <td>['greece', 'turkey']</td>\n      <td>NaN</td>\n      <td>NaN</td>\n      <td>NaN</td>\n      <td>010100000000000000000036400000000000804340</td>\n      <td>NaN</td>\n    </tr>\n    <tr>\n      <th>6</th>\n      <td>مقدونيا تفتح حدودها مع اليونان للاجئين  https://t.co/qEdXvrDVI7</td>\n      <td>macedonia opens border with greece for refugees</td>\n      <td>NaN</td>\n      <td>twitter</td>\n      <td>NaN</td>\n      <td>NaN</td>\n      <td>2019-12-27 14:16:27.000000</td>\n      <td>0.79</td>\n      <td>0.85</td>\n      <td>['macedonia', 'greece']</td>\n      <td>NaN</td>\n      <td>NaN</td>\n      <td>NaN</td>\n      <td>0101000000575BB1BFEC6E35400000000000004540</td>\n      <td>NaN</td>\n    </tr>\n    <tr>\n      <th>7</th>\n      <td>RT @paldf: إغلاق #معبر_رفح بعد ظهر اليوم السبت بعد خروج 1526 من #غزة، ودخول 564 من العالقين إلى #غزة، وعودة 36 فلسطينياً كانوا في السجون ال…</td>\n      <td>rafah crossing closed on saturday afternoon after 1526 out of gaza 564 people stranded in gaza and 36 palestinians returned to prison</td>\n      <td>NaN</td>\n      <td>twitter</td>\n      <td>NaN</td>\n      <td>NaN</td>\n      <td>2019-12-28 14:18:28.000000</td>\n      <td>0.74</td>\n      <td>0.29</td>\n      <td>['rafah', 'gaza']</td>\n      <td>NaN</td>\n      <td>NaN</td>\n      <td>NaN</td>\n      <td>01010000009A99999999394140DCD7817346843F40</td>\n      <td>NaN</td>\n    </tr>\n    <tr>\n      <th>8</th>\n      <td>RT @PalinfoAr: إغلاق #معبر_رفح بعد ظهر اليوم السبت بعد خروج 1526 من #غزة، ودخول 564 من العالقين إلى #غزة، وعودة 36 فلسطينياً كانوا في السجو…</td>\n      <td>rafah crossing closed on saturday afternoon after 1526 out of gaza 564 people stranded in gaza 36 palestinians returned</td>\n      <td>NaN</td>\n      <td>twitter</td>\n      <td>NaN</td>\n      <td>NaN</td>\n      <td>2019-12-28 14:22:18.000000</td>\n      <td>0.99</td>\n      <td>0.22</td>\n      <td>['rafah', 'gaza']</td>\n      <td>NaN</td>\n      <td>NaN</td>\n      <td>NaN</td>\n      <td>01010000009A99999999394140DCD7817346843F40</td>\n      <td>NaN</td>\n    </tr>\n    <tr>\n      <th>9</th>\n      <td>RT @AlArabiya_Brk: وسائل إعلام تركية: مقتل 18 مهاجرا بعد غرق قاربهم في بحر إيجه #العربية_عاجل</td>\n      <td>turkish media 18 migrants killed after their boat sank in the aegean sea</td>\n      <td>NaN</td>\n      <td>twitter</td>\n      <td>boat</td>\n      <td>18.0</td>\n      <td>2020-01-11 07:56:14.000000</td>\n      <td>0.51</td>\n      <td>0.37</td>\n      <td>['aegean sea']</td>\n      <td>NaN</td>\n      <td>NaN</td>\n      <td>NaN</td>\n      <td>01010000003333333333F336400000000000804340</td>\n      <td>NaN</td>\n    </tr>\n    <tr>\n      <th>10</th>\n      <td>Retweeted تيّار المستقبل (@Almustaqbal):\\n\\nمقتل 18 مهاجرا غرقا في بحر ايجه\\nhttps://t.co/7fpCjwbEYp https://t.co/jFvFbxRcSz</td>\n      <td>the future stream 18 migrants drowned in aegean sea</td>\n      <td>NaN</td>\n      <td>twitter</td>\n      <td>NaN</td>\n      <td>18.0</td>\n      <td>2020-01-11 11:23:13.000000</td>\n      <td>0.62</td>\n      <td>0.04</td>\n      <td>['aegean sea']</td>\n      <td>NaN</td>\n      <td>NaN</td>\n      <td>NaN</td>\n      <td>01010000003333333333F336400000000000804340</td>\n      <td>NaN</td>\n    </tr>\n  </tbody>\n</table>\n</div>",
          "text/plain": "                                                                                                                                                       text  \\\nuniqueid                                                                                                                                                      \n1         الخطوط تنقل 275 مهاجراً من أنقرة إلى بغداد https://t.co/kJF9pQdLet                                                                                  \n2         RT @KAR_SH_313: تم الرفس\\nصيد اليوم من حدود الشرقاط\\n#جاري_تحميل_الرمادي\\nدواعش اليوم سماد الغد\\n\\n#سنرعبهم_في_الاربعين_لبيك_يا_حسين https://t.c…   \n3         السلطات التركية توقف 1300 مهاجر قبل إبحارهم إلى اليونان https://t.co/GNWgzhBv5d أخبار                                                               \n4         البحرية الإيطالية: أكثر من 1500 مهاجر تم إنقاذهم قبالة سواحل ليبيا\\n#الموصلية                                                                       \n5         RT @20fourMedia: #تركيا توقف لاجئين أثناء توجههم لـ #اليونان\\nhttps://t.co/CjDWK2GH3f https://t.co/21sYzUTGGw                                       \n6         مقدونيا تفتح حدودها مع اليونان للاجئين  https://t.co/qEdXvrDVI7                                                                                     \n7         RT @paldf: إغلاق #معبر_رفح بعد ظهر اليوم السبت بعد خروج 1526 من #غزة، ودخول 564 من العالقين إلى #غزة، وعودة 36 فلسطينياً كانوا في السجون ال…        \n8         RT @PalinfoAr: إغلاق #معبر_رفح بعد ظهر اليوم السبت بعد خروج 1526 من #غزة، ودخول 564 من العالقين إلى #غزة، وعودة 36 فلسطينياً كانوا في السجو…        \n9         RT @AlArabiya_Brk: وسائل إعلام تركية: مقتل 18 مهاجرا بعد غرق قاربهم في بحر إيجه #العربية_عاجل                                                       \n10        Retweeted تيّار المستقبل (@Almustaqbal):\\n\\nمقتل 18 مهاجرا غرقا في بحر ايجه\\nhttps://t.co/7fpCjwbEYp https://t.co/jFvFbxRcSz                        \n\n                                                                                                                                text_translated  \\\nuniqueid                                                                                                                                          \n1         the lines carry 275 migrants from ankara to baghdad                                                                                     \n2         kar sh 313 has been launched todays hunt from the borders of irqat downloads radadi                                                     \n3         turkish authorities stop 1300 migrants before sailing to greece news                                                                    \n4         italian navy more than 1500 migrants rescued off the coast of libya                                                                     \n5         20fourmedia turkey stopped refugees while heading for greece                                                                            \n6         macedonia opens border with greece for refugees                                                                                         \n7         rafah crossing closed on saturday afternoon after 1526 out of gaza 564 people stranded in gaza and 36 palestinians returned to prison   \n8         rafah crossing closed on saturday afternoon after 1526 out of gaza 564 people stranded in gaza 36 palestinians returned                 \n9         turkish media 18 migrants killed after their boat sank in the aegean sea                                                                \n10        the future stream 18 migrants drowned in aegean sea                                                                                     \n\n                                                       media   source  mode  \\\nuniqueid                                                                      \n1         NaN                                                 twitter  NaN    \n2         ['http://pbs.twimg.com/media/CUSHB2mUAAEg0_w.jpg']  twitter  NaN    \n3         NaN                                                 twitter  NaN    \n4         NaN                                                 twitter  NaN    \n5         ['http://pbs.twimg.com/media/CVYfgd9XAAE5JuX.jpg']  twitter  NaN    \n6         NaN                                                 twitter  NaN    \n7         NaN                                                 twitter  NaN    \n8         NaN                                                 twitter  NaN    \n9         NaN                                                 twitter  boat   \n10        NaN                                                 twitter  NaN    \n\n          num_persons                  _timestamp  confidence  \\\nuniqueid                                                        \n1         275.0        2019-12-11 16:31:09.000000  0.58         \n2         313.0        2019-12-13 20:49:57.000000  0.57         \n3         1300.0       2019-12-23 21:31:23.000000  0.90         \n4         1500.0       2019-12-26 19:33:11.000000  0.68         \n5        NaN           2019-12-27 12:50:19.000000  0.86         \n6        NaN           2019-12-27 14:16:27.000000  0.79         \n7        NaN           2019-12-28 14:18:28.000000  0.74         \n8        NaN           2019-12-28 14:22:18.000000  0.99         \n9         18.0         2020-01-11 07:56:14.000000  0.51         \n10        18.0         2020-01-11 11:23:13.000000  0.62         \n\n          source_reliability                locations  origin_bool origin  \\\nuniqueid                                                                    \n1         0.00                ['ankara', 'baghdad']   NaN           TR510   \n2         0.17                []                      NaN           NaN     \n3         0.23                ['greece']              NaN           NaN     \n4         0.83                ['libya', 'italia']     NaN           NaN     \n5         0.12                ['greece', 'turkey']    NaN           NaN     \n6         0.85                ['macedonia', 'greece'] NaN           NaN     \n7         0.29                ['rafah', 'gaza']       NaN           NaN     \n8         0.22                ['rafah', 'gaza']       NaN           NaN     \n9         0.37                ['aegean sea']          NaN           NaN     \n10        0.04                ['aegean sea']          NaN           NaN     \n\n         destination                                  geom_tweet  \\\nuniqueid                                                           \n1         NaN         01010000003BDF4F8D976E40409CC420B072F84340   \n2         NaN         NaN                                          \n3         EL          010100000000000000000036400000000000804340   \n4         NaN         01010000009031772D215F2A40C139234A7B734040   \n5         NaN         010100000000000000000036400000000000804340   \n6         NaN         0101000000575BB1BFEC6E35400000000000004540   \n7         NaN         01010000009A99999999394140DCD7817346843F40   \n8         NaN         01010000009A99999999394140DCD7817346843F40   \n9         NaN         01010000003333333333F336400000000000804340   \n10        NaN         01010000003333333333F336400000000000804340   \n\n          triage_status  \nuniqueid                 \n1        NaN             \n2        NaN             \n3        NaN             \n4        NaN             \n5        NaN             \n6        NaN             \n7        NaN             \n8        NaN             \n9        NaN             \n10       NaN             "
         },
         "metadata": {},
         "output_type": "display_data"
        }
       ]
      }
     },
     "048bba15471043839ae320e23824985c": {
      "model_module": "@jupyter-widgets/base",
      "model_module_version": "1.2.0",
      "model_name": "LayoutModel",
      "state": {
       "_model_module_version": "1.2.0",
       "_view_module_version": "1.2.0",
       "grid_template_areas": "\"top-left top-right\"\n\"top-left top-right\"",
       "grid_template_columns": "1fr 1fr",
       "grid_template_rows": "1fr 1fr",
       "justify_items": null,
       "object_fit": null,
       "object_position": null
      }
     },
     "05178f07e53e482cac53f17cefa4a6c7": {
      "model_module": "@jupyter-widgets/controls",
      "model_module_version": "1.5.0",
      "model_name": "HTMLModel",
      "state": {
       "_model_module_version": "1.5.0",
       "_view_module_version": "1.5.0",
       "layout": "IPY_MODEL_6afbc8a5492f42be8aee077eb2552103",
       "style": "IPY_MODEL_fb0ef511b71d4821a4e43ae741fd8903",
       "value": "<h3>Save filtered Data</h3>"
      }
     },
     "0535936cf27f454293efcbb520b7f3d8": {
      "model_module": "@jupyter-widgets/controls",
      "model_module_version": "1.5.0",
      "model_name": "DropdownModel",
      "state": {
       "_model_module_version": "1.5.0",
       "_options_labels": [
        "text",
        "text_translated",
        "media",
        "source",
        "mode",
        "num_persons",
        "_timestamp",
        "confidence",
        "source_reliability",
        "locations",
        "origin_bool",
        "origin",
        "destination",
        "geom_tweet",
        "triage_status"
       ],
       "_view_module_version": "1.5.0",
       "description": "order by",
       "index": 0,
       "layout": "IPY_MODEL_f3f7d543317e4606821f6755ba07a06c",
       "style": "IPY_MODEL_6ff497fccede43afb5ce893ba7824d09"
      }
     },
     "054cca4830704ebdb5dda9a2d6b219e6": {
      "model_module": "@jupyter-widgets/base",
      "model_module_version": "1.2.0",
      "model_name": "LayoutModel",
      "state": {
       "_model_module_version": "1.2.0",
       "_view_module_version": "1.2.0",
       "justify_items": null,
       "object_fit": null,
       "object_position": null
      }
     },
     "05a89d8895b64f9dbd565200bc26423d": {
      "model_module": "@jupyter-widgets/controls",
      "model_module_version": "1.5.0",
      "model_name": "IntSliderModel",
      "state": {
       "_model_module_version": "1.5.0",
       "_view_module_version": "1.5.0",
       "layout": "IPY_MODEL_c3bc201ecf0d4788bed818fe15bc9133",
       "max": 266,
       "min": 1,
       "style": "IPY_MODEL_e5c07b647f6840fe8198e8902a6e8972",
       "value": 1
      }
     },
     "05ff690c368f4e04b7e35298dbea6626": {
      "model_module": "@jupyter-widgets/controls",
      "model_module_version": "1.5.0",
      "model_name": "VBoxModel",
      "state": {
       "_model_module_version": "1.5.0",
       "_view_module_version": "1.5.0",
       "children": [
        "IPY_MODEL_59cd3abf9eaa430c85837881e7202810",
        "IPY_MODEL_26eca858b95e4e248f68a7792ff54834"
       ],
       "layout": "IPY_MODEL_607f5142a784496db5f74836b4fc6450"
      }
     },
     "0612832ec4784d949c5539fb173d0dcc": {
      "model_module": "@jupyter-widgets/base",
      "model_module_version": "1.2.0",
      "model_name": "LayoutModel",
      "state": {
       "_model_module_version": "1.2.0",
       "_view_module_version": "1.2.0",
       "grid_area": "top-right",
       "justify_items": null,
       "object_fit": null,
       "object_position": null
      }
     },
     "0628bb2dbbeb4c6bb7675b09969f8104": {
      "model_module": "@jupyter-widgets/base",
      "model_module_version": "1.2.0",
      "model_name": "LayoutModel",
      "state": {
       "_model_module_version": "1.2.0",
       "_view_module_version": "1.2.0",
       "justify_items": null,
       "object_fit": null,
       "object_position": null
      }
     },
     "067d83108f464bcd90175735772c3bbf": {
      "model_module": "@jupyter-widgets/controls",
      "model_module_version": "1.5.0",
      "model_name": "LabelModel",
      "state": {
       "_model_module_version": "1.5.0",
       "_view_module_version": "1.5.0",
       "layout": "IPY_MODEL_3c082bafa63e496587a159b868d51e0a",
       "style": "IPY_MODEL_848d5cf88b2a42dbb0efec3ad48d4400",
       "value": "Search Columns"
      }
     },
     "069817cbf20e44e99cdf69732c70c862": {
      "model_module": "@jupyter-widgets/base",
      "model_module_version": "1.2.0",
      "model_name": "LayoutModel",
      "state": {
       "_model_module_version": "1.2.0",
       "_view_module_version": "1.2.0",
       "height": "50px",
       "justify_items": null,
       "object_fit": null,
       "object_position": null
      }
     },
     "069cd56d714b4f57953dd97dbffd05e7": {
      "model_module": "@jupyter-widgets/base",
      "model_module_version": "1.2.0",
      "model_name": "LayoutModel",
      "state": {
       "_model_module_version": "1.2.0",
       "_view_module_version": "1.2.0",
       "justify_items": null,
       "object_fit": null,
       "object_position": null
      }
     },
     "06dc05fecb394f59befc26e2e0289225": {
      "model_module": "@jupyter-widgets/controls",
      "model_module_version": "1.5.0",
      "model_name": "ButtonModel",
      "state": {
       "_model_module_version": "1.5.0",
       "_view_module_version": "1.5.0",
       "icon": "chevron-right",
       "layout": "IPY_MODEL_19c2f7afc2434ea6a7ee29d8c6b27ef5",
       "style": "IPY_MODEL_06e692fdfa4349f68c0291dce6ed16b5"
      }
     },
     "06e692fdfa4349f68c0291dce6ed16b5": {
      "model_module": "@jupyter-widgets/controls",
      "model_module_version": "1.5.0",
      "model_name": "ButtonStyleModel",
      "state": {
       "_model_module_version": "1.5.0",
       "_view_module_version": "1.2.0"
      }
     },
     "06eceebb989c497abaa21f4467d3345b": {
      "model_module": "@jupyter-widgets/base",
      "model_module_version": "1.2.0",
      "model_name": "LayoutModel",
      "state": {
       "_model_module_version": "1.2.0",
       "_view_module_version": "1.2.0",
       "justify_items": null,
       "object_fit": null,
       "object_position": null
      }
     },
     "074446b724504c7997d193de8e57b5c7": {
      "model_module": "@jupyter-widgets/base",
      "model_module_version": "1.2.0",
      "model_name": "LayoutModel",
      "state": {
       "_model_module_version": "1.2.0",
       "_view_module_version": "1.2.0",
       "justify_items": null,
       "object_fit": null,
       "object_position": null
      }
     },
     "07784e5c55364c9dadb26ad47de53345": {
      "model_module": "@jupyter-widgets/controls",
      "model_module_version": "1.5.0",
      "model_name": "DropdownModel",
      "state": {
       "_model_module_version": "1.5.0",
       "_options_labels": [
        "text",
        "text_translated",
        "media",
        "source",
        "mode",
        "num_persons",
        "_timestamp",
        "confidence",
        "source_reliability",
        "locations",
        "origin_bool",
        "origin",
        "destination",
        "geom_tweet",
        "triage_status"
       ],
       "_view_module_version": "1.5.0",
       "index": 0,
       "layout": "IPY_MODEL_2823b295e8b04309b384e77cd432a5f8",
       "style": "IPY_MODEL_e57e6ecf8cb349aca0ee52982695cf58"
      }
     },
     "07af942821f842c09fe162011bc90999": {
      "model_module": "@jupyter-widgets/base",
      "model_module_version": "1.2.0",
      "model_name": "LayoutModel",
      "state": {
       "_model_module_version": "1.2.0",
       "_view_module_version": "1.2.0",
       "justify_items": null,
       "object_fit": null,
       "object_position": null
      }
     },
     "07d8bff1264a4542be4ab43f4bac5b95": {
      "model_module": "@jupyter-widgets/controls",
      "model_module_version": "1.5.0",
      "model_name": "ButtonStyleModel",
      "state": {
       "_model_module_version": "1.5.0",
       "_view_module_version": "1.2.0"
      }
     },
     "07ff27ddfb644d2db1088a16f2a2ac22": {
      "model_module": "@jupyter-widgets/base",
      "model_module_version": "1.2.0",
      "model_name": "LayoutModel",
      "state": {
       "_model_module_version": "1.2.0",
       "_view_module_version": "1.2.0",
       "justify_items": null,
       "object_fit": null,
       "object_position": null
      }
     },
     "07ff9add0bd1442284245fc119f77038": {
      "model_module": "@jupyter-widgets/base",
      "model_module_version": "1.2.0",
      "model_name": "LayoutModel",
      "state": {
       "_model_module_version": "1.2.0",
       "_view_module_version": "1.2.0",
       "height": "50px",
       "justify_items": null,
       "object_fit": null,
       "object_position": null
      }
     },
     "08fe2ab621764cfea3f386e428911e95": {
      "model_module": "@jupyter-widgets/controls",
      "model_module_version": "1.5.0",
      "model_name": "DescriptionStyleModel",
      "state": {
       "_model_module_version": "1.5.0",
       "_view_module_version": "1.2.0",
       "description_width": ""
      }
     },
     "09f0d3e46ee441438eaed8b67fe16568": {
      "model_module": "@jupyter-widgets/controls",
      "model_module_version": "1.5.0",
      "model_name": "ButtonModel",
      "state": {
       "_model_module_version": "1.5.0",
       "_view_module_version": "1.5.0",
       "icon": "chevron-right",
       "layout": "IPY_MODEL_e92b0091ff784130a1ab050700d0ddcd",
       "style": "IPY_MODEL_3f8120e47c444b328beeeba44a6fd9f1"
      }
     },
     "09f97fe596ea4a909b173de324f81547": {
      "model_module": "@jupyter-widgets/base",
      "model_module_version": "1.2.0",
      "model_name": "LayoutModel",
      "state": {
       "_model_module_version": "1.2.0",
       "_view_module_version": "1.2.0",
       "justify_items": null,
       "object_fit": null,
       "object_position": null
      }
     },
     "0a05928989a04cbcab72196d6b0ca442": {
      "model_module": "@jupyter-widgets/controls",
      "model_module_version": "1.5.0",
      "model_name": "DescriptionStyleModel",
      "state": {
       "_model_module_version": "1.5.0",
       "_view_module_version": "1.2.0",
       "description_width": ""
      }
     },
     "0add6be8b39c41c59e6d284f2c174f45": {
      "model_module": "@jupyter-widgets/controls",
      "model_module_version": "1.5.0",
      "model_name": "SliderStyleModel",
      "state": {
       "_model_module_version": "1.5.0",
       "_view_module_version": "1.2.0",
       "description_width": ""
      }
     },
     "0b3b13bc684640bba550e41befa58089": {
      "model_module": "@jupyter-widgets/controls",
      "model_module_version": "1.5.0",
      "model_name": "DropdownModel",
      "state": {
       "_model_module_version": "1.5.0",
       "_options_labels": [
        "text",
        "text_translated",
        "media",
        "source",
        "mode",
        "num_persons",
        "_timestamp",
        "confidence",
        "source_reliability",
        "locations",
        "origin_bool",
        "origin",
        "destination",
        "geom_tweet",
        "triage_status"
       ],
       "_view_module_version": "1.5.0",
       "description": "order by",
       "index": 0,
       "layout": "IPY_MODEL_ef6ec974179847e08632c45284e3483d",
       "style": "IPY_MODEL_e80c60ebc85440e58815e4386f9248e0"
      }
     },
     "0c3aa21ab2cf4e688c07e423ac68ac29": {
      "model_module": "@jupyter-widgets/base",
      "model_module_version": "1.2.0",
      "model_name": "LayoutModel",
      "state": {
       "_model_module_version": "1.2.0",
       "_view_module_version": "1.2.0",
       "justify_items": null,
       "object_fit": null,
       "object_position": null
      }
     },
     "0c9811afd2d24f68a555f50fa19bdac2": {
      "model_module": "@jupyter-widgets/controls",
      "model_module_version": "1.5.0",
      "model_name": "DescriptionStyleModel",
      "state": {
       "_model_module_version": "1.5.0",
       "_view_module_version": "1.2.0",
       "description_width": ""
      }
     },
     "0ca20c76117a44eeb5331306a842e2db": {
      "model_module": "@jupyter-widgets/base",
      "model_module_version": "1.2.0",
      "model_name": "LayoutModel",
      "state": {
       "_model_module_version": "1.2.0",
       "_view_module_version": "1.2.0",
       "justify_items": null,
       "object_fit": null,
       "object_position": null
      }
     },
     "0caee3ceddbf494aae0b4cb0aa5c6beb": {
      "model_module": "@jupyter-widgets/base",
      "model_module_version": "1.2.0",
      "model_name": "LayoutModel",
      "state": {
       "_model_module_version": "1.2.0",
       "_view_module_version": "1.2.0",
       "justify_items": null,
       "object_fit": null,
       "object_position": null,
       "width": "30px"
      }
     },
     "0cb47d9ec1534ba79e5ddc16faf98737": {
      "model_module": "@jupyter-widgets/controls",
      "model_module_version": "1.5.0",
      "model_name": "DropdownModel",
      "state": {
       "_model_module_version": "1.5.0",
       "_options_labels": [
        "10",
        "20",
        "50"
       ],
       "_view_module_version": "1.5.0",
       "description": "items per page",
       "index": 0,
       "layout": "IPY_MODEL_d370f2b0cd214325b4f0cdf28170c689",
       "style": "IPY_MODEL_d540b33bc44b44a18ea78fe587709e7b"
      }
     },
     "0d14232c98e54ceb844143135a418bd2": {
      "model_module": "@jupyter-widgets/controls",
      "model_module_version": "1.5.0",
      "model_name": "DescriptionStyleModel",
      "state": {
       "_model_module_version": "1.5.0",
       "_view_module_version": "1.2.0",
       "description_width": ""
      }
     },
     "0d2ef668701746a880858df62b542406": {
      "model_module": "@jupyter-widgets/base",
      "model_module_version": "1.2.0",
      "model_name": "LayoutModel",
      "state": {
       "_model_module_version": "1.2.0",
       "_view_module_version": "1.2.0",
       "justify_items": null,
       "object_fit": null,
       "object_position": null
      }
     },
     "0d8cfb62a8bb4dd3a141880205bbfb3f": {
      "model_module": "@jupyter-widgets/base",
      "model_module_version": "1.2.0",
      "model_name": "LayoutModel",
      "state": {
       "_model_module_version": "1.2.0",
       "_view_module_version": "1.2.0",
       "justify_items": null,
       "object_fit": null,
       "object_position": null
      }
     },
     "0e0e0f083dbb455598e393c11fe6d4d9": {
      "model_module": "@jupyter-widgets/output",
      "model_module_version": "1.0.0",
      "model_name": "OutputModel",
      "state": {
       "layout": "IPY_MODEL_b4f7126777214d2d8dc645d3d7d2d15b",
       "outputs": [
        {
         "data": {
          "application/vnd.jupyter.widget-view+json": {
           "model_id": "69ad6ce3657b401eadf23598d3b9d8d9",
           "version_major": 2,
           "version_minor": 0
          },
          "text/plain": "VBox(children=(HBox(children=(IntSlider(value=1, layout=Layout(width='60%'), max=266, min=1), Label(value='of …"
         },
         "metadata": {},
         "output_type": "display_data"
        }
       ]
      }
     },
     "0e1acce059194b5b9d9b975d5f774458": {
      "model_module": "@jupyter-widgets/controls",
      "model_module_version": "1.5.0",
      "model_name": "DescriptionStyleModel",
      "state": {
       "_model_module_version": "1.5.0",
       "_view_module_version": "1.2.0",
       "description_width": ""
      }
     },
     "0e9ddf77e2ed48fc9272e76976eed4da": {
      "model_module": "@jupyter-widgets/base",
      "model_module_version": "1.2.0",
      "model_name": "LayoutModel",
      "state": {
       "_model_module_version": "1.2.0",
       "_view_module_version": "1.2.0",
       "grid_area": "top-left",
       "justify_items": null,
       "object_fit": null,
       "object_position": null
      }
     },
     "0ea97fb9fb014f2496edfcf7756c9f96": {
      "model_module": "@jupyter-widgets/controls",
      "model_module_version": "1.5.0",
      "model_name": "DescriptionStyleModel",
      "state": {
       "_model_module_version": "1.5.0",
       "_view_module_version": "1.2.0",
       "description_width": ""
      }
     },
     "0f36316922d94ca982113402af4d2da2": {
      "model_module": "@jupyter-widgets/controls",
      "model_module_version": "1.5.0",
      "model_name": "DescriptionStyleModel",
      "state": {
       "_model_module_version": "1.5.0",
       "_view_module_version": "1.2.0",
       "description_width": ""
      }
     },
     "0f44fde968f44598841cbb188d9e0aa1": {
      "model_module": "@jupyter-widgets/base",
      "model_module_version": "1.2.0",
      "model_name": "LayoutModel",
      "state": {
       "_model_module_version": "1.2.0",
       "_view_module_version": "1.2.0",
       "justify_items": null,
       "object_fit": null,
       "object_position": null
      }
     },
     "0f4e62a391094b95a1cdcbac9db55081": {
      "model_module": "@jupyter-widgets/controls",
      "model_module_version": "1.5.0",
      "model_name": "DescriptionStyleModel",
      "state": {
       "_model_module_version": "1.5.0",
       "_view_module_version": "1.2.0",
       "description_width": ""
      }
     },
     "0f5bd4b9927a484faf8a698430fa5cd8": {
      "model_module": "@jupyter-widgets/controls",
      "model_module_version": "1.5.0",
      "model_name": "VBoxModel",
      "state": {
       "_model_module_version": "1.5.0",
       "_view_module_version": "1.5.0",
       "children": [
        "IPY_MODEL_bbc04435ed314ffa825eda9e2d5b5e9f",
        "IPY_MODEL_2e20333d87ee4c0a936b12913b13e73c",
        "IPY_MODEL_90f20a6464a24b309d84e622cb44d07c"
       ],
       "layout": "IPY_MODEL_93edcc69a5ac425fba65a73073aa41eb"
      }
     },
     "0f7cb65fa70d4008b642de2027e5ea7d": {
      "model_module": "@jupyter-widgets/base",
      "model_module_version": "1.2.0",
      "model_name": "LayoutModel",
      "state": {
       "_model_module_version": "1.2.0",
       "_view_module_version": "1.2.0",
       "justify_items": null,
       "object_fit": null,
       "object_position": null
      }
     },
     "0fc195f8277e43a3852f36c92e123fa4": {
      "model_module": "@jupyter-widgets/controls",
      "model_module_version": "1.5.0",
      "model_name": "VBoxModel",
      "state": {
       "_model_module_version": "1.5.0",
       "_view_module_version": "1.5.0",
       "children": [
        "IPY_MODEL_db59167223404869a4db6694580b76ea",
        "IPY_MODEL_1fcfbfe1aefd4cacac5317c9ef02a408",
        "IPY_MODEL_c6cae9ce89184746b15793f9b23cdded"
       ],
       "layout": "IPY_MODEL_eefee22a3ffc4a17b9f2266fe5567e6d"
      }
     },
     "104df5f85acb4456b0fee4f10fbcbb3d": {
      "model_module": "@jupyter-widgets/controls",
      "model_module_version": "1.5.0",
      "model_name": "DropdownModel",
      "state": {
       "_model_module_version": "1.5.0",
       "_options_labels": [
        "10",
        "20",
        "50"
       ],
       "_view_module_version": "1.5.0",
       "description": "items per page",
       "index": 0,
       "layout": "IPY_MODEL_f52521feb3d142fabbaaa3a1c23324b4",
       "style": "IPY_MODEL_418ac549db6c4054b31643aacfec1b2d"
      }
     },
     "10645d0d1c8a4f1a817558b22bdc46e5": {
      "model_module": "@jupyter-widgets/base",
      "model_module_version": "1.2.0",
      "model_name": "LayoutModel",
      "state": {
       "_model_module_version": "1.2.0",
       "_view_module_version": "1.2.0",
       "justify_items": null,
       "object_fit": null,
       "object_position": null,
       "width": "30px"
      }
     },
     "10f1a23aaa8d4645be8a311318b88d10": {
      "model_module": "@jupyter-widgets/controls",
      "model_module_version": "1.5.0",
      "model_name": "HBoxModel",
      "state": {
       "_model_module_version": "1.5.0",
       "_view_module_version": "1.5.0",
       "children": [
        "IPY_MODEL_a98d0d2f3bf04e93a619e8123faf42ad",
        "IPY_MODEL_f42f8276314e4a3d87140eeb2c555f4d"
       ],
       "layout": "IPY_MODEL_18469625f03940b9b2547a664406ea12"
      }
     },
     "110d114a242548f3aa7ba8a1a21f5e56": {
      "model_module": "@jupyter-widgets/controls",
      "model_module_version": "1.5.0",
      "model_name": "DescriptionStyleModel",
      "state": {
       "_model_module_version": "1.5.0",
       "_view_module_version": "1.2.0",
       "description_width": ""
      }
     },
     "11f3c72b84df4ae6907dfce5b6d1e528": {
      "model_module": "@jupyter-widgets/controls",
      "model_module_version": "1.5.0",
      "model_name": "DescriptionStyleModel",
      "state": {
       "_model_module_version": "1.5.0",
       "_view_module_version": "1.2.0",
       "description_width": ""
      }
     },
     "1252a813073d4a2fb555fb5138904df6": {
      "model_module": "@jupyter-widgets/controls",
      "model_module_version": "1.5.0",
      "model_name": "ButtonStyleModel",
      "state": {
       "_model_module_version": "1.5.0",
       "_view_module_version": "1.2.0"
      }
     },
     "12a9946b9a294ecda859a4604890496f": {
      "model_module": "@jupyter-widgets/base",
      "model_module_version": "1.2.0",
      "model_name": "LayoutModel",
      "state": {
       "_model_module_version": "1.2.0",
       "_view_module_version": "1.2.0",
       "justify_items": null,
       "object_fit": null,
       "object_position": null
      }
     },
     "12e15726980b475ead89a1565a1caa75": {
      "model_module": "@jupyter-widgets/controls",
      "model_module_version": "1.5.0",
      "model_name": "VBoxModel",
      "state": {
       "_model_module_version": "1.5.0",
       "_view_module_version": "1.5.0",
       "children": [
        "IPY_MODEL_af29bdd093854b8e93c10f14ad35e07b",
        "IPY_MODEL_02ab731aa350484da00a685a3d35d499",
        "IPY_MODEL_9adb4443d896494dab5c7a91c159928e"
       ],
       "layout": "IPY_MODEL_0612832ec4784d949c5539fb173d0dcc"
      }
     },
     "1366904e0f8048c5b3c6b8ed38f8288c": {
      "model_module": "@jupyter-widgets/base",
      "model_module_version": "1.2.0",
      "model_name": "LayoutModel",
      "state": {
       "_model_module_version": "1.2.0",
       "_view_module_version": "1.2.0",
       "justify_items": null,
       "object_fit": null,
       "object_position": null
      }
     },
     "13992474f8d8409983618e77df986316": {
      "model_module": "@jupyter-widgets/base",
      "model_module_version": "1.2.0",
      "model_name": "LayoutModel",
      "state": {
       "_model_module_version": "1.2.0",
       "_view_module_version": "1.2.0",
       "justify_items": null,
       "object_fit": null,
       "object_position": null,
       "width": "30px"
      }
     },
     "13ffed10c417474b8e0b53e0d62139a7": {
      "model_module": "@jupyter-widgets/base",
      "model_module_version": "1.2.0",
      "model_name": "LayoutModel",
      "state": {
       "_model_module_version": "1.2.0",
       "_view_module_version": "1.2.0",
       "justify_items": null,
       "object_fit": null,
       "object_position": null
      }
     },
     "14741ac5ea444bcdbc0e8c5d333a279d": {
      "model_module": "@jupyter-widgets/controls",
      "model_module_version": "1.5.0",
      "model_name": "VBoxModel",
      "state": {
       "_model_module_version": "1.5.0",
       "_view_module_version": "1.5.0",
       "children": [
        "IPY_MODEL_66e1306bc0c541c0a5e837ce5a0e8328",
        "IPY_MODEL_a698f4fa016a46fe80a851355df3ba05",
        "IPY_MODEL_d3e0efd8c38c4c0885924e2452c4c9fc",
        "IPY_MODEL_fbb59b2a149b4a1a97e79859a70e5642",
        "IPY_MODEL_5514c9c436704652bcd5b387051838a6",
        "IPY_MODEL_c20654cd9cd6459e8218ce7af4d66ec0",
        "IPY_MODEL_a1ad96e8b38e49d1b1ceae8fa627eaa5",
        "IPY_MODEL_facf4e0e0c294b369be64d61ce4d492a"
       ],
       "layout": "IPY_MODEL_97d49fd3328e4ab6b9d8d371c8823831"
      }
     },
     "148b4958b5a54b7eb31378c76135886c": {
      "model_module": "@jupyter-widgets/controls",
      "model_module_version": "1.5.0",
      "model_name": "HBoxModel",
      "state": {
       "_model_module_version": "1.5.0",
       "_view_module_version": "1.5.0",
       "children": [
        "IPY_MODEL_a104beae6d2144afa99999efe8da7564",
        "IPY_MODEL_986981f0791e4ce5b455c61dca6c4642",
        "IPY_MODEL_cc7da331bf014caf8fa1538723212413"
       ],
       "layout": "IPY_MODEL_9771f787e8b749b5ba2adfff90676ca5"
      }
     },
     "14fe2056b5424316a903ba1890728549": {
      "model_module": "@jupyter-widgets/controls",
      "model_module_version": "1.5.0",
      "model_name": "DescriptionStyleModel",
      "state": {
       "_model_module_version": "1.5.0",
       "_view_module_version": "1.2.0",
       "description_width": ""
      }
     },
     "14fe86253200459aaee952fb1777620e": {
      "model_module": "@jupyter-widgets/controls",
      "model_module_version": "1.5.0",
      "model_name": "DescriptionStyleModel",
      "state": {
       "_model_module_version": "1.5.0",
       "_view_module_version": "1.2.0",
       "description_width": ""
      }
     },
     "156d5a44b0234e168a9b47a432962887": {
      "model_module": "@jupyter-widgets/controls",
      "model_module_version": "1.5.0",
      "model_name": "DescriptionStyleModel",
      "state": {
       "_model_module_version": "1.5.0",
       "_view_module_version": "1.2.0",
       "description_width": ""
      }
     },
     "15c34d0ec2ac4df688d1a5d712e9ad89": {
      "model_module": "@jupyter-widgets/output",
      "model_module_version": "1.0.0",
      "model_name": "OutputModel",
      "state": {
       "layout": "IPY_MODEL_069cd56d714b4f57953dd97dbffd05e7",
       "outputs": [
        {
         "data": {
          "text/html": "<div>\n<style scoped>\n    .dataframe tbody tr th:only-of-type {\n        vertical-align: middle;\n    }\n\n    .dataframe tbody tr th {\n        vertical-align: top;\n    }\n\n    .dataframe thead th {\n        text-align: right;\n    }\n</style>\n<table border=\"1\" class=\"dataframe\">\n  <thead>\n    <tr style=\"text-align: right;\">\n      <th></th>\n      <th>text</th>\n      <th>text_translated</th>\n      <th>media</th>\n      <th>source</th>\n      <th>mode</th>\n      <th>num_persons</th>\n      <th>_timestamp</th>\n      <th>confidence</th>\n      <th>source_reliability</th>\n      <th>locations</th>\n      <th>origin_bool</th>\n      <th>origin</th>\n      <th>destination</th>\n      <th>geom_tweet</th>\n      <th>triage_status</th>\n    </tr>\n    <tr>\n      <th>uniqueid</th>\n      <th></th>\n      <th></th>\n      <th></th>\n      <th></th>\n      <th></th>\n      <th></th>\n      <th></th>\n      <th></th>\n      <th></th>\n      <th></th>\n      <th></th>\n      <th></th>\n      <th></th>\n      <th></th>\n      <th></th>\n    </tr>\n  </thead>\n  <tbody>\n    <tr>\n      <th>969</th>\n      <td>\"En Macédoine, les migrants remplissent les trains pour la Serbie - AFP\" en replay sur Android TV Replay http://t.co/k8LZQkCzNh</td>\n      <td>in macedonia migrants fill trains for serbia afp in replay on android tv replay</td>\n      <td>NaN</td>\n      <td>twitter</td>\n      <td>train</td>\n      <td>NaN</td>\n      <td>2019-09-12 04:08:04.000000</td>\n      <td>0.63</td>\n      <td>0.12</td>\n      <td>['macedonia', 'serbia']</td>\n      <td>NaN</td>\n      <td>NaN</td>\n      <td>NaN</td>\n      <td>0101000000575BB1BFEC6E35400000000000004540</td>\n      <td>NaN</td>\n    </tr>\n    <tr>\n      <th>795</th>\n      <td>\"Macedonia, ancora frontiere chiuse. I migranti passano dal filo spinato\" - http://t.co/lt7wNeffC7 http://t.co/jvg5cMgDxk</td>\n      <td>macedonia still closed borders migrants pass by barbed wire</td>\n      <td>['http://pbs.twimg.com/media/CNBxOh7WoAAP-zV.jpg']</td>\n      <td>twitter</td>\n      <td>NaN</td>\n      <td>NaN</td>\n      <td>2019-09-14 16:50:53.000000</td>\n      <td>0.81</td>\n      <td>0.04</td>\n      <td>['macedonia']</td>\n      <td>NaN</td>\n      <td>NaN</td>\n      <td>NaN</td>\n      <td>0101000000575BB1BFEC6E35400000000000004540</td>\n      <td>NaN</td>\n    </tr>\n    <tr>\n      <th>1158</th>\n      <td>\"More than 130,000 #migrants have attempted to cross the Mediterranean in 2015\"  http://t.co/ZOvpUsTx1d</td>\n      <td>more than 130 000 migrants have attempted to cross the mediterranean in 2015</td>\n      <td>NaN</td>\n      <td>twitter</td>\n      <td>NaN</td>\n      <td>NaN</td>\n      <td>2019-07-26 17:47:04.000000</td>\n      <td>0.53</td>\n      <td>0.94</td>\n      <td>[]</td>\n      <td>NaN</td>\n      <td>NaN</td>\n      <td>NaN</td>\n      <td>NaN</td>\n      <td>NaN</td>\n    </tr>\n    <tr>\n      <th>2364</th>\n      <td>\"On Thursday Slovenia reported that 12,000 migrants had arrived in one day - a record in the current crisis in Central Europe.\" - BBC</td>\n      <td>on thursday slovenia reported that 12 000 migrants had arrived in one day a record in the current crisis in central europe bbc</td>\n      <td>NaN</td>\n      <td>twitter</td>\n      <td>NaN</td>\n      <td>NaN</td>\n      <td>2019-11-15 21:14:00.000000</td>\n      <td>0.93</td>\n      <td>0.23</td>\n      <td>['slovenia']</td>\n      <td>NaN</td>\n      <td>NaN</td>\n      <td>NaN</td>\n      <td>0101000000151DC9E53F042D402CD49AE61D074740</td>\n      <td>NaN</td>\n    </tr>\n    <tr>\n      <th>1137</th>\n      <td>\"With Tel Abyad secured, the Syrian Kurds have managed to forge a corridor between Cezire and Kobani. On Monday,... http://t.co/iJDle1SzwW</td>\n      <td>with tel abyad secured the syrian kurds have managed to forge a corridor between cezire and kobani on monday</td>\n      <td>NaN</td>\n      <td>twitter</td>\n      <td>NaN</td>\n      <td>NaN</td>\n      <td>2019-07-10 16:24:53.000000</td>\n      <td>0.71</td>\n      <td>0.24</td>\n      <td>['syria']</td>\n      <td>NaN</td>\n      <td>NaN</td>\n      <td>NaN</td>\n      <td>0101000000E8D9ACFA5C254240EFC9C342ADC14040</td>\n      <td>NaN</td>\n    </tr>\n    <tr>\n      <th>574</th>\n      <td>#2015 Франция закрывает границу с Италией http://t.co/O77dBheZKv</td>\n      <td>2015 france closes the border with italy</td>\n      <td>NaN</td>\n      <td>twitter</td>\n      <td>NaN</td>\n      <td>2015.0</td>\n      <td>2019-07-09 09:59:43.000000</td>\n      <td>0.62</td>\n      <td>1.00</td>\n      <td>['france', 'italy']</td>\n      <td>NaN</td>\n      <td>NaN</td>\n      <td>NaN</td>\n      <td>NaN</td>\n      <td>NaN</td>\n    </tr>\n    <tr>\n      <th>2041</th>\n      <td>#AFP Slovenia to send back train from Croatia carrying 150 migrants - AFP: Slovenia to send back train from Cr... http://t.co/zNEN4XLp7h</td>\n      <td>afp slovenia to send back train from croatia carrying 150 migrants afp slovenia to send back train from cr</td>\n      <td>NaN</td>\n      <td>twitter</td>\n      <td>train</td>\n      <td>150.0</td>\n      <td>2019-10-11 17:14:05.000000</td>\n      <td>0.99</td>\n      <td>0.26</td>\n      <td>['slovenia', 'croatia']</td>\n      <td>NaN</td>\n      <td>HR0</td>\n      <td>NaN</td>\n      <td>0101000000151DC9E53F042D402CD49AE61D074740</td>\n      <td>NaN</td>\n    </tr>\n    <tr>\n      <th>253</th>\n      <td>#AUSTRIA #STANDARD #WIEN broadcastetd by #TheIsraelCompany: Kommentar von Michael Völker - Die Flüchtlinge und ihr... http://t.co/MAn0lwR3vI</td>\n      <td>austria standard vienna broadcastetd by theisraelcompany comment by michael völker the refugees and their</td>\n      <td>NaN</td>\n      <td>twitter</td>\n      <td>NaN</td>\n      <td>NaN</td>\n      <td>2019-09-22 16:16:11.000000</td>\n      <td>0.67</td>\n      <td>0.05</td>\n      <td>['austria', 'vienna', 'israel']</td>\n      <td>NaN</td>\n      <td>NaN</td>\n      <td>NaN</td>\n      <td>010100000076711B0DE05D30409A99999999194840</td>\n      <td>NaN</td>\n    </tr>\n    <tr>\n      <th>397</th>\n      <td>#AUSTRIA #STANDARD #WIEN broadcastetd by #TheIsraelCompany: Syrien - Putin schließt Einsatz von Bodentruppen in Sy... http://t.co/LGKZhvK6c2</td>\n      <td>austria standard vienna broadcastetd by theisraelcompany syria putin closes deployment of ground forces in sy</td>\n      <td>NaN</td>\n      <td>twitter</td>\n      <td>NaN</td>\n      <td>NaN</td>\n      <td>2019-10-21 04:15:59.000000</td>\n      <td>0.51</td>\n      <td>0.06</td>\n      <td>['austria', 'vienna', 'israel', 'syria']</td>\n      <td>NaN</td>\n      <td>NaN</td>\n      <td>NaN</td>\n      <td>010100000076711B0DE05D30409A99999999194840</td>\n      <td>NaN</td>\n    </tr>\n    <tr>\n      <th>959</th>\n      <td>#Afrique La longue marche des migrants qui franchissent les Alpes à pied http://t.co/Way1hlrjE9</td>\n      <td>africa the long march of migrants crossing the alps on foot</td>\n      <td>NaN</td>\n      <td>twitter</td>\n      <td>on foot</td>\n      <td>NaN</td>\n      <td>2019-07-24 11:43:36.000000</td>\n      <td>0.55</td>\n      <td>0.49</td>\n      <td>[]</td>\n      <td>NaN</td>\n      <td>NaN</td>\n      <td>NaN</td>\n      <td>NaN</td>\n      <td>NaN</td>\n    </tr>\n  </tbody>\n</table>\n</div>",
          "text/plain": "                                                                                                                                                  text  \\\nuniqueid                                                                                                                                                 \n969       \"En Macédoine, les migrants remplissent les trains pour la Serbie - AFP\" en replay sur Android TV Replay http://t.co/k8LZQkCzNh                \n795       \"Macedonia, ancora frontiere chiuse. I migranti passano dal filo spinato\" - http://t.co/lt7wNeffC7 http://t.co/jvg5cMgDxk                      \n1158      \"More than 130,000 #migrants have attempted to cross the Mediterranean in 2015\"  http://t.co/ZOvpUsTx1d                                        \n2364      \"On Thursday Slovenia reported that 12,000 migrants had arrived in one day - a record in the current crisis in Central Europe.\" - BBC          \n1137      \"With Tel Abyad secured, the Syrian Kurds have managed to forge a corridor between Cezire and Kobani. On Monday,... http://t.co/iJDle1SzwW     \n574       #2015 Франция закрывает границу с Италией http://t.co/O77dBheZKv                                                                               \n2041      #AFP Slovenia to send back train from Croatia carrying 150 migrants - AFP: Slovenia to send back train from Cr... http://t.co/zNEN4XLp7h       \n253       #AUSTRIA #STANDARD #WIEN broadcastetd by #TheIsraelCompany: Kommentar von Michael Völker - Die Flüchtlinge und ihr... http://t.co/MAn0lwR3vI   \n397       #AUSTRIA #STANDARD #WIEN broadcastetd by #TheIsraelCompany: Syrien - Putin schließt Einsatz von Bodentruppen in Sy... http://t.co/LGKZhvK6c2   \n959       #Afrique La longue marche des migrants qui franchissent les Alpes à pied http://t.co/Way1hlrjE9                                                \n\n                                                                                                                         text_translated  \\\nuniqueid                                                                                                                                   \n969       in macedonia migrants fill trains for serbia afp in replay on android tv replay                                                  \n795       macedonia still closed borders migrants pass by barbed wire                                                                      \n1158      more than 130 000 migrants have attempted to cross the mediterranean in 2015                                                     \n2364      on thursday slovenia reported that 12 000 migrants had arrived in one day a record in the current crisis in central europe bbc   \n1137      with tel abyad secured the syrian kurds have managed to forge a corridor between cezire and kobani on monday                     \n574       2015 france closes the border with italy                                                                                         \n2041      afp slovenia to send back train from croatia carrying 150 migrants afp slovenia to send back train from cr                       \n253       austria standard vienna broadcastetd by theisraelcompany comment by michael völker the refugees and their                        \n397       austria standard vienna broadcastetd by theisraelcompany syria putin closes deployment of ground forces in sy                    \n959       africa the long march of migrants crossing the alps on foot                                                                      \n\n                                                       media   source  \\\nuniqueid                                                                \n969       NaN                                                 twitter   \n795       ['http://pbs.twimg.com/media/CNBxOh7WoAAP-zV.jpg']  twitter   \n1158      NaN                                                 twitter   \n2364      NaN                                                 twitter   \n1137      NaN                                                 twitter   \n574       NaN                                                 twitter   \n2041      NaN                                                 twitter   \n253       NaN                                                 twitter   \n397       NaN                                                 twitter   \n959       NaN                                                 twitter   \n\n             mode  num_persons                  _timestamp  confidence  \\\nuniqueid                                                                 \n969       train   NaN           2019-09-12 04:08:04.000000  0.63         \n795       NaN     NaN           2019-09-14 16:50:53.000000  0.81         \n1158      NaN     NaN           2019-07-26 17:47:04.000000  0.53         \n2364      NaN     NaN           2019-11-15 21:14:00.000000  0.93         \n1137      NaN     NaN           2019-07-10 16:24:53.000000  0.71         \n574       NaN      2015.0       2019-07-09 09:59:43.000000  0.62         \n2041      train    150.0        2019-10-11 17:14:05.000000  0.99         \n253       NaN     NaN           2019-09-22 16:16:11.000000  0.67         \n397       NaN     NaN           2019-10-21 04:15:59.000000  0.51         \n959       on foot NaN           2019-07-24 11:43:36.000000  0.55         \n\n          source_reliability                                 locations  \\\nuniqueid                                                                 \n969       0.12                ['macedonia', 'serbia']                    \n795       0.04                ['macedonia']                              \n1158      0.94                []                                         \n2364      0.23                ['slovenia']                               \n1137      0.24                ['syria']                                  \n574       1.00                ['france', 'italy']                        \n2041      0.26                ['slovenia', 'croatia']                    \n253       0.05                ['austria', 'vienna', 'israel']            \n397       0.06                ['austria', 'vienna', 'israel', 'syria']   \n959       0.49                []                                         \n\n          origin_bool origin destination  \\\nuniqueid                                   \n969      NaN           NaN    NaN          \n795      NaN           NaN    NaN          \n1158     NaN           NaN    NaN          \n2364     NaN           NaN    NaN          \n1137     NaN           NaN    NaN          \n574      NaN           NaN    NaN          \n2041     NaN           HR0    NaN          \n253      NaN           NaN    NaN          \n397      NaN           NaN    NaN          \n959      NaN           NaN    NaN          \n\n                                          geom_tweet  triage_status  \nuniqueid                                                             \n969       0101000000575BB1BFEC6E35400000000000004540 NaN             \n795       0101000000575BB1BFEC6E35400000000000004540 NaN             \n1158      NaN                                        NaN             \n2364      0101000000151DC9E53F042D402CD49AE61D074740 NaN             \n1137      0101000000E8D9ACFA5C254240EFC9C342ADC14040 NaN             \n574       NaN                                        NaN             \n2041      0101000000151DC9E53F042D402CD49AE61D074740 NaN             \n253       010100000076711B0DE05D30409A99999999194840 NaN             \n397       010100000076711B0DE05D30409A99999999194840 NaN             \n959       NaN                                        NaN             "
         },
         "metadata": {},
         "output_type": "display_data"
        }
       ]
      }
     },
     "15dfe8aa052b42e99231c95ea5c85e8f": {
      "model_module": "@jupyter-widgets/controls",
      "model_module_version": "1.5.0",
      "model_name": "TextModel",
      "state": {
       "_model_module_version": "1.5.0",
       "_view_module_version": "1.5.0",
       "layout": "IPY_MODEL_6beb81455a1a466a81d9d11d670b370c",
       "style": "IPY_MODEL_cdea99e7ecd24eaba7fcfd314443ff0c",
       "value": "filtered_data.csv"
      }
     },
     "15f0340e0816483f80c8ae75b61316ca": {
      "model_module": "@jupyter-widgets/controls",
      "model_module_version": "1.5.0",
      "model_name": "ButtonModel",
      "state": {
       "_model_module_version": "1.5.0",
       "_view_module_version": "1.5.0",
       "description": "save",
       "layout": "IPY_MODEL_1c5737bb6418419bbe95b8c9a6ad0dc7",
       "style": "IPY_MODEL_c49b30bafbb24b2a8210dafe490173b4"
      }
     },
     "15f6e910864e4c42ba77e05cd06fd8aa": {
      "model_module": "@jupyter-widgets/base",
      "model_module_version": "1.2.0",
      "model_name": "LayoutModel",
      "state": {
       "_model_module_version": "1.2.0",
       "_view_module_version": "1.2.0",
       "justify_items": null,
       "object_fit": null,
       "object_position": null
      }
     },
     "16153c4427bb40a297adcb8a9678f383": {
      "model_module": "@jupyter-widgets/controls",
      "model_module_version": "1.5.0",
      "model_name": "ButtonStyleModel",
      "state": {
       "_model_module_version": "1.5.0",
       "_view_module_version": "1.2.0"
      }
     },
     "162aeca071cb429a8cea51563999fce9": {
      "model_module": "@jupyter-widgets/base",
      "model_module_version": "1.2.0",
      "model_name": "LayoutModel",
      "state": {
       "_model_module_version": "1.2.0",
       "_view_module_version": "1.2.0",
       "justify_items": null,
       "object_fit": null,
       "object_position": null
      }
     },
     "164747ce44ed4bfd8b4cabf14dec6387": {
      "model_module": "@jupyter-widgets/controls",
      "model_module_version": "1.5.0",
      "model_name": "HTMLModel",
      "state": {
       "_model_module_version": "1.5.0",
       "_view_module_version": "1.5.0",
       "layout": "IPY_MODEL_53aa962345b74418a46bfe5ff50973de",
       "style": "IPY_MODEL_ab7c7d399aa847d7b9268e67405ae256",
       "value": "Select multiple by dragging or ctrl + click"
      }
     },
     "167687fe5741432d98f1bec638175874": {
      "model_module": "@jupyter-widgets/base",
      "model_module_version": "1.2.0",
      "model_name": "LayoutModel",
      "state": {
       "_model_module_version": "1.2.0",
       "_view_module_version": "1.2.0",
       "justify_items": null,
       "object_fit": null,
       "object_position": null
      }
     },
     "168ed74579d5474bb0b85b649bd29f3e": {
      "model_module": "@jupyter-widgets/controls",
      "model_module_version": "1.5.0",
      "model_name": "ButtonStyleModel",
      "state": {
       "_model_module_version": "1.5.0",
       "_view_module_version": "1.2.0"
      }
     },
     "1697c098c61c46598e70782e78bbf34b": {
      "model_module": "@jupyter-widgets/controls",
      "model_module_version": "1.5.0",
      "model_name": "HBoxModel",
      "state": {
       "_model_module_version": "1.5.0",
       "_view_module_version": "1.5.0",
       "children": [
        "IPY_MODEL_f8484211573e4412a7b0524b9394a12a",
        "IPY_MODEL_9d76e7972d614b62b3bc1d213277a08f",
        "IPY_MODEL_267fb65272e041329a736c28231607ba",
        "IPY_MODEL_54f2ed01e3304001a9b8a3514abb6fd0",
        "IPY_MODEL_01cd892381244b0dadfc89548c848b0f"
       ],
       "layout": "IPY_MODEL_167687fe5741432d98f1bec638175874"
      }
     },
     "169ac9fa88844bb397464d2c74f37f88": {
      "model_module": "@jupyter-widgets/controls",
      "model_module_version": "1.5.0",
      "model_name": "HBoxModel",
      "state": {
       "_model_module_version": "1.5.0",
       "_view_module_version": "1.5.0",
       "children": [
        "IPY_MODEL_8c2ae289e677450db266ed110f3f783b",
        "IPY_MODEL_8931a8cad371417db709a64480b61b43",
        "IPY_MODEL_2df3c48d814f4fdfada7d105da964640"
       ],
       "layout": "IPY_MODEL_1f8d374039354cb695e888742be5e71e"
      }
     },
     "16a20f1924cf4194b960a621993836a2": {
      "model_module": "@jupyter-widgets/controls",
      "model_module_version": "1.5.0",
      "model_name": "DropdownModel",
      "state": {
       "_model_module_version": "1.5.0",
       "_options_labels": [
        "10",
        "20",
        "50"
       ],
       "_view_module_version": "1.5.0",
       "description": "items per page",
       "index": 0,
       "layout": "IPY_MODEL_917be17e95eb4920b15629fe1dfcddc0",
       "style": "IPY_MODEL_19fbac4ea23f44a2b7e75ddbd6629200"
      }
     },
     "16d092bcb0be47b9988f8c480144dcca": {
      "model_module": "@jupyter-widgets/controls",
      "model_module_version": "1.5.0",
      "model_name": "DescriptionStyleModel",
      "state": {
       "_model_module_version": "1.5.0",
       "_view_module_version": "1.2.0",
       "description_width": ""
      }
     },
     "172741fbc6a4488f87a8ba6137ba9daa": {
      "model_module": "@jupyter-widgets/controls",
      "model_module_version": "1.5.0",
      "model_name": "ButtonModel",
      "state": {
       "_model_module_version": "1.5.0",
       "_view_module_version": "1.5.0",
       "icon": "chevron-left",
       "layout": "IPY_MODEL_10645d0d1c8a4f1a817558b22bdc46e5",
       "style": "IPY_MODEL_de273c3e28fb4e1a8bce86d1daafef0e"
      }
     },
     "1792f0f79ee7483e8dbff707d24d1998": {
      "model_module": "@jupyter-widgets/base",
      "model_module_version": "1.2.0",
      "model_name": "LayoutModel",
      "state": {
       "_model_module_version": "1.2.0",
       "_view_module_version": "1.2.0",
       "grid_template_areas": "\"top-left top-right\"\n\"top-left top-right\"",
       "grid_template_columns": "1fr 1fr",
       "grid_template_rows": "1fr 1fr",
       "justify_items": null,
       "object_fit": null,
       "object_position": null
      }
     },
     "17c267daa30c46e58ab440d7080fb370": {
      "model_module": "@jupyter-widgets/controls",
      "model_module_version": "1.5.0",
      "model_name": "LabelModel",
      "state": {
       "_model_module_version": "1.5.0",
       "_view_module_version": "1.5.0",
       "layout": "IPY_MODEL_d2bdea2493a74e3a96c20a77eccf79c8",
       "style": "IPY_MODEL_ae3dc1acffb443d9acd37ed4ade1f35c",
       "value": "2654 rows"
      }
     },
     "18469625f03940b9b2547a664406ea12": {
      "model_module": "@jupyter-widgets/base",
      "model_module_version": "1.2.0",
      "model_name": "LayoutModel",
      "state": {
       "_model_module_version": "1.2.0",
       "_view_module_version": "1.2.0",
       "justify_items": null,
       "object_fit": null,
       "object_position": null
      }
     },
     "18a689e011564526b13dbc6832469bbd": {
      "model_module": "@jupyter-widgets/controls",
      "model_module_version": "1.5.0",
      "model_name": "DescriptionStyleModel",
      "state": {
       "_model_module_version": "1.5.0",
       "_view_module_version": "1.2.0",
       "description_width": ""
      }
     },
     "18aeb8140ef84dbd918518ef13b7ef39": {
      "model_module": "@jupyter-widgets/base",
      "model_module_version": "1.2.0",
      "model_name": "LayoutModel",
      "state": {
       "_model_module_version": "1.2.0",
       "_view_module_version": "1.2.0",
       "justify_items": null,
       "object_fit": null,
       "object_position": null
      }
     },
     "18f483bad2b54a6fa535124cb0da4922": {
      "model_module": "@jupyter-widgets/controls",
      "model_module_version": "1.5.0",
      "model_name": "HBoxModel",
      "state": {
       "_model_module_version": "1.5.0",
       "_view_module_version": "1.5.0",
       "children": [
        "IPY_MODEL_99047fc07ae54c7281fc65f6c2a550d5",
        "IPY_MODEL_bc95674d1e55423c815d37d6cb69d5e7",
        "IPY_MODEL_b1721398cfab4fb0a04a8ec2bd180516",
        "IPY_MODEL_36759404eca04d3bb4e51b32394d958c",
        "IPY_MODEL_5440d88713ae4d18823445a27cd6c1ca"
       ],
       "layout": "IPY_MODEL_9a0da1ba296744288a913fe0022f8023"
      }
     },
     "18fd347aded140908f84cf6a74475466": {
      "model_module": "@jupyter-widgets/base",
      "model_module_version": "1.2.0",
      "model_name": "LayoutModel",
      "state": {
       "_model_module_version": "1.2.0",
       "_view_module_version": "1.2.0",
       "justify_items": null,
       "object_fit": null,
       "object_position": null
      }
     },
     "19af0e8d78cf47938296b78da9f2cd14": {
      "model_module": "@jupyter-widgets/base",
      "model_module_version": "1.2.0",
      "model_name": "LayoutModel",
      "state": {
       "_model_module_version": "1.2.0",
       "_view_module_version": "1.2.0",
       "justify_items": null,
       "object_fit": null,
       "object_position": null
      }
     },
     "19c2f7afc2434ea6a7ee29d8c6b27ef5": {
      "model_module": "@jupyter-widgets/base",
      "model_module_version": "1.2.0",
      "model_name": "LayoutModel",
      "state": {
       "_model_module_version": "1.2.0",
       "_view_module_version": "1.2.0",
       "justify_items": null,
       "object_fit": null,
       "object_position": null,
       "width": "30px"
      }
     },
     "19d2061fa7d54977ba685f5ec57461c2": {
      "model_module": "@jupyter-widgets/controls",
      "model_module_version": "1.5.0",
      "model_name": "ButtonStyleModel",
      "state": {
       "_model_module_version": "1.5.0",
       "_view_module_version": "1.2.0"
      }
     },
     "19fbac4ea23f44a2b7e75ddbd6629200": {
      "model_module": "@jupyter-widgets/controls",
      "model_module_version": "1.5.0",
      "model_name": "DescriptionStyleModel",
      "state": {
       "_model_module_version": "1.5.0",
       "_view_module_version": "1.2.0",
       "description_width": ""
      }
     },
     "1a7d3fd15dd64bd288f73a73add30a51": {
      "model_module": "@jupyter-widgets/base",
      "model_module_version": "1.2.0",
      "model_name": "LayoutModel",
      "state": {
       "_model_module_version": "1.2.0",
       "_view_module_version": "1.2.0",
       "justify_items": null,
       "object_fit": null,
       "object_position": null
      }
     },
     "1ab24801af394d06aefbd19e63c66549": {
      "model_module": "@jupyter-widgets/controls",
      "model_module_version": "1.5.0",
      "model_name": "DescriptionStyleModel",
      "state": {
       "_model_module_version": "1.5.0",
       "_view_module_version": "1.2.0",
       "description_width": ""
      }
     },
     "1ab423db3d3e40b9bfb874f198fca3fb": {
      "model_module": "@jupyter-widgets/controls",
      "model_module_version": "1.5.0",
      "model_name": "ButtonStyleModel",
      "state": {
       "_model_module_version": "1.5.0",
       "_view_module_version": "1.2.0"
      }
     },
     "1acd376cbd0a4216a3d1873537b59bca": {
      "model_module": "@jupyter-widgets/controls",
      "model_module_version": "1.5.0",
      "model_name": "HTMLModel",
      "state": {
       "_model_module_version": "1.5.0",
       "_view_module_version": "1.5.0",
       "layout": "IPY_MODEL_eba43708f56e4aa0990cabf278369fc5",
       "style": "IPY_MODEL_476a9d0c73474c51b89cfa654f434f5b",
       "value": "<h3>Required Values</h3>"
      }
     },
     "1aebb7a6a90445eaa31007d9fbf9c0ab": {
      "model_module": "@jupyter-widgets/controls",
      "model_module_version": "1.5.0",
      "model_name": "DescriptionStyleModel",
      "state": {
       "_model_module_version": "1.5.0",
       "_view_module_version": "1.2.0",
       "description_width": ""
      }
     },
     "1b09250acd884251ad8336ecd8ea6978": {
      "model_module": "@jupyter-widgets/controls",
      "model_module_version": "1.5.0",
      "model_name": "ButtonModel",
      "state": {
       "_model_module_version": "1.5.0",
       "_view_module_version": "1.5.0",
       "icon": "chevron-right",
       "layout": "IPY_MODEL_6f466913d2f3495793d0f5731ee83dc5",
       "style": "IPY_MODEL_a9e74bd6aa384dfb9283f0825051f936"
      }
     },
     "1b599b53bd1042b08765367e1f0e24a9": {
      "model_module": "@jupyter-widgets/base",
      "model_module_version": "1.2.0",
      "model_name": "LayoutModel",
      "state": {
       "_model_module_version": "1.2.0",
       "_view_module_version": "1.2.0",
       "justify_items": null,
       "object_fit": null,
       "object_position": null
      }
     },
     "1b5d22d2b92b4ab88fa5b198cf6b4a1f": {
      "model_module": "@jupyter-widgets/controls",
      "model_module_version": "1.5.0",
      "model_name": "HTMLModel",
      "state": {
       "_model_module_version": "1.5.0",
       "_view_module_version": "1.5.0",
       "layout": "IPY_MODEL_026da3ab25854b58ae0dc1e46e82a281",
       "style": "IPY_MODEL_d6e28c098e9e493e96175433a5693b77",
       "value": "Select multiple by dragging or ctrl + click"
      }
     },
     "1b94f186569c4daf9c100e6b2ec5699b": {
      "model_module": "@jupyter-widgets/output",
      "model_module_version": "1.0.0",
      "model_name": "OutputModel",
      "state": {
       "layout": "IPY_MODEL_c5f982b0bd20445397b8ccd9b4ac224e",
       "outputs": [
        {
         "data": {
          "text/html": "<div>\n<style scoped>\n    .dataframe tbody tr th:only-of-type {\n        vertical-align: middle;\n    }\n\n    .dataframe tbody tr th {\n        vertical-align: top;\n    }\n\n    .dataframe thead th {\n        text-align: right;\n    }\n</style>\n<table border=\"1\" class=\"dataframe\">\n  <thead>\n    <tr style=\"text-align: right;\">\n      <th></th>\n      <th>text</th>\n      <th>text_translated</th>\n      <th>media</th>\n      <th>source</th>\n      <th>mode</th>\n      <th>num_persons</th>\n      <th>_timestamp</th>\n      <th>confidence</th>\n      <th>source_reliability</th>\n      <th>locations</th>\n      <th>origin_bool</th>\n      <th>origin</th>\n      <th>destination</th>\n      <th>geom_tweet</th>\n      <th>triage_status</th>\n    </tr>\n    <tr>\n      <th>uniqueid</th>\n      <th></th>\n      <th></th>\n      <th></th>\n      <th></th>\n      <th></th>\n      <th></th>\n      <th></th>\n      <th></th>\n      <th></th>\n      <th></th>\n      <th></th>\n      <th></th>\n      <th></th>\n      <th></th>\n      <th></th>\n    </tr>\n  </thead>\n  <tbody>\n    <tr>\n      <th>969</th>\n      <td>\"En Macédoine, les migrants remplissent les trains pour la Serbie - AFP\" en replay sur Android TV Replay http://t.co/k8LZQkCzNh</td>\n      <td>in macedonia migrants fill trains for serbia afp in replay on android tv replay</td>\n      <td>NaN</td>\n      <td>twitter</td>\n      <td>train</td>\n      <td>NaN</td>\n      <td>2019-09-12 04:08:04.000000</td>\n      <td>0.63</td>\n      <td>0.12</td>\n      <td>['macedonia', 'serbia']</td>\n      <td>NaN</td>\n      <td>NaN</td>\n      <td>NaN</td>\n      <td>0101000000575BB1BFEC6E35400000000000004540</td>\n      <td>NaN</td>\n    </tr>\n    <tr>\n      <th>795</th>\n      <td>\"Macedonia, ancora frontiere chiuse. I migranti passano dal filo spinato\" - http://t.co/lt7wNeffC7 http://t.co/jvg5cMgDxk</td>\n      <td>macedonia still closed borders migrants pass by barbed wire</td>\n      <td>['http://pbs.twimg.com/media/CNBxOh7WoAAP-zV.jpg']</td>\n      <td>twitter</td>\n      <td>NaN</td>\n      <td>NaN</td>\n      <td>2019-09-14 16:50:53.000000</td>\n      <td>0.81</td>\n      <td>0.04</td>\n      <td>['macedonia']</td>\n      <td>NaN</td>\n      <td>NaN</td>\n      <td>NaN</td>\n      <td>0101000000575BB1BFEC6E35400000000000004540</td>\n      <td>NaN</td>\n    </tr>\n    <tr>\n      <th>1158</th>\n      <td>\"More than 130,000 #migrants have attempted to cross the Mediterranean in 2015\"  http://t.co/ZOvpUsTx1d</td>\n      <td>more than 130 000 migrants have attempted to cross the mediterranean in 2015</td>\n      <td>NaN</td>\n      <td>twitter</td>\n      <td>NaN</td>\n      <td>NaN</td>\n      <td>2019-07-26 17:47:04.000000</td>\n      <td>0.53</td>\n      <td>0.94</td>\n      <td>[]</td>\n      <td>NaN</td>\n      <td>NaN</td>\n      <td>NaN</td>\n      <td>NaN</td>\n      <td>NaN</td>\n    </tr>\n    <tr>\n      <th>2364</th>\n      <td>\"On Thursday Slovenia reported that 12,000 migrants had arrived in one day - a record in the current crisis in Central Europe.\" - BBC</td>\n      <td>on thursday slovenia reported that 12 000 migrants had arrived in one day a record in the current crisis in central europe bbc</td>\n      <td>NaN</td>\n      <td>twitter</td>\n      <td>NaN</td>\n      <td>NaN</td>\n      <td>2019-11-15 21:14:00.000000</td>\n      <td>0.93</td>\n      <td>0.23</td>\n      <td>['slovenia']</td>\n      <td>NaN</td>\n      <td>NaN</td>\n      <td>NaN</td>\n      <td>0101000000151DC9E53F042D402CD49AE61D074740</td>\n      <td>NaN</td>\n    </tr>\n    <tr>\n      <th>1137</th>\n      <td>\"With Tel Abyad secured, the Syrian Kurds have managed to forge a corridor between Cezire and Kobani. On Monday,... http://t.co/iJDle1SzwW</td>\n      <td>with tel abyad secured the syrian kurds have managed to forge a corridor between cezire and kobani on monday</td>\n      <td>NaN</td>\n      <td>twitter</td>\n      <td>NaN</td>\n      <td>NaN</td>\n      <td>2019-07-10 16:24:53.000000</td>\n      <td>0.71</td>\n      <td>0.24</td>\n      <td>['syria']</td>\n      <td>NaN</td>\n      <td>NaN</td>\n      <td>NaN</td>\n      <td>0101000000E8D9ACFA5C254240EFC9C342ADC14040</td>\n      <td>NaN</td>\n    </tr>\n    <tr>\n      <th>574</th>\n      <td>#2015 Франция закрывает границу с Италией http://t.co/O77dBheZKv</td>\n      <td>2015 france closes the border with italy</td>\n      <td>NaN</td>\n      <td>twitter</td>\n      <td>NaN</td>\n      <td>2015.0</td>\n      <td>2019-07-09 09:59:43.000000</td>\n      <td>0.62</td>\n      <td>1.00</td>\n      <td>['france', 'italy']</td>\n      <td>NaN</td>\n      <td>NaN</td>\n      <td>NaN</td>\n      <td>NaN</td>\n      <td>NaN</td>\n    </tr>\n    <tr>\n      <th>2041</th>\n      <td>#AFP Slovenia to send back train from Croatia carrying 150 migrants - AFP: Slovenia to send back train from Cr... http://t.co/zNEN4XLp7h</td>\n      <td>afp slovenia to send back train from croatia carrying 150 migrants afp slovenia to send back train from cr</td>\n      <td>NaN</td>\n      <td>twitter</td>\n      <td>train</td>\n      <td>150.0</td>\n      <td>2019-10-11 17:14:05.000000</td>\n      <td>0.99</td>\n      <td>0.26</td>\n      <td>['slovenia', 'croatia']</td>\n      <td>NaN</td>\n      <td>HR0</td>\n      <td>NaN</td>\n      <td>0101000000151DC9E53F042D402CD49AE61D074740</td>\n      <td>NaN</td>\n    </tr>\n    <tr>\n      <th>253</th>\n      <td>#AUSTRIA #STANDARD #WIEN broadcastetd by #TheIsraelCompany: Kommentar von Michael Völker - Die Flüchtlinge und ihr... http://t.co/MAn0lwR3vI</td>\n      <td>austria standard vienna broadcastetd by theisraelcompany comment by michael völker the refugees and their</td>\n      <td>NaN</td>\n      <td>twitter</td>\n      <td>NaN</td>\n      <td>NaN</td>\n      <td>2019-09-22 16:16:11.000000</td>\n      <td>0.67</td>\n      <td>0.05</td>\n      <td>['austria', 'vienna', 'israel']</td>\n      <td>NaN</td>\n      <td>NaN</td>\n      <td>NaN</td>\n      <td>010100000076711B0DE05D30409A99999999194840</td>\n      <td>NaN</td>\n    </tr>\n    <tr>\n      <th>397</th>\n      <td>#AUSTRIA #STANDARD #WIEN broadcastetd by #TheIsraelCompany: Syrien - Putin schließt Einsatz von Bodentruppen in Sy... http://t.co/LGKZhvK6c2</td>\n      <td>austria standard vienna broadcastetd by theisraelcompany syria putin closes deployment of ground forces in sy</td>\n      <td>NaN</td>\n      <td>twitter</td>\n      <td>NaN</td>\n      <td>NaN</td>\n      <td>2019-10-21 04:15:59.000000</td>\n      <td>0.51</td>\n      <td>0.06</td>\n      <td>['austria', 'vienna', 'israel', 'syria']</td>\n      <td>NaN</td>\n      <td>NaN</td>\n      <td>NaN</td>\n      <td>010100000076711B0DE05D30409A99999999194840</td>\n      <td>NaN</td>\n    </tr>\n    <tr>\n      <th>959</th>\n      <td>#Afrique La longue marche des migrants qui franchissent les Alpes à pied http://t.co/Way1hlrjE9</td>\n      <td>africa the long march of migrants crossing the alps on foot</td>\n      <td>NaN</td>\n      <td>twitter</td>\n      <td>on foot</td>\n      <td>NaN</td>\n      <td>2019-07-24 11:43:36.000000</td>\n      <td>0.55</td>\n      <td>0.49</td>\n      <td>[]</td>\n      <td>NaN</td>\n      <td>NaN</td>\n      <td>NaN</td>\n      <td>NaN</td>\n      <td>NaN</td>\n    </tr>\n  </tbody>\n</table>\n</div>",
          "text/plain": "                                                                                                                                                  text  \\\nuniqueid                                                                                                                                                 \n969       \"En Macédoine, les migrants remplissent les trains pour la Serbie - AFP\" en replay sur Android TV Replay http://t.co/k8LZQkCzNh                \n795       \"Macedonia, ancora frontiere chiuse. I migranti passano dal filo spinato\" - http://t.co/lt7wNeffC7 http://t.co/jvg5cMgDxk                      \n1158      \"More than 130,000 #migrants have attempted to cross the Mediterranean in 2015\"  http://t.co/ZOvpUsTx1d                                        \n2364      \"On Thursday Slovenia reported that 12,000 migrants had arrived in one day - a record in the current crisis in Central Europe.\" - BBC          \n1137      \"With Tel Abyad secured, the Syrian Kurds have managed to forge a corridor between Cezire and Kobani. On Monday,... http://t.co/iJDle1SzwW     \n574       #2015 Франция закрывает границу с Италией http://t.co/O77dBheZKv                                                                               \n2041      #AFP Slovenia to send back train from Croatia carrying 150 migrants - AFP: Slovenia to send back train from Cr... http://t.co/zNEN4XLp7h       \n253       #AUSTRIA #STANDARD #WIEN broadcastetd by #TheIsraelCompany: Kommentar von Michael Völker - Die Flüchtlinge und ihr... http://t.co/MAn0lwR3vI   \n397       #AUSTRIA #STANDARD #WIEN broadcastetd by #TheIsraelCompany: Syrien - Putin schließt Einsatz von Bodentruppen in Sy... http://t.co/LGKZhvK6c2   \n959       #Afrique La longue marche des migrants qui franchissent les Alpes à pied http://t.co/Way1hlrjE9                                                \n\n                                                                                                                         text_translated  \\\nuniqueid                                                                                                                                   \n969       in macedonia migrants fill trains for serbia afp in replay on android tv replay                                                  \n795       macedonia still closed borders migrants pass by barbed wire                                                                      \n1158      more than 130 000 migrants have attempted to cross the mediterranean in 2015                                                     \n2364      on thursday slovenia reported that 12 000 migrants had arrived in one day a record in the current crisis in central europe bbc   \n1137      with tel abyad secured the syrian kurds have managed to forge a corridor between cezire and kobani on monday                     \n574       2015 france closes the border with italy                                                                                         \n2041      afp slovenia to send back train from croatia carrying 150 migrants afp slovenia to send back train from cr                       \n253       austria standard vienna broadcastetd by theisraelcompany comment by michael völker the refugees and their                        \n397       austria standard vienna broadcastetd by theisraelcompany syria putin closes deployment of ground forces in sy                    \n959       africa the long march of migrants crossing the alps on foot                                                                      \n\n                                                       media   source  \\\nuniqueid                                                                \n969       NaN                                                 twitter   \n795       ['http://pbs.twimg.com/media/CNBxOh7WoAAP-zV.jpg']  twitter   \n1158      NaN                                                 twitter   \n2364      NaN                                                 twitter   \n1137      NaN                                                 twitter   \n574       NaN                                                 twitter   \n2041      NaN                                                 twitter   \n253       NaN                                                 twitter   \n397       NaN                                                 twitter   \n959       NaN                                                 twitter   \n\n             mode  num_persons                  _timestamp  confidence  \\\nuniqueid                                                                 \n969       train   NaN           2019-09-12 04:08:04.000000  0.63         \n795       NaN     NaN           2019-09-14 16:50:53.000000  0.81         \n1158      NaN     NaN           2019-07-26 17:47:04.000000  0.53         \n2364      NaN     NaN           2019-11-15 21:14:00.000000  0.93         \n1137      NaN     NaN           2019-07-10 16:24:53.000000  0.71         \n574       NaN      2015.0       2019-07-09 09:59:43.000000  0.62         \n2041      train    150.0        2019-10-11 17:14:05.000000  0.99         \n253       NaN     NaN           2019-09-22 16:16:11.000000  0.67         \n397       NaN     NaN           2019-10-21 04:15:59.000000  0.51         \n959       on foot NaN           2019-07-24 11:43:36.000000  0.55         \n\n          source_reliability                                 locations  \\\nuniqueid                                                                 \n969       0.12                ['macedonia', 'serbia']                    \n795       0.04                ['macedonia']                              \n1158      0.94                []                                         \n2364      0.23                ['slovenia']                               \n1137      0.24                ['syria']                                  \n574       1.00                ['france', 'italy']                        \n2041      0.26                ['slovenia', 'croatia']                    \n253       0.05                ['austria', 'vienna', 'israel']            \n397       0.06                ['austria', 'vienna', 'israel', 'syria']   \n959       0.49                []                                         \n\n          origin_bool origin destination  \\\nuniqueid                                   \n969      NaN           NaN    NaN          \n795      NaN           NaN    NaN          \n1158     NaN           NaN    NaN          \n2364     NaN           NaN    NaN          \n1137     NaN           NaN    NaN          \n574      NaN           NaN    NaN          \n2041     NaN           HR0    NaN          \n253      NaN           NaN    NaN          \n397      NaN           NaN    NaN          \n959      NaN           NaN    NaN          \n\n                                          geom_tweet  triage_status  \nuniqueid                                                             \n969       0101000000575BB1BFEC6E35400000000000004540 NaN             \n795       0101000000575BB1BFEC6E35400000000000004540 NaN             \n1158      NaN                                        NaN             \n2364      0101000000151DC9E53F042D402CD49AE61D074740 NaN             \n1137      0101000000E8D9ACFA5C254240EFC9C342ADC14040 NaN             \n574       NaN                                        NaN             \n2041      0101000000151DC9E53F042D402CD49AE61D074740 NaN             \n253       010100000076711B0DE05D30409A99999999194840 NaN             \n397       010100000076711B0DE05D30409A99999999194840 NaN             \n959       NaN                                        NaN             "
         },
         "metadata": {},
         "output_type": "display_data"
        }
       ]
      }
     },
     "1bb8fe0a0cea4d6c97ff8b3ff3a0cb6d": {
      "model_module": "@jupyter-widgets/controls",
      "model_module_version": "1.5.0",
      "model_name": "DescriptionStyleModel",
      "state": {
       "_model_module_version": "1.5.0",
       "_view_module_version": "1.2.0",
       "description_width": ""
      }
     },
     "1bce674a54c44d0791d17d622fe012f6": {
      "model_module": "@jupyter-widgets/controls",
      "model_module_version": "1.5.0",
      "model_name": "VBoxModel",
      "state": {
       "_model_module_version": "1.5.0",
       "_view_module_version": "1.5.0",
       "children": [
        "IPY_MODEL_901401c903a5419da10efb64e41d4560",
        "IPY_MODEL_44481e96f9754c5a847fd98fe5dec790",
        "IPY_MODEL_68e10f250f264285a1c5b6172d57184f",
        "IPY_MODEL_7a28c23fe4f346efb4c7c3c5dcd7f489",
        "IPY_MODEL_27cb517bfce1465f870e894473849035",
        "IPY_MODEL_5436918aec2e4f0e897204208a6e603a",
        "IPY_MODEL_ffe3949fd8514454bf78337a4c73ec61",
        "IPY_MODEL_fa459743278e4406aba0540f416d0ff8"
       ],
       "layout": "IPY_MODEL_61120d101c4645568c02a426fcdecbc7"
      }
     },
     "1bce8f6193fc43f19ada7115d0b4bd3c": {
      "model_module": "@jupyter-widgets/controls",
      "model_module_version": "1.5.0",
      "model_name": "ButtonStyleModel",
      "state": {
       "_model_module_version": "1.5.0",
       "_view_module_version": "1.2.0"
      }
     },
     "1c1c8a438ce544f894d78e8b9d9b59fe": {
      "model_module": "@jupyter-widgets/controls",
      "model_module_version": "1.5.0",
      "model_name": "ButtonStyleModel",
      "state": {
       "_model_module_version": "1.5.0",
       "_view_module_version": "1.2.0"
      }
     },
     "1c23e0108a3e48c1939f9dae5e96dcd5": {
      "model_module": "@jupyter-widgets/controls",
      "model_module_version": "1.5.0",
      "model_name": "DescriptionStyleModel",
      "state": {
       "_model_module_version": "1.5.0",
       "_view_module_version": "1.2.0",
       "description_width": ""
      }
     },
     "1c5737bb6418419bbe95b8c9a6ad0dc7": {
      "model_module": "@jupyter-widgets/base",
      "model_module_version": "1.2.0",
      "model_name": "LayoutModel",
      "state": {
       "_model_module_version": "1.2.0",
       "_view_module_version": "1.2.0",
       "justify_items": null,
       "object_fit": null,
       "object_position": null
      }
     },
     "1ce6eaa003f14874919127e59a565e59": {
      "model_module": "@jupyter-widgets/base",
      "model_module_version": "1.2.0",
      "model_name": "LayoutModel",
      "state": {
       "_model_module_version": "1.2.0",
       "_view_module_version": "1.2.0",
       "justify_items": null,
       "object_fit": null,
       "object_position": null
      }
     },
     "1d0058db2a2f4461a2019cc300364a12": {
      "model_module": "@jupyter-widgets/base",
      "model_module_version": "1.2.0",
      "model_name": "LayoutModel",
      "state": {
       "_model_module_version": "1.2.0",
       "_view_module_version": "1.2.0",
       "justify_items": null,
       "object_fit": null,
       "object_position": null
      }
     },
     "1d37add9201f49a0a4ee4edb27440e86": {
      "model_module": "@jupyter-widgets/controls",
      "model_module_version": "1.5.0",
      "model_name": "DescriptionStyleModel",
      "state": {
       "_model_module_version": "1.5.0",
       "_view_module_version": "1.2.0",
       "description_width": ""
      }
     },
     "1d5cf45ede8143fda9ced6430ea09d05": {
      "model_module": "@jupyter-widgets/controls",
      "model_module_version": "1.5.0",
      "model_name": "SliderStyleModel",
      "state": {
       "_model_module_version": "1.5.0",
       "_view_module_version": "1.2.0",
       "description_width": ""
      }
     },
     "1e265a8d068245b78690f322686801bc": {
      "model_module": "@jupyter-widgets/controls",
      "model_module_version": "1.5.0",
      "model_name": "DescriptionStyleModel",
      "state": {
       "_model_module_version": "1.5.0",
       "_view_module_version": "1.2.0",
       "description_width": ""
      }
     },
     "1e35ead5feb7494fa78c86f0a789708c": {
      "model_module": "@jupyter-widgets/controls",
      "model_module_version": "1.5.0",
      "model_name": "LabelModel",
      "state": {
       "_model_module_version": "1.5.0",
       "_view_module_version": "1.5.0",
       "layout": "IPY_MODEL_ba96b05f6ee54785af47cd257f0336d7",
       "style": "IPY_MODEL_ecd846b8910140dcbe33fd8fb7bb7b4c",
       "value": "Search Columns"
      }
     },
     "1e5572e486d14b39a5a7a7a806ebeadb": {
      "model_module": "@jupyter-widgets/base",
      "model_module_version": "1.2.0",
      "model_name": "LayoutModel",
      "state": {
       "_model_module_version": "1.2.0",
       "_view_module_version": "1.2.0",
       "justify_items": null,
       "object_fit": null,
       "object_position": null
      }
     },
     "1ed6d909314c48e199f3bc588ede3afd": {
      "model_module": "@jupyter-widgets/base",
      "model_module_version": "1.2.0",
      "model_name": "LayoutModel",
      "state": {
       "_model_module_version": "1.2.0",
       "_view_module_version": "1.2.0",
       "grid_template_areas": "\"top-left top-right\"\n\"top-left top-right\"",
       "grid_template_columns": "1fr 1fr",
       "grid_template_rows": "1fr 1fr",
       "justify_items": null,
       "object_fit": null,
       "object_position": null
      }
     },
     "1f3194ac8ea84fc190d148fd3ace0a75": {
      "model_module": "@jupyter-widgets/controls",
      "model_module_version": "1.5.0",
      "model_name": "HBoxModel",
      "state": {
       "_model_module_version": "1.5.0",
       "_view_module_version": "1.5.0",
       "children": [
        "IPY_MODEL_97eaf58ed63b405b89ed8d4b7f73b234",
        "IPY_MODEL_f462610bb4994f55b108a9b0266428de"
       ],
       "layout": "IPY_MODEL_d5ed068a235943f38d2733751d0fe942"
      }
     },
     "1f5fa184ca9c47a48302176196aa82ae": {
      "model_module": "@jupyter-widgets/controls",
      "model_module_version": "1.5.0",
      "model_name": "HTMLModel",
      "state": {
       "_model_module_version": "1.5.0",
       "_view_module_version": "1.5.0",
       "layout": "IPY_MODEL_92d2d22b76a8477c839321a97f6f5738",
       "style": "IPY_MODEL_3237c8297e604f8ba88862bc9ce62876",
       "value": "<h3>Required Values</h3>"
      }
     },
     "1f6a8d6f35294f2eb0e20b363938efd5": {
      "model_module": "@jupyter-widgets/controls",
      "model_module_version": "1.5.0",
      "model_name": "ButtonModel",
      "state": {
       "_model_module_version": "1.5.0",
       "_view_module_version": "1.5.0",
       "description": "save",
       "layout": "IPY_MODEL_ac4b11d68511405e883d4c8d0468a04d",
       "style": "IPY_MODEL_d4f58fe6be5c44a38a8ce4c5f8b35eac"
      }
     },
     "1f8d374039354cb695e888742be5e71e": {
      "model_module": "@jupyter-widgets/base",
      "model_module_version": "1.2.0",
      "model_name": "LayoutModel",
      "state": {
       "_model_module_version": "1.2.0",
       "_view_module_version": "1.2.0",
       "justify_items": null,
       "object_fit": null,
       "object_position": null
      }
     },
     "1fb841d7dbcc45939ded014611307e6f": {
      "model_module": "@jupyter-widgets/controls",
      "model_module_version": "1.5.0",
      "model_name": "LabelModel",
      "state": {
       "_model_module_version": "1.5.0",
       "_view_module_version": "1.5.0",
       "layout": "IPY_MODEL_f376583c764445149c6a15304ddc904f",
       "style": "IPY_MODEL_43edf9ae22a14d0eb42b90003e8c6ee0",
       "value": "Plot Columns"
      }
     },
     "1fcfbfe1aefd4cacac5317c9ef02a408": {
      "model_module": "@jupyter-widgets/controls",
      "model_module_version": "1.5.0",
      "model_name": "DropdownModel",
      "state": {
       "_model_module_version": "1.5.0",
       "_options_labels": [
        "text",
        "text_translated",
        "media",
        "source",
        "mode",
        "num_persons",
        "_timestamp",
        "confidence",
        "source_reliability",
        "locations",
        "origin_bool",
        "origin",
        "destination",
        "geom_tweet",
        "triage_status"
       ],
       "_view_module_version": "1.5.0",
       "index": 0,
       "layout": "IPY_MODEL_a6c2e7d4e7df40309d348222b11c605f",
       "style": "IPY_MODEL_21b9af90d6634ebdab853e532106e292"
      }
     },
     "204c7649f5ba4f48a3f1cc5deb16d47f": {
      "model_module": "@jupyter-widgets/controls",
      "model_module_version": "1.5.0",
      "model_name": "LabelModel",
      "state": {
       "_model_module_version": "1.5.0",
       "_view_module_version": "1.5.0",
       "layout": "IPY_MODEL_3c9f46ac62774c749c1e3abc507ecd7a",
       "style": "IPY_MODEL_ecf690b6137d42c893f229495e8c8f40"
      }
     },
     "205dfb63ad954758bc8ef8090d79f19f": {
      "model_module": "@jupyter-widgets/base",
      "model_module_version": "1.2.0",
      "model_name": "LayoutModel",
      "state": {
       "_model_module_version": "1.2.0",
       "_view_module_version": "1.2.0",
       "grid_template_areas": "\"top-left top-right\"\n\"top-left top-right\"",
       "grid_template_columns": "1fr 1fr",
       "grid_template_rows": "1fr 1fr",
       "justify_items": null,
       "object_fit": null,
       "object_position": null
      }
     },
     "2062cf5a82004a33be780a0b2e401c09": {
      "model_module": "@jupyter-widgets/controls",
      "model_module_version": "1.5.0",
      "model_name": "DropdownModel",
      "state": {
       "_model_module_version": "1.5.0",
       "_options_labels": [
        "text",
        "text_translated",
        "media",
        "source",
        "mode",
        "num_persons",
        "_timestamp",
        "confidence",
        "source_reliability",
        "locations",
        "origin_bool",
        "origin",
        "destination",
        "geom_tweet",
        "triage_status"
       ],
       "_view_module_version": "1.5.0",
       "index": 0,
       "layout": "IPY_MODEL_e7e5c5a3bea24b1ab5ebc62ae200ba96",
       "style": "IPY_MODEL_9853cb286f2d46e8810dab3e0ea5865c"
      }
     },
     "2180504541344c1587792a622f6072a1": {
      "model_module": "@jupyter-widgets/base",
      "model_module_version": "1.2.0",
      "model_name": "LayoutModel",
      "state": {
       "_model_module_version": "1.2.0",
       "_view_module_version": "1.2.0",
       "justify_items": null,
       "object_fit": null,
       "object_position": null
      }
     },
     "21b9af90d6634ebdab853e532106e292": {
      "model_module": "@jupyter-widgets/controls",
      "model_module_version": "1.5.0",
      "model_name": "DescriptionStyleModel",
      "state": {
       "_model_module_version": "1.5.0",
       "_view_module_version": "1.2.0",
       "description_width": ""
      }
     },
     "21c24a829b434c0d91c6104790cc7805": {
      "model_module": "@jupyter-widgets/output",
      "model_module_version": "1.0.0",
      "model_name": "OutputModel",
      "state": {
       "layout": "IPY_MODEL_e44832cf34a64c6fb76931efc92e630c",
       "outputs": [
        {
         "data": {
          "image/png": "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\n",
          "text/plain": "<Figure size 432x288 with 1 Axes>"
         },
         "metadata": {
          "needs_background": "light"
         },
         "output_type": "display_data"
        }
       ]
      }
     },
     "21e5ccc261d64e25ba3c1f61d4d33843": {
      "model_module": "@jupyter-widgets/controls",
      "model_module_version": "1.5.0",
      "model_name": "DescriptionStyleModel",
      "state": {
       "_model_module_version": "1.5.0",
       "_view_module_version": "1.2.0",
       "description_width": ""
      }
     },
     "220b4c7e5c7b4e228422f61819456f15": {
      "model_module": "@jupyter-widgets/controls",
      "model_module_version": "1.5.0",
      "model_name": "HTMLModel",
      "state": {
       "_model_module_version": "1.5.0",
       "_view_module_version": "1.5.0",
       "layout": "IPY_MODEL_8a07d86cfd9c4e7aa2840dbe4caab255",
       "style": "IPY_MODEL_7f5ee80e926f4e2b8b55914656ff5268",
       "value": "Select multiple by dragging or ctrl + click"
      }
     },
     "22953f96d81f487fa7f64cd716abdcde": {
      "model_module": "@jupyter-widgets/base",
      "model_module_version": "1.2.0",
      "model_name": "LayoutModel",
      "state": {
       "_model_module_version": "1.2.0",
       "_view_module_version": "1.2.0",
       "grid_area": "top-right",
       "justify_items": null,
       "object_fit": null,
       "object_position": null
      }
     },
     "22d3b535c5e34d0e90120a4e2b8940f5": {
      "model_module": "@jupyter-widgets/controls",
      "model_module_version": "1.5.0",
      "model_name": "LabelModel",
      "state": {
       "_model_module_version": "1.5.0",
       "_view_module_version": "1.5.0",
       "layout": "IPY_MODEL_2ce2950bfa4e4938a08a9abf3c043581",
       "style": "IPY_MODEL_9f47c982f6bf4d09992e3ba0c92b8c55",
       "value": "Search Columns"
      }
     },
     "22f7abcbe2834faea4b7d01e60cf81b8": {
      "model_module": "@jupyter-widgets/controls",
      "model_module_version": "1.5.0",
      "model_name": "DropdownModel",
      "state": {
       "_model_module_version": "1.5.0",
       "_options_labels": [
        "text",
        "text_translated",
        "media",
        "source",
        "mode",
        "num_persons",
        "_timestamp",
        "confidence",
        "source_reliability",
        "locations",
        "origin_bool",
        "origin",
        "destination",
        "geom_tweet",
        "triage_status"
       ],
       "_view_module_version": "1.5.0",
       "index": 0,
       "layout": "IPY_MODEL_e4ab9700ef8d442a8d692d6f4b6a7ee3",
       "style": "IPY_MODEL_74cfe1d7afcc43a6b00dc5a315ba6b03"
      }
     },
     "231161d2bb75463182e3eac7d52feb21": {
      "model_module": "@jupyter-widgets/base",
      "model_module_version": "1.2.0",
      "model_name": "LayoutModel",
      "state": {
       "_model_module_version": "1.2.0",
       "_view_module_version": "1.2.0",
       "justify_items": null,
       "object_fit": null,
       "object_position": null
      }
     },
     "2365b96f6cce48cea8b3e13bc2a70e22": {
      "model_module": "@jupyter-widgets/controls",
      "model_module_version": "1.5.0",
      "model_name": "ToggleButtonModel",
      "state": {
       "_model_module_version": "1.5.0",
       "_view_module_version": "1.5.0",
       "description": "ascending",
       "layout": "IPY_MODEL_f89bff56c6ae426882cdf01ba02c71ed",
       "style": "IPY_MODEL_21e5ccc261d64e25ba3c1f61d4d33843",
       "value": true
      }
     },
     "23cd3a1a28f4471c829d83184171dc53": {
      "model_module": "@jupyter-widgets/controls",
      "model_module_version": "1.5.0",
      "model_name": "TextModel",
      "state": {
       "_model_module_version": "1.5.0",
       "_view_module_version": "1.5.0",
       "layout": "IPY_MODEL_70b458e787e4425c82f966baa4304d69",
       "style": "IPY_MODEL_b7b8242b1b4a4f8e9fac53b3895ff282"
      }
     },
     "244fa6ba239e47568e8da21fe252d3d6": {
      "model_module": "@jupyter-widgets/controls",
      "model_module_version": "1.5.0",
      "model_name": "LabelModel",
      "state": {
       "_model_module_version": "1.5.0",
       "_view_module_version": "1.5.0",
       "layout": "IPY_MODEL_07af942821f842c09fe162011bc90999",
       "style": "IPY_MODEL_51844f7777d3440693bec39c194a81d3",
       "value": "Search Columns"
      }
     },
     "245c8fd414fd443aa29577d511b84200": {
      "model_module": "@jupyter-widgets/base",
      "model_module_version": "1.2.0",
      "model_name": "LayoutModel",
      "state": {
       "_model_module_version": "1.2.0",
       "_view_module_version": "1.2.0",
       "justify_items": null,
       "object_fit": null,
       "object_position": null
      }
     },
     "24bd8d123b6d41c88b3eb5e554920296": {
      "model_module": "@jupyter-widgets/controls",
      "model_module_version": "1.5.0",
      "model_name": "HTMLModel",
      "state": {
       "_model_module_version": "1.5.0",
       "_view_module_version": "1.5.0",
       "layout": "IPY_MODEL_87604a90ac45439086b39603a8e50ebd",
       "style": "IPY_MODEL_93e433618e9a4033ae45168cd5c02647",
       "value": "<h3>Searching</h3>"
      }
     },
     "24c03a4471bd460bb2f805017b355e83": {
      "model_module": "@jupyter-widgets/controls",
      "model_module_version": "1.5.0",
      "model_name": "DescriptionStyleModel",
      "state": {
       "_model_module_version": "1.5.0",
       "_view_module_version": "1.2.0",
       "description_width": ""
      }
     },
     "24cc2718d4964b8a9ec8605bd4fd8900": {
      "model_module": "@jupyter-widgets/controls",
      "model_module_version": "1.5.0",
      "model_name": "HBoxModel",
      "state": {
       "_model_module_version": "1.5.0",
       "_view_module_version": "1.5.0",
       "children": [
        "IPY_MODEL_5ce8486189404cf49dd120bb71554a19",
        "IPY_MODEL_f556d12c9bdb476cb1e6055027f0faec"
       ],
       "layout": "IPY_MODEL_41873002a1ae49d7b4c8e5dea1e5abe4"
      }
     },
     "251424d71d044ffd8a7b8617d528aee2": {
      "model_module": "@jupyter-widgets/base",
      "model_module_version": "1.2.0",
      "model_name": "LayoutModel",
      "state": {
       "_model_module_version": "1.2.0",
       "_view_module_version": "1.2.0",
       "justify_items": null,
       "object_fit": null,
       "object_position": null
      }
     },
     "257ef9b21e214ac1a1dde7e3792d2957": {
      "model_module": "@jupyter-widgets/base",
      "model_module_version": "1.2.0",
      "model_name": "LayoutModel",
      "state": {
       "_model_module_version": "1.2.0",
       "_view_module_version": "1.2.0",
       "justify_items": null,
       "object_fit": null,
       "object_position": null
      }
     },
     "25cd5d03204242d59faf8efcb32dc58e": {
      "model_module": "@jupyter-widgets/controls",
      "model_module_version": "1.5.0",
      "model_name": "ButtonModel",
      "state": {
       "_model_module_version": "1.5.0",
       "_view_module_version": "1.5.0",
       "icon": "chevron-right",
       "layout": "IPY_MODEL_a7989ddf901349bf996a14988d0fecc8",
       "style": "IPY_MODEL_1ab423db3d3e40b9bfb874f198fca3fb"
      }
     },
     "25cf252ceb834798bde37204878f1dbe": {
      "model_module": "@jupyter-widgets/controls",
      "model_module_version": "1.5.0",
      "model_name": "DescriptionStyleModel",
      "state": {
       "_model_module_version": "1.5.0",
       "_view_module_version": "1.2.0",
       "description_width": ""
      }
     },
     "25d01df0ac8c4eb7bf40e0c6e3e06db1": {
      "model_module": "@jupyter-widgets/base",
      "model_module_version": "1.2.0",
      "model_name": "LayoutModel",
      "state": {
       "_model_module_version": "1.2.0",
       "_view_module_version": "1.2.0",
       "grid_template_areas": "\"top-left top-right\"\n\"top-left top-right\"",
       "grid_template_columns": "1fr 1fr",
       "grid_template_rows": "1fr 1fr",
       "justify_items": null,
       "object_fit": null,
       "object_position": null
      }
     },
     "26179022b1ce443e8d02d4a497ab0a1e": {
      "model_module": "@jupyter-widgets/controls",
      "model_module_version": "1.5.0",
      "model_name": "LabelModel",
      "state": {
       "_model_module_version": "1.5.0",
       "_view_module_version": "1.5.0",
       "layout": "IPY_MODEL_a6d1acedb3144468b4a4790ad5bb9544",
       "style": "IPY_MODEL_f57c3d1bad2742b886cc0ca2a8dfffc8",
       "value": "Search Columns"
      }
     },
     "262028c91d61498db99f0b459e28fc45": {
      "model_module": "@jupyter-widgets/controls",
      "model_module_version": "1.5.0",
      "model_name": "HTMLModel",
      "state": {
       "_model_module_version": "1.5.0",
       "_view_module_version": "1.5.0",
       "layout": "IPY_MODEL_93f4b185e2d043388ff6e0bf90c359d1",
       "style": "IPY_MODEL_6c2a0d4232e14eea9818a4abf2d75993",
       "value": "Select multiple by dragging or ctrl + click"
      }
     },
     "267fb65272e041329a736c28231607ba": {
      "model_module": "@jupyter-widgets/controls",
      "model_module_version": "1.5.0",
      "model_name": "LabelModel",
      "state": {
       "_model_module_version": "1.5.0",
       "_view_module_version": "1.5.0",
       "layout": "IPY_MODEL_c5eeefd825b14d349e272c9ee0b321f7",
       "style": "IPY_MODEL_27f038c750dd4d8891128793aa76b82f",
       "value": "50 rows"
      }
     },
     "26840cd5a4d0400282831934f9377d19": {
      "model_module": "@jupyter-widgets/controls",
      "model_module_version": "1.5.0",
      "model_name": "DescriptionStyleModel",
      "state": {
       "_model_module_version": "1.5.0",
       "_view_module_version": "1.2.0",
       "description_width": ""
      }
     },
     "268fee9b15dc4a37902a1f1b5e8e1078": {
      "model_module": "@jupyter-widgets/base",
      "model_module_version": "1.2.0",
      "model_name": "LayoutModel",
      "state": {
       "_model_module_version": "1.2.0",
       "_view_module_version": "1.2.0",
       "justify_items": null,
       "object_fit": null,
       "object_position": null
      }
     },
     "26a102deb4f94cf896a25e10ff531c8f": {
      "model_module": "@jupyter-widgets/base",
      "model_module_version": "1.2.0",
      "model_name": "LayoutModel",
      "state": {
       "_model_module_version": "1.2.0",
       "_view_module_version": "1.2.0",
       "justify_items": null,
       "object_fit": null,
       "object_position": null
      }
     },
     "26a185d6327e4baeaed49fa34ca0b22e": {
      "model_module": "@jupyter-widgets/controls",
      "model_module_version": "1.5.0",
      "model_name": "DropdownModel",
      "state": {
       "_model_module_version": "1.5.0",
       "_options_labels": [
        "10",
        "20",
        "50"
       ],
       "_view_module_version": "1.5.0",
       "description": "items per page",
       "index": 0,
       "layout": "IPY_MODEL_75a4e05528c448ddbcc4fade6d625a35",
       "style": "IPY_MODEL_6eddeb2b9e02458fb1ab8344211f465b"
      }
     },
     "26a81ec989ee4899a59142cc855bfa17": {
      "model_module": "@jupyter-widgets/base",
      "model_module_version": "1.2.0",
      "model_name": "LayoutModel",
      "state": {
       "_model_module_version": "1.2.0",
       "_view_module_version": "1.2.0",
       "grid_template_areas": "\"top-left top-right\"\n\"top-left top-right\"",
       "grid_template_columns": "1fr 1fr",
       "grid_template_rows": "1fr 1fr",
       "justify_items": null,
       "object_fit": null,
       "object_position": null
      }
     },
     "26eca858b95e4e248f68a7792ff54834": {
      "model_module": "@jupyter-widgets/controls",
      "model_module_version": "1.5.0",
      "model_name": "HTMLModel",
      "state": {
       "_model_module_version": "1.5.0",
       "_view_module_version": "1.5.0",
       "layout": "IPY_MODEL_251424d71d044ffd8a7b8617d528aee2",
       "style": "IPY_MODEL_f633717226464067bd5dcc1aaa1dde1f",
       "value": "Deselect with ctrl + click"
      }
     },
     "275e2b2f840f4b39b5002c2ff699bfe5": {
      "model_module": "@jupyter-widgets/controls",
      "model_module_version": "1.5.0",
      "model_name": "GridBoxModel",
      "state": {
       "_model_module_version": "1.5.0",
       "_view_module_version": "1.5.0",
       "children": [
        "IPY_MODEL_faf9dcc7690141cf8c9812dbdfd2aacf",
        "IPY_MODEL_c20f93b0c2c94519acb80ce229c2ff8d"
       ],
       "layout": "IPY_MODEL_1792f0f79ee7483e8dbff707d24d1998"
      }
     },
     "277c0e1b29154afebb7c5b026e11647a": {
      "model_module": "@jupyter-widgets/base",
      "model_module_version": "1.2.0",
      "model_name": "LayoutModel",
      "state": {
       "_model_module_version": "1.2.0",
       "_view_module_version": "1.2.0",
       "justify_items": null,
       "object_fit": null,
       "object_position": null
      }
     },
     "27a91d3b36554ef8a333716de05a2c39": {
      "model_module": "@jupyter-widgets/base",
      "model_module_version": "1.2.0",
      "model_name": "LayoutModel",
      "state": {
       "_model_module_version": "1.2.0",
       "_view_module_version": "1.2.0",
       "justify_items": null,
       "object_fit": null,
       "object_position": null
      }
     },
     "27cb517bfce1465f870e894473849035": {
      "model_module": "@jupyter-widgets/controls",
      "model_module_version": "1.5.0",
      "model_name": "HTMLModel",
      "state": {
       "_model_module_version": "1.5.0",
       "_view_module_version": "1.5.0",
       "layout": "IPY_MODEL_f674cf88211c4b54848da6b27f3ec4b2",
       "style": "IPY_MODEL_08fe2ab621764cfea3f386e428911e95",
       "value": "<h3>Searching</h3>"
      }
     },
     "27ce99ea2ab04a20a80b6736afdb8036": {
      "model_module": "@jupyter-widgets/controls",
      "model_module_version": "1.5.0",
      "model_name": "AccordionModel",
      "state": {
       "_model_module_version": "1.5.0",
       "_titles": {
        "0": "Sorting",
        "1": "Required Values",
        "2": "Searching",
        "3": "Save filtered Data"
       },
       "_view_module_version": "1.5.0",
       "children": [
        "IPY_MODEL_e900f76f75804f808bb4802a5f435762",
        "IPY_MODEL_24cc2718d4964b8a9ec8605bd4fd8900",
        "IPY_MODEL_3171c7668bf449bc819ad34dd3cc3be8",
        "IPY_MODEL_70e916fbd0f242dea0fb822d4ba7e696"
       ],
       "layout": "IPY_MODEL_d78494fe7b96439d95d5acb94380945a"
      }
     },
     "27db48c50f8a4325ae736fdb9344e745": {
      "model_module": "@jupyter-widgets/controls",
      "model_module_version": "1.5.0",
      "model_name": "VBoxModel",
      "state": {
       "_model_module_version": "1.5.0",
       "_view_module_version": "1.5.0",
       "children": [
        "IPY_MODEL_f2e0ee02edc74f289fe80ef47820a91f",
        "IPY_MODEL_51be6ee59d464ff798602a6a6970f01d",
        "IPY_MODEL_e071cfc177ed4538ba0147818561e25d"
       ],
       "layout": "IPY_MODEL_22953f96d81f487fa7f64cd716abdcde"
      }
     },
     "27f038c750dd4d8891128793aa76b82f": {
      "model_module": "@jupyter-widgets/controls",
      "model_module_version": "1.5.0",
      "model_name": "DescriptionStyleModel",
      "state": {
       "_model_module_version": "1.5.0",
       "_view_module_version": "1.2.0",
       "description_width": ""
      }
     },
     "2823b295e8b04309b384e77cd432a5f8": {
      "model_module": "@jupyter-widgets/base",
      "model_module_version": "1.2.0",
      "model_name": "LayoutModel",
      "state": {
       "_model_module_version": "1.2.0",
       "_view_module_version": "1.2.0",
       "justify_items": null,
       "object_fit": null,
       "object_position": null
      }
     },
     "288c2740333e484684dd305bcba6680d": {
      "model_module": "@jupyter-widgets/controls",
      "model_module_version": "1.5.0",
      "model_name": "HBoxModel",
      "state": {
       "_model_module_version": "1.5.0",
       "_view_module_version": "1.5.0",
       "children": [
        "IPY_MODEL_e79394e79ae54e919c42101d8f1fdef4",
        "IPY_MODEL_1f6a8d6f35294f2eb0e20b363938efd5",
        "IPY_MODEL_204c7649f5ba4f48a3f1cc5deb16d47f"
       ],
       "layout": "IPY_MODEL_dc8928f56f294d9489b43f89f68f40a1"
      }
     },
     "28cb41e4dcbd48449667b5d8fed16303": {
      "model_module": "@jupyter-widgets/base",
      "model_module_version": "1.2.0",
      "model_name": "LayoutModel",
      "state": {
       "_model_module_version": "1.2.0",
       "_view_module_version": "1.2.0",
       "justify_items": null,
       "object_fit": null,
       "object_position": null,
       "width": "60%"
      }
     },
     "2912fe6299214a558f206d33b6f492f3": {
      "model_module": "@jupyter-widgets/base",
      "model_module_version": "1.2.0",
      "model_name": "LayoutModel",
      "state": {
       "_model_module_version": "1.2.0",
       "_view_module_version": "1.2.0",
       "justify_items": null,
       "object_fit": null,
       "object_position": null
      }
     },
     "295585a4e0794ebc889edf0d224029dc": {
      "model_module": "@jupyter-widgets/base",
      "model_module_version": "1.2.0",
      "model_name": "LayoutModel",
      "state": {
       "_model_module_version": "1.2.0",
       "_view_module_version": "1.2.0",
       "justify_items": null,
       "object_fit": null,
       "object_position": null
      }
     },
     "2959ba7837404075846dffe1c602cbbf": {
      "model_module": "@jupyter-widgets/controls",
      "model_module_version": "1.5.0",
      "model_name": "DropdownModel",
      "state": {
       "_model_module_version": "1.5.0",
       "_options_labels": [
        "10",
        "20",
        "50"
       ],
       "_view_module_version": "1.5.0",
       "description": "items per page",
       "index": 0,
       "layout": "IPY_MODEL_ca1ead07853e423691198cde836214c5",
       "style": "IPY_MODEL_5d6ae28abbc5412b84057daea8881f55"
      }
     },
     "29c049af2a8e444287067db97b59b354": {
      "model_module": "@jupyter-widgets/base",
      "model_module_version": "1.2.0",
      "model_name": "LayoutModel",
      "state": {
       "_model_module_version": "1.2.0",
       "_view_module_version": "1.2.0",
       "justify_items": null,
       "object_fit": null,
       "object_position": null,
       "width": "60%"
      }
     },
     "2a426a04f18e4d42b43b93610974eb0b": {
      "model_module": "@jupyter-widgets/controls",
      "model_module_version": "1.5.0",
      "model_name": "TextModel",
      "state": {
       "_model_module_version": "1.5.0",
       "_view_module_version": "1.5.0",
       "layout": "IPY_MODEL_80492ee78c2c436f884b22f742b24dc0",
       "style": "IPY_MODEL_ae7cfc3b8ca44a09a5e47c2198d97a88",
       "value": "filtered_data.csv"
      }
     },
     "2a8e2c642b884555a2cd24a612b91d54": {
      "model_module": "@jupyter-widgets/base",
      "model_module_version": "1.2.0",
      "model_name": "LayoutModel",
      "state": {
       "_model_module_version": "1.2.0",
       "_view_module_version": "1.2.0",
       "justify_items": null,
       "object_fit": null,
       "object_position": null
      }
     },
     "2b084487299c4c69ad60f902759e2350": {
      "model_module": "@jupyter-widgets/controls",
      "model_module_version": "1.5.0",
      "model_name": "DescriptionStyleModel",
      "state": {
       "_model_module_version": "1.5.0",
       "_view_module_version": "1.2.0",
       "description_width": ""
      }
     },
     "2b889bb5fb584b188bff79331648e6b0": {
      "model_module": "@jupyter-widgets/controls",
      "model_module_version": "1.5.0",
      "model_name": "HTMLModel",
      "state": {
       "_model_module_version": "1.5.0",
       "_view_module_version": "1.5.0",
       "layout": "IPY_MODEL_613e72053212471a89673f0d160d5a46",
       "style": "IPY_MODEL_0c9811afd2d24f68a555f50fa19bdac2",
       "value": "<h3>Save filtered Data</h3>"
      }
     },
     "2c53df40fc744ebe9e189a81431e3052": {
      "model_module": "@jupyter-widgets/controls",
      "model_module_version": "1.5.0",
      "model_name": "DescriptionStyleModel",
      "state": {
       "_model_module_version": "1.5.0",
       "_view_module_version": "1.2.0",
       "description_width": ""
      }
     },
     "2c6a7dd1368a49e3840df0126e9aba63": {
      "model_module": "@jupyter-widgets/controls",
      "model_module_version": "1.5.0",
      "model_name": "HTMLModel",
      "state": {
       "_model_module_version": "1.5.0",
       "_view_module_version": "1.5.0",
       "layout": "IPY_MODEL_12a9946b9a294ecda859a4604890496f",
       "style": "IPY_MODEL_d12985ddbcb14672975b0460483900e3",
       "value": "Select multiple by dragging or ctrl + click"
      }
     },
     "2c890f2b9cfe4e728a48d585348b9674": {
      "model_module": "@jupyter-widgets/controls",
      "model_module_version": "1.5.0",
      "model_name": "ButtonStyleModel",
      "state": {
       "_model_module_version": "1.5.0",
       "_view_module_version": "1.2.0"
      }
     },
     "2cd170058e594ba89b1ddb0553b8ab0d": {
      "model_module": "@jupyter-widgets/controls",
      "model_module_version": "1.5.0",
      "model_name": "HBoxModel",
      "state": {
       "_model_module_version": "1.5.0",
       "_view_module_version": "1.5.0",
       "children": [
        "IPY_MODEL_15dfe8aa052b42e99231c95ea5c85e8f",
        "IPY_MODEL_e240e4a484e942ef83b257765856739a",
        "IPY_MODEL_e2ac27e9f21347a88f3288c0daf94b60"
       ],
       "layout": "IPY_MODEL_94291d8fadcb436786a6be5d80662b86"
      }
     },
     "2ce2950bfa4e4938a08a9abf3c043581": {
      "model_module": "@jupyter-widgets/base",
      "model_module_version": "1.2.0",
      "model_name": "LayoutModel",
      "state": {
       "_model_module_version": "1.2.0",
       "_view_module_version": "1.2.0",
       "justify_items": null,
       "object_fit": null,
       "object_position": null
      }
     },
     "2d15f5beb9534656a071db512a089a93": {
      "model_module": "@jupyter-widgets/controls",
      "model_module_version": "1.5.0",
      "model_name": "DescriptionStyleModel",
      "state": {
       "_model_module_version": "1.5.0",
       "_view_module_version": "1.2.0",
       "description_width": ""
      }
     },
     "2d5940d5d7d74ccd96bdb05d8e586a37": {
      "model_module": "@jupyter-widgets/controls",
      "model_module_version": "1.5.0",
      "model_name": "HTMLModel",
      "state": {
       "_model_module_version": "1.5.0",
       "_view_module_version": "1.5.0",
       "layout": "IPY_MODEL_8cb679279493443181797578c77a5ef3",
       "style": "IPY_MODEL_a0e984b0957949edb4208037b2270006",
       "value": "<h3>Save filtered Data</h3>"
      }
     },
     "2d7bce83bb3d446fbee0ad3fed871fd1": {
      "model_module": "@jupyter-widgets/controls",
      "model_module_version": "1.5.0",
      "model_name": "DescriptionStyleModel",
      "state": {
       "_model_module_version": "1.5.0",
       "_view_module_version": "1.2.0",
       "description_width": ""
      }
     },
     "2d8fa0da82774a1ea4c2fe0e8cbeea94": {
      "model_module": "@jupyter-widgets/controls",
      "model_module_version": "1.5.0",
      "model_name": "ButtonStyleModel",
      "state": {
       "_model_module_version": "1.5.0",
       "_view_module_version": "1.2.0"
      }
     },
     "2da8edc086154bd9bc87c5f20299af75": {
      "model_module": "@jupyter-widgets/controls",
      "model_module_version": "1.5.0",
      "model_name": "VBoxModel",
      "state": {
       "_model_module_version": "1.5.0",
       "_view_module_version": "1.5.0",
       "children": [
        "IPY_MODEL_22d3b535c5e34d0e90120a4e2b8940f5",
        "IPY_MODEL_57b96659ec404cde9a0be9445d305163",
        "IPY_MODEL_b2ebd485620740ffbaf45f59f8a2b007"
       ],
       "layout": "IPY_MODEL_95819ce9c622436c98fbeeba1aac38a9"
      }
     },
     "2dc1ae11530a445c84f151bcea0c7e07": {
      "model_module": "@jupyter-widgets/base",
      "model_module_version": "1.2.0",
      "model_name": "LayoutModel",
      "state": {
       "_model_module_version": "1.2.0",
       "_view_module_version": "1.2.0",
       "justify_items": null,
       "object_fit": null,
       "object_position": null
      }
     },
     "2dd344c580d54fd0b6816cba57b7cfdf": {
      "model_module": "@jupyter-widgets/controls",
      "model_module_version": "1.5.0",
      "model_name": "LabelModel",
      "state": {
       "_model_module_version": "1.5.0",
       "_view_module_version": "1.5.0",
       "layout": "IPY_MODEL_3cd696f0846e4d809fc6bfcbeec0200a",
       "style": "IPY_MODEL_18a689e011564526b13dbc6832469bbd",
       "value": "of 5 pages with "
      }
     },
     "2df3c48d814f4fdfada7d105da964640": {
      "model_module": "@jupyter-widgets/controls",
      "model_module_version": "1.5.0",
      "model_name": "LabelModel",
      "state": {
       "_model_module_version": "1.5.0",
       "_view_module_version": "1.5.0",
       "layout": "IPY_MODEL_499b1dcc745d4a7d8a5a161cd5b2668d",
       "style": "IPY_MODEL_6c16828f33bb43d0a58316d0caec81d8"
      }
     },
     "2e20333d87ee4c0a936b12913b13e73c": {
      "model_module": "@jupyter-widgets/controls",
      "model_module_version": "1.5.0",
      "model_name": "DropdownModel",
      "state": {
       "_model_module_version": "1.5.0",
       "_options_labels": [
        "text",
        "text_translated",
        "media",
        "source",
        "mode",
        "num_persons",
        "_timestamp",
        "confidence",
        "source_reliability",
        "locations",
        "origin_bool",
        "origin",
        "destination",
        "geom_tweet",
        "triage_status"
       ],
       "_view_module_version": "1.5.0",
       "index": 0,
       "layout": "IPY_MODEL_7aa3546ce7f8469d9f5188da81942ae0",
       "style": "IPY_MODEL_ed1c9dc361ff4ad7a38e0e10cab5eefc"
      }
     },
     "2e3076a565a947589c94e93347951b6d": {
      "model_module": "@jupyter-widgets/controls",
      "model_module_version": "1.5.0",
      "model_name": "DropdownModel",
      "state": {
       "_model_module_version": "1.5.0",
       "_options_labels": [
        "text",
        "text_translated",
        "media",
        "source",
        "mode",
        "num_persons",
        "_timestamp",
        "confidence",
        "source_reliability",
        "locations",
        "origin_bool",
        "origin",
        "destination",
        "geom_tweet",
        "triage_status"
       ],
       "_view_module_version": "1.5.0",
       "index": 0,
       "layout": "IPY_MODEL_dcffe1b21391407a92f273a0b7ca86a6",
       "style": "IPY_MODEL_fef94469ee784167a5248253cda97356"
      }
     },
     "2e3a94374e254526986e581869e0d4a5": {
      "model_module": "@jupyter-widgets/controls",
      "model_module_version": "1.5.0",
      "model_name": "TextModel",
      "state": {
       "_model_module_version": "1.5.0",
       "_view_module_version": "1.5.0",
       "layout": "IPY_MODEL_5c3f6bbaa42847379a9ef9f39c98a318",
       "style": "IPY_MODEL_03734a66d1204bb6aca20191939ee535",
       "value": "filtered_data.csv"
      }
     },
     "2e870c6812b540cb9a10f68623c15632": {
      "model_module": "@jupyter-widgets/controls",
      "model_module_version": "1.5.0",
      "model_name": "DescriptionStyleModel",
      "state": {
       "_model_module_version": "1.5.0",
       "_view_module_version": "1.2.0",
       "description_width": ""
      }
     },
     "2eff694e264841d4bffdaee1a1a031ce": {
      "model_module": "@jupyter-widgets/controls",
      "model_module_version": "1.5.0",
      "model_name": "ButtonStyleModel",
      "state": {
       "_model_module_version": "1.5.0",
       "_view_module_version": "1.2.0"
      }
     },
     "2f022d21e6324a72b6984b59cee9fd85": {
      "model_module": "@jupyter-widgets/controls",
      "model_module_version": "1.5.0",
      "model_name": "DescriptionStyleModel",
      "state": {
       "_model_module_version": "1.5.0",
       "_view_module_version": "1.2.0",
       "description_width": ""
      }
     },
     "2f336182fa824c1c9e327063e11e76a4": {
      "model_module": "@jupyter-widgets/base",
      "model_module_version": "1.2.0",
      "model_name": "LayoutModel",
      "state": {
       "_model_module_version": "1.2.0",
       "_view_module_version": "1.2.0",
       "justify_items": null,
       "object_fit": null,
       "object_position": null
      }
     },
     "2fdba478b34f4178b74a0439fdc2145c": {
      "model_module": "@jupyter-widgets/controls",
      "model_module_version": "1.5.0",
      "model_name": "ButtonModel",
      "state": {
       "_model_module_version": "1.5.0",
       "_view_module_version": "1.5.0",
       "description": "save",
       "layout": "IPY_MODEL_a7f4cb7379134dabb64c5383545a3985",
       "style": "IPY_MODEL_6ab886db7dc745249744d7a6dfaea5f3"
      }
     },
     "305373abfaf045f2a8ad2aa84f96ddbc": {
      "model_module": "@jupyter-widgets/controls",
      "model_module_version": "1.5.0",
      "model_name": "HTMLModel",
      "state": {
       "_model_module_version": "1.5.0",
       "_view_module_version": "1.5.0",
       "layout": "IPY_MODEL_d4b25ade288e4ebaac95bdf5bcca92f5",
       "style": "IPY_MODEL_97051d1dcae646919db2a2d2afb52f52",
       "value": "<h3>Required Values</h3>"
      }
     },
     "308482a4eeb44db3a4c32e8014ff2008": {
      "model_module": "@jupyter-widgets/base",
      "model_module_version": "1.2.0",
      "model_name": "LayoutModel",
      "state": {
       "_model_module_version": "1.2.0",
       "_view_module_version": "1.2.0",
       "justify_items": null,
       "object_fit": null,
       "object_position": null
      }
     },
     "3105e5258c8f40eca7de2bc59e3248cb": {
      "model_module": "@jupyter-widgets/base",
      "model_module_version": "1.2.0",
      "model_name": "LayoutModel",
      "state": {
       "_model_module_version": "1.2.0",
       "_view_module_version": "1.2.0",
       "justify_items": null,
       "object_fit": null,
       "object_position": null
      }
     },
     "3171c7668bf449bc819ad34dd3cc3be8": {
      "model_module": "@jupyter-widgets/controls",
      "model_module_version": "1.5.0",
      "model_name": "GridBoxModel",
      "state": {
       "_model_module_version": "1.5.0",
       "_view_module_version": "1.5.0",
       "children": [
        "IPY_MODEL_8a285a17b60145d88d86ff11988f089d",
        "IPY_MODEL_27db48c50f8a4325ae736fdb9344e745"
       ],
       "layout": "IPY_MODEL_6451e4e13ed54b04b9c5be21d6283593"
      }
     },
     "31be00d7ed3c4ba6be93e4c861201600": {
      "model_module": "@jupyter-widgets/controls",
      "model_module_version": "1.5.0",
      "model_name": "DescriptionStyleModel",
      "state": {
       "_model_module_version": "1.5.0",
       "_view_module_version": "1.2.0",
       "description_width": ""
      }
     },
     "31e0828a3c86437cbc03a8810b795b8d": {
      "model_module": "@jupyter-widgets/output",
      "model_module_version": "1.0.0",
      "model_name": "OutputModel",
      "state": {
       "layout": "IPY_MODEL_87684eeba71741d9829b7002f145a1fd"
      }
     },
     "3237c8297e604f8ba88862bc9ce62876": {
      "model_module": "@jupyter-widgets/controls",
      "model_module_version": "1.5.0",
      "model_name": "DescriptionStyleModel",
      "state": {
       "_model_module_version": "1.5.0",
       "_view_module_version": "1.2.0",
       "description_width": ""
      }
     },
     "3261dbfda7f248ccb802c21c2aaedabc": {
      "model_module": "@jupyter-widgets/base",
      "model_module_version": "1.2.0",
      "model_name": "LayoutModel",
      "state": {
       "_model_module_version": "1.2.0",
       "_view_module_version": "1.2.0",
       "justify_items": null,
       "object_fit": null,
       "object_position": null
      }
     },
     "328a75c0072a4e48bea24e2ae7488753": {
      "model_module": "@jupyter-widgets/controls",
      "model_module_version": "1.5.0",
      "model_name": "TextModel",
      "state": {
       "_model_module_version": "1.5.0",
       "_view_module_version": "1.5.0",
       "layout": "IPY_MODEL_c365e75ff8a240599610fe92d5fd9fe2",
       "style": "IPY_MODEL_0a05928989a04cbcab72196d6b0ca442"
      }
     },
     "32bf79389b5b4ce19bdfc1dc929ddc4c": {
      "model_module": "@jupyter-widgets/controls",
      "model_module_version": "1.5.0",
      "model_name": "DescriptionStyleModel",
      "state": {
       "_model_module_version": "1.5.0",
       "_view_module_version": "1.2.0",
       "description_width": ""
      }
     },
     "32d71af08f744a9db645ac30958d714d": {
      "model_module": "@jupyter-widgets/controls",
      "model_module_version": "1.5.0",
      "model_name": "TextModel",
      "state": {
       "_model_module_version": "1.5.0",
       "_view_module_version": "1.5.0",
       "layout": "IPY_MODEL_6af95bacd1ef46d29c4de8a158fb1f0a",
       "style": "IPY_MODEL_edd586035ee5488199730d9e0af97f14"
      }
     },
     "32d9522401e94f4fb6011e2bc4fe04b2": {
      "model_module": "@jupyter-widgets/base",
      "model_module_version": "1.2.0",
      "model_name": "LayoutModel",
      "state": {
       "_model_module_version": "1.2.0",
       "_view_module_version": "1.2.0",
       "justify_items": null,
       "object_fit": null,
       "object_position": null
      }
     },
     "32fb7c9a2f44485b893c7c1adcb3a143": {
      "model_module": "@jupyter-widgets/base",
      "model_module_version": "1.2.0",
      "model_name": "LayoutModel",
      "state": {
       "_model_module_version": "1.2.0",
       "_view_module_version": "1.2.0",
       "justify_items": null,
       "object_fit": null,
       "object_position": null
      }
     },
     "3394fd76847745daabf73add42146f67": {
      "model_module": "@jupyter-widgets/base",
      "model_module_version": "1.2.0",
      "model_name": "LayoutModel",
      "state": {
       "_model_module_version": "1.2.0",
       "_view_module_version": "1.2.0",
       "justify_items": null,
       "object_fit": null,
       "object_position": null,
       "width": "30px"
      }
     },
     "341415221a544b7c81c3d8ab67fab9f4": {
      "model_module": "@jupyter-widgets/base",
      "model_module_version": "1.2.0",
      "model_name": "LayoutModel",
      "state": {
       "_model_module_version": "1.2.0",
       "_view_module_version": "1.2.0",
       "justify_items": null,
       "object_fit": null,
       "object_position": null
      }
     },
     "342f4d96c5f94d6fa852d644240ae41e": {
      "model_module": "@jupyter-widgets/controls",
      "model_module_version": "1.5.0",
      "model_name": "HBoxModel",
      "state": {
       "_model_module_version": "1.5.0",
       "_view_module_version": "1.5.0",
       "children": [
        "IPY_MODEL_c4ace2c38294474f87bef11ab6fbade8",
        "IPY_MODEL_cbd221a13df44e1f80290c2c1d178f76",
        "IPY_MODEL_009a4f2a0ad7415ca0f8653a5ae8d9bd"
       ],
       "layout": "IPY_MODEL_d8496cedba4e47d196466daf6d9bfef1"
      }
     },
     "3434a37d70c44ca693a4ceae2b0ed2b1": {
      "model_module": "@jupyter-widgets/base",
      "model_module_version": "1.2.0",
      "model_name": "LayoutModel",
      "state": {
       "_model_module_version": "1.2.0",
       "_view_module_version": "1.2.0",
       "justify_items": null,
       "object_fit": null,
       "object_position": null
      }
     },
     "35aaca4cdd054cf1b331e6d1a870a550": {
      "model_module": "@jupyter-widgets/controls",
      "model_module_version": "1.5.0",
      "model_name": "DescriptionStyleModel",
      "state": {
       "_model_module_version": "1.5.0",
       "_view_module_version": "1.2.0",
       "description_width": ""
      }
     },
     "35cbf3d5e84c4f9aa6ef957e07a3e819": {
      "model_module": "@jupyter-widgets/controls",
      "model_module_version": "1.5.0",
      "model_name": "DescriptionStyleModel",
      "state": {
       "_model_module_version": "1.5.0",
       "_view_module_version": "1.2.0",
       "description_width": ""
      }
     },
     "36759404eca04d3bb4e51b32394d958c": {
      "model_module": "@jupyter-widgets/controls",
      "model_module_version": "1.5.0",
      "model_name": "ButtonModel",
      "state": {
       "_model_module_version": "1.5.0",
       "_view_module_version": "1.5.0",
       "icon": "chevron-left",
       "layout": "IPY_MODEL_80fe9090a44a4f19844522bc1c43f42c",
       "style": "IPY_MODEL_7ccf7a1fded24bdfb4976e238c8b3c8b"
      }
     },
     "372207b775b94242aa80e687aa66027c": {
      "model_module": "@jupyter-widgets/base",
      "model_module_version": "1.2.0",
      "model_name": "LayoutModel",
      "state": {
       "_model_module_version": "1.2.0",
       "_view_module_version": "1.2.0",
       "justify_items": null,
       "object_fit": null,
       "object_position": null
      }
     },
     "3797ae361cd8480f9f377b4dcbc0a7f2": {
      "model_module": "@jupyter-widgets/base",
      "model_module_version": "1.2.0",
      "model_name": "LayoutModel",
      "state": {
       "_model_module_version": "1.2.0",
       "_view_module_version": "1.2.0",
       "justify_items": null,
       "object_fit": null,
       "object_position": null
      }
     },
     "3807cddbea924514aa5a43f325458874": {
      "model_module": "@jupyter-widgets/base",
      "model_module_version": "1.2.0",
      "model_name": "LayoutModel",
      "state": {
       "_model_module_version": "1.2.0",
       "_view_module_version": "1.2.0",
       "justify_items": null,
       "object_fit": null,
       "object_position": null
      }
     },
     "3852a1537d4f4a3294229ec9297d0dd3": {
      "model_module": "@jupyter-widgets/controls",
      "model_module_version": "1.5.0",
      "model_name": "ButtonModel",
      "state": {
       "_model_module_version": "1.5.0",
       "_view_module_version": "1.5.0",
       "description": "save",
       "layout": "IPY_MODEL_3261dbfda7f248ccb802c21c2aaedabc",
       "style": "IPY_MODEL_4653464804bb4fd4979146322e81c983"
      }
     },
     "390d58e097964bd19921f332241ae9e8": {
      "model_module": "@jupyter-widgets/controls",
      "model_module_version": "1.5.0",
      "model_name": "HBoxModel",
      "state": {
       "_model_module_version": "1.5.0",
       "_view_module_version": "1.5.0",
       "children": [
        "IPY_MODEL_d672d76bd82e41f6be3d957708a0514f",
        "IPY_MODEL_62d80c0a8c60470eb3556857615e20e5",
        "IPY_MODEL_736c43add51e423bbf6d0f2e1b36ad22"
       ],
       "layout": "IPY_MODEL_e046d01267064c20b8af7d41cce3b233"
      }
     },
     "3a2d57a922c9430b82ed41a7fc28cdbb": {
      "model_module": "@jupyter-widgets/controls",
      "model_module_version": "1.5.0",
      "model_name": "DescriptionStyleModel",
      "state": {
       "_model_module_version": "1.5.0",
       "_view_module_version": "1.2.0",
       "description_width": ""
      }
     },
     "3a8243e49ce247f49f7105558fd3ceaa": {
      "model_module": "@jupyter-widgets/base",
      "model_module_version": "1.2.0",
      "model_name": "LayoutModel",
      "state": {
       "_model_module_version": "1.2.0",
       "_view_module_version": "1.2.0",
       "justify_items": null,
       "object_fit": null,
       "object_position": null
      }
     },
     "3ab5498c3552453b88783165c2412322": {
      "model_module": "@jupyter-widgets/controls",
      "model_module_version": "1.5.0",
      "model_name": "SliderStyleModel",
      "state": {
       "_model_module_version": "1.5.0",
       "_view_module_version": "1.2.0",
       "description_width": ""
      }
     },
     "3af787e606f74af785fec1e321c03029": {
      "model_module": "@jupyter-widgets/base",
      "model_module_version": "1.2.0",
      "model_name": "LayoutModel",
      "state": {
       "_model_module_version": "1.2.0",
       "_view_module_version": "1.2.0",
       "justify_items": null,
       "object_fit": null,
       "object_position": null
      }
     },
     "3b0201f15da8453d8f4cec075076dea6": {
      "model_module": "@jupyter-widgets/base",
      "model_module_version": "1.2.0",
      "model_name": "LayoutModel",
      "state": {
       "_model_module_version": "1.2.0",
       "_view_module_version": "1.2.0",
       "justify_items": null,
       "object_fit": null,
       "object_position": null
      }
     },
     "3b0b10b296144f2ba9b4da9424041151": {
      "model_module": "@jupyter-widgets/base",
      "model_module_version": "1.2.0",
      "model_name": "LayoutModel",
      "state": {
       "_model_module_version": "1.2.0",
       "_view_module_version": "1.2.0",
       "justify_items": null,
       "object_fit": null,
       "object_position": null
      }
     },
     "3b420fce2cd44ca3adcb27d730f533ef": {
      "model_module": "@jupyter-widgets/controls",
      "model_module_version": "1.5.0",
      "model_name": "HBoxModel",
      "state": {
       "_model_module_version": "1.5.0",
       "_view_module_version": "1.5.0",
       "children": [
        "IPY_MODEL_d8c949393557423daec7aceb0dde63e0",
        "IPY_MODEL_f823c68cd37c4811a329da17f5a8c8f9",
        "IPY_MODEL_992ca0a5574c4b62bfa360d370843aef"
       ],
       "layout": "IPY_MODEL_49bb9643b5354761be72250c07a49aee"
      }
     },
     "3c015cb7c90c4e1cb5b651978dbb74d6": {
      "model_module": "@jupyter-widgets/base",
      "model_module_version": "1.2.0",
      "model_name": "LayoutModel",
      "state": {
       "_model_module_version": "1.2.0",
       "_view_module_version": "1.2.0",
       "justify_items": null,
       "object_fit": null,
       "object_position": null,
       "width": "30px"
      }
     },
     "3c082bafa63e496587a159b868d51e0a": {
      "model_module": "@jupyter-widgets/base",
      "model_module_version": "1.2.0",
      "model_name": "LayoutModel",
      "state": {
       "_model_module_version": "1.2.0",
       "_view_module_version": "1.2.0",
       "justify_items": null,
       "object_fit": null,
       "object_position": null
      }
     },
     "3c55cffa5dd74ce4b68cd743246dbade": {
      "model_module": "@jupyter-widgets/controls",
      "model_module_version": "1.5.0",
      "model_name": "VBoxModel",
      "state": {
       "_model_module_version": "1.5.0",
       "_view_module_version": "1.5.0",
       "children": [
        "IPY_MODEL_fbc1dfd86869493fbd1201a244e7596f",
        "IPY_MODEL_f7cbf14e29114c4a9ac88dcb2601ea4c",
        "IPY_MODEL_d99057b2a4304d09a609406776bc7e39"
       ],
       "layout": "IPY_MODEL_beb7cc3a7f1c455bba4fce0668edd0f9"
      }
     },
     "3c9f46ac62774c749c1e3abc507ecd7a": {
      "model_module": "@jupyter-widgets/base",
      "model_module_version": "1.2.0",
      "model_name": "LayoutModel",
      "state": {
       "_model_module_version": "1.2.0",
       "_view_module_version": "1.2.0",
       "justify_items": null,
       "object_fit": null,
       "object_position": null
      }
     },
     "3cd696f0846e4d809fc6bfcbeec0200a": {
      "model_module": "@jupyter-widgets/base",
      "model_module_version": "1.2.0",
      "model_name": "LayoutModel",
      "state": {
       "_model_module_version": "1.2.0",
       "_view_module_version": "1.2.0",
       "justify_items": null,
       "object_fit": null,
       "object_position": null
      }
     },
     "3d4be98abd3b444a8c2f204a9b16a353": {
      "model_module": "@jupyter-widgets/controls",
      "model_module_version": "1.5.0",
      "model_name": "SelectMultipleModel",
      "state": {
       "_model_module_version": "1.5.0",
       "_options_labels": [
        "text",
        "text_translated",
        "media",
        "source",
        "mode",
        "num_persons",
        "_timestamp",
        "confidence",
        "source_reliability",
        "locations",
        "origin_bool",
        "origin",
        "destination",
        "geom_tweet",
        "triage_status"
       ],
       "_view_module_version": "1.5.0",
       "index": [],
       "layout": "IPY_MODEL_728eb4f8e80b4c3e8643c7f37b64deb4",
       "rows": 5,
       "style": "IPY_MODEL_54688307ed3d462cb8cc11fae5b61f77"
      }
     },
     "3d5316aa6cc7486485750f17cff7d2b6": {
      "model_module": "@jupyter-widgets/controls",
      "model_module_version": "1.5.0",
      "model_name": "DescriptionStyleModel",
      "state": {
       "_model_module_version": "1.5.0",
       "_view_module_version": "1.2.0",
       "description_width": ""
      }
     },
     "3d67654cfa5d489796ffbeae3cfef6e4": {
      "model_module": "@jupyter-widgets/controls",
      "model_module_version": "1.5.0",
      "model_name": "HTMLModel",
      "state": {
       "_model_module_version": "1.5.0",
       "_view_module_version": "1.5.0",
       "layout": "IPY_MODEL_e3fe0e7303cb41d99ad44c26abbf8e0e",
       "style": "IPY_MODEL_42b97eed7e2c4bc8beee248a1ef8e5c3",
       "value": "Deselect with ctrl + click"
      }
     },
     "3db62e09cd4042148a1e42db1feea3fa": {
      "model_module": "@jupyter-widgets/base",
      "model_module_version": "1.2.0",
      "model_name": "LayoutModel",
      "state": {
       "_model_module_version": "1.2.0",
       "_view_module_version": "1.2.0",
       "justify_items": null,
       "object_fit": null,
       "object_position": null
      }
     },
     "3df782d5a3c34ca0923b350513952fb6": {
      "model_module": "@jupyter-widgets/controls",
      "model_module_version": "1.5.0",
      "model_name": "VBoxModel",
      "state": {
       "_model_module_version": "1.5.0",
       "_view_module_version": "1.5.0",
       "children": [
        "IPY_MODEL_c299446f0f044845bd1d370b9fca4c7d",
        "IPY_MODEL_eb6db8a9b95c4b0abca562eed867dfce",
        "IPY_MODEL_405a337b591d412f903281e8c4dac123"
       ],
       "layout": "IPY_MODEL_99560f5dc6c94e2cb6f39659d1b88b42"
      }
     },
     "3dff5c878da94ced951da9f81295e968": {
      "model_module": "@jupyter-widgets/base",
      "model_module_version": "1.2.0",
      "model_name": "LayoutModel",
      "state": {
       "_model_module_version": "1.2.0",
       "_view_module_version": "1.2.0",
       "justify_items": null,
       "object_fit": null,
       "object_position": null
      }
     },
     "3e3d7fd4ddea411885706b4f739f85d6": {
      "model_module": "@jupyter-widgets/base",
      "model_module_version": "1.2.0",
      "model_name": "LayoutModel",
      "state": {
       "_model_module_version": "1.2.0",
       "_view_module_version": "1.2.0",
       "justify_items": null,
       "object_fit": null,
       "object_position": null
      }
     },
     "3e6595b7b96d4bfb99164350df101f5e": {
      "model_module": "@jupyter-widgets/base",
      "model_module_version": "1.2.0",
      "model_name": "LayoutModel",
      "state": {
       "_model_module_version": "1.2.0",
       "_view_module_version": "1.2.0",
       "justify_items": null,
       "object_fit": null,
       "object_position": null
      }
     },
     "3e6a6e692eb741b4a898b5db40262a6c": {
      "model_module": "@jupyter-widgets/output",
      "model_module_version": "1.0.0",
      "model_name": "OutputModel",
      "state": {
       "layout": "IPY_MODEL_78b21365a66d4cfbb8f615ecc41506d4",
       "outputs": [
        {
         "data": {
          "application/vnd.jupyter.widget-view+json": {
           "model_id": "75c59ee78c004936bd7a7cf0e42cf8d4",
           "version_major": 2,
           "version_minor": 0
          },
          "text/plain": "VBox(children=(HBox(children=(IntSlider(value=1, layout=Layout(width='60%'), max=266, min=1), Label(value='of …"
         },
         "metadata": {},
         "output_type": "display_data"
        }
       ]
      }
     },
     "3e76727159cc417ea3e0a269f22fe60a": {
      "model_module": "@jupyter-widgets/controls",
      "model_module_version": "1.5.0",
      "model_name": "VBoxModel",
      "state": {
       "_model_module_version": "1.5.0",
       "_view_module_version": "1.5.0",
       "children": [
        "IPY_MODEL_cac6b97800e34a35a4bc57bbc1942df8",
        "IPY_MODEL_3d67654cfa5d489796ffbeae3cfef6e4"
       ],
       "layout": "IPY_MODEL_0f7cb65fa70d4008b642de2027e5ea7d"
      }
     },
     "3eafe54f040449d4847293b46d3afed2": {
      "model_module": "@jupyter-widgets/base",
      "model_module_version": "1.2.0",
      "model_name": "LayoutModel",
      "state": {
       "_model_module_version": "1.2.0",
       "_view_module_version": "1.2.0",
       "justify_items": null,
       "object_fit": null,
       "object_position": null
      }
     },
     "3ee4fa6bcc65463a87bf3bd9727a65ce": {
      "model_module": "@jupyter-widgets/base",
      "model_module_version": "1.2.0",
      "model_name": "LayoutModel",
      "state": {
       "_model_module_version": "1.2.0",
       "_view_module_version": "1.2.0",
       "justify_items": null,
       "object_fit": null,
       "object_position": null
      }
     },
     "3f8120e47c444b328beeeba44a6fd9f1": {
      "model_module": "@jupyter-widgets/controls",
      "model_module_version": "1.5.0",
      "model_name": "ButtonStyleModel",
      "state": {
       "_model_module_version": "1.5.0",
       "_view_module_version": "1.2.0"
      }
     },
     "405a337b591d412f903281e8c4dac123": {
      "model_module": "@jupyter-widgets/output",
      "model_module_version": "1.0.0",
      "model_name": "OutputModel",
      "state": {
       "layout": "IPY_MODEL_42df53f23bc74050b53ce291f492099f",
       "outputs": [
        {
         "data": {
          "image/png": "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\n",
          "text/plain": "<Figure size 432x288 with 1 Axes>"
         },
         "metadata": {
          "needs_background": "light"
         },
         "output_type": "display_data"
        }
       ]
      }
     },
     "408492e35b7642de85208293cb21a475": {
      "model_module": "@jupyter-widgets/controls",
      "model_module_version": "1.5.0",
      "model_name": "DescriptionStyleModel",
      "state": {
       "_model_module_version": "1.5.0",
       "_view_module_version": "1.2.0",
       "description_width": ""
      }
     },
     "40ee7dd4c02b4137beae112bd10d6f3a": {
      "model_module": "@jupyter-widgets/base",
      "model_module_version": "1.2.0",
      "model_name": "LayoutModel",
      "state": {
       "_model_module_version": "1.2.0",
       "_view_module_version": "1.2.0",
       "grid_area": "top-right",
       "justify_items": null,
       "object_fit": null,
       "object_position": null
      }
     },
     "41106ca3c66948338b105b5b66dd3e58": {
      "model_module": "@jupyter-widgets/base",
      "model_module_version": "1.2.0",
      "model_name": "LayoutModel",
      "state": {
       "_model_module_version": "1.2.0",
       "_view_module_version": "1.2.0",
       "justify_items": null,
       "object_fit": null,
       "object_position": null
      }
     },
     "4112a5d5fe1e42648a9f6e95de9df6cd": {
      "model_module": "@jupyter-widgets/controls",
      "model_module_version": "1.5.0",
      "model_name": "HBoxModel",
      "state": {
       "_model_module_version": "1.5.0",
       "_view_module_version": "1.5.0",
       "children": [
        "IPY_MODEL_61a3e0999c184134bc6cf3378ecb5ce4",
        "IPY_MODEL_6d98621cdc3a43a8a4eea13df7171bd1",
        "IPY_MODEL_5ec4fe44426940d1a3aaa76e72e32b27",
        "IPY_MODEL_5827f36f326a4e4c8c045039a1265c81",
        "IPY_MODEL_74a1fe83392348e298cd84279727ca23"
       ],
       "layout": "IPY_MODEL_5309470660f0435bb302884449103e8b"
      }
     },
     "4169361bc08f4655a4f60f6c0f159aa3": {
      "model_module": "@jupyter-widgets/base",
      "model_module_version": "1.2.0",
      "model_name": "LayoutModel",
      "state": {
       "_model_module_version": "1.2.0",
       "_view_module_version": "1.2.0",
       "justify_items": null,
       "object_fit": null,
       "object_position": null
      }
     },
     "417d1b9bd1184be5bd72219cfdb5514d": {
      "model_module": "@jupyter-widgets/controls",
      "model_module_version": "1.5.0",
      "model_name": "DescriptionStyleModel",
      "state": {
       "_model_module_version": "1.5.0",
       "_view_module_version": "1.2.0",
       "description_width": ""
      }
     },
     "41873002a1ae49d7b4c8e5dea1e5abe4": {
      "model_module": "@jupyter-widgets/base",
      "model_module_version": "1.2.0",
      "model_name": "LayoutModel",
      "state": {
       "_model_module_version": "1.2.0",
       "_view_module_version": "1.2.0",
       "justify_items": null,
       "object_fit": null,
       "object_position": null
      }
     },
     "418ac549db6c4054b31643aacfec1b2d": {
      "model_module": "@jupyter-widgets/controls",
      "model_module_version": "1.5.0",
      "model_name": "DescriptionStyleModel",
      "state": {
       "_model_module_version": "1.5.0",
       "_view_module_version": "1.2.0",
       "description_width": ""
      }
     },
     "41cb846f48b44f0aac358111cd93136b": {
      "model_module": "@jupyter-widgets/base",
      "model_module_version": "1.2.0",
      "model_name": "LayoutModel",
      "state": {
       "_model_module_version": "1.2.0",
       "_view_module_version": "1.2.0",
       "justify_items": null,
       "object_fit": null,
       "object_position": null
      }
     },
     "41f9819e4dc24f4d9a75b846cca1e2ab": {
      "model_module": "@jupyter-widgets/base",
      "model_module_version": "1.2.0",
      "model_name": "LayoutModel",
      "state": {
       "_model_module_version": "1.2.0",
       "_view_module_version": "1.2.0",
       "justify_items": null,
       "object_fit": null,
       "object_position": null
      }
     },
     "42b97eed7e2c4bc8beee248a1ef8e5c3": {
      "model_module": "@jupyter-widgets/controls",
      "model_module_version": "1.5.0",
      "model_name": "DescriptionStyleModel",
      "state": {
       "_model_module_version": "1.5.0",
       "_view_module_version": "1.2.0",
       "description_width": ""
      }
     },
     "42df53f23bc74050b53ce291f492099f": {
      "model_module": "@jupyter-widgets/base",
      "model_module_version": "1.2.0",
      "model_name": "LayoutModel",
      "state": {
       "_model_module_version": "1.2.0",
       "_view_module_version": "1.2.0",
       "justify_items": null,
       "object_fit": null,
       "object_position": null
      }
     },
     "43c5aed1662d4a758a0b8420205c5b18": {
      "model_module": "@jupyter-widgets/base",
      "model_module_version": "1.2.0",
      "model_name": "LayoutModel",
      "state": {
       "_model_module_version": "1.2.0",
       "_view_module_version": "1.2.0",
       "justify_items": null,
       "object_fit": null,
       "object_position": null
      }
     },
     "43e48e0898c441ffbc856c96df2d4ef0": {
      "model_module": "@jupyter-widgets/controls",
      "model_module_version": "1.5.0",
      "model_name": "ButtonModel",
      "state": {
       "_model_module_version": "1.5.0",
       "_view_module_version": "1.5.0",
       "description": "save",
       "layout": "IPY_MODEL_6e814ed2d17a43f7bae25ebc9483af8a",
       "style": "IPY_MODEL_2c890f2b9cfe4e728a48d585348b9674"
      }
     },
     "43edf9ae22a14d0eb42b90003e8c6ee0": {
      "model_module": "@jupyter-widgets/controls",
      "model_module_version": "1.5.0",
      "model_name": "DescriptionStyleModel",
      "state": {
       "_model_module_version": "1.5.0",
       "_view_module_version": "1.2.0",
       "description_width": ""
      }
     },
     "4418225dffd74612992f6e6aecc1825a": {
      "model_module": "@jupyter-widgets/controls",
      "model_module_version": "1.5.0",
      "model_name": "LabelModel",
      "state": {
       "_model_module_version": "1.5.0",
       "_view_module_version": "1.5.0",
       "layout": "IPY_MODEL_b8d315215a0640afad6f70aa2a01a182",
       "style": "IPY_MODEL_8194912b9bba40479a5fd65f4cdd03d9",
       "value": "of 266 pages with "
      }
     },
     "44481e96f9754c5a847fd98fe5dec790": {
      "model_module": "@jupyter-widgets/controls",
      "model_module_version": "1.5.0",
      "model_name": "HBoxModel",
      "state": {
       "_model_module_version": "1.5.0",
       "_view_module_version": "1.5.0",
       "children": [
        "IPY_MODEL_9e1e6cc33d164df9a9bddb3b7875e1e0",
        "IPY_MODEL_49fe0341b1e64e77a93a235be514d6f0",
        "IPY_MODEL_f3afd339dc944d998ca5239cb995c165"
       ],
       "layout": "IPY_MODEL_4a2069a150fe41edb7a03f228bb445ae"
      }
     },
     "44d0826352fa4c44962069b2e2bd8427": {
      "model_module": "@jupyter-widgets/base",
      "model_module_version": "1.2.0",
      "model_name": "LayoutModel",
      "state": {
       "_model_module_version": "1.2.0",
       "_view_module_version": "1.2.0",
       "justify_items": null,
       "object_fit": null,
       "object_position": null
      }
     },
     "4518b4e8f96a4ab3a32d108af2889810": {
      "model_module": "@jupyter-widgets/base",
      "model_module_version": "1.2.0",
      "model_name": "LayoutModel",
      "state": {
       "_model_module_version": "1.2.0",
       "_view_module_version": "1.2.0",
       "grid_area": "top-right",
       "justify_items": null,
       "object_fit": null,
       "object_position": null
      }
     },
     "451a26b6a2f54e83aa73dd3a07638f20": {
      "model_module": "@jupyter-widgets/controls",
      "model_module_version": "1.5.0",
      "model_name": "DescriptionStyleModel",
      "state": {
       "_model_module_version": "1.5.0",
       "_view_module_version": "1.2.0",
       "description_width": ""
      }
     },
     "4544854f51a44d9bb528a3357d2f0019": {
      "model_module": "@jupyter-widgets/controls",
      "model_module_version": "1.5.0",
      "model_name": "DescriptionStyleModel",
      "state": {
       "_model_module_version": "1.5.0",
       "_view_module_version": "1.2.0",
       "description_width": ""
      }
     },
     "45632d4e0a4b492c849f3b5e8706fa50": {
      "model_module": "@jupyter-widgets/base",
      "model_module_version": "1.2.0",
      "model_name": "LayoutModel",
      "state": {
       "_model_module_version": "1.2.0",
       "_view_module_version": "1.2.0",
       "justify_items": null,
       "object_fit": null,
       "object_position": null
      }
     },
     "45669739a90f4a09a41d8357e3422688": {
      "model_module": "@jupyter-widgets/controls",
      "model_module_version": "1.5.0",
      "model_name": "DescriptionStyleModel",
      "state": {
       "_model_module_version": "1.5.0",
       "_view_module_version": "1.2.0",
       "description_width": ""
      }
     },
     "4653464804bb4fd4979146322e81c983": {
      "model_module": "@jupyter-widgets/controls",
      "model_module_version": "1.5.0",
      "model_name": "ButtonStyleModel",
      "state": {
       "_model_module_version": "1.5.0",
       "_view_module_version": "1.2.0"
      }
     },
     "4695c6f6b9954deab8a6ab8ef80b4491": {
      "model_module": "@jupyter-widgets/controls",
      "model_module_version": "1.5.0",
      "model_name": "DescriptionStyleModel",
      "state": {
       "_model_module_version": "1.5.0",
       "_view_module_version": "1.2.0",
       "description_width": ""
      }
     },
     "46fc4d941bb54a17967c470e3931ff69": {
      "model_module": "@jupyter-widgets/base",
      "model_module_version": "1.2.0",
      "model_name": "LayoutModel",
      "state": {
       "_model_module_version": "1.2.0",
       "_view_module_version": "1.2.0",
       "justify_items": null,
       "object_fit": null,
       "object_position": null
      }
     },
     "47014c0424f64052a1a22e24bde40edd": {
      "model_module": "@jupyter-widgets/controls",
      "model_module_version": "1.5.0",
      "model_name": "DropdownModel",
      "state": {
       "_model_module_version": "1.5.0",
       "_options_labels": [
        "text",
        "text_translated",
        "media",
        "source",
        "mode",
        "num_persons",
        "_timestamp",
        "confidence",
        "source_reliability",
        "locations",
        "origin_bool",
        "origin",
        "destination",
        "geom_tweet",
        "triage_status"
       ],
       "_view_module_version": "1.5.0",
       "description": "order by",
       "index": 0,
       "layout": "IPY_MODEL_7df8bffc51454fd7ac973c8edce6935e",
       "style": "IPY_MODEL_9e500f10aaf44b11bf49d15bdfa39f9a"
      }
     },
     "470f789515454dee983ae0fd066b1bbe": {
      "model_module": "@jupyter-widgets/base",
      "model_module_version": "1.2.0",
      "model_name": "LayoutModel",
      "state": {
       "_model_module_version": "1.2.0",
       "_view_module_version": "1.2.0",
       "grid_area": "top-left",
       "justify_items": null,
       "object_fit": null,
       "object_position": null
      }
     },
     "474d2c8f5af74fd7ac8d0d2e8c78798b": {
      "model_module": "@jupyter-widgets/controls",
      "model_module_version": "1.5.0",
      "model_name": "LabelModel",
      "state": {
       "_model_module_version": "1.5.0",
       "_view_module_version": "1.5.0",
       "layout": "IPY_MODEL_4a7eb56d27794438bdb2248c16fa4977",
       "style": "IPY_MODEL_1ab24801af394d06aefbd19e63c66549",
       "value": "Search Columns"
      }
     },
     "476a9d0c73474c51b89cfa654f434f5b": {
      "model_module": "@jupyter-widgets/controls",
      "model_module_version": "1.5.0",
      "model_name": "DescriptionStyleModel",
      "state": {
       "_model_module_version": "1.5.0",
       "_view_module_version": "1.2.0",
       "description_width": ""
      }
     },
     "47e490e7827f44b1ae69f7c066c88c08": {
      "model_module": "@jupyter-widgets/controls",
      "model_module_version": "1.5.0",
      "model_name": "HBoxModel",
      "state": {
       "_model_module_version": "1.5.0",
       "_view_module_version": "1.5.0",
       "children": [
        "IPY_MODEL_caf4d5c7c57b45babb47e945ca0946a9",
        "IPY_MODEL_2fdba478b34f4178b74a0439fdc2145c",
        "IPY_MODEL_dcedf0927f794aeabd473ae70766ab6d"
       ],
       "layout": "IPY_MODEL_72f58ab7575d498d897dd63805d6c894"
      }
     },
     "48f0076696b14974b5ae653911d9293b": {
      "model_module": "@jupyter-widgets/base",
      "model_module_version": "1.2.0",
      "model_name": "LayoutModel",
      "state": {
       "_model_module_version": "1.2.0",
       "_view_module_version": "1.2.0",
       "justify_items": null,
       "object_fit": null,
       "object_position": null
      }
     },
     "492831d23a18439a8cdf9f5b25cb8a23": {
      "model_module": "@jupyter-widgets/controls",
      "model_module_version": "1.5.0",
      "model_name": "DescriptionStyleModel",
      "state": {
       "_model_module_version": "1.5.0",
       "_view_module_version": "1.2.0",
       "description_width": ""
      }
     },
     "49478bd0cf4e4a2b8c969da0920acb0e": {
      "model_module": "@jupyter-widgets/controls",
      "model_module_version": "1.5.0",
      "model_name": "HBoxModel",
      "state": {
       "_model_module_version": "1.5.0",
       "_view_module_version": "1.5.0",
       "children": [
        "IPY_MODEL_3d4be98abd3b444a8c2f204a9b16a353",
        "IPY_MODEL_f7c7441462094859b3c8541047d42220"
       ],
       "layout": "IPY_MODEL_b2714a4891ed4f27baf15451c5e61fb5"
      }
     },
     "499b1dcc745d4a7d8a5a161cd5b2668d": {
      "model_module": "@jupyter-widgets/base",
      "model_module_version": "1.2.0",
      "model_name": "LayoutModel",
      "state": {
       "_model_module_version": "1.2.0",
       "_view_module_version": "1.2.0",
       "justify_items": null,
       "object_fit": null,
       "object_position": null
      }
     },
     "49b251ee31ea43d1b06f23438fe16763": {
      "model_module": "@jupyter-widgets/base",
      "model_module_version": "1.2.0",
      "model_name": "LayoutModel",
      "state": {
       "_model_module_version": "1.2.0",
       "_view_module_version": "1.2.0",
       "justify_items": null,
       "object_fit": null,
       "object_position": null
      }
     },
     "49b985154e9c45bebd8d50f3c225d59e": {
      "model_module": "@jupyter-widgets/controls",
      "model_module_version": "1.5.0",
      "model_name": "HTMLModel",
      "state": {
       "_model_module_version": "1.5.0",
       "_view_module_version": "1.5.0",
       "layout": "IPY_MODEL_fd116cbb729b4a28935c7371f1d10ca1",
       "style": "IPY_MODEL_71dbeaf431c5423fb6a453c24379e9a7",
       "value": "<h3>Save filtered Data</h3>"
      }
     },
     "49bb9643b5354761be72250c07a49aee": {
      "model_module": "@jupyter-widgets/base",
      "model_module_version": "1.2.0",
      "model_name": "LayoutModel",
      "state": {
       "_model_module_version": "1.2.0",
       "_view_module_version": "1.2.0",
       "justify_items": null,
       "object_fit": null,
       "object_position": null
      }
     },
     "49fe0341b1e64e77a93a235be514d6f0": {
      "model_module": "@jupyter-widgets/controls",
      "model_module_version": "1.5.0",
      "model_name": "ToggleButtonModel",
      "state": {
       "_model_module_version": "1.5.0",
       "_view_module_version": "1.5.0",
       "description": "ascending",
       "layout": "IPY_MODEL_c04e7ee71eb6473fbf263b8d00021931",
       "style": "IPY_MODEL_14fe86253200459aaee952fb1777620e",
       "value": true
      }
     },
     "4a2069a150fe41edb7a03f228bb445ae": {
      "model_module": "@jupyter-widgets/base",
      "model_module_version": "1.2.0",
      "model_name": "LayoutModel",
      "state": {
       "_model_module_version": "1.2.0",
       "_view_module_version": "1.2.0",
       "height": "50px",
       "justify_items": null,
       "object_fit": null,
       "object_position": null
      }
     },
     "4a5f560918e94e90ab5de7cef8e58267": {
      "model_module": "@jupyter-widgets/controls",
      "model_module_version": "1.5.0",
      "model_name": "LabelModel",
      "state": {
       "_model_module_version": "1.5.0",
       "_view_module_version": "1.5.0",
       "layout": "IPY_MODEL_d103eaea97654070b654fa21c9a0f250",
       "style": "IPY_MODEL_a8af0b2c1a99470592c3c1f4a135ce77",
       "value": "50 rows"
      }
     },
     "4a63a6304129449c9c44e54d6020e090": {
      "model_module": "@jupyter-widgets/base",
      "model_module_version": "1.2.0",
      "model_name": "LayoutModel",
      "state": {
       "_model_module_version": "1.2.0",
       "_view_module_version": "1.2.0",
       "justify_items": null,
       "object_fit": null,
       "object_position": null
      }
     },
     "4a7eb56d27794438bdb2248c16fa4977": {
      "model_module": "@jupyter-widgets/base",
      "model_module_version": "1.2.0",
      "model_name": "LayoutModel",
      "state": {
       "_model_module_version": "1.2.0",
       "_view_module_version": "1.2.0",
       "justify_items": null,
       "object_fit": null,
       "object_position": null
      }
     },
     "4a980ecffc16410ba5498ccb2fa9cc45": {
      "model_module": "@jupyter-widgets/controls",
      "model_module_version": "1.5.0",
      "model_name": "DescriptionStyleModel",
      "state": {
       "_model_module_version": "1.5.0",
       "_view_module_version": "1.2.0",
       "description_width": ""
      }
     },
     "4b827051657949868fd0d306c343735c": {
      "model_module": "@jupyter-widgets/controls",
      "model_module_version": "1.5.0",
      "model_name": "DescriptionStyleModel",
      "state": {
       "_model_module_version": "1.5.0",
       "_view_module_version": "1.2.0",
       "description_width": ""
      }
     },
     "4ba454ebb5384e2eabf6c4f2f6ee50c3": {
      "model_module": "@jupyter-widgets/base",
      "model_module_version": "1.2.0",
      "model_name": "LayoutModel",
      "state": {
       "_model_module_version": "1.2.0",
       "_view_module_version": "1.2.0",
       "justify_items": null,
       "object_fit": null,
       "object_position": null,
       "width": "30px"
      }
     },
     "4c5dff4bdbc74466aee3d9c58813b224": {
      "model_module": "@jupyter-widgets/base",
      "model_module_version": "1.2.0",
      "model_name": "LayoutModel",
      "state": {
       "_model_module_version": "1.2.0",
       "_view_module_version": "1.2.0",
       "height": "50px",
       "justify_items": null,
       "object_fit": null,
       "object_position": null
      }
     },
     "4cacb675710d4d1fa76f73c494a6c8fa": {
      "model_module": "@jupyter-widgets/controls",
      "model_module_version": "1.5.0",
      "model_name": "HTMLModel",
      "state": {
       "_model_module_version": "1.5.0",
       "_view_module_version": "1.5.0",
       "layout": "IPY_MODEL_b65d00325f2a4237b8d5d95cadd3dd39",
       "style": "IPY_MODEL_32bf79389b5b4ce19bdfc1dc929ddc4c",
       "value": "<h3>Required Values</h3>"
      }
     },
     "4cd6fb1ddfa94ea7a4d8deb9547f3ce7": {
      "model_module": "@jupyter-widgets/controls",
      "model_module_version": "1.5.0",
      "model_name": "ButtonStyleModel",
      "state": {
       "_model_module_version": "1.5.0",
       "_view_module_version": "1.2.0"
      }
     },
     "4d3ae2ec8e444417b871fcb9ad682ac4": {
      "model_module": "@jupyter-widgets/controls",
      "model_module_version": "1.5.0",
      "model_name": "TextModel",
      "state": {
       "_model_module_version": "1.5.0",
       "_view_module_version": "1.5.0",
       "layout": "IPY_MODEL_99071af2f0fa4b51a5e2ba8bf62afdde",
       "style": "IPY_MODEL_9e73768f5e8b484ab7f9e508d044b685"
      }
     },
     "4d509261279940e6b161dfc6697cabd4": {
      "model_module": "@jupyter-widgets/base",
      "model_module_version": "1.2.0",
      "model_name": "LayoutModel",
      "state": {
       "_model_module_version": "1.2.0",
       "_view_module_version": "1.2.0",
       "grid_area": "top-left",
       "justify_items": null,
       "object_fit": null,
       "object_position": null
      }
     },
     "4e1823cb03c04ff9abb0a44333a0fe21": {
      "model_module": "@jupyter-widgets/controls",
      "model_module_version": "1.5.0",
      "model_name": "DescriptionStyleModel",
      "state": {
       "_model_module_version": "1.5.0",
       "_view_module_version": "1.2.0",
       "description_width": ""
      }
     },
     "4e424cf2a1ba41a49b3129035bd13fe2": {
      "model_module": "@jupyter-widgets/controls",
      "model_module_version": "1.5.0",
      "model_name": "HTMLModel",
      "state": {
       "_model_module_version": "1.5.0",
       "_view_module_version": "1.5.0",
       "layout": "IPY_MODEL_341415221a544b7c81c3d8ab67fab9f4",
       "style": "IPY_MODEL_3a2d57a922c9430b82ed41a7fc28cdbb",
       "value": "Select multiple by dragging or ctrl + click"
      }
     },
     "4e65bc52314a4fe8ba504fd9a9cd5f9a": {
      "model_module": "@jupyter-widgets/controls",
      "model_module_version": "1.5.0",
      "model_name": "DescriptionStyleModel",
      "state": {
       "_model_module_version": "1.5.0",
       "_view_module_version": "1.2.0",
       "description_width": ""
      }
     },
     "4e75fca71f5e463583d250170094a1d3": {
      "model_module": "@jupyter-widgets/base",
      "model_module_version": "1.2.0",
      "model_name": "LayoutModel",
      "state": {
       "_model_module_version": "1.2.0",
       "_view_module_version": "1.2.0",
       "grid_area": "top-left",
       "justify_items": null,
       "object_fit": null,
       "object_position": null
      }
     },
     "4ef69312d886479589f28a825c5436a6": {
      "model_module": "@jupyter-widgets/controls",
      "model_module_version": "1.5.0",
      "model_name": "DescriptionStyleModel",
      "state": {
       "_model_module_version": "1.5.0",
       "_view_module_version": "1.2.0",
       "description_width": ""
      }
     },
     "4f148930ac18427c9390acfb966efdea": {
      "model_module": "@jupyter-widgets/controls",
      "model_module_version": "1.5.0",
      "model_name": "DropdownModel",
      "state": {
       "_model_module_version": "1.5.0",
       "_options_labels": [
        "text",
        "text_translated",
        "media",
        "source",
        "mode",
        "num_persons",
        "_timestamp",
        "confidence",
        "source_reliability",
        "locations",
        "origin_bool",
        "origin",
        "destination",
        "geom_tweet",
        "triage_status"
       ],
       "_view_module_version": "1.5.0",
       "description": "order by",
       "index": 0,
       "layout": "IPY_MODEL_d35637aebc9a4631afbc20dc790c949e",
       "style": "IPY_MODEL_0ea97fb9fb014f2496edfcf7756c9f96"
      }
     },
     "4f5242db5aa248ee924e4e0113a5c799": {
      "model_module": "@jupyter-widgets/base",
      "model_module_version": "1.2.0",
      "model_name": "LayoutModel",
      "state": {
       "_model_module_version": "1.2.0",
       "_view_module_version": "1.2.0",
       "justify_items": null,
       "object_fit": null,
       "object_position": null,
       "width": "60%"
      }
     },
     "50778de51b254c5a95af57f46d03f514": {
      "model_module": "@jupyter-widgets/controls",
      "model_module_version": "1.5.0",
      "model_name": "DescriptionStyleModel",
      "state": {
       "_model_module_version": "1.5.0",
       "_view_module_version": "1.2.0",
       "description_width": ""
      }
     },
     "50def60d4450469f8ee4506c528a48c3": {
      "model_module": "@jupyter-widgets/base",
      "model_module_version": "1.2.0",
      "model_name": "LayoutModel",
      "state": {
       "_model_module_version": "1.2.0",
       "_view_module_version": "1.2.0",
       "justify_items": null,
       "object_fit": null,
       "object_position": null
      }
     },
     "5142cb788e554cb0b3583df4a02bdf50": {
      "model_module": "@jupyter-widgets/controls",
      "model_module_version": "1.5.0",
      "model_name": "DescriptionStyleModel",
      "state": {
       "_model_module_version": "1.5.0",
       "_view_module_version": "1.2.0",
       "description_width": ""
      }
     },
     "515b923ee53f48baabe9e1757a04d74f": {
      "model_module": "@jupyter-widgets/controls",
      "model_module_version": "1.5.0",
      "model_name": "DescriptionStyleModel",
      "state": {
       "_model_module_version": "1.5.0",
       "_view_module_version": "1.2.0",
       "description_width": ""
      }
     },
     "515e5eb8b7464fa6b2f869371d9a1d23": {
      "model_module": "@jupyter-widgets/base",
      "model_module_version": "1.2.0",
      "model_name": "LayoutModel",
      "state": {
       "_model_module_version": "1.2.0",
       "_view_module_version": "1.2.0",
       "justify_items": null,
       "object_fit": null,
       "object_position": null
      }
     },
     "5171c04e266c42c9bd76160721a07a29": {
      "model_module": "@jupyter-widgets/base",
      "model_module_version": "1.2.0",
      "model_name": "LayoutModel",
      "state": {
       "_model_module_version": "1.2.0",
       "_view_module_version": "1.2.0",
       "justify_items": null,
       "object_fit": null,
       "object_position": null
      }
     },
     "51844f7777d3440693bec39c194a81d3": {
      "model_module": "@jupyter-widgets/controls",
      "model_module_version": "1.5.0",
      "model_name": "DescriptionStyleModel",
      "state": {
       "_model_module_version": "1.5.0",
       "_view_module_version": "1.2.0",
       "description_width": ""
      }
     },
     "51be6ee59d464ff798602a6a6970f01d": {
      "model_module": "@jupyter-widgets/controls",
      "model_module_version": "1.5.0",
      "model_name": "DropdownModel",
      "state": {
       "_model_module_version": "1.5.0",
       "_options_labels": [
        "text",
        "text_translated",
        "media",
        "source",
        "mode",
        "num_persons",
        "_timestamp",
        "confidence",
        "source_reliability",
        "locations",
        "origin_bool",
        "origin",
        "destination",
        "geom_tweet",
        "triage_status"
       ],
       "_view_module_version": "1.5.0",
       "index": 0,
       "layout": "IPY_MODEL_1d0058db2a2f4461a2019cc300364a12",
       "style": "IPY_MODEL_97de4c838d514dc891349a0adc8775b0"
      }
     },
     "5216920a93b34eeebd5f44fd6797329d": {
      "model_module": "@jupyter-widgets/controls",
      "model_module_version": "1.5.0",
      "model_name": "HBoxModel",
      "state": {
       "_model_module_version": "1.5.0",
       "_view_module_version": "1.5.0",
       "children": [
        "IPY_MODEL_c1d8c351f1d7433b8de0d6a6e2eb9796",
        "IPY_MODEL_60b8d24ab1854b5199b83c32782ee2c8",
        "IPY_MODEL_e1678e9c1edb4605b546c9afd6d9c3c5",
        "IPY_MODEL_6dbb15f8b7374bdd863f2bbd3cbb44d9",
        "IPY_MODEL_1b09250acd884251ad8336ecd8ea6978"
       ],
       "layout": "IPY_MODEL_f87269f187de4979a0ab930163f1540f"
      }
     },
     "522863969c8e470aa4e2961f07108262": {
      "model_module": "@jupyter-widgets/controls",
      "model_module_version": "1.5.0",
      "model_name": "DropdownModel",
      "state": {
       "_model_module_version": "1.5.0",
       "_options_labels": [
        "text",
        "text_translated",
        "media",
        "source",
        "mode",
        "num_persons",
        "_timestamp",
        "confidence",
        "source_reliability",
        "locations",
        "origin_bool",
        "origin",
        "destination",
        "geom_tweet",
        "triage_status"
       ],
       "_view_module_version": "1.5.0",
       "description": "order by",
       "index": 0,
       "layout": "IPY_MODEL_e7127266454344dd961a75ab056318a5",
       "style": "IPY_MODEL_a38864c764904bf18e8bf4a6d6226f8c"
      }
     },
     "522fbce540004cf8b6214834c57b2ec6": {
      "model_module": "@jupyter-widgets/base",
      "model_module_version": "1.2.0",
      "model_name": "LayoutModel",
      "state": {
       "_model_module_version": "1.2.0",
       "_view_module_version": "1.2.0",
       "justify_items": null,
       "object_fit": null,
       "object_position": null
      }
     },
     "52b4006980414e108009ad751457e58b": {
      "model_module": "@jupyter-widgets/controls",
      "model_module_version": "1.5.0",
      "model_name": "DescriptionStyleModel",
      "state": {
       "_model_module_version": "1.5.0",
       "_view_module_version": "1.2.0",
       "description_width": ""
      }
     },
     "52d0b8afeba44229b393b26797c853ad": {
      "model_module": "@jupyter-widgets/controls",
      "model_module_version": "1.5.0",
      "model_name": "DescriptionStyleModel",
      "state": {
       "_model_module_version": "1.5.0",
       "_view_module_version": "1.2.0",
       "description_width": ""
      }
     },
     "52de89370b654b15a47fdc6e6c66be30": {
      "model_module": "@jupyter-widgets/base",
      "model_module_version": "1.2.0",
      "model_name": "LayoutModel",
      "state": {
       "_model_module_version": "1.2.0",
       "_view_module_version": "1.2.0",
       "justify_items": null,
       "object_fit": null,
       "object_position": null
      }
     },
     "52ed365f749e472c8acb31ce1306aadc": {
      "model_module": "@jupyter-widgets/controls",
      "model_module_version": "1.5.0",
      "model_name": "LabelModel",
      "state": {
       "_model_module_version": "1.5.0",
       "_view_module_version": "1.5.0",
       "layout": "IPY_MODEL_59f7e285a38a4eb9b15ce839df35b355",
       "style": "IPY_MODEL_76ea6feb8224475c9a90d9d499138603",
       "value": "Search Columns"
      }
     },
     "5309470660f0435bb302884449103e8b": {
      "model_module": "@jupyter-widgets/base",
      "model_module_version": "1.2.0",
      "model_name": "LayoutModel",
      "state": {
       "_model_module_version": "1.2.0",
       "_view_module_version": "1.2.0",
       "justify_items": null,
       "object_fit": null,
       "object_position": null
      }
     },
     "530ebfa8976c4305b851f92f528a6217": {
      "model_module": "@jupyter-widgets/base",
      "model_module_version": "1.2.0",
      "model_name": "LayoutModel",
      "state": {
       "_model_module_version": "1.2.0",
       "_view_module_version": "1.2.0",
       "justify_items": null,
       "object_fit": null,
       "object_position": null
      }
     },
     "5345991607164413af2055b53bb5ebb4": {
      "model_module": "@jupyter-widgets/base",
      "model_module_version": "1.2.0",
      "model_name": "LayoutModel",
      "state": {
       "_model_module_version": "1.2.0",
       "_view_module_version": "1.2.0",
       "justify_items": null,
       "object_fit": null,
       "object_position": null
      }
     },
     "53aa962345b74418a46bfe5ff50973de": {
      "model_module": "@jupyter-widgets/base",
      "model_module_version": "1.2.0",
      "model_name": "LayoutModel",
      "state": {
       "_model_module_version": "1.2.0",
       "_view_module_version": "1.2.0",
       "justify_items": null,
       "object_fit": null,
       "object_position": null
      }
     },
     "54018b40742a41a38e40be9579284d69": {
      "model_module": "@jupyter-widgets/base",
      "model_module_version": "1.2.0",
      "model_name": "LayoutModel",
      "state": {
       "_model_module_version": "1.2.0",
       "_view_module_version": "1.2.0",
       "justify_items": null,
       "object_fit": null,
       "object_position": null
      }
     },
     "5436918aec2e4f0e897204208a6e603a": {
      "model_module": "@jupyter-widgets/controls",
      "model_module_version": "1.5.0",
      "model_name": "GridBoxModel",
      "state": {
       "_model_module_version": "1.5.0",
       "_view_module_version": "1.5.0",
       "children": [
        "IPY_MODEL_3c55cffa5dd74ce4b68cd743246dbade",
        "IPY_MODEL_6c1101e006cc4dfa8aeb693e68680a2c"
       ],
       "layout": "IPY_MODEL_205dfb63ad954758bc8ef8090d79f19f"
      }
     },
     "5440d88713ae4d18823445a27cd6c1ca": {
      "model_module": "@jupyter-widgets/controls",
      "model_module_version": "1.5.0",
      "model_name": "ButtonModel",
      "state": {
       "_model_module_version": "1.5.0",
       "_view_module_version": "1.5.0",
       "icon": "chevron-right",
       "layout": "IPY_MODEL_91ff3dd230e240038d76540a551d0b0d",
       "style": "IPY_MODEL_1c1c8a438ce544f894d78e8b9d9b59fe"
      }
     },
     "54688307ed3d462cb8cc11fae5b61f77": {
      "model_module": "@jupyter-widgets/controls",
      "model_module_version": "1.5.0",
      "model_name": "DescriptionStyleModel",
      "state": {
       "_model_module_version": "1.5.0",
       "_view_module_version": "1.2.0",
       "description_width": ""
      }
     },
     "54a364781576425f98791ef38604edb6": {
      "model_module": "@jupyter-widgets/controls",
      "model_module_version": "1.5.0",
      "model_name": "VBoxModel",
      "state": {
       "_model_module_version": "1.5.0",
       "_view_module_version": "1.5.0",
       "children": [
        "IPY_MODEL_8d6fab2dcf5244dfb41ef32e3cdd6169",
        "IPY_MODEL_9f3400ece751418da2ec473fc366e092",
        "IPY_MODEL_84a474df7e214eeb8613b371b69f8652"
       ],
       "layout": "IPY_MODEL_e38b68a25aa14a1aa77119c0799a7ebd"
      }
     },
     "54f2ed01e3304001a9b8a3514abb6fd0": {
      "model_module": "@jupyter-widgets/controls",
      "model_module_version": "1.5.0",
      "model_name": "ButtonModel",
      "state": {
       "_model_module_version": "1.5.0",
       "_view_module_version": "1.5.0",
       "icon": "chevron-left",
       "layout": "IPY_MODEL_3394fd76847745daabf73add42146f67",
       "style": "IPY_MODEL_2d8fa0da82774a1ea4c2fe0e8cbeea94"
      }
     },
     "5514c9c436704652bcd5b387051838a6": {
      "model_module": "@jupyter-widgets/controls",
      "model_module_version": "1.5.0",
      "model_name": "GridBoxModel",
      "state": {
       "_model_module_version": "1.5.0",
       "_view_module_version": "1.5.0",
       "children": [
        "IPY_MODEL_2da8edc086154bd9bc87c5f20299af75",
        "IPY_MODEL_54a364781576425f98791ef38604edb6"
       ],
       "layout": "IPY_MODEL_eb1ca863b12d4b169d34b3ac03a816b3"
      }
     },
     "555912ed0de04fc78f76d5491ba0db94": {
      "model_module": "@jupyter-widgets/base",
      "model_module_version": "1.2.0",
      "model_name": "LayoutModel",
      "state": {
       "_model_module_version": "1.2.0",
       "_view_module_version": "1.2.0",
       "grid_template_areas": "\"top-left top-right\"\n\"top-left top-right\"",
       "grid_template_columns": "1fr 1fr",
       "grid_template_rows": "1fr 1fr",
       "justify_items": null,
       "object_fit": null,
       "object_position": null
      }
     },
     "55ff9ac5b416413bac52d27d6f99855b": {
      "model_module": "@jupyter-widgets/base",
      "model_module_version": "1.2.0",
      "model_name": "LayoutModel",
      "state": {
       "_model_module_version": "1.2.0",
       "_view_module_version": "1.2.0",
       "justify_items": null,
       "object_fit": null,
       "object_position": null
      }
     },
     "56eb1f9caa3e4f3593063a66deea3c06": {
      "model_module": "@jupyter-widgets/controls",
      "model_module_version": "1.5.0",
      "model_name": "IntSliderModel",
      "state": {
       "_model_module_version": "1.5.0",
       "_view_module_version": "1.5.0",
       "layout": "IPY_MODEL_8a5e3bb325dd4408b69aae28e0f356f7",
       "max": 266,
       "min": 1,
       "style": "IPY_MODEL_b2996f3dfccb445484a1f8196b4394ef",
       "value": 1
      }
     },
     "575529c568b54c8094309bb1c6deae31": {
      "model_module": "@jupyter-widgets/controls",
      "model_module_version": "1.5.0",
      "model_name": "ButtonStyleModel",
      "state": {
       "_model_module_version": "1.5.0",
       "_view_module_version": "1.2.0"
      }
     },
     "57b96659ec404cde9a0be9445d305163": {
      "model_module": "@jupyter-widgets/controls",
      "model_module_version": "1.5.0",
      "model_name": "DropdownModel",
      "state": {
       "_model_module_version": "1.5.0",
       "_options_labels": [
        "text",
        "text_translated",
        "media",
        "source",
        "mode",
        "num_persons",
        "_timestamp",
        "confidence",
        "source_reliability",
        "locations",
        "origin_bool",
        "origin",
        "destination",
        "geom_tweet",
        "triage_status"
       ],
       "_view_module_version": "1.5.0",
       "index": 0,
       "layout": "IPY_MODEL_6eedead824724b5d81b2ea1756e92675",
       "style": "IPY_MODEL_31be00d7ed3c4ba6be93e4c861201600"
      }
     },
     "57d483b65e76479c8ea0babf80c56e1a": {
      "model_module": "@jupyter-widgets/controls",
      "model_module_version": "1.5.0",
      "model_name": "DescriptionStyleModel",
      "state": {
       "_model_module_version": "1.5.0",
       "_view_module_version": "1.2.0",
       "description_width": ""
      }
     },
     "5827f36f326a4e4c8c045039a1265c81": {
      "model_module": "@jupyter-widgets/controls",
      "model_module_version": "1.5.0",
      "model_name": "ButtonModel",
      "state": {
       "_model_module_version": "1.5.0",
       "_view_module_version": "1.5.0",
       "icon": "chevron-left",
       "layout": "IPY_MODEL_13992474f8d8409983618e77df986316",
       "style": "IPY_MODEL_168ed74579d5474bb0b85b649bd29f3e"
      }
     },
     "5835a696aecf44929ee92db1f7a22df4": {
      "model_module": "@jupyter-widgets/controls",
      "model_module_version": "1.5.0",
      "model_name": "DescriptionStyleModel",
      "state": {
       "_model_module_version": "1.5.0",
       "_view_module_version": "1.2.0",
       "description_width": ""
      }
     },
     "58384cef4d284e22a3e12e40d0ea2a22": {
      "model_module": "@jupyter-widgets/output",
      "model_module_version": "1.0.0",
      "model_name": "OutputModel",
      "state": {
       "layout": "IPY_MODEL_ef111f3b1b664b63a77b69c16af29952",
       "outputs": [
        {
         "data": {
          "text/html": "<div>\n<style scoped>\n    .dataframe tbody tr th:only-of-type {\n        vertical-align: middle;\n    }\n\n    .dataframe tbody tr th {\n        vertical-align: top;\n    }\n\n    .dataframe thead th {\n        text-align: right;\n    }\n</style>\n<table border=\"1\" class=\"dataframe\">\n  <thead>\n    <tr style=\"text-align: right;\">\n      <th></th>\n      <th>text</th>\n      <th>text_translated</th>\n      <th>media</th>\n      <th>source</th>\n      <th>mode</th>\n      <th>num_persons</th>\n      <th>_timestamp</th>\n      <th>confidence</th>\n      <th>source_reliability</th>\n      <th>locations</th>\n      <th>origin_bool</th>\n      <th>origin</th>\n      <th>destination</th>\n      <th>geom_tweet</th>\n      <th>triage_status</th>\n    </tr>\n    <tr>\n      <th>uniqueid</th>\n      <th></th>\n      <th></th>\n      <th></th>\n      <th></th>\n      <th></th>\n      <th></th>\n      <th></th>\n      <th></th>\n      <th></th>\n      <th></th>\n      <th></th>\n      <th></th>\n      <th></th>\n      <th></th>\n      <th></th>\n    </tr>\n  </thead>\n  <tbody>\n    <tr>\n      <th>1</th>\n      <td>الخطوط تنقل 275 مهاجراً من أنقرة إلى بغداد https://t.co/kJF9pQdLet</td>\n      <td>the lines carry 275 migrants from ankara to baghdad</td>\n      <td>NaN</td>\n      <td>twitter</td>\n      <td>NaN</td>\n      <td>275.0</td>\n      <td>2019-12-11 16:31:09.000000</td>\n      <td>0.58</td>\n      <td>0.00</td>\n      <td>['ankara', 'baghdad']</td>\n      <td>NaN</td>\n      <td>TR510</td>\n      <td>NaN</td>\n      <td>01010000003BDF4F8D976E40409CC420B072F84340</td>\n      <td>NaN</td>\n    </tr>\n    <tr>\n      <th>2</th>\n      <td>RT @KAR_SH_313: تم الرفس\\nصيد اليوم من حدود الشرقاط\\n#جاري_تحميل_الرمادي\\nدواعش اليوم سماد الغد\\n\\n#سنرعبهم_في_الاربعين_لبيك_يا_حسين https://t.c…</td>\n      <td>kar sh 313 has been launched todays hunt from the borders of irqat downloads radadi</td>\n      <td>['http://pbs.twimg.com/media/CUSHB2mUAAEg0_w.jpg']</td>\n      <td>twitter</td>\n      <td>NaN</td>\n      <td>313.0</td>\n      <td>2019-12-13 20:49:57.000000</td>\n      <td>0.57</td>\n      <td>0.17</td>\n      <td>[]</td>\n      <td>NaN</td>\n      <td>NaN</td>\n      <td>NaN</td>\n      <td>NaN</td>\n      <td>NaN</td>\n    </tr>\n    <tr>\n      <th>3</th>\n      <td>السلطات التركية توقف 1300 مهاجر قبل إبحارهم إلى اليونان https://t.co/GNWgzhBv5d أخبار</td>\n      <td>turkish authorities stop 1300 migrants before sailing to greece news</td>\n      <td>NaN</td>\n      <td>twitter</td>\n      <td>NaN</td>\n      <td>1300.0</td>\n      <td>2019-12-23 21:31:23.000000</td>\n      <td>0.90</td>\n      <td>0.23</td>\n      <td>['greece']</td>\n      <td>NaN</td>\n      <td>NaN</td>\n      <td>EL</td>\n      <td>010100000000000000000036400000000000804340</td>\n      <td>NaN</td>\n    </tr>\n    <tr>\n      <th>4</th>\n      <td>البحرية الإيطالية: أكثر من 1500 مهاجر تم إنقاذهم قبالة سواحل ليبيا\\n#الموصلية</td>\n      <td>italian navy more than 1500 migrants rescued off the coast of libya</td>\n      <td>NaN</td>\n      <td>twitter</td>\n      <td>NaN</td>\n      <td>1500.0</td>\n      <td>2019-12-26 19:33:11.000000</td>\n      <td>0.68</td>\n      <td>0.83</td>\n      <td>['libya', 'italia']</td>\n      <td>NaN</td>\n      <td>NaN</td>\n      <td>NaN</td>\n      <td>01010000009031772D215F2A40C139234A7B734040</td>\n      <td>NaN</td>\n    </tr>\n    <tr>\n      <th>5</th>\n      <td>RT @20fourMedia: #تركيا توقف لاجئين أثناء توجههم لـ #اليونان\\nhttps://t.co/CjDWK2GH3f https://t.co/21sYzUTGGw</td>\n      <td>20fourmedia turkey stopped refugees while heading for greece</td>\n      <td>['http://pbs.twimg.com/media/CVYfgd9XAAE5JuX.jpg']</td>\n      <td>twitter</td>\n      <td>NaN</td>\n      <td>NaN</td>\n      <td>2019-12-27 12:50:19.000000</td>\n      <td>0.86</td>\n      <td>0.12</td>\n      <td>['greece', 'turkey']</td>\n      <td>NaN</td>\n      <td>NaN</td>\n      <td>NaN</td>\n      <td>010100000000000000000036400000000000804340</td>\n      <td>NaN</td>\n    </tr>\n    <tr>\n      <th>6</th>\n      <td>مقدونيا تفتح حدودها مع اليونان للاجئين  https://t.co/qEdXvrDVI7</td>\n      <td>macedonia opens border with greece for refugees</td>\n      <td>NaN</td>\n      <td>twitter</td>\n      <td>NaN</td>\n      <td>NaN</td>\n      <td>2019-12-27 14:16:27.000000</td>\n      <td>0.79</td>\n      <td>0.85</td>\n      <td>['macedonia', 'greece']</td>\n      <td>NaN</td>\n      <td>NaN</td>\n      <td>NaN</td>\n      <td>0101000000575BB1BFEC6E35400000000000004540</td>\n      <td>NaN</td>\n    </tr>\n    <tr>\n      <th>7</th>\n      <td>RT @paldf: إغلاق #معبر_رفح بعد ظهر اليوم السبت بعد خروج 1526 من #غزة، ودخول 564 من العالقين إلى #غزة، وعودة 36 فلسطينياً كانوا في السجون ال…</td>\n      <td>rafah crossing closed on saturday afternoon after 1526 out of gaza 564 people stranded in gaza and 36 palestinians returned to prison</td>\n      <td>NaN</td>\n      <td>twitter</td>\n      <td>NaN</td>\n      <td>NaN</td>\n      <td>2019-12-28 14:18:28.000000</td>\n      <td>0.74</td>\n      <td>0.29</td>\n      <td>['rafah', 'gaza']</td>\n      <td>NaN</td>\n      <td>NaN</td>\n      <td>NaN</td>\n      <td>01010000009A99999999394140DCD7817346843F40</td>\n      <td>NaN</td>\n    </tr>\n    <tr>\n      <th>8</th>\n      <td>RT @PalinfoAr: إغلاق #معبر_رفح بعد ظهر اليوم السبت بعد خروج 1526 من #غزة، ودخول 564 من العالقين إلى #غزة، وعودة 36 فلسطينياً كانوا في السجو…</td>\n      <td>rafah crossing closed on saturday afternoon after 1526 out of gaza 564 people stranded in gaza 36 palestinians returned</td>\n      <td>NaN</td>\n      <td>twitter</td>\n      <td>NaN</td>\n      <td>NaN</td>\n      <td>2019-12-28 14:22:18.000000</td>\n      <td>0.99</td>\n      <td>0.22</td>\n      <td>['rafah', 'gaza']</td>\n      <td>NaN</td>\n      <td>NaN</td>\n      <td>NaN</td>\n      <td>01010000009A99999999394140DCD7817346843F40</td>\n      <td>NaN</td>\n    </tr>\n    <tr>\n      <th>9</th>\n      <td>RT @AlArabiya_Brk: وسائل إعلام تركية: مقتل 18 مهاجرا بعد غرق قاربهم في بحر إيجه #العربية_عاجل</td>\n      <td>turkish media 18 migrants killed after their boat sank in the aegean sea</td>\n      <td>NaN</td>\n      <td>twitter</td>\n      <td>boat</td>\n      <td>18.0</td>\n      <td>2020-01-11 07:56:14.000000</td>\n      <td>0.51</td>\n      <td>0.37</td>\n      <td>['aegean sea']</td>\n      <td>NaN</td>\n      <td>NaN</td>\n      <td>NaN</td>\n      <td>01010000003333333333F336400000000000804340</td>\n      <td>NaN</td>\n    </tr>\n    <tr>\n      <th>10</th>\n      <td>Retweeted تيّار المستقبل (@Almustaqbal):\\n\\nمقتل 18 مهاجرا غرقا في بحر ايجه\\nhttps://t.co/7fpCjwbEYp https://t.co/jFvFbxRcSz</td>\n      <td>the future stream 18 migrants drowned in aegean sea</td>\n      <td>NaN</td>\n      <td>twitter</td>\n      <td>NaN</td>\n      <td>18.0</td>\n      <td>2020-01-11 11:23:13.000000</td>\n      <td>0.62</td>\n      <td>0.04</td>\n      <td>['aegean sea']</td>\n      <td>NaN</td>\n      <td>NaN</td>\n      <td>NaN</td>\n      <td>01010000003333333333F336400000000000804340</td>\n      <td>NaN</td>\n    </tr>\n  </tbody>\n</table>\n</div>",
          "text/plain": "                                                                                                                                                       text  \\\nuniqueid                                                                                                                                                      \n1         الخطوط تنقل 275 مهاجراً من أنقرة إلى بغداد https://t.co/kJF9pQdLet                                                                                  \n2         RT @KAR_SH_313: تم الرفس\\nصيد اليوم من حدود الشرقاط\\n#جاري_تحميل_الرمادي\\nدواعش اليوم سماد الغد\\n\\n#سنرعبهم_في_الاربعين_لبيك_يا_حسين https://t.c…   \n3         السلطات التركية توقف 1300 مهاجر قبل إبحارهم إلى اليونان https://t.co/GNWgzhBv5d أخبار                                                               \n4         البحرية الإيطالية: أكثر من 1500 مهاجر تم إنقاذهم قبالة سواحل ليبيا\\n#الموصلية                                                                       \n5         RT @20fourMedia: #تركيا توقف لاجئين أثناء توجههم لـ #اليونان\\nhttps://t.co/CjDWK2GH3f https://t.co/21sYzUTGGw                                       \n6         مقدونيا تفتح حدودها مع اليونان للاجئين  https://t.co/qEdXvrDVI7                                                                                     \n7         RT @paldf: إغلاق #معبر_رفح بعد ظهر اليوم السبت بعد خروج 1526 من #غزة، ودخول 564 من العالقين إلى #غزة، وعودة 36 فلسطينياً كانوا في السجون ال…        \n8         RT @PalinfoAr: إغلاق #معبر_رفح بعد ظهر اليوم السبت بعد خروج 1526 من #غزة، ودخول 564 من العالقين إلى #غزة، وعودة 36 فلسطينياً كانوا في السجو…        \n9         RT @AlArabiya_Brk: وسائل إعلام تركية: مقتل 18 مهاجرا بعد غرق قاربهم في بحر إيجه #العربية_عاجل                                                       \n10        Retweeted تيّار المستقبل (@Almustaqbal):\\n\\nمقتل 18 مهاجرا غرقا في بحر ايجه\\nhttps://t.co/7fpCjwbEYp https://t.co/jFvFbxRcSz                        \n\n                                                                                                                                text_translated  \\\nuniqueid                                                                                                                                          \n1         the lines carry 275 migrants from ankara to baghdad                                                                                     \n2         kar sh 313 has been launched todays hunt from the borders of irqat downloads radadi                                                     \n3         turkish authorities stop 1300 migrants before sailing to greece news                                                                    \n4         italian navy more than 1500 migrants rescued off the coast of libya                                                                     \n5         20fourmedia turkey stopped refugees while heading for greece                                                                            \n6         macedonia opens border with greece for refugees                                                                                         \n7         rafah crossing closed on saturday afternoon after 1526 out of gaza 564 people stranded in gaza and 36 palestinians returned to prison   \n8         rafah crossing closed on saturday afternoon after 1526 out of gaza 564 people stranded in gaza 36 palestinians returned                 \n9         turkish media 18 migrants killed after their boat sank in the aegean sea                                                                \n10        the future stream 18 migrants drowned in aegean sea                                                                                     \n\n                                                       media   source  mode  \\\nuniqueid                                                                      \n1         NaN                                                 twitter  NaN    \n2         ['http://pbs.twimg.com/media/CUSHB2mUAAEg0_w.jpg']  twitter  NaN    \n3         NaN                                                 twitter  NaN    \n4         NaN                                                 twitter  NaN    \n5         ['http://pbs.twimg.com/media/CVYfgd9XAAE5JuX.jpg']  twitter  NaN    \n6         NaN                                                 twitter  NaN    \n7         NaN                                                 twitter  NaN    \n8         NaN                                                 twitter  NaN    \n9         NaN                                                 twitter  boat   \n10        NaN                                                 twitter  NaN    \n\n          num_persons                  _timestamp  confidence  \\\nuniqueid                                                        \n1         275.0        2019-12-11 16:31:09.000000  0.58         \n2         313.0        2019-12-13 20:49:57.000000  0.57         \n3         1300.0       2019-12-23 21:31:23.000000  0.90         \n4         1500.0       2019-12-26 19:33:11.000000  0.68         \n5        NaN           2019-12-27 12:50:19.000000  0.86         \n6        NaN           2019-12-27 14:16:27.000000  0.79         \n7        NaN           2019-12-28 14:18:28.000000  0.74         \n8        NaN           2019-12-28 14:22:18.000000  0.99         \n9         18.0         2020-01-11 07:56:14.000000  0.51         \n10        18.0         2020-01-11 11:23:13.000000  0.62         \n\n          source_reliability                locations  origin_bool origin  \\\nuniqueid                                                                    \n1         0.00                ['ankara', 'baghdad']   NaN           TR510   \n2         0.17                []                      NaN           NaN     \n3         0.23                ['greece']              NaN           NaN     \n4         0.83                ['libya', 'italia']     NaN           NaN     \n5         0.12                ['greece', 'turkey']    NaN           NaN     \n6         0.85                ['macedonia', 'greece'] NaN           NaN     \n7         0.29                ['rafah', 'gaza']       NaN           NaN     \n8         0.22                ['rafah', 'gaza']       NaN           NaN     \n9         0.37                ['aegean sea']          NaN           NaN     \n10        0.04                ['aegean sea']          NaN           NaN     \n\n         destination                                  geom_tweet  \\\nuniqueid                                                           \n1         NaN         01010000003BDF4F8D976E40409CC420B072F84340   \n2         NaN         NaN                                          \n3         EL          010100000000000000000036400000000000804340   \n4         NaN         01010000009031772D215F2A40C139234A7B734040   \n5         NaN         010100000000000000000036400000000000804340   \n6         NaN         0101000000575BB1BFEC6E35400000000000004540   \n7         NaN         01010000009A99999999394140DCD7817346843F40   \n8         NaN         01010000009A99999999394140DCD7817346843F40   \n9         NaN         01010000003333333333F336400000000000804340   \n10        NaN         01010000003333333333F336400000000000804340   \n\n          triage_status  \nuniqueid                 \n1        NaN             \n2        NaN             \n3        NaN             \n4        NaN             \n5        NaN             \n6        NaN             \n7        NaN             \n8        NaN             \n9        NaN             \n10       NaN             "
         },
         "metadata": {},
         "output_type": "display_data"
        }
       ]
      }
     },
     "591a51c2cb854310b5d85d8dad7ee4f2": {
      "model_module": "@jupyter-widgets/output",
      "model_module_version": "1.0.0",
      "model_name": "OutputModel",
      "state": {
       "layout": "IPY_MODEL_ff407dbe5b8c483380cef73d50a247f9",
       "outputs": [
        {
         "data": {
          "text/html": "<div>\n<style scoped>\n    .dataframe tbody tr th:only-of-type {\n        vertical-align: middle;\n    }\n\n    .dataframe tbody tr th {\n        vertical-align: top;\n    }\n\n    .dataframe thead th {\n        text-align: right;\n    }\n</style>\n<table border=\"1\" class=\"dataframe\">\n  <thead>\n    <tr style=\"text-align: right;\">\n      <th></th>\n      <th>text</th>\n      <th>text_translated</th>\n      <th>media</th>\n      <th>source</th>\n      <th>mode</th>\n      <th>num_persons</th>\n      <th>_timestamp</th>\n      <th>confidence</th>\n      <th>source_reliability</th>\n      <th>locations</th>\n      <th>origin_bool</th>\n      <th>origin</th>\n      <th>destination</th>\n      <th>geom_tweet</th>\n      <th>triage_status</th>\n    </tr>\n    <tr>\n      <th>uniqueid</th>\n      <th></th>\n      <th></th>\n      <th></th>\n      <th></th>\n      <th></th>\n      <th></th>\n      <th></th>\n      <th></th>\n      <th></th>\n      <th></th>\n      <th></th>\n      <th></th>\n      <th></th>\n      <th></th>\n      <th></th>\n    </tr>\n  </thead>\n  <tbody>\n    <tr>\n      <th>969</th>\n      <td>\"En Macédoine, les migrants remplissent les trains pour la Serbie - AFP\" en replay sur Android TV Replay http://t.co/k8LZQkCzNh</td>\n      <td>in macedonia migrants fill trains for serbia afp in replay on android tv replay</td>\n      <td>NaN</td>\n      <td>twitter</td>\n      <td>train</td>\n      <td>NaN</td>\n      <td>2019-09-12 04:08:04.000000</td>\n      <td>0.63</td>\n      <td>0.12</td>\n      <td>['macedonia', 'serbia']</td>\n      <td>NaN</td>\n      <td>NaN</td>\n      <td>NaN</td>\n      <td>0101000000575BB1BFEC6E35400000000000004540</td>\n      <td>NaN</td>\n    </tr>\n    <tr>\n      <th>795</th>\n      <td>\"Macedonia, ancora frontiere chiuse. I migranti passano dal filo spinato\" - http://t.co/lt7wNeffC7 http://t.co/jvg5cMgDxk</td>\n      <td>macedonia still closed borders migrants pass by barbed wire</td>\n      <td>['http://pbs.twimg.com/media/CNBxOh7WoAAP-zV.jpg']</td>\n      <td>twitter</td>\n      <td>NaN</td>\n      <td>NaN</td>\n      <td>2019-09-14 16:50:53.000000</td>\n      <td>0.81</td>\n      <td>0.04</td>\n      <td>['macedonia']</td>\n      <td>NaN</td>\n      <td>NaN</td>\n      <td>NaN</td>\n      <td>0101000000575BB1BFEC6E35400000000000004540</td>\n      <td>NaN</td>\n    </tr>\n    <tr>\n      <th>1158</th>\n      <td>\"More than 130,000 #migrants have attempted to cross the Mediterranean in 2015\"  http://t.co/ZOvpUsTx1d</td>\n      <td>more than 130 000 migrants have attempted to cross the mediterranean in 2015</td>\n      <td>NaN</td>\n      <td>twitter</td>\n      <td>NaN</td>\n      <td>NaN</td>\n      <td>2019-07-26 17:47:04.000000</td>\n      <td>0.53</td>\n      <td>0.94</td>\n      <td>[]</td>\n      <td>NaN</td>\n      <td>NaN</td>\n      <td>NaN</td>\n      <td>NaN</td>\n      <td>NaN</td>\n    </tr>\n    <tr>\n      <th>2364</th>\n      <td>\"On Thursday Slovenia reported that 12,000 migrants had arrived in one day - a record in the current crisis in Central Europe.\" - BBC</td>\n      <td>on thursday slovenia reported that 12 000 migrants had arrived in one day a record in the current crisis in central europe bbc</td>\n      <td>NaN</td>\n      <td>twitter</td>\n      <td>NaN</td>\n      <td>NaN</td>\n      <td>2019-11-15 21:14:00.000000</td>\n      <td>0.93</td>\n      <td>0.23</td>\n      <td>['slovenia']</td>\n      <td>NaN</td>\n      <td>NaN</td>\n      <td>NaN</td>\n      <td>0101000000151DC9E53F042D402CD49AE61D074740</td>\n      <td>NaN</td>\n    </tr>\n    <tr>\n      <th>1137</th>\n      <td>\"With Tel Abyad secured, the Syrian Kurds have managed to forge a corridor between Cezire and Kobani. On Monday,... http://t.co/iJDle1SzwW</td>\n      <td>with tel abyad secured the syrian kurds have managed to forge a corridor between cezire and kobani on monday</td>\n      <td>NaN</td>\n      <td>twitter</td>\n      <td>NaN</td>\n      <td>NaN</td>\n      <td>2019-07-10 16:24:53.000000</td>\n      <td>0.71</td>\n      <td>0.24</td>\n      <td>['syria']</td>\n      <td>NaN</td>\n      <td>NaN</td>\n      <td>NaN</td>\n      <td>0101000000E8D9ACFA5C254240EFC9C342ADC14040</td>\n      <td>NaN</td>\n    </tr>\n    <tr>\n      <th>574</th>\n      <td>#2015 Франция закрывает границу с Италией http://t.co/O77dBheZKv</td>\n      <td>2015 france closes the border with italy</td>\n      <td>NaN</td>\n      <td>twitter</td>\n      <td>NaN</td>\n      <td>2015.0</td>\n      <td>2019-07-09 09:59:43.000000</td>\n      <td>0.62</td>\n      <td>1.00</td>\n      <td>['france', 'italy']</td>\n      <td>NaN</td>\n      <td>NaN</td>\n      <td>NaN</td>\n      <td>NaN</td>\n      <td>NaN</td>\n    </tr>\n    <tr>\n      <th>2041</th>\n      <td>#AFP Slovenia to send back train from Croatia carrying 150 migrants - AFP: Slovenia to send back train from Cr... http://t.co/zNEN4XLp7h</td>\n      <td>afp slovenia to send back train from croatia carrying 150 migrants afp slovenia to send back train from cr</td>\n      <td>NaN</td>\n      <td>twitter</td>\n      <td>train</td>\n      <td>150.0</td>\n      <td>2019-10-11 17:14:05.000000</td>\n      <td>0.99</td>\n      <td>0.26</td>\n      <td>['slovenia', 'croatia']</td>\n      <td>NaN</td>\n      <td>HR0</td>\n      <td>NaN</td>\n      <td>0101000000151DC9E53F042D402CD49AE61D074740</td>\n      <td>NaN</td>\n    </tr>\n    <tr>\n      <th>253</th>\n      <td>#AUSTRIA #STANDARD #WIEN broadcastetd by #TheIsraelCompany: Kommentar von Michael Völker - Die Flüchtlinge und ihr... http://t.co/MAn0lwR3vI</td>\n      <td>austria standard vienna broadcastetd by theisraelcompany comment by michael völker the refugees and their</td>\n      <td>NaN</td>\n      <td>twitter</td>\n      <td>NaN</td>\n      <td>NaN</td>\n      <td>2019-09-22 16:16:11.000000</td>\n      <td>0.67</td>\n      <td>0.05</td>\n      <td>['austria', 'vienna', 'israel']</td>\n      <td>NaN</td>\n      <td>NaN</td>\n      <td>NaN</td>\n      <td>010100000076711B0DE05D30409A99999999194840</td>\n      <td>NaN</td>\n    </tr>\n    <tr>\n      <th>397</th>\n      <td>#AUSTRIA #STANDARD #WIEN broadcastetd by #TheIsraelCompany: Syrien - Putin schließt Einsatz von Bodentruppen in Sy... http://t.co/LGKZhvK6c2</td>\n      <td>austria standard vienna broadcastetd by theisraelcompany syria putin closes deployment of ground forces in sy</td>\n      <td>NaN</td>\n      <td>twitter</td>\n      <td>NaN</td>\n      <td>NaN</td>\n      <td>2019-10-21 04:15:59.000000</td>\n      <td>0.51</td>\n      <td>0.06</td>\n      <td>['austria', 'vienna', 'israel', 'syria']</td>\n      <td>NaN</td>\n      <td>NaN</td>\n      <td>NaN</td>\n      <td>010100000076711B0DE05D30409A99999999194840</td>\n      <td>NaN</td>\n    </tr>\n    <tr>\n      <th>959</th>\n      <td>#Afrique La longue marche des migrants qui franchissent les Alpes à pied http://t.co/Way1hlrjE9</td>\n      <td>africa the long march of migrants crossing the alps on foot</td>\n      <td>NaN</td>\n      <td>twitter</td>\n      <td>on foot</td>\n      <td>NaN</td>\n      <td>2019-07-24 11:43:36.000000</td>\n      <td>0.55</td>\n      <td>0.49</td>\n      <td>[]</td>\n      <td>NaN</td>\n      <td>NaN</td>\n      <td>NaN</td>\n      <td>NaN</td>\n      <td>NaN</td>\n    </tr>\n  </tbody>\n</table>\n</div>",
          "text/plain": "                                                                                                                                                  text  \\\nuniqueid                                                                                                                                                 \n969       \"En Macédoine, les migrants remplissent les trains pour la Serbie - AFP\" en replay sur Android TV Replay http://t.co/k8LZQkCzNh                \n795       \"Macedonia, ancora frontiere chiuse. I migranti passano dal filo spinato\" - http://t.co/lt7wNeffC7 http://t.co/jvg5cMgDxk                      \n1158      \"More than 130,000 #migrants have attempted to cross the Mediterranean in 2015\"  http://t.co/ZOvpUsTx1d                                        \n2364      \"On Thursday Slovenia reported that 12,000 migrants had arrived in one day - a record in the current crisis in Central Europe.\" - BBC          \n1137      \"With Tel Abyad secured, the Syrian Kurds have managed to forge a corridor between Cezire and Kobani. On Monday,... http://t.co/iJDle1SzwW     \n574       #2015 Франция закрывает границу с Италией http://t.co/O77dBheZKv                                                                               \n2041      #AFP Slovenia to send back train from Croatia carrying 150 migrants - AFP: Slovenia to send back train from Cr... http://t.co/zNEN4XLp7h       \n253       #AUSTRIA #STANDARD #WIEN broadcastetd by #TheIsraelCompany: Kommentar von Michael Völker - Die Flüchtlinge und ihr... http://t.co/MAn0lwR3vI   \n397       #AUSTRIA #STANDARD #WIEN broadcastetd by #TheIsraelCompany: Syrien - Putin schließt Einsatz von Bodentruppen in Sy... http://t.co/LGKZhvK6c2   \n959       #Afrique La longue marche des migrants qui franchissent les Alpes à pied http://t.co/Way1hlrjE9                                                \n\n                                                                                                                         text_translated  \\\nuniqueid                                                                                                                                   \n969       in macedonia migrants fill trains for serbia afp in replay on android tv replay                                                  \n795       macedonia still closed borders migrants pass by barbed wire                                                                      \n1158      more than 130 000 migrants have attempted to cross the mediterranean in 2015                                                     \n2364      on thursday slovenia reported that 12 000 migrants had arrived in one day a record in the current crisis in central europe bbc   \n1137      with tel abyad secured the syrian kurds have managed to forge a corridor between cezire and kobani on monday                     \n574       2015 france closes the border with italy                                                                                         \n2041      afp slovenia to send back train from croatia carrying 150 migrants afp slovenia to send back train from cr                       \n253       austria standard vienna broadcastetd by theisraelcompany comment by michael völker the refugees and their                        \n397       austria standard vienna broadcastetd by theisraelcompany syria putin closes deployment of ground forces in sy                    \n959       africa the long march of migrants crossing the alps on foot                                                                      \n\n                                                       media   source  \\\nuniqueid                                                                \n969       NaN                                                 twitter   \n795       ['http://pbs.twimg.com/media/CNBxOh7WoAAP-zV.jpg']  twitter   \n1158      NaN                                                 twitter   \n2364      NaN                                                 twitter   \n1137      NaN                                                 twitter   \n574       NaN                                                 twitter   \n2041      NaN                                                 twitter   \n253       NaN                                                 twitter   \n397       NaN                                                 twitter   \n959       NaN                                                 twitter   \n\n             mode  num_persons                  _timestamp  confidence  \\\nuniqueid                                                                 \n969       train   NaN           2019-09-12 04:08:04.000000  0.63         \n795       NaN     NaN           2019-09-14 16:50:53.000000  0.81         \n1158      NaN     NaN           2019-07-26 17:47:04.000000  0.53         \n2364      NaN     NaN           2019-11-15 21:14:00.000000  0.93         \n1137      NaN     NaN           2019-07-10 16:24:53.000000  0.71         \n574       NaN      2015.0       2019-07-09 09:59:43.000000  0.62         \n2041      train    150.0        2019-10-11 17:14:05.000000  0.99         \n253       NaN     NaN           2019-09-22 16:16:11.000000  0.67         \n397       NaN     NaN           2019-10-21 04:15:59.000000  0.51         \n959       on foot NaN           2019-07-24 11:43:36.000000  0.55         \n\n          source_reliability                                 locations  \\\nuniqueid                                                                 \n969       0.12                ['macedonia', 'serbia']                    \n795       0.04                ['macedonia']                              \n1158      0.94                []                                         \n2364      0.23                ['slovenia']                               \n1137      0.24                ['syria']                                  \n574       1.00                ['france', 'italy']                        \n2041      0.26                ['slovenia', 'croatia']                    \n253       0.05                ['austria', 'vienna', 'israel']            \n397       0.06                ['austria', 'vienna', 'israel', 'syria']   \n959       0.49                []                                         \n\n          origin_bool origin destination  \\\nuniqueid                                   \n969      NaN           NaN    NaN          \n795      NaN           NaN    NaN          \n1158     NaN           NaN    NaN          \n2364     NaN           NaN    NaN          \n1137     NaN           NaN    NaN          \n574      NaN           NaN    NaN          \n2041     NaN           HR0    NaN          \n253      NaN           NaN    NaN          \n397      NaN           NaN    NaN          \n959      NaN           NaN    NaN          \n\n                                          geom_tweet  triage_status  \nuniqueid                                                             \n969       0101000000575BB1BFEC6E35400000000000004540 NaN             \n795       0101000000575BB1BFEC6E35400000000000004540 NaN             \n1158      NaN                                        NaN             \n2364      0101000000151DC9E53F042D402CD49AE61D074740 NaN             \n1137      0101000000E8D9ACFA5C254240EFC9C342ADC14040 NaN             \n574       NaN                                        NaN             \n2041      0101000000151DC9E53F042D402CD49AE61D074740 NaN             \n253       010100000076711B0DE05D30409A99999999194840 NaN             \n397       010100000076711B0DE05D30409A99999999194840 NaN             \n959       NaN                                        NaN             "
         },
         "metadata": {},
         "output_type": "display_data"
        }
       ]
      }
     },
     "597187e5c6da44cabc67db32127bc779": {
      "model_module": "@jupyter-widgets/controls",
      "model_module_version": "1.5.0",
      "model_name": "LabelModel",
      "state": {
       "_model_module_version": "1.5.0",
       "_view_module_version": "1.5.0",
       "layout": "IPY_MODEL_9239088d645542379dcabc3afa7bf040",
       "style": "IPY_MODEL_fd760b16991749f6b41eecbfd382db6f",
       "value": "Search Columns"
      }
     },
     "59a90aead39a41918a4d014f443e358d": {
      "model_module": "@jupyter-widgets/base",
      "model_module_version": "1.2.0",
      "model_name": "LayoutModel",
      "state": {
       "_model_module_version": "1.2.0",
       "_view_module_version": "1.2.0",
       "justify_items": null,
       "object_fit": null,
       "object_position": null
      }
     },
     "59cd3abf9eaa430c85837881e7202810": {
      "model_module": "@jupyter-widgets/controls",
      "model_module_version": "1.5.0",
      "model_name": "HTMLModel",
      "state": {
       "_model_module_version": "1.5.0",
       "_view_module_version": "1.5.0",
       "layout": "IPY_MODEL_01131946a5a544cab8faea2b9d16671b",
       "style": "IPY_MODEL_ff4cdfeefb304834a1b16c92f75a2ee6",
       "value": "Select multiple by dragging or ctrl + click"
      }
     },
     "59f7e285a38a4eb9b15ce839df35b355": {
      "model_module": "@jupyter-widgets/base",
      "model_module_version": "1.2.0",
      "model_name": "LayoutModel",
      "state": {
       "_model_module_version": "1.2.0",
       "_view_module_version": "1.2.0",
       "justify_items": null,
       "object_fit": null,
       "object_position": null
      }
     },
     "5aa4f09e68b04a4197bc6082c01f6d93": {
      "model_module": "@jupyter-widgets/base",
      "model_module_version": "1.2.0",
      "model_name": "LayoutModel",
      "state": {
       "_model_module_version": "1.2.0",
       "_view_module_version": "1.2.0",
       "justify_items": null,
       "object_fit": null,
       "object_position": null
      }
     },
     "5ab7304225864486b3191d23015e864d": {
      "model_module": "@jupyter-widgets/controls",
      "model_module_version": "1.5.0",
      "model_name": "DescriptionStyleModel",
      "state": {
       "_model_module_version": "1.5.0",
       "_view_module_version": "1.2.0",
       "description_width": ""
      }
     },
     "5b192c21621a4e53b45aabc22b3347fc": {
      "model_module": "@jupyter-widgets/controls",
      "model_module_version": "1.5.0",
      "model_name": "LabelModel",
      "state": {
       "_model_module_version": "1.5.0",
       "_view_module_version": "1.5.0",
       "layout": "IPY_MODEL_2a8e2c642b884555a2cd24a612b91d54",
       "style": "IPY_MODEL_6f090b6c56744c41aaf2383782f560ce",
       "value": "2654 rows"
      }
     },
     "5b1cb291cb444523ac9eccdfead4e4a6": {
      "model_module": "@jupyter-widgets/controls",
      "model_module_version": "1.5.0",
      "model_name": "HBoxModel",
      "state": {
       "_model_module_version": "1.5.0",
       "_view_module_version": "1.5.0",
       "children": [
        "IPY_MODEL_92a1f87a7f2549a68c0b23dee8cb7da3",
        "IPY_MODEL_7a0bac14589d401fb185c5c6b59d3a00",
        "IPY_MODEL_a35da2f594ea49db893b1111a1e1488b",
        "IPY_MODEL_9f01628811ac4b318f0c125316d580db",
        "IPY_MODEL_bb781873597d494286a0eaff6ed619b9"
       ],
       "layout": "IPY_MODEL_41106ca3c66948338b105b5b66dd3e58"
      }
     },
     "5b1ee60ccdb7446d860ceb3f9194755c": {
      "model_module": "@jupyter-widgets/controls",
      "model_module_version": "1.5.0",
      "model_name": "ButtonModel",
      "state": {
       "_model_module_version": "1.5.0",
       "_view_module_version": "1.5.0",
       "icon": "chevron-right",
       "layout": "IPY_MODEL_4ba454ebb5384e2eabf6c4f2f6ee50c3",
       "style": "IPY_MODEL_1252a813073d4a2fb555fb5138904df6"
      }
     },
     "5b3930997f1e4e62925f20d93c2bd6dd": {
      "model_module": "@jupyter-widgets/base",
      "model_module_version": "1.2.0",
      "model_name": "LayoutModel",
      "state": {
       "_model_module_version": "1.2.0",
       "_view_module_version": "1.2.0",
       "justify_items": null,
       "object_fit": null,
       "object_position": null
      }
     },
     "5b68a882a8b84671b9b4d815c8e7899d": {
      "model_module": "@jupyter-widgets/controls",
      "model_module_version": "1.5.0",
      "model_name": "ToggleButtonModel",
      "state": {
       "_model_module_version": "1.5.0",
       "_view_module_version": "1.5.0",
       "description": "ascending",
       "layout": "IPY_MODEL_e45efc8ef8ac41a5a706b6f657b82a80",
       "style": "IPY_MODEL_4e1823cb03c04ff9abb0a44333a0fe21",
       "value": true
      }
     },
     "5bd32abf895945008713fe80f80041b9": {
      "model_module": "@jupyter-widgets/base",
      "model_module_version": "1.2.0",
      "model_name": "LayoutModel",
      "state": {
       "_model_module_version": "1.2.0",
       "_view_module_version": "1.2.0",
       "justify_items": null,
       "object_fit": null,
       "object_position": null
      }
     },
     "5c23a4591a8447c4a103392ede0d97bd": {
      "model_module": "@jupyter-widgets/controls",
      "model_module_version": "1.5.0",
      "model_name": "HBoxModel",
      "state": {
       "_model_module_version": "1.5.0",
       "_view_module_version": "1.5.0",
       "children": [
        "IPY_MODEL_64b8d8e69dcc4cc8970fc86eb13bc117",
        "IPY_MODEL_4418225dffd74612992f6e6aecc1825a",
        "IPY_MODEL_17c267daa30c46e58ab440d7080fb370",
        "IPY_MODEL_9d27238a5d1a4f12b916e6206014dba9",
        "IPY_MODEL_09f0d3e46ee441438eaed8b67fe16568"
       ],
       "layout": "IPY_MODEL_2912fe6299214a558f206d33b6f492f3"
      }
     },
     "5c3f6bbaa42847379a9ef9f39c98a318": {
      "model_module": "@jupyter-widgets/base",
      "model_module_version": "1.2.0",
      "model_name": "LayoutModel",
      "state": {
       "_model_module_version": "1.2.0",
       "_view_module_version": "1.2.0",
       "justify_items": null,
       "object_fit": null,
       "object_position": null
      }
     },
     "5ce8486189404cf49dd120bb71554a19": {
      "model_module": "@jupyter-widgets/controls",
      "model_module_version": "1.5.0",
      "model_name": "SelectMultipleModel",
      "state": {
       "_model_module_version": "1.5.0",
       "_options_labels": [
        "text",
        "text_translated",
        "media",
        "source",
        "mode",
        "num_persons",
        "_timestamp",
        "confidence",
        "source_reliability",
        "locations",
        "origin_bool",
        "origin",
        "destination",
        "geom_tweet",
        "triage_status"
       ],
       "_view_module_version": "1.5.0",
       "index": [],
       "layout": "IPY_MODEL_0f44fde968f44598841cbb188d9e0aa1",
       "rows": 5,
       "style": "IPY_MODEL_7ca675e6c1c543b49d161155f5173fbe"
      }
     },
     "5cebdb96928f4d1bb8595b460fe61124": {
      "model_module": "@jupyter-widgets/base",
      "model_module_version": "1.2.0",
      "model_name": "LayoutModel",
      "state": {
       "_model_module_version": "1.2.0",
       "_view_module_version": "1.2.0",
       "justify_items": null,
       "object_fit": null,
       "object_position": null
      }
     },
     "5d1c9ead5a964d27b2799ca51a05ec24": {
      "model_module": "@jupyter-widgets/controls",
      "model_module_version": "1.5.0",
      "model_name": "LabelModel",
      "state": {
       "_model_module_version": "1.5.0",
       "_view_module_version": "1.5.0",
       "layout": "IPY_MODEL_b35b4ebd8c4643b1ab6fe033520feeba",
       "style": "IPY_MODEL_c3c94f254646474b831ed5be28364b15"
      }
     },
     "5d328a66b2474efaa7bbcf87cc17e168": {
      "model_module": "@jupyter-widgets/base",
      "model_module_version": "1.2.0",
      "model_name": "LayoutModel",
      "state": {
       "_model_module_version": "1.2.0",
       "_view_module_version": "1.2.0",
       "grid_area": "top-right",
       "justify_items": null,
       "object_fit": null,
       "object_position": null
      }
     },
     "5d6ae28abbc5412b84057daea8881f55": {
      "model_module": "@jupyter-widgets/controls",
      "model_module_version": "1.5.0",
      "model_name": "DescriptionStyleModel",
      "state": {
       "_model_module_version": "1.5.0",
       "_view_module_version": "1.2.0",
       "description_width": ""
      }
     },
     "5d9a1b834b3a4fe386f01fe9a2190867": {
      "model_module": "@jupyter-widgets/controls",
      "model_module_version": "1.5.0",
      "model_name": "DescriptionStyleModel",
      "state": {
       "_model_module_version": "1.5.0",
       "_view_module_version": "1.2.0",
       "description_width": ""
      }
     },
     "5e6ef1429b5b457087c8e439caa78dc4": {
      "model_module": "@jupyter-widgets/base",
      "model_module_version": "1.2.0",
      "model_name": "LayoutModel",
      "state": {
       "_model_module_version": "1.2.0",
       "_view_module_version": "1.2.0",
       "justify_items": null,
       "object_fit": null,
       "object_position": null
      }
     },
     "5e7b5a9dd63640b689f9625510f34052": {
      "model_module": "@jupyter-widgets/base",
      "model_module_version": "1.2.0",
      "model_name": "LayoutModel",
      "state": {
       "_model_module_version": "1.2.0",
       "_view_module_version": "1.2.0",
       "justify_items": null,
       "object_fit": null,
       "object_position": null
      }
     },
     "5ec1e6535c9d4502aa421895816ec605": {
      "model_module": "@jupyter-widgets/base",
      "model_module_version": "1.2.0",
      "model_name": "LayoutModel",
      "state": {
       "_model_module_version": "1.2.0",
       "_view_module_version": "1.2.0",
       "justify_items": null,
       "object_fit": null,
       "object_position": null,
       "width": "20%"
      }
     },
     "5ec4fe44426940d1a3aaa76e72e32b27": {
      "model_module": "@jupyter-widgets/controls",
      "model_module_version": "1.5.0",
      "model_name": "LabelModel",
      "state": {
       "_model_module_version": "1.5.0",
       "_view_module_version": "1.5.0",
       "layout": "IPY_MODEL_5b3930997f1e4e62925f20d93c2bd6dd",
       "style": "IPY_MODEL_8bc86b18b42442a8992c13c2805fdcf6",
       "value": "2654 rows"
      }
     },
     "5ee293a435c94b0dad08cf5b4e232036": {
      "model_module": "@jupyter-widgets/base",
      "model_module_version": "1.2.0",
      "model_name": "LayoutModel",
      "state": {
       "_model_module_version": "1.2.0",
       "_view_module_version": "1.2.0",
       "justify_items": null,
       "object_fit": null,
       "object_position": null
      }
     },
     "5f495604cacb4c6bbe22ed2ff2fe0e9e": {
      "model_module": "@jupyter-widgets/controls",
      "model_module_version": "1.5.0",
      "model_name": "TextModel",
      "state": {
       "_model_module_version": "1.5.0",
       "_view_module_version": "1.5.0",
       "layout": "IPY_MODEL_13ffed10c417474b8e0b53e0d62139a7",
       "style": "IPY_MODEL_9c8f957bd91a4522a548c8d5f4395275",
       "value": "filtered_data.csv"
      }
     },
     "5fe0e28fad524e8bb2dd120e0930a801": {
      "model_module": "@jupyter-widgets/controls",
      "model_module_version": "1.5.0",
      "model_name": "VBoxModel",
      "state": {
       "_model_module_version": "1.5.0",
       "_view_module_version": "1.5.0",
       "children": [
        "IPY_MODEL_4e424cf2a1ba41a49b3129035bd13fe2",
        "IPY_MODEL_6108d548fac94a85aa83cf0c0be6ee8d"
       ],
       "layout": "IPY_MODEL_01deab2700e6478c99399b8c7ee39d44"
      }
     },
     "60280ba5a1984f37915d8e3e7f804ee9": {
      "model_module": "@jupyter-widgets/controls",
      "model_module_version": "1.5.0",
      "model_name": "VBoxModel",
      "state": {
       "_model_module_version": "1.5.0",
       "_view_module_version": "1.5.0",
       "children": [
        "IPY_MODEL_474d2c8f5af74fd7ac8d0d2e8c78798b",
        "IPY_MODEL_2062cf5a82004a33be780a0b2e401c09",
        "IPY_MODEL_328a75c0072a4e48bea24e2ae7488753"
       ],
       "layout": "IPY_MODEL_9db0aed7649b4ebe87a5e7b9dd0fa144"
      }
     },
     "607f5142a784496db5f74836b4fc6450": {
      "model_module": "@jupyter-widgets/base",
      "model_module_version": "1.2.0",
      "model_name": "LayoutModel",
      "state": {
       "_model_module_version": "1.2.0",
       "_view_module_version": "1.2.0",
       "justify_items": null,
       "object_fit": null,
       "object_position": null
      }
     },
     "6092a86ddf484b10859586b58ae7b900": {
      "model_module": "@jupyter-widgets/base",
      "model_module_version": "1.2.0",
      "model_name": "LayoutModel",
      "state": {
       "_model_module_version": "1.2.0",
       "_view_module_version": "1.2.0",
       "justify_items": null,
       "object_fit": null,
       "object_position": null
      }
     },
     "60b840d528b34997b671b8b67d026aa1": {
      "model_module": "@jupyter-widgets/controls",
      "model_module_version": "1.5.0",
      "model_name": "GridBoxModel",
      "state": {
       "_model_module_version": "1.5.0",
       "_view_module_version": "1.5.0",
       "children": [
        "IPY_MODEL_60280ba5a1984f37915d8e3e7f804ee9",
        "IPY_MODEL_da33863c21cd479b9498213249ab49eb"
       ],
       "layout": "IPY_MODEL_9515e9d891b3417ebe9b2e61e841e871"
      }
     },
     "60b8d24ab1854b5199b83c32782ee2c8": {
      "model_module": "@jupyter-widgets/controls",
      "model_module_version": "1.5.0",
      "model_name": "LabelModel",
      "state": {
       "_model_module_version": "1.5.0",
       "_view_module_version": "1.5.0",
       "layout": "IPY_MODEL_6aa361006ecd4c968d6a85afaa432799",
       "style": "IPY_MODEL_417d1b9bd1184be5bd72219cfdb5514d",
       "value": "of 266 pages with "
      }
     },
     "60ea8d1f9dd944cdaf7458318ee7c722": {
      "model_module": "@jupyter-widgets/controls",
      "model_module_version": "1.5.0",
      "model_name": "DescriptionStyleModel",
      "state": {
       "_model_module_version": "1.5.0",
       "_view_module_version": "1.2.0",
       "description_width": ""
      }
     },
     "60f29135d8ee4fbe961a9da5e5e1dd52": {
      "model_module": "@jupyter-widgets/base",
      "model_module_version": "1.2.0",
      "model_name": "LayoutModel",
      "state": {
       "_model_module_version": "1.2.0",
       "_view_module_version": "1.2.0",
       "justify_items": null,
       "object_fit": null,
       "object_position": null
      }
     },
     "6108d548fac94a85aa83cf0c0be6ee8d": {
      "model_module": "@jupyter-widgets/controls",
      "model_module_version": "1.5.0",
      "model_name": "HTMLModel",
      "state": {
       "_model_module_version": "1.5.0",
       "_view_module_version": "1.5.0",
       "layout": "IPY_MODEL_3af787e606f74af785fec1e321c03029",
       "style": "IPY_MODEL_b10dc5f5c3344adabf1aa288f0fba63e",
       "value": "Deselect with ctrl + click"
      }
     },
     "61120d101c4645568c02a426fcdecbc7": {
      "model_module": "@jupyter-widgets/base",
      "model_module_version": "1.2.0",
      "model_name": "LayoutModel",
      "state": {
       "_model_module_version": "1.2.0",
       "_view_module_version": "1.2.0",
       "justify_items": null,
       "object_fit": null,
       "object_position": null
      }
     },
     "6121cd67c3fa45f68998ff8dffaca0f5": {
      "model_module": "@jupyter-widgets/base",
      "model_module_version": "1.2.0",
      "model_name": "LayoutModel",
      "state": {
       "_model_module_version": "1.2.0",
       "_view_module_version": "1.2.0",
       "height": "50px",
       "justify_items": null,
       "object_fit": null,
       "object_position": null
      }
     },
     "613e72053212471a89673f0d160d5a46": {
      "model_module": "@jupyter-widgets/base",
      "model_module_version": "1.2.0",
      "model_name": "LayoutModel",
      "state": {
       "_model_module_version": "1.2.0",
       "_view_module_version": "1.2.0",
       "justify_items": null,
       "object_fit": null,
       "object_position": null
      }
     },
     "61a3e0999c184134bc6cf3378ecb5ce4": {
      "model_module": "@jupyter-widgets/controls",
      "model_module_version": "1.5.0",
      "model_name": "IntSliderModel",
      "state": {
       "_model_module_version": "1.5.0",
       "_view_module_version": "1.5.0",
       "layout": "IPY_MODEL_b142a033a22f4f28933c4e1faf72ce47",
       "max": 266,
       "min": 1,
       "style": "IPY_MODEL_0add6be8b39c41c59e6d284f2c174f45",
       "value": 1
      }
     },
     "62d745f70f324aa3960f9dfd019dec6b": {
      "model_module": "@jupyter-widgets/base",
      "model_module_version": "1.2.0",
      "model_name": "LayoutModel",
      "state": {
       "_model_module_version": "1.2.0",
       "_view_module_version": "1.2.0",
       "grid_area": "top-right",
       "justify_items": null,
       "object_fit": null,
       "object_position": null
      }
     },
     "62d80c0a8c60470eb3556857615e20e5": {
      "model_module": "@jupyter-widgets/controls",
      "model_module_version": "1.5.0",
      "model_name": "ButtonModel",
      "state": {
       "_model_module_version": "1.5.0",
       "_view_module_version": "1.5.0",
       "description": "save",
       "layout": "IPY_MODEL_074446b724504c7997d193de8e57b5c7",
       "style": "IPY_MODEL_07d8bff1264a4542be4ab43f4bac5b95"
      }
     },
     "644b496ab66f4aac95ebf304eccd0ca5": {
      "model_module": "@jupyter-widgets/controls",
      "model_module_version": "1.5.0",
      "model_name": "ButtonStyleModel",
      "state": {
       "_model_module_version": "1.5.0",
       "_view_module_version": "1.2.0"
      }
     },
     "6451e4e13ed54b04b9c5be21d6283593": {
      "model_module": "@jupyter-widgets/base",
      "model_module_version": "1.2.0",
      "model_name": "LayoutModel",
      "state": {
       "_model_module_version": "1.2.0",
       "_view_module_version": "1.2.0",
       "grid_template_areas": "\"top-left top-right\"\n\"top-left top-right\"",
       "grid_template_columns": "1fr 1fr",
       "grid_template_rows": "1fr 1fr",
       "justify_items": null,
       "object_fit": null,
       "object_position": null
      }
     },
     "64b8d8e69dcc4cc8970fc86eb13bc117": {
      "model_module": "@jupyter-widgets/controls",
      "model_module_version": "1.5.0",
      "model_name": "IntSliderModel",
      "state": {
       "_model_module_version": "1.5.0",
       "_view_module_version": "1.5.0",
       "layout": "IPY_MODEL_a3013904b5124b24b6803e9e6485c7fa",
       "max": 266,
       "min": 1,
       "style": "IPY_MODEL_3ab5498c3552453b88783165c2412322",
       "value": 1
      }
     },
     "64de555f06f5480cad8b43757c1e4ed2": {
      "model_module": "@jupyter-widgets/controls",
      "model_module_version": "1.5.0",
      "model_name": "HTMLModel",
      "state": {
       "_model_module_version": "1.5.0",
       "_view_module_version": "1.5.0",
       "layout": "IPY_MODEL_530ebfa8976c4305b851f92f528a6217",
       "style": "IPY_MODEL_45669739a90f4a09a41d8357e3422688",
       "value": "<h3>Sorting</h3>"
      }
     },
     "6544601c77ff4f5e83a7a744ee92e4ba": {
      "model_module": "@jupyter-widgets/controls",
      "model_module_version": "1.5.0",
      "model_name": "SliderStyleModel",
      "state": {
       "_model_module_version": "1.5.0",
       "_view_module_version": "1.2.0",
       "description_width": ""
      }
     },
     "65d37dcfb9064793b2318d0701fb8a41": {
      "model_module": "@jupyter-widgets/controls",
      "model_module_version": "1.5.0",
      "model_name": "HBoxModel",
      "state": {
       "_model_module_version": "1.5.0",
       "_view_module_version": "1.5.0",
       "children": [
        "IPY_MODEL_05a89d8895b64f9dbd565200bc26423d",
        "IPY_MODEL_f63201d497f74342ba853beca4fa74c8",
        "IPY_MODEL_5b192c21621a4e53b45aabc22b3347fc",
        "IPY_MODEL_f93a459fbaf64355823d69baf33a1775",
        "IPY_MODEL_06dc05fecb394f59befc26e2e0289225"
       ],
       "layout": "IPY_MODEL_8d512b01bf814cb39d97538d9247c012"
      }
     },
     "66775bd3fbf646edaca92b86669928b9": {
      "model_module": "@jupyter-widgets/controls",
      "model_module_version": "1.5.0",
      "model_name": "HTMLModel",
      "state": {
       "_model_module_version": "1.5.0",
       "_view_module_version": "1.5.0",
       "layout": "IPY_MODEL_af87606422e54ee5a74ee4c342cbc3f1",
       "style": "IPY_MODEL_6eb0c1644ff34749be644f0dfa876599",
       "value": "<h3>Searching</h3>"
      }
     },
     "66e1306bc0c541c0a5e837ce5a0e8328": {
      "model_module": "@jupyter-widgets/controls",
      "model_module_version": "1.5.0",
      "model_name": "HBoxModel",
      "state": {
       "_model_module_version": "1.5.0",
       "_view_module_version": "1.5.0",
       "children": [
        "IPY_MODEL_0535936cf27f454293efcbb520b7f3d8",
        "IPY_MODEL_cc386cede20d427db2efdf20a9825d34",
        "IPY_MODEL_becc94a1749f45b9a94e512e9223195f"
       ],
       "layout": "IPY_MODEL_df9df8ad82cf42e9802937a6691a1b49"
      }
     },
     "6709fafbadf54bf99b29dc34084db398": {
      "model_module": "@jupyter-widgets/controls",
      "model_module_version": "1.5.0",
      "model_name": "SelectMultipleModel",
      "state": {
       "_model_module_version": "1.5.0",
       "_options_labels": [
        "text",
        "text_translated",
        "media",
        "source",
        "mode",
        "num_persons",
        "_timestamp",
        "confidence",
        "source_reliability",
        "locations",
        "origin_bool",
        "origin",
        "destination",
        "geom_tweet",
        "triage_status"
       ],
       "_view_module_version": "1.5.0",
       "index": [],
       "layout": "IPY_MODEL_fb780d0dec5340d8a7ce412076db2c61",
       "rows": 5,
       "style": "IPY_MODEL_e79da431bc3743e6875b11d8cd875d40"
      }
     },
     "6726d9b41d664bd48a2c3e1c27c7fbae": {
      "model_module": "@jupyter-widgets/output",
      "model_module_version": "1.0.0",
      "model_name": "OutputModel",
      "state": {
       "layout": "IPY_MODEL_94893cb1ced04442b2c112cf4ed893e4",
       "outputs": [
        {
         "data": {
          "text/html": "<div>\n<style scoped>\n    .dataframe tbody tr th:only-of-type {\n        vertical-align: middle;\n    }\n\n    .dataframe tbody tr th {\n        vertical-align: top;\n    }\n\n    .dataframe thead th {\n        text-align: right;\n    }\n</style>\n<table border=\"1\" class=\"dataframe\">\n  <thead>\n    <tr style=\"text-align: right;\">\n      <th></th>\n      <th>text</th>\n      <th>text_translated</th>\n      <th>media</th>\n      <th>source</th>\n      <th>mode</th>\n      <th>num_persons</th>\n      <th>_timestamp</th>\n      <th>confidence</th>\n      <th>source_reliability</th>\n      <th>locations</th>\n      <th>origin_bool</th>\n      <th>origin</th>\n      <th>destination</th>\n      <th>geom_tweet</th>\n      <th>triage_status</th>\n    </tr>\n    <tr>\n      <th>uniqueid</th>\n      <th></th>\n      <th></th>\n      <th></th>\n      <th></th>\n      <th></th>\n      <th></th>\n      <th></th>\n      <th></th>\n      <th></th>\n      <th></th>\n      <th></th>\n      <th></th>\n      <th></th>\n      <th></th>\n      <th></th>\n    </tr>\n  </thead>\n  <tbody>\n    <tr>\n      <th>969</th>\n      <td>\"En Macédoine, les migrants remplissent les trains pour la Serbie - AFP\" en replay sur Android TV Replay http://t.co/k8LZQkCzNh</td>\n      <td>in macedonia migrants fill trains for serbia afp in replay on android tv replay</td>\n      <td>NaN</td>\n      <td>twitter</td>\n      <td>train</td>\n      <td>NaN</td>\n      <td>2019-09-12 04:08:04.000000</td>\n      <td>0.63</td>\n      <td>0.12</td>\n      <td>['macedonia', 'serbia']</td>\n      <td>NaN</td>\n      <td>NaN</td>\n      <td>NaN</td>\n      <td>0101000000575BB1BFEC6E35400000000000004540</td>\n      <td>NaN</td>\n    </tr>\n    <tr>\n      <th>795</th>\n      <td>\"Macedonia, ancora frontiere chiuse. I migranti passano dal filo spinato\" - http://t.co/lt7wNeffC7 http://t.co/jvg5cMgDxk</td>\n      <td>macedonia still closed borders migrants pass by barbed wire</td>\n      <td>['http://pbs.twimg.com/media/CNBxOh7WoAAP-zV.jpg']</td>\n      <td>twitter</td>\n      <td>NaN</td>\n      <td>NaN</td>\n      <td>2019-09-14 16:50:53.000000</td>\n      <td>0.81</td>\n      <td>0.04</td>\n      <td>['macedonia']</td>\n      <td>NaN</td>\n      <td>NaN</td>\n      <td>NaN</td>\n      <td>0101000000575BB1BFEC6E35400000000000004540</td>\n      <td>NaN</td>\n    </tr>\n    <tr>\n      <th>1158</th>\n      <td>\"More than 130,000 #migrants have attempted to cross the Mediterranean in 2015\"  http://t.co/ZOvpUsTx1d</td>\n      <td>more than 130 000 migrants have attempted to cross the mediterranean in 2015</td>\n      <td>NaN</td>\n      <td>twitter</td>\n      <td>NaN</td>\n      <td>NaN</td>\n      <td>2019-07-26 17:47:04.000000</td>\n      <td>0.53</td>\n      <td>0.94</td>\n      <td>[]</td>\n      <td>NaN</td>\n      <td>NaN</td>\n      <td>NaN</td>\n      <td>NaN</td>\n      <td>NaN</td>\n    </tr>\n    <tr>\n      <th>2364</th>\n      <td>\"On Thursday Slovenia reported that 12,000 migrants had arrived in one day - a record in the current crisis in Central Europe.\" - BBC</td>\n      <td>on thursday slovenia reported that 12 000 migrants had arrived in one day a record in the current crisis in central europe bbc</td>\n      <td>NaN</td>\n      <td>twitter</td>\n      <td>NaN</td>\n      <td>NaN</td>\n      <td>2019-11-15 21:14:00.000000</td>\n      <td>0.93</td>\n      <td>0.23</td>\n      <td>['slovenia']</td>\n      <td>NaN</td>\n      <td>NaN</td>\n      <td>NaN</td>\n      <td>0101000000151DC9E53F042D402CD49AE61D074740</td>\n      <td>NaN</td>\n    </tr>\n    <tr>\n      <th>1137</th>\n      <td>\"With Tel Abyad secured, the Syrian Kurds have managed to forge a corridor between Cezire and Kobani. On Monday,... http://t.co/iJDle1SzwW</td>\n      <td>with tel abyad secured the syrian kurds have managed to forge a corridor between cezire and kobani on monday</td>\n      <td>NaN</td>\n      <td>twitter</td>\n      <td>NaN</td>\n      <td>NaN</td>\n      <td>2019-07-10 16:24:53.000000</td>\n      <td>0.71</td>\n      <td>0.24</td>\n      <td>['syria']</td>\n      <td>NaN</td>\n      <td>NaN</td>\n      <td>NaN</td>\n      <td>0101000000E8D9ACFA5C254240EFC9C342ADC14040</td>\n      <td>NaN</td>\n    </tr>\n    <tr>\n      <th>574</th>\n      <td>#2015 Франция закрывает границу с Италией http://t.co/O77dBheZKv</td>\n      <td>2015 france closes the border with italy</td>\n      <td>NaN</td>\n      <td>twitter</td>\n      <td>NaN</td>\n      <td>2015.0</td>\n      <td>2019-07-09 09:59:43.000000</td>\n      <td>0.62</td>\n      <td>1.00</td>\n      <td>['france', 'italy']</td>\n      <td>NaN</td>\n      <td>NaN</td>\n      <td>NaN</td>\n      <td>NaN</td>\n      <td>NaN</td>\n    </tr>\n    <tr>\n      <th>2041</th>\n      <td>#AFP Slovenia to send back train from Croatia carrying 150 migrants - AFP: Slovenia to send back train from Cr... http://t.co/zNEN4XLp7h</td>\n      <td>afp slovenia to send back train from croatia carrying 150 migrants afp slovenia to send back train from cr</td>\n      <td>NaN</td>\n      <td>twitter</td>\n      <td>train</td>\n      <td>150.0</td>\n      <td>2019-10-11 17:14:05.000000</td>\n      <td>0.99</td>\n      <td>0.26</td>\n      <td>['slovenia', 'croatia']</td>\n      <td>NaN</td>\n      <td>HR0</td>\n      <td>NaN</td>\n      <td>0101000000151DC9E53F042D402CD49AE61D074740</td>\n      <td>NaN</td>\n    </tr>\n    <tr>\n      <th>253</th>\n      <td>#AUSTRIA #STANDARD #WIEN broadcastetd by #TheIsraelCompany: Kommentar von Michael Völker - Die Flüchtlinge und ihr... http://t.co/MAn0lwR3vI</td>\n      <td>austria standard vienna broadcastetd by theisraelcompany comment by michael völker the refugees and their</td>\n      <td>NaN</td>\n      <td>twitter</td>\n      <td>NaN</td>\n      <td>NaN</td>\n      <td>2019-09-22 16:16:11.000000</td>\n      <td>0.67</td>\n      <td>0.05</td>\n      <td>['austria', 'vienna', 'israel']</td>\n      <td>NaN</td>\n      <td>NaN</td>\n      <td>NaN</td>\n      <td>010100000076711B0DE05D30409A99999999194840</td>\n      <td>NaN</td>\n    </tr>\n    <tr>\n      <th>397</th>\n      <td>#AUSTRIA #STANDARD #WIEN broadcastetd by #TheIsraelCompany: Syrien - Putin schließt Einsatz von Bodentruppen in Sy... http://t.co/LGKZhvK6c2</td>\n      <td>austria standard vienna broadcastetd by theisraelcompany syria putin closes deployment of ground forces in sy</td>\n      <td>NaN</td>\n      <td>twitter</td>\n      <td>NaN</td>\n      <td>NaN</td>\n      <td>2019-10-21 04:15:59.000000</td>\n      <td>0.51</td>\n      <td>0.06</td>\n      <td>['austria', 'vienna', 'israel', 'syria']</td>\n      <td>NaN</td>\n      <td>NaN</td>\n      <td>NaN</td>\n      <td>010100000076711B0DE05D30409A99999999194840</td>\n      <td>NaN</td>\n    </tr>\n    <tr>\n      <th>959</th>\n      <td>#Afrique La longue marche des migrants qui franchissent les Alpes à pied http://t.co/Way1hlrjE9</td>\n      <td>africa the long march of migrants crossing the alps on foot</td>\n      <td>NaN</td>\n      <td>twitter</td>\n      <td>on foot</td>\n      <td>NaN</td>\n      <td>2019-07-24 11:43:36.000000</td>\n      <td>0.55</td>\n      <td>0.49</td>\n      <td>[]</td>\n      <td>NaN</td>\n      <td>NaN</td>\n      <td>NaN</td>\n      <td>NaN</td>\n      <td>NaN</td>\n    </tr>\n  </tbody>\n</table>\n</div>",
          "text/plain": "                                                                                                                                                  text  \\\nuniqueid                                                                                                                                                 \n969       \"En Macédoine, les migrants remplissent les trains pour la Serbie - AFP\" en replay sur Android TV Replay http://t.co/k8LZQkCzNh                \n795       \"Macedonia, ancora frontiere chiuse. I migranti passano dal filo spinato\" - http://t.co/lt7wNeffC7 http://t.co/jvg5cMgDxk                      \n1158      \"More than 130,000 #migrants have attempted to cross the Mediterranean in 2015\"  http://t.co/ZOvpUsTx1d                                        \n2364      \"On Thursday Slovenia reported that 12,000 migrants had arrived in one day - a record in the current crisis in Central Europe.\" - BBC          \n1137      \"With Tel Abyad secured, the Syrian Kurds have managed to forge a corridor between Cezire and Kobani. On Monday,... http://t.co/iJDle1SzwW     \n574       #2015 Франция закрывает границу с Италией http://t.co/O77dBheZKv                                                                               \n2041      #AFP Slovenia to send back train from Croatia carrying 150 migrants - AFP: Slovenia to send back train from Cr... http://t.co/zNEN4XLp7h       \n253       #AUSTRIA #STANDARD #WIEN broadcastetd by #TheIsraelCompany: Kommentar von Michael Völker - Die Flüchtlinge und ihr... http://t.co/MAn0lwR3vI   \n397       #AUSTRIA #STANDARD #WIEN broadcastetd by #TheIsraelCompany: Syrien - Putin schließt Einsatz von Bodentruppen in Sy... http://t.co/LGKZhvK6c2   \n959       #Afrique La longue marche des migrants qui franchissent les Alpes à pied http://t.co/Way1hlrjE9                                                \n\n                                                                                                                         text_translated  \\\nuniqueid                                                                                                                                   \n969       in macedonia migrants fill trains for serbia afp in replay on android tv replay                                                  \n795       macedonia still closed borders migrants pass by barbed wire                                                                      \n1158      more than 130 000 migrants have attempted to cross the mediterranean in 2015                                                     \n2364      on thursday slovenia reported that 12 000 migrants had arrived in one day a record in the current crisis in central europe bbc   \n1137      with tel abyad secured the syrian kurds have managed to forge a corridor between cezire and kobani on monday                     \n574       2015 france closes the border with italy                                                                                         \n2041      afp slovenia to send back train from croatia carrying 150 migrants afp slovenia to send back train from cr                       \n253       austria standard vienna broadcastetd by theisraelcompany comment by michael völker the refugees and their                        \n397       austria standard vienna broadcastetd by theisraelcompany syria putin closes deployment of ground forces in sy                    \n959       africa the long march of migrants crossing the alps on foot                                                                      \n\n                                                       media   source  \\\nuniqueid                                                                \n969       NaN                                                 twitter   \n795       ['http://pbs.twimg.com/media/CNBxOh7WoAAP-zV.jpg']  twitter   \n1158      NaN                                                 twitter   \n2364      NaN                                                 twitter   \n1137      NaN                                                 twitter   \n574       NaN                                                 twitter   \n2041      NaN                                                 twitter   \n253       NaN                                                 twitter   \n397       NaN                                                 twitter   \n959       NaN                                                 twitter   \n\n             mode  num_persons                  _timestamp  confidence  \\\nuniqueid                                                                 \n969       train   NaN           2019-09-12 04:08:04.000000  0.63         \n795       NaN     NaN           2019-09-14 16:50:53.000000  0.81         \n1158      NaN     NaN           2019-07-26 17:47:04.000000  0.53         \n2364      NaN     NaN           2019-11-15 21:14:00.000000  0.93         \n1137      NaN     NaN           2019-07-10 16:24:53.000000  0.71         \n574       NaN      2015.0       2019-07-09 09:59:43.000000  0.62         \n2041      train    150.0        2019-10-11 17:14:05.000000  0.99         \n253       NaN     NaN           2019-09-22 16:16:11.000000  0.67         \n397       NaN     NaN           2019-10-21 04:15:59.000000  0.51         \n959       on foot NaN           2019-07-24 11:43:36.000000  0.55         \n\n          source_reliability                                 locations  \\\nuniqueid                                                                 \n969       0.12                ['macedonia', 'serbia']                    \n795       0.04                ['macedonia']                              \n1158      0.94                []                                         \n2364      0.23                ['slovenia']                               \n1137      0.24                ['syria']                                  \n574       1.00                ['france', 'italy']                        \n2041      0.26                ['slovenia', 'croatia']                    \n253       0.05                ['austria', 'vienna', 'israel']            \n397       0.06                ['austria', 'vienna', 'israel', 'syria']   \n959       0.49                []                                         \n\n          origin_bool origin destination  \\\nuniqueid                                   \n969      NaN           NaN    NaN          \n795      NaN           NaN    NaN          \n1158     NaN           NaN    NaN          \n2364     NaN           NaN    NaN          \n1137     NaN           NaN    NaN          \n574      NaN           NaN    NaN          \n2041     NaN           HR0    NaN          \n253      NaN           NaN    NaN          \n397      NaN           NaN    NaN          \n959      NaN           NaN    NaN          \n\n                                          geom_tweet  triage_status  \nuniqueid                                                             \n969       0101000000575BB1BFEC6E35400000000000004540 NaN             \n795       0101000000575BB1BFEC6E35400000000000004540 NaN             \n1158      NaN                                        NaN             \n2364      0101000000151DC9E53F042D402CD49AE61D074740 NaN             \n1137      0101000000E8D9ACFA5C254240EFC9C342ADC14040 NaN             \n574       NaN                                        NaN             \n2041      0101000000151DC9E53F042D402CD49AE61D074740 NaN             \n253       010100000076711B0DE05D30409A99999999194840 NaN             \n397       010100000076711B0DE05D30409A99999999194840 NaN             \n959       NaN                                        NaN             "
         },
         "metadata": {},
         "output_type": "display_data"
        }
       ]
      }
     },
     "6732b5746ecd433aab938593515ad3cb": {
      "model_module": "@jupyter-widgets/controls",
      "model_module_version": "1.5.0",
      "model_name": "HTMLModel",
      "state": {
       "_model_module_version": "1.5.0",
       "_view_module_version": "1.5.0",
       "layout": "IPY_MODEL_50def60d4450469f8ee4506c528a48c3",
       "style": "IPY_MODEL_aaf5c488c829496bbffd20f1ba84344e",
       "value": "Select multiple by dragging or ctrl + click"
      }
     },
     "681f72edcf0c47c984bff8d6acddbd1c": {
      "model_module": "@jupyter-widgets/base",
      "model_module_version": "1.2.0",
      "model_name": "LayoutModel",
      "state": {
       "_model_module_version": "1.2.0",
       "_view_module_version": "1.2.0",
       "justify_items": null,
       "object_fit": null,
       "object_position": null
      }
     },
     "682c9391964d496b98fdf310ee7a7798": {
      "model_module": "@jupyter-widgets/controls",
      "model_module_version": "1.5.0",
      "model_name": "VBoxModel",
      "state": {
       "_model_module_version": "1.5.0",
       "_view_module_version": "1.5.0",
       "children": [
        "IPY_MODEL_6ff29c7825a3481c9c182d5cdbd4c185",
        "IPY_MODEL_0440a4af657642a093f3fe4283e08262"
       ],
       "layout": "IPY_MODEL_c334aaf0579f4152a2455577d0cb1132"
      }
     },
     "68e10f250f264285a1c5b6172d57184f": {
      "model_module": "@jupyter-widgets/controls",
      "model_module_version": "1.5.0",
      "model_name": "HTMLModel",
      "state": {
       "_model_module_version": "1.5.0",
       "_view_module_version": "1.5.0",
       "layout": "IPY_MODEL_48f0076696b14974b5ae653911d9293b",
       "style": "IPY_MODEL_ced4d68b39434b8a8ee6cb2fa48323fc",
       "value": "<h3>Required Values</h3>"
      }
     },
     "698e993e8edc4a17ae78d9073801a48c": {
      "model_module": "@jupyter-widgets/controls",
      "model_module_version": "1.5.0",
      "model_name": "DropdownModel",
      "state": {
       "_model_module_version": "1.5.0",
       "_options_labels": [
        "text",
        "text_translated",
        "media",
        "source",
        "mode",
        "num_persons",
        "_timestamp",
        "confidence",
        "source_reliability",
        "locations",
        "origin_bool",
        "origin",
        "destination",
        "geom_tweet",
        "triage_status"
       ],
       "_view_module_version": "1.5.0",
       "description": "order by",
       "index": 0,
       "layout": "IPY_MODEL_52de89370b654b15a47fdc6e6c66be30",
       "style": "IPY_MODEL_156d5a44b0234e168a9b47a432962887"
      }
     },
     "69ad6ce3657b401eadf23598d3b9d8d9": {
      "model_module": "@jupyter-widgets/controls",
      "model_module_version": "1.5.0",
      "model_name": "VBoxModel",
      "state": {
       "_model_module_version": "1.5.0",
       "_view_module_version": "1.5.0",
       "children": [
        "IPY_MODEL_4112a5d5fe1e42648a9f6e95de9df6cd",
        "IPY_MODEL_1b94f186569c4daf9c100e6b2ec5699b"
       ],
       "layout": "IPY_MODEL_f613df55761349c6b91d75fbb1654775"
      }
     },
     "69b51e50b7ab4cc896962f47803121ee": {
      "model_module": "@jupyter-widgets/base",
      "model_module_version": "1.2.0",
      "model_name": "LayoutModel",
      "state": {
       "_model_module_version": "1.2.0",
       "_view_module_version": "1.2.0",
       "justify_items": null,
       "object_fit": null,
       "object_position": null
      }
     },
     "69c02d7560164336a78cb46ebe5c07f5": {
      "model_module": "@jupyter-widgets/controls",
      "model_module_version": "1.5.0",
      "model_name": "VBoxModel",
      "state": {
       "_model_module_version": "1.5.0",
       "_view_module_version": "1.5.0",
       "children": [
        "IPY_MODEL_1697c098c61c46598e70782e78bbf34b",
        "IPY_MODEL_810ff85dfc164e71b7e6844c5c988739"
       ],
       "layout": "IPY_MODEL_bd807d69971743f7bf326128e4fd3963"
      }
     },
     "69edb62e384746068c01d61d0038584e": {
      "model_module": "@jupyter-widgets/controls",
      "model_module_version": "1.5.0",
      "model_name": "ButtonStyleModel",
      "state": {
       "_model_module_version": "1.5.0",
       "_view_module_version": "1.2.0"
      }
     },
     "6a9d235504ee4c16b892e3f8fde32fd8": {
      "model_module": "@jupyter-widgets/controls",
      "model_module_version": "1.5.0",
      "model_name": "DescriptionStyleModel",
      "state": {
       "_model_module_version": "1.5.0",
       "_view_module_version": "1.2.0",
       "description_width": ""
      }
     },
     "6aa361006ecd4c968d6a85afaa432799": {
      "model_module": "@jupyter-widgets/base",
      "model_module_version": "1.2.0",
      "model_name": "LayoutModel",
      "state": {
       "_model_module_version": "1.2.0",
       "_view_module_version": "1.2.0",
       "justify_items": null,
       "object_fit": null,
       "object_position": null
      }
     },
     "6ab886db7dc745249744d7a6dfaea5f3": {
      "model_module": "@jupyter-widgets/controls",
      "model_module_version": "1.5.0",
      "model_name": "ButtonStyleModel",
      "state": {
       "_model_module_version": "1.5.0",
       "_view_module_version": "1.2.0"
      }
     },
     "6ae92ebfb4b24d33b58af676bac289dd": {
      "model_module": "@jupyter-widgets/controls",
      "model_module_version": "1.5.0",
      "model_name": "VBoxModel",
      "state": {
       "_model_module_version": "1.5.0",
       "_view_module_version": "1.5.0",
       "children": [
        "IPY_MODEL_244fa6ba239e47568e8da21fe252d3d6",
        "IPY_MODEL_03214ff9e6be48d7b3b0e1965016b614",
        "IPY_MODEL_fd132733b10440449feb6ed6fa7c071e"
       ],
       "layout": "IPY_MODEL_e29d07af0a4844719e521a038ef0dee0"
      }
     },
     "6af95bacd1ef46d29c4de8a158fb1f0a": {
      "model_module": "@jupyter-widgets/base",
      "model_module_version": "1.2.0",
      "model_name": "LayoutModel",
      "state": {
       "_model_module_version": "1.2.0",
       "_view_module_version": "1.2.0",
       "justify_items": null,
       "object_fit": null,
       "object_position": null
      }
     },
     "6afbc8a5492f42be8aee077eb2552103": {
      "model_module": "@jupyter-widgets/base",
      "model_module_version": "1.2.0",
      "model_name": "LayoutModel",
      "state": {
       "_model_module_version": "1.2.0",
       "_view_module_version": "1.2.0",
       "justify_items": null,
       "object_fit": null,
       "object_position": null
      }
     },
     "6b5a5ede34384f7899cb8d4fb0454056": {
      "model_module": "@jupyter-widgets/controls",
      "model_module_version": "1.5.0",
      "model_name": "DescriptionStyleModel",
      "state": {
       "_model_module_version": "1.5.0",
       "_view_module_version": "1.2.0",
       "description_width": ""
      }
     },
     "6bc320421d55496e9d5ad8dc4b9b1ed4": {
      "model_module": "@jupyter-widgets/controls",
      "model_module_version": "1.5.0",
      "model_name": "LabelModel",
      "state": {
       "_model_module_version": "1.5.0",
       "_view_module_version": "1.5.0",
       "layout": "IPY_MODEL_ced1e1afd74242b7adbcab157c6f2c9e",
       "style": "IPY_MODEL_6f64286734d24efcbe43f0dbf9a56384"
      }
     },
     "6beb81455a1a466a81d9d11d670b370c": {
      "model_module": "@jupyter-widgets/base",
      "model_module_version": "1.2.0",
      "model_name": "LayoutModel",
      "state": {
       "_model_module_version": "1.2.0",
       "_view_module_version": "1.2.0",
       "justify_items": null,
       "object_fit": null,
       "object_position": null
      }
     },
     "6c1101e006cc4dfa8aeb693e68680a2c": {
      "model_module": "@jupyter-widgets/controls",
      "model_module_version": "1.5.0",
      "model_name": "VBoxModel",
      "state": {
       "_model_module_version": "1.5.0",
       "_view_module_version": "1.5.0",
       "children": [
        "IPY_MODEL_9295d90dd0ec46adaee7dec26349632c",
        "IPY_MODEL_2e3076a565a947589c94e93347951b6d",
        "IPY_MODEL_21c24a829b434c0d91c6104790cc7805"
       ],
       "layout": "IPY_MODEL_62d745f70f324aa3960f9dfd019dec6b"
      }
     },
     "6c16828f33bb43d0a58316d0caec81d8": {
      "model_module": "@jupyter-widgets/controls",
      "model_module_version": "1.5.0",
      "model_name": "DescriptionStyleModel",
      "state": {
       "_model_module_version": "1.5.0",
       "_view_module_version": "1.2.0",
       "description_width": ""
      }
     },
     "6c2a0d4232e14eea9818a4abf2d75993": {
      "model_module": "@jupyter-widgets/controls",
      "model_module_version": "1.5.0",
      "model_name": "DescriptionStyleModel",
      "state": {
       "_model_module_version": "1.5.0",
       "_view_module_version": "1.2.0",
       "description_width": ""
      }
     },
     "6c770e0b53074f3d81542958cd73dfe0": {
      "model_module": "@jupyter-widgets/controls",
      "model_module_version": "1.5.0",
      "model_name": "VBoxModel",
      "state": {
       "_model_module_version": "1.5.0",
       "_view_module_version": "1.5.0",
       "children": [
        "IPY_MODEL_1fb841d7dbcc45939ded014611307e6f",
        "IPY_MODEL_9bde1097819742adaef3f28da660c5fc",
        "IPY_MODEL_31e0828a3c86437cbc03a8810b795b8d"
       ],
       "layout": "IPY_MODEL_76c0b627bfce4ba7b84d4483a034a88f"
      }
     },
     "6c784f2f5c3e46049418fe40df60d628": {
      "model_module": "@jupyter-widgets/output",
      "model_module_version": "1.0.0",
      "model_name": "OutputModel",
      "state": {
       "layout": "IPY_MODEL_a462eff63e2042fd8016d1dca6ecd687"
      }
     },
     "6cbca5032036411b9bb3231539987e47": {
      "model_module": "@jupyter-widgets/controls",
      "model_module_version": "1.5.0",
      "model_name": "AccordionModel",
      "state": {
       "_model_module_version": "1.5.0",
       "_titles": {
        "0": "Sorting",
        "1": "Required Values",
        "2": "Searching",
        "3": "Save filtered Data"
       },
       "_view_module_version": "1.5.0",
       "children": [
        "IPY_MODEL_148b4958b5a54b7eb31378c76135886c",
        "IPY_MODEL_c6f35052edeb4d6786f516b69df3703a",
        "IPY_MODEL_b1ae3b188a484b0386a90f911db3c751",
        "IPY_MODEL_169ac9fa88844bb397464d2c74f37f88"
       ],
       "layout": "IPY_MODEL_df75d9176f804b38a3c8a42b5f3c9242"
      }
     },
     "6d4eaf332e024712951d401d617891ed": {
      "model_module": "@jupyter-widgets/base",
      "model_module_version": "1.2.0",
      "model_name": "LayoutModel",
      "state": {
       "_model_module_version": "1.2.0",
       "_view_module_version": "1.2.0",
       "justify_items": null,
       "object_fit": null,
       "object_position": null
      }
     },
     "6d98621cdc3a43a8a4eea13df7171bd1": {
      "model_module": "@jupyter-widgets/controls",
      "model_module_version": "1.5.0",
      "model_name": "LabelModel",
      "state": {
       "_model_module_version": "1.5.0",
       "_view_module_version": "1.5.0",
       "layout": "IPY_MODEL_231161d2bb75463182e3eac7d52feb21",
       "style": "IPY_MODEL_dbc3b4b3789e408d80ef74c01a7819e6",
       "value": "of 266 pages with "
      }
     },
     "6dbb15f8b7374bdd863f2bbd3cbb44d9": {
      "model_module": "@jupyter-widgets/controls",
      "model_module_version": "1.5.0",
      "model_name": "ButtonModel",
      "state": {
       "_model_module_version": "1.5.0",
       "_view_module_version": "1.5.0",
       "icon": "chevron-left",
       "layout": "IPY_MODEL_0caee3ceddbf494aae0b4cb0aa5c6beb",
       "style": "IPY_MODEL_19d2061fa7d54977ba685f5ec57461c2"
      }
     },
     "6dde23873a2940e388e5badfaffaa012": {
      "model_module": "@jupyter-widgets/controls",
      "model_module_version": "1.5.0",
      "model_name": "LabelModel",
      "state": {
       "_model_module_version": "1.5.0",
       "_view_module_version": "1.5.0",
       "layout": "IPY_MODEL_268fee9b15dc4a37902a1f1b5e8e1078",
       "style": "IPY_MODEL_a0939a42129f49d9b022f55a1d50e9c4",
       "value": "Plot Columns"
      }
     },
     "6e0311209c1c4b61845526bca3100fe1": {
      "model_module": "@jupyter-widgets/controls",
      "model_module_version": "1.5.0",
      "model_name": "DescriptionStyleModel",
      "state": {
       "_model_module_version": "1.5.0",
       "_view_module_version": "1.2.0",
       "description_width": ""
      }
     },
     "6e08ef3df27e4b428793de0db573269d": {
      "model_module": "@jupyter-widgets/controls",
      "model_module_version": "1.5.0",
      "model_name": "VBoxModel",
      "state": {
       "_model_module_version": "1.5.0",
       "_view_module_version": "1.5.0",
       "children": [
        "IPY_MODEL_eb7741e3213d496e9471aa8a49edfb34",
        "IPY_MODEL_8b1adf3de8c4469a86c40b9e0fdff899",
        "IPY_MODEL_77d64e9e13b0481d8a59720348f3da82"
       ],
       "layout": "IPY_MODEL_470f789515454dee983ae0fd066b1bbe"
      }
     },
     "6e182eebd07049eab7a2cfd413f4191d": {
      "model_module": "@jupyter-widgets/base",
      "model_module_version": "1.2.0",
      "model_name": "LayoutModel",
      "state": {
       "_model_module_version": "1.2.0",
       "_view_module_version": "1.2.0",
       "height": "50px",
       "justify_items": null,
       "object_fit": null,
       "object_position": null
      }
     },
     "6e2e5b9e22a14e36b1992128575ff7f4": {
      "model_module": "@jupyter-widgets/base",
      "model_module_version": "1.2.0",
      "model_name": "LayoutModel",
      "state": {
       "_model_module_version": "1.2.0",
       "_view_module_version": "1.2.0",
       "justify_items": null,
       "object_fit": null,
       "object_position": null
      }
     },
     "6e2e9ab2acf24ceaac6cd30576a4c37f": {
      "model_module": "@jupyter-widgets/controls",
      "model_module_version": "1.5.0",
      "model_name": "TextModel",
      "state": {
       "_model_module_version": "1.5.0",
       "_view_module_version": "1.5.0",
       "layout": "IPY_MODEL_862a9d4a3ebf4f03898d09627b61b5df",
       "style": "IPY_MODEL_8d6de1e2de5c4434b2f000383c8d9712",
       "value": "filtered_data.csv"
      }
     },
     "6e814ed2d17a43f7bae25ebc9483af8a": {
      "model_module": "@jupyter-widgets/base",
      "model_module_version": "1.2.0",
      "model_name": "LayoutModel",
      "state": {
       "_model_module_version": "1.2.0",
       "_view_module_version": "1.2.0",
       "justify_items": null,
       "object_fit": null,
       "object_position": null
      }
     },
     "6eb0c1644ff34749be644f0dfa876599": {
      "model_module": "@jupyter-widgets/controls",
      "model_module_version": "1.5.0",
      "model_name": "DescriptionStyleModel",
      "state": {
       "_model_module_version": "1.5.0",
       "_view_module_version": "1.2.0",
       "description_width": ""
      }
     },
     "6eddeb2b9e02458fb1ab8344211f465b": {
      "model_module": "@jupyter-widgets/controls",
      "model_module_version": "1.5.0",
      "model_name": "DescriptionStyleModel",
      "state": {
       "_model_module_version": "1.5.0",
       "_view_module_version": "1.2.0",
       "description_width": ""
      }
     },
     "6eedead824724b5d81b2ea1756e92675": {
      "model_module": "@jupyter-widgets/base",
      "model_module_version": "1.2.0",
      "model_name": "LayoutModel",
      "state": {
       "_model_module_version": "1.2.0",
       "_view_module_version": "1.2.0",
       "justify_items": null,
       "object_fit": null,
       "object_position": null
      }
     },
     "6f090b6c56744c41aaf2383782f560ce": {
      "model_module": "@jupyter-widgets/controls",
      "model_module_version": "1.5.0",
      "model_name": "DescriptionStyleModel",
      "state": {
       "_model_module_version": "1.5.0",
       "_view_module_version": "1.2.0",
       "description_width": ""
      }
     },
     "6f1569e8543d4c5fb3f51697ff3b829e": {
      "model_module": "@jupyter-widgets/base",
      "model_module_version": "1.2.0",
      "model_name": "LayoutModel",
      "state": {
       "_model_module_version": "1.2.0",
       "_view_module_version": "1.2.0",
       "justify_items": null,
       "object_fit": null,
       "object_position": null
      }
     },
     "6f466913d2f3495793d0f5731ee83dc5": {
      "model_module": "@jupyter-widgets/base",
      "model_module_version": "1.2.0",
      "model_name": "LayoutModel",
      "state": {
       "_model_module_version": "1.2.0",
       "_view_module_version": "1.2.0",
       "justify_items": null,
       "object_fit": null,
       "object_position": null,
       "width": "30px"
      }
     },
     "6f64286734d24efcbe43f0dbf9a56384": {
      "model_module": "@jupyter-widgets/controls",
      "model_module_version": "1.5.0",
      "model_name": "DescriptionStyleModel",
      "state": {
       "_model_module_version": "1.5.0",
       "_view_module_version": "1.2.0",
       "description_width": ""
      }
     },
     "6f72dcfd2b2a4678aef5c1331bb3e8cb": {
      "model_module": "@jupyter-widgets/base",
      "model_module_version": "1.2.0",
      "model_name": "LayoutModel",
      "state": {
       "_model_module_version": "1.2.0",
       "_view_module_version": "1.2.0",
       "height": "50px",
       "justify_items": null,
       "object_fit": null,
       "object_position": null
      }
     },
     "6f7b8f857522487cbc2cd5a89edde980": {
      "model_module": "@jupyter-widgets/base",
      "model_module_version": "1.2.0",
      "model_name": "LayoutModel",
      "state": {
       "_model_module_version": "1.2.0",
       "_view_module_version": "1.2.0",
       "justify_items": null,
       "object_fit": null,
       "object_position": null
      }
     },
     "6f9a9f2e6aa04803aa0d511f310e2790": {
      "model_module": "@jupyter-widgets/controls",
      "model_module_version": "1.5.0",
      "model_name": "LabelModel",
      "state": {
       "_model_module_version": "1.5.0",
       "_view_module_version": "1.5.0",
       "layout": "IPY_MODEL_3105e5258c8f40eca7de2bc59e3248cb",
       "style": "IPY_MODEL_d631d8a2f03141bcbc8dafff5c350ffb",
       "value": "of 266 pages with "
      }
     },
     "6feed867c32449f9b6f013d3f7d22756": {
      "model_module": "@jupyter-widgets/controls",
      "model_module_version": "1.5.0",
      "model_name": "TextModel",
      "state": {
       "_model_module_version": "1.5.0",
       "_view_module_version": "1.5.0",
       "layout": "IPY_MODEL_deee71e12555496a99b94c2801d8cdf7",
       "style": "IPY_MODEL_83f6baa0da21437390e63c6dd47e09be",
       "value": "filtered_data.csv"
      }
     },
     "6ff29c7825a3481c9c182d5cdbd4c185": {
      "model_module": "@jupyter-widgets/controls",
      "model_module_version": "1.5.0",
      "model_name": "HBoxModel",
      "state": {
       "_model_module_version": "1.5.0",
       "_view_module_version": "1.5.0",
       "children": [
        "IPY_MODEL_e402397cc2df4169ae12ed412aeb88c7",
        "IPY_MODEL_2dd344c580d54fd0b6816cba57b7cfdf",
        "IPY_MODEL_4a5f560918e94e90ab5de7cef8e58267",
        "IPY_MODEL_e85ab107412742acab5bb81bdae0b904",
        "IPY_MODEL_5b1ee60ccdb7446d860ceb3f9194755c"
       ],
       "layout": "IPY_MODEL_5bd32abf895945008713fe80f80041b9"
      }
     },
     "6ff497fccede43afb5ce893ba7824d09": {
      "model_module": "@jupyter-widgets/controls",
      "model_module_version": "1.5.0",
      "model_name": "DescriptionStyleModel",
      "state": {
       "_model_module_version": "1.5.0",
       "_view_module_version": "1.2.0",
       "description_width": ""
      }
     },
     "70b458e787e4425c82f966baa4304d69": {
      "model_module": "@jupyter-widgets/base",
      "model_module_version": "1.2.0",
      "model_name": "LayoutModel",
      "state": {
       "_model_module_version": "1.2.0",
       "_view_module_version": "1.2.0",
       "justify_items": null,
       "object_fit": null,
       "object_position": null
      }
     },
     "70e916fbd0f242dea0fb822d4ba7e696": {
      "model_module": "@jupyter-widgets/controls",
      "model_module_version": "1.5.0",
      "model_name": "HBoxModel",
      "state": {
       "_model_module_version": "1.5.0",
       "_view_module_version": "1.5.0",
       "children": [
        "IPY_MODEL_5f495604cacb4c6bbe22ed2ff2fe0e9e",
        "IPY_MODEL_3852a1537d4f4a3294229ec9297d0dd3",
        "IPY_MODEL_5d1c9ead5a964d27b2799ca51a05ec24"
       ],
       "layout": "IPY_MODEL_308482a4eeb44db3a4c32e8014ff2008"
      }
     },
     "70f2124c4bf8467c815a46f601526ec4": {
      "model_module": "@jupyter-widgets/base",
      "model_module_version": "1.2.0",
      "model_name": "LayoutModel",
      "state": {
       "_model_module_version": "1.2.0",
       "_view_module_version": "1.2.0",
       "grid_area": "top-left",
       "justify_items": null,
       "object_fit": null,
       "object_position": null
      }
     },
     "70f56c1e21ea46119d9bedf35b587d89": {
      "model_module": "@jupyter-widgets/base",
      "model_module_version": "1.2.0",
      "model_name": "LayoutModel",
      "state": {
       "_model_module_version": "1.2.0",
       "_view_module_version": "1.2.0",
       "justify_items": null,
       "object_fit": null,
       "object_position": null
      }
     },
     "712094a8e50645fda9460f01ee963e64": {
      "model_module": "@jupyter-widgets/controls",
      "model_module_version": "1.5.0",
      "model_name": "VBoxModel",
      "state": {
       "_model_module_version": "1.5.0",
       "_view_module_version": "1.5.0",
       "children": [
        "IPY_MODEL_78fc220be2b147148a76b2ab68e2d467",
        "IPY_MODEL_6726d9b41d664bd48a2c3e1c27c7fbae"
       ],
       "layout": "IPY_MODEL_6f7b8f857522487cbc2cd5a89edde980"
      }
     },
     "71dbeaf431c5423fb6a453c24379e9a7": {
      "model_module": "@jupyter-widgets/controls",
      "model_module_version": "1.5.0",
      "model_name": "DescriptionStyleModel",
      "state": {
       "_model_module_version": "1.5.0",
       "_view_module_version": "1.2.0",
       "description_width": ""
      }
     },
     "7259d09465fb46f895df295384a09b38": {
      "model_module": "@jupyter-widgets/base",
      "model_module_version": "1.2.0",
      "model_name": "LayoutModel",
      "state": {
       "_model_module_version": "1.2.0",
       "_view_module_version": "1.2.0",
       "justify_items": null,
       "object_fit": null,
       "object_position": null
      }
     },
     "72739d990eff48c38deb5c5dac5a0efd": {
      "model_module": "@jupyter-widgets/controls",
      "model_module_version": "1.5.0",
      "model_name": "ButtonModel",
      "state": {
       "_model_module_version": "1.5.0",
       "_view_module_version": "1.5.0",
       "description": "save",
       "layout": "IPY_MODEL_8ae664c2cfc44b4694c19655862f2f10",
       "style": "IPY_MODEL_69edb62e384746068c01d61d0038584e"
      }
     },
     "728eb4f8e80b4c3e8643c7f37b64deb4": {
      "model_module": "@jupyter-widgets/base",
      "model_module_version": "1.2.0",
      "model_name": "LayoutModel",
      "state": {
       "_model_module_version": "1.2.0",
       "_view_module_version": "1.2.0",
       "justify_items": null,
       "object_fit": null,
       "object_position": null
      }
     },
     "72c17f8acbe64f678ea83a84eadff660": {
      "model_module": "@jupyter-widgets/controls",
      "model_module_version": "1.5.0",
      "model_name": "HTMLModel",
      "state": {
       "_model_module_version": "1.5.0",
       "_view_module_version": "1.5.0",
       "layout": "IPY_MODEL_0d8cfb62a8bb4dd3a141880205bbfb3f",
       "style": "IPY_MODEL_c012cdee0da049029f525ea337c94f29",
       "value": "Deselect with ctrl + click"
      }
     },
     "72f58ab7575d498d897dd63805d6c894": {
      "model_module": "@jupyter-widgets/base",
      "model_module_version": "1.2.0",
      "model_name": "LayoutModel",
      "state": {
       "_model_module_version": "1.2.0",
       "_view_module_version": "1.2.0",
       "justify_items": null,
       "object_fit": null,
       "object_position": null
      }
     },
     "72fc6f76622d463697100303378fb563": {
      "model_module": "@jupyter-widgets/base",
      "model_module_version": "1.2.0",
      "model_name": "LayoutModel",
      "state": {
       "_model_module_version": "1.2.0",
       "_view_module_version": "1.2.0",
       "justify_items": null,
       "object_fit": null,
       "object_position": null
      }
     },
     "7313b2478cf74c80b8e7e8fd4adfdcea": {
      "model_module": "@jupyter-widgets/base",
      "model_module_version": "1.2.0",
      "model_name": "LayoutModel",
      "state": {
       "_model_module_version": "1.2.0",
       "_view_module_version": "1.2.0",
       "justify_items": null,
       "object_fit": null,
       "object_position": null
      }
     },
     "732976cbe2144cb6bc1d9f99e4844f28": {
      "model_module": "@jupyter-widgets/controls",
      "model_module_version": "1.5.0",
      "model_name": "DescriptionStyleModel",
      "state": {
       "_model_module_version": "1.5.0",
       "_view_module_version": "1.2.0",
       "description_width": ""
      }
     },
     "732c060275cb4f42b711f0c6646b441b": {
      "model_module": "@jupyter-widgets/controls",
      "model_module_version": "1.5.0",
      "model_name": "DropdownModel",
      "state": {
       "_model_module_version": "1.5.0",
       "_options_labels": [
        "text",
        "text_translated",
        "media",
        "source",
        "mode",
        "num_persons",
        "_timestamp",
        "confidence",
        "source_reliability",
        "locations",
        "origin_bool",
        "origin",
        "destination",
        "geom_tweet",
        "triage_status"
       ],
       "_view_module_version": "1.5.0",
       "description": "order by",
       "index": 0,
       "layout": "IPY_MODEL_a8ea15173ab84088a0495f9c033bfd81",
       "style": "IPY_MODEL_92225101ef3f4794aee63c2198429c8b"
      }
     },
     "736c43add51e423bbf6d0f2e1b36ad22": {
      "model_module": "@jupyter-widgets/controls",
      "model_module_version": "1.5.0",
      "model_name": "LabelModel",
      "state": {
       "_model_module_version": "1.5.0",
       "_view_module_version": "1.5.0",
       "layout": "IPY_MODEL_7fe6bd158d05450c8ab390b015c8c422",
       "style": "IPY_MODEL_74f9c8131d9648189e13d2a12515b12c"
      }
     },
     "73bb605ed2ae45faadcf879f93d805a3": {
      "model_module": "@jupyter-widgets/controls",
      "model_module_version": "1.5.0",
      "model_name": "DescriptionStyleModel",
      "state": {
       "_model_module_version": "1.5.0",
       "_view_module_version": "1.2.0",
       "description_width": ""
      }
     },
     "741d3f959d07419fa67a514af286723b": {
      "model_module": "@jupyter-widgets/base",
      "model_module_version": "1.2.0",
      "model_name": "LayoutModel",
      "state": {
       "_model_module_version": "1.2.0",
       "_view_module_version": "1.2.0",
       "justify_items": null,
       "object_fit": null,
       "object_position": null
      }
     },
     "746546570f0e41f4acdca7701f947504": {
      "model_module": "@jupyter-widgets/base",
      "model_module_version": "1.2.0",
      "model_name": "LayoutModel",
      "state": {
       "_model_module_version": "1.2.0",
       "_view_module_version": "1.2.0",
       "height": "50px",
       "justify_items": null,
       "object_fit": null,
       "object_position": null
      }
     },
     "746ac87ca0aa4a5dbaa7baa42493adaf": {
      "model_module": "@jupyter-widgets/base",
      "model_module_version": "1.2.0",
      "model_name": "LayoutModel",
      "state": {
       "_model_module_version": "1.2.0",
       "_view_module_version": "1.2.0",
       "justify_items": null,
       "object_fit": null,
       "object_position": null
      }
     },
     "7471dedfd6bf41e1b3b2f14fe36df6ea": {
      "model_module": "@jupyter-widgets/controls",
      "model_module_version": "1.5.0",
      "model_name": "DescriptionStyleModel",
      "state": {
       "_model_module_version": "1.5.0",
       "_view_module_version": "1.2.0",
       "description_width": ""
      }
     },
     "749bccd844b349ab81717f242b77b3fd": {
      "model_module": "@jupyter-widgets/base",
      "model_module_version": "1.2.0",
      "model_name": "LayoutModel",
      "state": {
       "_model_module_version": "1.2.0",
       "_view_module_version": "1.2.0",
       "justify_items": null,
       "object_fit": null,
       "object_position": null
      }
     },
     "74a1fe83392348e298cd84279727ca23": {
      "model_module": "@jupyter-widgets/controls",
      "model_module_version": "1.5.0",
      "model_name": "ButtonModel",
      "state": {
       "_model_module_version": "1.5.0",
       "_view_module_version": "1.5.0",
       "icon": "chevron-right",
       "layout": "IPY_MODEL_f0fb3592cd794a8193aa49cb52a8e35c",
       "style": "IPY_MODEL_ace5d7a658b2442a82f53872b6258d19"
      }
     },
     "74cfe1d7afcc43a6b00dc5a315ba6b03": {
      "model_module": "@jupyter-widgets/controls",
      "model_module_version": "1.5.0",
      "model_name": "DescriptionStyleModel",
      "state": {
       "_model_module_version": "1.5.0",
       "_view_module_version": "1.2.0",
       "description_width": ""
      }
     },
     "74f9c8131d9648189e13d2a12515b12c": {
      "model_module": "@jupyter-widgets/controls",
      "model_module_version": "1.5.0",
      "model_name": "DescriptionStyleModel",
      "state": {
       "_model_module_version": "1.5.0",
       "_view_module_version": "1.2.0",
       "description_width": ""
      }
     },
     "751d979f6146487d94e11a5019fcceba": {
      "model_module": "@jupyter-widgets/base",
      "model_module_version": "1.2.0",
      "model_name": "LayoutModel",
      "state": {
       "_model_module_version": "1.2.0",
       "_view_module_version": "1.2.0",
       "justify_items": null,
       "object_fit": null,
       "object_position": null,
       "width": "30px"
      }
     },
     "75a4e05528c448ddbcc4fade6d625a35": {
      "model_module": "@jupyter-widgets/base",
      "model_module_version": "1.2.0",
      "model_name": "LayoutModel",
      "state": {
       "_model_module_version": "1.2.0",
       "_view_module_version": "1.2.0",
       "justify_items": null,
       "object_fit": null,
       "object_position": null,
       "width": "20%"
      }
     },
     "75c59ee78c004936bd7a7cf0e42cf8d4": {
      "model_module": "@jupyter-widgets/controls",
      "model_module_version": "1.5.0",
      "model_name": "VBoxModel",
      "state": {
       "_model_module_version": "1.5.0",
       "_view_module_version": "1.5.0",
       "children": [
        "IPY_MODEL_5b1cb291cb444523ac9eccdfead4e4a6",
        "IPY_MODEL_15c34d0ec2ac4df688d1a5d712e9ad89"
       ],
       "layout": "IPY_MODEL_da9f93fe2e664572be549e9e5ca5575a"
      }
     },
     "7610b35eda3e4ed6aed784c971e97020": {
      "model_module": "@jupyter-widgets/controls",
      "model_module_version": "1.5.0",
      "model_name": "DescriptionStyleModel",
      "state": {
       "_model_module_version": "1.5.0",
       "_view_module_version": "1.2.0",
       "description_width": ""
      }
     },
     "762c61bdbbcf420b99db318a848668f9": {
      "model_module": "@jupyter-widgets/base",
      "model_module_version": "1.2.0",
      "model_name": "LayoutModel",
      "state": {
       "_model_module_version": "1.2.0",
       "_view_module_version": "1.2.0",
       "justify_items": null,
       "object_fit": null,
       "object_position": null
      }
     },
     "76ba08102d4947d2a2d7f4c99a68c3b9": {
      "model_module": "@jupyter-widgets/controls",
      "model_module_version": "1.5.0",
      "model_name": "ButtonStyleModel",
      "state": {
       "_model_module_version": "1.5.0",
       "_view_module_version": "1.2.0"
      }
     },
     "76c0b627bfce4ba7b84d4483a034a88f": {
      "model_module": "@jupyter-widgets/base",
      "model_module_version": "1.2.0",
      "model_name": "LayoutModel",
      "state": {
       "_model_module_version": "1.2.0",
       "_view_module_version": "1.2.0",
       "grid_area": "top-right",
       "justify_items": null,
       "object_fit": null,
       "object_position": null
      }
     },
     "76d2a06198744ed9832c875c74ed7196": {
      "model_module": "@jupyter-widgets/controls",
      "model_module_version": "1.5.0",
      "model_name": "TextModel",
      "state": {
       "_model_module_version": "1.5.0",
       "_view_module_version": "1.5.0",
       "layout": "IPY_MODEL_90880c45258c47d48e02600eb0c92438",
       "style": "IPY_MODEL_5142cb788e554cb0b3583df4a02bdf50"
      }
     },
     "76ea6feb8224475c9a90d9d499138603": {
      "model_module": "@jupyter-widgets/controls",
      "model_module_version": "1.5.0",
      "model_name": "DescriptionStyleModel",
      "state": {
       "_model_module_version": "1.5.0",
       "_view_module_version": "1.2.0",
       "description_width": ""
      }
     },
     "77d64e9e13b0481d8a59720348f3da82": {
      "model_module": "@jupyter-widgets/controls",
      "model_module_version": "1.5.0",
      "model_name": "TextModel",
      "state": {
       "_model_module_version": "1.5.0",
       "_view_module_version": "1.5.0",
       "layout": "IPY_MODEL_b26dc945cb114c4385328071f7a43658",
       "style": "IPY_MODEL_2d15f5beb9534656a071db512a089a93"
      }
     },
     "781f8b01ca8f476d8d748f49a8766c13": {
      "model_module": "@jupyter-widgets/controls",
      "model_module_version": "1.5.0",
      "model_name": "DescriptionStyleModel",
      "state": {
       "_model_module_version": "1.5.0",
       "_view_module_version": "1.2.0",
       "description_width": ""
      }
     },
     "78b21365a66d4cfbb8f615ecc41506d4": {
      "model_module": "@jupyter-widgets/base",
      "model_module_version": "1.2.0",
      "model_name": "LayoutModel",
      "state": {
       "_model_module_version": "1.2.0",
       "_view_module_version": "1.2.0",
       "justify_items": null,
       "object_fit": null,
       "object_position": null
      }
     },
     "78fc220be2b147148a76b2ab68e2d467": {
      "model_module": "@jupyter-widgets/controls",
      "model_module_version": "1.5.0",
      "model_name": "HBoxModel",
      "state": {
       "_model_module_version": "1.5.0",
       "_view_module_version": "1.5.0",
       "children": [
        "IPY_MODEL_56eb1f9caa3e4f3593063a66deea3c06",
        "IPY_MODEL_6f9a9f2e6aa04803aa0d511f310e2790",
        "IPY_MODEL_a066e859cd5449dfbcb17fb466dbcc2e",
        "IPY_MODEL_172741fbc6a4488f87a8ba6137ba9daa",
        "IPY_MODEL_25cd5d03204242d59faf8efcb32dc58e"
       ],
       "layout": "IPY_MODEL_b385db7948fd41fb87412d292053a8e2"
      }
     },
     "791961b229de40708e47255381cbf773": {
      "model_module": "@jupyter-widgets/controls",
      "model_module_version": "1.5.0",
      "model_name": "DropdownModel",
      "state": {
       "_model_module_version": "1.5.0",
       "_options_labels": [
        "10",
        "20",
        "50"
       ],
       "_view_module_version": "1.5.0",
       "description": "items per page",
       "index": 0,
       "layout": "IPY_MODEL_f4ab9bdef90e4a49aa8440c7a7c6d87d",
       "style": "IPY_MODEL_d9777f95370d413e856cbe199b679713"
      }
     },
     "7a0b6b225ffc47e0a8d96c023c1ef7e2": {
      "model_module": "@jupyter-widgets/base",
      "model_module_version": "1.2.0",
      "model_name": "LayoutModel",
      "state": {
       "_model_module_version": "1.2.0",
       "_view_module_version": "1.2.0",
       "justify_items": null,
       "object_fit": null,
       "object_position": null
      }
     },
     "7a0bac14589d401fb185c5c6b59d3a00": {
      "model_module": "@jupyter-widgets/controls",
      "model_module_version": "1.5.0",
      "model_name": "LabelModel",
      "state": {
       "_model_module_version": "1.5.0",
       "_view_module_version": "1.5.0",
       "layout": "IPY_MODEL_54018b40742a41a38e40be9579284d69",
       "style": "IPY_MODEL_0f36316922d94ca982113402af4d2da2",
       "value": "of 266 pages with "
      }
     },
     "7a28c23fe4f346efb4c7c3c5dcd7f489": {
      "model_module": "@jupyter-widgets/controls",
      "model_module_version": "1.5.0",
      "model_name": "HBoxModel",
      "state": {
       "_model_module_version": "1.5.0",
       "_view_module_version": "1.5.0",
       "children": [
        "IPY_MODEL_6709fafbadf54bf99b29dc34084db398",
        "IPY_MODEL_96a5d43b3a314b618eac4395c5bce93e"
       ],
       "layout": "IPY_MODEL_295585a4e0794ebc889edf0d224029dc"
      }
     },
     "7a9288bf653449529cbe5f09045e506e": {
      "model_module": "@jupyter-widgets/controls",
      "model_module_version": "1.5.0",
      "model_name": "DescriptionStyleModel",
      "state": {
       "_model_module_version": "1.5.0",
       "_view_module_version": "1.2.0",
       "description_width": ""
      }
     },
     "7aa3546ce7f8469d9f5188da81942ae0": {
      "model_module": "@jupyter-widgets/base",
      "model_module_version": "1.2.0",
      "model_name": "LayoutModel",
      "state": {
       "_model_module_version": "1.2.0",
       "_view_module_version": "1.2.0",
       "justify_items": null,
       "object_fit": null,
       "object_position": null
      }
     },
     "7b49c5597e77417a8c7210afafc4e900": {
      "model_module": "@jupyter-widgets/controls",
      "model_module_version": "1.5.0",
      "model_name": "GridBoxModel",
      "state": {
       "_model_module_version": "1.5.0",
       "_view_module_version": "1.5.0",
       "children": [
        "IPY_MODEL_97abf17a0bb74585b9d3e2910dd5c658",
        "IPY_MODEL_0f5bd4b9927a484faf8a698430fa5cd8"
       ],
       "layout": "IPY_MODEL_db452ffdd2594a678214ac0d90ba744f"
      }
     },
     "7b538fec36894f128aa68a689c8c6479": {
      "model_module": "@jupyter-widgets/base",
      "model_module_version": "1.2.0",
      "model_name": "LayoutModel",
      "state": {
       "_model_module_version": "1.2.0",
       "_view_module_version": "1.2.0",
       "justify_items": null,
       "object_fit": null,
       "object_position": null
      }
     },
     "7b80e7e4a9a44d63b15b3a864f4f2b0e": {
      "model_module": "@jupyter-widgets/controls",
      "model_module_version": "1.5.0",
      "model_name": "DescriptionStyleModel",
      "state": {
       "_model_module_version": "1.5.0",
       "_view_module_version": "1.2.0",
       "description_width": ""
      }
     },
     "7bd807061933439fa4ddd7a52a6752eb": {
      "model_module": "@jupyter-widgets/base",
      "model_module_version": "1.2.0",
      "model_name": "LayoutModel",
      "state": {
       "_model_module_version": "1.2.0",
       "_view_module_version": "1.2.0",
       "justify_items": null,
       "object_fit": null,
       "object_position": null
      }
     },
     "7becc8037dda4887b6f532b443978d4e": {
      "model_module": "@jupyter-widgets/controls",
      "model_module_version": "1.5.0",
      "model_name": "HTMLModel",
      "state": {
       "_model_module_version": "1.5.0",
       "_view_module_version": "1.5.0",
       "layout": "IPY_MODEL_32fb7c9a2f44485b893c7c1adcb3a143",
       "style": "IPY_MODEL_4e65bc52314a4fe8ba504fd9a9cd5f9a",
       "value": "Deselect with ctrl + click"
      }
     },
     "7c25464acd44441398844d8c64a23bae": {
      "model_module": "@jupyter-widgets/base",
      "model_module_version": "1.2.0",
      "model_name": "LayoutModel",
      "state": {
       "_model_module_version": "1.2.0",
       "_view_module_version": "1.2.0",
       "justify_items": null,
       "object_fit": null,
       "object_position": null,
       "width": "60%"
      }
     },
     "7c5b0a078585431bac0a856e801185f1": {
      "model_module": "@jupyter-widgets/controls",
      "model_module_version": "1.5.0",
      "model_name": "DescriptionStyleModel",
      "state": {
       "_model_module_version": "1.5.0",
       "_view_module_version": "1.2.0",
       "description_width": ""
      }
     },
     "7c757f8ba548440dadbae2f9da4bebfb": {
      "model_module": "@jupyter-widgets/base",
      "model_module_version": "1.2.0",
      "model_name": "LayoutModel",
      "state": {
       "_model_module_version": "1.2.0",
       "_view_module_version": "1.2.0",
       "justify_items": null,
       "object_fit": null,
       "object_position": null
      }
     },
     "7c862cab58304c88b38034787bb6af0e": {
      "model_module": "@jupyter-widgets/controls",
      "model_module_version": "1.5.0",
      "model_name": "HBoxModel",
      "state": {
       "_model_module_version": "1.5.0",
       "_view_module_version": "1.5.0",
       "children": [
        "IPY_MODEL_7d9dc55a561140d2943a3148a1771c2a",
        "IPY_MODEL_9766b769a773469b85a7eeac91034d8c",
        "IPY_MODEL_f4155563eb214dfa9935f3e76af4eda1"
       ],
       "layout": "IPY_MODEL_746546570f0e41f4acdca7701f947504"
      }
     },
     "7ca675e6c1c543b49d161155f5173fbe": {
      "model_module": "@jupyter-widgets/controls",
      "model_module_version": "1.5.0",
      "model_name": "DescriptionStyleModel",
      "state": {
       "_model_module_version": "1.5.0",
       "_view_module_version": "1.2.0",
       "description_width": ""
      }
     },
     "7ccf7a1fded24bdfb4976e238c8b3c8b": {
      "model_module": "@jupyter-widgets/controls",
      "model_module_version": "1.5.0",
      "model_name": "ButtonStyleModel",
      "state": {
       "_model_module_version": "1.5.0",
       "_view_module_version": "1.2.0"
      }
     },
     "7d015b1a95c5479086290ad198ca2a25": {
      "model_module": "@jupyter-widgets/controls",
      "model_module_version": "1.5.0",
      "model_name": "SelectMultipleModel",
      "state": {
       "_model_module_version": "1.5.0",
       "_options_labels": [
        "text",
        "text_translated",
        "media",
        "source",
        "mode",
        "num_persons",
        "_timestamp",
        "confidence",
        "source_reliability",
        "locations",
        "origin_bool",
        "origin",
        "destination",
        "geom_tweet",
        "triage_status"
       ],
       "_view_module_version": "1.5.0",
       "index": [],
       "layout": "IPY_MODEL_55ff9ac5b416413bac52d27d6f99855b",
       "rows": 5,
       "style": "IPY_MODEL_b3080ce1ffd048cb871d105f85956ce3"
      }
     },
     "7d27f7b97ad44d48a8d6d447330cd115": {
      "model_module": "@jupyter-widgets/controls",
      "model_module_version": "1.5.0",
      "model_name": "DescriptionStyleModel",
      "state": {
       "_model_module_version": "1.5.0",
       "_view_module_version": "1.2.0",
       "description_width": ""
      }
     },
     "7d9dc55a561140d2943a3148a1771c2a": {
      "model_module": "@jupyter-widgets/controls",
      "model_module_version": "1.5.0",
      "model_name": "DropdownModel",
      "state": {
       "_model_module_version": "1.5.0",
       "_options_labels": [
        "text",
        "text_translated",
        "media",
        "source",
        "mode",
        "num_persons",
        "_timestamp",
        "confidence",
        "source_reliability",
        "locations",
        "origin_bool",
        "origin",
        "destination",
        "geom_tweet",
        "triage_status"
       ],
       "_view_module_version": "1.5.0",
       "description": "order by",
       "index": 0,
       "layout": "IPY_MODEL_ffca793883c54a17bb1f581bba91eed2",
       "style": "IPY_MODEL_9724da5eab414fd381f56b7ed5545526"
      }
     },
     "7db4f89da71846718ec4d355b2d3ba77": {
      "model_module": "@jupyter-widgets/controls",
      "model_module_version": "1.5.0",
      "model_name": "DescriptionStyleModel",
      "state": {
       "_model_module_version": "1.5.0",
       "_view_module_version": "1.2.0",
       "description_width": ""
      }
     },
     "7de8b576efde40fc906d8ecdd87ee69d": {
      "model_module": "@jupyter-widgets/controls",
      "model_module_version": "1.5.0",
      "model_name": "SelectMultipleModel",
      "state": {
       "_model_module_version": "1.5.0",
       "_options_labels": [
        "text",
        "text_translated",
        "media",
        "source",
        "mode",
        "num_persons",
        "_timestamp",
        "confidence",
        "source_reliability",
        "locations",
        "origin_bool",
        "origin",
        "destination",
        "geom_tweet",
        "triage_status"
       ],
       "_view_module_version": "1.5.0",
       "index": [],
       "layout": "IPY_MODEL_5171c04e266c42c9bd76160721a07a29",
       "rows": 5,
       "style": "IPY_MODEL_ee5a474b36bb4b629f1e9389bb751bbd"
      }
     },
     "7df8bffc51454fd7ac973c8edce6935e": {
      "model_module": "@jupyter-widgets/base",
      "model_module_version": "1.2.0",
      "model_name": "LayoutModel",
      "state": {
       "_model_module_version": "1.2.0",
       "_view_module_version": "1.2.0",
       "justify_items": null,
       "object_fit": null,
       "object_position": null
      }
     },
     "7e6a7d05e75f48a3813593454e7efc1d": {
      "model_module": "@jupyter-widgets/controls",
      "model_module_version": "1.5.0",
      "model_name": "DescriptionStyleModel",
      "state": {
       "_model_module_version": "1.5.0",
       "_view_module_version": "1.2.0",
       "description_width": ""
      }
     },
     "7ea252c995ee4376888d79d4e2373943": {
      "model_module": "@jupyter-widgets/base",
      "model_module_version": "1.2.0",
      "model_name": "LayoutModel",
      "state": {
       "_model_module_version": "1.2.0",
       "_view_module_version": "1.2.0",
       "grid_area": "top-right",
       "justify_items": null,
       "object_fit": null,
       "object_position": null
      }
     },
     "7eb3e202b3a540cfb440c753a94489e3": {
      "model_module": "@jupyter-widgets/controls",
      "model_module_version": "1.5.0",
      "model_name": "DescriptionStyleModel",
      "state": {
       "_model_module_version": "1.5.0",
       "_view_module_version": "1.2.0",
       "description_width": ""
      }
     },
     "7ed557ee91a24e79b250aaadaaa97a25": {
      "model_module": "@jupyter-widgets/base",
      "model_module_version": "1.2.0",
      "model_name": "LayoutModel",
      "state": {
       "_model_module_version": "1.2.0",
       "_view_module_version": "1.2.0",
       "justify_items": null,
       "object_fit": null,
       "object_position": null
      }
     },
     "7f5ee80e926f4e2b8b55914656ff5268": {
      "model_module": "@jupyter-widgets/controls",
      "model_module_version": "1.5.0",
      "model_name": "DescriptionStyleModel",
      "state": {
       "_model_module_version": "1.5.0",
       "_view_module_version": "1.2.0",
       "description_width": ""
      }
     },
     "7f669b23fa9f44eb90b74b0e82a0e828": {
      "model_module": "@jupyter-widgets/controls",
      "model_module_version": "1.5.0",
      "model_name": "DescriptionStyleModel",
      "state": {
       "_model_module_version": "1.5.0",
       "_view_module_version": "1.2.0",
       "description_width": ""
      }
     },
     "7fad56fe209643c9b195bab1d58c2d22": {
      "model_module": "@jupyter-widgets/controls",
      "model_module_version": "1.5.0",
      "model_name": "HTMLModel",
      "state": {
       "_model_module_version": "1.5.0",
       "_view_module_version": "1.5.0",
       "layout": "IPY_MODEL_0c3aa21ab2cf4e688c07e423ac68ac29",
       "style": "IPY_MODEL_f43e582c133244088e49c47dc11161af",
       "value": "Deselect with ctrl + click"
      }
     },
     "7fb13eb3396940e4b22c00e12104e186": {
      "model_module": "@jupyter-widgets/base",
      "model_module_version": "1.2.0",
      "model_name": "LayoutModel",
      "state": {
       "_model_module_version": "1.2.0",
       "_view_module_version": "1.2.0",
       "justify_items": null,
       "object_fit": null,
       "object_position": null
      }
     },
     "7fe6bd158d05450c8ab390b015c8c422": {
      "model_module": "@jupyter-widgets/base",
      "model_module_version": "1.2.0",
      "model_name": "LayoutModel",
      "state": {
       "_model_module_version": "1.2.0",
       "_view_module_version": "1.2.0",
       "justify_items": null,
       "object_fit": null,
       "object_position": null
      }
     },
     "80492ee78c2c436f884b22f742b24dc0": {
      "model_module": "@jupyter-widgets/base",
      "model_module_version": "1.2.0",
      "model_name": "LayoutModel",
      "state": {
       "_model_module_version": "1.2.0",
       "_view_module_version": "1.2.0",
       "justify_items": null,
       "object_fit": null,
       "object_position": null
      }
     },
     "808226c627cd4baf93f4d97824752007": {
      "model_module": "@jupyter-widgets/controls",
      "model_module_version": "1.5.0",
      "model_name": "DescriptionStyleModel",
      "state": {
       "_model_module_version": "1.5.0",
       "_view_module_version": "1.2.0",
       "description_width": ""
      }
     },
     "80f5e024f14f453a92dcdd7062922e2d": {
      "model_module": "@jupyter-widgets/base",
      "model_module_version": "1.2.0",
      "model_name": "LayoutModel",
      "state": {
       "_model_module_version": "1.2.0",
       "_view_module_version": "1.2.0",
       "justify_items": null,
       "object_fit": null,
       "object_position": null
      }
     },
     "80fe9090a44a4f19844522bc1c43f42c": {
      "model_module": "@jupyter-widgets/base",
      "model_module_version": "1.2.0",
      "model_name": "LayoutModel",
      "state": {
       "_model_module_version": "1.2.0",
       "_view_module_version": "1.2.0",
       "justify_items": null,
       "object_fit": null,
       "object_position": null,
       "width": "30px"
      }
     },
     "810ff85dfc164e71b7e6844c5c988739": {
      "model_module": "@jupyter-widgets/output",
      "model_module_version": "1.0.0",
      "model_name": "OutputModel",
      "state": {
       "layout": "IPY_MODEL_1366904e0f8048c5b3c6b8ed38f8288c",
       "outputs": [
        {
         "data": {
          "text/html": "<div>\n<style scoped>\n    .dataframe tbody tr th:only-of-type {\n        vertical-align: middle;\n    }\n\n    .dataframe tbody tr th {\n        vertical-align: top;\n    }\n\n    .dataframe thead th {\n        text-align: right;\n    }\n</style>\n<table border=\"1\" class=\"dataframe\">\n  <thead>\n    <tr style=\"text-align: right;\">\n      <th></th>\n      <th>text</th>\n      <th>text_translated</th>\n      <th>media</th>\n      <th>source</th>\n      <th>mode</th>\n      <th>num_persons</th>\n      <th>_timestamp</th>\n      <th>confidence</th>\n      <th>source_reliability</th>\n      <th>locations</th>\n      <th>origin_bool</th>\n      <th>origin</th>\n      <th>destination</th>\n      <th>geom_tweet</th>\n      <th>triage_status</th>\n    </tr>\n    <tr>\n      <th>uniqueid</th>\n      <th></th>\n      <th></th>\n      <th></th>\n      <th></th>\n      <th></th>\n      <th></th>\n      <th></th>\n      <th></th>\n      <th></th>\n      <th></th>\n      <th></th>\n      <th></th>\n      <th></th>\n      <th></th>\n      <th></th>\n    </tr>\n  </thead>\n  <tbody>\n    <tr>\n      <th>1</th>\n      <td>الخطوط تنقل 275 مهاجراً من أنقرة إلى بغداد https://t.co/kJF9pQdLet</td>\n      <td>the lines carry 275 migrants from ankara to baghdad</td>\n      <td>NaN</td>\n      <td>twitter</td>\n      <td>NaN</td>\n      <td>275.0</td>\n      <td>2019-12-11 16:31:09.000000</td>\n      <td>0.58</td>\n      <td>0.00</td>\n      <td>['ankara', 'baghdad']</td>\n      <td>NaN</td>\n      <td>TR510</td>\n      <td>NaN</td>\n      <td>01010000003BDF4F8D976E40409CC420B072F84340</td>\n      <td>NaN</td>\n    </tr>\n    <tr>\n      <th>2</th>\n      <td>RT @KAR_SH_313: تم الرفس\\nصيد اليوم من حدود الشرقاط\\n#جاري_تحميل_الرمادي\\nدواعش اليوم سماد الغد\\n\\n#سنرعبهم_في_الاربعين_لبيك_يا_حسين https://t.c…</td>\n      <td>kar sh 313 has been launched todays hunt from the borders of irqat downloads radadi</td>\n      <td>['http://pbs.twimg.com/media/CUSHB2mUAAEg0_w.jpg']</td>\n      <td>twitter</td>\n      <td>NaN</td>\n      <td>313.0</td>\n      <td>2019-12-13 20:49:57.000000</td>\n      <td>0.57</td>\n      <td>0.17</td>\n      <td>[]</td>\n      <td>NaN</td>\n      <td>NaN</td>\n      <td>NaN</td>\n      <td>NaN</td>\n      <td>NaN</td>\n    </tr>\n    <tr>\n      <th>3</th>\n      <td>السلطات التركية توقف 1300 مهاجر قبل إبحارهم إلى اليونان https://t.co/GNWgzhBv5d أخبار</td>\n      <td>turkish authorities stop 1300 migrants before sailing to greece news</td>\n      <td>NaN</td>\n      <td>twitter</td>\n      <td>NaN</td>\n      <td>1300.0</td>\n      <td>2019-12-23 21:31:23.000000</td>\n      <td>0.90</td>\n      <td>0.23</td>\n      <td>['greece']</td>\n      <td>NaN</td>\n      <td>NaN</td>\n      <td>EL</td>\n      <td>010100000000000000000036400000000000804340</td>\n      <td>NaN</td>\n    </tr>\n    <tr>\n      <th>4</th>\n      <td>البحرية الإيطالية: أكثر من 1500 مهاجر تم إنقاذهم قبالة سواحل ليبيا\\n#الموصلية</td>\n      <td>italian navy more than 1500 migrants rescued off the coast of libya</td>\n      <td>NaN</td>\n      <td>twitter</td>\n      <td>NaN</td>\n      <td>1500.0</td>\n      <td>2019-12-26 19:33:11.000000</td>\n      <td>0.68</td>\n      <td>0.83</td>\n      <td>['libya', 'italia']</td>\n      <td>NaN</td>\n      <td>NaN</td>\n      <td>NaN</td>\n      <td>01010000009031772D215F2A40C139234A7B734040</td>\n      <td>NaN</td>\n    </tr>\n    <tr>\n      <th>5</th>\n      <td>RT @20fourMedia: #تركيا توقف لاجئين أثناء توجههم لـ #اليونان\\nhttps://t.co/CjDWK2GH3f https://t.co/21sYzUTGGw</td>\n      <td>20fourmedia turkey stopped refugees while heading for greece</td>\n      <td>['http://pbs.twimg.com/media/CVYfgd9XAAE5JuX.jpg']</td>\n      <td>twitter</td>\n      <td>NaN</td>\n      <td>NaN</td>\n      <td>2019-12-27 12:50:19.000000</td>\n      <td>0.86</td>\n      <td>0.12</td>\n      <td>['greece', 'turkey']</td>\n      <td>NaN</td>\n      <td>NaN</td>\n      <td>NaN</td>\n      <td>010100000000000000000036400000000000804340</td>\n      <td>NaN</td>\n    </tr>\n    <tr>\n      <th>6</th>\n      <td>مقدونيا تفتح حدودها مع اليونان للاجئين  https://t.co/qEdXvrDVI7</td>\n      <td>macedonia opens border with greece for refugees</td>\n      <td>NaN</td>\n      <td>twitter</td>\n      <td>NaN</td>\n      <td>NaN</td>\n      <td>2019-12-27 14:16:27.000000</td>\n      <td>0.79</td>\n      <td>0.85</td>\n      <td>['macedonia', 'greece']</td>\n      <td>NaN</td>\n      <td>NaN</td>\n      <td>NaN</td>\n      <td>0101000000575BB1BFEC6E35400000000000004540</td>\n      <td>NaN</td>\n    </tr>\n    <tr>\n      <th>7</th>\n      <td>RT @paldf: إغلاق #معبر_رفح بعد ظهر اليوم السبت بعد خروج 1526 من #غزة، ودخول 564 من العالقين إلى #غزة، وعودة 36 فلسطينياً كانوا في السجون ال…</td>\n      <td>rafah crossing closed on saturday afternoon after 1526 out of gaza 564 people stranded in gaza and 36 palestinians returned to prison</td>\n      <td>NaN</td>\n      <td>twitter</td>\n      <td>NaN</td>\n      <td>NaN</td>\n      <td>2019-12-28 14:18:28.000000</td>\n      <td>0.74</td>\n      <td>0.29</td>\n      <td>['rafah', 'gaza']</td>\n      <td>NaN</td>\n      <td>NaN</td>\n      <td>NaN</td>\n      <td>01010000009A99999999394140DCD7817346843F40</td>\n      <td>NaN</td>\n    </tr>\n    <tr>\n      <th>8</th>\n      <td>RT @PalinfoAr: إغلاق #معبر_رفح بعد ظهر اليوم السبت بعد خروج 1526 من #غزة، ودخول 564 من العالقين إلى #غزة، وعودة 36 فلسطينياً كانوا في السجو…</td>\n      <td>rafah crossing closed on saturday afternoon after 1526 out of gaza 564 people stranded in gaza 36 palestinians returned</td>\n      <td>NaN</td>\n      <td>twitter</td>\n      <td>NaN</td>\n      <td>NaN</td>\n      <td>2019-12-28 14:22:18.000000</td>\n      <td>0.99</td>\n      <td>0.22</td>\n      <td>['rafah', 'gaza']</td>\n      <td>NaN</td>\n      <td>NaN</td>\n      <td>NaN</td>\n      <td>01010000009A99999999394140DCD7817346843F40</td>\n      <td>NaN</td>\n    </tr>\n    <tr>\n      <th>9</th>\n      <td>RT @AlArabiya_Brk: وسائل إعلام تركية: مقتل 18 مهاجرا بعد غرق قاربهم في بحر إيجه #العربية_عاجل</td>\n      <td>turkish media 18 migrants killed after their boat sank in the aegean sea</td>\n      <td>NaN</td>\n      <td>twitter</td>\n      <td>boat</td>\n      <td>18.0</td>\n      <td>2020-01-11 07:56:14.000000</td>\n      <td>0.51</td>\n      <td>0.37</td>\n      <td>['aegean sea']</td>\n      <td>NaN</td>\n      <td>NaN</td>\n      <td>NaN</td>\n      <td>01010000003333333333F336400000000000804340</td>\n      <td>NaN</td>\n    </tr>\n    <tr>\n      <th>10</th>\n      <td>Retweeted تيّار المستقبل (@Almustaqbal):\\n\\nمقتل 18 مهاجرا غرقا في بحر ايجه\\nhttps://t.co/7fpCjwbEYp https://t.co/jFvFbxRcSz</td>\n      <td>the future stream 18 migrants drowned in aegean sea</td>\n      <td>NaN</td>\n      <td>twitter</td>\n      <td>NaN</td>\n      <td>18.0</td>\n      <td>2020-01-11 11:23:13.000000</td>\n      <td>0.62</td>\n      <td>0.04</td>\n      <td>['aegean sea']</td>\n      <td>NaN</td>\n      <td>NaN</td>\n      <td>NaN</td>\n      <td>01010000003333333333F336400000000000804340</td>\n      <td>NaN</td>\n    </tr>\n  </tbody>\n</table>\n</div>",
          "text/plain": "                                                                                                                                                       text  \\\nuniqueid                                                                                                                                                      \n1         الخطوط تنقل 275 مهاجراً من أنقرة إلى بغداد https://t.co/kJF9pQdLet                                                                                  \n2         RT @KAR_SH_313: تم الرفس\\nصيد اليوم من حدود الشرقاط\\n#جاري_تحميل_الرمادي\\nدواعش اليوم سماد الغد\\n\\n#سنرعبهم_في_الاربعين_لبيك_يا_حسين https://t.c…   \n3         السلطات التركية توقف 1300 مهاجر قبل إبحارهم إلى اليونان https://t.co/GNWgzhBv5d أخبار                                                               \n4         البحرية الإيطالية: أكثر من 1500 مهاجر تم إنقاذهم قبالة سواحل ليبيا\\n#الموصلية                                                                       \n5         RT @20fourMedia: #تركيا توقف لاجئين أثناء توجههم لـ #اليونان\\nhttps://t.co/CjDWK2GH3f https://t.co/21sYzUTGGw                                       \n6         مقدونيا تفتح حدودها مع اليونان للاجئين  https://t.co/qEdXvrDVI7                                                                                     \n7         RT @paldf: إغلاق #معبر_رفح بعد ظهر اليوم السبت بعد خروج 1526 من #غزة، ودخول 564 من العالقين إلى #غزة، وعودة 36 فلسطينياً كانوا في السجون ال…        \n8         RT @PalinfoAr: إغلاق #معبر_رفح بعد ظهر اليوم السبت بعد خروج 1526 من #غزة، ودخول 564 من العالقين إلى #غزة، وعودة 36 فلسطينياً كانوا في السجو…        \n9         RT @AlArabiya_Brk: وسائل إعلام تركية: مقتل 18 مهاجرا بعد غرق قاربهم في بحر إيجه #العربية_عاجل                                                       \n10        Retweeted تيّار المستقبل (@Almustaqbal):\\n\\nمقتل 18 مهاجرا غرقا في بحر ايجه\\nhttps://t.co/7fpCjwbEYp https://t.co/jFvFbxRcSz                        \n\n                                                                                                                                text_translated  \\\nuniqueid                                                                                                                                          \n1         the lines carry 275 migrants from ankara to baghdad                                                                                     \n2         kar sh 313 has been launched todays hunt from the borders of irqat downloads radadi                                                     \n3         turkish authorities stop 1300 migrants before sailing to greece news                                                                    \n4         italian navy more than 1500 migrants rescued off the coast of libya                                                                     \n5         20fourmedia turkey stopped refugees while heading for greece                                                                            \n6         macedonia opens border with greece for refugees                                                                                         \n7         rafah crossing closed on saturday afternoon after 1526 out of gaza 564 people stranded in gaza and 36 palestinians returned to prison   \n8         rafah crossing closed on saturday afternoon after 1526 out of gaza 564 people stranded in gaza 36 palestinians returned                 \n9         turkish media 18 migrants killed after their boat sank in the aegean sea                                                                \n10        the future stream 18 migrants drowned in aegean sea                                                                                     \n\n                                                       media   source  mode  \\\nuniqueid                                                                      \n1         NaN                                                 twitter  NaN    \n2         ['http://pbs.twimg.com/media/CUSHB2mUAAEg0_w.jpg']  twitter  NaN    \n3         NaN                                                 twitter  NaN    \n4         NaN                                                 twitter  NaN    \n5         ['http://pbs.twimg.com/media/CVYfgd9XAAE5JuX.jpg']  twitter  NaN    \n6         NaN                                                 twitter  NaN    \n7         NaN                                                 twitter  NaN    \n8         NaN                                                 twitter  NaN    \n9         NaN                                                 twitter  boat   \n10        NaN                                                 twitter  NaN    \n\n          num_persons                  _timestamp  confidence  \\\nuniqueid                                                        \n1         275.0        2019-12-11 16:31:09.000000  0.58         \n2         313.0        2019-12-13 20:49:57.000000  0.57         \n3         1300.0       2019-12-23 21:31:23.000000  0.90         \n4         1500.0       2019-12-26 19:33:11.000000  0.68         \n5        NaN           2019-12-27 12:50:19.000000  0.86         \n6        NaN           2019-12-27 14:16:27.000000  0.79         \n7        NaN           2019-12-28 14:18:28.000000  0.74         \n8        NaN           2019-12-28 14:22:18.000000  0.99         \n9         18.0         2020-01-11 07:56:14.000000  0.51         \n10        18.0         2020-01-11 11:23:13.000000  0.62         \n\n          source_reliability                locations  origin_bool origin  \\\nuniqueid                                                                    \n1         0.00                ['ankara', 'baghdad']   NaN           TR510   \n2         0.17                []                      NaN           NaN     \n3         0.23                ['greece']              NaN           NaN     \n4         0.83                ['libya', 'italia']     NaN           NaN     \n5         0.12                ['greece', 'turkey']    NaN           NaN     \n6         0.85                ['macedonia', 'greece'] NaN           NaN     \n7         0.29                ['rafah', 'gaza']       NaN           NaN     \n8         0.22                ['rafah', 'gaza']       NaN           NaN     \n9         0.37                ['aegean sea']          NaN           NaN     \n10        0.04                ['aegean sea']          NaN           NaN     \n\n         destination                                  geom_tweet  \\\nuniqueid                                                           \n1         NaN         01010000003BDF4F8D976E40409CC420B072F84340   \n2         NaN         NaN                                          \n3         EL          010100000000000000000036400000000000804340   \n4         NaN         01010000009031772D215F2A40C139234A7B734040   \n5         NaN         010100000000000000000036400000000000804340   \n6         NaN         0101000000575BB1BFEC6E35400000000000004540   \n7         NaN         01010000009A99999999394140DCD7817346843F40   \n8         NaN         01010000009A99999999394140DCD7817346843F40   \n9         NaN         01010000003333333333F336400000000000804340   \n10        NaN         01010000003333333333F336400000000000804340   \n\n          triage_status  \nuniqueid                 \n1        NaN             \n2        NaN             \n3        NaN             \n4        NaN             \n5        NaN             \n6        NaN             \n7        NaN             \n8        NaN             \n9        NaN             \n10       NaN             "
         },
         "metadata": {},
         "output_type": "display_data"
        }
       ]
      }
     },
     "8194912b9bba40479a5fd65f4cdd03d9": {
      "model_module": "@jupyter-widgets/controls",
      "model_module_version": "1.5.0",
      "model_name": "DescriptionStyleModel",
      "state": {
       "_model_module_version": "1.5.0",
       "_view_module_version": "1.2.0",
       "description_width": ""
      }
     },
     "82ae34897eb949f5829fc2bf2931c666": {
      "model_module": "@jupyter-widgets/controls",
      "model_module_version": "1.5.0",
      "model_name": "ToggleButtonModel",
      "state": {
       "_model_module_version": "1.5.0",
       "_view_module_version": "1.5.0",
       "description": "ascending",
       "layout": "IPY_MODEL_afd561b65a18492dbb9890bf488c0014",
       "style": "IPY_MODEL_f6e9b379672e40ca93094239787fb010",
       "value": true
      }
     },
     "83c27a6bfe934f4b8955b3e3a9ed2a3a": {
      "model_module": "@jupyter-widgets/controls",
      "model_module_version": "1.5.0",
      "model_name": "SelectMultipleModel",
      "state": {
       "_model_module_version": "1.5.0",
       "_options_labels": [
        "text",
        "text_translated",
        "media",
        "source",
        "mode",
        "num_persons",
        "_timestamp",
        "confidence",
        "source_reliability",
        "locations",
        "origin_bool",
        "origin",
        "destination",
        "geom_tweet",
        "triage_status"
       ],
       "_view_module_version": "1.5.0",
       "index": [],
       "layout": "IPY_MODEL_cc22211e972a4f92bbd785e3e7faba76",
       "rows": 5,
       "style": "IPY_MODEL_8d753fe691584030b44fcf50494a59a3"
      }
     },
     "83f6baa0da21437390e63c6dd47e09be": {
      "model_module": "@jupyter-widgets/controls",
      "model_module_version": "1.5.0",
      "model_name": "DescriptionStyleModel",
      "state": {
       "_model_module_version": "1.5.0",
       "_view_module_version": "1.2.0",
       "description_width": ""
      }
     },
     "8406cc53389d408691fdfc268e2bff38": {
      "model_module": "@jupyter-widgets/controls",
      "model_module_version": "1.5.0",
      "model_name": "HTMLModel",
      "state": {
       "_model_module_version": "1.5.0",
       "_view_module_version": "1.5.0",
       "layout": "IPY_MODEL_c564936582d046de81df699671b82336",
       "style": "IPY_MODEL_3d5316aa6cc7486485750f17cff7d2b6",
       "value": "<h3>Save filtered Data</h3>"
      }
     },
     "8430e7b587b04946bf9bccb29e16da57": {
      "model_module": "@jupyter-widgets/controls",
      "model_module_version": "1.5.0",
      "model_name": "DescriptionStyleModel",
      "state": {
       "_model_module_version": "1.5.0",
       "_view_module_version": "1.2.0",
       "description_width": ""
      }
     },
     "848d5cf88b2a42dbb0efec3ad48d4400": {
      "model_module": "@jupyter-widgets/controls",
      "model_module_version": "1.5.0",
      "model_name": "DescriptionStyleModel",
      "state": {
       "_model_module_version": "1.5.0",
       "_view_module_version": "1.2.0",
       "description_width": ""
      }
     },
     "84a474df7e214eeb8613b371b69f8652": {
      "model_module": "@jupyter-widgets/output",
      "model_module_version": "1.0.0",
      "model_name": "OutputModel",
      "state": {
       "layout": "IPY_MODEL_3e3d7fd4ddea411885706b4f739f85d6",
       "outputs": [
        {
         "data": {
          "image/png": "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\n",
          "text/plain": "<Figure size 432x288 with 1 Axes>"
         },
         "metadata": {
          "needs_background": "light"
         },
         "output_type": "display_data"
        }
       ]
      }
     },
     "84f434a64fba46de8c12d6781d5ff1df": {
      "model_module": "@jupyter-widgets/base",
      "model_module_version": "1.2.0",
      "model_name": "LayoutModel",
      "state": {
       "_model_module_version": "1.2.0",
       "_view_module_version": "1.2.0",
       "justify_items": null,
       "object_fit": null,
       "object_position": null
      }
     },
     "85082f24137c4eba89324d901b54c0d1": {
      "model_module": "@jupyter-widgets/controls",
      "model_module_version": "1.5.0",
      "model_name": "GridBoxModel",
      "state": {
       "_model_module_version": "1.5.0",
       "_view_module_version": "1.5.0",
       "children": [
        "IPY_MODEL_a60dc68378b04bdea9b6340a071bbc25",
        "IPY_MODEL_9ed0a1a6c39f44fa8edce930774116bc"
       ],
       "layout": "IPY_MODEL_cc52b600c0f243d9878fe01822fbdd57"
      }
     },
     "8512adda0e854f159e84588134554188": {
      "model_module": "@jupyter-widgets/controls",
      "model_module_version": "1.5.0",
      "model_name": "DescriptionStyleModel",
      "state": {
       "_model_module_version": "1.5.0",
       "_view_module_version": "1.2.0",
       "description_width": ""
      }
     },
     "8527e43dfc094c74b7b5fbd2770084ae": {
      "model_module": "@jupyter-widgets/controls",
      "model_module_version": "1.5.0",
      "model_name": "DescriptionStyleModel",
      "state": {
       "_model_module_version": "1.5.0",
       "_view_module_version": "1.2.0",
       "description_width": ""
      }
     },
     "8587fb14cdc6417a863630f66017e48c": {
      "model_module": "@jupyter-widgets/controls",
      "model_module_version": "1.5.0",
      "model_name": "DescriptionStyleModel",
      "state": {
       "_model_module_version": "1.5.0",
       "_view_module_version": "1.2.0",
       "description_width": ""
      }
     },
     "858b6b4450f74946a5586c264134546e": {
      "model_module": "@jupyter-widgets/output",
      "model_module_version": "1.0.0",
      "model_name": "OutputModel",
      "state": {
       "layout": "IPY_MODEL_7a0b6b225ffc47e0a8d96c023c1ef7e2",
       "outputs": [
        {
         "data": {
          "application/vnd.jupyter.widget-view+json": {
           "model_id": "86f8919895d847c19580acd800165a56",
           "version_major": 2,
           "version_minor": 0
          },
          "text/plain": "VBox(children=(HBox(children=(IntSlider(value=1, layout=Layout(width='60%'), max=266, min=1), Label(value='of …"
         },
         "metadata": {},
         "output_type": "display_data"
        }
       ]
      }
     },
     "862a9d4a3ebf4f03898d09627b61b5df": {
      "model_module": "@jupyter-widgets/base",
      "model_module_version": "1.2.0",
      "model_name": "LayoutModel",
      "state": {
       "_model_module_version": "1.2.0",
       "_view_module_version": "1.2.0",
       "justify_items": null,
       "object_fit": null,
       "object_position": null
      }
     },
     "8677184a05f04f6e81c68449d3e789e6": {
      "model_module": "@jupyter-widgets/controls",
      "model_module_version": "1.5.0",
      "model_name": "LabelModel",
      "state": {
       "_model_module_version": "1.5.0",
       "_view_module_version": "1.5.0",
       "layout": "IPY_MODEL_3797ae361cd8480f9f377b4dcbc0a7f2",
       "style": "IPY_MODEL_d3978cc9f15b4d78996b5732c7b43e36",
       "value": "Plot Columns"
      }
     },
     "869cb2a735064e96aa634bb220a99efb": {
      "model_module": "@jupyter-widgets/base",
      "model_module_version": "1.2.0",
      "model_name": "LayoutModel",
      "state": {
       "_model_module_version": "1.2.0",
       "_view_module_version": "1.2.0",
       "grid_area": "top-left",
       "justify_items": null,
       "object_fit": null,
       "object_position": null
      }
     },
     "86f8919895d847c19580acd800165a56": {
      "model_module": "@jupyter-widgets/controls",
      "model_module_version": "1.5.0",
      "model_name": "VBoxModel",
      "state": {
       "_model_module_version": "1.5.0",
       "_view_module_version": "1.5.0",
       "children": [
        "IPY_MODEL_18f483bad2b54a6fa535124cb0da4922",
        "IPY_MODEL_de1239ee614e4a9880ff53d842b870ee"
       ],
       "layout": "IPY_MODEL_929b5839949c466790b6a9743fec456b"
      }
     },
     "86fc8ecc538645ffb7f682d8f0047713": {
      "model_module": "@jupyter-widgets/base",
      "model_module_version": "1.2.0",
      "model_name": "LayoutModel",
      "state": {
       "_model_module_version": "1.2.0",
       "_view_module_version": "1.2.0",
       "justify_items": null,
       "object_fit": null,
       "object_position": null
      }
     },
     "87222b98646847dc8a1763848cdec8b1": {
      "model_module": "@jupyter-widgets/base",
      "model_module_version": "1.2.0",
      "model_name": "LayoutModel",
      "state": {
       "_model_module_version": "1.2.0",
       "_view_module_version": "1.2.0",
       "justify_items": null,
       "object_fit": null,
       "object_position": null
      }
     },
     "87604a90ac45439086b39603a8e50ebd": {
      "model_module": "@jupyter-widgets/base",
      "model_module_version": "1.2.0",
      "model_name": "LayoutModel",
      "state": {
       "_model_module_version": "1.2.0",
       "_view_module_version": "1.2.0",
       "justify_items": null,
       "object_fit": null,
       "object_position": null
      }
     },
     "87684eeba71741d9829b7002f145a1fd": {
      "model_module": "@jupyter-widgets/base",
      "model_module_version": "1.2.0",
      "model_name": "LayoutModel",
      "state": {
       "_model_module_version": "1.2.0",
       "_view_module_version": "1.2.0",
       "justify_items": null,
       "object_fit": null,
       "object_position": null
      }
     },
     "88cd2c3b307b4af180fb9ea56281ec4b": {
      "model_module": "@jupyter-widgets/controls",
      "model_module_version": "1.5.0",
      "model_name": "DropdownModel",
      "state": {
       "_model_module_version": "1.5.0",
       "_options_labels": [
        "text",
        "text_translated",
        "media",
        "source",
        "mode",
        "num_persons",
        "_timestamp",
        "confidence",
        "source_reliability",
        "locations",
        "origin_bool",
        "origin",
        "destination",
        "geom_tweet",
        "triage_status"
       ],
       "_view_module_version": "1.5.0",
       "description": "order by",
       "index": 0,
       "layout": "IPY_MODEL_f38c89ae8486489bb4473f1fa6c16d9e",
       "style": "IPY_MODEL_14fe2056b5424316a903ba1890728549"
      }
     },
     "88ebaf01c6bb4a23808c2401a5859533": {
      "model_module": "@jupyter-widgets/controls",
      "model_module_version": "1.5.0",
      "model_name": "DescriptionStyleModel",
      "state": {
       "_model_module_version": "1.5.0",
       "_view_module_version": "1.2.0",
       "description_width": ""
      }
     },
     "8931a8cad371417db709a64480b61b43": {
      "model_module": "@jupyter-widgets/controls",
      "model_module_version": "1.5.0",
      "model_name": "ButtonModel",
      "state": {
       "_model_module_version": "1.5.0",
       "_view_module_version": "1.5.0",
       "description": "save",
       "layout": "IPY_MODEL_3eafe54f040449d4847293b46d3afed2",
       "style": "IPY_MODEL_e03864cc50204ac38ec882ab1048d43f"
      }
     },
     "8982994f59e741999143f78e5504a63f": {
      "model_module": "@jupyter-widgets/controls",
      "model_module_version": "1.5.0",
      "model_name": "HTMLModel",
      "state": {
       "_model_module_version": "1.5.0",
       "_view_module_version": "1.5.0",
       "layout": "IPY_MODEL_f76b8cb6d5f849969f93f39277723998",
       "style": "IPY_MODEL_57d483b65e76479c8ea0babf80c56e1a",
       "value": "Select multiple by dragging or ctrl + click"
      }
     },
     "89bef5380782423081db46d1cafbd91a": {
      "model_module": "@jupyter-widgets/controls",
      "model_module_version": "1.5.0",
      "model_name": "HBoxModel",
      "state": {
       "_model_module_version": "1.5.0",
       "_view_module_version": "1.5.0",
       "children": [
        "IPY_MODEL_698e993e8edc4a17ae78d9073801a48c",
        "IPY_MODEL_82ae34897eb949f5829fc2bf2931c666",
        "IPY_MODEL_e181ab30b9954963990da50eae830991"
       ],
       "layout": "IPY_MODEL_6121cd67c3fa45f68998ff8dffaca0f5"
      }
     },
     "89cf6e264a6741cd986640bde5675243": {
      "model_module": "@jupyter-widgets/controls",
      "model_module_version": "1.5.0",
      "model_name": "HBoxModel",
      "state": {
       "_model_module_version": "1.5.0",
       "_view_module_version": "1.5.0",
       "children": [
        "IPY_MODEL_7d015b1a95c5479086290ad198ca2a25",
        "IPY_MODEL_abe0f12ae4ea42f099605705a5a8ad44"
       ],
       "layout": "IPY_MODEL_6e2e5b9e22a14e36b1992128575ff7f4"
      }
     },
     "8a07d86cfd9c4e7aa2840dbe4caab255": {
      "model_module": "@jupyter-widgets/base",
      "model_module_version": "1.2.0",
      "model_name": "LayoutModel",
      "state": {
       "_model_module_version": "1.2.0",
       "_view_module_version": "1.2.0",
       "justify_items": null,
       "object_fit": null,
       "object_position": null
      }
     },
     "8a26112683aa4324b4df5be9288981a1": {
      "model_module": "@jupyter-widgets/base",
      "model_module_version": "1.2.0",
      "model_name": "LayoutModel",
      "state": {
       "_model_module_version": "1.2.0",
       "_view_module_version": "1.2.0",
       "justify_items": null,
       "object_fit": null,
       "object_position": null
      }
     },
     "8a285a17b60145d88d86ff11988f089d": {
      "model_module": "@jupyter-widgets/controls",
      "model_module_version": "1.5.0",
      "model_name": "VBoxModel",
      "state": {
       "_model_module_version": "1.5.0",
       "_view_module_version": "1.5.0",
       "children": [
        "IPY_MODEL_26179022b1ce443e8d02d4a497ab0a1e",
        "IPY_MODEL_ce39a928786041579f604805e15950c7",
        "IPY_MODEL_f3cf43ad87174a08b6d0d0d68731f165"
       ],
       "layout": "IPY_MODEL_ed05769babf946769f00e8fd5b8de553"
      }
     },
     "8a5418e565364e9da9be180691c65eed": {
      "model_module": "@jupyter-widgets/base",
      "model_module_version": "1.2.0",
      "model_name": "LayoutModel",
      "state": {
       "_model_module_version": "1.2.0",
       "_view_module_version": "1.2.0",
       "justify_items": null,
       "object_fit": null,
       "object_position": null,
       "width": "30px"
      }
     },
     "8a56082c671745c282914eeb74e60ed5": {
      "model_module": "@jupyter-widgets/controls",
      "model_module_version": "1.5.0",
      "model_name": "DescriptionStyleModel",
      "state": {
       "_model_module_version": "1.5.0",
       "_view_module_version": "1.2.0",
       "description_width": ""
      }
     },
     "8a5e3bb325dd4408b69aae28e0f356f7": {
      "model_module": "@jupyter-widgets/base",
      "model_module_version": "1.2.0",
      "model_name": "LayoutModel",
      "state": {
       "_model_module_version": "1.2.0",
       "_view_module_version": "1.2.0",
       "justify_items": null,
       "object_fit": null,
       "object_position": null,
       "width": "60%"
      }
     },
     "8ae664c2cfc44b4694c19655862f2f10": {
      "model_module": "@jupyter-widgets/base",
      "model_module_version": "1.2.0",
      "model_name": "LayoutModel",
      "state": {
       "_model_module_version": "1.2.0",
       "_view_module_version": "1.2.0",
       "justify_items": null,
       "object_fit": null,
       "object_position": null
      }
     },
     "8b1adf3de8c4469a86c40b9e0fdff899": {
      "model_module": "@jupyter-widgets/controls",
      "model_module_version": "1.5.0",
      "model_name": "DropdownModel",
      "state": {
       "_model_module_version": "1.5.0",
       "_options_labels": [
        "text",
        "text_translated",
        "media",
        "source",
        "mode",
        "num_persons",
        "_timestamp",
        "confidence",
        "source_reliability",
        "locations",
        "origin_bool",
        "origin",
        "destination",
        "geom_tweet",
        "triage_status"
       ],
       "_view_module_version": "1.5.0",
       "index": 0,
       "layout": "IPY_MODEL_e28844fb558a4ca69fe92f77bae94189",
       "style": "IPY_MODEL_f34616e170b54e1c82bb719443e9a1f4"
      }
     },
     "8b98129d060949da880309b6e884059c": {
      "model_module": "@jupyter-widgets/controls",
      "model_module_version": "1.5.0",
      "model_name": "DropdownModel",
      "state": {
       "_model_module_version": "1.5.0",
       "_options_labels": [
        "text",
        "text_translated",
        "media",
        "source",
        "mode",
        "num_persons",
        "_timestamp",
        "confidence",
        "source_reliability",
        "locations",
        "origin_bool",
        "origin",
        "destination",
        "geom_tweet",
        "triage_status"
       ],
       "_view_module_version": "1.5.0",
       "index": 0,
       "layout": "IPY_MODEL_da0cd77e6e0a463db2ae3e4a1ddc5fcb",
       "style": "IPY_MODEL_9419a5c33dd84ac88e4b0c32457267d3"
      }
     },
     "8bc86b18b42442a8992c13c2805fdcf6": {
      "model_module": "@jupyter-widgets/controls",
      "model_module_version": "1.5.0",
      "model_name": "DescriptionStyleModel",
      "state": {
       "_model_module_version": "1.5.0",
       "_view_module_version": "1.2.0",
       "description_width": ""
      }
     },
     "8c2ae289e677450db266ed110f3f783b": {
      "model_module": "@jupyter-widgets/controls",
      "model_module_version": "1.5.0",
      "model_name": "TextModel",
      "state": {
       "_model_module_version": "1.5.0",
       "_view_module_version": "1.5.0",
       "layout": "IPY_MODEL_c4df09b3b6414c928e54d3b8cf36e2cd",
       "style": "IPY_MODEL_d70764adb752491090b6e794c916150a",
       "value": "filtered_data.csv"
      }
     },
     "8c86afa3be294205a23b9c97c65ec5b4": {
      "model_module": "@jupyter-widgets/controls",
      "model_module_version": "1.5.0",
      "model_name": "AccordionModel",
      "state": {
       "_model_module_version": "1.5.0",
       "_titles": {
        "0": "Sorting",
        "1": "Required Values",
        "2": "Searching",
        "3": "Save filtered Data"
       },
       "_view_module_version": "1.5.0",
       "children": [
        "IPY_MODEL_d3f14935572548c4872142314b812b6d",
        "IPY_MODEL_f434f26ca6e04b4ab20ae2dc9ad41b5b",
        "IPY_MODEL_ea78641d79e14ec7a9afce1c885a17c7",
        "IPY_MODEL_2cd170058e594ba89b1ddb0553b8ab0d"
       ],
       "layout": "IPY_MODEL_2180504541344c1587792a622f6072a1"
      }
     },
     "8cb679279493443181797578c77a5ef3": {
      "model_module": "@jupyter-widgets/base",
      "model_module_version": "1.2.0",
      "model_name": "LayoutModel",
      "state": {
       "_model_module_version": "1.2.0",
       "_view_module_version": "1.2.0",
       "justify_items": null,
       "object_fit": null,
       "object_position": null
      }
     },
     "8d24832899e240e8a14ff93ce190d51a": {
      "model_module": "@jupyter-widgets/base",
      "model_module_version": "1.2.0",
      "model_name": "LayoutModel",
      "state": {
       "_model_module_version": "1.2.0",
       "_view_module_version": "1.2.0",
       "justify_items": null,
       "object_fit": null,
       "object_position": null
      }
     },
     "8d512b01bf814cb39d97538d9247c012": {
      "model_module": "@jupyter-widgets/base",
      "model_module_version": "1.2.0",
      "model_name": "LayoutModel",
      "state": {
       "_model_module_version": "1.2.0",
       "_view_module_version": "1.2.0",
       "justify_items": null,
       "object_fit": null,
       "object_position": null
      }
     },
     "8d6de1e2de5c4434b2f000383c8d9712": {
      "model_module": "@jupyter-widgets/controls",
      "model_module_version": "1.5.0",
      "model_name": "DescriptionStyleModel",
      "state": {
       "_model_module_version": "1.5.0",
       "_view_module_version": "1.2.0",
       "description_width": ""
      }
     },
     "8d6fab2dcf5244dfb41ef32e3cdd6169": {
      "model_module": "@jupyter-widgets/controls",
      "model_module_version": "1.5.0",
      "model_name": "LabelModel",
      "state": {
       "_model_module_version": "1.5.0",
       "_view_module_version": "1.5.0",
       "layout": "IPY_MODEL_a35801dd83c94398a33d10007767ee79",
       "style": "IPY_MODEL_f10630f76dda44a99e5f533099f38c11",
       "value": "Plot Columns"
      }
     },
     "8d709282f4f74b6ba6466f2f166810a0": {
      "model_module": "@jupyter-widgets/controls",
      "model_module_version": "1.5.0",
      "model_name": "VBoxModel",
      "state": {
       "_model_module_version": "1.5.0",
       "_view_module_version": "1.5.0",
       "children": [
        "IPY_MODEL_c8dbc9a740ff40b69f93d4a20cdc14f7",
        "IPY_MODEL_8b98129d060949da880309b6e884059c",
        "IPY_MODEL_c8bc0e23c3b549d7a92aac5cf027dff4"
       ],
       "layout": "IPY_MODEL_869cb2a735064e96aa634bb220a99efb"
      }
     },
     "8d753fe691584030b44fcf50494a59a3": {
      "model_module": "@jupyter-widgets/controls",
      "model_module_version": "1.5.0",
      "model_name": "DescriptionStyleModel",
      "state": {
       "_model_module_version": "1.5.0",
       "_view_module_version": "1.2.0",
       "description_width": ""
      }
     },
     "8e71e4b41b344d9898029462ab4d0dbf": {
      "model_module": "@jupyter-widgets/controls",
      "model_module_version": "1.5.0",
      "model_name": "HTMLModel",
      "state": {
       "_model_module_version": "1.5.0",
       "_view_module_version": "1.5.0",
       "layout": "IPY_MODEL_edeb0cd9b99f41e583a5a6d2fe59a05e",
       "style": "IPY_MODEL_febc624b4aae4cb4b051acb778246dc4",
       "value": "<h3>Sorting</h3>"
      }
     },
     "8eaaf7b35fa3487c98260289e54d9565": {
      "model_module": "@jupyter-widgets/controls",
      "model_module_version": "1.5.0",
      "model_name": "ToggleButtonModel",
      "state": {
       "_model_module_version": "1.5.0",
       "_view_module_version": "1.5.0",
       "description": "ascending",
       "layout": "IPY_MODEL_45632d4e0a4b492c849f3b5e8706fa50",
       "style": "IPY_MODEL_1bb8fe0a0cea4d6c97ff8b3ff3a0cb6d",
       "value": true
      }
     },
     "8ed4db5f3ff2414bb2d9e89f0a40234a": {
      "model_module": "@jupyter-widgets/base",
      "model_module_version": "1.2.0",
      "model_name": "LayoutModel",
      "state": {
       "_model_module_version": "1.2.0",
       "_view_module_version": "1.2.0",
       "justify_items": null,
       "object_fit": null,
       "object_position": null
      }
     },
     "8edcad39b12c4755b591c83fa3966a10": {
      "model_module": "@jupyter-widgets/controls",
      "model_module_version": "1.5.0",
      "model_name": "DescriptionStyleModel",
      "state": {
       "_model_module_version": "1.5.0",
       "_view_module_version": "1.2.0",
       "description_width": ""
      }
     },
     "901401c903a5419da10efb64e41d4560": {
      "model_module": "@jupyter-widgets/controls",
      "model_module_version": "1.5.0",
      "model_name": "HTMLModel",
      "state": {
       "_model_module_version": "1.5.0",
       "_view_module_version": "1.5.0",
       "layout": "IPY_MODEL_b121d6776dff45ddabce671271663083",
       "style": "IPY_MODEL_eea02f6cd63849e993ae8d137ddf3bd0",
       "value": "<h3>Sorting</h3>"
      }
     },
     "9046dbc5ed644131b8902116794df69b": {
      "model_module": "@jupyter-widgets/base",
      "model_module_version": "1.2.0",
      "model_name": "LayoutModel",
      "state": {
       "_model_module_version": "1.2.0",
       "_view_module_version": "1.2.0",
       "justify_items": null,
       "object_fit": null,
       "object_position": null
      }
     },
     "90880c45258c47d48e02600eb0c92438": {
      "model_module": "@jupyter-widgets/base",
      "model_module_version": "1.2.0",
      "model_name": "LayoutModel",
      "state": {
       "_model_module_version": "1.2.0",
       "_view_module_version": "1.2.0",
       "justify_items": null,
       "object_fit": null,
       "object_position": null
      }
     },
     "90f20a6464a24b309d84e622cb44d07c": {
      "model_module": "@jupyter-widgets/output",
      "model_module_version": "1.0.0",
      "model_name": "OutputModel",
      "state": {
       "layout": "IPY_MODEL_245c8fd414fd443aa29577d511b84200"
      }
     },
     "90f59d5ff0304c7684c46236c2d94ca9": {
      "model_module": "@jupyter-widgets/base",
      "model_module_version": "1.2.0",
      "model_name": "LayoutModel",
      "state": {
       "_model_module_version": "1.2.0",
       "_view_module_version": "1.2.0",
       "justify_items": null,
       "object_fit": null,
       "object_position": null,
       "width": "20%"
      }
     },
     "916555db9a3644658018ae6a96b73477": {
      "model_module": "@jupyter-widgets/controls",
      "model_module_version": "1.5.0",
      "model_name": "TextModel",
      "state": {
       "_model_module_version": "1.5.0",
       "_view_module_version": "1.5.0",
       "layout": "IPY_MODEL_9046dbc5ed644131b8902116794df69b",
       "style": "IPY_MODEL_732976cbe2144cb6bc1d9f99e4844f28",
       "value": "filtered_data.csv"
      }
     },
     "917be17e95eb4920b15629fe1dfcddc0": {
      "model_module": "@jupyter-widgets/base",
      "model_module_version": "1.2.0",
      "model_name": "LayoutModel",
      "state": {
       "_model_module_version": "1.2.0",
       "_view_module_version": "1.2.0",
       "justify_items": null,
       "object_fit": null,
       "object_position": null,
       "width": "20%"
      }
     },
     "91f87a2e5cfa4f1e862f36c9b8a0369a": {
      "model_module": "@jupyter-widgets/base",
      "model_module_version": "1.2.0",
      "model_name": "LayoutModel",
      "state": {
       "_model_module_version": "1.2.0",
       "_view_module_version": "1.2.0",
       "justify_items": null,
       "object_fit": null,
       "object_position": null
      }
     },
     "91ff3dd230e240038d76540a551d0b0d": {
      "model_module": "@jupyter-widgets/base",
      "model_module_version": "1.2.0",
      "model_name": "LayoutModel",
      "state": {
       "_model_module_version": "1.2.0",
       "_view_module_version": "1.2.0",
       "justify_items": null,
       "object_fit": null,
       "object_position": null,
       "width": "30px"
      }
     },
     "9211c605d7e84eeb8f608153cad60319": {
      "model_module": "@jupyter-widgets/base",
      "model_module_version": "1.2.0",
      "model_name": "LayoutModel",
      "state": {
       "_model_module_version": "1.2.0",
       "_view_module_version": "1.2.0",
       "justify_items": null,
       "object_fit": null,
       "object_position": null
      }
     },
     "92225101ef3f4794aee63c2198429c8b": {
      "model_module": "@jupyter-widgets/controls",
      "model_module_version": "1.5.0",
      "model_name": "DescriptionStyleModel",
      "state": {
       "_model_module_version": "1.5.0",
       "_view_module_version": "1.2.0",
       "description_width": ""
      }
     },
     "9239088d645542379dcabc3afa7bf040": {
      "model_module": "@jupyter-widgets/base",
      "model_module_version": "1.2.0",
      "model_name": "LayoutModel",
      "state": {
       "_model_module_version": "1.2.0",
       "_view_module_version": "1.2.0",
       "justify_items": null,
       "object_fit": null,
       "object_position": null
      }
     },
     "9295d90dd0ec46adaee7dec26349632c": {
      "model_module": "@jupyter-widgets/controls",
      "model_module_version": "1.5.0",
      "model_name": "LabelModel",
      "state": {
       "_model_module_version": "1.5.0",
       "_view_module_version": "1.5.0",
       "layout": "IPY_MODEL_70f56c1e21ea46119d9bedf35b587d89",
       "style": "IPY_MODEL_50778de51b254c5a95af57f46d03f514",
       "value": "Plot Columns"
      }
     },
     "929b5839949c466790b6a9743fec456b": {
      "model_module": "@jupyter-widgets/base",
      "model_module_version": "1.2.0",
      "model_name": "LayoutModel",
      "state": {
       "_model_module_version": "1.2.0",
       "_view_module_version": "1.2.0",
       "justify_items": null,
       "object_fit": null,
       "object_position": null
      }
     },
     "92a1f87a7f2549a68c0b23dee8cb7da3": {
      "model_module": "@jupyter-widgets/controls",
      "model_module_version": "1.5.0",
      "model_name": "IntSliderModel",
      "state": {
       "_model_module_version": "1.5.0",
       "_view_module_version": "1.5.0",
       "layout": "IPY_MODEL_28cb41e4dcbd48449667b5d8fed16303",
       "max": 266,
       "min": 1,
       "style": "IPY_MODEL_f14e0d56f1db4ac5a540a86265d2c868",
       "value": 1
      }
     },
     "92d2d22b76a8477c839321a97f6f5738": {
      "model_module": "@jupyter-widgets/base",
      "model_module_version": "1.2.0",
      "model_name": "LayoutModel",
      "state": {
       "_model_module_version": "1.2.0",
       "_view_module_version": "1.2.0",
       "justify_items": null,
       "object_fit": null,
       "object_position": null
      }
     },
     "93a47fd26c1040b7a9fe20fcb70d7793": {
      "model_module": "@jupyter-widgets/controls",
      "model_module_version": "1.5.0",
      "model_name": "DropdownModel",
      "state": {
       "_model_module_version": "1.5.0",
       "_options_labels": [
        "text",
        "text_translated",
        "media",
        "source",
        "mode",
        "num_persons",
        "_timestamp",
        "confidence",
        "source_reliability",
        "locations",
        "origin_bool",
        "origin",
        "destination",
        "geom_tweet",
        "triage_status"
       ],
       "_view_module_version": "1.5.0",
       "index": 0,
       "layout": "IPY_MODEL_03f45aa5d94d4afc917b7eeedf7a307d",
       "style": "IPY_MODEL_7f669b23fa9f44eb90b74b0e82a0e828"
      }
     },
     "93e433618e9a4033ae45168cd5c02647": {
      "model_module": "@jupyter-widgets/controls",
      "model_module_version": "1.5.0",
      "model_name": "DescriptionStyleModel",
      "state": {
       "_model_module_version": "1.5.0",
       "_view_module_version": "1.2.0",
       "description_width": ""
      }
     },
     "93edcc69a5ac425fba65a73073aa41eb": {
      "model_module": "@jupyter-widgets/base",
      "model_module_version": "1.2.0",
      "model_name": "LayoutModel",
      "state": {
       "_model_module_version": "1.2.0",
       "_view_module_version": "1.2.0",
       "grid_area": "top-right",
       "justify_items": null,
       "object_fit": null,
       "object_position": null
      }
     },
     "93f4b185e2d043388ff6e0bf90c359d1": {
      "model_module": "@jupyter-widgets/base",
      "model_module_version": "1.2.0",
      "model_name": "LayoutModel",
      "state": {
       "_model_module_version": "1.2.0",
       "_view_module_version": "1.2.0",
       "justify_items": null,
       "object_fit": null,
       "object_position": null
      }
     },
     "9400930b2e494354a9dbcf9d90916884": {
      "model_module": "@jupyter-widgets/controls",
      "model_module_version": "1.5.0",
      "model_name": "HBoxModel",
      "state": {
       "_model_module_version": "1.5.0",
       "_view_module_version": "1.5.0",
       "children": [
        "IPY_MODEL_6feed867c32449f9b6f013d3f7d22756",
        "IPY_MODEL_15f0340e0816483f80c8ae75b61316ca",
        "IPY_MODEL_c4fc2232d42a4b57a30c86b817334b22"
       ],
       "layout": "IPY_MODEL_e8c7987eb67441d483ecaae34fac8c2f"
      }
     },
     "94022756b29144c9bdffd004624f63fb": {
      "model_module": "@jupyter-widgets/base",
      "model_module_version": "1.2.0",
      "model_name": "LayoutModel",
      "state": {
       "_model_module_version": "1.2.0",
       "_view_module_version": "1.2.0",
       "justify_items": null,
       "object_fit": null,
       "object_position": null
      }
     },
     "9419a5c33dd84ac88e4b0c32457267d3": {
      "model_module": "@jupyter-widgets/controls",
      "model_module_version": "1.5.0",
      "model_name": "DescriptionStyleModel",
      "state": {
       "_model_module_version": "1.5.0",
       "_view_module_version": "1.2.0",
       "description_width": ""
      }
     },
     "94291886605343ea95d5b96e7f826b69": {
      "model_module": "@jupyter-widgets/base",
      "model_module_version": "1.2.0",
      "model_name": "LayoutModel",
      "state": {
       "_model_module_version": "1.2.0",
       "_view_module_version": "1.2.0",
       "justify_items": null,
       "object_fit": null,
       "object_position": null
      }
     },
     "94291d8fadcb436786a6be5d80662b86": {
      "model_module": "@jupyter-widgets/base",
      "model_module_version": "1.2.0",
      "model_name": "LayoutModel",
      "state": {
       "_model_module_version": "1.2.0",
       "_view_module_version": "1.2.0",
       "justify_items": null,
       "object_fit": null,
       "object_position": null
      }
     },
     "9452b89d50594cefab4c46f1d04a37eb": {
      "model_module": "@jupyter-widgets/base",
      "model_module_version": "1.2.0",
      "model_name": "LayoutModel",
      "state": {
       "_model_module_version": "1.2.0",
       "_view_module_version": "1.2.0",
       "justify_items": null,
       "object_fit": null,
       "object_position": null
      }
     },
     "94893cb1ced04442b2c112cf4ed893e4": {
      "model_module": "@jupyter-widgets/base",
      "model_module_version": "1.2.0",
      "model_name": "LayoutModel",
      "state": {
       "_model_module_version": "1.2.0",
       "_view_module_version": "1.2.0",
       "justify_items": null,
       "object_fit": null,
       "object_position": null
      }
     },
     "9515e9d891b3417ebe9b2e61e841e871": {
      "model_module": "@jupyter-widgets/base",
      "model_module_version": "1.2.0",
      "model_name": "LayoutModel",
      "state": {
       "_model_module_version": "1.2.0",
       "_view_module_version": "1.2.0",
       "grid_template_areas": "\"top-left top-right\"\n\"top-left top-right\"",
       "grid_template_columns": "1fr 1fr",
       "grid_template_rows": "1fr 1fr",
       "justify_items": null,
       "object_fit": null,
       "object_position": null
      }
     },
     "953b18192f344798887d4f0a3baf7a25": {
      "model_module": "@jupyter-widgets/controls",
      "model_module_version": "1.5.0",
      "model_name": "DropdownModel",
      "state": {
       "_model_module_version": "1.5.0",
       "_options_labels": [
        "text",
        "text_translated",
        "media",
        "source",
        "mode",
        "num_persons",
        "_timestamp",
        "confidence",
        "source_reliability",
        "locations",
        "origin_bool",
        "origin",
        "destination",
        "geom_tweet",
        "triage_status"
       ],
       "_view_module_version": "1.5.0",
       "index": 0,
       "layout": "IPY_MODEL_2dc1ae11530a445c84f151bcea0c7e07",
       "style": "IPY_MODEL_9c524a9b6f2f41a5bd8533fa57770d53"
      }
     },
     "956be1f00974400abdcbd93dbdb51826": {
      "model_module": "@jupyter-widgets/base",
      "model_module_version": "1.2.0",
      "model_name": "LayoutModel",
      "state": {
       "_model_module_version": "1.2.0",
       "_view_module_version": "1.2.0",
       "justify_items": null,
       "object_fit": null,
       "object_position": null
      }
     },
     "95819ce9c622436c98fbeeba1aac38a9": {
      "model_module": "@jupyter-widgets/base",
      "model_module_version": "1.2.0",
      "model_name": "LayoutModel",
      "state": {
       "_model_module_version": "1.2.0",
       "_view_module_version": "1.2.0",
       "grid_area": "top-left",
       "justify_items": null,
       "object_fit": null,
       "object_position": null
      }
     },
     "96a5d43b3a314b618eac4395c5bce93e": {
      "model_module": "@jupyter-widgets/controls",
      "model_module_version": "1.5.0",
      "model_name": "VBoxModel",
      "state": {
       "_model_module_version": "1.5.0",
       "_view_module_version": "1.5.0",
       "children": [
        "IPY_MODEL_c28dbf6d59d945feafa2cc3eb8d85307",
        "IPY_MODEL_c1afedd5ad744503838a21b70c0d5565"
       ],
       "layout": "IPY_MODEL_0d2ef668701746a880858df62b542406"
      }
     },
     "96bb600bdeb2464aac5402c5695d1474": {
      "model_module": "@jupyter-widgets/controls",
      "model_module_version": "1.5.0",
      "model_name": "DescriptionStyleModel",
      "state": {
       "_model_module_version": "1.5.0",
       "_view_module_version": "1.2.0",
       "description_width": ""
      }
     },
     "96e52560a8bb4869a02ccd9db2919a49": {
      "model_module": "@jupyter-widgets/controls",
      "model_module_version": "1.5.0",
      "model_name": "DescriptionStyleModel",
      "state": {
       "_model_module_version": "1.5.0",
       "_view_module_version": "1.2.0",
       "description_width": ""
      }
     },
     "96f153a57f7b4219ad52ca7a561fb650": {
      "model_module": "@jupyter-widgets/controls",
      "model_module_version": "1.5.0",
      "model_name": "DescriptionStyleModel",
      "state": {
       "_model_module_version": "1.5.0",
       "_view_module_version": "1.2.0",
       "description_width": ""
      }
     },
     "97051d1dcae646919db2a2d2afb52f52": {
      "model_module": "@jupyter-widgets/controls",
      "model_module_version": "1.5.0",
      "model_name": "DescriptionStyleModel",
      "state": {
       "_model_module_version": "1.5.0",
       "_view_module_version": "1.2.0",
       "description_width": ""
      }
     },
     "9724da5eab414fd381f56b7ed5545526": {
      "model_module": "@jupyter-widgets/controls",
      "model_module_version": "1.5.0",
      "model_name": "DescriptionStyleModel",
      "state": {
       "_model_module_version": "1.5.0",
       "_view_module_version": "1.2.0",
       "description_width": ""
      }
     },
     "97302729456d427eb4402c3e3bc232c5": {
      "model_module": "@jupyter-widgets/controls",
      "model_module_version": "1.5.0",
      "model_name": "HBoxModel",
      "state": {
       "_model_module_version": "1.5.0",
       "_view_module_version": "1.5.0",
       "children": [
        "IPY_MODEL_47014c0424f64052a1a22e24bde40edd",
        "IPY_MODEL_a1f4a85464b944d5b4476cf5dea60736",
        "IPY_MODEL_0cb47d9ec1534ba79e5ddc16faf98737"
       ],
       "layout": "IPY_MODEL_eb90bd128f124426bd1be569357fcf91"
      }
     },
     "975f779865e74bdc887f3e74d9664c3d": {
      "model_module": "@jupyter-widgets/output",
      "model_module_version": "1.0.0",
      "model_name": "OutputModel",
      "state": {
       "layout": "IPY_MODEL_de719d1b7b304c228b1d3977edadafb6",
       "outputs": [
        {
         "data": {
          "application/vnd.jupyter.widget-view+json": {
           "model_id": "712094a8e50645fda9460f01ee963e64",
           "version_major": 2,
           "version_minor": 0
          },
          "text/plain": "VBox(children=(HBox(children=(IntSlider(value=1, layout=Layout(width='60%'), max=266, min=1), Label(value='of …"
         },
         "metadata": {},
         "output_type": "display_data"
        }
       ]
      }
     },
     "9766b769a773469b85a7eeac91034d8c": {
      "model_module": "@jupyter-widgets/controls",
      "model_module_version": "1.5.0",
      "model_name": "ToggleButtonModel",
      "state": {
       "_model_module_version": "1.5.0",
       "_view_module_version": "1.5.0",
       "description": "ascending",
       "layout": "IPY_MODEL_da03be119c1a4ff18145e5f52082ec39",
       "style": "IPY_MODEL_a744b7fe9fa4477dab18c927c4047b3b",
       "value": true
      }
     },
     "9771f787e8b749b5ba2adfff90676ca5": {
      "model_module": "@jupyter-widgets/base",
      "model_module_version": "1.2.0",
      "model_name": "LayoutModel",
      "state": {
       "_model_module_version": "1.2.0",
       "_view_module_version": "1.2.0",
       "height": "50px",
       "justify_items": null,
       "object_fit": null,
       "object_position": null
      }
     },
     "97a73abcd8ea4abea63a467e53eb78b9": {
      "model_module": "@jupyter-widgets/controls",
      "model_module_version": "1.5.0",
      "model_name": "TextModel",
      "state": {
       "_model_module_version": "1.5.0",
       "_view_module_version": "1.5.0",
       "layout": "IPY_MODEL_dfcc8988c95e449687c6c7035c2e2098",
       "style": "IPY_MODEL_e86ed6735eab44b788c31e9302c7d10d"
      }
     },
     "97abf17a0bb74585b9d3e2910dd5c658": {
      "model_module": "@jupyter-widgets/controls",
      "model_module_version": "1.5.0",
      "model_name": "VBoxModel",
      "state": {
       "_model_module_version": "1.5.0",
       "_view_module_version": "1.5.0",
       "children": [
        "IPY_MODEL_d5b9ceb7f8a041f3af3943553f2f1c57",
        "IPY_MODEL_00f6191c94b84cac86d8677e862a0a4f",
        "IPY_MODEL_cbe5c96f229244c8beb2efef1a5362eb"
       ],
       "layout": "IPY_MODEL_a101e672f3704c9fb4d097dbd8445685"
      }
     },
     "97d49fd3328e4ab6b9d8d371c8823831": {
      "model_module": "@jupyter-widgets/base",
      "model_module_version": "1.2.0",
      "model_name": "LayoutModel",
      "state": {
       "_model_module_version": "1.2.0",
       "_view_module_version": "1.2.0",
       "justify_items": null,
       "object_fit": null,
       "object_position": null
      }
     },
     "97de4c838d514dc891349a0adc8775b0": {
      "model_module": "@jupyter-widgets/controls",
      "model_module_version": "1.5.0",
      "model_name": "DescriptionStyleModel",
      "state": {
       "_model_module_version": "1.5.0",
       "_view_module_version": "1.2.0",
       "description_width": ""
      }
     },
     "97e3e50745a2484081f92e0a902f9e75": {
      "model_module": "@jupyter-widgets/controls",
      "model_module_version": "1.5.0",
      "model_name": "SliderStyleModel",
      "state": {
       "_model_module_version": "1.5.0",
       "_view_module_version": "1.2.0",
       "description_width": ""
      }
     },
     "97eaf58ed63b405b89ed8d4b7f73b234": {
      "model_module": "@jupyter-widgets/controls",
      "model_module_version": "1.5.0",
      "model_name": "SelectMultipleModel",
      "state": {
       "_model_module_version": "1.5.0",
       "_options_labels": [
        "text",
        "text_translated",
        "media",
        "source",
        "mode",
        "num_persons",
        "_timestamp",
        "confidence",
        "source_reliability",
        "locations",
        "origin_bool",
        "origin",
        "destination",
        "geom_tweet",
        "triage_status"
       ],
       "_view_module_version": "1.5.0",
       "index": [],
       "layout": "IPY_MODEL_a77ca67a12be46e0bbfe5f25903a8ba2",
       "rows": 5,
       "style": "IPY_MODEL_11f3c72b84df4ae6907dfce5b6d1e528"
      }
     },
     "9853cb286f2d46e8810dab3e0ea5865c": {
      "model_module": "@jupyter-widgets/controls",
      "model_module_version": "1.5.0",
      "model_name": "DescriptionStyleModel",
      "state": {
       "_model_module_version": "1.5.0",
       "_view_module_version": "1.2.0",
       "description_width": ""
      }
     },
     "986981f0791e4ce5b455c61dca6c4642": {
      "model_module": "@jupyter-widgets/controls",
      "model_module_version": "1.5.0",
      "model_name": "ToggleButtonModel",
      "state": {
       "_model_module_version": "1.5.0",
       "_view_module_version": "1.5.0",
       "description": "ascending",
       "layout": "IPY_MODEL_9452b89d50594cefab4c46f1d04a37eb",
       "style": "IPY_MODEL_110d114a242548f3aa7ba8a1a21f5e56",
       "value": true
      }
     },
     "98d923a5db8a4b7584d973181cfeaf2c": {
      "model_module": "@jupyter-widgets/base",
      "model_module_version": "1.2.0",
      "model_name": "LayoutModel",
      "state": {
       "_model_module_version": "1.2.0",
       "_view_module_version": "1.2.0",
       "justify_items": null,
       "object_fit": null,
       "object_position": null
      }
     },
     "99047fc07ae54c7281fc65f6c2a550d5": {
      "model_module": "@jupyter-widgets/controls",
      "model_module_version": "1.5.0",
      "model_name": "IntSliderModel",
      "state": {
       "_model_module_version": "1.5.0",
       "_view_module_version": "1.5.0",
       "layout": "IPY_MODEL_7c25464acd44441398844d8c64a23bae",
       "max": 266,
       "min": 1,
       "style": "IPY_MODEL_6544601c77ff4f5e83a7a744ee92e4ba",
       "value": 1
      }
     },
     "99071af2f0fa4b51a5e2ba8bf62afdde": {
      "model_module": "@jupyter-widgets/base",
      "model_module_version": "1.2.0",
      "model_name": "LayoutModel",
      "state": {
       "_model_module_version": "1.2.0",
       "_view_module_version": "1.2.0",
       "justify_items": null,
       "object_fit": null,
       "object_position": null
      }
     },
     "992ca0a5574c4b62bfa360d370843aef": {
      "model_module": "@jupyter-widgets/controls",
      "model_module_version": "1.5.0",
      "model_name": "LabelModel",
      "state": {
       "_model_module_version": "1.5.0",
       "_view_module_version": "1.5.0",
       "layout": "IPY_MODEL_681f72edcf0c47c984bff8d6acddbd1c",
       "style": "IPY_MODEL_451a26b6a2f54e83aa73dd3a07638f20"
      }
     },
     "993b220eb821411bba6b1767b717aa90": {
      "model_module": "@jupyter-widgets/base",
      "model_module_version": "1.2.0",
      "model_name": "LayoutModel",
      "state": {
       "_model_module_version": "1.2.0",
       "_view_module_version": "1.2.0",
       "justify_items": null,
       "object_fit": null,
       "object_position": null
      }
     },
     "99560f5dc6c94e2cb6f39659d1b88b42": {
      "model_module": "@jupyter-widgets/base",
      "model_module_version": "1.2.0",
      "model_name": "LayoutModel",
      "state": {
       "_model_module_version": "1.2.0",
       "_view_module_version": "1.2.0",
       "grid_area": "top-right",
       "justify_items": null,
       "object_fit": null,
       "object_position": null
      }
     },
     "9a0da1ba296744288a913fe0022f8023": {
      "model_module": "@jupyter-widgets/base",
      "model_module_version": "1.2.0",
      "model_name": "LayoutModel",
      "state": {
       "_model_module_version": "1.2.0",
       "_view_module_version": "1.2.0",
       "justify_items": null,
       "object_fit": null,
       "object_position": null
      }
     },
     "9a769e14744143c9b3e7c951ac8fb75f": {
      "model_module": "@jupyter-widgets/base",
      "model_module_version": "1.2.0",
      "model_name": "LayoutModel",
      "state": {
       "_model_module_version": "1.2.0",
       "_view_module_version": "1.2.0",
       "justify_items": null,
       "object_fit": null,
       "object_position": null
      }
     },
     "9a7f4b9bf0cc4924ac19adb073f70ddc": {
      "model_module": "@jupyter-widgets/controls",
      "model_module_version": "1.5.0",
      "model_name": "DescriptionStyleModel",
      "state": {
       "_model_module_version": "1.5.0",
       "_view_module_version": "1.2.0",
       "description_width": ""
      }
     },
     "9adb4443d896494dab5c7a91c159928e": {
      "model_module": "@jupyter-widgets/output",
      "model_module_version": "1.0.0",
      "model_name": "OutputModel",
      "state": {
       "layout": "IPY_MODEL_e19eb1dcede44921998c36038974b61d",
       "outputs": [
        {
         "data": {
          "image/png": "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\n",
          "text/plain": "<Figure size 432x288 with 1 Axes>"
         },
         "metadata": {
          "needs_background": "light"
         },
         "output_type": "display_data"
        }
       ]
      }
     },
     "9bb4632cd77f4f5190c8442eba778267": {
      "model_module": "@jupyter-widgets/controls",
      "model_module_version": "1.5.0",
      "model_name": "DescriptionStyleModel",
      "state": {
       "_model_module_version": "1.5.0",
       "_view_module_version": "1.2.0",
       "description_width": ""
      }
     },
     "9bde1097819742adaef3f28da660c5fc": {
      "model_module": "@jupyter-widgets/controls",
      "model_module_version": "1.5.0",
      "model_name": "DropdownModel",
      "state": {
       "_model_module_version": "1.5.0",
       "_options_labels": [
        "text",
        "text_translated",
        "media",
        "source",
        "mode",
        "num_persons",
        "_timestamp",
        "confidence",
        "source_reliability",
        "locations",
        "origin_bool",
        "origin",
        "destination",
        "geom_tweet",
        "triage_status"
       ],
       "_view_module_version": "1.5.0",
       "index": 0,
       "layout": "IPY_MODEL_19af0e8d78cf47938296b78da9f2cd14",
       "style": "IPY_MODEL_2b084487299c4c69ad60f902759e2350"
      }
     },
     "9bfc48e562514581a6aa07036f5f990d": {
      "model_module": "@jupyter-widgets/controls",
      "model_module_version": "1.5.0",
      "model_name": "DescriptionStyleModel",
      "state": {
       "_model_module_version": "1.5.0",
       "_view_module_version": "1.2.0",
       "description_width": ""
      }
     },
     "9c524a9b6f2f41a5bd8533fa57770d53": {
      "model_module": "@jupyter-widgets/controls",
      "model_module_version": "1.5.0",
      "model_name": "DescriptionStyleModel",
      "state": {
       "_model_module_version": "1.5.0",
       "_view_module_version": "1.2.0",
       "description_width": ""
      }
     },
     "9c6338a5634e479092f525204aad4a18": {
      "model_module": "@jupyter-widgets/controls",
      "model_module_version": "1.5.0",
      "model_name": "HTMLModel",
      "state": {
       "_model_module_version": "1.5.0",
       "_view_module_version": "1.5.0",
       "layout": "IPY_MODEL_59a90aead39a41918a4d014f443e358d",
       "style": "IPY_MODEL_1e265a8d068245b78690f322686801bc",
       "value": "Deselect with ctrl + click"
      }
     },
     "9c8f957bd91a4522a548c8d5f4395275": {
      "model_module": "@jupyter-widgets/controls",
      "model_module_version": "1.5.0",
      "model_name": "DescriptionStyleModel",
      "state": {
       "_model_module_version": "1.5.0",
       "_view_module_version": "1.2.0",
       "description_width": ""
      }
     },
     "9c96e0b34ad146baafbce2718df60dfa": {
      "model_module": "@jupyter-widgets/base",
      "model_module_version": "1.2.0",
      "model_name": "LayoutModel",
      "state": {
       "_model_module_version": "1.2.0",
       "_view_module_version": "1.2.0",
       "justify_items": null,
       "object_fit": null,
       "object_position": null
      }
     },
     "9d27238a5d1a4f12b916e6206014dba9": {
      "model_module": "@jupyter-widgets/controls",
      "model_module_version": "1.5.0",
      "model_name": "ButtonModel",
      "state": {
       "_model_module_version": "1.5.0",
       "_view_module_version": "1.5.0",
       "icon": "chevron-left",
       "layout": "IPY_MODEL_dc7c1220ac43410eb24e9c71e6c88507",
       "style": "IPY_MODEL_16153c4427bb40a297adcb8a9678f383"
      }
     },
     "9d2e8dc0de964a39b1a2a2b97ddcec49": {
      "model_module": "@jupyter-widgets/controls",
      "model_module_version": "1.5.0",
      "model_name": "LabelModel",
      "state": {
       "_model_module_version": "1.5.0",
       "_view_module_version": "1.5.0",
       "layout": "IPY_MODEL_43c5aed1662d4a758a0b8420205c5b18",
       "style": "IPY_MODEL_dc03ed5743c240698895c8ac6c346bb5",
       "value": "50 rows"
      }
     },
     "9d6e445b3f564384a1db44d9c3675446": {
      "model_module": "@jupyter-widgets/controls",
      "model_module_version": "1.5.0",
      "model_name": "GridBoxModel",
      "state": {
       "_model_module_version": "1.5.0",
       "_view_module_version": "1.5.0",
       "children": [
        "IPY_MODEL_b6f70f02850d4b5390b31047807b4b86",
        "IPY_MODEL_f2c694d68903489ea9e6d1bd32b4bed7"
       ],
       "layout": "IPY_MODEL_c4ac6870a60a424f9ae8a169d6381328"
      }
     },
     "9d722427919546af889145f3cd85f234": {
      "model_module": "@jupyter-widgets/controls",
      "model_module_version": "1.5.0",
      "model_name": "HTMLModel",
      "state": {
       "_model_module_version": "1.5.0",
       "_view_module_version": "1.5.0",
       "layout": "IPY_MODEL_d6fa42e70d73429e8b9537ad41a75aa0",
       "style": "IPY_MODEL_1aebb7a6a90445eaa31007d9fbf9c0ab",
       "value": "Deselect with ctrl + click"
      }
     },
     "9d76e7972d614b62b3bc1d213277a08f": {
      "model_module": "@jupyter-widgets/controls",
      "model_module_version": "1.5.0",
      "model_name": "LabelModel",
      "state": {
       "_model_module_version": "1.5.0",
       "_view_module_version": "1.5.0",
       "layout": "IPY_MODEL_3b0b10b296144f2ba9b4da9424041151",
       "style": "IPY_MODEL_f1ab20924ae5442c808eeea2f47d12bd",
       "value": "of 5 pages with "
      }
     },
     "9db0aed7649b4ebe87a5e7b9dd0fa144": {
      "model_module": "@jupyter-widgets/base",
      "model_module_version": "1.2.0",
      "model_name": "LayoutModel",
      "state": {
       "_model_module_version": "1.2.0",
       "_view_module_version": "1.2.0",
       "grid_area": "top-left",
       "justify_items": null,
       "object_fit": null,
       "object_position": null
      }
     },
     "9dbdfc3f021a4c889732f52b03de5051": {
      "model_module": "@jupyter-widgets/controls",
      "model_module_version": "1.5.0",
      "model_name": "DescriptionStyleModel",
      "state": {
       "_model_module_version": "1.5.0",
       "_view_module_version": "1.2.0",
       "description_width": ""
      }
     },
     "9df5731b51c14e92a84484c08bff23e7": {
      "model_module": "@jupyter-widgets/base",
      "model_module_version": "1.2.0",
      "model_name": "LayoutModel",
      "state": {
       "_model_module_version": "1.2.0",
       "_view_module_version": "1.2.0",
       "justify_items": null,
       "object_fit": null,
       "object_position": null
      }
     },
     "9e1e6cc33d164df9a9bddb3b7875e1e0": {
      "model_module": "@jupyter-widgets/controls",
      "model_module_version": "1.5.0",
      "model_name": "DropdownModel",
      "state": {
       "_model_module_version": "1.5.0",
       "_options_labels": [
        "text",
        "text_translated",
        "media",
        "source",
        "mode",
        "num_persons",
        "_timestamp",
        "confidence",
        "source_reliability",
        "locations",
        "origin_bool",
        "origin",
        "destination",
        "geom_tweet",
        "triage_status"
       ],
       "_view_module_version": "1.5.0",
       "description": "order by",
       "index": 0,
       "layout": "IPY_MODEL_741d3f959d07419fa67a514af286723b",
       "style": "IPY_MODEL_c62831c5720544299eb5d025fafb3f08"
      }
     },
     "9e500f10aaf44b11bf49d15bdfa39f9a": {
      "model_module": "@jupyter-widgets/controls",
      "model_module_version": "1.5.0",
      "model_name": "DescriptionStyleModel",
      "state": {
       "_model_module_version": "1.5.0",
       "_view_module_version": "1.2.0",
       "description_width": ""
      }
     },
     "9e666ec128584c12a7355dcf3c6c263a": {
      "model_module": "@jupyter-widgets/controls",
      "model_module_version": "1.5.0",
      "model_name": "DropdownModel",
      "state": {
       "_model_module_version": "1.5.0",
       "_options_labels": [
        "text",
        "text_translated",
        "media",
        "source",
        "mode",
        "num_persons",
        "_timestamp",
        "confidence",
        "source_reliability",
        "locations",
        "origin_bool",
        "origin",
        "destination",
        "geom_tweet",
        "triage_status"
       ],
       "_view_module_version": "1.5.0",
       "index": 0,
       "layout": "IPY_MODEL_1e5572e486d14b39a5a7a7a806ebeadb",
       "style": "IPY_MODEL_011b00cfb4384d9e86a0844cb4c6601b"
      }
     },
     "9e73768f5e8b484ab7f9e508d044b685": {
      "model_module": "@jupyter-widgets/controls",
      "model_module_version": "1.5.0",
      "model_name": "DescriptionStyleModel",
      "state": {
       "_model_module_version": "1.5.0",
       "_view_module_version": "1.2.0",
       "description_width": ""
      }
     },
     "9e90f749d9c8454ab23955d1b0c7d7b3": {
      "model_module": "@jupyter-widgets/controls",
      "model_module_version": "1.5.0",
      "model_name": "DescriptionStyleModel",
      "state": {
       "_model_module_version": "1.5.0",
       "_view_module_version": "1.2.0",
       "description_width": ""
      }
     },
     "9ed0a1a6c39f44fa8edce930774116bc": {
      "model_module": "@jupyter-widgets/controls",
      "model_module_version": "1.5.0",
      "model_name": "VBoxModel",
      "state": {
       "_model_module_version": "1.5.0",
       "_view_module_version": "1.5.0",
       "children": [
        "IPY_MODEL_bbbd1c21f8a64ebe9fe9c1567d75c4ba",
        "IPY_MODEL_a1b082a97a88476fb0e5913faff9869b",
        "IPY_MODEL_6c784f2f5c3e46049418fe40df60d628"
       ],
       "layout": "IPY_MODEL_aac34260cadf4a4dad3cf25e1c414724"
      }
     },
     "9ede9a853c9944ae86f63f54ec044666": {
      "model_module": "@jupyter-widgets/controls",
      "model_module_version": "1.5.0",
      "model_name": "SelectMultipleModel",
      "state": {
       "_model_module_version": "1.5.0",
       "_options_labels": [
        "text",
        "text_translated",
        "media",
        "source",
        "mode",
        "num_persons",
        "_timestamp",
        "confidence",
        "source_reliability",
        "locations",
        "origin_bool",
        "origin",
        "destination",
        "geom_tweet",
        "triage_status"
       ],
       "_view_module_version": "1.5.0",
       "index": [],
       "layout": "IPY_MODEL_fb72bcbbee51408d96cc24bd8a1f2bad",
       "rows": 5,
       "style": "IPY_MODEL_e40d9edf5fc741728b4786894125166d"
      }
     },
     "9ee78e0c2f7341aa97357ccec8cb1713": {
      "model_module": "@jupyter-widgets/base",
      "model_module_version": "1.2.0",
      "model_name": "LayoutModel",
      "state": {
       "_model_module_version": "1.2.0",
       "_view_module_version": "1.2.0",
       "justify_items": null,
       "object_fit": null,
       "object_position": null
      }
     },
     "9eff0e75419f4aa4b3a71046d86e2854": {
      "model_module": "@jupyter-widgets/base",
      "model_module_version": "1.2.0",
      "model_name": "LayoutModel",
      "state": {
       "_model_module_version": "1.2.0",
       "_view_module_version": "1.2.0",
       "justify_items": null,
       "object_fit": null,
       "object_position": null,
       "width": "20%"
      }
     },
     "9f01628811ac4b318f0c125316d580db": {
      "model_module": "@jupyter-widgets/controls",
      "model_module_version": "1.5.0",
      "model_name": "ButtonModel",
      "state": {
       "_model_module_version": "1.5.0",
       "_view_module_version": "1.5.0",
       "icon": "chevron-left",
       "layout": "IPY_MODEL_e1e42f0722a54d64a2804274c3d41708",
       "style": "IPY_MODEL_1bce8f6193fc43f19ada7115d0b4bd3c"
      }
     },
     "9f3400ece751418da2ec473fc366e092": {
      "model_module": "@jupyter-widgets/controls",
      "model_module_version": "1.5.0",
      "model_name": "DropdownModel",
      "state": {
       "_model_module_version": "1.5.0",
       "_options_labels": [
        "text",
        "text_translated",
        "media",
        "source",
        "mode",
        "num_persons",
        "_timestamp",
        "confidence",
        "source_reliability",
        "locations",
        "origin_bool",
        "origin",
        "destination",
        "geom_tweet",
        "triage_status"
       ],
       "_view_module_version": "1.5.0",
       "index": 0,
       "layout": "IPY_MODEL_5aa4f09e68b04a4197bc6082c01f6d93",
       "style": "IPY_MODEL_0f4e62a391094b95a1cdcbac9db55081"
      }
     },
     "9f47c982f6bf4d09992e3ba0c92b8c55": {
      "model_module": "@jupyter-widgets/controls",
      "model_module_version": "1.5.0",
      "model_name": "DescriptionStyleModel",
      "state": {
       "_model_module_version": "1.5.0",
       "_view_module_version": "1.2.0",
       "description_width": ""
      }
     },
     "9faf9df951e94db6bb94173a1e7389ee": {
      "model_module": "@jupyter-widgets/controls",
      "model_module_version": "1.5.0",
      "model_name": "DescriptionStyleModel",
      "state": {
       "_model_module_version": "1.5.0",
       "_view_module_version": "1.2.0",
       "description_width": ""
      }
     },
     "a02c45bc511d4396b85520b92846b028": {
      "model_module": "@jupyter-widgets/base",
      "model_module_version": "1.2.0",
      "model_name": "LayoutModel",
      "state": {
       "_model_module_version": "1.2.0",
       "_view_module_version": "1.2.0",
       "justify_items": null,
       "object_fit": null,
       "object_position": null
      }
     },
     "a05a9ba432ea493db2fc06ee9e4a79f4": {
      "model_module": "@jupyter-widgets/controls",
      "model_module_version": "1.5.0",
      "model_name": "HTMLModel",
      "state": {
       "_model_module_version": "1.5.0",
       "_view_module_version": "1.5.0",
       "layout": "IPY_MODEL_762c61bdbbcf420b99db318a848668f9",
       "style": "IPY_MODEL_9dbdfc3f021a4c889732f52b03de5051",
       "value": "<h3>Sorting</h3>"
      }
     },
     "a066e859cd5449dfbcb17fb466dbcc2e": {
      "model_module": "@jupyter-widgets/controls",
      "model_module_version": "1.5.0",
      "model_name": "LabelModel",
      "state": {
       "_model_module_version": "1.5.0",
       "_view_module_version": "1.5.0",
       "layout": "IPY_MODEL_b9acb904627542f8a1c84785daf1dd1e",
       "style": "IPY_MODEL_9faf9df951e94db6bb94173a1e7389ee",
       "value": "2654 rows"
      }
     },
     "a0939a42129f49d9b022f55a1d50e9c4": {
      "model_module": "@jupyter-widgets/controls",
      "model_module_version": "1.5.0",
      "model_name": "DescriptionStyleModel",
      "state": {
       "_model_module_version": "1.5.0",
       "_view_module_version": "1.2.0",
       "description_width": ""
      }
     },
     "a0e984b0957949edb4208037b2270006": {
      "model_module": "@jupyter-widgets/controls",
      "model_module_version": "1.5.0",
      "model_name": "DescriptionStyleModel",
      "state": {
       "_model_module_version": "1.5.0",
       "_view_module_version": "1.2.0",
       "description_width": ""
      }
     },
     "a101e672f3704c9fb4d097dbd8445685": {
      "model_module": "@jupyter-widgets/base",
      "model_module_version": "1.2.0",
      "model_name": "LayoutModel",
      "state": {
       "_model_module_version": "1.2.0",
       "_view_module_version": "1.2.0",
       "grid_area": "top-left",
       "justify_items": null,
       "object_fit": null,
       "object_position": null
      }
     },
     "a104beae6d2144afa99999efe8da7564": {
      "model_module": "@jupyter-widgets/controls",
      "model_module_version": "1.5.0",
      "model_name": "DropdownModel",
      "state": {
       "_model_module_version": "1.5.0",
       "_options_labels": [
        "text",
        "text_translated",
        "media",
        "source",
        "mode",
        "num_persons",
        "_timestamp",
        "confidence",
        "source_reliability",
        "locations",
        "origin_bool",
        "origin",
        "destination",
        "geom_tweet",
        "triage_status"
       ],
       "_view_module_version": "1.5.0",
       "description": "order by",
       "index": 0,
       "layout": "IPY_MODEL_98d923a5db8a4b7584d973181cfeaf2c",
       "style": "IPY_MODEL_52b4006980414e108009ad751457e58b"
      }
     },
     "a163b99707714ddca311eba8a169b325": {
      "model_module": "@jupyter-widgets/base",
      "model_module_version": "1.2.0",
      "model_name": "LayoutModel",
      "state": {
       "_model_module_version": "1.2.0",
       "_view_module_version": "1.2.0",
       "justify_items": null,
       "object_fit": null,
       "object_position": null
      }
     },
     "a1803309afa84c0ca4c76cc482622e61": {
      "model_module": "@jupyter-widgets/controls",
      "model_module_version": "1.5.0",
      "model_name": "HTMLModel",
      "state": {
       "_model_module_version": "1.5.0",
       "_view_module_version": "1.5.0",
       "layout": "IPY_MODEL_277c0e1b29154afebb7c5b026e11647a",
       "style": "IPY_MODEL_7a9288bf653449529cbe5f09045e506e",
       "value": "<h3>Searching</h3>"
      }
     },
     "a1ad96e8b38e49d1b1ceae8fa627eaa5": {
      "model_module": "@jupyter-widgets/controls",
      "model_module_version": "1.5.0",
      "model_name": "HBoxModel",
      "state": {
       "_model_module_version": "1.5.0",
       "_view_module_version": "1.5.0",
       "children": [
        "IPY_MODEL_916555db9a3644658018ae6a96b73477",
        "IPY_MODEL_cd894768422541b98f4511387291d9fc",
        "IPY_MODEL_cc67ed92960b4ff98c27efd34d69ff71"
       ],
       "layout": "IPY_MODEL_9c96e0b34ad146baafbce2718df60dfa"
      }
     },
     "a1b082a97a88476fb0e5913faff9869b": {
      "model_module": "@jupyter-widgets/controls",
      "model_module_version": "1.5.0",
      "model_name": "DropdownModel",
      "state": {
       "_model_module_version": "1.5.0",
       "_options_labels": [
        "text",
        "text_translated",
        "media",
        "source",
        "mode",
        "num_persons",
        "_timestamp",
        "confidence",
        "source_reliability",
        "locations",
        "origin_bool",
        "origin",
        "destination",
        "geom_tweet",
        "triage_status"
       ],
       "_view_module_version": "1.5.0",
       "index": 0,
       "layout": "IPY_MODEL_72fc6f76622d463697100303378fb563",
       "style": "IPY_MODEL_ca1678558910457dbc45931953e4156c"
      }
     },
     "a1f4a85464b944d5b4476cf5dea60736": {
      "model_module": "@jupyter-widgets/controls",
      "model_module_version": "1.5.0",
      "model_name": "ToggleButtonModel",
      "state": {
       "_model_module_version": "1.5.0",
       "_view_module_version": "1.5.0",
       "description": "ascending",
       "layout": "IPY_MODEL_d74e68ddbe044c68988f83f0fdaf1ea9",
       "style": "IPY_MODEL_b90db98d890a4b15953fd8e7cc59122c",
       "value": true
      }
     },
     "a2463b7aea194a629f180e47f74875d8": {
      "model_module": "@jupyter-widgets/base",
      "model_module_version": "1.2.0",
      "model_name": "LayoutModel",
      "state": {
       "_model_module_version": "1.2.0",
       "_view_module_version": "1.2.0",
       "justify_items": null,
       "object_fit": null,
       "object_position": null,
       "width": "30px"
      }
     },
     "a2b99600bc1b43ceb97f5864aee12ff0": {
      "model_module": "@jupyter-widgets/controls",
      "model_module_version": "1.5.0",
      "model_name": "ButtonModel",
      "state": {
       "_model_module_version": "1.5.0",
       "_view_module_version": "1.5.0",
       "description": "save",
       "layout": "IPY_MODEL_c338005f7d1e4b5ab9a28c99280ffd79",
       "style": "IPY_MODEL_4cd6fb1ddfa94ea7a4d8deb9547f3ce7"
      }
     },
     "a3013904b5124b24b6803e9e6485c7fa": {
      "model_module": "@jupyter-widgets/base",
      "model_module_version": "1.2.0",
      "model_name": "LayoutModel",
      "state": {
       "_model_module_version": "1.2.0",
       "_view_module_version": "1.2.0",
       "justify_items": null,
       "object_fit": null,
       "object_position": null,
       "width": "60%"
      }
     },
     "a35801dd83c94398a33d10007767ee79": {
      "model_module": "@jupyter-widgets/base",
      "model_module_version": "1.2.0",
      "model_name": "LayoutModel",
      "state": {
       "_model_module_version": "1.2.0",
       "_view_module_version": "1.2.0",
       "justify_items": null,
       "object_fit": null,
       "object_position": null
      }
     },
     "a35da2f594ea49db893b1111a1e1488b": {
      "model_module": "@jupyter-widgets/controls",
      "model_module_version": "1.5.0",
      "model_name": "LabelModel",
      "state": {
       "_model_module_version": "1.5.0",
       "_view_module_version": "1.5.0",
       "layout": "IPY_MODEL_c8913018a1e34f2a8ce8ecdad2057c9c",
       "style": "IPY_MODEL_fae1bf4eaccf4d93966313e70375abc9",
       "value": "2654 rows"
      }
     },
     "a3620fa83e54493495c937f43b76c39d": {
      "model_module": "@jupyter-widgets/controls",
      "model_module_version": "1.5.0",
      "model_name": "ButtonStyleModel",
      "state": {
       "_model_module_version": "1.5.0",
       "_view_module_version": "1.2.0"
      }
     },
     "a38864c764904bf18e8bf4a6d6226f8c": {
      "model_module": "@jupyter-widgets/controls",
      "model_module_version": "1.5.0",
      "model_name": "DescriptionStyleModel",
      "state": {
       "_model_module_version": "1.5.0",
       "_view_module_version": "1.2.0",
       "description_width": ""
      }
     },
     "a462eff63e2042fd8016d1dca6ecd687": {
      "model_module": "@jupyter-widgets/base",
      "model_module_version": "1.2.0",
      "model_name": "LayoutModel",
      "state": {
       "_model_module_version": "1.2.0",
       "_view_module_version": "1.2.0",
       "justify_items": null,
       "object_fit": null,
       "object_position": null
      }
     },
     "a490d2509c284aaab5e36211d3bfd9e8": {
      "model_module": "@jupyter-widgets/output",
      "model_module_version": "1.0.0",
      "model_name": "OutputModel",
      "state": {
       "layout": "IPY_MODEL_f1f7e78b5e324896996c0a649f48396d",
       "outputs": [
        {
         "data": {
          "text/html": "<div>\n<style scoped>\n    .dataframe tbody tr th:only-of-type {\n        vertical-align: middle;\n    }\n\n    .dataframe tbody tr th {\n        vertical-align: top;\n    }\n\n    .dataframe thead th {\n        text-align: right;\n    }\n</style>\n<table border=\"1\" class=\"dataframe\">\n  <thead>\n    <tr style=\"text-align: right;\">\n      <th></th>\n      <th>text</th>\n      <th>text_translated</th>\n      <th>media</th>\n      <th>source</th>\n      <th>mode</th>\n      <th>num_persons</th>\n      <th>_timestamp</th>\n      <th>confidence</th>\n      <th>source_reliability</th>\n      <th>locations</th>\n      <th>origin_bool</th>\n      <th>origin</th>\n      <th>destination</th>\n      <th>geom_tweet</th>\n      <th>triage_status</th>\n    </tr>\n    <tr>\n      <th>uniqueid</th>\n      <th></th>\n      <th></th>\n      <th></th>\n      <th></th>\n      <th></th>\n      <th></th>\n      <th></th>\n      <th></th>\n      <th></th>\n      <th></th>\n      <th></th>\n      <th></th>\n      <th></th>\n      <th></th>\n      <th></th>\n    </tr>\n  </thead>\n  <tbody>\n    <tr>\n      <th>969</th>\n      <td>\"En Macédoine, les migrants remplissent les trains pour la Serbie - AFP\" en replay sur Android TV Replay http://t.co/k8LZQkCzNh</td>\n      <td>in macedonia migrants fill trains for serbia afp in replay on android tv replay</td>\n      <td>NaN</td>\n      <td>twitter</td>\n      <td>train</td>\n      <td>NaN</td>\n      <td>2019-09-12 04:08:04.000000</td>\n      <td>0.63</td>\n      <td>0.12</td>\n      <td>['macedonia', 'serbia']</td>\n      <td>NaN</td>\n      <td>NaN</td>\n      <td>NaN</td>\n      <td>0101000000575BB1BFEC6E35400000000000004540</td>\n      <td>NaN</td>\n    </tr>\n    <tr>\n      <th>795</th>\n      <td>\"Macedonia, ancora frontiere chiuse. I migranti passano dal filo spinato\" - http://t.co/lt7wNeffC7 http://t.co/jvg5cMgDxk</td>\n      <td>macedonia still closed borders migrants pass by barbed wire</td>\n      <td>['http://pbs.twimg.com/media/CNBxOh7WoAAP-zV.jpg']</td>\n      <td>twitter</td>\n      <td>NaN</td>\n      <td>NaN</td>\n      <td>2019-09-14 16:50:53.000000</td>\n      <td>0.81</td>\n      <td>0.04</td>\n      <td>['macedonia']</td>\n      <td>NaN</td>\n      <td>NaN</td>\n      <td>NaN</td>\n      <td>0101000000575BB1BFEC6E35400000000000004540</td>\n      <td>NaN</td>\n    </tr>\n    <tr>\n      <th>1158</th>\n      <td>\"More than 130,000 #migrants have attempted to cross the Mediterranean in 2015\"  http://t.co/ZOvpUsTx1d</td>\n      <td>more than 130 000 migrants have attempted to cross the mediterranean in 2015</td>\n      <td>NaN</td>\n      <td>twitter</td>\n      <td>NaN</td>\n      <td>NaN</td>\n      <td>2019-07-26 17:47:04.000000</td>\n      <td>0.53</td>\n      <td>0.94</td>\n      <td>[]</td>\n      <td>NaN</td>\n      <td>NaN</td>\n      <td>NaN</td>\n      <td>NaN</td>\n      <td>NaN</td>\n    </tr>\n    <tr>\n      <th>2364</th>\n      <td>\"On Thursday Slovenia reported that 12,000 migrants had arrived in one day - a record in the current crisis in Central Europe.\" - BBC</td>\n      <td>on thursday slovenia reported that 12 000 migrants had arrived in one day a record in the current crisis in central europe bbc</td>\n      <td>NaN</td>\n      <td>twitter</td>\n      <td>NaN</td>\n      <td>NaN</td>\n      <td>2019-11-15 21:14:00.000000</td>\n      <td>0.93</td>\n      <td>0.23</td>\n      <td>['slovenia']</td>\n      <td>NaN</td>\n      <td>NaN</td>\n      <td>NaN</td>\n      <td>0101000000151DC9E53F042D402CD49AE61D074740</td>\n      <td>NaN</td>\n    </tr>\n    <tr>\n      <th>1137</th>\n      <td>\"With Tel Abyad secured, the Syrian Kurds have managed to forge a corridor between Cezire and Kobani. On Monday,... http://t.co/iJDle1SzwW</td>\n      <td>with tel abyad secured the syrian kurds have managed to forge a corridor between cezire and kobani on monday</td>\n      <td>NaN</td>\n      <td>twitter</td>\n      <td>NaN</td>\n      <td>NaN</td>\n      <td>2019-07-10 16:24:53.000000</td>\n      <td>0.71</td>\n      <td>0.24</td>\n      <td>['syria']</td>\n      <td>NaN</td>\n      <td>NaN</td>\n      <td>NaN</td>\n      <td>0101000000E8D9ACFA5C254240EFC9C342ADC14040</td>\n      <td>NaN</td>\n    </tr>\n    <tr>\n      <th>574</th>\n      <td>#2015 Франция закрывает границу с Италией http://t.co/O77dBheZKv</td>\n      <td>2015 france closes the border with italy</td>\n      <td>NaN</td>\n      <td>twitter</td>\n      <td>NaN</td>\n      <td>2015.0</td>\n      <td>2019-07-09 09:59:43.000000</td>\n      <td>0.62</td>\n      <td>1.00</td>\n      <td>['france', 'italy']</td>\n      <td>NaN</td>\n      <td>NaN</td>\n      <td>NaN</td>\n      <td>NaN</td>\n      <td>NaN</td>\n    </tr>\n    <tr>\n      <th>2041</th>\n      <td>#AFP Slovenia to send back train from Croatia carrying 150 migrants - AFP: Slovenia to send back train from Cr... http://t.co/zNEN4XLp7h</td>\n      <td>afp slovenia to send back train from croatia carrying 150 migrants afp slovenia to send back train from cr</td>\n      <td>NaN</td>\n      <td>twitter</td>\n      <td>train</td>\n      <td>150.0</td>\n      <td>2019-10-11 17:14:05.000000</td>\n      <td>0.99</td>\n      <td>0.26</td>\n      <td>['slovenia', 'croatia']</td>\n      <td>NaN</td>\n      <td>HR0</td>\n      <td>NaN</td>\n      <td>0101000000151DC9E53F042D402CD49AE61D074740</td>\n      <td>NaN</td>\n    </tr>\n    <tr>\n      <th>253</th>\n      <td>#AUSTRIA #STANDARD #WIEN broadcastetd by #TheIsraelCompany: Kommentar von Michael Völker - Die Flüchtlinge und ihr... http://t.co/MAn0lwR3vI</td>\n      <td>austria standard vienna broadcastetd by theisraelcompany comment by michael völker the refugees and their</td>\n      <td>NaN</td>\n      <td>twitter</td>\n      <td>NaN</td>\n      <td>NaN</td>\n      <td>2019-09-22 16:16:11.000000</td>\n      <td>0.67</td>\n      <td>0.05</td>\n      <td>['austria', 'vienna', 'israel']</td>\n      <td>NaN</td>\n      <td>NaN</td>\n      <td>NaN</td>\n      <td>010100000076711B0DE05D30409A99999999194840</td>\n      <td>NaN</td>\n    </tr>\n    <tr>\n      <th>397</th>\n      <td>#AUSTRIA #STANDARD #WIEN broadcastetd by #TheIsraelCompany: Syrien - Putin schließt Einsatz von Bodentruppen in Sy... http://t.co/LGKZhvK6c2</td>\n      <td>austria standard vienna broadcastetd by theisraelcompany syria putin closes deployment of ground forces in sy</td>\n      <td>NaN</td>\n      <td>twitter</td>\n      <td>NaN</td>\n      <td>NaN</td>\n      <td>2019-10-21 04:15:59.000000</td>\n      <td>0.51</td>\n      <td>0.06</td>\n      <td>['austria', 'vienna', 'israel', 'syria']</td>\n      <td>NaN</td>\n      <td>NaN</td>\n      <td>NaN</td>\n      <td>010100000076711B0DE05D30409A99999999194840</td>\n      <td>NaN</td>\n    </tr>\n    <tr>\n      <th>959</th>\n      <td>#Afrique La longue marche des migrants qui franchissent les Alpes à pied http://t.co/Way1hlrjE9</td>\n      <td>africa the long march of migrants crossing the alps on foot</td>\n      <td>NaN</td>\n      <td>twitter</td>\n      <td>on foot</td>\n      <td>NaN</td>\n      <td>2019-07-24 11:43:36.000000</td>\n      <td>0.55</td>\n      <td>0.49</td>\n      <td>[]</td>\n      <td>NaN</td>\n      <td>NaN</td>\n      <td>NaN</td>\n      <td>NaN</td>\n      <td>NaN</td>\n    </tr>\n  </tbody>\n</table>\n</div>",
          "text/plain": "                                                                                                                                                  text  \\\nuniqueid                                                                                                                                                 \n969       \"En Macédoine, les migrants remplissent les trains pour la Serbie - AFP\" en replay sur Android TV Replay http://t.co/k8LZQkCzNh                \n795       \"Macedonia, ancora frontiere chiuse. I migranti passano dal filo spinato\" - http://t.co/lt7wNeffC7 http://t.co/jvg5cMgDxk                      \n1158      \"More than 130,000 #migrants have attempted to cross the Mediterranean in 2015\"  http://t.co/ZOvpUsTx1d                                        \n2364      \"On Thursday Slovenia reported that 12,000 migrants had arrived in one day - a record in the current crisis in Central Europe.\" - BBC          \n1137      \"With Tel Abyad secured, the Syrian Kurds have managed to forge a corridor between Cezire and Kobani. On Monday,... http://t.co/iJDle1SzwW     \n574       #2015 Франция закрывает границу с Италией http://t.co/O77dBheZKv                                                                               \n2041      #AFP Slovenia to send back train from Croatia carrying 150 migrants - AFP: Slovenia to send back train from Cr... http://t.co/zNEN4XLp7h       \n253       #AUSTRIA #STANDARD #WIEN broadcastetd by #TheIsraelCompany: Kommentar von Michael Völker - Die Flüchtlinge und ihr... http://t.co/MAn0lwR3vI   \n397       #AUSTRIA #STANDARD #WIEN broadcastetd by #TheIsraelCompany: Syrien - Putin schließt Einsatz von Bodentruppen in Sy... http://t.co/LGKZhvK6c2   \n959       #Afrique La longue marche des migrants qui franchissent les Alpes à pied http://t.co/Way1hlrjE9                                                \n\n                                                                                                                         text_translated  \\\nuniqueid                                                                                                                                   \n969       in macedonia migrants fill trains for serbia afp in replay on android tv replay                                                  \n795       macedonia still closed borders migrants pass by barbed wire                                                                      \n1158      more than 130 000 migrants have attempted to cross the mediterranean in 2015                                                     \n2364      on thursday slovenia reported that 12 000 migrants had arrived in one day a record in the current crisis in central europe bbc   \n1137      with tel abyad secured the syrian kurds have managed to forge a corridor between cezire and kobani on monday                     \n574       2015 france closes the border with italy                                                                                         \n2041      afp slovenia to send back train from croatia carrying 150 migrants afp slovenia to send back train from cr                       \n253       austria standard vienna broadcastetd by theisraelcompany comment by michael völker the refugees and their                        \n397       austria standard vienna broadcastetd by theisraelcompany syria putin closes deployment of ground forces in sy                    \n959       africa the long march of migrants crossing the alps on foot                                                                      \n\n                                                       media   source  \\\nuniqueid                                                                \n969       NaN                                                 twitter   \n795       ['http://pbs.twimg.com/media/CNBxOh7WoAAP-zV.jpg']  twitter   \n1158      NaN                                                 twitter   \n2364      NaN                                                 twitter   \n1137      NaN                                                 twitter   \n574       NaN                                                 twitter   \n2041      NaN                                                 twitter   \n253       NaN                                                 twitter   \n397       NaN                                                 twitter   \n959       NaN                                                 twitter   \n\n             mode  num_persons                  _timestamp  confidence  \\\nuniqueid                                                                 \n969       train   NaN           2019-09-12 04:08:04.000000  0.63         \n795       NaN     NaN           2019-09-14 16:50:53.000000  0.81         \n1158      NaN     NaN           2019-07-26 17:47:04.000000  0.53         \n2364      NaN     NaN           2019-11-15 21:14:00.000000  0.93         \n1137      NaN     NaN           2019-07-10 16:24:53.000000  0.71         \n574       NaN      2015.0       2019-07-09 09:59:43.000000  0.62         \n2041      train    150.0        2019-10-11 17:14:05.000000  0.99         \n253       NaN     NaN           2019-09-22 16:16:11.000000  0.67         \n397       NaN     NaN           2019-10-21 04:15:59.000000  0.51         \n959       on foot NaN           2019-07-24 11:43:36.000000  0.55         \n\n          source_reliability                                 locations  \\\nuniqueid                                                                 \n969       0.12                ['macedonia', 'serbia']                    \n795       0.04                ['macedonia']                              \n1158      0.94                []                                         \n2364      0.23                ['slovenia']                               \n1137      0.24                ['syria']                                  \n574       1.00                ['france', 'italy']                        \n2041      0.26                ['slovenia', 'croatia']                    \n253       0.05                ['austria', 'vienna', 'israel']            \n397       0.06                ['austria', 'vienna', 'israel', 'syria']   \n959       0.49                []                                         \n\n          origin_bool origin destination  \\\nuniqueid                                   \n969      NaN           NaN    NaN          \n795      NaN           NaN    NaN          \n1158     NaN           NaN    NaN          \n2364     NaN           NaN    NaN          \n1137     NaN           NaN    NaN          \n574      NaN           NaN    NaN          \n2041     NaN           HR0    NaN          \n253      NaN           NaN    NaN          \n397      NaN           NaN    NaN          \n959      NaN           NaN    NaN          \n\n                                          geom_tweet  triage_status  \nuniqueid                                                             \n969       0101000000575BB1BFEC6E35400000000000004540 NaN             \n795       0101000000575BB1BFEC6E35400000000000004540 NaN             \n1158      NaN                                        NaN             \n2364      0101000000151DC9E53F042D402CD49AE61D074740 NaN             \n1137      0101000000E8D9ACFA5C254240EFC9C342ADC14040 NaN             \n574       NaN                                        NaN             \n2041      0101000000151DC9E53F042D402CD49AE61D074740 NaN             \n253       010100000076711B0DE05D30409A99999999194840 NaN             \n397       010100000076711B0DE05D30409A99999999194840 NaN             \n959       NaN                                        NaN             "
         },
         "metadata": {},
         "output_type": "display_data"
        }
       ]
      }
     },
     "a4993c5606944908a441f25fb81b0ce7": {
      "model_module": "@jupyter-widgets/controls",
      "model_module_version": "1.5.0",
      "model_name": "DescriptionStyleModel",
      "state": {
       "_model_module_version": "1.5.0",
       "_view_module_version": "1.2.0",
       "description_width": ""
      }
     },
     "a4b8a1fce33c484da2d6d83f91c262f3": {
      "model_module": "@jupyter-widgets/controls",
      "model_module_version": "1.5.0",
      "model_name": "HBoxModel",
      "state": {
       "_model_module_version": "1.5.0",
       "_view_module_version": "1.5.0",
       "children": [
        "IPY_MODEL_732c060275cb4f42b711f0c6646b441b",
        "IPY_MODEL_8eaaf7b35fa3487c98260289e54d9565",
        "IPY_MODEL_ded2e0602ecd48388a78d53a8e3444e6"
       ],
       "layout": "IPY_MODEL_07ff9add0bd1442284245fc119f77038"
      }
     },
     "a60dc68378b04bdea9b6340a071bbc25": {
      "model_module": "@jupyter-widgets/controls",
      "model_module_version": "1.5.0",
      "model_name": "VBoxModel",
      "state": {
       "_model_module_version": "1.5.0",
       "_view_module_version": "1.5.0",
       "children": [
        "IPY_MODEL_52ed365f749e472c8acb31ce1306aadc",
        "IPY_MODEL_d597fe2b076c4c0d9ed741e07e9507a8",
        "IPY_MODEL_97a73abcd8ea4abea63a467e53eb78b9"
       ],
       "layout": "IPY_MODEL_0e9ddf77e2ed48fc9272e76976eed4da"
      }
     },
     "a63bb68b52624934b8117043cffb2ba4": {
      "model_module": "@jupyter-widgets/base",
      "model_module_version": "1.2.0",
      "model_name": "LayoutModel",
      "state": {
       "_model_module_version": "1.2.0",
       "_view_module_version": "1.2.0",
       "justify_items": null,
       "object_fit": null,
       "object_position": null
      }
     },
     "a6586d58b7524a32835a182883d51c40": {
      "model_module": "@jupyter-widgets/base",
      "model_module_version": "1.2.0",
      "model_name": "LayoutModel",
      "state": {
       "_model_module_version": "1.2.0",
       "_view_module_version": "1.2.0",
       "justify_items": null,
       "object_fit": null,
       "object_position": null
      }
     },
     "a68c1b8e7d9548a388ce7bc28ad2dd8d": {
      "model_module": "@jupyter-widgets/base",
      "model_module_version": "1.2.0",
      "model_name": "LayoutModel",
      "state": {
       "_model_module_version": "1.2.0",
       "_view_module_version": "1.2.0",
       "justify_items": null,
       "object_fit": null,
       "object_position": null
      }
     },
     "a698f4fa016a46fe80a851355df3ba05": {
      "model_module": "@jupyter-widgets/controls",
      "model_module_version": "1.5.0",
      "model_name": "HTMLModel",
      "state": {
       "_model_module_version": "1.5.0",
       "_view_module_version": "1.5.0",
       "layout": "IPY_MODEL_84f434a64fba46de8c12d6781d5ff1df",
       "style": "IPY_MODEL_b29c7637a8e0471c99f9d593d319f762",
       "value": "<h3>Sorting</h3>"
      }
     },
     "a69eff4109b240c2bee3179b1e94d033": {
      "model_module": "@jupyter-widgets/controls",
      "model_module_version": "1.5.0",
      "model_name": "HBoxModel",
      "state": {
       "_model_module_version": "1.5.0",
       "_view_module_version": "1.5.0",
       "children": [
        "IPY_MODEL_7de8b576efde40fc906d8ecdd87ee69d",
        "IPY_MODEL_c60c63f723814b6294948dbca8247aa3"
       ],
       "layout": "IPY_MODEL_fef21c4516cc4444ba04c125c11ec698"
      }
     },
     "a6c2e7d4e7df40309d348222b11c605f": {
      "model_module": "@jupyter-widgets/base",
      "model_module_version": "1.2.0",
      "model_name": "LayoutModel",
      "state": {
       "_model_module_version": "1.2.0",
       "_view_module_version": "1.2.0",
       "justify_items": null,
       "object_fit": null,
       "object_position": null
      }
     },
     "a6d1acedb3144468b4a4790ad5bb9544": {
      "model_module": "@jupyter-widgets/base",
      "model_module_version": "1.2.0",
      "model_name": "LayoutModel",
      "state": {
       "_model_module_version": "1.2.0",
       "_view_module_version": "1.2.0",
       "justify_items": null,
       "object_fit": null,
       "object_position": null
      }
     },
     "a6f5752ea7ce4ce6b6f94fc0b1a1de84": {
      "model_module": "@jupyter-widgets/controls",
      "model_module_version": "1.5.0",
      "model_name": "HTMLModel",
      "state": {
       "_model_module_version": "1.5.0",
       "_view_module_version": "1.5.0",
       "layout": "IPY_MODEL_ef0862cbb8414b8e9543f16aef08e512",
       "style": "IPY_MODEL_7c5b0a078585431bac0a856e801185f1",
       "value": "Deselect with ctrl + click"
      }
     },
     "a744b7fe9fa4477dab18c927c4047b3b": {
      "model_module": "@jupyter-widgets/controls",
      "model_module_version": "1.5.0",
      "model_name": "DescriptionStyleModel",
      "state": {
       "_model_module_version": "1.5.0",
       "_view_module_version": "1.2.0",
       "description_width": ""
      }
     },
     "a77ca67a12be46e0bbfe5f25903a8ba2": {
      "model_module": "@jupyter-widgets/base",
      "model_module_version": "1.2.0",
      "model_name": "LayoutModel",
      "state": {
       "_model_module_version": "1.2.0",
       "_view_module_version": "1.2.0",
       "justify_items": null,
       "object_fit": null,
       "object_position": null
      }
     },
     "a7989ddf901349bf996a14988d0fecc8": {
      "model_module": "@jupyter-widgets/base",
      "model_module_version": "1.2.0",
      "model_name": "LayoutModel",
      "state": {
       "_model_module_version": "1.2.0",
       "_view_module_version": "1.2.0",
       "justify_items": null,
       "object_fit": null,
       "object_position": null,
       "width": "30px"
      }
     },
     "a7f4cb7379134dabb64c5383545a3985": {
      "model_module": "@jupyter-widgets/base",
      "model_module_version": "1.2.0",
      "model_name": "LayoutModel",
      "state": {
       "_model_module_version": "1.2.0",
       "_view_module_version": "1.2.0",
       "justify_items": null,
       "object_fit": null,
       "object_position": null
      }
     },
     "a802aae72fd345e9b31517db92342a41": {
      "model_module": "@jupyter-widgets/base",
      "model_module_version": "1.2.0",
      "model_name": "LayoutModel",
      "state": {
       "_model_module_version": "1.2.0",
       "_view_module_version": "1.2.0",
       "justify_items": null,
       "object_fit": null,
       "object_position": null,
       "width": "20%"
      }
     },
     "a8100c1fa93042e7bd93586edd084bc1": {
      "model_module": "@jupyter-widgets/controls",
      "model_module_version": "1.5.0",
      "model_name": "DropdownModel",
      "state": {
       "_model_module_version": "1.5.0",
       "_options_labels": [
        "text",
        "text_translated",
        "media",
        "source",
        "mode",
        "num_persons",
        "_timestamp",
        "confidence",
        "source_reliability",
        "locations",
        "origin_bool",
        "origin",
        "destination",
        "geom_tweet",
        "triage_status"
       ],
       "_view_module_version": "1.5.0",
       "description": "order by",
       "index": 0,
       "layout": "IPY_MODEL_5ee293a435c94b0dad08cf5b4e232036",
       "style": "IPY_MODEL_f2d7a453795c4ec6b2fa73395a3ce2b7"
      }
     },
     "a8af0b2c1a99470592c3c1f4a135ce77": {
      "model_module": "@jupyter-widgets/controls",
      "model_module_version": "1.5.0",
      "model_name": "DescriptionStyleModel",
      "state": {
       "_model_module_version": "1.5.0",
       "_view_module_version": "1.2.0",
       "description_width": ""
      }
     },
     "a8ba7171035346af8194396cd915d651": {
      "model_module": "@jupyter-widgets/base",
      "model_module_version": "1.2.0",
      "model_name": "LayoutModel",
      "state": {
       "_model_module_version": "1.2.0",
       "_view_module_version": "1.2.0",
       "justify_items": null,
       "object_fit": null,
       "object_position": null
      }
     },
     "a8ea15173ab84088a0495f9c033bfd81": {
      "model_module": "@jupyter-widgets/base",
      "model_module_version": "1.2.0",
      "model_name": "LayoutModel",
      "state": {
       "_model_module_version": "1.2.0",
       "_view_module_version": "1.2.0",
       "justify_items": null,
       "object_fit": null,
       "object_position": null
      }
     },
     "a8fff95c44234928afe02a42c2c99202": {
      "model_module": "@jupyter-widgets/controls",
      "model_module_version": "1.5.0",
      "model_name": "DescriptionStyleModel",
      "state": {
       "_model_module_version": "1.5.0",
       "_view_module_version": "1.2.0",
       "description_width": ""
      }
     },
     "a91a0bbfd0054ff2be2bdfe8b95458fd": {
      "model_module": "@jupyter-widgets/base",
      "model_module_version": "1.2.0",
      "model_name": "LayoutModel",
      "state": {
       "_model_module_version": "1.2.0",
       "_view_module_version": "1.2.0",
       "justify_items": null,
       "object_fit": null,
       "object_position": null
      }
     },
     "a98d0d2f3bf04e93a619e8123faf42ad": {
      "model_module": "@jupyter-widgets/controls",
      "model_module_version": "1.5.0",
      "model_name": "SelectMultipleModel",
      "state": {
       "_model_module_version": "1.5.0",
       "_options_labels": [
        "text",
        "text_translated",
        "media",
        "source",
        "mode",
        "num_persons",
        "_timestamp",
        "confidence",
        "source_reliability",
        "locations",
        "origin_bool",
        "origin",
        "destination",
        "geom_tweet",
        "triage_status"
       ],
       "_view_module_version": "1.5.0",
       "index": [],
       "layout": "IPY_MODEL_c459899b1b064c00ad7db8584b6196aa",
       "rows": 5,
       "style": "IPY_MODEL_f585f84899a04177bfe4c1092766994e"
      }
     },
     "a9c3ec96efcd419cac7edcc192876a61": {
      "model_module": "@jupyter-widgets/base",
      "model_module_version": "1.2.0",
      "model_name": "LayoutModel",
      "state": {
       "_model_module_version": "1.2.0",
       "_view_module_version": "1.2.0",
       "justify_items": null,
       "object_fit": null,
       "object_position": null
      }
     },
     "a9e74bd6aa384dfb9283f0825051f936": {
      "model_module": "@jupyter-widgets/controls",
      "model_module_version": "1.5.0",
      "model_name": "ButtonStyleModel",
      "state": {
       "_model_module_version": "1.5.0",
       "_view_module_version": "1.2.0"
      }
     },
     "aa1b49193944480998b25b1883ba5fa4": {
      "model_module": "@jupyter-widgets/controls",
      "model_module_version": "1.5.0",
      "model_name": "GridBoxModel",
      "state": {
       "_model_module_version": "1.5.0",
       "_view_module_version": "1.5.0",
       "children": [
        "IPY_MODEL_8d709282f4f74b6ba6466f2f166810a0",
        "IPY_MODEL_12e15726980b475ead89a1565a1caa75"
       ],
       "layout": "IPY_MODEL_1ed6d909314c48e199f3bc588ede3afd"
      }
     },
     "aac34260cadf4a4dad3cf25e1c414724": {
      "model_module": "@jupyter-widgets/base",
      "model_module_version": "1.2.0",
      "model_name": "LayoutModel",
      "state": {
       "_model_module_version": "1.2.0",
       "_view_module_version": "1.2.0",
       "grid_area": "top-right",
       "justify_items": null,
       "object_fit": null,
       "object_position": null
      }
     },
     "aadde14178e0423b99aa7699cc009bf1": {
      "model_module": "@jupyter-widgets/controls",
      "model_module_version": "1.5.0",
      "model_name": "DescriptionStyleModel",
      "state": {
       "_model_module_version": "1.5.0",
       "_view_module_version": "1.2.0",
       "description_width": ""
      }
     },
     "aaf5c488c829496bbffd20f1ba84344e": {
      "model_module": "@jupyter-widgets/controls",
      "model_module_version": "1.5.0",
      "model_name": "DescriptionStyleModel",
      "state": {
       "_model_module_version": "1.5.0",
       "_view_module_version": "1.2.0",
       "description_width": ""
      }
     },
     "ab7c7d399aa847d7b9268e67405ae256": {
      "model_module": "@jupyter-widgets/controls",
      "model_module_version": "1.5.0",
      "model_name": "DescriptionStyleModel",
      "state": {
       "_model_module_version": "1.5.0",
       "_view_module_version": "1.2.0",
       "description_width": ""
      }
     },
     "abe0f12ae4ea42f099605705a5a8ad44": {
      "model_module": "@jupyter-widgets/controls",
      "model_module_version": "1.5.0",
      "model_name": "VBoxModel",
      "state": {
       "_model_module_version": "1.5.0",
       "_view_module_version": "1.5.0",
       "children": [
        "IPY_MODEL_2c6a7dd1368a49e3840df0126e9aba63",
        "IPY_MODEL_7becc8037dda4887b6f532b443978d4e"
       ],
       "layout": "IPY_MODEL_d5955380304842678c9755d9aa32d1a7"
      }
     },
     "ac4b11d68511405e883d4c8d0468a04d": {
      "model_module": "@jupyter-widgets/base",
      "model_module_version": "1.2.0",
      "model_name": "LayoutModel",
      "state": {
       "_model_module_version": "1.2.0",
       "_view_module_version": "1.2.0",
       "justify_items": null,
       "object_fit": null,
       "object_position": null
      }
     },
     "ac9928bbf3c2477e857a195333af6e50": {
      "model_module": "@jupyter-widgets/controls",
      "model_module_version": "1.5.0",
      "model_name": "DescriptionStyleModel",
      "state": {
       "_model_module_version": "1.5.0",
       "_view_module_version": "1.2.0",
       "description_width": ""
      }
     },
     "ace5d7a658b2442a82f53872b6258d19": {
      "model_module": "@jupyter-widgets/controls",
      "model_module_version": "1.5.0",
      "model_name": "ButtonStyleModel",
      "state": {
       "_model_module_version": "1.5.0",
       "_view_module_version": "1.2.0"
      }
     },
     "ae005d8758da4d43a97fa6089cf11039": {
      "model_module": "@jupyter-widgets/controls",
      "model_module_version": "1.5.0",
      "model_name": "VBoxModel",
      "state": {
       "_model_module_version": "1.5.0",
       "_view_module_version": "1.5.0",
       "children": [
        "IPY_MODEL_5c23a4591a8447c4a103392ede0d97bd",
        "IPY_MODEL_591a51c2cb854310b5d85d8dad7ee4f2"
       ],
       "layout": "IPY_MODEL_b8585c57470248bd9bcc6179f4c00479"
      }
     },
     "ae3dc1acffb443d9acd37ed4ade1f35c": {
      "model_module": "@jupyter-widgets/controls",
      "model_module_version": "1.5.0",
      "model_name": "DescriptionStyleModel",
      "state": {
       "_model_module_version": "1.5.0",
       "_view_module_version": "1.2.0",
       "description_width": ""
      }
     },
     "ae7cfc3b8ca44a09a5e47c2198d97a88": {
      "model_module": "@jupyter-widgets/controls",
      "model_module_version": "1.5.0",
      "model_name": "DescriptionStyleModel",
      "state": {
       "_model_module_version": "1.5.0",
       "_view_module_version": "1.2.0",
       "description_width": ""
      }
     },
     "af29bdd093854b8e93c10f14ad35e07b": {
      "model_module": "@jupyter-widgets/controls",
      "model_module_version": "1.5.0",
      "model_name": "LabelModel",
      "state": {
       "_model_module_version": "1.5.0",
       "_view_module_version": "1.5.0",
       "layout": "IPY_MODEL_b3b64d91589b41309770d66048d57cc3",
       "style": "IPY_MODEL_b0d1fbd6bb82436c8760a1edec4375cf",
       "value": "Plot Columns"
      }
     },
     "af87606422e54ee5a74ee4c342cbc3f1": {
      "model_module": "@jupyter-widgets/base",
      "model_module_version": "1.2.0",
      "model_name": "LayoutModel",
      "state": {
       "_model_module_version": "1.2.0",
       "_view_module_version": "1.2.0",
       "justify_items": null,
       "object_fit": null,
       "object_position": null
      }
     },
     "afd561b65a18492dbb9890bf488c0014": {
      "model_module": "@jupyter-widgets/base",
      "model_module_version": "1.2.0",
      "model_name": "LayoutModel",
      "state": {
       "_model_module_version": "1.2.0",
       "_view_module_version": "1.2.0",
       "justify_items": null,
       "object_fit": null,
       "object_position": null
      }
     },
     "afe54a6d469647379824bdf80174f8ca": {
      "model_module": "@jupyter-widgets/controls",
      "model_module_version": "1.5.0",
      "model_name": "LabelModel",
      "state": {
       "_model_module_version": "1.5.0",
       "_view_module_version": "1.5.0",
       "layout": "IPY_MODEL_94291886605343ea95d5b96e7f826b69",
       "style": "IPY_MODEL_f3293dfc75f5499eb839383eacf87125",
       "value": "Search Columns"
      }
     },
     "b01917d6b82e45a6bd646f7617a02570": {
      "model_module": "@jupyter-widgets/base",
      "model_module_version": "1.2.0",
      "model_name": "LayoutModel",
      "state": {
       "_model_module_version": "1.2.0",
       "_view_module_version": "1.2.0",
       "justify_items": null,
       "object_fit": null,
       "object_position": null
      }
     },
     "b09cf9f657194a0fa128a3c13c652631": {
      "model_module": "@jupyter-widgets/base",
      "model_module_version": "1.2.0",
      "model_name": "LayoutModel",
      "state": {
       "_model_module_version": "1.2.0",
       "_view_module_version": "1.2.0",
       "justify_items": null,
       "object_fit": null,
       "object_position": null
      }
     },
     "b0d1fbd6bb82436c8760a1edec4375cf": {
      "model_module": "@jupyter-widgets/controls",
      "model_module_version": "1.5.0",
      "model_name": "DescriptionStyleModel",
      "state": {
       "_model_module_version": "1.5.0",
       "_view_module_version": "1.2.0",
       "description_width": ""
      }
     },
     "b10dc5f5c3344adabf1aa288f0fba63e": {
      "model_module": "@jupyter-widgets/controls",
      "model_module_version": "1.5.0",
      "model_name": "DescriptionStyleModel",
      "state": {
       "_model_module_version": "1.5.0",
       "_view_module_version": "1.2.0",
       "description_width": ""
      }
     },
     "b121d6776dff45ddabce671271663083": {
      "model_module": "@jupyter-widgets/base",
      "model_module_version": "1.2.0",
      "model_name": "LayoutModel",
      "state": {
       "_model_module_version": "1.2.0",
       "_view_module_version": "1.2.0",
       "justify_items": null,
       "object_fit": null,
       "object_position": null
      }
     },
     "b142a033a22f4f28933c4e1faf72ce47": {
      "model_module": "@jupyter-widgets/base",
      "model_module_version": "1.2.0",
      "model_name": "LayoutModel",
      "state": {
       "_model_module_version": "1.2.0",
       "_view_module_version": "1.2.0",
       "justify_items": null,
       "object_fit": null,
       "object_position": null,
       "width": "60%"
      }
     },
     "b1721398cfab4fb0a04a8ec2bd180516": {
      "model_module": "@jupyter-widgets/controls",
      "model_module_version": "1.5.0",
      "model_name": "LabelModel",
      "state": {
       "_model_module_version": "1.5.0",
       "_view_module_version": "1.5.0",
       "layout": "IPY_MODEL_3e6595b7b96d4bfb99164350df101f5e",
       "style": "IPY_MODEL_001b4cc4cc074380b5b50e4680554409",
       "value": "2654 rows"
      }
     },
     "b1ae3b188a484b0386a90f911db3c751": {
      "model_module": "@jupyter-widgets/controls",
      "model_module_version": "1.5.0",
      "model_name": "GridBoxModel",
      "state": {
       "_model_module_version": "1.5.0",
       "_view_module_version": "1.5.0",
       "children": [
        "IPY_MODEL_b608afc288334274ad81acda10404769",
        "IPY_MODEL_3df782d5a3c34ca0923b350513952fb6"
       ],
       "layout": "IPY_MODEL_25d01df0ac8c4eb7bf40e0c6e3e06db1"
      }
     },
     "b1d3db1740614fa2834c1cdb8d15af04": {
      "model_module": "@jupyter-widgets/controls",
      "model_module_version": "1.5.0",
      "model_name": "DescriptionStyleModel",
      "state": {
       "_model_module_version": "1.5.0",
       "_view_module_version": "1.2.0",
       "description_width": ""
      }
     },
     "b26dc945cb114c4385328071f7a43658": {
      "model_module": "@jupyter-widgets/base",
      "model_module_version": "1.2.0",
      "model_name": "LayoutModel",
      "state": {
       "_model_module_version": "1.2.0",
       "_view_module_version": "1.2.0",
       "justify_items": null,
       "object_fit": null,
       "object_position": null
      }
     },
     "b2714a4891ed4f27baf15451c5e61fb5": {
      "model_module": "@jupyter-widgets/base",
      "model_module_version": "1.2.0",
      "model_name": "LayoutModel",
      "state": {
       "_model_module_version": "1.2.0",
       "_view_module_version": "1.2.0",
       "justify_items": null,
       "object_fit": null,
       "object_position": null
      }
     },
     "b2996f3dfccb445484a1f8196b4394ef": {
      "model_module": "@jupyter-widgets/controls",
      "model_module_version": "1.5.0",
      "model_name": "SliderStyleModel",
      "state": {
       "_model_module_version": "1.5.0",
       "_view_module_version": "1.2.0",
       "description_width": ""
      }
     },
     "b29c7637a8e0471c99f9d593d319f762": {
      "model_module": "@jupyter-widgets/controls",
      "model_module_version": "1.5.0",
      "model_name": "DescriptionStyleModel",
      "state": {
       "_model_module_version": "1.5.0",
       "_view_module_version": "1.2.0",
       "description_width": ""
      }
     },
     "b2ebd485620740ffbaf45f59f8a2b007": {
      "model_module": "@jupyter-widgets/controls",
      "model_module_version": "1.5.0",
      "model_name": "TextModel",
      "state": {
       "_model_module_version": "1.5.0",
       "_view_module_version": "1.5.0",
       "layout": "IPY_MODEL_e8c8aa125eb34e9d8186d5909ebb45e2",
       "style": "IPY_MODEL_cdde2eef370b4afdb8fdd9e861a16ab9"
      }
     },
     "b3080ce1ffd048cb871d105f85956ce3": {
      "model_module": "@jupyter-widgets/controls",
      "model_module_version": "1.5.0",
      "model_name": "DescriptionStyleModel",
      "state": {
       "_model_module_version": "1.5.0",
       "_view_module_version": "1.2.0",
       "description_width": ""
      }
     },
     "b35b4ebd8c4643b1ab6fe033520feeba": {
      "model_module": "@jupyter-widgets/base",
      "model_module_version": "1.2.0",
      "model_name": "LayoutModel",
      "state": {
       "_model_module_version": "1.2.0",
       "_view_module_version": "1.2.0",
       "justify_items": null,
       "object_fit": null,
       "object_position": null
      }
     },
     "b385db7948fd41fb87412d292053a8e2": {
      "model_module": "@jupyter-widgets/base",
      "model_module_version": "1.2.0",
      "model_name": "LayoutModel",
      "state": {
       "_model_module_version": "1.2.0",
       "_view_module_version": "1.2.0",
       "justify_items": null,
       "object_fit": null,
       "object_position": null
      }
     },
     "b3b64d91589b41309770d66048d57cc3": {
      "model_module": "@jupyter-widgets/base",
      "model_module_version": "1.2.0",
      "model_name": "LayoutModel",
      "state": {
       "_model_module_version": "1.2.0",
       "_view_module_version": "1.2.0",
       "justify_items": null,
       "object_fit": null,
       "object_position": null
      }
     },
     "b4026c8e3a0e4a41940f68eae2ee97d5": {
      "model_module": "@jupyter-widgets/controls",
      "model_module_version": "1.5.0",
      "model_name": "HBoxModel",
      "state": {
       "_model_module_version": "1.5.0",
       "_view_module_version": "1.5.0",
       "children": [
        "IPY_MODEL_0b3b13bc684640bba550e41befa58089",
        "IPY_MODEL_c37ed7c9a2ed4792917d2edae4facaa8",
        "IPY_MODEL_2959ba7837404075846dffe1c602cbbf"
       ],
       "layout": "IPY_MODEL_f07cf75a4cbe41b1b5ee9667d621928e"
      }
     },
     "b481c2fbf0f54cd3a7e62353648702b3": {
      "model_module": "@jupyter-widgets/controls",
      "model_module_version": "1.5.0",
      "model_name": "HTMLModel",
      "state": {
       "_model_module_version": "1.5.0",
       "_view_module_version": "1.5.0",
       "layout": "IPY_MODEL_15f6e910864e4c42ba77e05cd06fd8aa",
       "style": "IPY_MODEL_6a9d235504ee4c16b892e3f8fde32fd8",
       "value": "<h3>Sorting</h3>"
      }
     },
     "b4ec08ac81024ca5be70b2e6c990dd09": {
      "model_module": "@jupyter-widgets/controls",
      "model_module_version": "1.5.0",
      "model_name": "DropdownModel",
      "state": {
       "_model_module_version": "1.5.0",
       "_options_labels": [
        "text",
        "text_translated",
        "media",
        "source",
        "mode",
        "num_persons",
        "_timestamp",
        "confidence",
        "source_reliability",
        "locations",
        "origin_bool",
        "origin",
        "destination",
        "geom_tweet",
        "triage_status"
       ],
       "_view_module_version": "1.5.0",
       "index": 0,
       "layout": "IPY_MODEL_91f87a2e5cfa4f1e862f36c9b8a0369a",
       "style": "IPY_MODEL_7471dedfd6bf41e1b3b2f14fe36df6ea"
      }
     },
     "b4f30192026e498eacb701f1280f7666": {
      "model_module": "@jupyter-widgets/base",
      "model_module_version": "1.2.0",
      "model_name": "LayoutModel",
      "state": {
       "_model_module_version": "1.2.0",
       "_view_module_version": "1.2.0",
       "justify_items": null,
       "object_fit": null,
       "object_position": null,
       "width": "60%"
      }
     },
     "b4f7126777214d2d8dc645d3d7d2d15b": {
      "model_module": "@jupyter-widgets/base",
      "model_module_version": "1.2.0",
      "model_name": "LayoutModel",
      "state": {
       "_model_module_version": "1.2.0",
       "_view_module_version": "1.2.0",
       "justify_items": null,
       "object_fit": null,
       "object_position": null
      }
     },
     "b608afc288334274ad81acda10404769": {
      "model_module": "@jupyter-widgets/controls",
      "model_module_version": "1.5.0",
      "model_name": "VBoxModel",
      "state": {
       "_model_module_version": "1.5.0",
       "_view_module_version": "1.5.0",
       "children": [
        "IPY_MODEL_1e35ead5feb7494fa78c86f0a789708c",
        "IPY_MODEL_b4ec08ac81024ca5be70b2e6c990dd09",
        "IPY_MODEL_23cd3a1a28f4471c829d83184171dc53"
       ],
       "layout": "IPY_MODEL_70f2124c4bf8467c815a46f601526ec4"
      }
     },
     "b65d00325f2a4237b8d5d95cadd3dd39": {
      "model_module": "@jupyter-widgets/base",
      "model_module_version": "1.2.0",
      "model_name": "LayoutModel",
      "state": {
       "_model_module_version": "1.2.0",
       "_view_module_version": "1.2.0",
       "justify_items": null,
       "object_fit": null,
       "object_position": null
      }
     },
     "b675a1d6ebfe425e9067e8aa2e4b835c": {
      "model_module": "@jupyter-widgets/base",
      "model_module_version": "1.2.0",
      "model_name": "LayoutModel",
      "state": {
       "_model_module_version": "1.2.0",
       "_view_module_version": "1.2.0",
       "justify_items": null,
       "object_fit": null,
       "object_position": null
      }
     },
     "b683e96a7c384564bf45f3e5ef20d1f0": {
      "model_module": "@jupyter-widgets/controls",
      "model_module_version": "1.5.0",
      "model_name": "VBoxModel",
      "state": {
       "_model_module_version": "1.5.0",
       "_view_module_version": "1.5.0",
       "children": [
        "IPY_MODEL_067d83108f464bcd90175735772c3bbf",
        "IPY_MODEL_07784e5c55364c9dadb26ad47de53345",
        "IPY_MODEL_32d71af08f744a9db645ac30958d714d"
       ],
       "layout": "IPY_MODEL_4e75fca71f5e463583d250170094a1d3"
      }
     },
     "b6f70f02850d4b5390b31047807b4b86": {
      "model_module": "@jupyter-widgets/controls",
      "model_module_version": "1.5.0",
      "model_name": "VBoxModel",
      "state": {
       "_model_module_version": "1.5.0",
       "_view_module_version": "1.5.0",
       "children": [
        "IPY_MODEL_597187e5c6da44cabc67db32127bc779",
        "IPY_MODEL_953b18192f344798887d4f0a3baf7a25",
        "IPY_MODEL_76d2a06198744ed9832c875c74ed7196"
       ],
       "layout": "IPY_MODEL_4d509261279940e6b161dfc6697cabd4"
      }
     },
     "b7b8242b1b4a4f8e9fac53b3895ff282": {
      "model_module": "@jupyter-widgets/controls",
      "model_module_version": "1.5.0",
      "model_name": "DescriptionStyleModel",
      "state": {
       "_model_module_version": "1.5.0",
       "_view_module_version": "1.2.0",
       "description_width": ""
      }
     },
     "b8163d29418e4542bb468ad09e952e60": {
      "model_module": "@jupyter-widgets/base",
      "model_module_version": "1.2.0",
      "model_name": "LayoutModel",
      "state": {
       "_model_module_version": "1.2.0",
       "_view_module_version": "1.2.0",
       "justify_items": null,
       "object_fit": null,
       "object_position": null
      }
     },
     "b856922c621b433290844739bc17ac41": {
      "model_module": "@jupyter-widgets/controls",
      "model_module_version": "1.5.0",
      "model_name": "DescriptionStyleModel",
      "state": {
       "_model_module_version": "1.5.0",
       "_view_module_version": "1.2.0",
       "description_width": ""
      }
     },
     "b8585c57470248bd9bcc6179f4c00479": {
      "model_module": "@jupyter-widgets/base",
      "model_module_version": "1.2.0",
      "model_name": "LayoutModel",
      "state": {
       "_model_module_version": "1.2.0",
       "_view_module_version": "1.2.0",
       "justify_items": null,
       "object_fit": null,
       "object_position": null
      }
     },
     "b8d315215a0640afad6f70aa2a01a182": {
      "model_module": "@jupyter-widgets/base",
      "model_module_version": "1.2.0",
      "model_name": "LayoutModel",
      "state": {
       "_model_module_version": "1.2.0",
       "_view_module_version": "1.2.0",
       "justify_items": null,
       "object_fit": null,
       "object_position": null
      }
     },
     "b90db98d890a4b15953fd8e7cc59122c": {
      "model_module": "@jupyter-widgets/controls",
      "model_module_version": "1.5.0",
      "model_name": "DescriptionStyleModel",
      "state": {
       "_model_module_version": "1.5.0",
       "_view_module_version": "1.2.0",
       "description_width": ""
      }
     },
     "b95a2d643c944214ae0a17ba5ec0b458": {
      "model_module": "@jupyter-widgets/controls",
      "model_module_version": "1.5.0",
      "model_name": "LabelModel",
      "state": {
       "_model_module_version": "1.5.0",
       "_view_module_version": "1.5.0",
       "layout": "IPY_MODEL_5cebdb96928f4d1bb8595b460fe61124",
       "style": "IPY_MODEL_de893ebb3a194eccb4047e6492bb85ad",
       "value": "Plot Columns"
      }
     },
     "b9acb904627542f8a1c84785daf1dd1e": {
      "model_module": "@jupyter-widgets/base",
      "model_module_version": "1.2.0",
      "model_name": "LayoutModel",
      "state": {
       "_model_module_version": "1.2.0",
       "_view_module_version": "1.2.0",
       "justify_items": null,
       "object_fit": null,
       "object_position": null
      }
     },
     "ba3f5066a5464d6e92e1b27b62ce9a88": {
      "model_module": "@jupyter-widgets/controls",
      "model_module_version": "1.5.0",
      "model_name": "HBoxModel",
      "state": {
       "_model_module_version": "1.5.0",
       "_view_module_version": "1.5.0",
       "children": [
        "IPY_MODEL_2e3a94374e254526986e581869e0d4a5",
        "IPY_MODEL_43e48e0898c441ffbc856c96df2d4ef0",
        "IPY_MODEL_c95bc1f2d4194652b3d20928c22d45da"
       ],
       "layout": "IPY_MODEL_eeb84495e83c46a5a811b03fce4f15e8"
      }
     },
     "ba96b05f6ee54785af47cd257f0336d7": {
      "model_module": "@jupyter-widgets/base",
      "model_module_version": "1.2.0",
      "model_name": "LayoutModel",
      "state": {
       "_model_module_version": "1.2.0",
       "_view_module_version": "1.2.0",
       "justify_items": null,
       "object_fit": null,
       "object_position": null
      }
     },
     "bb71499b5220463cbc6a7f4bc415ef61": {
      "model_module": "@jupyter-widgets/base",
      "model_module_version": "1.2.0",
      "model_name": "LayoutModel",
      "state": {
       "_model_module_version": "1.2.0",
       "_view_module_version": "1.2.0",
       "justify_items": null,
       "object_fit": null,
       "object_position": null
      }
     },
     "bb781873597d494286a0eaff6ed619b9": {
      "model_module": "@jupyter-widgets/controls",
      "model_module_version": "1.5.0",
      "model_name": "ButtonModel",
      "state": {
       "_model_module_version": "1.5.0",
       "_view_module_version": "1.5.0",
       "icon": "chevron-right",
       "layout": "IPY_MODEL_a2463b7aea194a629f180e47f74875d8",
       "style": "IPY_MODEL_e93706302cc74074854a3a2f8993eec2"
      }
     },
     "bbbd1c21f8a64ebe9fe9c1567d75c4ba": {
      "model_module": "@jupyter-widgets/controls",
      "model_module_version": "1.5.0",
      "model_name": "LabelModel",
      "state": {
       "_model_module_version": "1.5.0",
       "_view_module_version": "1.5.0",
       "layout": "IPY_MODEL_d998070e2410442ab101ad84f8ec7567",
       "style": "IPY_MODEL_aadde14178e0423b99aa7699cc009bf1",
       "value": "Plot Columns"
      }
     },
     "bbc04435ed314ffa825eda9e2d5b5e9f": {
      "model_module": "@jupyter-widgets/controls",
      "model_module_version": "1.5.0",
      "model_name": "LabelModel",
      "state": {
       "_model_module_version": "1.5.0",
       "_view_module_version": "1.5.0",
       "layout": "IPY_MODEL_a6586d58b7524a32835a182883d51c40",
       "style": "IPY_MODEL_492831d23a18439a8cdf9f5b25cb8a23",
       "value": "Plot Columns"
      }
     },
     "bbc41431d27a41c8a3e83a651cb08b7b": {
      "model_module": "@jupyter-widgets/controls",
      "model_module_version": "1.5.0",
      "model_name": "SliderStyleModel",
      "state": {
       "_model_module_version": "1.5.0",
       "_view_module_version": "1.2.0",
       "description_width": ""
      }
     },
     "bc95674d1e55423c815d37d6cb69d5e7": {
      "model_module": "@jupyter-widgets/controls",
      "model_module_version": "1.5.0",
      "model_name": "LabelModel",
      "state": {
       "_model_module_version": "1.5.0",
       "_view_module_version": "1.5.0",
       "layout": "IPY_MODEL_dda3d0971c304f1d9acec723cc6d95fc",
       "style": "IPY_MODEL_8430e7b587b04946bf9bccb29e16da57",
       "value": "of 266 pages with "
      }
     },
     "bd807d69971743f7bf326128e4fd3963": {
      "model_module": "@jupyter-widgets/base",
      "model_module_version": "1.2.0",
      "model_name": "LayoutModel",
      "state": {
       "_model_module_version": "1.2.0",
       "_view_module_version": "1.2.0",
       "justify_items": null,
       "object_fit": null,
       "object_position": null
      }
     },
     "beb7cc3a7f1c455bba4fce0668edd0f9": {
      "model_module": "@jupyter-widgets/base",
      "model_module_version": "1.2.0",
      "model_name": "LayoutModel",
      "state": {
       "_model_module_version": "1.2.0",
       "_view_module_version": "1.2.0",
       "grid_area": "top-left",
       "justify_items": null,
       "object_fit": null,
       "object_position": null
      }
     },
     "becc94a1749f45b9a94e512e9223195f": {
      "model_module": "@jupyter-widgets/controls",
      "model_module_version": "1.5.0",
      "model_name": "DropdownModel",
      "state": {
       "_model_module_version": "1.5.0",
       "_options_labels": [
        "10",
        "20",
        "50"
       ],
       "_view_module_version": "1.5.0",
       "description": "items per page",
       "index": 0,
       "layout": "IPY_MODEL_01f0d6334f7d40098205e04547b1f360",
       "style": "IPY_MODEL_8a56082c671745c282914eeb74e60ed5"
      }
     },
     "bf7b21d224b746258a60b859a83e3636": {
      "model_module": "@jupyter-widgets/base",
      "model_module_version": "1.2.0",
      "model_name": "LayoutModel",
      "state": {
       "_model_module_version": "1.2.0",
       "_view_module_version": "1.2.0",
       "justify_items": null,
       "object_fit": null,
       "object_position": null
      }
     },
     "bf9c818e409c4cac8b2999131f34ede5": {
      "model_module": "@jupyter-widgets/controls",
      "model_module_version": "1.5.0",
      "model_name": "HBoxModel",
      "state": {
       "_model_module_version": "1.5.0",
       "_view_module_version": "1.5.0",
       "children": [
        "IPY_MODEL_6e2e9ab2acf24ceaac6cd30576a4c37f",
        "IPY_MODEL_a2b99600bc1b43ceb97f5864aee12ff0",
        "IPY_MODEL_031a3d18e2df4216b1d56a9a719f2697"
       ],
       "layout": "IPY_MODEL_c4002431a6fa438693b876426ec14615"
      }
     },
     "c012cdee0da049029f525ea337c94f29": {
      "model_module": "@jupyter-widgets/controls",
      "model_module_version": "1.5.0",
      "model_name": "DescriptionStyleModel",
      "state": {
       "_model_module_version": "1.5.0",
       "_view_module_version": "1.2.0",
       "description_width": ""
      }
     },
     "c04e7ee71eb6473fbf263b8d00021931": {
      "model_module": "@jupyter-widgets/base",
      "model_module_version": "1.2.0",
      "model_name": "LayoutModel",
      "state": {
       "_model_module_version": "1.2.0",
       "_view_module_version": "1.2.0",
       "justify_items": null,
       "object_fit": null,
       "object_position": null
      }
     },
     "c1afedd5ad744503838a21b70c0d5565": {
      "model_module": "@jupyter-widgets/controls",
      "model_module_version": "1.5.0",
      "model_name": "HTMLModel",
      "state": {
       "_model_module_version": "1.5.0",
       "_view_module_version": "1.5.0",
       "layout": "IPY_MODEL_60f29135d8ee4fbe961a9da5e5e1dd52",
       "style": "IPY_MODEL_7d27f7b97ad44d48a8d6d447330cd115",
       "value": "Deselect with ctrl + click"
      }
     },
     "c1d8c351f1d7433b8de0d6a6e2eb9796": {
      "model_module": "@jupyter-widgets/controls",
      "model_module_version": "1.5.0",
      "model_name": "IntSliderModel",
      "state": {
       "_model_module_version": "1.5.0",
       "_view_module_version": "1.5.0",
       "layout": "IPY_MODEL_4f5242db5aa248ee924e4e0113a5c799",
       "max": 266,
       "min": 1,
       "style": "IPY_MODEL_bbc41431d27a41c8a3e83a651cb08b7b",
       "value": 1
      }
     },
     "c20654cd9cd6459e8218ce7af4d66ec0": {
      "model_module": "@jupyter-widgets/controls",
      "model_module_version": "1.5.0",
      "model_name": "HTMLModel",
      "state": {
       "_model_module_version": "1.5.0",
       "_view_module_version": "1.5.0",
       "layout": "IPY_MODEL_bb71499b5220463cbc6a7f4bc415ef61",
       "style": "IPY_MODEL_52d0b8afeba44229b393b26797c853ad",
       "value": "<h3>Searching</h3>"
      }
     },
     "c20f93b0c2c94519acb80ce229c2ff8d": {
      "model_module": "@jupyter-widgets/controls",
      "model_module_version": "1.5.0",
      "model_name": "VBoxModel",
      "state": {
       "_model_module_version": "1.5.0",
       "_view_module_version": "1.5.0",
       "children": [
        "IPY_MODEL_b95a2d643c944214ae0a17ba5ec0b458",
        "IPY_MODEL_93a47fd26c1040b7a9fe20fcb70d7793",
        "IPY_MODEL_eabbe2e6cb6442cda3ddbe44ac42df5b"
       ],
       "layout": "IPY_MODEL_4518b4e8f96a4ab3a32d108af2889810"
      }
     },
     "c23512cabfe247faa786a5f1a872a938": {
      "model_module": "@jupyter-widgets/base",
      "model_module_version": "1.2.0",
      "model_name": "LayoutModel",
      "state": {
       "_model_module_version": "1.2.0",
       "_view_module_version": "1.2.0",
       "justify_items": null,
       "object_fit": null,
       "object_position": null
      }
     },
     "c25d7b3fcd8347e7b6c28ca97b8dcf5e": {
      "model_module": "@jupyter-widgets/base",
      "model_module_version": "1.2.0",
      "model_name": "LayoutModel",
      "state": {
       "_model_module_version": "1.2.0",
       "_view_module_version": "1.2.0",
       "justify_items": null,
       "object_fit": null,
       "object_position": null
      }
     },
     "c28dbf6d59d945feafa2cc3eb8d85307": {
      "model_module": "@jupyter-widgets/controls",
      "model_module_version": "1.5.0",
      "model_name": "HTMLModel",
      "state": {
       "_model_module_version": "1.5.0",
       "_view_module_version": "1.5.0",
       "layout": "IPY_MODEL_fbc8e04fcb834a278fe5fc8b27d62c79",
       "style": "IPY_MODEL_dd25e521c450470cac364aab9ac0d2eb",
       "value": "Select multiple by dragging or ctrl + click"
      }
     },
     "c299446f0f044845bd1d370b9fca4c7d": {
      "model_module": "@jupyter-widgets/controls",
      "model_module_version": "1.5.0",
      "model_name": "LabelModel",
      "state": {
       "_model_module_version": "1.5.0",
       "_view_module_version": "1.5.0",
       "layout": "IPY_MODEL_257ef9b21e214ac1a1dde7e3792d2957",
       "style": "IPY_MODEL_7e6a7d05e75f48a3813593454e7efc1d",
       "value": "Plot Columns"
      }
     },
     "c305dbf633f74ab1bbfed9b90bdd3505": {
      "model_module": "@jupyter-widgets/controls",
      "model_module_version": "1.5.0",
      "model_name": "LabelModel",
      "state": {
       "_model_module_version": "1.5.0",
       "_view_module_version": "1.5.0",
       "layout": "IPY_MODEL_fa2af3f242e64576abfc5ce69434646a",
       "style": "IPY_MODEL_808226c627cd4baf93f4d97824752007",
       "value": "of 5 pages with "
      }
     },
     "c334aaf0579f4152a2455577d0cb1132": {
      "model_module": "@jupyter-widgets/base",
      "model_module_version": "1.2.0",
      "model_name": "LayoutModel",
      "state": {
       "_model_module_version": "1.2.0",
       "_view_module_version": "1.2.0",
       "justify_items": null,
       "object_fit": null,
       "object_position": null
      }
     },
     "c338005f7d1e4b5ab9a28c99280ffd79": {
      "model_module": "@jupyter-widgets/base",
      "model_module_version": "1.2.0",
      "model_name": "LayoutModel",
      "state": {
       "_model_module_version": "1.2.0",
       "_view_module_version": "1.2.0",
       "justify_items": null,
       "object_fit": null,
       "object_position": null
      }
     },
     "c365e75ff8a240599610fe92d5fd9fe2": {
      "model_module": "@jupyter-widgets/base",
      "model_module_version": "1.2.0",
      "model_name": "LayoutModel",
      "state": {
       "_model_module_version": "1.2.0",
       "_view_module_version": "1.2.0",
       "justify_items": null,
       "object_fit": null,
       "object_position": null
      }
     },
     "c37ed7c9a2ed4792917d2edae4facaa8": {
      "model_module": "@jupyter-widgets/controls",
      "model_module_version": "1.5.0",
      "model_name": "ToggleButtonModel",
      "state": {
       "_model_module_version": "1.5.0",
       "_view_module_version": "1.5.0",
       "description": "ascending",
       "layout": "IPY_MODEL_6f1569e8543d4c5fb3f51697ff3b829e",
       "style": "IPY_MODEL_4a980ecffc16410ba5498ccb2fa9cc45",
       "value": true
      }
     },
     "c3bc201ecf0d4788bed818fe15bc9133": {
      "model_module": "@jupyter-widgets/base",
      "model_module_version": "1.2.0",
      "model_name": "LayoutModel",
      "state": {
       "_model_module_version": "1.2.0",
       "_view_module_version": "1.2.0",
       "justify_items": null,
       "object_fit": null,
       "object_position": null,
       "width": "60%"
      }
     },
     "c3c94f254646474b831ed5be28364b15": {
      "model_module": "@jupyter-widgets/controls",
      "model_module_version": "1.5.0",
      "model_name": "DescriptionStyleModel",
      "state": {
       "_model_module_version": "1.5.0",
       "_view_module_version": "1.2.0",
       "description_width": ""
      }
     },
     "c3e5cccdf51146d0a6627978ac78d451": {
      "model_module": "@jupyter-widgets/controls",
      "model_module_version": "1.5.0",
      "model_name": "HTMLModel",
      "state": {
       "_model_module_version": "1.5.0",
       "_view_module_version": "1.5.0",
       "layout": "IPY_MODEL_1ce6eaa003f14874919127e59a565e59",
       "style": "IPY_MODEL_6b5a5ede34384f7899cb8d4fb0454056",
       "value": "Deselect with ctrl + click"
      }
     },
     "c3f43700e15a41aa983c1bd12dbf0e00": {
      "model_module": "@jupyter-widgets/controls",
      "model_module_version": "1.5.0",
      "model_name": "ButtonModel",
      "state": {
       "_model_module_version": "1.5.0",
       "_view_module_version": "1.5.0",
       "icon": "chevron-left",
       "layout": "IPY_MODEL_751d979f6146487d94e11a5019fcceba",
       "style": "IPY_MODEL_575529c568b54c8094309bb1c6deae31"
      }
     },
     "c4002431a6fa438693b876426ec14615": {
      "model_module": "@jupyter-widgets/base",
      "model_module_version": "1.2.0",
      "model_name": "LayoutModel",
      "state": {
       "_model_module_version": "1.2.0",
       "_view_module_version": "1.2.0",
       "justify_items": null,
       "object_fit": null,
       "object_position": null
      }
     },
     "c437de8babf14b27b9d495db49986057": {
      "model_module": "@jupyter-widgets/controls",
      "model_module_version": "1.5.0",
      "model_name": "ButtonStyleModel",
      "state": {
       "_model_module_version": "1.5.0",
       "_view_module_version": "1.2.0"
      }
     },
     "c4552745e00a40f2a2a191c6cb952adc": {
      "model_module": "@jupyter-widgets/base",
      "model_module_version": "1.2.0",
      "model_name": "LayoutModel",
      "state": {
       "_model_module_version": "1.2.0",
       "_view_module_version": "1.2.0",
       "justify_items": null,
       "object_fit": null,
       "object_position": null,
       "width": "30px"
      }
     },
     "c459899b1b064c00ad7db8584b6196aa": {
      "model_module": "@jupyter-widgets/base",
      "model_module_version": "1.2.0",
      "model_name": "LayoutModel",
      "state": {
       "_model_module_version": "1.2.0",
       "_view_module_version": "1.2.0",
       "justify_items": null,
       "object_fit": null,
       "object_position": null
      }
     },
     "c49b30bafbb24b2a8210dafe490173b4": {
      "model_module": "@jupyter-widgets/controls",
      "model_module_version": "1.5.0",
      "model_name": "ButtonStyleModel",
      "state": {
       "_model_module_version": "1.5.0",
       "_view_module_version": "1.2.0"
      }
     },
     "c4ac6870a60a424f9ae8a169d6381328": {
      "model_module": "@jupyter-widgets/base",
      "model_module_version": "1.2.0",
      "model_name": "LayoutModel",
      "state": {
       "_model_module_version": "1.2.0",
       "_view_module_version": "1.2.0",
       "grid_template_areas": "\"top-left top-right\"\n\"top-left top-right\"",
       "grid_template_columns": "1fr 1fr",
       "grid_template_rows": "1fr 1fr",
       "justify_items": null,
       "object_fit": null,
       "object_position": null
      }
     },
     "c4ace2c38294474f87bef11ab6fbade8": {
      "model_module": "@jupyter-widgets/controls",
      "model_module_version": "1.5.0",
      "model_name": "TextModel",
      "state": {
       "_model_module_version": "1.5.0",
       "_view_module_version": "1.5.0",
       "layout": "IPY_MODEL_bf7b21d224b746258a60b859a83e3636",
       "style": "IPY_MODEL_8527e43dfc094c74b7b5fbd2770084ae",
       "value": "filtered_data.csv"
      }
     },
     "c4df09b3b6414c928e54d3b8cf36e2cd": {
      "model_module": "@jupyter-widgets/base",
      "model_module_version": "1.2.0",
      "model_name": "LayoutModel",
      "state": {
       "_model_module_version": "1.2.0",
       "_view_module_version": "1.2.0",
       "justify_items": null,
       "object_fit": null,
       "object_position": null
      }
     },
     "c4fc2232d42a4b57a30c86b817334b22": {
      "model_module": "@jupyter-widgets/controls",
      "model_module_version": "1.5.0",
      "model_name": "LabelModel",
      "state": {
       "_model_module_version": "1.5.0",
       "_view_module_version": "1.5.0",
       "layout": "IPY_MODEL_c71acb43bdf04a8cb5554342190afcb6",
       "style": "IPY_MODEL_d66842a828d044e4b622c3473516ce83"
      }
     },
     "c564936582d046de81df699671b82336": {
      "model_module": "@jupyter-widgets/base",
      "model_module_version": "1.2.0",
      "model_name": "LayoutModel",
      "state": {
       "_model_module_version": "1.2.0",
       "_view_module_version": "1.2.0",
       "justify_items": null,
       "object_fit": null,
       "object_position": null
      }
     },
     "c5661b2277ff4a35ba8b7f819c13458e": {
      "model_module": "@jupyter-widgets/controls",
      "model_module_version": "1.5.0",
      "model_name": "SliderStyleModel",
      "state": {
       "_model_module_version": "1.5.0",
       "_view_module_version": "1.2.0",
       "description_width": ""
      }
     },
     "c5708e9ccca042e0a935f717d29a4873": {
      "model_module": "@jupyter-widgets/controls",
      "model_module_version": "1.5.0",
      "model_name": "DescriptionStyleModel",
      "state": {
       "_model_module_version": "1.5.0",
       "_view_module_version": "1.2.0",
       "description_width": ""
      }
     },
     "c59ac0eceaba43459f252b8431ec87dd": {
      "model_module": "@jupyter-widgets/base",
      "model_module_version": "1.2.0",
      "model_name": "LayoutModel",
      "state": {
       "_model_module_version": "1.2.0",
       "_view_module_version": "1.2.0",
       "grid_area": "top-left",
       "justify_items": null,
       "object_fit": null,
       "object_position": null
      }
     },
     "c5eeefd825b14d349e272c9ee0b321f7": {
      "model_module": "@jupyter-widgets/base",
      "model_module_version": "1.2.0",
      "model_name": "LayoutModel",
      "state": {
       "_model_module_version": "1.2.0",
       "_view_module_version": "1.2.0",
       "justify_items": null,
       "object_fit": null,
       "object_position": null
      }
     },
     "c5f982b0bd20445397b8ccd9b4ac224e": {
      "model_module": "@jupyter-widgets/base",
      "model_module_version": "1.2.0",
      "model_name": "LayoutModel",
      "state": {
       "_model_module_version": "1.2.0",
       "_view_module_version": "1.2.0",
       "justify_items": null,
       "object_fit": null,
       "object_position": null
      }
     },
     "c60c63f723814b6294948dbca8247aa3": {
      "model_module": "@jupyter-widgets/controls",
      "model_module_version": "1.5.0",
      "model_name": "VBoxModel",
      "state": {
       "_model_module_version": "1.5.0",
       "_view_module_version": "1.5.0",
       "children": [
        "IPY_MODEL_1b5d22d2b92b4ab88fa5b198cf6b4a1f",
        "IPY_MODEL_72c17f8acbe64f678ea83a84eadff660"
       ],
       "layout": "IPY_MODEL_d26af8dc70634590b106ac377fc3cf85"
      }
     },
     "c62831c5720544299eb5d025fafb3f08": {
      "model_module": "@jupyter-widgets/controls",
      "model_module_version": "1.5.0",
      "model_name": "DescriptionStyleModel",
      "state": {
       "_model_module_version": "1.5.0",
       "_view_module_version": "1.2.0",
       "description_width": ""
      }
     },
     "c6cae9ce89184746b15793f9b23cdded": {
      "model_module": "@jupyter-widgets/output",
      "model_module_version": "1.0.0",
      "model_name": "OutputModel",
      "state": {
       "layout": "IPY_MODEL_a63bb68b52624934b8117043cffb2ba4",
       "outputs": [
        {
         "data": {
          "image/png": "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\n",
          "text/plain": "<Figure size 432x288 with 1 Axes>"
         },
         "metadata": {
          "needs_background": "light"
         },
         "output_type": "display_data"
        }
       ]
      }
     },
     "c6f35052edeb4d6786f516b69df3703a": {
      "model_module": "@jupyter-widgets/controls",
      "model_module_version": "1.5.0",
      "model_name": "HBoxModel",
      "state": {
       "_model_module_version": "1.5.0",
       "_view_module_version": "1.5.0",
       "children": [
        "IPY_MODEL_cfc7b092af154911b23f96bd614a7592",
        "IPY_MODEL_05ff690c368f4e04b7e35298dbea6626"
       ],
       "layout": "IPY_MODEL_7c757f8ba548440dadbae2f9da4bebfb"
      }
     },
     "c71acb43bdf04a8cb5554342190afcb6": {
      "model_module": "@jupyter-widgets/base",
      "model_module_version": "1.2.0",
      "model_name": "LayoutModel",
      "state": {
       "_model_module_version": "1.2.0",
       "_view_module_version": "1.2.0",
       "justify_items": null,
       "object_fit": null,
       "object_position": null
      }
     },
     "c774d43086a846c4982cf28a0ef5ce4d": {
      "model_module": "@jupyter-widgets/base",
      "model_module_version": "1.2.0",
      "model_name": "LayoutModel",
      "state": {
       "_model_module_version": "1.2.0",
       "_view_module_version": "1.2.0",
       "justify_items": null,
       "object_fit": null,
       "object_position": null,
       "width": "30px"
      }
     },
     "c77e98fef2b145609b6c57fcc3eacbff": {
      "model_module": "@jupyter-widgets/controls",
      "model_module_version": "1.5.0",
      "model_name": "DescriptionStyleModel",
      "state": {
       "_model_module_version": "1.5.0",
       "_view_module_version": "1.2.0",
       "description_width": ""
      }
     },
     "c7c93008aa3c4c23ac9dca64d88ab6d1": {
      "model_module": "@jupyter-widgets/controls",
      "model_module_version": "1.5.0",
      "model_name": "HTMLModel",
      "state": {
       "_model_module_version": "1.5.0",
       "_view_module_version": "1.5.0",
       "layout": "IPY_MODEL_f6b43f8f1606478489785e0618809ae4",
       "style": "IPY_MODEL_6e0311209c1c4b61845526bca3100fe1",
       "value": "<h3>Save filtered Data</h3>"
      }
     },
     "c85a57e0c7c14964a75f1d6ee469cacd": {
      "model_module": "@jupyter-widgets/base",
      "model_module_version": "1.2.0",
      "model_name": "LayoutModel",
      "state": {
       "_model_module_version": "1.2.0",
       "_view_module_version": "1.2.0",
       "justify_items": null,
       "object_fit": null,
       "object_position": null
      }
     },
     "c8913018a1e34f2a8ce8ecdad2057c9c": {
      "model_module": "@jupyter-widgets/base",
      "model_module_version": "1.2.0",
      "model_name": "LayoutModel",
      "state": {
       "_model_module_version": "1.2.0",
       "_view_module_version": "1.2.0",
       "justify_items": null,
       "object_fit": null,
       "object_position": null
      }
     },
     "c8bc0e23c3b549d7a92aac5cf027dff4": {
      "model_module": "@jupyter-widgets/controls",
      "model_module_version": "1.5.0",
      "model_name": "TextModel",
      "state": {
       "_model_module_version": "1.5.0",
       "_view_module_version": "1.5.0",
       "layout": "IPY_MODEL_0628bb2dbbeb4c6bb7675b09969f8104",
       "style": "IPY_MODEL_35cbf3d5e84c4f9aa6ef957e07a3e819"
      }
     },
     "c8dbc9a740ff40b69f93d4a20cdc14f7": {
      "model_module": "@jupyter-widgets/controls",
      "model_module_version": "1.5.0",
      "model_name": "LabelModel",
      "state": {
       "_model_module_version": "1.5.0",
       "_view_module_version": "1.5.0",
       "layout": "IPY_MODEL_4a63a6304129449c9c44e54d6020e090",
       "style": "IPY_MODEL_ac9928bbf3c2477e857a195333af6e50",
       "value": "Search Columns"
      }
     },
     "c95bc1f2d4194652b3d20928c22d45da": {
      "model_module": "@jupyter-widgets/controls",
      "model_module_version": "1.5.0",
      "model_name": "LabelModel",
      "state": {
       "_model_module_version": "1.5.0",
       "_view_module_version": "1.5.0",
       "layout": "IPY_MODEL_b01917d6b82e45a6bd646f7617a02570",
       "style": "IPY_MODEL_eb2e32e6bfbf458d8a83cf6c96600a4b"
      }
     },
     "c97019214d544b5395d02ea10e17f787": {
      "model_module": "@jupyter-widgets/base",
      "model_module_version": "1.2.0",
      "model_name": "LayoutModel",
      "state": {
       "_model_module_version": "1.2.0",
       "_view_module_version": "1.2.0",
       "justify_items": null,
       "object_fit": null,
       "object_position": null
      }
     },
     "c998f1eaabca43679dae92a20f3303ec": {
      "model_module": "@jupyter-widgets/controls",
      "model_module_version": "1.5.0",
      "model_name": "HTMLModel",
      "state": {
       "_model_module_version": "1.5.0",
       "_view_module_version": "1.5.0",
       "layout": "IPY_MODEL_3807cddbea924514aa5a43f325458874",
       "style": "IPY_MODEL_1d37add9201f49a0a4ee4edb27440e86",
       "value": "<h3>Searching</h3>"
      }
     },
     "c9bef525fdba4db2ba79e3260278fab5": {
      "model_module": "@jupyter-widgets/output",
      "model_module_version": "1.0.0",
      "model_name": "OutputModel",
      "state": {
       "layout": "IPY_MODEL_522fbce540004cf8b6214834c57b2ec6",
       "outputs": [
        {
         "data": {
          "application/vnd.jupyter.widget-view+json": {
           "model_id": "ae005d8758da4d43a97fa6089cf11039",
           "version_major": 2,
           "version_minor": 0
          },
          "text/plain": "VBox(children=(HBox(children=(IntSlider(value=1, layout=Layout(width='60%'), max=266, min=1), Label(value='of …"
         },
         "metadata": {},
         "output_type": "display_data"
        }
       ]
      }
     },
     "ca1678558910457dbc45931953e4156c": {
      "model_module": "@jupyter-widgets/controls",
      "model_module_version": "1.5.0",
      "model_name": "DescriptionStyleModel",
      "state": {
       "_model_module_version": "1.5.0",
       "_view_module_version": "1.2.0",
       "description_width": ""
      }
     },
     "ca1ead07853e423691198cde836214c5": {
      "model_module": "@jupyter-widgets/base",
      "model_module_version": "1.2.0",
      "model_name": "LayoutModel",
      "state": {
       "_model_module_version": "1.2.0",
       "_view_module_version": "1.2.0",
       "justify_items": null,
       "object_fit": null,
       "object_position": null,
       "width": "20%"
      }
     },
     "ca282ccdadbc4f64bc3dc748d5043c21": {
      "model_module": "@jupyter-widgets/controls",
      "model_module_version": "1.5.0",
      "model_name": "DescriptionStyleModel",
      "state": {
       "_model_module_version": "1.5.0",
       "_view_module_version": "1.2.0",
       "description_width": ""
      }
     },
     "ca425a5ec7ae467596636aebdc3ddd42": {
      "model_module": "@jupyter-widgets/controls",
      "model_module_version": "1.5.0",
      "model_name": "HBoxModel",
      "state": {
       "_model_module_version": "1.5.0",
       "_view_module_version": "1.5.0",
       "children": [
        "IPY_MODEL_ee43982233504010b84bd49d50b7a79e",
        "IPY_MODEL_c305dbf633f74ab1bbfed9b90bdd3505",
        "IPY_MODEL_9d2e8dc0de964a39b1a2a2b97ddcec49",
        "IPY_MODEL_c3f43700e15a41aa983c1bd12dbf0e00",
        "IPY_MODEL_d156351bf9bb48b3beb904fc74622e46"
       ],
       "layout": "IPY_MODEL_162aeca071cb429a8cea51563999fce9"
      }
     },
     "cac6b97800e34a35a4bc57bbc1942df8": {
      "model_module": "@jupyter-widgets/controls",
      "model_module_version": "1.5.0",
      "model_name": "HTMLModel",
      "state": {
       "_model_module_version": "1.5.0",
       "_view_module_version": "1.5.0",
       "layout": "IPY_MODEL_6092a86ddf484b10859586b58ae7b900",
       "style": "IPY_MODEL_26840cd5a4d0400282831934f9377d19",
       "value": "Select multiple by dragging or ctrl + click"
      }
     },
     "caf4d5c7c57b45babb47e945ca0946a9": {
      "model_module": "@jupyter-widgets/controls",
      "model_module_version": "1.5.0",
      "model_name": "TextModel",
      "state": {
       "_model_module_version": "1.5.0",
       "_view_module_version": "1.5.0",
       "layout": "IPY_MODEL_3dff5c878da94ced951da9f81295e968",
       "style": "IPY_MODEL_5d9a1b834b3a4fe386f01fe9a2190867",
       "value": "filtered_data.csv"
      }
     },
     "cbb3593b5c3e46959a82b3463b791763": {
      "model_module": "@jupyter-widgets/controls",
      "model_module_version": "1.5.0",
      "model_name": "HBoxModel",
      "state": {
       "_model_module_version": "1.5.0",
       "_view_module_version": "1.5.0",
       "children": [
        "IPY_MODEL_83c27a6bfe934f4b8955b3e3a9ed2a3a",
        "IPY_MODEL_e000701d4b7149298538e5740d2e0adc"
       ],
       "layout": "IPY_MODEL_749bccd844b349ab81717f242b77b3fd"
      }
     },
     "cbd221a13df44e1f80290c2c1d178f76": {
      "model_module": "@jupyter-widgets/controls",
      "model_module_version": "1.5.0",
      "model_name": "ButtonModel",
      "state": {
       "_model_module_version": "1.5.0",
       "_view_module_version": "1.5.0",
       "description": "save",
       "layout": "IPY_MODEL_1a7d3fd15dd64bd288f73a73add30a51",
       "style": "IPY_MODEL_644b496ab66f4aac95ebf304eccd0ca5"
      }
     },
     "cbe5c96f229244c8beb2efef1a5362eb": {
      "model_module": "@jupyter-widgets/controls",
      "model_module_version": "1.5.0",
      "model_name": "TextModel",
      "state": {
       "_model_module_version": "1.5.0",
       "_view_module_version": "1.5.0",
       "layout": "IPY_MODEL_c97019214d544b5395d02ea10e17f787",
       "style": "IPY_MODEL_4695c6f6b9954deab8a6ab8ef80b4491"
      }
     },
     "cc22211e972a4f92bbd785e3e7faba76": {
      "model_module": "@jupyter-widgets/base",
      "model_module_version": "1.2.0",
      "model_name": "LayoutModel",
      "state": {
       "_model_module_version": "1.2.0",
       "_view_module_version": "1.2.0",
       "justify_items": null,
       "object_fit": null,
       "object_position": null
      }
     },
     "cc386cede20d427db2efdf20a9825d34": {
      "model_module": "@jupyter-widgets/controls",
      "model_module_version": "1.5.0",
      "model_name": "ToggleButtonModel",
      "state": {
       "_model_module_version": "1.5.0",
       "_view_module_version": "1.5.0",
       "description": "ascending",
       "layout": "IPY_MODEL_8d24832899e240e8a14ff93ce190d51a",
       "style": "IPY_MODEL_ca282ccdadbc4f64bc3dc748d5043c21",
       "value": true
      }
     },
     "cc52b600c0f243d9878fe01822fbdd57": {
      "model_module": "@jupyter-widgets/base",
      "model_module_version": "1.2.0",
      "model_name": "LayoutModel",
      "state": {
       "_model_module_version": "1.2.0",
       "_view_module_version": "1.2.0",
       "grid_template_areas": "\"top-left top-right\"\n\"top-left top-right\"",
       "grid_template_columns": "1fr 1fr",
       "grid_template_rows": "1fr 1fr",
       "justify_items": null,
       "object_fit": null,
       "object_position": null
      }
     },
     "cc67ed92960b4ff98c27efd34d69ff71": {
      "model_module": "@jupyter-widgets/controls",
      "model_module_version": "1.5.0",
      "model_name": "LabelModel",
      "state": {
       "_model_module_version": "1.5.0",
       "_view_module_version": "1.5.0",
       "layout": "IPY_MODEL_8a26112683aa4324b4df5be9288981a1",
       "style": "IPY_MODEL_96e52560a8bb4869a02ccd9db2919a49"
      }
     },
     "cc7da331bf014caf8fa1538723212413": {
      "model_module": "@jupyter-widgets/controls",
      "model_module_version": "1.5.0",
      "model_name": "DropdownModel",
      "state": {
       "_model_module_version": "1.5.0",
       "_options_labels": [
        "10",
        "20",
        "50"
       ],
       "_view_module_version": "1.5.0",
       "description": "items per page",
       "index": 0,
       "layout": "IPY_MODEL_90f59d5ff0304c7684c46236c2d94ca9",
       "style": "IPY_MODEL_25cf252ceb834798bde37204878f1dbe"
      }
     },
     "cca3a276d5904e0094609bcfd5944440": {
      "model_module": "@jupyter-widgets/controls",
      "model_module_version": "1.5.0",
      "model_name": "VBoxModel",
      "state": {
       "_model_module_version": "1.5.0",
       "_view_module_version": "1.5.0",
       "children": [
        "IPY_MODEL_da844676838241a184ad4987509c515b",
        "IPY_MODEL_e5460f0231b74495934e1e61c112f93a",
        "IPY_MODEL_eb1011ae0ea84d2c8925f54f961cf754"
       ],
       "layout": "IPY_MODEL_7ea252c995ee4376888d79d4e2373943"
      }
     },
     "ccc80df2531b49e08b6aba49ac380539": {
      "model_module": "@jupyter-widgets/controls",
      "model_module_version": "1.5.0",
      "model_name": "DropdownModel",
      "state": {
       "_model_module_version": "1.5.0",
       "_options_labels": [
        "text",
        "text_translated",
        "media",
        "source",
        "mode",
        "num_persons",
        "_timestamp",
        "confidence",
        "source_reliability",
        "locations",
        "origin_bool",
        "origin",
        "destination",
        "geom_tweet",
        "triage_status"
       ],
       "_view_module_version": "1.5.0",
       "index": 0,
       "layout": "IPY_MODEL_86fc8ecc538645ffb7f682d8f0047713",
       "style": "IPY_MODEL_d5af4207c31d487daf39a56814c35475"
      }
     },
     "cd0b616d5d7340d0b6d3f9e2901929d4": {
      "model_module": "@jupyter-widgets/controls",
      "model_module_version": "1.5.0",
      "model_name": "DropdownModel",
      "state": {
       "_model_module_version": "1.5.0",
       "_options_labels": [
        "text",
        "text_translated",
        "media",
        "source",
        "mode",
        "num_persons",
        "_timestamp",
        "confidence",
        "source_reliability",
        "locations",
        "origin_bool",
        "origin",
        "destination",
        "geom_tweet",
        "triage_status"
       ],
       "_view_module_version": "1.5.0",
       "description": "order by",
       "index": 0,
       "layout": "IPY_MODEL_956be1f00974400abdcbd93dbdb51826",
       "style": "IPY_MODEL_9a7f4b9bf0cc4924ac19adb073f70ddc"
      }
     },
     "cd894768422541b98f4511387291d9fc": {
      "model_module": "@jupyter-widgets/controls",
      "model_module_version": "1.5.0",
      "model_name": "ButtonModel",
      "state": {
       "_model_module_version": "1.5.0",
       "_view_module_version": "1.5.0",
       "description": "save",
       "layout": "IPY_MODEL_0ca20c76117a44eeb5331306a842e2db",
       "style": "IPY_MODEL_76ba08102d4947d2a2d7f4c99a68c3b9"
      }
     },
     "cd8c29ca658d40138bb4db8ea6bc8f84": {
      "model_module": "@jupyter-widgets/controls",
      "model_module_version": "1.5.0",
      "model_name": "HBoxModel",
      "state": {
       "_model_module_version": "1.5.0",
       "_view_module_version": "1.5.0",
       "children": [
        "IPY_MODEL_4f148930ac18427c9390acfb966efdea",
        "IPY_MODEL_2365b96f6cce48cea8b3e13bc2a70e22",
        "IPY_MODEL_26a185d6327e4baeaed49fa34ca0b22e"
       ],
       "layout": "IPY_MODEL_ddc283764cf54528b19013de7849d58e"
      }
     },
     "cdde2eef370b4afdb8fdd9e861a16ab9": {
      "model_module": "@jupyter-widgets/controls",
      "model_module_version": "1.5.0",
      "model_name": "DescriptionStyleModel",
      "state": {
       "_model_module_version": "1.5.0",
       "_view_module_version": "1.2.0",
       "description_width": ""
      }
     },
     "cde7cd43b3344a20b0a0931690cad121": {
      "model_module": "@jupyter-widgets/controls",
      "model_module_version": "1.5.0",
      "model_name": "ButtonStyleModel",
      "state": {
       "_model_module_version": "1.5.0",
       "_view_module_version": "1.2.0"
      }
     },
     "cdea99e7ecd24eaba7fcfd314443ff0c": {
      "model_module": "@jupyter-widgets/controls",
      "model_module_version": "1.5.0",
      "model_name": "DescriptionStyleModel",
      "state": {
       "_model_module_version": "1.5.0",
       "_view_module_version": "1.2.0",
       "description_width": ""
      }
     },
     "ce39a928786041579f604805e15950c7": {
      "model_module": "@jupyter-widgets/controls",
      "model_module_version": "1.5.0",
      "model_name": "DropdownModel",
      "state": {
       "_model_module_version": "1.5.0",
       "_options_labels": [
        "text",
        "text_translated",
        "media",
        "source",
        "mode",
        "num_persons",
        "_timestamp",
        "confidence",
        "source_reliability",
        "locations",
        "origin_bool",
        "origin",
        "destination",
        "geom_tweet",
        "triage_status"
       ],
       "_view_module_version": "1.5.0",
       "index": 0,
       "layout": "IPY_MODEL_c25d7b3fcd8347e7b6c28ca97b8dcf5e",
       "style": "IPY_MODEL_0e1acce059194b5b9d9b975d5f774458"
      }
     },
     "ce6c4d80ed3046d48f93bf908afbe291": {
      "model_module": "@jupyter-widgets/base",
      "model_module_version": "1.2.0",
      "model_name": "LayoutModel",
      "state": {
       "_model_module_version": "1.2.0",
       "_view_module_version": "1.2.0",
       "justify_items": null,
       "object_fit": null,
       "object_position": null
      }
     },
     "ced1e1afd74242b7adbcab157c6f2c9e": {
      "model_module": "@jupyter-widgets/base",
      "model_module_version": "1.2.0",
      "model_name": "LayoutModel",
      "state": {
       "_model_module_version": "1.2.0",
       "_view_module_version": "1.2.0",
       "justify_items": null,
       "object_fit": null,
       "object_position": null
      }
     },
     "ced4d68b39434b8a8ee6cb2fa48323fc": {
      "model_module": "@jupyter-widgets/controls",
      "model_module_version": "1.5.0",
      "model_name": "DescriptionStyleModel",
      "state": {
       "_model_module_version": "1.5.0",
       "_view_module_version": "1.2.0",
       "description_width": ""
      }
     },
     "cede96671d3a4040ac794a17669cd5dd": {
      "model_module": "@jupyter-widgets/base",
      "model_module_version": "1.2.0",
      "model_name": "LayoutModel",
      "state": {
       "_model_module_version": "1.2.0",
       "_view_module_version": "1.2.0",
       "justify_items": null,
       "object_fit": null,
       "object_position": null
      }
     },
     "cfbce2738aab44eb8ccf92b1d2bf635f": {
      "model_module": "@jupyter-widgets/controls",
      "model_module_version": "1.5.0",
      "model_name": "DescriptionStyleModel",
      "state": {
       "_model_module_version": "1.5.0",
       "_view_module_version": "1.2.0",
       "description_width": ""
      }
     },
     "cfc7b092af154911b23f96bd614a7592": {
      "model_module": "@jupyter-widgets/controls",
      "model_module_version": "1.5.0",
      "model_name": "SelectMultipleModel",
      "state": {
       "_model_module_version": "1.5.0",
       "_options_labels": [
        "text",
        "text_translated",
        "media",
        "source",
        "mode",
        "num_persons",
        "_timestamp",
        "confidence",
        "source_reliability",
        "locations",
        "origin_bool",
        "origin",
        "destination",
        "geom_tweet",
        "triage_status"
       ],
       "_view_module_version": "1.5.0",
       "index": [],
       "layout": "IPY_MODEL_3b0201f15da8453d8f4cec075076dea6",
       "rows": 5,
       "style": "IPY_MODEL_ee61de5d8edb4f1c828b281def105fe9"
      }
     },
     "d0ef897fa59545af8a37be03f1681d8f": {
      "model_module": "@jupyter-widgets/controls",
      "model_module_version": "1.5.0",
      "model_name": "DescriptionStyleModel",
      "state": {
       "_model_module_version": "1.5.0",
       "_view_module_version": "1.2.0",
       "description_width": ""
      }
     },
     "d103eaea97654070b654fa21c9a0f250": {
      "model_module": "@jupyter-widgets/base",
      "model_module_version": "1.2.0",
      "model_name": "LayoutModel",
      "state": {
       "_model_module_version": "1.2.0",
       "_view_module_version": "1.2.0",
       "justify_items": null,
       "object_fit": null,
       "object_position": null
      }
     },
     "d12985ddbcb14672975b0460483900e3": {
      "model_module": "@jupyter-widgets/controls",
      "model_module_version": "1.5.0",
      "model_name": "DescriptionStyleModel",
      "state": {
       "_model_module_version": "1.5.0",
       "_view_module_version": "1.2.0",
       "description_width": ""
      }
     },
     "d156351bf9bb48b3beb904fc74622e46": {
      "model_module": "@jupyter-widgets/controls",
      "model_module_version": "1.5.0",
      "model_name": "ButtonModel",
      "state": {
       "_model_module_version": "1.5.0",
       "_view_module_version": "1.5.0",
       "icon": "chevron-right",
       "layout": "IPY_MODEL_c774d43086a846c4982cf28a0ef5ce4d",
       "style": "IPY_MODEL_a3620fa83e54493495c937f43b76c39d"
      }
     },
     "d18bc898e82a4cd9ac4cc62f041347e5": {
      "model_module": "@jupyter-widgets/controls",
      "model_module_version": "1.5.0",
      "model_name": "SelectMultipleModel",
      "state": {
       "_model_module_version": "1.5.0",
       "_options_labels": [
        "text",
        "text_translated",
        "media",
        "source",
        "mode",
        "num_persons",
        "_timestamp",
        "confidence",
        "source_reliability",
        "locations",
        "origin_bool",
        "origin",
        "destination",
        "geom_tweet",
        "triage_status"
       ],
       "_view_module_version": "1.5.0",
       "index": [],
       "layout": "IPY_MODEL_8ed4db5f3ff2414bb2d9e89f0a40234a",
       "rows": 5,
       "style": "IPY_MODEL_e232ec6da4b845438af2534ec09fb7cd"
      }
     },
     "d26af8dc70634590b106ac377fc3cf85": {
      "model_module": "@jupyter-widgets/base",
      "model_module_version": "1.2.0",
      "model_name": "LayoutModel",
      "state": {
       "_model_module_version": "1.2.0",
       "_view_module_version": "1.2.0",
       "justify_items": null,
       "object_fit": null,
       "object_position": null
      }
     },
     "d26b03bc4e1b49e8bafd110aa453e453": {
      "model_module": "@jupyter-widgets/controls",
      "model_module_version": "1.5.0",
      "model_name": "DescriptionStyleModel",
      "state": {
       "_model_module_version": "1.5.0",
       "_view_module_version": "1.2.0",
       "description_width": ""
      }
     },
     "d2bdea2493a74e3a96c20a77eccf79c8": {
      "model_module": "@jupyter-widgets/base",
      "model_module_version": "1.2.0",
      "model_name": "LayoutModel",
      "state": {
       "_model_module_version": "1.2.0",
       "_view_module_version": "1.2.0",
       "justify_items": null,
       "object_fit": null,
       "object_position": null
      }
     },
     "d35637aebc9a4631afbc20dc790c949e": {
      "model_module": "@jupyter-widgets/base",
      "model_module_version": "1.2.0",
      "model_name": "LayoutModel",
      "state": {
       "_model_module_version": "1.2.0",
       "_view_module_version": "1.2.0",
       "justify_items": null,
       "object_fit": null,
       "object_position": null
      }
     },
     "d370f2b0cd214325b4f0cdf28170c689": {
      "model_module": "@jupyter-widgets/base",
      "model_module_version": "1.2.0",
      "model_name": "LayoutModel",
      "state": {
       "_model_module_version": "1.2.0",
       "_view_module_version": "1.2.0",
       "justify_items": null,
       "object_fit": null,
       "object_position": null,
       "width": "20%"
      }
     },
     "d3978cc9f15b4d78996b5732c7b43e36": {
      "model_module": "@jupyter-widgets/controls",
      "model_module_version": "1.5.0",
      "model_name": "DescriptionStyleModel",
      "state": {
       "_model_module_version": "1.5.0",
       "_view_module_version": "1.2.0",
       "description_width": ""
      }
     },
     "d3e0efd8c38c4c0885924e2452c4c9fc": {
      "model_module": "@jupyter-widgets/controls",
      "model_module_version": "1.5.0",
      "model_name": "HBoxModel",
      "state": {
       "_model_module_version": "1.5.0",
       "_view_module_version": "1.5.0",
       "children": [
        "IPY_MODEL_f4d0405deaff447e9cf980eca992599e",
        "IPY_MODEL_f705ce7ce32e41e4bc8121278ee4a0e7"
       ],
       "layout": "IPY_MODEL_6d4eaf332e024712951d401d617891ed"
      }
     },
     "d3f14935572548c4872142314b812b6d": {
      "model_module": "@jupyter-widgets/controls",
      "model_module_version": "1.5.0",
      "model_name": "HBoxModel",
      "state": {
       "_model_module_version": "1.5.0",
       "_view_module_version": "1.5.0",
       "children": [
        "IPY_MODEL_cd0b616d5d7340d0b6d3f9e2901929d4",
        "IPY_MODEL_e4fd62c627194d70a40405a621b75732",
        "IPY_MODEL_104df5f85acb4456b0fee4f10fbcbb3d"
       ],
       "layout": "IPY_MODEL_4c5dff4bdbc74466aee3d9c58813b224"
      }
     },
     "d40e494f91464a688cb9c69f1d457ece": {
      "model_module": "@jupyter-widgets/output",
      "model_module_version": "1.0.0",
      "model_name": "OutputModel",
      "state": {
       "layout": "IPY_MODEL_46fc4d941bb54a17967c470e3931ff69",
       "outputs": [
        {
         "data": {
          "application/vnd.jupyter.widget-view+json": {
           "model_id": "65d37dcfb9064793b2318d0701fb8a41",
           "version_major": 2,
           "version_minor": 0
          },
          "text/plain": "HBox(children=(IntSlider(value=1, layout=Layout(width='60%'), max=266, min=1), Label(value='of 266 pages with …"
         },
         "metadata": {},
         "output_type": "display_data"
        },
        {
         "data": {
          "application/vnd.jupyter.widget-view+json": {
           "model_id": "a490d2509c284aaab5e36211d3bfd9e8",
           "version_major": 2,
           "version_minor": 0
          },
          "text/plain": "Output()"
         },
         "metadata": {},
         "output_type": "display_data"
        }
       ]
      }
     },
     "d44064008f0e450e8814b03e3e5df55a": {
      "model_module": "@jupyter-widgets/base",
      "model_module_version": "1.2.0",
      "model_name": "LayoutModel",
      "state": {
       "_model_module_version": "1.2.0",
       "_view_module_version": "1.2.0",
       "justify_items": null,
       "object_fit": null,
       "object_position": null
      }
     },
     "d4b25ade288e4ebaac95bdf5bcca92f5": {
      "model_module": "@jupyter-widgets/base",
      "model_module_version": "1.2.0",
      "model_name": "LayoutModel",
      "state": {
       "_model_module_version": "1.2.0",
       "_view_module_version": "1.2.0",
       "justify_items": null,
       "object_fit": null,
       "object_position": null
      }
     },
     "d4f58fe6be5c44a38a8ce4c5f8b35eac": {
      "model_module": "@jupyter-widgets/controls",
      "model_module_version": "1.5.0",
      "model_name": "ButtonStyleModel",
      "state": {
       "_model_module_version": "1.5.0",
       "_view_module_version": "1.2.0"
      }
     },
     "d50521ab97644b45b429819969aa8870": {
      "model_module": "@jupyter-widgets/controls",
      "model_module_version": "1.5.0",
      "model_name": "HTMLModel",
      "state": {
       "_model_module_version": "1.5.0",
       "_view_module_version": "1.5.0",
       "layout": "IPY_MODEL_eb47a1507f45487f8844c5074f4ba09d",
       "style": "IPY_MODEL_7b80e7e4a9a44d63b15b3a864f4f2b0e",
       "value": "<h3>Required Values</h3>"
      }
     },
     "d540b33bc44b44a18ea78fe587709e7b": {
      "model_module": "@jupyter-widgets/controls",
      "model_module_version": "1.5.0",
      "model_name": "DescriptionStyleModel",
      "state": {
       "_model_module_version": "1.5.0",
       "_view_module_version": "1.2.0",
       "description_width": ""
      }
     },
     "d5955380304842678c9755d9aa32d1a7": {
      "model_module": "@jupyter-widgets/base",
      "model_module_version": "1.2.0",
      "model_name": "LayoutModel",
      "state": {
       "_model_module_version": "1.2.0",
       "_view_module_version": "1.2.0",
       "justify_items": null,
       "object_fit": null,
       "object_position": null
      }
     },
     "d597fe2b076c4c0d9ed741e07e9507a8": {
      "model_module": "@jupyter-widgets/controls",
      "model_module_version": "1.5.0",
      "model_name": "DropdownModel",
      "state": {
       "_model_module_version": "1.5.0",
       "_options_labels": [
        "text",
        "text_translated",
        "media",
        "source",
        "mode",
        "num_persons",
        "_timestamp",
        "confidence",
        "source_reliability",
        "locations",
        "origin_bool",
        "origin",
        "destination",
        "geom_tweet",
        "triage_status"
       ],
       "_view_module_version": "1.5.0",
       "index": 0,
       "layout": "IPY_MODEL_d44064008f0e450e8814b03e3e5df55a",
       "style": "IPY_MODEL_2c53df40fc744ebe9e189a81431e3052"
      }
     },
     "d5af4207c31d487daf39a56814c35475": {
      "model_module": "@jupyter-widgets/controls",
      "model_module_version": "1.5.0",
      "model_name": "DescriptionStyleModel",
      "state": {
       "_model_module_version": "1.5.0",
       "_view_module_version": "1.2.0",
       "description_width": ""
      }
     },
     "d5b9ceb7f8a041f3af3943553f2f1c57": {
      "model_module": "@jupyter-widgets/controls",
      "model_module_version": "1.5.0",
      "model_name": "LabelModel",
      "state": {
       "_model_module_version": "1.5.0",
       "_view_module_version": "1.5.0",
       "layout": "IPY_MODEL_7bd807061933439fa4ddd7a52a6752eb",
       "style": "IPY_MODEL_7eb3e202b3a540cfb440c753a94489e3",
       "value": "Search Columns"
      }
     },
     "d5ed068a235943f38d2733751d0fe942": {
      "model_module": "@jupyter-widgets/base",
      "model_module_version": "1.2.0",
      "model_name": "LayoutModel",
      "state": {
       "_model_module_version": "1.2.0",
       "_view_module_version": "1.2.0",
       "justify_items": null,
       "object_fit": null,
       "object_position": null
      }
     },
     "d631d8a2f03141bcbc8dafff5c350ffb": {
      "model_module": "@jupyter-widgets/controls",
      "model_module_version": "1.5.0",
      "model_name": "DescriptionStyleModel",
      "state": {
       "_model_module_version": "1.5.0",
       "_view_module_version": "1.2.0",
       "description_width": ""
      }
     },
     "d66842a828d044e4b622c3473516ce83": {
      "model_module": "@jupyter-widgets/controls",
      "model_module_version": "1.5.0",
      "model_name": "DescriptionStyleModel",
      "state": {
       "_model_module_version": "1.5.0",
       "_view_module_version": "1.2.0",
       "description_width": ""
      }
     },
     "d672d76bd82e41f6be3d957708a0514f": {
      "model_module": "@jupyter-widgets/controls",
      "model_module_version": "1.5.0",
      "model_name": "TextModel",
      "state": {
       "_model_module_version": "1.5.0",
       "_view_module_version": "1.5.0",
       "layout": "IPY_MODEL_41f9819e4dc24f4d9a75b846cca1e2ab",
       "style": "IPY_MODEL_408492e35b7642de85208293cb21a475",
       "value": "filtered_data.csv"
      }
     },
     "d6e28c098e9e493e96175433a5693b77": {
      "model_module": "@jupyter-widgets/controls",
      "model_module_version": "1.5.0",
      "model_name": "DescriptionStyleModel",
      "state": {
       "_model_module_version": "1.5.0",
       "_view_module_version": "1.2.0",
       "description_width": ""
      }
     },
     "d6f14d8e2a904079971b9d61372ad085": {
      "model_module": "@jupyter-widgets/controls",
      "model_module_version": "1.5.0",
      "model_name": "HTMLModel",
      "state": {
       "_model_module_version": "1.5.0",
       "_view_module_version": "1.5.0",
       "layout": "IPY_MODEL_d78501b6bd3d4dee9b1a0c3c50e05e92",
       "style": "IPY_MODEL_e3d9016cb39d45a09ae2a8d9c7ed6a3f",
       "value": "Select multiple by dragging or ctrl + click"
      }
     },
     "d6fa42e70d73429e8b9537ad41a75aa0": {
      "model_module": "@jupyter-widgets/base",
      "model_module_version": "1.2.0",
      "model_name": "LayoutModel",
      "state": {
       "_model_module_version": "1.2.0",
       "_view_module_version": "1.2.0",
       "justify_items": null,
       "object_fit": null,
       "object_position": null
      }
     },
     "d70764adb752491090b6e794c916150a": {
      "model_module": "@jupyter-widgets/controls",
      "model_module_version": "1.5.0",
      "model_name": "DescriptionStyleModel",
      "state": {
       "_model_module_version": "1.5.0",
       "_view_module_version": "1.2.0",
       "description_width": ""
      }
     },
     "d74e68ddbe044c68988f83f0fdaf1ea9": {
      "model_module": "@jupyter-widgets/base",
      "model_module_version": "1.2.0",
      "model_name": "LayoutModel",
      "state": {
       "_model_module_version": "1.2.0",
       "_view_module_version": "1.2.0",
       "justify_items": null,
       "object_fit": null,
       "object_position": null
      }
     },
     "d78494fe7b96439d95d5acb94380945a": {
      "model_module": "@jupyter-widgets/base",
      "model_module_version": "1.2.0",
      "model_name": "LayoutModel",
      "state": {
       "_model_module_version": "1.2.0",
       "_view_module_version": "1.2.0",
       "justify_items": null,
       "object_fit": null,
       "object_position": null
      }
     },
     "d78501b6bd3d4dee9b1a0c3c50e05e92": {
      "model_module": "@jupyter-widgets/base",
      "model_module_version": "1.2.0",
      "model_name": "LayoutModel",
      "state": {
       "_model_module_version": "1.2.0",
       "_view_module_version": "1.2.0",
       "justify_items": null,
       "object_fit": null,
       "object_position": null
      }
     },
     "d8496cedba4e47d196466daf6d9bfef1": {
      "model_module": "@jupyter-widgets/base",
      "model_module_version": "1.2.0",
      "model_name": "LayoutModel",
      "state": {
       "_model_module_version": "1.2.0",
       "_view_module_version": "1.2.0",
       "justify_items": null,
       "object_fit": null,
       "object_position": null
      }
     },
     "d89a61eecd24491c9103eb6bf36bde6f": {
      "model_module": "@jupyter-widgets/controls",
      "model_module_version": "1.5.0",
      "model_name": "SelectMultipleModel",
      "state": {
       "_model_module_version": "1.5.0",
       "_options_labels": [
        "text",
        "text_translated",
        "media",
        "source",
        "mode",
        "num_persons",
        "_timestamp",
        "confidence",
        "source_reliability",
        "locations",
        "origin_bool",
        "origin",
        "destination",
        "geom_tweet",
        "triage_status"
       ],
       "_view_module_version": "1.5.0",
       "index": [],
       "layout": "IPY_MODEL_3a8243e49ce247f49f7105558fd3ceaa",
       "rows": 5,
       "style": "IPY_MODEL_9bb4632cd77f4f5190c8442eba778267"
      }
     },
     "d8c949393557423daec7aceb0dde63e0": {
      "model_module": "@jupyter-widgets/controls",
      "model_module_version": "1.5.0",
      "model_name": "TextModel",
      "state": {
       "_model_module_version": "1.5.0",
       "_view_module_version": "1.5.0",
       "layout": "IPY_MODEL_a91a0bbfd0054ff2be2bdfe8b95458fd",
       "style": "IPY_MODEL_4ef69312d886479589f28a825c5436a6",
       "value": "filtered_data.csv"
      }
     },
     "d9777f95370d413e856cbe199b679713": {
      "model_module": "@jupyter-widgets/controls",
      "model_module_version": "1.5.0",
      "model_name": "DescriptionStyleModel",
      "state": {
       "_model_module_version": "1.5.0",
       "_view_module_version": "1.2.0",
       "description_width": ""
      }
     },
     "d99057b2a4304d09a609406776bc7e39": {
      "model_module": "@jupyter-widgets/controls",
      "model_module_version": "1.5.0",
      "model_name": "TextModel",
      "state": {
       "_model_module_version": "1.5.0",
       "_view_module_version": "1.5.0",
       "layout": "IPY_MODEL_c23512cabfe247faa786a5f1a872a938",
       "style": "IPY_MODEL_96f153a57f7b4219ad52ca7a561fb650"
      }
     },
     "d998070e2410442ab101ad84f8ec7567": {
      "model_module": "@jupyter-widgets/base",
      "model_module_version": "1.2.0",
      "model_name": "LayoutModel",
      "state": {
       "_model_module_version": "1.2.0",
       "_view_module_version": "1.2.0",
       "justify_items": null,
       "object_fit": null,
       "object_position": null
      }
     },
     "da03be119c1a4ff18145e5f52082ec39": {
      "model_module": "@jupyter-widgets/base",
      "model_module_version": "1.2.0",
      "model_name": "LayoutModel",
      "state": {
       "_model_module_version": "1.2.0",
       "_view_module_version": "1.2.0",
       "justify_items": null,
       "object_fit": null,
       "object_position": null
      }
     },
     "da0cd77e6e0a463db2ae3e4a1ddc5fcb": {
      "model_module": "@jupyter-widgets/base",
      "model_module_version": "1.2.0",
      "model_name": "LayoutModel",
      "state": {
       "_model_module_version": "1.2.0",
       "_view_module_version": "1.2.0",
       "justify_items": null,
       "object_fit": null,
       "object_position": null
      }
     },
     "da33863c21cd479b9498213249ab49eb": {
      "model_module": "@jupyter-widgets/controls",
      "model_module_version": "1.5.0",
      "model_name": "VBoxModel",
      "state": {
       "_model_module_version": "1.5.0",
       "_view_module_version": "1.5.0",
       "children": [
        "IPY_MODEL_8677184a05f04f6e81c68449d3e789e6",
        "IPY_MODEL_22f7abcbe2834faea4b7d01e60cf81b8",
        "IPY_MODEL_f3c28864d21f451db85ec650e92d5be7"
       ],
       "layout": "IPY_MODEL_5d328a66b2474efaa7bbcf87cc17e168"
      }
     },
     "da844676838241a184ad4987509c515b": {
      "model_module": "@jupyter-widgets/controls",
      "model_module_version": "1.5.0",
      "model_name": "LabelModel",
      "state": {
       "_model_module_version": "1.5.0",
       "_view_module_version": "1.5.0",
       "layout": "IPY_MODEL_7313b2478cf74c80b8e7e8fd4adfdcea",
       "style": "IPY_MODEL_781f8b01ca8f476d8d748f49a8766c13",
       "value": "Plot Columns"
      }
     },
     "da9f93fe2e664572be549e9e5ca5575a": {
      "model_module": "@jupyter-widgets/base",
      "model_module_version": "1.2.0",
      "model_name": "LayoutModel",
      "state": {
       "_model_module_version": "1.2.0",
       "_view_module_version": "1.2.0",
       "justify_items": null,
       "object_fit": null,
       "object_position": null
      }
     },
     "db452ffdd2594a678214ac0d90ba744f": {
      "model_module": "@jupyter-widgets/base",
      "model_module_version": "1.2.0",
      "model_name": "LayoutModel",
      "state": {
       "_model_module_version": "1.2.0",
       "_view_module_version": "1.2.0",
       "grid_template_areas": "\"top-left top-right\"\n\"top-left top-right\"",
       "grid_template_columns": "1fr 1fr",
       "grid_template_rows": "1fr 1fr",
       "justify_items": null,
       "object_fit": null,
       "object_position": null
      }
     },
     "db59167223404869a4db6694580b76ea": {
      "model_module": "@jupyter-widgets/controls",
      "model_module_version": "1.5.0",
      "model_name": "LabelModel",
      "state": {
       "_model_module_version": "1.5.0",
       "_view_module_version": "1.5.0",
       "layout": "IPY_MODEL_a9c3ec96efcd419cac7edcc192876a61",
       "style": "IPY_MODEL_f25e0acf404b42469b9083034a3bfab4",
       "value": "Plot Columns"
      }
     },
     "db96b3307e5e44f59205331dc20750ec": {
      "model_module": "@jupyter-widgets/base",
      "model_module_version": "1.2.0",
      "model_name": "LayoutModel",
      "state": {
       "_model_module_version": "1.2.0",
       "_view_module_version": "1.2.0",
       "justify_items": null,
       "object_fit": null,
       "object_position": null,
       "width": "60%"
      }
     },
     "dbc3b4b3789e408d80ef74c01a7819e6": {
      "model_module": "@jupyter-widgets/controls",
      "model_module_version": "1.5.0",
      "model_name": "DescriptionStyleModel",
      "state": {
       "_model_module_version": "1.5.0",
       "_view_module_version": "1.2.0",
       "description_width": ""
      }
     },
     "dc03ed5743c240698895c8ac6c346bb5": {
      "model_module": "@jupyter-widgets/controls",
      "model_module_version": "1.5.0",
      "model_name": "DescriptionStyleModel",
      "state": {
       "_model_module_version": "1.5.0",
       "_view_module_version": "1.2.0",
       "description_width": ""
      }
     },
     "dc7c1220ac43410eb24e9c71e6c88507": {
      "model_module": "@jupyter-widgets/base",
      "model_module_version": "1.2.0",
      "model_name": "LayoutModel",
      "state": {
       "_model_module_version": "1.2.0",
       "_view_module_version": "1.2.0",
       "justify_items": null,
       "object_fit": null,
       "object_position": null,
       "width": "30px"
      }
     },
     "dc8928f56f294d9489b43f89f68f40a1": {
      "model_module": "@jupyter-widgets/base",
      "model_module_version": "1.2.0",
      "model_name": "LayoutModel",
      "state": {
       "_model_module_version": "1.2.0",
       "_view_module_version": "1.2.0",
       "justify_items": null,
       "object_fit": null,
       "object_position": null
      }
     },
     "dcad542980534ba79af7d5b14f11ea94": {
      "model_module": "@jupyter-widgets/controls",
      "model_module_version": "1.5.0",
      "model_name": "ButtonStyleModel",
      "state": {
       "_model_module_version": "1.5.0",
       "_view_module_version": "1.2.0"
      }
     },
     "dcc4f639f89244a58811c0aa0bc0c568": {
      "model_module": "@jupyter-widgets/controls",
      "model_module_version": "1.5.0",
      "model_name": "ButtonStyleModel",
      "state": {
       "_model_module_version": "1.5.0",
       "_view_module_version": "1.2.0"
      }
     },
     "dcedf0927f794aeabd473ae70766ab6d": {
      "model_module": "@jupyter-widgets/controls",
      "model_module_version": "1.5.0",
      "model_name": "LabelModel",
      "state": {
       "_model_module_version": "1.5.0",
       "_view_module_version": "1.5.0",
       "layout": "IPY_MODEL_a02c45bc511d4396b85520b92846b028",
       "style": "IPY_MODEL_5ab7304225864486b3191d23015e864d"
      }
     },
     "dcffe1b21391407a92f273a0b7ca86a6": {
      "model_module": "@jupyter-widgets/base",
      "model_module_version": "1.2.0",
      "model_name": "LayoutModel",
      "state": {
       "_model_module_version": "1.2.0",
       "_view_module_version": "1.2.0",
       "justify_items": null,
       "object_fit": null,
       "object_position": null
      }
     },
     "dd1c532e4c43427c8de3c3f13f42d56a": {
      "model_module": "@jupyter-widgets/controls",
      "model_module_version": "1.5.0",
      "model_name": "HTMLModel",
      "state": {
       "_model_module_version": "1.5.0",
       "_view_module_version": "1.5.0",
       "layout": "IPY_MODEL_7b538fec36894f128aa68a689c8c6479",
       "style": "IPY_MODEL_9bfc48e562514581a6aa07036f5f990d",
       "value": "Deselect with ctrl + click"
      }
     },
     "dd25e521c450470cac364aab9ac0d2eb": {
      "model_module": "@jupyter-widgets/controls",
      "model_module_version": "1.5.0",
      "model_name": "DescriptionStyleModel",
      "state": {
       "_model_module_version": "1.5.0",
       "_view_module_version": "1.2.0",
       "description_width": ""
      }
     },
     "dda3d0971c304f1d9acec723cc6d95fc": {
      "model_module": "@jupyter-widgets/base",
      "model_module_version": "1.2.0",
      "model_name": "LayoutModel",
      "state": {
       "_model_module_version": "1.2.0",
       "_view_module_version": "1.2.0",
       "justify_items": null,
       "object_fit": null,
       "object_position": null
      }
     },
     "ddc283764cf54528b19013de7849d58e": {
      "model_module": "@jupyter-widgets/base",
      "model_module_version": "1.2.0",
      "model_name": "LayoutModel",
      "state": {
       "_model_module_version": "1.2.0",
       "_view_module_version": "1.2.0",
       "height": "50px",
       "justify_items": null,
       "object_fit": null,
       "object_position": null
      }
     },
     "de1239ee614e4a9880ff53d842b870ee": {
      "model_module": "@jupyter-widgets/output",
      "model_module_version": "1.0.0",
      "model_name": "OutputModel",
      "state": {
       "layout": "IPY_MODEL_2f336182fa824c1c9e327063e11e76a4",
       "outputs": [
        {
         "data": {
          "text/html": "<div>\n<style scoped>\n    .dataframe tbody tr th:only-of-type {\n        vertical-align: middle;\n    }\n\n    .dataframe tbody tr th {\n        vertical-align: top;\n    }\n\n    .dataframe thead th {\n        text-align: right;\n    }\n</style>\n<table border=\"1\" class=\"dataframe\">\n  <thead>\n    <tr style=\"text-align: right;\">\n      <th></th>\n      <th>text</th>\n      <th>text_translated</th>\n      <th>media</th>\n      <th>source</th>\n      <th>mode</th>\n      <th>num_persons</th>\n      <th>_timestamp</th>\n      <th>confidence</th>\n      <th>source_reliability</th>\n      <th>locations</th>\n      <th>origin_bool</th>\n      <th>origin</th>\n      <th>destination</th>\n      <th>geom_tweet</th>\n      <th>triage_status</th>\n    </tr>\n    <tr>\n      <th>uniqueid</th>\n      <th></th>\n      <th></th>\n      <th></th>\n      <th></th>\n      <th></th>\n      <th></th>\n      <th></th>\n      <th></th>\n      <th></th>\n      <th></th>\n      <th></th>\n      <th></th>\n      <th></th>\n      <th></th>\n      <th></th>\n    </tr>\n  </thead>\n  <tbody>\n    <tr>\n      <th>969</th>\n      <td>\"En Macédoine, les migrants remplissent les trains pour la Serbie - AFP\" en replay sur Android TV Replay http://t.co/k8LZQkCzNh</td>\n      <td>in macedonia migrants fill trains for serbia afp in replay on android tv replay</td>\n      <td>NaN</td>\n      <td>twitter</td>\n      <td>train</td>\n      <td>NaN</td>\n      <td>2019-09-12 04:08:04.000000</td>\n      <td>0.63</td>\n      <td>0.12</td>\n      <td>['macedonia', 'serbia']</td>\n      <td>NaN</td>\n      <td>NaN</td>\n      <td>NaN</td>\n      <td>0101000000575BB1BFEC6E35400000000000004540</td>\n      <td>NaN</td>\n    </tr>\n    <tr>\n      <th>795</th>\n      <td>\"Macedonia, ancora frontiere chiuse. I migranti passano dal filo spinato\" - http://t.co/lt7wNeffC7 http://t.co/jvg5cMgDxk</td>\n      <td>macedonia still closed borders migrants pass by barbed wire</td>\n      <td>['http://pbs.twimg.com/media/CNBxOh7WoAAP-zV.jpg']</td>\n      <td>twitter</td>\n      <td>NaN</td>\n      <td>NaN</td>\n      <td>2019-09-14 16:50:53.000000</td>\n      <td>0.81</td>\n      <td>0.04</td>\n      <td>['macedonia']</td>\n      <td>NaN</td>\n      <td>NaN</td>\n      <td>NaN</td>\n      <td>0101000000575BB1BFEC6E35400000000000004540</td>\n      <td>NaN</td>\n    </tr>\n    <tr>\n      <th>1158</th>\n      <td>\"More than 130,000 #migrants have attempted to cross the Mediterranean in 2015\"  http://t.co/ZOvpUsTx1d</td>\n      <td>more than 130 000 migrants have attempted to cross the mediterranean in 2015</td>\n      <td>NaN</td>\n      <td>twitter</td>\n      <td>NaN</td>\n      <td>NaN</td>\n      <td>2019-07-26 17:47:04.000000</td>\n      <td>0.53</td>\n      <td>0.94</td>\n      <td>[]</td>\n      <td>NaN</td>\n      <td>NaN</td>\n      <td>NaN</td>\n      <td>NaN</td>\n      <td>NaN</td>\n    </tr>\n    <tr>\n      <th>2364</th>\n      <td>\"On Thursday Slovenia reported that 12,000 migrants had arrived in one day - a record in the current crisis in Central Europe.\" - BBC</td>\n      <td>on thursday slovenia reported that 12 000 migrants had arrived in one day a record in the current crisis in central europe bbc</td>\n      <td>NaN</td>\n      <td>twitter</td>\n      <td>NaN</td>\n      <td>NaN</td>\n      <td>2019-11-15 21:14:00.000000</td>\n      <td>0.93</td>\n      <td>0.23</td>\n      <td>['slovenia']</td>\n      <td>NaN</td>\n      <td>NaN</td>\n      <td>NaN</td>\n      <td>0101000000151DC9E53F042D402CD49AE61D074740</td>\n      <td>NaN</td>\n    </tr>\n    <tr>\n      <th>1137</th>\n      <td>\"With Tel Abyad secured, the Syrian Kurds have managed to forge a corridor between Cezire and Kobani. On Monday,... http://t.co/iJDle1SzwW</td>\n      <td>with tel abyad secured the syrian kurds have managed to forge a corridor between cezire and kobani on monday</td>\n      <td>NaN</td>\n      <td>twitter</td>\n      <td>NaN</td>\n      <td>NaN</td>\n      <td>2019-07-10 16:24:53.000000</td>\n      <td>0.71</td>\n      <td>0.24</td>\n      <td>['syria']</td>\n      <td>NaN</td>\n      <td>NaN</td>\n      <td>NaN</td>\n      <td>0101000000E8D9ACFA5C254240EFC9C342ADC14040</td>\n      <td>NaN</td>\n    </tr>\n    <tr>\n      <th>574</th>\n      <td>#2015 Франция закрывает границу с Италией http://t.co/O77dBheZKv</td>\n      <td>2015 france closes the border with italy</td>\n      <td>NaN</td>\n      <td>twitter</td>\n      <td>NaN</td>\n      <td>2015.0</td>\n      <td>2019-07-09 09:59:43.000000</td>\n      <td>0.62</td>\n      <td>1.00</td>\n      <td>['france', 'italy']</td>\n      <td>NaN</td>\n      <td>NaN</td>\n      <td>NaN</td>\n      <td>NaN</td>\n      <td>NaN</td>\n    </tr>\n    <tr>\n      <th>2041</th>\n      <td>#AFP Slovenia to send back train from Croatia carrying 150 migrants - AFP: Slovenia to send back train from Cr... http://t.co/zNEN4XLp7h</td>\n      <td>afp slovenia to send back train from croatia carrying 150 migrants afp slovenia to send back train from cr</td>\n      <td>NaN</td>\n      <td>twitter</td>\n      <td>train</td>\n      <td>150.0</td>\n      <td>2019-10-11 17:14:05.000000</td>\n      <td>0.99</td>\n      <td>0.26</td>\n      <td>['slovenia', 'croatia']</td>\n      <td>NaN</td>\n      <td>HR0</td>\n      <td>NaN</td>\n      <td>0101000000151DC9E53F042D402CD49AE61D074740</td>\n      <td>NaN</td>\n    </tr>\n    <tr>\n      <th>253</th>\n      <td>#AUSTRIA #STANDARD #WIEN broadcastetd by #TheIsraelCompany: Kommentar von Michael Völker - Die Flüchtlinge und ihr... http://t.co/MAn0lwR3vI</td>\n      <td>austria standard vienna broadcastetd by theisraelcompany comment by michael völker the refugees and their</td>\n      <td>NaN</td>\n      <td>twitter</td>\n      <td>NaN</td>\n      <td>NaN</td>\n      <td>2019-09-22 16:16:11.000000</td>\n      <td>0.67</td>\n      <td>0.05</td>\n      <td>['austria', 'vienna', 'israel']</td>\n      <td>NaN</td>\n      <td>NaN</td>\n      <td>NaN</td>\n      <td>010100000076711B0DE05D30409A99999999194840</td>\n      <td>NaN</td>\n    </tr>\n    <tr>\n      <th>397</th>\n      <td>#AUSTRIA #STANDARD #WIEN broadcastetd by #TheIsraelCompany: Syrien - Putin schließt Einsatz von Bodentruppen in Sy... http://t.co/LGKZhvK6c2</td>\n      <td>austria standard vienna broadcastetd by theisraelcompany syria putin closes deployment of ground forces in sy</td>\n      <td>NaN</td>\n      <td>twitter</td>\n      <td>NaN</td>\n      <td>NaN</td>\n      <td>2019-10-21 04:15:59.000000</td>\n      <td>0.51</td>\n      <td>0.06</td>\n      <td>['austria', 'vienna', 'israel', 'syria']</td>\n      <td>NaN</td>\n      <td>NaN</td>\n      <td>NaN</td>\n      <td>010100000076711B0DE05D30409A99999999194840</td>\n      <td>NaN</td>\n    </tr>\n    <tr>\n      <th>959</th>\n      <td>#Afrique La longue marche des migrants qui franchissent les Alpes à pied http://t.co/Way1hlrjE9</td>\n      <td>africa the long march of migrants crossing the alps on foot</td>\n      <td>NaN</td>\n      <td>twitter</td>\n      <td>on foot</td>\n      <td>NaN</td>\n      <td>2019-07-24 11:43:36.000000</td>\n      <td>0.55</td>\n      <td>0.49</td>\n      <td>[]</td>\n      <td>NaN</td>\n      <td>NaN</td>\n      <td>NaN</td>\n      <td>NaN</td>\n      <td>NaN</td>\n    </tr>\n  </tbody>\n</table>\n</div>",
          "text/plain": "                                                                                                                                                  text  \\\nuniqueid                                                                                                                                                 \n969       \"En Macédoine, les migrants remplissent les trains pour la Serbie - AFP\" en replay sur Android TV Replay http://t.co/k8LZQkCzNh                \n795       \"Macedonia, ancora frontiere chiuse. I migranti passano dal filo spinato\" - http://t.co/lt7wNeffC7 http://t.co/jvg5cMgDxk                      \n1158      \"More than 130,000 #migrants have attempted to cross the Mediterranean in 2015\"  http://t.co/ZOvpUsTx1d                                        \n2364      \"On Thursday Slovenia reported that 12,000 migrants had arrived in one day - a record in the current crisis in Central Europe.\" - BBC          \n1137      \"With Tel Abyad secured, the Syrian Kurds have managed to forge a corridor between Cezire and Kobani. On Monday,... http://t.co/iJDle1SzwW     \n574       #2015 Франция закрывает границу с Италией http://t.co/O77dBheZKv                                                                               \n2041      #AFP Slovenia to send back train from Croatia carrying 150 migrants - AFP: Slovenia to send back train from Cr... http://t.co/zNEN4XLp7h       \n253       #AUSTRIA #STANDARD #WIEN broadcastetd by #TheIsraelCompany: Kommentar von Michael Völker - Die Flüchtlinge und ihr... http://t.co/MAn0lwR3vI   \n397       #AUSTRIA #STANDARD #WIEN broadcastetd by #TheIsraelCompany: Syrien - Putin schließt Einsatz von Bodentruppen in Sy... http://t.co/LGKZhvK6c2   \n959       #Afrique La longue marche des migrants qui franchissent les Alpes à pied http://t.co/Way1hlrjE9                                                \n\n                                                                                                                         text_translated  \\\nuniqueid                                                                                                                                   \n969       in macedonia migrants fill trains for serbia afp in replay on android tv replay                                                  \n795       macedonia still closed borders migrants pass by barbed wire                                                                      \n1158      more than 130 000 migrants have attempted to cross the mediterranean in 2015                                                     \n2364      on thursday slovenia reported that 12 000 migrants had arrived in one day a record in the current crisis in central europe bbc   \n1137      with tel abyad secured the syrian kurds have managed to forge a corridor between cezire and kobani on monday                     \n574       2015 france closes the border with italy                                                                                         \n2041      afp slovenia to send back train from croatia carrying 150 migrants afp slovenia to send back train from cr                       \n253       austria standard vienna broadcastetd by theisraelcompany comment by michael völker the refugees and their                        \n397       austria standard vienna broadcastetd by theisraelcompany syria putin closes deployment of ground forces in sy                    \n959       africa the long march of migrants crossing the alps on foot                                                                      \n\n                                                       media   source  \\\nuniqueid                                                                \n969       NaN                                                 twitter   \n795       ['http://pbs.twimg.com/media/CNBxOh7WoAAP-zV.jpg']  twitter   \n1158      NaN                                                 twitter   \n2364      NaN                                                 twitter   \n1137      NaN                                                 twitter   \n574       NaN                                                 twitter   \n2041      NaN                                                 twitter   \n253       NaN                                                 twitter   \n397       NaN                                                 twitter   \n959       NaN                                                 twitter   \n\n             mode  num_persons                  _timestamp  confidence  \\\nuniqueid                                                                 \n969       train   NaN           2019-09-12 04:08:04.000000  0.63         \n795       NaN     NaN           2019-09-14 16:50:53.000000  0.81         \n1158      NaN     NaN           2019-07-26 17:47:04.000000  0.53         \n2364      NaN     NaN           2019-11-15 21:14:00.000000  0.93         \n1137      NaN     NaN           2019-07-10 16:24:53.000000  0.71         \n574       NaN      2015.0       2019-07-09 09:59:43.000000  0.62         \n2041      train    150.0        2019-10-11 17:14:05.000000  0.99         \n253       NaN     NaN           2019-09-22 16:16:11.000000  0.67         \n397       NaN     NaN           2019-10-21 04:15:59.000000  0.51         \n959       on foot NaN           2019-07-24 11:43:36.000000  0.55         \n\n          source_reliability                                 locations  \\\nuniqueid                                                                 \n969       0.12                ['macedonia', 'serbia']                    \n795       0.04                ['macedonia']                              \n1158      0.94                []                                         \n2364      0.23                ['slovenia']                               \n1137      0.24                ['syria']                                  \n574       1.00                ['france', 'italy']                        \n2041      0.26                ['slovenia', 'croatia']                    \n253       0.05                ['austria', 'vienna', 'israel']            \n397       0.06                ['austria', 'vienna', 'israel', 'syria']   \n959       0.49                []                                         \n\n          origin_bool origin destination  \\\nuniqueid                                   \n969      NaN           NaN    NaN          \n795      NaN           NaN    NaN          \n1158     NaN           NaN    NaN          \n2364     NaN           NaN    NaN          \n1137     NaN           NaN    NaN          \n574      NaN           NaN    NaN          \n2041     NaN           HR0    NaN          \n253      NaN           NaN    NaN          \n397      NaN           NaN    NaN          \n959      NaN           NaN    NaN          \n\n                                          geom_tweet  triage_status  \nuniqueid                                                             \n969       0101000000575BB1BFEC6E35400000000000004540 NaN             \n795       0101000000575BB1BFEC6E35400000000000004540 NaN             \n1158      NaN                                        NaN             \n2364      0101000000151DC9E53F042D402CD49AE61D074740 NaN             \n1137      0101000000E8D9ACFA5C254240EFC9C342ADC14040 NaN             \n574       NaN                                        NaN             \n2041      0101000000151DC9E53F042D402CD49AE61D074740 NaN             \n253       010100000076711B0DE05D30409A99999999194840 NaN             \n397       010100000076711B0DE05D30409A99999999194840 NaN             \n959       NaN                                        NaN             "
         },
         "metadata": {},
         "output_type": "display_data"
        }
       ]
      }
     },
     "de273c3e28fb4e1a8bce86d1daafef0e": {
      "model_module": "@jupyter-widgets/controls",
      "model_module_version": "1.5.0",
      "model_name": "ButtonStyleModel",
      "state": {
       "_model_module_version": "1.5.0",
       "_view_module_version": "1.2.0"
      }
     },
     "de719d1b7b304c228b1d3977edadafb6": {
      "model_module": "@jupyter-widgets/base",
      "model_module_version": "1.2.0",
      "model_name": "LayoutModel",
      "state": {
       "_model_module_version": "1.2.0",
       "_view_module_version": "1.2.0",
       "justify_items": null,
       "object_fit": null,
       "object_position": null
      }
     },
     "de893ebb3a194eccb4047e6492bb85ad": {
      "model_module": "@jupyter-widgets/controls",
      "model_module_version": "1.5.0",
      "model_name": "DescriptionStyleModel",
      "state": {
       "_model_module_version": "1.5.0",
       "_view_module_version": "1.2.0",
       "description_width": ""
      }
     },
     "ded2e0602ecd48388a78d53a8e3444e6": {
      "model_module": "@jupyter-widgets/controls",
      "model_module_version": "1.5.0",
      "model_name": "DropdownModel",
      "state": {
       "_model_module_version": "1.5.0",
       "_options_labels": [
        "10",
        "20",
        "50"
       ],
       "_view_module_version": "1.5.0",
       "description": "items per page",
       "index": 0,
       "layout": "IPY_MODEL_9eff0e75419f4aa4b3a71046d86e2854",
       "style": "IPY_MODEL_fb73a427d50e4c05b300cb22391ff447"
      }
     },
     "deee71e12555496a99b94c2801d8cdf7": {
      "model_module": "@jupyter-widgets/base",
      "model_module_version": "1.2.0",
      "model_name": "LayoutModel",
      "state": {
       "_model_module_version": "1.2.0",
       "_view_module_version": "1.2.0",
       "justify_items": null,
       "object_fit": null,
       "object_position": null
      }
     },
     "def6fafca06f4663be6513617aa70bcd": {
      "model_module": "@jupyter-widgets/controls",
      "model_module_version": "1.5.0",
      "model_name": "AccordionModel",
      "state": {
       "_model_module_version": "1.5.0",
       "_titles": {
        "0": "Sorting",
        "1": "Required Values",
        "2": "Searching",
        "3": "Save filtered Data"
       },
       "_view_module_version": "1.5.0",
       "children": [
        "IPY_MODEL_89bef5380782423081db46d1cafbd91a",
        "IPY_MODEL_10f1a23aaa8d4645be8a311318b88d10",
        "IPY_MODEL_275e2b2f840f4b39b5002c2ff699bfe5",
        "IPY_MODEL_9400930b2e494354a9dbcf9d90916884"
       ],
       "layout": "IPY_MODEL_a163b99707714ddca311eba8a169b325"
      }
     },
     "df75d9176f804b38a3c8a42b5f3c9242": {
      "model_module": "@jupyter-widgets/base",
      "model_module_version": "1.2.0",
      "model_name": "LayoutModel",
      "state": {
       "_model_module_version": "1.2.0",
       "_view_module_version": "1.2.0",
       "justify_items": null,
       "object_fit": null,
       "object_position": null
      }
     },
     "df9df8ad82cf42e9802937a6691a1b49": {
      "model_module": "@jupyter-widgets/base",
      "model_module_version": "1.2.0",
      "model_name": "LayoutModel",
      "state": {
       "_model_module_version": "1.2.0",
       "_view_module_version": "1.2.0",
       "height": "50px",
       "justify_items": null,
       "object_fit": null,
       "object_position": null
      }
     },
     "dfcc8988c95e449687c6c7035c2e2098": {
      "model_module": "@jupyter-widgets/base",
      "model_module_version": "1.2.0",
      "model_name": "LayoutModel",
      "state": {
       "_model_module_version": "1.2.0",
       "_view_module_version": "1.2.0",
       "justify_items": null,
       "object_fit": null,
       "object_position": null
      }
     },
     "e000701d4b7149298538e5740d2e0adc": {
      "model_module": "@jupyter-widgets/controls",
      "model_module_version": "1.5.0",
      "model_name": "VBoxModel",
      "state": {
       "_model_module_version": "1.5.0",
       "_view_module_version": "1.5.0",
       "children": [
        "IPY_MODEL_262028c91d61498db99f0b459e28fc45",
        "IPY_MODEL_a6f5752ea7ce4ce6b6f94fc0b1a1de84"
       ],
       "layout": "IPY_MODEL_9df5731b51c14e92a84484c08bff23e7"
      }
     },
     "e00cb0a5f8004e1996d98634629b95d5": {
      "model_module": "@jupyter-widgets/base",
      "model_module_version": "1.2.0",
      "model_name": "LayoutModel",
      "state": {
       "_model_module_version": "1.2.0",
       "_view_module_version": "1.2.0",
       "justify_items": null,
       "object_fit": null,
       "object_position": null
      }
     },
     "e013e4133b9549c0931bcc38cbf0e209": {
      "model_module": "@jupyter-widgets/controls",
      "model_module_version": "1.5.0",
      "model_name": "HTMLModel",
      "state": {
       "_model_module_version": "1.5.0",
       "_view_module_version": "1.5.0",
       "layout": "IPY_MODEL_9a769e14744143c9b3e7c951ac8fb75f",
       "style": "IPY_MODEL_8512adda0e854f159e84588134554188",
       "value": "<h3>Sorting</h3>"
      }
     },
     "e03864cc50204ac38ec882ab1048d43f": {
      "model_module": "@jupyter-widgets/controls",
      "model_module_version": "1.5.0",
      "model_name": "ButtonStyleModel",
      "state": {
       "_model_module_version": "1.5.0",
       "_view_module_version": "1.2.0"
      }
     },
     "e046d01267064c20b8af7d41cce3b233": {
      "model_module": "@jupyter-widgets/base",
      "model_module_version": "1.2.0",
      "model_name": "LayoutModel",
      "state": {
       "_model_module_version": "1.2.0",
       "_view_module_version": "1.2.0",
       "justify_items": null,
       "object_fit": null,
       "object_position": null
      }
     },
     "e071cfc177ed4538ba0147818561e25d": {
      "model_module": "@jupyter-widgets/output",
      "model_module_version": "1.0.0",
      "model_name": "OutputModel",
      "state": {
       "layout": "IPY_MODEL_32d9522401e94f4fb6011e2bc4fe04b2",
       "outputs": [
        {
         "data": {
          "image/png": "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\n",
          "text/plain": "<Figure size 432x288 with 1 Axes>"
         },
         "metadata": {
          "needs_background": "light"
         },
         "output_type": "display_data"
        }
       ]
      }
     },
     "e12005cb227b40579e88cd2e3b673d51": {
      "model_module": "@jupyter-widgets/base",
      "model_module_version": "1.2.0",
      "model_name": "LayoutModel",
      "state": {
       "_model_module_version": "1.2.0",
       "_view_module_version": "1.2.0",
       "justify_items": null,
       "object_fit": null,
       "object_position": null
      }
     },
     "e120ff78f5364738aebd0607014e0d25": {
      "model_module": "@jupyter-widgets/controls",
      "model_module_version": "1.5.0",
      "model_name": "GridBoxModel",
      "state": {
       "_model_module_version": "1.5.0",
       "_view_module_version": "1.5.0",
       "children": [
        "IPY_MODEL_6ae92ebfb4b24d33b58af676bac289dd",
        "IPY_MODEL_6c770e0b53074f3d81542958cd73dfe0"
       ],
       "layout": "IPY_MODEL_555912ed0de04fc78f76d5491ba0db94"
      }
     },
     "e1678e9c1edb4605b546c9afd6d9c3c5": {
      "model_module": "@jupyter-widgets/controls",
      "model_module_version": "1.5.0",
      "model_name": "LabelModel",
      "state": {
       "_model_module_version": "1.5.0",
       "_view_module_version": "1.5.0",
       "layout": "IPY_MODEL_746ac87ca0aa4a5dbaa7baa42493adaf",
       "style": "IPY_MODEL_7610b35eda3e4ed6aed784c971e97020",
       "value": "2654 rows"
      }
     },
     "e181ab30b9954963990da50eae830991": {
      "model_module": "@jupyter-widgets/controls",
      "model_module_version": "1.5.0",
      "model_name": "DropdownModel",
      "state": {
       "_model_module_version": "1.5.0",
       "_options_labels": [
        "10",
        "20",
        "50"
       ],
       "_view_module_version": "1.5.0",
       "description": "items per page",
       "index": 0,
       "layout": "IPY_MODEL_5ec1e6535c9d4502aa421895816ec605",
       "style": "IPY_MODEL_16d092bcb0be47b9988f8c480144dcca"
      }
     },
     "e19eb1dcede44921998c36038974b61d": {
      "model_module": "@jupyter-widgets/base",
      "model_module_version": "1.2.0",
      "model_name": "LayoutModel",
      "state": {
       "_model_module_version": "1.2.0",
       "_view_module_version": "1.2.0",
       "justify_items": null,
       "object_fit": null,
       "object_position": null
      }
     },
     "e1e42f0722a54d64a2804274c3d41708": {
      "model_module": "@jupyter-widgets/base",
      "model_module_version": "1.2.0",
      "model_name": "LayoutModel",
      "state": {
       "_model_module_version": "1.2.0",
       "_view_module_version": "1.2.0",
       "justify_items": null,
       "object_fit": null,
       "object_position": null,
       "width": "30px"
      }
     },
     "e232ec6da4b845438af2534ec09fb7cd": {
      "model_module": "@jupyter-widgets/controls",
      "model_module_version": "1.5.0",
      "model_name": "DescriptionStyleModel",
      "state": {
       "_model_module_version": "1.5.0",
       "_view_module_version": "1.2.0",
       "description_width": ""
      }
     },
     "e23d1b94b5474af2b84d24d9b2476998": {
      "model_module": "@jupyter-widgets/controls",
      "model_module_version": "1.5.0",
      "model_name": "DescriptionStyleModel",
      "state": {
       "_model_module_version": "1.5.0",
       "_view_module_version": "1.2.0",
       "description_width": ""
      }
     },
     "e240e4a484e942ef83b257765856739a": {
      "model_module": "@jupyter-widgets/controls",
      "model_module_version": "1.5.0",
      "model_name": "ButtonModel",
      "state": {
       "_model_module_version": "1.5.0",
       "_view_module_version": "1.5.0",
       "description": "save",
       "layout": "IPY_MODEL_09f97fe596ea4a909b173de324f81547",
       "style": "IPY_MODEL_cde7cd43b3344a20b0a0931690cad121"
      }
     },
     "e28844fb558a4ca69fe92f77bae94189": {
      "model_module": "@jupyter-widgets/base",
      "model_module_version": "1.2.0",
      "model_name": "LayoutModel",
      "state": {
       "_model_module_version": "1.2.0",
       "_view_module_version": "1.2.0",
       "justify_items": null,
       "object_fit": null,
       "object_position": null
      }
     },
     "e29d07af0a4844719e521a038ef0dee0": {
      "model_module": "@jupyter-widgets/base",
      "model_module_version": "1.2.0",
      "model_name": "LayoutModel",
      "state": {
       "_model_module_version": "1.2.0",
       "_view_module_version": "1.2.0",
       "grid_area": "top-left",
       "justify_items": null,
       "object_fit": null,
       "object_position": null
      }
     },
     "e2ac27e9f21347a88f3288c0daf94b60": {
      "model_module": "@jupyter-widgets/controls",
      "model_module_version": "1.5.0",
      "model_name": "LabelModel",
      "state": {
       "_model_module_version": "1.5.0",
       "_view_module_version": "1.5.0",
       "layout": "IPY_MODEL_5345991607164413af2055b53bb5ebb4",
       "style": "IPY_MODEL_2d7bce83bb3d446fbee0ad3fed871fd1"
      }
     },
     "e31058ad729743ee86ef52c348fa2ef1": {
      "model_module": "@jupyter-widgets/base",
      "model_module_version": "1.2.0",
      "model_name": "LayoutModel",
      "state": {
       "_model_module_version": "1.2.0",
       "_view_module_version": "1.2.0",
       "justify_items": null,
       "object_fit": null,
       "object_position": null,
       "width": "20%"
      }
     },
     "e326875aa99c4550b2c31c8c655d0904": {
      "model_module": "@jupyter-widgets/controls",
      "model_module_version": "1.5.0",
      "model_name": "HTMLModel",
      "state": {
       "_model_module_version": "1.5.0",
       "_view_module_version": "1.5.0",
       "layout": "IPY_MODEL_e574af22ac254b3dbd99c8bd17d45a88",
       "style": "IPY_MODEL_feeafc27105c4eeb8202b6005a9ae5b0",
       "value": "Select multiple by dragging or ctrl + click"
      }
     },
     "e38b68a25aa14a1aa77119c0799a7ebd": {
      "model_module": "@jupyter-widgets/base",
      "model_module_version": "1.2.0",
      "model_name": "LayoutModel",
      "state": {
       "_model_module_version": "1.2.0",
       "_view_module_version": "1.2.0",
       "grid_area": "top-right",
       "justify_items": null,
       "object_fit": null,
       "object_position": null
      }
     },
     "e3d9016cb39d45a09ae2a8d9c7ed6a3f": {
      "model_module": "@jupyter-widgets/controls",
      "model_module_version": "1.5.0",
      "model_name": "DescriptionStyleModel",
      "state": {
       "_model_module_version": "1.5.0",
       "_view_module_version": "1.2.0",
       "description_width": ""
      }
     },
     "e3fe0e7303cb41d99ad44c26abbf8e0e": {
      "model_module": "@jupyter-widgets/base",
      "model_module_version": "1.2.0",
      "model_name": "LayoutModel",
      "state": {
       "_model_module_version": "1.2.0",
       "_view_module_version": "1.2.0",
       "justify_items": null,
       "object_fit": null,
       "object_position": null
      }
     },
     "e402397cc2df4169ae12ed412aeb88c7": {
      "model_module": "@jupyter-widgets/controls",
      "model_module_version": "1.5.0",
      "model_name": "IntSliderModel",
      "state": {
       "_model_module_version": "1.5.0",
       "_view_module_version": "1.5.0",
       "layout": "IPY_MODEL_db96b3307e5e44f59205331dc20750ec",
       "max": 5,
       "min": 1,
       "style": "IPY_MODEL_1d5cf45ede8143fda9ced6430ea09d05",
       "value": 1
      }
     },
     "e40d9edf5fc741728b4786894125166d": {
      "model_module": "@jupyter-widgets/controls",
      "model_module_version": "1.5.0",
      "model_name": "DescriptionStyleModel",
      "state": {
       "_model_module_version": "1.5.0",
       "_view_module_version": "1.2.0",
       "description_width": ""
      }
     },
     "e44832cf34a64c6fb76931efc92e630c": {
      "model_module": "@jupyter-widgets/base",
      "model_module_version": "1.2.0",
      "model_name": "LayoutModel",
      "state": {
       "_model_module_version": "1.2.0",
       "_view_module_version": "1.2.0",
       "justify_items": null,
       "object_fit": null,
       "object_position": null
      }
     },
     "e45efc8ef8ac41a5a706b6f657b82a80": {
      "model_module": "@jupyter-widgets/base",
      "model_module_version": "1.2.0",
      "model_name": "LayoutModel",
      "state": {
       "_model_module_version": "1.2.0",
       "_view_module_version": "1.2.0",
       "justify_items": null,
       "object_fit": null,
       "object_position": null
      }
     },
     "e4ab9700ef8d442a8d692d6f4b6a7ee3": {
      "model_module": "@jupyter-widgets/base",
      "model_module_version": "1.2.0",
      "model_name": "LayoutModel",
      "state": {
       "_model_module_version": "1.2.0",
       "_view_module_version": "1.2.0",
       "justify_items": null,
       "object_fit": null,
       "object_position": null
      }
     },
     "e4ed5bddc7af49c4bc47842959252426": {
      "model_module": "@jupyter-widgets/controls",
      "model_module_version": "1.5.0",
      "model_name": "VBoxModel",
      "state": {
       "_model_module_version": "1.5.0",
       "_view_module_version": "1.5.0",
       "children": [
        "IPY_MODEL_d6f14d8e2a904079971b9d61372ad085",
        "IPY_MODEL_9d722427919546af889145f3cd85f234"
       ],
       "layout": "IPY_MODEL_41cb846f48b44f0aac358111cd93136b"
      }
     },
     "e4fd62c627194d70a40405a621b75732": {
      "model_module": "@jupyter-widgets/controls",
      "model_module_version": "1.5.0",
      "model_name": "ToggleButtonModel",
      "state": {
       "_model_module_version": "1.5.0",
       "_view_module_version": "1.5.0",
       "description": "ascending",
       "layout": "IPY_MODEL_3db62e09cd4042148a1e42db1feea3fa",
       "style": "IPY_MODEL_a8fff95c44234928afe02a42c2c99202",
       "value": true
      }
     },
     "e5460f0231b74495934e1e61c112f93a": {
      "model_module": "@jupyter-widgets/controls",
      "model_module_version": "1.5.0",
      "model_name": "DropdownModel",
      "state": {
       "_model_module_version": "1.5.0",
       "_options_labels": [
        "text",
        "text_translated",
        "media",
        "source",
        "mode",
        "num_persons",
        "_timestamp",
        "confidence",
        "source_reliability",
        "locations",
        "origin_bool",
        "origin",
        "destination",
        "geom_tweet",
        "triage_status"
       ],
       "_view_module_version": "1.5.0",
       "index": 0,
       "layout": "IPY_MODEL_69b51e50b7ab4cc896962f47803121ee",
       "style": "IPY_MODEL_24c03a4471bd460bb2f805017b355e83"
      }
     },
     "e574af22ac254b3dbd99c8bd17d45a88": {
      "model_module": "@jupyter-widgets/base",
      "model_module_version": "1.2.0",
      "model_name": "LayoutModel",
      "state": {
       "_model_module_version": "1.2.0",
       "_view_module_version": "1.2.0",
       "justify_items": null,
       "object_fit": null,
       "object_position": null
      }
     },
     "e57e6ecf8cb349aca0ee52982695cf58": {
      "model_module": "@jupyter-widgets/controls",
      "model_module_version": "1.5.0",
      "model_name": "DescriptionStyleModel",
      "state": {
       "_model_module_version": "1.5.0",
       "_view_module_version": "1.2.0",
       "description_width": ""
      }
     },
     "e5c07b647f6840fe8198e8902a6e8972": {
      "model_module": "@jupyter-widgets/controls",
      "model_module_version": "1.5.0",
      "model_name": "SliderStyleModel",
      "state": {
       "_model_module_version": "1.5.0",
       "_view_module_version": "1.2.0",
       "description_width": ""
      }
     },
     "e5ebde36e13e4ced9a9cd1efca43a2d4": {
      "model_module": "@jupyter-widgets/output",
      "model_module_version": "1.0.0",
      "model_name": "OutputModel",
      "state": {
       "layout": "IPY_MODEL_ce6c4d80ed3046d48f93bf908afbe291",
       "outputs": [
        {
         "data": {
          "text/html": "<div>\n<style scoped>\n    .dataframe tbody tr th:only-of-type {\n        vertical-align: middle;\n    }\n\n    .dataframe tbody tr th {\n        vertical-align: top;\n    }\n\n    .dataframe thead th {\n        text-align: right;\n    }\n</style>\n<table border=\"1\" class=\"dataframe\">\n  <thead>\n    <tr style=\"text-align: right;\">\n      <th></th>\n      <th>text</th>\n      <th>text_translated</th>\n      <th>media</th>\n      <th>source</th>\n      <th>mode</th>\n      <th>num_persons</th>\n      <th>_timestamp</th>\n      <th>confidence</th>\n      <th>source_reliability</th>\n      <th>locations</th>\n      <th>origin_bool</th>\n      <th>origin</th>\n      <th>destination</th>\n      <th>geom_tweet</th>\n      <th>triage_status</th>\n    </tr>\n    <tr>\n      <th>uniqueid</th>\n      <th></th>\n      <th></th>\n      <th></th>\n      <th></th>\n      <th></th>\n      <th></th>\n      <th></th>\n      <th></th>\n      <th></th>\n      <th></th>\n      <th></th>\n      <th></th>\n      <th></th>\n      <th></th>\n      <th></th>\n    </tr>\n  </thead>\n  <tbody>\n    <tr>\n      <th>969</th>\n      <td>\"En Macédoine, les migrants remplissent les trains pour la Serbie - AFP\" en replay sur Android TV Replay http://t.co/k8LZQkCzNh</td>\n      <td>in macedonia migrants fill trains for serbia afp in replay on android tv replay</td>\n      <td>NaN</td>\n      <td>twitter</td>\n      <td>train</td>\n      <td>NaN</td>\n      <td>2019-09-12 04:08:04.000000</td>\n      <td>0.63</td>\n      <td>0.12</td>\n      <td>['macedonia', 'serbia']</td>\n      <td>NaN</td>\n      <td>NaN</td>\n      <td>NaN</td>\n      <td>0101000000575BB1BFEC6E35400000000000004540</td>\n      <td>NaN</td>\n    </tr>\n    <tr>\n      <th>795</th>\n      <td>\"Macedonia, ancora frontiere chiuse. I migranti passano dal filo spinato\" - http://t.co/lt7wNeffC7 http://t.co/jvg5cMgDxk</td>\n      <td>macedonia still closed borders migrants pass by barbed wire</td>\n      <td>['http://pbs.twimg.com/media/CNBxOh7WoAAP-zV.jpg']</td>\n      <td>twitter</td>\n      <td>NaN</td>\n      <td>NaN</td>\n      <td>2019-09-14 16:50:53.000000</td>\n      <td>0.81</td>\n      <td>0.04</td>\n      <td>['macedonia']</td>\n      <td>NaN</td>\n      <td>NaN</td>\n      <td>NaN</td>\n      <td>0101000000575BB1BFEC6E35400000000000004540</td>\n      <td>NaN</td>\n    </tr>\n    <tr>\n      <th>1158</th>\n      <td>\"More than 130,000 #migrants have attempted to cross the Mediterranean in 2015\"  http://t.co/ZOvpUsTx1d</td>\n      <td>more than 130 000 migrants have attempted to cross the mediterranean in 2015</td>\n      <td>NaN</td>\n      <td>twitter</td>\n      <td>NaN</td>\n      <td>NaN</td>\n      <td>2019-07-26 17:47:04.000000</td>\n      <td>0.53</td>\n      <td>0.94</td>\n      <td>[]</td>\n      <td>NaN</td>\n      <td>NaN</td>\n      <td>NaN</td>\n      <td>NaN</td>\n      <td>NaN</td>\n    </tr>\n    <tr>\n      <th>2364</th>\n      <td>\"On Thursday Slovenia reported that 12,000 migrants had arrived in one day - a record in the current crisis in Central Europe.\" - BBC</td>\n      <td>on thursday slovenia reported that 12 000 migrants had arrived in one day a record in the current crisis in central europe bbc</td>\n      <td>NaN</td>\n      <td>twitter</td>\n      <td>NaN</td>\n      <td>NaN</td>\n      <td>2019-11-15 21:14:00.000000</td>\n      <td>0.93</td>\n      <td>0.23</td>\n      <td>['slovenia']</td>\n      <td>NaN</td>\n      <td>NaN</td>\n      <td>NaN</td>\n      <td>0101000000151DC9E53F042D402CD49AE61D074740</td>\n      <td>NaN</td>\n    </tr>\n    <tr>\n      <th>1137</th>\n      <td>\"With Tel Abyad secured, the Syrian Kurds have managed to forge a corridor between Cezire and Kobani. On Monday,... http://t.co/iJDle1SzwW</td>\n      <td>with tel abyad secured the syrian kurds have managed to forge a corridor between cezire and kobani on monday</td>\n      <td>NaN</td>\n      <td>twitter</td>\n      <td>NaN</td>\n      <td>NaN</td>\n      <td>2019-07-10 16:24:53.000000</td>\n      <td>0.71</td>\n      <td>0.24</td>\n      <td>['syria']</td>\n      <td>NaN</td>\n      <td>NaN</td>\n      <td>NaN</td>\n      <td>0101000000E8D9ACFA5C254240EFC9C342ADC14040</td>\n      <td>NaN</td>\n    </tr>\n    <tr>\n      <th>574</th>\n      <td>#2015 Франция закрывает границу с Италией http://t.co/O77dBheZKv</td>\n      <td>2015 france closes the border with italy</td>\n      <td>NaN</td>\n      <td>twitter</td>\n      <td>NaN</td>\n      <td>2015.0</td>\n      <td>2019-07-09 09:59:43.000000</td>\n      <td>0.62</td>\n      <td>1.00</td>\n      <td>['france', 'italy']</td>\n      <td>NaN</td>\n      <td>NaN</td>\n      <td>NaN</td>\n      <td>NaN</td>\n      <td>NaN</td>\n    </tr>\n    <tr>\n      <th>2041</th>\n      <td>#AFP Slovenia to send back train from Croatia carrying 150 migrants - AFP: Slovenia to send back train from Cr... http://t.co/zNEN4XLp7h</td>\n      <td>afp slovenia to send back train from croatia carrying 150 migrants afp slovenia to send back train from cr</td>\n      <td>NaN</td>\n      <td>twitter</td>\n      <td>train</td>\n      <td>150.0</td>\n      <td>2019-10-11 17:14:05.000000</td>\n      <td>0.99</td>\n      <td>0.26</td>\n      <td>['slovenia', 'croatia']</td>\n      <td>NaN</td>\n      <td>HR0</td>\n      <td>NaN</td>\n      <td>0101000000151DC9E53F042D402CD49AE61D074740</td>\n      <td>NaN</td>\n    </tr>\n    <tr>\n      <th>253</th>\n      <td>#AUSTRIA #STANDARD #WIEN broadcastetd by #TheIsraelCompany: Kommentar von Michael Völker - Die Flüchtlinge und ihr... http://t.co/MAn0lwR3vI</td>\n      <td>austria standard vienna broadcastetd by theisraelcompany comment by michael völker the refugees and their</td>\n      <td>NaN</td>\n      <td>twitter</td>\n      <td>NaN</td>\n      <td>NaN</td>\n      <td>2019-09-22 16:16:11.000000</td>\n      <td>0.67</td>\n      <td>0.05</td>\n      <td>['austria', 'vienna', 'israel']</td>\n      <td>NaN</td>\n      <td>NaN</td>\n      <td>NaN</td>\n      <td>010100000076711B0DE05D30409A99999999194840</td>\n      <td>NaN</td>\n    </tr>\n    <tr>\n      <th>397</th>\n      <td>#AUSTRIA #STANDARD #WIEN broadcastetd by #TheIsraelCompany: Syrien - Putin schließt Einsatz von Bodentruppen in Sy... http://t.co/LGKZhvK6c2</td>\n      <td>austria standard vienna broadcastetd by theisraelcompany syria putin closes deployment of ground forces in sy</td>\n      <td>NaN</td>\n      <td>twitter</td>\n      <td>NaN</td>\n      <td>NaN</td>\n      <td>2019-10-21 04:15:59.000000</td>\n      <td>0.51</td>\n      <td>0.06</td>\n      <td>['austria', 'vienna', 'israel', 'syria']</td>\n      <td>NaN</td>\n      <td>NaN</td>\n      <td>NaN</td>\n      <td>010100000076711B0DE05D30409A99999999194840</td>\n      <td>NaN</td>\n    </tr>\n    <tr>\n      <th>959</th>\n      <td>#Afrique La longue marche des migrants qui franchissent les Alpes à pied http://t.co/Way1hlrjE9</td>\n      <td>africa the long march of migrants crossing the alps on foot</td>\n      <td>NaN</td>\n      <td>twitter</td>\n      <td>on foot</td>\n      <td>NaN</td>\n      <td>2019-07-24 11:43:36.000000</td>\n      <td>0.55</td>\n      <td>0.49</td>\n      <td>[]</td>\n      <td>NaN</td>\n      <td>NaN</td>\n      <td>NaN</td>\n      <td>NaN</td>\n      <td>NaN</td>\n    </tr>\n  </tbody>\n</table>\n</div>",
          "text/plain": "                                                                                                                                                  text  \\\nuniqueid                                                                                                                                                 \n969       \"En Macédoine, les migrants remplissent les trains pour la Serbie - AFP\" en replay sur Android TV Replay http://t.co/k8LZQkCzNh                \n795       \"Macedonia, ancora frontiere chiuse. I migranti passano dal filo spinato\" - http://t.co/lt7wNeffC7 http://t.co/jvg5cMgDxk                      \n1158      \"More than 130,000 #migrants have attempted to cross the Mediterranean in 2015\"  http://t.co/ZOvpUsTx1d                                        \n2364      \"On Thursday Slovenia reported that 12,000 migrants had arrived in one day - a record in the current crisis in Central Europe.\" - BBC          \n1137      \"With Tel Abyad secured, the Syrian Kurds have managed to forge a corridor between Cezire and Kobani. On Monday,... http://t.co/iJDle1SzwW     \n574       #2015 Франция закрывает границу с Италией http://t.co/O77dBheZKv                                                                               \n2041      #AFP Slovenia to send back train from Croatia carrying 150 migrants - AFP: Slovenia to send back train from Cr... http://t.co/zNEN4XLp7h       \n253       #AUSTRIA #STANDARD #WIEN broadcastetd by #TheIsraelCompany: Kommentar von Michael Völker - Die Flüchtlinge und ihr... http://t.co/MAn0lwR3vI   \n397       #AUSTRIA #STANDARD #WIEN broadcastetd by #TheIsraelCompany: Syrien - Putin schließt Einsatz von Bodentruppen in Sy... http://t.co/LGKZhvK6c2   \n959       #Afrique La longue marche des migrants qui franchissent les Alpes à pied http://t.co/Way1hlrjE9                                                \n\n                                                                                                                         text_translated  \\\nuniqueid                                                                                                                                   \n969       in macedonia migrants fill trains for serbia afp in replay on android tv replay                                                  \n795       macedonia still closed borders migrants pass by barbed wire                                                                      \n1158      more than 130 000 migrants have attempted to cross the mediterranean in 2015                                                     \n2364      on thursday slovenia reported that 12 000 migrants had arrived in one day a record in the current crisis in central europe bbc   \n1137      with tel abyad secured the syrian kurds have managed to forge a corridor between cezire and kobani on monday                     \n574       2015 france closes the border with italy                                                                                         \n2041      afp slovenia to send back train from croatia carrying 150 migrants afp slovenia to send back train from cr                       \n253       austria standard vienna broadcastetd by theisraelcompany comment by michael völker the refugees and their                        \n397       austria standard vienna broadcastetd by theisraelcompany syria putin closes deployment of ground forces in sy                    \n959       africa the long march of migrants crossing the alps on foot                                                                      \n\n                                                       media   source  \\\nuniqueid                                                                \n969       NaN                                                 twitter   \n795       ['http://pbs.twimg.com/media/CNBxOh7WoAAP-zV.jpg']  twitter   \n1158      NaN                                                 twitter   \n2364      NaN                                                 twitter   \n1137      NaN                                                 twitter   \n574       NaN                                                 twitter   \n2041      NaN                                                 twitter   \n253       NaN                                                 twitter   \n397       NaN                                                 twitter   \n959       NaN                                                 twitter   \n\n             mode  num_persons                  _timestamp  confidence  \\\nuniqueid                                                                 \n969       train   NaN           2019-09-12 04:08:04.000000  0.63         \n795       NaN     NaN           2019-09-14 16:50:53.000000  0.81         \n1158      NaN     NaN           2019-07-26 17:47:04.000000  0.53         \n2364      NaN     NaN           2019-11-15 21:14:00.000000  0.93         \n1137      NaN     NaN           2019-07-10 16:24:53.000000  0.71         \n574       NaN      2015.0       2019-07-09 09:59:43.000000  0.62         \n2041      train    150.0        2019-10-11 17:14:05.000000  0.99         \n253       NaN     NaN           2019-09-22 16:16:11.000000  0.67         \n397       NaN     NaN           2019-10-21 04:15:59.000000  0.51         \n959       on foot NaN           2019-07-24 11:43:36.000000  0.55         \n\n          source_reliability                                 locations  \\\nuniqueid                                                                 \n969       0.12                ['macedonia', 'serbia']                    \n795       0.04                ['macedonia']                              \n1158      0.94                []                                         \n2364      0.23                ['slovenia']                               \n1137      0.24                ['syria']                                  \n574       1.00                ['france', 'italy']                        \n2041      0.26                ['slovenia', 'croatia']                    \n253       0.05                ['austria', 'vienna', 'israel']            \n397       0.06                ['austria', 'vienna', 'israel', 'syria']   \n959       0.49                []                                         \n\n          origin_bool origin destination  \\\nuniqueid                                   \n969      NaN           NaN    NaN          \n795      NaN           NaN    NaN          \n1158     NaN           NaN    NaN          \n2364     NaN           NaN    NaN          \n1137     NaN           NaN    NaN          \n574      NaN           NaN    NaN          \n2041     NaN           HR0    NaN          \n253      NaN           NaN    NaN          \n397      NaN           NaN    NaN          \n959      NaN           NaN    NaN          \n\n                                          geom_tweet  triage_status  \nuniqueid                                                             \n969       0101000000575BB1BFEC6E35400000000000004540 NaN             \n795       0101000000575BB1BFEC6E35400000000000004540 NaN             \n1158      NaN                                        NaN             \n2364      0101000000151DC9E53F042D402CD49AE61D074740 NaN             \n1137      0101000000E8D9ACFA5C254240EFC9C342ADC14040 NaN             \n574       NaN                                        NaN             \n2041      0101000000151DC9E53F042D402CD49AE61D074740 NaN             \n253       010100000076711B0DE05D30409A99999999194840 NaN             \n397       010100000076711B0DE05D30409A99999999194840 NaN             \n959       NaN                                        NaN             "
         },
         "metadata": {},
         "output_type": "display_data"
        }
       ]
      }
     },
     "e6a6eec1efa24882a52ae6759d569612": {
      "model_module": "@jupyter-widgets/output",
      "model_module_version": "1.0.0",
      "model_name": "OutputModel",
      "state": {
       "layout": "IPY_MODEL_c85a57e0c7c14964a75f1d6ee469cacd",
       "outputs": [
        {
         "data": {
          "application/vnd.jupyter.widget-view+json": {
           "model_id": "5216920a93b34eeebd5f44fd6797329d",
           "version_major": 2,
           "version_minor": 0
          },
          "text/plain": "HBox(children=(IntSlider(value=1, layout=Layout(width='60%'), max=266, min=1), Label(value='of 266 pages with …"
         },
         "metadata": {},
         "output_type": "display_data"
        },
        {
         "data": {
          "application/vnd.jupyter.widget-view+json": {
           "model_id": "e5ebde36e13e4ced9a9cd1efca43a2d4",
           "version_major": 2,
           "version_minor": 0
          },
          "text/plain": "Output()"
         },
         "metadata": {},
         "output_type": "display_data"
        }
       ]
      }
     },
     "e7127266454344dd961a75ab056318a5": {
      "model_module": "@jupyter-widgets/base",
      "model_module_version": "1.2.0",
      "model_name": "LayoutModel",
      "state": {
       "_model_module_version": "1.2.0",
       "_view_module_version": "1.2.0",
       "justify_items": null,
       "object_fit": null,
       "object_position": null
      }
     },
     "e79394e79ae54e919c42101d8f1fdef4": {
      "model_module": "@jupyter-widgets/controls",
      "model_module_version": "1.5.0",
      "model_name": "TextModel",
      "state": {
       "_model_module_version": "1.5.0",
       "_view_module_version": "1.5.0",
       "layout": "IPY_MODEL_06eceebb989c497abaa21f4467d3345b",
       "style": "IPY_MODEL_cfbce2738aab44eb8ccf92b1d2bf635f",
       "value": "filtered_data.csv"
      }
     },
     "e79da431bc3743e6875b11d8cd875d40": {
      "model_module": "@jupyter-widgets/controls",
      "model_module_version": "1.5.0",
      "model_name": "DescriptionStyleModel",
      "state": {
       "_model_module_version": "1.5.0",
       "_view_module_version": "1.2.0",
       "description_width": ""
      }
     },
     "e7e5c5a3bea24b1ab5ebc62ae200ba96": {
      "model_module": "@jupyter-widgets/base",
      "model_module_version": "1.2.0",
      "model_name": "LayoutModel",
      "state": {
       "_model_module_version": "1.2.0",
       "_view_module_version": "1.2.0",
       "justify_items": null,
       "object_fit": null,
       "object_position": null
      }
     },
     "e80c60ebc85440e58815e4386f9248e0": {
      "model_module": "@jupyter-widgets/controls",
      "model_module_version": "1.5.0",
      "model_name": "DescriptionStyleModel",
      "state": {
       "_model_module_version": "1.5.0",
       "_view_module_version": "1.2.0",
       "description_width": ""
      }
     },
     "e85ab107412742acab5bb81bdae0b904": {
      "model_module": "@jupyter-widgets/controls",
      "model_module_version": "1.5.0",
      "model_name": "ButtonModel",
      "state": {
       "_model_module_version": "1.5.0",
       "_view_module_version": "1.5.0",
       "icon": "chevron-left",
       "layout": "IPY_MODEL_3c015cb7c90c4e1cb5b651978dbb74d6",
       "style": "IPY_MODEL_c437de8babf14b27b9d495db49986057"
      }
     },
     "e86ed6735eab44b788c31e9302c7d10d": {
      "model_module": "@jupyter-widgets/controls",
      "model_module_version": "1.5.0",
      "model_name": "DescriptionStyleModel",
      "state": {
       "_model_module_version": "1.5.0",
       "_view_module_version": "1.2.0",
       "description_width": ""
      }
     },
     "e890363a01134e81a1b431aece95fad4": {
      "model_module": "@jupyter-widgets/base",
      "model_module_version": "1.2.0",
      "model_name": "LayoutModel",
      "state": {
       "_model_module_version": "1.2.0",
       "_view_module_version": "1.2.0",
       "justify_items": null,
       "object_fit": null,
       "object_position": null,
       "width": "20%"
      }
     },
     "e8c7987eb67441d483ecaae34fac8c2f": {
      "model_module": "@jupyter-widgets/base",
      "model_module_version": "1.2.0",
      "model_name": "LayoutModel",
      "state": {
       "_model_module_version": "1.2.0",
       "_view_module_version": "1.2.0",
       "justify_items": null,
       "object_fit": null,
       "object_position": null
      }
     },
     "e8c8aa125eb34e9d8186d5909ebb45e2": {
      "model_module": "@jupyter-widgets/base",
      "model_module_version": "1.2.0",
      "model_name": "LayoutModel",
      "state": {
       "_model_module_version": "1.2.0",
       "_view_module_version": "1.2.0",
       "justify_items": null,
       "object_fit": null,
       "object_position": null
      }
     },
     "e900f76f75804f808bb4802a5f435762": {
      "model_module": "@jupyter-widgets/controls",
      "model_module_version": "1.5.0",
      "model_name": "HBoxModel",
      "state": {
       "_model_module_version": "1.5.0",
       "_view_module_version": "1.5.0",
       "children": [
        "IPY_MODEL_522863969c8e470aa4e2961f07108262",
        "IPY_MODEL_ef775be1816a4151a4f22ec5b1ab4db0",
        "IPY_MODEL_eee51acf6b114dd8b7e8976c98051aa7"
       ],
       "layout": "IPY_MODEL_6f72dcfd2b2a4678aef5c1331bb3e8cb"
      }
     },
     "e92b0091ff784130a1ab050700d0ddcd": {
      "model_module": "@jupyter-widgets/base",
      "model_module_version": "1.2.0",
      "model_name": "LayoutModel",
      "state": {
       "_model_module_version": "1.2.0",
       "_view_module_version": "1.2.0",
       "justify_items": null,
       "object_fit": null,
       "object_position": null,
       "width": "30px"
      }
     },
     "e93706302cc74074854a3a2f8993eec2": {
      "model_module": "@jupyter-widgets/controls",
      "model_module_version": "1.5.0",
      "model_name": "ButtonStyleModel",
      "state": {
       "_model_module_version": "1.5.0",
       "_view_module_version": "1.2.0"
      }
     },
     "e9fdd7d15ddb4639a4a0ad6e22077222": {
      "model_module": "@jupyter-widgets/controls",
      "model_module_version": "1.5.0",
      "model_name": "HTMLModel",
      "state": {
       "_model_module_version": "1.5.0",
       "_view_module_version": "1.5.0",
       "layout": "IPY_MODEL_e00cb0a5f8004e1996d98634629b95d5",
       "style": "IPY_MODEL_b856922c621b433290844739bc17ac41",
       "value": "<h3>Sorting</h3>"
      }
     },
     "ea78641d79e14ec7a9afce1c885a17c7": {
      "model_module": "@jupyter-widgets/controls",
      "model_module_version": "1.5.0",
      "model_name": "GridBoxModel",
      "state": {
       "_model_module_version": "1.5.0",
       "_view_module_version": "1.5.0",
       "children": [
        "IPY_MODEL_b683e96a7c384564bf45f3e5ef20d1f0",
        "IPY_MODEL_0fc195f8277e43a3852f36c92e123fa4"
       ],
       "layout": "IPY_MODEL_048bba15471043839ae320e23824985c"
      }
     },
     "eabbe2e6cb6442cda3ddbe44ac42df5b": {
      "model_module": "@jupyter-widgets/output",
      "model_module_version": "1.0.0",
      "model_name": "OutputModel",
      "state": {
       "layout": "IPY_MODEL_9211c605d7e84eeb8f608153cad60319",
       "outputs": [
        {
         "data": {
          "image/png": "iVBORw0KGgoAAAANSUhEUgAAAagAAAEoCAYAAAANAmUYAAAABHNCSVQICAgIfAhkiAAAAAlwSFlzAAALEgAACxIB0t1+/AAAADh0RVh0U29mdHdhcmUAbWF0cGxvdGxpYiB2ZXJzaW9uMy4xLjAsIGh0dHA6Ly9tYXRwbG90bGliLm9yZy+17YcXAAAgAElEQVR4nO3de7xVZZ3H8c9XQEFR8FKUHBIvZJGk5kHtMg3ojGmZOo3XDO8xNZo2OSZWM9o0TTaNOdp0o8FCK0+O2WheI5XMEk1MRUVHUtSDincEFRH6zR/r2bLZHNj7XNzrOft836/XeZ29nvXstX6LfVi//TzrWc9SRGBmZpabDcoOwMzMrCtOUGZmliUnKDMzy5ITlJmZZckJyszMsuQEZWZmWXKCMusFSTtK+qOkpZJOLjueMkk6RtLNZcdhrcMJyppG0kmSbpf0qqQfdbF+b0n3S3pZ0o2StikhzOp4zpL04zrVPg/MjohNI+L8ZsTVVySFpB3Ws94Jx0rlBGXN9Djwr8AFtSskbQVcBvwTsAVwO/CzpkbXM9sA965rpaRBTYzFrKU4QVnTRMRlEfG/wLNdrP4YcG9E/E9ELAfOAnaW9I6utiVpoaTTJN0t6SVJMySNknRN6m77taTNq+ofIOleSS9Imi3pnVXrTpe0KL3vgdSS2xf4AnCYpGWS7uoihhuAycB/pTpvl/QjSd+VdLWkl4DJkjaS9B+SHpW0WNL3JA2r2s5pkp6Q9Lik46pbNinWE6rqrtGqkfQOSbMkPZdiP7Rq3Y8kfVvSVenYbpW0fVp3U6p2V4r9sJpjeyfwPeC9af0LqXyEpAslPS3pEUlfktTleUTSNyTdLGlEWj5O0nxJz0u6rrqFnI75U5IeTOu/LUlp3Q6SfiNpiaRnJPWHLy7WB5ygLBfvAl5PAhHxEvCnVL4ufwv8NfB24KPANRRJZSuKv+2TASS9HbgY+CzwJuBq4JeSNpS0I3ASMDEiNgU+BCyMiGuBfwN+FhHDI2Ln2p1HxF7Ab4GTUp3/S6s+DnwV2BS4Gfh6inEXYAdgNPDPKbZ9gX9MxzEO+KsG/72QtAkwC/gp8GbgCOA7kqr/zY4AvgxsDixIcRERH0zrd06xr3HSj4j5wKeAW9L6kWnVt4ARwHbAXwJHAcfWxLWBpB8A7wb2iYglkg6i+Gw+RvEZ/JbiM6m2PzAR2Bk4lOKzAPgK8Kt0DG0pBhsAnKAsF8OBJTVlSyhO8uvyrYhYHBGLKE54t0bEHyPiVeAXwK6p3mHAVRExKyJeA/4DGAa8D1gFbASMlzQkIhZGxJ96eSyXR8TvIuLPwKvAJ4F/iIjnImIpReI7PNU9FPhhRNyTkvJZ3djP/hTJ9IcRsTIi7gB+DhxcVeeyiLgtIlYCP6FIkj2SuisPA86IiKURsRA4B5hSVW0IReLZAvhoRLycyv8O+FpEzE+x/BuwS811xrMj4oWIeBS4sSrW1yi6UreOiOUR4etiA4QTlOViGbBZTdlmwNL1vGdx1etXulgenl5vDTxSWZESx2PA6IhYQNGyOgt4SlKHpK17cgBVHqt6/SZgY2Bu6l58Abg2lVdiq67/CI3bBtijst207SOBt1TVebLq9cus/jfpia2ADWtifISiRVixA3Ag8OWIWFET63lVcT4HqOa964r186nubamb9rheHIP1I05Qlot7Kbp2gNe7r7ZnPQMQuuFxihNkZdsCxgCLACLipxHxgVQnKLrkSK97ovp9z1Aky3dFxMj0MyIiKiffJ1IsFW+r2dZLFAmuojr5PAb8pmq7I1N33Kd7GPf6jgOKY6m0ZqrjXVS1PJ+iy++a1H1aHevf1cQ6LCJ+XzeIiCcj4pMRsTVFS+w76xt9aK3DCcqaRtJgSUOBQcAgSUMlDU6rfwHsJOlvU51/Bu6OiPv7YNeXAB9Jgx+GAKdSdL39XsV9THtJ2ghYTpFMVqX3LQbGrmsQQCNSa+0HwLmS3gwgabSkyvWVS4BjJI2XtDFwZs0m7gQ+JmnjdFI+vmrdlcDbJU2RNCT9TFTVAJA6FlNcS1rf+jZJG6ZjWZXi/aqkTVP33OeANYbiR8TFFNebfl0ZlEEx4OKMyvWxNNjikEaClHSIpLa0+DxF4ly1nrdYi3CCsmb6EkUCmAZ8Ir3+EkBEPE0x6OGrFCehPVh9naZXIuKBtL9vUbQCPkpxfWQFxfWns1P5kxSDDb6Q3vo/6fezku7oRQinUwxQmCPpReDXwI4ptmuA/wRuSHVuqHnvucAKimQxk+I6UuW4lgL7UPw7PZ7i/3o6pkacBcxM3W6HdrH+BooW7JOSnklln6Fo1T1EMQDkp3Rx20BEzAT+BbhB0tiI+EWKrSP9G9wD7NdgnBOBWyUtA64ATomIhxt8r/Vj8gMLzfIiKYBx6fqY2YDlFpSZmWXJCcrMzLLkLj4zM8uSW1BmZpalwfWrlGerrbaKsWPH9sm2XnrpJTbZZJM+2VZfclzd47gal2NM4Li6ayDENXfu3Gci4k1rrYiIbH9222236Cs33nhjn22rLzmu7nFcjcsxpgjH1V0DIS7g9ugiB7iLz8zMsuQEZWZmWXKCMjOzLGU9SMLMzOp77bXX6OzsZPny5U3b54gRI5g/f3633jN06FDa2toYMmRIQ/WdoMzM+rnOzk423XRTxo4dS3oQ8Rtu6dKlbLrp+h7XtqaI4Nlnn6Wzs5Ntt922ofe4i8/MrJ9bvnw5W265ZdOSU09IYsstt+xWK88JysysBeScnCq6G6MTlJmZZcnXoMzMWszYaVf16fYWnv2Rhupde+21nHLKKaxatYoTTjiBadOm9Wq/LZGgGvkwTp2wkmMaqNfoB2FmZqutWrWKE088kVmzZtHW1sbEiRM54IADGD9+fI+36S4+MzPrtdtuu40ddtiB7bbbjg033JDDDz+cyy+/vFfbrJugJF0g6SlJ91SVfUPS/ZLulvQLSSOr1p0haYGkByR9qKp831S2QFLv2n1mZpaVRYsWMWbMmNeX29raWLRoUa+22UgL6kfAvjVls4CdIuLdwP8BZwBIGg8cDrwrvec7kgZJGgR8G9gPGA8ckeqamVkLiC6eLdjbkYV1E1RE3AQ8V1P2q4hYmRbnAG3p9YFAR0S8GhEPAwuA3dPPgoh4KCJWAB2prpmZtYC2tjYee+yx15c7OzvZeuute7XNvrgGdRxwTXo9Gnisal1nKltXuZmZtYCJEyfy4IMP8vDDD7NixQo6Ojo44IADerXNhh75LmkscGVE7FRT/kWgHfhYRISkbwO3RMSP0/oZwNUUifBDEXFCKp8C7B4Rn+liX1OBqQCjRo3araOjo2588xYtqVtn1DBY/ErdakwYPaJ+pT60bNkyhg8f3tR9NsJxdU+OceUYEziu7mokrhEjRrDDDjs0KaLCqlWrGDRo0Bpl1113HdOmTWPVqlVMmTKF0047ba33LViwgCVL1jxnT548eW5EtNfW7fEwc0lHA/sDe8fqLNcJjKmq1gY8nl6vq3wNETEdmA7Q3t4ekyZNqhtLI8PHT52wknPm1T/chUfW319fmj17No0cY7M5ru7JMa4cYwLH1V2NxDV//vxuzYvXF7qai+/ggw/m4IMPXu/7hg4dyq677trQPnrUxSdpX+B04ICIeLlq1RXA4ZI2krQtMA64DfgDME7StpI2pBhIcUVP9m1mZgND3SaFpIuBScBWkjqBMylG7W0EzEqjNOZExKci4l5JlwD3ASuBEyNiVdrOScB1wCDggoi49w04HjMzaxF1E1REHNFF8Yz11P8q8NUuyq+muB5lZmZ9LCKynzC2kTEP1TyThJlZPzd06FCeffbZbieAZqo8D2ro0KENv6cl5uIzMxvI2tra6Ozs5Omnn27aPpcvX96tZAOrn6jbKCcoM7N+bsiQIQ0/pbavzJ49u+HReD3lLj4zM8uSE5SZmWXJCcrMzLLkBGVmZllygjIzsyw5QZmZWZacoMzMLEtOUGZmliUnKDMzy5ITlJmZZckJyszMsuQEZWZmWXKCMjOzLDlBmZlZlpygzMwsS05QZmaWJScoMzPLkhOUmZllyQnKzMyy5ARlZmZZcoIyM7Ms1U1Qki6Q9JSke6rKtpA0S9KD6ffmqVySzpe0QNLdkt5T9Z6jU/0HJR39xhyOmZm1ikZaUD8C9q0pmwZcHxHjgOvTMsB+wLj0MxX4LhQJDTgT2APYHTizktTMzMy6UjdBRcRNwHM1xQcCM9PrmcBBVeUXRmEOMFLSW4EPAbMi4rmIeB6YxdpJz8zM7HU9vQY1KiKeAEi/35zKRwOPVdXrTGXrKjczM+uSIqJ+JWkscGVE7JSWX4iIkVXrn4+IzSVdBXwtIm5O5dcDnwf2AjaKiH9N5f8EvBwR53Sxr6kU3YOMGjVqt46OjrrxzVu0pG6dUcNg8St1qzFh9Ij6lfrQsmXLGD58eFP32QjH1T05xpVjTOC4umsgxDV58uS5EdFeWz64h9tbLOmtEfFE6sJ7KpV3AmOq6rUBj6fySTXls7vacERMB6YDtLe3x6RJk7qqtoZjpl1Vt86pE1Zyzrz6h7vwyPr760uzZ8+mkWNsNsfVPTnGlWNM4Li6ayDH1dMuviuAyki8o4HLq8qPSqP59gSWpC7A64B9JG2eBkfsk8rMzMy6VLdJIeliitbPVpI6KUbjnQ1cIul44FHgkFT9auDDwALgZeBYgIh4TtJXgD+kev8SEbUDL8zMzF5XN0FFxBHrWLV3F3UDOHEd27kAuKBb0ZmZ2YDlmSTMzCxLTlBmZpYlJygzM8uSE5SZmWXJCcrMzLLkBGVmZllygjIzsyw5QZmZWZacoMzMLEtOUGZmliUnKDMzy5ITlJmZZckJyszMsuQEZWZmWXKCMjOzLDlBmZlZlpygzMwsS05QZmaWJScoMzPLkhOUmZllyQnKzMyy5ARlZmZZcoIyM7MsOUGZmVmWnKDMzCxLvUpQkv5B0r2S7pF0saShkraVdKukByX9TNKGqe5GaXlBWj+2Lw7AzMxaU48TlKTRwMlAe0TsBAwCDge+DpwbEeOA54Hj01uOB56PiB2Ac1M9MzOzLvW2i28wMEzSYGBj4AlgL+DStH4mcFB6fWBaJq3fW5J6uX8zM2tRioiev1k6Bfgq8ArwK+AUYE5qJSFpDHBNROwk6R5g34joTOv+BOwREc/UbHMqMBVg1KhRu3V0dNSNY96iJXXrjBoGi1+pf0wTRo+oX6kPLVu2jOHDhzd1n41wXN2TY1w5xgSOq7sGQlyTJ0+eGxHtteWDe7pBSZtTtIq2BV4A/gfYr4uqlQzYVWtprewYEdOB6QDt7e0xadKkurEcM+2qunVOnbCSc+bVP9yFR9bfX1+aPXs2jRxjszmu7skxrhxjAsfVXQM5rt508f0V8HBEPB0RrwGXAe8DRqYuP4A24PH0uhMYA5DWjwCe68X+zcyshfUmQT0K7Clp43QtaW/gPuBG4OBU52jg8vT6irRMWn9D9KZ/0czMWlqPE1RE3Eox2OEOYF7a1nTgdOBzkhYAWwIz0ltmAFum8s8B03oRt5mZtbgeX4MCiIgzgTNrih8Cdu+i7nLgkN7sz8zMBg7PJGFmZlnqVQvK1m9sg6MLGxmFuPDsj/RFSGZm/YZbUGZmliUnKDMzy5ITlJmZZckJyszMsuQEZWZmWXKCMjOzLDlBmZlZlpygzMwsS05QZmaWJScoMzPLkhOUmZllyQnKzMyy5ARlZmZZcoIyM7MsOUGZmVmWnKDMzCxLTlBmZpYlJygzM8uSE5SZmWXJCcrMzLLkBGVmZllygjIzsyz1KkFJGinpUkn3S5ov6b2StpA0S9KD6ffmqa4knS9pgaS7Jb2nbw7BzMxaUW9bUOcB10bEO4CdgfnANOD6iBgHXJ+WAfYDxqWfqcB3e7lvMzNrYT1OUJI2Az4IzACIiBUR8QJwIDAzVZsJHJReHwhcGIU5wEhJb+1x5GZm1tIUET17o7QLMB24j6L1NBc4BVgUESOr6j0fEZtLuhI4OyJuTuXXA6dHxO01251K0cJi1KhRu3V0dNSNZd6iJXXrjBoGi1+pf1wTRo+oX6lBucbViGXLljF8+PCm7rMRjqtxOcYEjqu7BkJckydPnhsR7bXlg3uxzcHAe4DPRMStks5jdXdeV9RF2VrZMSKmUyQ+2tvbY9KkSXUDOWbaVXXrnDphJefMq3+4C4+sv79G5RpXI2bPnk0j//bN5rgal2NM4Li6ayDH1ZtrUJ1AZ0TcmpYvpUhYiytdd+n3U1X1x1S9vw14vBf7NzOzFtbjBBURTwKPSdoxFe1N0d13BXB0KjsauDy9vgI4Ko3m2xNYEhFP9HT/ZmbW2nrTxQfwGeAnkjYEHgKOpUh6l0g6HngUOCTVvRr4MLAAeDnVtRKMbbDrsV4X5cKzP9JXIZmZraVXCSoi7gTWurBF0ZqqrRvAib3Zn5mZDRyeScLMzLLkBGVmZllygjIzsyw5QZmZWZacoMzMLEtOUGZmliUnKDMzy5ITlJmZZckJyszMstTbqY7M+kQj0y+Bp2AyG0jcgjIzsyw5QZmZWZacoMzMLEtOUGZmliUnKDMzy5ITlJmZZckJyszMsuQEZWZmWXKCMjOzLDlBmZlZlpygzMwsS56Lz2w9PEegWXncgjIzsyw5QZmZWZZ63cUnaRBwO7AoIvaXtC3QAWwB3AFMiYgVkjYCLgR2A54FDouIhb3dv9lA1EjXYyPdjuCuR8tXX7SgTgHmVy1/HTg3IsYBzwPHp/LjgecjYgfg3FTPzMysS71KUJLagI8A/52WBewFXJqqzAQOSq8PTMuk9Xun+mZmZmtRRPT8zdKlwNeATYF/BI4B5qRWEpLGANdExE6S7gH2jYjOtO5PwB4R8UzNNqcCUwFGjRq1W0dHR9045i1aUrfOqGGw+JX6xzRh9Ij6lRrU6nE1OyZwXBW5/m01YtmyZQwfPryp+2yE4+qevoxr8uTJcyOivba8x9egJO0PPBURcyVNqhR3UTUaWLe6IGI6MB2gvb09Jk2aVFtlLY30s586YSXnzKt/uAuPrL+/RrV6XM2OCRxXRa5/W42YPXs2jfy/bjbH1T3NiKs3gyTeDxwg6cPAUGAz4D+BkZIGR8RKoA14PNXvBMYAnZIGAyOA53qxfzMza2E9vgYVEWdERFtEjAUOB26IiCOBG4GDU7WjgcvT6yvSMmn9DdGb/kUzM2tpb8R9UKcDn5O0ANgSmJHKZwBbpvLPAdPegH2bmVmL6JOpjiJiNjA7vX4I2L2LOsuBQ/pif2Zm1vo8k4SZmWXJCcrMzLLkBGVmZllygjIzsyz5eVBm1mc8ia31JbegzMwsS05QZmaWJXfxmVnLc9dj/+QWlJmZZckJyszMsuQEZWZmWfI1KDOzEjRyXQwauzbWqtfF3IIyM7MsOUGZmVmW3MVnZmavy6nr0S0oMzPLkhOUmZllyQnKzMyy5ARlZmZZcoIyM7MsOUGZmVmWnKDMzCxLTlBmZpYlJygzM8tSjxOUpDGSbpQ0X9K9kk5J5VtImiXpwfR781QuSedLWiDpbknv6auDMDOz1tObFtRK4NSIeCewJ3CipPHANOD6iBgHXJ+WAfYDxqWfqcB3e7FvMzNrcT1OUBHxRETckV4vBeYDo4EDgZmp2kzgoPT6QODCKMwBRkp6a48jNzOzlqaI6P1GpLHATcBOwKMRMbJq3fMRsbmkK4GzI+LmVH49cHpE3F6zrakULSxGjRq1W0dHR939z1u0pG6dUcNg8Sv1j2XC6BH1KzWo1eNqdkzguCpa/W8LWj+u/vy3BX0b1+TJk+dGRHttea9nM5c0HPg58NmIeFHSOqt2UbZWdoyI6cB0gPb29pg0aVLdGOrNqAvFzLvnzKt/uAuPrL+/RrV6XM2OCRxXRav/bUHrx9Wf/7agOXH1ahSfpCEUyeknEXFZKl5c6bpLv59K5Z3AmKq3twGP92b/ZmbWunozik/ADGB+RHyzatUVwNHp9dHA5VXlR6XRfHsCSyLiiZ7u38zMWltvuvjeD0wB5km6M5V9ATgbuETS8cCjwCFp3dXAh4EFwMvAsb3Yt5mZtbgeJ6g02GFdF5z27qJ+ACf2dH9mZjaweCYJMzPLkhOUmZllyQnKzMyy5ARlZmZZcoIyM7MsOUGZmVmWnKDMzCxLTlBmZpYlJygzM8uSE5SZmWXJCcrMzLLkBGVmZllygjIzsyw5QZmZWZacoMzMLEtOUGZmliUnKDMzy5ITlJmZZckJyszMsuQEZWZmWXKCMjOzLDlBmZlZlpygzMwsS05QZmaWpaYnKEn7SnpA0gJJ05q9fzMz6x+amqAkDQK+DewHjAeOkDS+mTGYmVn/0OwW1O7Agoh4KCJWAB3AgU2OwczM+gFFRPN2Jh0M7BsRJ6TlKcAeEXFSVZ2pwNS0uCPwQB/tfivgmT7aVl9yXN3juBqXY0zguLprIMS1TUS8qbZwcB9tvFHqomyNDBkR04Hpfb5j6faIaO/r7faW4+oex9W4HGMCx9VdAzmuZnfxdQJjqpbbgMebHIOZmfUDzU5QfwDGSdpW0obA4cAVTY7BzMz6gaZ28UXESkknAdcBg4ALIuLeJu2+z7sN+4jj6h7H1bgcYwLH1V0DNq6mDpIwMzNrlGeSMDOzLDlBmZlZlpygzMwsS05QZmbWLZLe0pT9tOIgCUm/ioh9yo5jXSSNAiamxdsi4qky46km6X3AWKpGeEbEhaUFVEPSBsDwiHixpP1fFBFTJJ0SEeeVEcP6SHo/cGdEvCTpE8B7gPMi4pGS4xoJHMXaf1snlxjTBsDdEbFTWTGsi6T9gasj4s9lx9IVSXdExHve6P20agtqrSkzciHpUOA24BDgUODWNAVU6SRdBPwH8AGKBDoRKP0Odkk/lbSZpE2A+4AHJJ1WUji7SdoGOE7S5pK2qP4pKaZq3wVelrQz8HngESCHLxhXUySnecDcqp/SpJP/XZLeVmYc63A48KCkf5f0zrKD6UJXswL1uWZPddQsIyR9bF0rI+KyZgZT44vAxEqrSdKbgF8Dl5YYU0U7MD7ya1aPj4gXJR1JcaI7neLk9o0SYvkecC2wHWueYEUxbdd2JcRUbWVEhKQDKVpOMyQdXXJMAEMj4nNlB9GFtwL3SroNeKlSGBEHlBcSRMQnJG0GHAH8UFIAPwQujoilZcaW/KAZO2nZBAXsz7rn/iszQW1Q06X3LPm0ZO8B3gI8UXYgNYZIGgIcBPxXRLwmNeUL3Foi4nzgfEnfpUhWH0yrboqIu0oJak1LJZ0BTAH+Ij3iZkjJMQFcJOmTwJXAq5XCiHiuvJAA+HLJ+1+n9KXs58Aw4LPA3wCnSTo/Ir5VcmzfacZ+WjVBPRIRx5UdxDpcI+k64OK0fBhFqyAHWwH3pW+T1SeRUr9NAt8HFgJ3ATelLrYlpUYE9wM/pviyI4oT8A/KPnFQ/D19HDguIp5M3VdltDRrraCI44usniC69BZnRPwm/T2Ni4hfS9qYYpabUkk6ADgW2B64CNg9Ip5K8c0Hyv47a4pWHSTxx4jYtew4uiLp68CtFNd5BNwE7BkRp5caGCDpL7sqj4jfNDuWapK2jYiHq5YF7BARD5YY093AeyPipbS8CXBLRLy7rJgqujrhlt0tJOlPFI/WyeqxEalVNxXYIiK2lzQO+F5E7F1yXDOBGRFxUxfr9o6I60sIq+laNUHtFBH3dFE+CDg8In5SQliVGNYa/SLp7hxObLlax7/Z3IjYrcSY5lFcS1yelocCf4iICWXFlOLI9YR7BcX/vZfLjKOWpDspHqR6a+VLraR5ZX6O6Tx1XUT8VVkx5KJVu/geTf3woylmS58FnAT8I3An0PQEJenTwN8D26Vv3xWbAr9rdjzVJN0cER+QtJQ1n88lICJis5LiegfwLtYe9LIZMLSMmKr8kGIE5i/S8kHAjBLjqTiRdMIFiIgHJb253JAAWAXcKelG1uw+Lm2YefJqRKyoXNOUNJiaZ9Q1W0SskvSypBERUXZXdqlaNUFdBDwP3AKcAJwGbAgcGBF3lhTTT4FrgK8B06rKl5Z9oTgiPpB+b1pmHF3YkWKwy0jgo1XlS4FPlhJREhHflDSb1V21x0bEH8uMKcnuhJv8b/rJzW8kfQEYJumvKb5E/rLkmACWA/MkzWLN0YVlJ/SmatUuvteb6Km5/AzwtrL74a1nJL03Im4pO47+QNK/Ay9Q3BT7GYoT7n0R8cVSAwPSM+DenhYfiIjXyowHXr9Z93hgH4ovGtcB/132rRbrujUgImY2O5YytWqCWuOaRbPuerY3RrpX7JOsPQtBriM1S5PxCXcSMJNiNKYonqx9dFeDAMwqWjVBrWJ1s1gU9xG8TMnXVKxnJP0e+C3FjbGrKuUR8fPSgsqYpGEUPQYPlB1LhaS5wMcrMUl6O8VNp6UMdEmDXNZ58it70FIa3PI1YDxV11sjouwbwZuqJa9BRUTp9zFYn9o4h2H4/UG6f+YbFNdct5W0C/AvGdzLNqQ6YUbE/6Wbr8uyf/p9Yvp9Ufp9JMWX2bL9EDgTOBeYTHFPVDl3p5eoJVtQ1lok/Svw+4jI5YbmbKWWyl7A7Kph06XfxiDpAooWS3UiGBwRx5YXFUj6XUS8v15Zs1Vuo6i5nv7biPiLMuNqtlym2DFbn1OAKyW9IulFSUsllTKbeT+wMtOhyZ8G7gVOpvg87wM+VWpEhU0kfaCyoGI2/01KjKdiebqe+KCkkyT9DZDD7QJN1ZJdfNZaMhz+nrN7JH0cGJSuY5wM/L7MgNJI2hkR8Qngm2XG0oXjKCZjHUHRwluSysr2WWBjis/vKxSt4hwm/W0qd/FZvyBpc2Aca14w9giwGmlqoy+y5ii+r1RmvCgxruuAj0bEijLjqJZaKAdHxCVp5nBl2vocsJygLHuSTqDoFmqjmAlkT4p57/YqNTBrmKTvUzw88QrWvPG01BaVpJsi4oP1azaXpF+y9ijDJcDtwPfL/sLRLE5Qlr3KvHfAnIjYJU2B9OWIOKzk0LKT24lNq59A/ALFiLQ1RESpj7uQ9E/AK8DPWDNxljq7i6TzKB68Wv3UgycpbpnZLCKmlBVbM/kalPUHyyNiuSQkbRQR90vaseygMuLoJKoAAASrSURBVPUQa5/YFlPM4PADiudENVPlCcSPkucjIirXm06sKiv9MSDArjUtu19WWnuS7i0tqiZzgrL+oFPSSIq53GZJeh54vOSYcpXbia3yBOJtKVpxFVk8gTgiti1z/+vxJklvi4hHAVQ812urtC6b63hvNCcoy15E/E16eVaaDXsExUnP1pbViS2qnkAcEZ9u9v7rSTcLf5rVT0aeTdEVWvY8gacCN6fnaIkiwf99eu7YgJmPz9egLGtppNXdEbFT2bH0B5I+TNFqWePERnHi/WRE/Gd50eVH0n8DQ1h90p8CrIqIE8qLqiBpI+AdFJ/j/QNlYEQ1JyjLnqSfAGdUWgW2fj6xNU7SXRGxc72yMqSbhsey5gTJF5YWUAncxWf9wVuBeyXdxpojrcqeXy47ko6qKXq3pAF3YuuGVZK2j4g/AUjajqoJicsi6SJge4rbKirxBDCgPkcnKOsPSh2K3M9MrHo9FNgbuIMBdmLrhtOAGyU9lJbHUkzMWrZ2YHzZj0kpmxOUZS8iflN2DP1FRHymejlN4XPROqob/A74PkUiJ73O4eGY9wBvAZ4oO5Ay+RqUZU/SUtZ98+mpEfHQ2u8yeH2U2t0R8c6yY8mRpEuAF4GfpKIjgM0j4pDyooI0WnUX4Dbg1Ur5QOvWdgvK+oNvUtz39FOKC/+HU3y7fAC4AJhUWmSZqZlJYgOKB95dUl5E2duxZkDEjZLuKi2a1c4qO4AcuAVl2ZN0a0TsUVM2JyL2zGXEVdnSDBuvSvrLquKVwCMR0VlWXLmT9CPgexExJy3vQfEo+r8vNTAD3IKy/uHPkg4FLk3LB1et8zeswi0Uk7GeMFDmaeuNqke+DwGOkvRoWt6G4llVparp1t6QIs6XImKz8qJqPico6w+OBM4DvkPxn3YO8AlJw4CTygwsIxtKOhp4n6SP1a6MiMtKiCln+9evUp7aZ6BJOgjYvaRwSuMuPrMWkJ4KeyRwKMUjLapFROTwED7rhUq3dtlxNJNbUJYtSZ+PiH+X9C266MqLiJNLCCtLEXEzxdxtt0fEjLLjsd6paQVvQHFf1IBrTThBWc7mp9+3MwD/c/ZQh6QvAW+LiKnpse87RsSVZQdm3fLRqtcrgYXAgeWEUh538Vn2JE0EvsCa85JFRLy7tKAyJelnwFzgqIjYKV2nuyUidik5NLNucwvK+oMfU0xJMw/4c8mx5G77iDhM0hEAEfGKJJUdlDVmXd3ZFQOtW9sJyvqDpyOi9sK/dW1FajUFgKTtqZqJwLJX/VDHLwNnlhVIDtzFZ9mTtDfFFDTXs+a0Lx46XSW1lKYAx1PMIPEr4P3AMRExu8TQrAck/TEidi07jjK5BWX9wbEUzzcawuouvgCcoKpEREg6BdgH2JNiWqhTIuKZciOzHhrwrQcnKOsPdo6ICWUH0U/MAbaLiKvKDsSst5ygrD+YI2l8RJQ+BU0/MBn4O0mPUDzcUXjEY79RM8XRxpJerKyi+BwH1FRHvgZl2ZM0n+Lpog9TXIPySXcdJG3TVXlEPNLsWMx6ywnKsueTrtnA5ARlZmZZ2qDsAMzMzLriBGVmZllygjIzsyw5QZmZWZb+H3ksoV0adIYIAAAAAElFTkSuQmCC\n",
          "text/plain": "<Figure size 432x288 with 1 Axes>"
         },
         "metadata": {
          "needs_background": "light"
         },
         "output_type": "display_data"
        }
       ]
      }
     },
     "eb1011ae0ea84d2c8925f54f961cf754": {
      "model_module": "@jupyter-widgets/output",
      "model_module_version": "1.0.0",
      "model_name": "OutputModel",
      "state": {
       "layout": "IPY_MODEL_3ee4fa6bcc65463a87bf3bd9727a65ce"
      }
     },
     "eb1ca863b12d4b169d34b3ac03a816b3": {
      "model_module": "@jupyter-widgets/base",
      "model_module_version": "1.2.0",
      "model_name": "LayoutModel",
      "state": {
       "_model_module_version": "1.2.0",
       "_view_module_version": "1.2.0",
       "grid_template_areas": "\"top-left top-right\"\n\"top-left top-right\"",
       "grid_template_columns": "1fr 1fr",
       "grid_template_rows": "1fr 1fr",
       "justify_items": null,
       "object_fit": null,
       "object_position": null
      }
     },
     "eb212e43fba44404b400cfc977020d36": {
      "model_module": "@jupyter-widgets/controls",
      "model_module_version": "1.5.0",
      "model_name": "DescriptionStyleModel",
      "state": {
       "_model_module_version": "1.5.0",
       "_view_module_version": "1.2.0",
       "description_width": ""
      }
     },
     "eb2e32e6bfbf458d8a83cf6c96600a4b": {
      "model_module": "@jupyter-widgets/controls",
      "model_module_version": "1.5.0",
      "model_name": "DescriptionStyleModel",
      "state": {
       "_model_module_version": "1.5.0",
       "_view_module_version": "1.2.0",
       "description_width": ""
      }
     },
     "eb47a1507f45487f8844c5074f4ba09d": {
      "model_module": "@jupyter-widgets/base",
      "model_module_version": "1.2.0",
      "model_name": "LayoutModel",
      "state": {
       "_model_module_version": "1.2.0",
       "_view_module_version": "1.2.0",
       "justify_items": null,
       "object_fit": null,
       "object_position": null
      }
     },
     "eb6db8a9b95c4b0abca562eed867dfce": {
      "model_module": "@jupyter-widgets/controls",
      "model_module_version": "1.5.0",
      "model_name": "DropdownModel",
      "state": {
       "_model_module_version": "1.5.0",
       "_options_labels": [
        "text",
        "text_translated",
        "media",
        "source",
        "mode",
        "num_persons",
        "_timestamp",
        "confidence",
        "source_reliability",
        "locations",
        "origin_bool",
        "origin",
        "destination",
        "geom_tweet",
        "triage_status"
       ],
       "_view_module_version": "1.5.0",
       "index": 0,
       "layout": "IPY_MODEL_ebdadf5e52cc4919982af6588f60dfae",
       "style": "IPY_MODEL_c5708e9ccca042e0a935f717d29a4873"
      }
     },
     "eb7741e3213d496e9471aa8a49edfb34": {
      "model_module": "@jupyter-widgets/controls",
      "model_module_version": "1.5.0",
      "model_name": "LabelModel",
      "state": {
       "_model_module_version": "1.5.0",
       "_view_module_version": "1.5.0",
       "layout": "IPY_MODEL_f40ad77e01a1435d9d42f77ed24e72bf",
       "style": "IPY_MODEL_60ea8d1f9dd944cdaf7458318ee7c722",
       "value": "Search Columns"
      }
     },
     "eb90bd128f124426bd1be569357fcf91": {
      "model_module": "@jupyter-widgets/base",
      "model_module_version": "1.2.0",
      "model_name": "LayoutModel",
      "state": {
       "_model_module_version": "1.2.0",
       "_view_module_version": "1.2.0",
       "height": "50px",
       "justify_items": null,
       "object_fit": null,
       "object_position": null
      }
     },
     "eba43708f56e4aa0990cabf278369fc5": {
      "model_module": "@jupyter-widgets/base",
      "model_module_version": "1.2.0",
      "model_name": "LayoutModel",
      "state": {
       "_model_module_version": "1.2.0",
       "_view_module_version": "1.2.0",
       "justify_items": null,
       "object_fit": null,
       "object_position": null
      }
     },
     "ebdadf5e52cc4919982af6588f60dfae": {
      "model_module": "@jupyter-widgets/base",
      "model_module_version": "1.2.0",
      "model_name": "LayoutModel",
      "state": {
       "_model_module_version": "1.2.0",
       "_view_module_version": "1.2.0",
       "justify_items": null,
       "object_fit": null,
       "object_position": null
      }
     },
     "ebf10d638fd446109d7889eaa7bcc278": {
      "model_module": "@jupyter-widgets/controls",
      "model_module_version": "1.5.0",
      "model_name": "TabModel",
      "state": {
       "_model_module_version": "1.5.0",
       "_titles": {
        "0": "Sorting",
        "1": "Required Values",
        "2": "Searching",
        "3": "Save filtered Data"
       },
       "_view_module_version": "1.5.0",
       "children": [
        "IPY_MODEL_f0abc8a95fb74b409db9409bbce7a49d",
        "IPY_MODEL_1f3194ac8ea84fc190d148fd3ace0a75",
        "IPY_MODEL_aa1b49193944480998b25b1883ba5fa4",
        "IPY_MODEL_ba3f5066a5464d6e92e1b27b62ce9a88"
       ],
       "layout": "IPY_MODEL_b675a1d6ebfe425e9067e8aa2e4b835c"
      }
     },
     "ecd846b8910140dcbe33fd8fb7bb7b4c": {
      "model_module": "@jupyter-widgets/controls",
      "model_module_version": "1.5.0",
      "model_name": "DescriptionStyleModel",
      "state": {
       "_model_module_version": "1.5.0",
       "_view_module_version": "1.2.0",
       "description_width": ""
      }
     },
     "ecf690b6137d42c893f229495e8c8f40": {
      "model_module": "@jupyter-widgets/controls",
      "model_module_version": "1.5.0",
      "model_name": "DescriptionStyleModel",
      "state": {
       "_model_module_version": "1.5.0",
       "_view_module_version": "1.2.0",
       "description_width": ""
      }
     },
     "ed05769babf946769f00e8fd5b8de553": {
      "model_module": "@jupyter-widgets/base",
      "model_module_version": "1.2.0",
      "model_name": "LayoutModel",
      "state": {
       "_model_module_version": "1.2.0",
       "_view_module_version": "1.2.0",
       "grid_area": "top-left",
       "justify_items": null,
       "object_fit": null,
       "object_position": null
      }
     },
     "ed1c9dc361ff4ad7a38e0e10cab5eefc": {
      "model_module": "@jupyter-widgets/controls",
      "model_module_version": "1.5.0",
      "model_name": "DescriptionStyleModel",
      "state": {
       "_model_module_version": "1.5.0",
       "_view_module_version": "1.2.0",
       "description_width": ""
      }
     },
     "eda1c9bf75544bb9bb94ff69baf05b2f": {
      "model_module": "@jupyter-widgets/controls",
      "model_module_version": "1.5.0",
      "model_name": "ToggleButtonModel",
      "state": {
       "_model_module_version": "1.5.0",
       "_view_module_version": "1.5.0",
       "description": "ascending",
       "layout": "IPY_MODEL_e12005cb227b40579e88cd2e3b673d51",
       "style": "IPY_MODEL_b1d3db1740614fa2834c1cdb8d15af04",
       "value": true
      }
     },
     "edd586035ee5488199730d9e0af97f14": {
      "model_module": "@jupyter-widgets/controls",
      "model_module_version": "1.5.0",
      "model_name": "DescriptionStyleModel",
      "state": {
       "_model_module_version": "1.5.0",
       "_view_module_version": "1.2.0",
       "description_width": ""
      }
     },
     "edeb0cd9b99f41e583a5a6d2fe59a05e": {
      "model_module": "@jupyter-widgets/base",
      "model_module_version": "1.2.0",
      "model_name": "LayoutModel",
      "state": {
       "_model_module_version": "1.2.0",
       "_view_module_version": "1.2.0",
       "justify_items": null,
       "object_fit": null,
       "object_position": null
      }
     },
     "ee43982233504010b84bd49d50b7a79e": {
      "model_module": "@jupyter-widgets/controls",
      "model_module_version": "1.5.0",
      "model_name": "IntSliderModel",
      "state": {
       "_model_module_version": "1.5.0",
       "_view_module_version": "1.5.0",
       "layout": "IPY_MODEL_29c049af2a8e444287067db97b59b354",
       "max": 5,
       "min": 1,
       "style": "IPY_MODEL_c5661b2277ff4a35ba8b7f819c13458e",
       "value": 1
      }
     },
     "ee5a474b36bb4b629f1e9389bb751bbd": {
      "model_module": "@jupyter-widgets/controls",
      "model_module_version": "1.5.0",
      "model_name": "DescriptionStyleModel",
      "state": {
       "_model_module_version": "1.5.0",
       "_view_module_version": "1.2.0",
       "description_width": ""
      }
     },
     "ee61de5d8edb4f1c828b281def105fe9": {
      "model_module": "@jupyter-widgets/controls",
      "model_module_version": "1.5.0",
      "model_name": "DescriptionStyleModel",
      "state": {
       "_model_module_version": "1.5.0",
       "_view_module_version": "1.2.0",
       "description_width": ""
      }
     },
     "eea02f6cd63849e993ae8d137ddf3bd0": {
      "model_module": "@jupyter-widgets/controls",
      "model_module_version": "1.5.0",
      "model_name": "DescriptionStyleModel",
      "state": {
       "_model_module_version": "1.5.0",
       "_view_module_version": "1.2.0",
       "description_width": ""
      }
     },
     "eeb6dc2e76dd465f81df78d3a3e9cf4e": {
      "model_module": "@jupyter-widgets/controls",
      "model_module_version": "1.5.0",
      "model_name": "HTMLModel",
      "state": {
       "_model_module_version": "1.5.0",
       "_view_module_version": "1.5.0",
       "layout": "IPY_MODEL_993b220eb821411bba6b1767b717aa90",
       "style": "IPY_MODEL_f5d60203d4fa49f383676f0c8394ba57",
       "value": "<h3>Required Values</h3>"
      }
     },
     "eeb84495e83c46a5a811b03fce4f15e8": {
      "model_module": "@jupyter-widgets/base",
      "model_module_version": "1.2.0",
      "model_name": "LayoutModel",
      "state": {
       "_model_module_version": "1.2.0",
       "_view_module_version": "1.2.0",
       "justify_items": null,
       "object_fit": null,
       "object_position": null
      }
     },
     "eee51acf6b114dd8b7e8976c98051aa7": {
      "model_module": "@jupyter-widgets/controls",
      "model_module_version": "1.5.0",
      "model_name": "DropdownModel",
      "state": {
       "_model_module_version": "1.5.0",
       "_options_labels": [
        "10",
        "20",
        "50"
       ],
       "_view_module_version": "1.5.0",
       "description": "items per page",
       "index": 0,
       "layout": "IPY_MODEL_e890363a01134e81a1b431aece95fad4",
       "style": "IPY_MODEL_e23d1b94b5474af2b84d24d9b2476998"
      }
     },
     "eefee22a3ffc4a17b9f2266fe5567e6d": {
      "model_module": "@jupyter-widgets/base",
      "model_module_version": "1.2.0",
      "model_name": "LayoutModel",
      "state": {
       "_model_module_version": "1.2.0",
       "_view_module_version": "1.2.0",
       "grid_area": "top-right",
       "justify_items": null,
       "object_fit": null,
       "object_position": null
      }
     },
     "ef0862cbb8414b8e9543f16aef08e512": {
      "model_module": "@jupyter-widgets/base",
      "model_module_version": "1.2.0",
      "model_name": "LayoutModel",
      "state": {
       "_model_module_version": "1.2.0",
       "_view_module_version": "1.2.0",
       "justify_items": null,
       "object_fit": null,
       "object_position": null
      }
     },
     "ef111f3b1b664b63a77b69c16af29952": {
      "model_module": "@jupyter-widgets/base",
      "model_module_version": "1.2.0",
      "model_name": "LayoutModel",
      "state": {
       "_model_module_version": "1.2.0",
       "_view_module_version": "1.2.0",
       "justify_items": null,
       "object_fit": null,
       "object_position": null
      }
     },
     "ef6ec974179847e08632c45284e3483d": {
      "model_module": "@jupyter-widgets/base",
      "model_module_version": "1.2.0",
      "model_name": "LayoutModel",
      "state": {
       "_model_module_version": "1.2.0",
       "_view_module_version": "1.2.0",
       "justify_items": null,
       "object_fit": null,
       "object_position": null
      }
     },
     "ef775be1816a4151a4f22ec5b1ab4db0": {
      "model_module": "@jupyter-widgets/controls",
      "model_module_version": "1.5.0",
      "model_name": "ToggleButtonModel",
      "state": {
       "_model_module_version": "1.5.0",
       "_view_module_version": "1.5.0",
       "description": "ascending",
       "layout": "IPY_MODEL_7ed557ee91a24e79b250aaadaaa97a25",
       "style": "IPY_MODEL_9e90f749d9c8454ab23955d1b0c7d7b3",
       "value": true
      }
     },
     "f04ed251e5f749b9ad49133bea0b5e38": {
      "model_module": "@jupyter-widgets/base",
      "model_module_version": "1.2.0",
      "model_name": "LayoutModel",
      "state": {
       "_model_module_version": "1.2.0",
       "_view_module_version": "1.2.0",
       "justify_items": null,
       "object_fit": null,
       "object_position": null
      }
     },
     "f07cf75a4cbe41b1b5ee9667d621928e": {
      "model_module": "@jupyter-widgets/base",
      "model_module_version": "1.2.0",
      "model_name": "LayoutModel",
      "state": {
       "_model_module_version": "1.2.0",
       "_view_module_version": "1.2.0",
       "height": "50px",
       "justify_items": null,
       "object_fit": null,
       "object_position": null
      }
     },
     "f0abc8a95fb74b409db9409bbce7a49d": {
      "model_module": "@jupyter-widgets/controls",
      "model_module_version": "1.5.0",
      "model_name": "HBoxModel",
      "state": {
       "_model_module_version": "1.5.0",
       "_view_module_version": "1.5.0",
       "children": [
        "IPY_MODEL_a8100c1fa93042e7bd93586edd084bc1",
        "IPY_MODEL_eda1c9bf75544bb9bb94ff69baf05b2f",
        "IPY_MODEL_791961b229de40708e47255381cbf773"
       ],
       "layout": "IPY_MODEL_069817cbf20e44e99cdf69732c70c862"
      }
     },
     "f0fb3592cd794a8193aa49cb52a8e35c": {
      "model_module": "@jupyter-widgets/base",
      "model_module_version": "1.2.0",
      "model_name": "LayoutModel",
      "state": {
       "_model_module_version": "1.2.0",
       "_view_module_version": "1.2.0",
       "justify_items": null,
       "object_fit": null,
       "object_position": null,
       "width": "30px"
      }
     },
     "f10630f76dda44a99e5f533099f38c11": {
      "model_module": "@jupyter-widgets/controls",
      "model_module_version": "1.5.0",
      "model_name": "DescriptionStyleModel",
      "state": {
       "_model_module_version": "1.5.0",
       "_view_module_version": "1.2.0",
       "description_width": ""
      }
     },
     "f14e0d56f1db4ac5a540a86265d2c868": {
      "model_module": "@jupyter-widgets/controls",
      "model_module_version": "1.5.0",
      "model_name": "SliderStyleModel",
      "state": {
       "_model_module_version": "1.5.0",
       "_view_module_version": "1.2.0",
       "description_width": ""
      }
     },
     "f1ab20924ae5442c808eeea2f47d12bd": {
      "model_module": "@jupyter-widgets/controls",
      "model_module_version": "1.5.0",
      "model_name": "DescriptionStyleModel",
      "state": {
       "_model_module_version": "1.5.0",
       "_view_module_version": "1.2.0",
       "description_width": ""
      }
     },
     "f1f7e78b5e324896996c0a649f48396d": {
      "model_module": "@jupyter-widgets/base",
      "model_module_version": "1.2.0",
      "model_name": "LayoutModel",
      "state": {
       "_model_module_version": "1.2.0",
       "_view_module_version": "1.2.0",
       "justify_items": null,
       "object_fit": null,
       "object_position": null
      }
     },
     "f2017664d18249f7a8b3269227013b60": {
      "model_module": "@jupyter-widgets/base",
      "model_module_version": "1.2.0",
      "model_name": "LayoutModel",
      "state": {
       "_model_module_version": "1.2.0",
       "_view_module_version": "1.2.0",
       "justify_items": null,
       "object_fit": null,
       "object_position": null
      }
     },
     "f25e0acf404b42469b9083034a3bfab4": {
      "model_module": "@jupyter-widgets/controls",
      "model_module_version": "1.5.0",
      "model_name": "DescriptionStyleModel",
      "state": {
       "_model_module_version": "1.5.0",
       "_view_module_version": "1.2.0",
       "description_width": ""
      }
     },
     "f2c694d68903489ea9e6d1bd32b4bed7": {
      "model_module": "@jupyter-widgets/controls",
      "model_module_version": "1.5.0",
      "model_name": "VBoxModel",
      "state": {
       "_model_module_version": "1.5.0",
       "_view_module_version": "1.5.0",
       "children": [
        "IPY_MODEL_6dde23873a2940e388e5badfaffaa012",
        "IPY_MODEL_9e666ec128584c12a7355dcf3c6c263a",
        "IPY_MODEL_fd4292c52a684bb784bcf72a860d6801"
       ],
       "layout": "IPY_MODEL_40ee7dd4c02b4137beae112bd10d6f3a"
      }
     },
     "f2d7a453795c4ec6b2fa73395a3ce2b7": {
      "model_module": "@jupyter-widgets/controls",
      "model_module_version": "1.5.0",
      "model_name": "DescriptionStyleModel",
      "state": {
       "_model_module_version": "1.5.0",
       "_view_module_version": "1.2.0",
       "description_width": ""
      }
     },
     "f2e0ee02edc74f289fe80ef47820a91f": {
      "model_module": "@jupyter-widgets/controls",
      "model_module_version": "1.5.0",
      "model_name": "LabelModel",
      "state": {
       "_model_module_version": "1.5.0",
       "_view_module_version": "1.5.0",
       "layout": "IPY_MODEL_4169361bc08f4655a4f60f6c0f159aa3",
       "style": "IPY_MODEL_8587fb14cdc6417a863630f66017e48c",
       "value": "Plot Columns"
      }
     },
     "f3293dfc75f5499eb839383eacf87125": {
      "model_module": "@jupyter-widgets/controls",
      "model_module_version": "1.5.0",
      "model_name": "DescriptionStyleModel",
      "state": {
       "_model_module_version": "1.5.0",
       "_view_module_version": "1.2.0",
       "description_width": ""
      }
     },
     "f34616e170b54e1c82bb719443e9a1f4": {
      "model_module": "@jupyter-widgets/controls",
      "model_module_version": "1.5.0",
      "model_name": "DescriptionStyleModel",
      "state": {
       "_model_module_version": "1.5.0",
       "_view_module_version": "1.2.0",
       "description_width": ""
      }
     },
     "f376583c764445149c6a15304ddc904f": {
      "model_module": "@jupyter-widgets/base",
      "model_module_version": "1.2.0",
      "model_name": "LayoutModel",
      "state": {
       "_model_module_version": "1.2.0",
       "_view_module_version": "1.2.0",
       "justify_items": null,
       "object_fit": null,
       "object_position": null
      }
     },
     "f38c89ae8486489bb4473f1fa6c16d9e": {
      "model_module": "@jupyter-widgets/base",
      "model_module_version": "1.2.0",
      "model_name": "LayoutModel",
      "state": {
       "_model_module_version": "1.2.0",
       "_view_module_version": "1.2.0",
       "justify_items": null,
       "object_fit": null,
       "object_position": null
      }
     },
     "f3afd339dc944d998ca5239cb995c165": {
      "model_module": "@jupyter-widgets/controls",
      "model_module_version": "1.5.0",
      "model_name": "DropdownModel",
      "state": {
       "_model_module_version": "1.5.0",
       "_options_labels": [
        "10",
        "20",
        "50"
       ],
       "_view_module_version": "1.5.0",
       "description": "items per page",
       "index": 0,
       "layout": "IPY_MODEL_e31058ad729743ee86ef52c348fa2ef1",
       "style": "IPY_MODEL_7db4f89da71846718ec4d355b2d3ba77"
      }
     },
     "f3c28864d21f451db85ec650e92d5be7": {
      "model_module": "@jupyter-widgets/output",
      "model_module_version": "1.0.0",
      "model_name": "OutputModel",
      "state": {
       "layout": "IPY_MODEL_44d0826352fa4c44962069b2e2bd8427"
      }
     },
     "f3cf43ad87174a08b6d0d0d68731f165": {
      "model_module": "@jupyter-widgets/controls",
      "model_module_version": "1.5.0",
      "model_name": "TextModel",
      "state": {
       "_model_module_version": "1.5.0",
       "_view_module_version": "1.5.0",
       "layout": "IPY_MODEL_9ee78e0c2f7341aa97357ccec8cb1713",
       "style": "IPY_MODEL_73bb605ed2ae45faadcf879f93d805a3"
      }
     },
     "f3f7d543317e4606821f6755ba07a06c": {
      "model_module": "@jupyter-widgets/base",
      "model_module_version": "1.2.0",
      "model_name": "LayoutModel",
      "state": {
       "_model_module_version": "1.2.0",
       "_view_module_version": "1.2.0",
       "justify_items": null,
       "object_fit": null,
       "object_position": null
      }
     },
     "f40ad77e01a1435d9d42f77ed24e72bf": {
      "model_module": "@jupyter-widgets/base",
      "model_module_version": "1.2.0",
      "model_name": "LayoutModel",
      "state": {
       "_model_module_version": "1.2.0",
       "_view_module_version": "1.2.0",
       "justify_items": null,
       "object_fit": null,
       "object_position": null
      }
     },
     "f4155563eb214dfa9935f3e76af4eda1": {
      "model_module": "@jupyter-widgets/controls",
      "model_module_version": "1.5.0",
      "model_name": "DropdownModel",
      "state": {
       "_model_module_version": "1.5.0",
       "_options_labels": [
        "10",
        "20",
        "50"
       ],
       "_view_module_version": "1.5.0",
       "description": "items per page",
       "index": 0,
       "layout": "IPY_MODEL_a802aae72fd345e9b31517db92342a41",
       "style": "IPY_MODEL_515b923ee53f48baabe9e1757a04d74f"
      }
     },
     "f42f8276314e4a3d87140eeb2c555f4d": {
      "model_module": "@jupyter-widgets/controls",
      "model_module_version": "1.5.0",
      "model_name": "VBoxModel",
      "state": {
       "_model_module_version": "1.5.0",
       "_view_module_version": "1.5.0",
       "children": [
        "IPY_MODEL_220b4c7e5c7b4e228422f61819456f15",
        "IPY_MODEL_dd1c532e4c43427c8de3c3f13f42d56a"
       ],
       "layout": "IPY_MODEL_18fd347aded140908f84cf6a74475466"
      }
     },
     "f434f26ca6e04b4ab20ae2dc9ad41b5b": {
      "model_module": "@jupyter-widgets/controls",
      "model_module_version": "1.5.0",
      "model_name": "HBoxModel",
      "state": {
       "_model_module_version": "1.5.0",
       "_view_module_version": "1.5.0",
       "children": [
        "IPY_MODEL_d18bc898e82a4cd9ac4cc62f041347e5",
        "IPY_MODEL_3e76727159cc417ea3e0a269f22fe60a"
       ],
       "layout": "IPY_MODEL_80f5e024f14f453a92dcdd7062922e2d"
      }
     },
     "f43e582c133244088e49c47dc11161af": {
      "model_module": "@jupyter-widgets/controls",
      "model_module_version": "1.5.0",
      "model_name": "DescriptionStyleModel",
      "state": {
       "_model_module_version": "1.5.0",
       "_view_module_version": "1.2.0",
       "description_width": ""
      }
     },
     "f462610bb4994f55b108a9b0266428de": {
      "model_module": "@jupyter-widgets/controls",
      "model_module_version": "1.5.0",
      "model_name": "VBoxModel",
      "state": {
       "_model_module_version": "1.5.0",
       "_view_module_version": "1.5.0",
       "children": [
        "IPY_MODEL_164747ce44ed4bfd8b4cabf14dec6387",
        "IPY_MODEL_faa3cd0b281f4a42a92c91727f652d07"
       ],
       "layout": "IPY_MODEL_18aeb8140ef84dbd918518ef13b7ef39"
      }
     },
     "f4ab9bdef90e4a49aa8440c7a7c6d87d": {
      "model_module": "@jupyter-widgets/base",
      "model_module_version": "1.2.0",
      "model_name": "LayoutModel",
      "state": {
       "_model_module_version": "1.2.0",
       "_view_module_version": "1.2.0",
       "justify_items": null,
       "object_fit": null,
       "object_position": null,
       "width": "20%"
      }
     },
     "f4d0405deaff447e9cf980eca992599e": {
      "model_module": "@jupyter-widgets/controls",
      "model_module_version": "1.5.0",
      "model_name": "SelectMultipleModel",
      "state": {
       "_model_module_version": "1.5.0",
       "_options_labels": [
        "text",
        "text_translated",
        "media",
        "source",
        "mode",
        "num_persons",
        "_timestamp",
        "confidence",
        "source_reliability",
        "locations",
        "origin_bool",
        "origin",
        "destination",
        "geom_tweet",
        "triage_status"
       ],
       "_view_module_version": "1.5.0",
       "index": [],
       "layout": "IPY_MODEL_02a77a355f6941b082621395cc57cba3",
       "rows": 5,
       "style": "IPY_MODEL_eb212e43fba44404b400cfc977020d36"
      }
     },
     "f52521feb3d142fabbaaa3a1c23324b4": {
      "model_module": "@jupyter-widgets/base",
      "model_module_version": "1.2.0",
      "model_name": "LayoutModel",
      "state": {
       "_model_module_version": "1.2.0",
       "_view_module_version": "1.2.0",
       "justify_items": null,
       "object_fit": null,
       "object_position": null,
       "width": "20%"
      }
     },
     "f5520c53711b4e9bbfc207d622207fb2": {
      "model_module": "@jupyter-widgets/controls",
      "model_module_version": "1.5.0",
      "model_name": "HTMLModel",
      "state": {
       "_model_module_version": "1.5.0",
       "_view_module_version": "1.5.0",
       "layout": "IPY_MODEL_5e6ef1429b5b457087c8e439caa78dc4",
       "style": "IPY_MODEL_d0ef897fa59545af8a37be03f1681d8f",
       "value": "<h3>Searching</h3>"
      }
     },
     "f556d12c9bdb476cb1e6055027f0faec": {
      "model_module": "@jupyter-widgets/controls",
      "model_module_version": "1.5.0",
      "model_name": "VBoxModel",
      "state": {
       "_model_module_version": "1.5.0",
       "_view_module_version": "1.5.0",
       "children": [
        "IPY_MODEL_e326875aa99c4550b2c31c8c655d0904",
        "IPY_MODEL_9c6338a5634e479092f525204aad4a18"
       ],
       "layout": "IPY_MODEL_7fb13eb3396940e4b22c00e12104e186"
      }
     },
     "f57c3d1bad2742b886cc0ca2a8dfffc8": {
      "model_module": "@jupyter-widgets/controls",
      "model_module_version": "1.5.0",
      "model_name": "DescriptionStyleModel",
      "state": {
       "_model_module_version": "1.5.0",
       "_view_module_version": "1.2.0",
       "description_width": ""
      }
     },
     "f585f84899a04177bfe4c1092766994e": {
      "model_module": "@jupyter-widgets/controls",
      "model_module_version": "1.5.0",
      "model_name": "DescriptionStyleModel",
      "state": {
       "_model_module_version": "1.5.0",
       "_view_module_version": "1.2.0",
       "description_width": ""
      }
     },
     "f5d60203d4fa49f383676f0c8394ba57": {
      "model_module": "@jupyter-widgets/controls",
      "model_module_version": "1.5.0",
      "model_name": "DescriptionStyleModel",
      "state": {
       "_model_module_version": "1.5.0",
       "_view_module_version": "1.2.0",
       "description_width": ""
      }
     },
     "f5db325e12224c37806725a1287ec060": {
      "model_module": "@jupyter-widgets/base",
      "model_module_version": "1.2.0",
      "model_name": "LayoutModel",
      "state": {
       "_model_module_version": "1.2.0",
       "_view_module_version": "1.2.0",
       "justify_items": null,
       "object_fit": null,
       "object_position": null
      }
     },
     "f613df55761349c6b91d75fbb1654775": {
      "model_module": "@jupyter-widgets/base",
      "model_module_version": "1.2.0",
      "model_name": "LayoutModel",
      "state": {
       "_model_module_version": "1.2.0",
       "_view_module_version": "1.2.0",
       "justify_items": null,
       "object_fit": null,
       "object_position": null
      }
     },
     "f63201d497f74342ba853beca4fa74c8": {
      "model_module": "@jupyter-widgets/controls",
      "model_module_version": "1.5.0",
      "model_name": "LabelModel",
      "state": {
       "_model_module_version": "1.5.0",
       "_view_module_version": "1.5.0",
       "layout": "IPY_MODEL_94022756b29144c9bdffd004624f63fb",
       "style": "IPY_MODEL_4b827051657949868fd0d306c343735c",
       "value": "of 266 pages with "
      }
     },
     "f633717226464067bd5dcc1aaa1dde1f": {
      "model_module": "@jupyter-widgets/controls",
      "model_module_version": "1.5.0",
      "model_name": "DescriptionStyleModel",
      "state": {
       "_model_module_version": "1.5.0",
       "_view_module_version": "1.2.0",
       "description_width": ""
      }
     },
     "f674cf88211c4b54848da6b27f3ec4b2": {
      "model_module": "@jupyter-widgets/base",
      "model_module_version": "1.2.0",
      "model_name": "LayoutModel",
      "state": {
       "_model_module_version": "1.2.0",
       "_view_module_version": "1.2.0",
       "justify_items": null,
       "object_fit": null,
       "object_position": null
      }
     },
     "f68305b4edcb44e6b4fd473ebcc95536": {
      "model_module": "@jupyter-widgets/controls",
      "model_module_version": "1.5.0",
      "model_name": "HBoxModel",
      "state": {
       "_model_module_version": "1.5.0",
       "_view_module_version": "1.5.0",
       "children": [
        "IPY_MODEL_9ede9a853c9944ae86f63f54ec044666",
        "IPY_MODEL_e4ed5bddc7af49c4bc47842959252426"
       ],
       "layout": "IPY_MODEL_f04ed251e5f749b9ad49133bea0b5e38"
      }
     },
     "f6b43f8f1606478489785e0618809ae4": {
      "model_module": "@jupyter-widgets/base",
      "model_module_version": "1.2.0",
      "model_name": "LayoutModel",
      "state": {
       "_model_module_version": "1.2.0",
       "_view_module_version": "1.2.0",
       "justify_items": null,
       "object_fit": null,
       "object_position": null
      }
     },
     "f6e9b379672e40ca93094239787fb010": {
      "model_module": "@jupyter-widgets/controls",
      "model_module_version": "1.5.0",
      "model_name": "DescriptionStyleModel",
      "state": {
       "_model_module_version": "1.5.0",
       "_view_module_version": "1.2.0",
       "description_width": ""
      }
     },
     "f705ce7ce32e41e4bc8121278ee4a0e7": {
      "model_module": "@jupyter-widgets/controls",
      "model_module_version": "1.5.0",
      "model_name": "VBoxModel",
      "state": {
       "_model_module_version": "1.5.0",
       "_view_module_version": "1.5.0",
       "children": [
        "IPY_MODEL_6732b5746ecd433aab938593515ad3cb",
        "IPY_MODEL_7fad56fe209643c9b195bab1d58c2d22"
       ],
       "layout": "IPY_MODEL_a68c1b8e7d9548a388ce7bc28ad2dd8d"
      }
     },
     "f76b8cb6d5f849969f93f39277723998": {
      "model_module": "@jupyter-widgets/base",
      "model_module_version": "1.2.0",
      "model_name": "LayoutModel",
      "state": {
       "_model_module_version": "1.2.0",
       "_view_module_version": "1.2.0",
       "justify_items": null,
       "object_fit": null,
       "object_position": null
      }
     },
     "f7a19ccae70c42a58fa757d798b0631b": {
      "model_module": "@jupyter-widgets/controls",
      "model_module_version": "1.5.0",
      "model_name": "HTMLModel",
      "state": {
       "_model_module_version": "1.5.0",
       "_view_module_version": "1.5.0",
       "layout": "IPY_MODEL_054cca4830704ebdb5dda9a2d6b219e6",
       "style": "IPY_MODEL_96bb600bdeb2464aac5402c5695d1474",
       "value": "<h3>Searching</h3>"
      }
     },
     "f7c7441462094859b3c8541047d42220": {
      "model_module": "@jupyter-widgets/controls",
      "model_module_version": "1.5.0",
      "model_name": "VBoxModel",
      "state": {
       "_model_module_version": "1.5.0",
       "_view_module_version": "1.5.0",
       "children": [
        "IPY_MODEL_8982994f59e741999143f78e5504a63f",
        "IPY_MODEL_c3e5cccdf51146d0a6627978ac78d451"
       ],
       "layout": "IPY_MODEL_26a102deb4f94cf896a25e10ff531c8f"
      }
     },
     "f7cbf14e29114c4a9ac88dcb2601ea4c": {
      "model_module": "@jupyter-widgets/controls",
      "model_module_version": "1.5.0",
      "model_name": "DropdownModel",
      "state": {
       "_model_module_version": "1.5.0",
       "_options_labels": [
        "text",
        "text_translated",
        "media",
        "source",
        "mode",
        "num_persons",
        "_timestamp",
        "confidence",
        "source_reliability",
        "locations",
        "origin_bool",
        "origin",
        "destination",
        "geom_tweet",
        "triage_status"
       ],
       "_view_module_version": "1.5.0",
       "index": 0,
       "layout": "IPY_MODEL_cede96671d3a4040ac794a17669cd5dd",
       "style": "IPY_MODEL_c77e98fef2b145609b6c57fcc3eacbff"
      }
     },
     "f823c68cd37c4811a329da17f5a8c8f9": {
      "model_module": "@jupyter-widgets/controls",
      "model_module_version": "1.5.0",
      "model_name": "ButtonModel",
      "state": {
       "_model_module_version": "1.5.0",
       "_view_module_version": "1.5.0",
       "description": "save",
       "layout": "IPY_MODEL_87222b98646847dc8a1763848cdec8b1",
       "style": "IPY_MODEL_dcc4f639f89244a58811c0aa0bc0c568"
      }
     },
     "f8484211573e4412a7b0524b9394a12a": {
      "model_module": "@jupyter-widgets/controls",
      "model_module_version": "1.5.0",
      "model_name": "IntSliderModel",
      "state": {
       "_model_module_version": "1.5.0",
       "_view_module_version": "1.5.0",
       "layout": "IPY_MODEL_b4f30192026e498eacb701f1280f7666",
       "max": 5,
       "min": 1,
       "style": "IPY_MODEL_97e3e50745a2484081f92e0a902f9e75",
       "value": 1
      }
     },
     "f87269f187de4979a0ab930163f1540f": {
      "model_module": "@jupyter-widgets/base",
      "model_module_version": "1.2.0",
      "model_name": "LayoutModel",
      "state": {
       "_model_module_version": "1.2.0",
       "_view_module_version": "1.2.0",
       "justify_items": null,
       "object_fit": null,
       "object_position": null
      }
     },
     "f89bff56c6ae426882cdf01ba02c71ed": {
      "model_module": "@jupyter-widgets/base",
      "model_module_version": "1.2.0",
      "model_name": "LayoutModel",
      "state": {
       "_model_module_version": "1.2.0",
       "_view_module_version": "1.2.0",
       "justify_items": null,
       "object_fit": null,
       "object_position": null
      }
     },
     "f93a459fbaf64355823d69baf33a1775": {
      "model_module": "@jupyter-widgets/controls",
      "model_module_version": "1.5.0",
      "model_name": "ButtonModel",
      "state": {
       "_model_module_version": "1.5.0",
       "_view_module_version": "1.5.0",
       "icon": "chevron-left",
       "layout": "IPY_MODEL_c4552745e00a40f2a2a191c6cb952adc",
       "style": "IPY_MODEL_2eff694e264841d4bffdaee1a1a031ce"
      }
     },
     "fa2af3f242e64576abfc5ce69434646a": {
      "model_module": "@jupyter-widgets/base",
      "model_module_version": "1.2.0",
      "model_name": "LayoutModel",
      "state": {
       "_model_module_version": "1.2.0",
       "_view_module_version": "1.2.0",
       "justify_items": null,
       "object_fit": null,
       "object_position": null
      }
     },
     "fa459743278e4406aba0540f416d0ff8": {
      "model_module": "@jupyter-widgets/controls",
      "model_module_version": "1.5.0",
      "model_name": "HBoxModel",
      "state": {
       "_model_module_version": "1.5.0",
       "_view_module_version": "1.5.0",
       "children": [
        "IPY_MODEL_2a426a04f18e4d42b43b93610974eb0b",
        "IPY_MODEL_72739d990eff48c38deb5c5dac5a0efd",
        "IPY_MODEL_6bc320421d55496e9d5ad8dc4b9b1ed4"
       ],
       "layout": "IPY_MODEL_27a91d3b36554ef8a333716de05a2c39"
      }
     },
     "faa3cd0b281f4a42a92c91727f652d07": {
      "model_module": "@jupyter-widgets/controls",
      "model_module_version": "1.5.0",
      "model_name": "HTMLModel",
      "state": {
       "_model_module_version": "1.5.0",
       "_view_module_version": "1.5.0",
       "layout": "IPY_MODEL_a8ba7171035346af8194396cd915d651",
       "style": "IPY_MODEL_4544854f51a44d9bb528a3357d2f0019",
       "value": "Deselect with ctrl + click"
      }
     },
     "facf4e0e0c294b369be64d61ce4d492a": {
      "model_module": "@jupyter-widgets/controls",
      "model_module_version": "1.5.0",
      "model_name": "HTMLModel",
      "state": {
       "_model_module_version": "1.5.0",
       "_view_module_version": "1.5.0",
       "layout": "IPY_MODEL_b8163d29418e4542bb468ad09e952e60",
       "style": "IPY_MODEL_35aaca4cdd054cf1b331e6d1a870a550",
       "value": "<h3>Save filtered Data</h3>"
      }
     },
     "fae1bf4eaccf4d93966313e70375abc9": {
      "model_module": "@jupyter-widgets/controls",
      "model_module_version": "1.5.0",
      "model_name": "DescriptionStyleModel",
      "state": {
       "_model_module_version": "1.5.0",
       "_view_module_version": "1.2.0",
       "description_width": ""
      }
     },
     "faf9dcc7690141cf8c9812dbdfd2aacf": {
      "model_module": "@jupyter-widgets/controls",
      "model_module_version": "1.5.0",
      "model_name": "VBoxModel",
      "state": {
       "_model_module_version": "1.5.0",
       "_view_module_version": "1.5.0",
       "children": [
        "IPY_MODEL_afe54a6d469647379824bdf80174f8ca",
        "IPY_MODEL_ccc80df2531b49e08b6aba49ac380539",
        "IPY_MODEL_4d3ae2ec8e444417b871fcb9ad682ac4"
       ],
       "layout": "IPY_MODEL_c59ac0eceaba43459f252b8431ec87dd"
      }
     },
     "fb0ef511b71d4821a4e43ae741fd8903": {
      "model_module": "@jupyter-widgets/controls",
      "model_module_version": "1.5.0",
      "model_name": "DescriptionStyleModel",
      "state": {
       "_model_module_version": "1.5.0",
       "_view_module_version": "1.2.0",
       "description_width": ""
      }
     },
     "fb72bcbbee51408d96cc24bd8a1f2bad": {
      "model_module": "@jupyter-widgets/base",
      "model_module_version": "1.2.0",
      "model_name": "LayoutModel",
      "state": {
       "_model_module_version": "1.2.0",
       "_view_module_version": "1.2.0",
       "justify_items": null,
       "object_fit": null,
       "object_position": null
      }
     },
     "fb73a427d50e4c05b300cb22391ff447": {
      "model_module": "@jupyter-widgets/controls",
      "model_module_version": "1.5.0",
      "model_name": "DescriptionStyleModel",
      "state": {
       "_model_module_version": "1.5.0",
       "_view_module_version": "1.2.0",
       "description_width": ""
      }
     },
     "fb780d0dec5340d8a7ce412076db2c61": {
      "model_module": "@jupyter-widgets/base",
      "model_module_version": "1.2.0",
      "model_name": "LayoutModel",
      "state": {
       "_model_module_version": "1.2.0",
       "_view_module_version": "1.2.0",
       "justify_items": null,
       "object_fit": null,
       "object_position": null
      }
     },
     "fbb59b2a149b4a1a97e79859a70e5642": {
      "model_module": "@jupyter-widgets/controls",
      "model_module_version": "1.5.0",
      "model_name": "HTMLModel",
      "state": {
       "_model_module_version": "1.5.0",
       "_view_module_version": "1.5.0",
       "layout": "IPY_MODEL_5e7b5a9dd63640b689f9625510f34052",
       "style": "IPY_MODEL_1c23e0108a3e48c1939f9dae5e96dcd5",
       "value": "<h3>Required Values</h3>"
      }
     },
     "fbc1dfd86869493fbd1201a244e7596f": {
      "model_module": "@jupyter-widgets/controls",
      "model_module_version": "1.5.0",
      "model_name": "LabelModel",
      "state": {
       "_model_module_version": "1.5.0",
       "_view_module_version": "1.5.0",
       "layout": "IPY_MODEL_1b599b53bd1042b08765367e1f0e24a9",
       "style": "IPY_MODEL_2f022d21e6324a72b6984b59cee9fd85",
       "value": "Search Columns"
      }
     },
     "fbc8e04fcb834a278fe5fc8b27d62c79": {
      "model_module": "@jupyter-widgets/base",
      "model_module_version": "1.2.0",
      "model_name": "LayoutModel",
      "state": {
       "_model_module_version": "1.2.0",
       "_view_module_version": "1.2.0",
       "justify_items": null,
       "object_fit": null,
       "object_position": null
      }
     },
     "fcb88410f3904c5fae3c161b7513f5fa": {
      "model_module": "@jupyter-widgets/base",
      "model_module_version": "1.2.0",
      "model_name": "LayoutModel",
      "state": {
       "_model_module_version": "1.2.0",
       "_view_module_version": "1.2.0",
       "justify_items": null,
       "object_fit": null,
       "object_position": null
      }
     },
     "fd116cbb729b4a28935c7371f1d10ca1": {
      "model_module": "@jupyter-widgets/base",
      "model_module_version": "1.2.0",
      "model_name": "LayoutModel",
      "state": {
       "_model_module_version": "1.2.0",
       "_view_module_version": "1.2.0",
       "justify_items": null,
       "object_fit": null,
       "object_position": null
      }
     },
     "fd132733b10440449feb6ed6fa7c071e": {
      "model_module": "@jupyter-widgets/controls",
      "model_module_version": "1.5.0",
      "model_name": "TextModel",
      "state": {
       "_model_module_version": "1.5.0",
       "_view_module_version": "1.5.0",
       "layout": "IPY_MODEL_3434a37d70c44ca693a4ceae2b0ed2b1",
       "style": "IPY_MODEL_0d14232c98e54ceb844143135a418bd2"
      }
     },
     "fd4292c52a684bb784bcf72a860d6801": {
      "model_module": "@jupyter-widgets/output",
      "model_module_version": "1.0.0",
      "model_name": "OutputModel",
      "state": {
       "layout": "IPY_MODEL_fcb88410f3904c5fae3c161b7513f5fa"
      }
     },
     "fd760b16991749f6b41eecbfd382db6f": {
      "model_module": "@jupyter-widgets/controls",
      "model_module_version": "1.5.0",
      "model_name": "DescriptionStyleModel",
      "state": {
       "_model_module_version": "1.5.0",
       "_view_module_version": "1.2.0",
       "description_width": ""
      }
     },
     "febc624b4aae4cb4b051acb778246dc4": {
      "model_module": "@jupyter-widgets/controls",
      "model_module_version": "1.5.0",
      "model_name": "DescriptionStyleModel",
      "state": {
       "_model_module_version": "1.5.0",
       "_view_module_version": "1.2.0",
       "description_width": ""
      }
     },
     "feeafc27105c4eeb8202b6005a9ae5b0": {
      "model_module": "@jupyter-widgets/controls",
      "model_module_version": "1.5.0",
      "model_name": "DescriptionStyleModel",
      "state": {
       "_model_module_version": "1.5.0",
       "_view_module_version": "1.2.0",
       "description_width": ""
      }
     },
     "fef21c4516cc4444ba04c125c11ec698": {
      "model_module": "@jupyter-widgets/base",
      "model_module_version": "1.2.0",
      "model_name": "LayoutModel",
      "state": {
       "_model_module_version": "1.2.0",
       "_view_module_version": "1.2.0",
       "justify_items": null,
       "object_fit": null,
       "object_position": null
      }
     },
     "fef94469ee784167a5248253cda97356": {
      "model_module": "@jupyter-widgets/controls",
      "model_module_version": "1.5.0",
      "model_name": "DescriptionStyleModel",
      "state": {
       "_model_module_version": "1.5.0",
       "_view_module_version": "1.2.0",
       "description_width": ""
      }
     },
     "ff407dbe5b8c483380cef73d50a247f9": {
      "model_module": "@jupyter-widgets/base",
      "model_module_version": "1.2.0",
      "model_name": "LayoutModel",
      "state": {
       "_model_module_version": "1.2.0",
       "_view_module_version": "1.2.0",
       "justify_items": null,
       "object_fit": null,
       "object_position": null
      }
     },
     "ff4cdfeefb304834a1b16c92f75a2ee6": {
      "model_module": "@jupyter-widgets/controls",
      "model_module_version": "1.5.0",
      "model_name": "DescriptionStyleModel",
      "state": {
       "_model_module_version": "1.5.0",
       "_view_module_version": "1.2.0",
       "description_width": ""
      }
     },
     "ffca793883c54a17bb1f581bba91eed2": {
      "model_module": "@jupyter-widgets/base",
      "model_module_version": "1.2.0",
      "model_name": "LayoutModel",
      "state": {
       "_model_module_version": "1.2.0",
       "_view_module_version": "1.2.0",
       "justify_items": null,
       "object_fit": null,
       "object_position": null
      }
     },
     "ffe3949fd8514454bf78337a4c73ec61": {
      "model_module": "@jupyter-widgets/controls",
      "model_module_version": "1.5.0",
      "model_name": "HTMLModel",
      "state": {
       "_model_module_version": "1.5.0",
       "_view_module_version": "1.5.0",
       "layout": "IPY_MODEL_515e5eb8b7464fa6b2f869371d9a1d23",
       "style": "IPY_MODEL_88ebaf01c6bb4a23808c2401a5859533",
       "value": "<h3>Save filtered Data</h3>"
      }
     },
     "ffeeaa32e1ca4862aa31d8e670f4a967": {
      "model_module": "@jupyter-widgets/controls",
      "model_module_version": "1.5.0",
      "model_name": "HBoxModel",
      "state": {
       "_model_module_version": "1.5.0",
       "_view_module_version": "1.5.0",
       "children": [
        "IPY_MODEL_88cd2c3b307b4af180fb9ea56281ec4b",
        "IPY_MODEL_5b68a882a8b84671b9b4d815c8e7899d",
        "IPY_MODEL_16a20f1924cf4194b960a621993836a2"
       ],
       "layout": "IPY_MODEL_6e182eebd07049eab7a2cfd413f4191d"
      }
     }
    },
    "version_major": 2,
    "version_minor": 0
   }
  }
 },
 "nbformat": 4,
 "nbformat_minor": 2
}

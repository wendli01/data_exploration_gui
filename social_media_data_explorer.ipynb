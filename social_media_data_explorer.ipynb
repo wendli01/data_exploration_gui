{
 "cells": [
  {
   "cell_type": "markdown",
   "metadata": {},
   "source": [
    "# Social Media Data Explorer\n",
    "\n",
    "We can create an app that allows us to easily explore social media data."
   ]
  },
  {
   "cell_type": "markdown",
   "metadata": {},
   "source": [
    "## Prerequisites"
   ]
  },
  {
   "cell_type": "markdown",
   "metadata": {},
   "source": [
    "### Imports"
   ]
  },
  {
   "cell_type": "code",
   "execution_count": 1,
   "metadata": {
    "ExecuteTime": {
     "end_time": "2019-09-24T17:28:08.765740Z",
     "start_time": "2019-09-24T17:28:08.286959Z"
    }
   },
   "outputs": [],
   "source": [
    "import pandas as pd\n",
    "import seaborn as sns\n",
    "import numpy as np\n",
    "import ipywidgets as widgets\n",
    "from ipywidgets import interact, interactive, fixed, interact_manual, Layout, interactive_output\n",
    "from IPython.display import display, HTML\n",
    "from getpass import getpass\n",
    "from matplotlib import pyplot as plt"
   ]
  },
  {
   "cell_type": "markdown",
   "metadata": {},
   "source": [
    "### Styling"
   ]
  },
  {
   "cell_type": "code",
   "execution_count": 2,
   "metadata": {
    "ExecuteTime": {
     "end_time": "2019-09-24T17:28:08.770878Z",
     "start_time": "2019-09-24T17:28:08.767462Z"
    }
   },
   "outputs": [
    {
     "data": {
      "text/html": [
       "<style>.container { width:80% !important; }</style>"
      ],
      "text/plain": [
       "<IPython.core.display.HTML object>"
      ]
     },
     "metadata": {},
     "output_type": "display_data"
    }
   ],
   "source": [
    "display(HTML(\"<style>.container { width:80% !important; }</style>\"))\n",
    "pd.set_option('display.max_colwidth', -1)"
   ]
  },
  {
   "cell_type": "markdown",
   "metadata": {},
   "source": [
    "## Data"
   ]
  },
  {
   "cell_type": "code",
   "execution_count": 3,
   "metadata": {
    "ExecuteTime": {
     "end_time": "2019-09-24T17:28:08.788951Z",
     "start_time": "2019-09-24T17:28:08.772026Z"
    }
   },
   "outputs": [],
   "source": [
    "df = pd.read_csv('HUMAN_public_social_media.csv')\n",
    "df.set_index('uniqueid', inplace=True)"
   ]
  },
  {
   "cell_type": "markdown",
   "metadata": {},
   "source": [
    "## Definitions"
   ]
  },
  {
   "cell_type": "markdown",
   "metadata": {},
   "source": [
    "### Pagination"
   ]
  },
  {
   "cell_type": "code",
   "execution_count": 4,
   "metadata": {
    "ExecuteTime": {
     "end_time": "2019-09-24T17:28:08.796148Z",
     "start_time": "2019-09-24T17:28:08.790318Z"
    }
   },
   "outputs": [],
   "source": [
    "def paginate_df(df, nb_items = 10):\n",
    "    def show_df(df, page):\n",
    "        df = df.head(page*nb_items).tail(nb_items)\n",
    "        display(df)\n",
    "        \n",
    "    def show_next(change):\n",
    "        pagination_slider.value += change\n",
    "        \n",
    "    def get_pagination_buttons():\n",
    "        next_button = widgets.Button(layout=widgets.Layout(width='30px'), icon='chevron-right')\n",
    "        next_button.on_click(lambda _: show_next(1))\n",
    "        prev_button = widgets.Button(layout=widgets.Layout(width='30px'), icon='chevron-left')\n",
    "        prev_button.on_click(lambda _: show_next(-1))\n",
    "        return [prev_button, next_button]\n",
    "    \n",
    "    nb_rows = widgets.Label(value = '{} rows'.format(len(df)))\n",
    "    \n",
    "    if len(df) > nb_items:\n",
    "        nb_pages = int(np.ceil(len(df)/nb_items))\n",
    "        pagination_slider = widgets.IntSlider(value=1, min = 1, max = nb_pages, layout=Layout(width='60%'))\n",
    "        pagination_slider_label = widgets.Label(value = 'of {} pages with '.format(nb_pages))\n",
    "\n",
    "        pagination_controls = widgets.HBox([pagination_slider, pagination_slider_label, nb_rows, *get_pagination_buttons()])\n",
    "        paginated_table = interactive_output(show_df, dict(df=fixed(df), page = pagination_slider))\n",
    "        display(pagination_controls, paginated_table)\n",
    "    else:\n",
    "        display(nb_rows, df)"
   ]
  },
  {
   "cell_type": "code",
   "execution_count": 5,
   "metadata": {
    "ExecuteTime": {
     "end_time": "2019-09-24T17:28:08.852209Z",
     "start_time": "2019-09-24T17:28:08.797409Z"
    },
    "scrolled": false
   },
   "outputs": [
    {
     "data": {
      "application/vnd.jupyter.widget-view+json": {
       "model_id": "ca425a5ec7ae467596636aebdc3ddd42",
       "version_major": 2,
       "version_minor": 0
      },
      "text/plain": [
       "HBox(children=(IntSlider(value=1, layout=Layout(width='60%'), max=5, min=1), Label(value='of 5 pages with '), …"
      ]
     },
     "metadata": {},
     "output_type": "display_data"
    },
    {
     "data": {
      "application/vnd.jupyter.widget-view+json": {
       "model_id": "58384cef4d284e22a3e12e40d0ea2a22",
       "version_major": 2,
       "version_minor": 0
      },
      "text/plain": [
       "Output()"
      ]
     },
     "metadata": {},
     "output_type": "display_data"
    }
   ],
   "source": [
    "paginate_df(df.head(50))"
   ]
  },
  {
   "cell_type": "markdown",
   "metadata": {
    "heading_collapsed": true
   },
   "source": [
    "### Plotting Columns"
   ]
  },
  {
   "cell_type": "code",
   "execution_count": 6,
   "metadata": {
    "ExecuteTime": {
     "end_time": "2019-09-24T17:28:08.860578Z",
     "start_time": "2019-09-24T17:28:08.853432Z"
    },
    "hidden": true
   },
   "outputs": [],
   "source": [
    "def plot_column_dist(df: pd.DataFrame, column:str, nb_to_plot = 10):\n",
    "    def is_text(vals):\n",
    "        if type(vals.dropna().values[0]) != str:\n",
    "            return False\n",
    "        \n",
    "        mean_nb_tokens = vals.dropna().str.split(' ').apply(len).mean()\n",
    "        return mean_nb_tokens > 3\n",
    "    \n",
    "    def is_numeric(vals):\n",
    "        return all(vals.apply(type).unique() == float) and len(vals.unique()) > nb_to_plot and not any(vals.isna())\n",
    "    \n",
    "    vals = df[column]\n",
    "    if len(vals.dropna()) == 0:\n",
    "        plt.title('No values to plot'), plt.show()\n",
    "        return\n",
    "    \n",
    "    if is_numeric(vals):\n",
    "        sns.distplot(vals)\n",
    "    else:\n",
    "        if type(vals.dropna().values[0]) in (list, tuple, set) or is_text(vals):\n",
    "            if is_text(vals):\n",
    "                vals = vals.str.split(' ')\n",
    "                vals.name = 'tokens'\n",
    "            concat_series = pd.Series(np.concatenate(vals.dropna().values))\n",
    "            counts = pd.DataFrame(concat_series.value_counts())\n",
    "        else:\n",
    "            counts = pd.DataFrame(vals.value_counts())\n",
    "        counts.head(nb_to_plot).plot(kind='bar', label = vals.name)\n",
    "    plt.tight_layout(), plt.grid(), plt.title(str(nb_to_plot) + ' most frequent ' + vals.name), plt.show()"
   ]
  },
  {
   "cell_type": "markdown",
   "metadata": {},
   "source": [
    "### Filtering DataFrames"
   ]
  },
  {
   "cell_type": "code",
   "execution_count": 7,
   "metadata": {
    "ExecuteTime": {
     "end_time": "2019-09-24T17:28:08.870051Z",
     "start_time": "2019-09-24T17:28:08.861735Z"
    }
   },
   "outputs": [],
   "source": [
    "def filter_df(df, order_by = 'uniqueid', ascending = True, required = [], search_column=None, search_term=''):\n",
    "    df = df.sort_values(order_by, ascending=ascending)\n",
    "    \n",
    "    if len(required) > 0:\n",
    "        df = df.dropna(subset=required)\n",
    "    \n",
    "    if search_term not in (None, '') and search_column in df.keys():\n",
    "        df = df[df[search_column].astype(str).str.lower().str.contains(search_term.lower())]\n",
    "    \n",
    "    return df\n",
    "    \n",
    "def show_filtered_df(df, order_by = 'uniqueid', ascending = True, nb_items = 10, required = [], search_column=None, search_term=''):\n",
    "    df = filter_df(df, order_by=order_by, ascending=ascending, required=required, search_column=search_column, search_term=search_term)\n",
    "    paginate_df(df, nb_items=nb_items)"
   ]
  },
  {
   "cell_type": "markdown",
   "metadata": {},
   "source": [
    "### Table App"
   ]
  },
  {
   "cell_type": "code",
   "execution_count": 8,
   "metadata": {
    "ExecuteTime": {
     "end_time": "2019-09-24T17:28:08.881942Z",
     "start_time": "2019-09-24T17:28:08.871836Z"
    },
    "scrolled": false
   },
   "outputs": [],
   "source": [
    "def table_app(df):\n",
    "    def save_filtered_data(_):\n",
    "        filtered_df = filter_df(df, order_by=order_by.value, ascending=ascending.value, required=filter_selector.value, \n",
    "                                search_column=search_column.value, search_term=search_term.value)\n",
    "        filtered_df.to_csv(save_fn.value)\n",
    "        save_status.value = '\\t  sucessfully saved {} rows as {}.'.format(len(filtered_df), save_fn.value)\n",
    "            \n",
    "    def plot_filtered(df, required, search_column, search_term, plot_column):\n",
    "        filtered_df = filter_df(df, required = required, search_column=search_column, search_term=search_term)\n",
    "        plot_column_dist(df=filtered_df, column = plot_column)\n",
    "        \n",
    "    nb_items = widgets.Dropdown(options = [10, 20, 50], description = 'items per page', \n",
    "                                layout = Layout(width = '20%'))\n",
    "    order_by = widgets.Dropdown(options = df.keys(), description='order by')\n",
    "    ascending = widgets.ToggleButton(value=True, description = 'ascending')\n",
    "    sorting = widgets.HBox([order_by, ascending, nb_items], layout=Layout(height = '50px'))\n",
    "\n",
    "    filter_selector = widgets.SelectMultiple(options = df.keys())\n",
    "    \n",
    "    filter_tip = widgets.VBox([widgets.HTML('Select multiple by dragging or ctrl + click'),\n",
    "                               widgets.HTML('Deselect with ctrl + click')])\n",
    "    filtering = widgets.HBox([filter_selector, filter_tip])\n",
    "\n",
    "    save_button = widgets.Button(description='save')\n",
    "    save_fn = widgets.Text('filtered_data.csv')\n",
    "    save_button.on_click(save_filtered_data)\n",
    "    save_status = widgets.Label()\n",
    "    saving = widgets.HBox([save_fn, save_button, save_status])\n",
    "    \n",
    "    search_term = widgets.Text('', tooltip = 'Search')\n",
    "    search_column = widgets.Dropdown(options = df.keys())\n",
    "    plot_column = widgets.Dropdown(options = df.keys())\n",
    "    \n",
    "    column_dist = interactive_output(plot_filtered, dict(df=fixed(df), search_column = search_column, required = filter_selector, \n",
    "                                                         search_term=search_term, plot_column = plot_column))\n",
    "    column_plot_box = widgets.VBox([widgets.Label('Plot Columns'), plot_column, column_dist])\n",
    "    search_box = widgets.VBox([widgets.Label('Search Columns'), search_column, search_term])\n",
    "    searching = widgets.TwoByTwoLayout(top_left = search_box, top_right = column_plot_box)\n",
    "    widgets.dlink((search_column, 'value'), (plot_column, 'value'))\n",
    "\n",
    "    accordion = widgets.Accordion(children=[sorting, filtering, searching, saving])\n",
    "    accordion.set_title(0, 'Sorting')\n",
    "    accordion.set_title(1, 'Required Values')\n",
    "    accordion.set_title(2, 'Searching')\n",
    "    accordion.set_title(3, 'Save filtered Data')\n",
    "\n",
    "    interactive_table = interactive_output(show_filtered_df, \n",
    "                                           dict(df=fixed(df), order_by = order_by, nb_items = nb_items, required = filter_selector, \n",
    "                                                ascending=ascending, search_column=search_column, search_term=search_term))\n",
    "    display(accordion, interactive_table)"
   ]
  },
  {
   "cell_type": "markdown",
   "metadata": {},
   "source": [
    "## Table App"
   ]
  },
  {
   "cell_type": "code",
   "execution_count": 9,
   "metadata": {
    "ExecuteTime": {
     "end_time": "2019-09-24T17:28:09.264089Z",
     "start_time": "2019-09-24T17:28:08.883281Z"
    },
    "scrolled": false
   },
   "outputs": [
    {
     "data": {
      "application/vnd.jupyter.widget-view+json": {
       "model_id": "def6fafca06f4663be6513617aa70bcd",
       "version_major": 2,
       "version_minor": 0
      },
      "text/plain": [
       "Accordion(children=(HBox(children=(Dropdown(description='order by', options=('text', 'text_translated', 'media…"
      ]
     },
     "metadata": {},
     "output_type": "display_data"
    },
    {
     "data": {
      "application/vnd.jupyter.widget-view+json": {
       "model_id": "e6a6eec1efa24882a52ae6759d569612",
       "version_major": 2,
       "version_minor": 0
      },
      "text/plain": [
       "Output()"
      ]
     },
     "metadata": {},
     "output_type": "display_data"
    }
   ],
   "source": [
    "table_app(df)"
   ]
  }
 ],
 "metadata": {
  "kernelspec": {
   "display_name": "Python (h+tf2)",
   "language": "python",
   "name": "h_plus_tf2"
  },
  "language_info": {
   "codemirror_mode": {
    "name": "ipython",
    "version": 3
   },
   "file_extension": ".py",
   "mimetype": "text/x-python",
   "name": "python",
   "nbconvert_exporter": "python",
   "pygments_lexer": "ipython3",
   "version": "3.7.3"
  },
  "toc": {
   "base_numbering": 1,
   "nav_menu": {},
   "number_sections": true,
   "sideBar": true,
   "skip_h1_title": false,
   "title_cell": "Table of Contents",
   "title_sidebar": "Contents",
   "toc_cell": false,
   "toc_position": {
    "height": "calc(100% - 180px)",
    "left": "10px",
    "top": "150px",
    "width": "291.594px"
   },
   "toc_section_display": true,
   "toc_window_display": false
  },
  "varInspector": {
   "cols": {
    "lenName": 16,
    "lenType": 16,
    "lenVar": 40
   },
   "kernels_config": {
    "python": {
     "delete_cmd_postfix": "",
     "delete_cmd_prefix": "del ",
     "library": "var_list.py",
     "varRefreshCmd": "print(var_dic_list())"
    },
    "r": {
     "delete_cmd_postfix": ") ",
     "delete_cmd_prefix": "rm(",
     "library": "var_list.r",
     "varRefreshCmd": "cat(var_dic_list()) "
    }
   },
   "types_to_exclude": [
    "module",
    "function",
    "builtin_function_or_method",
    "instance",
    "_Feature"
   ],
   "window_display": false
  },
  "widgets": {
   "application/vnd.jupyter.widget-state+json": {
    "state": {
     "02ab731aa350484da00a685a3d35d499": {
      "model_module": "@jupyter-widgets/controls",
      "model_module_version": "1.5.0",
      "model_name": "DropdownModel",
      "state": {
       "_model_module_version": "1.5.0",
       "_options_labels": [
        "text",
        "text_translated",
        "media",
        "source",
        "mode",
        "num_persons",
        "_timestamp",
        "confidence",
        "source_reliability",
        "locations",
        "origin_bool",
        "origin",
        "destination",
        "geom_tweet",
        "triage_status"
       ],
       "_view_module_version": "1.5.0",
       "index": 0,
       "layout": "IPY_MODEL_49b251ee31ea43d1b06f23438fe16763",
       "style": "IPY_MODEL_a4993c5606944908a441f25fb81b0ce7"
      }
     },
     "03734a66d1204bb6aca20191939ee535": {
      "model_module": "@jupyter-widgets/controls",
      "model_module_version": "1.5.0",
      "model_name": "DescriptionStyleModel",
      "state": {
       "_model_module_version": "1.5.0",
       "_view_module_version": "1.2.0",
       "description_width": ""
      }
     },
     "0612832ec4784d949c5539fb173d0dcc": {
      "model_module": "@jupyter-widgets/base",
      "model_module_version": "1.2.0",
      "model_name": "LayoutModel",
      "state": {
       "_model_module_version": "1.2.0",
       "_view_module_version": "1.2.0",
       "grid_area": "top-right",
       "justify_items": null,
       "object_fit": null,
       "object_position": null
      }
     },
     "0628bb2dbbeb4c6bb7675b09969f8104": {
      "model_module": "@jupyter-widgets/base",
      "model_module_version": "1.2.0",
      "model_name": "LayoutModel",
      "state": {
       "_model_module_version": "1.2.0",
       "_view_module_version": "1.2.0",
       "justify_items": null,
       "object_fit": null,
       "object_position": null
      }
     },
     "069817cbf20e44e99cdf69732c70c862": {
      "model_module": "@jupyter-widgets/base",
      "model_module_version": "1.2.0",
      "model_name": "LayoutModel",
      "state": {
       "_model_module_version": "1.2.0",
       "_view_module_version": "1.2.0",
       "height": "50px",
       "justify_items": null,
       "object_fit": null,
       "object_position": null
      }
     },
     "069cd56d714b4f57953dd97dbffd05e7": {
      "model_module": "@jupyter-widgets/base",
      "model_module_version": "1.2.0",
      "model_name": "LayoutModel",
      "state": {
       "_model_module_version": "1.2.0",
       "_view_module_version": "1.2.0",
       "justify_items": null,
       "object_fit": null,
       "object_position": null
      }
     },
     "0f36316922d94ca982113402af4d2da2": {
      "model_module": "@jupyter-widgets/controls",
      "model_module_version": "1.5.0",
      "model_name": "DescriptionStyleModel",
      "state": {
       "_model_module_version": "1.5.0",
       "_view_module_version": "1.2.0",
       "description_width": ""
      }
     },
     "11f3c72b84df4ae6907dfce5b6d1e528": {
      "model_module": "@jupyter-widgets/controls",
      "model_module_version": "1.5.0",
      "model_name": "DescriptionStyleModel",
      "state": {
       "_model_module_version": "1.5.0",
       "_view_module_version": "1.2.0",
       "description_width": ""
      }
     },
     "12e15726980b475ead89a1565a1caa75": {
      "model_module": "@jupyter-widgets/controls",
      "model_module_version": "1.5.0",
      "model_name": "VBoxModel",
      "state": {
       "_model_module_version": "1.5.0",
       "_view_module_version": "1.5.0",
       "children": [
        "IPY_MODEL_af29bdd093854b8e93c10f14ad35e07b",
        "IPY_MODEL_02ab731aa350484da00a685a3d35d499",
        "IPY_MODEL_9adb4443d896494dab5c7a91c159928e"
       ],
       "layout": "IPY_MODEL_0612832ec4784d949c5539fb173d0dcc"
      }
     },
     "15c34d0ec2ac4df688d1a5d712e9ad89": {
      "model_module": "@jupyter-widgets/output",
      "model_module_version": "1.0.0",
      "model_name": "OutputModel",
      "state": {
       "layout": "IPY_MODEL_069cd56d714b4f57953dd97dbffd05e7",
       "outputs": [
        {
         "data": {
          "text/html": "<div>\n<style scoped>\n    .dataframe tbody tr th:only-of-type {\n        vertical-align: middle;\n    }\n\n    .dataframe tbody tr th {\n        vertical-align: top;\n    }\n\n    .dataframe thead th {\n        text-align: right;\n    }\n</style>\n<table border=\"1\" class=\"dataframe\">\n  <thead>\n    <tr style=\"text-align: right;\">\n      <th></th>\n      <th>text</th>\n      <th>text_translated</th>\n      <th>media</th>\n      <th>source</th>\n      <th>mode</th>\n      <th>num_persons</th>\n      <th>_timestamp</th>\n      <th>confidence</th>\n      <th>source_reliability</th>\n      <th>locations</th>\n      <th>origin_bool</th>\n      <th>origin</th>\n      <th>destination</th>\n      <th>geom_tweet</th>\n      <th>triage_status</th>\n    </tr>\n    <tr>\n      <th>uniqueid</th>\n      <th></th>\n      <th></th>\n      <th></th>\n      <th></th>\n      <th></th>\n      <th></th>\n      <th></th>\n      <th></th>\n      <th></th>\n      <th></th>\n      <th></th>\n      <th></th>\n      <th></th>\n      <th></th>\n      <th></th>\n    </tr>\n  </thead>\n  <tbody>\n    <tr>\n      <th>969</th>\n      <td>\"En Macédoine, les migrants remplissent les trains pour la Serbie - AFP\" en replay sur Android TV Replay http://t.co/k8LZQkCzNh</td>\n      <td>in macedonia migrants fill trains for serbia afp in replay on android tv replay</td>\n      <td>NaN</td>\n      <td>twitter</td>\n      <td>train</td>\n      <td>NaN</td>\n      <td>2019-09-12 04:08:04.000000</td>\n      <td>0.63</td>\n      <td>0.12</td>\n      <td>['macedonia', 'serbia']</td>\n      <td>NaN</td>\n      <td>NaN</td>\n      <td>NaN</td>\n      <td>0101000000575BB1BFEC6E35400000000000004540</td>\n      <td>NaN</td>\n    </tr>\n    <tr>\n      <th>795</th>\n      <td>\"Macedonia, ancora frontiere chiuse. I migranti passano dal filo spinato\" - http://t.co/lt7wNeffC7 http://t.co/jvg5cMgDxk</td>\n      <td>macedonia still closed borders migrants pass by barbed wire</td>\n      <td>['http://pbs.twimg.com/media/CNBxOh7WoAAP-zV.jpg']</td>\n      <td>twitter</td>\n      <td>NaN</td>\n      <td>NaN</td>\n      <td>2019-09-14 16:50:53.000000</td>\n      <td>0.81</td>\n      <td>0.04</td>\n      <td>['macedonia']</td>\n      <td>NaN</td>\n      <td>NaN</td>\n      <td>NaN</td>\n      <td>0101000000575BB1BFEC6E35400000000000004540</td>\n      <td>NaN</td>\n    </tr>\n    <tr>\n      <th>1158</th>\n      <td>\"More than 130,000 #migrants have attempted to cross the Mediterranean in 2015\"  http://t.co/ZOvpUsTx1d</td>\n      <td>more than 130 000 migrants have attempted to cross the mediterranean in 2015</td>\n      <td>NaN</td>\n      <td>twitter</td>\n      <td>NaN</td>\n      <td>NaN</td>\n      <td>2019-07-26 17:47:04.000000</td>\n      <td>0.53</td>\n      <td>0.94</td>\n      <td>[]</td>\n      <td>NaN</td>\n      <td>NaN</td>\n      <td>NaN</td>\n      <td>NaN</td>\n      <td>NaN</td>\n    </tr>\n    <tr>\n      <th>2364</th>\n      <td>\"On Thursday Slovenia reported that 12,000 migrants had arrived in one day - a record in the current crisis in Central Europe.\" - BBC</td>\n      <td>on thursday slovenia reported that 12 000 migrants had arrived in one day a record in the current crisis in central europe bbc</td>\n      <td>NaN</td>\n      <td>twitter</td>\n      <td>NaN</td>\n      <td>NaN</td>\n      <td>2019-11-15 21:14:00.000000</td>\n      <td>0.93</td>\n      <td>0.23</td>\n      <td>['slovenia']</td>\n      <td>NaN</td>\n      <td>NaN</td>\n      <td>NaN</td>\n      <td>0101000000151DC9E53F042D402CD49AE61D074740</td>\n      <td>NaN</td>\n    </tr>\n    <tr>\n      <th>1137</th>\n      <td>\"With Tel Abyad secured, the Syrian Kurds have managed to forge a corridor between Cezire and Kobani. On Monday,... http://t.co/iJDle1SzwW</td>\n      <td>with tel abyad secured the syrian kurds have managed to forge a corridor between cezire and kobani on monday</td>\n      <td>NaN</td>\n      <td>twitter</td>\n      <td>NaN</td>\n      <td>NaN</td>\n      <td>2019-07-10 16:24:53.000000</td>\n      <td>0.71</td>\n      <td>0.24</td>\n      <td>['syria']</td>\n      <td>NaN</td>\n      <td>NaN</td>\n      <td>NaN</td>\n      <td>0101000000E8D9ACFA5C254240EFC9C342ADC14040</td>\n      <td>NaN</td>\n    </tr>\n    <tr>\n      <th>574</th>\n      <td>#2015 Франция закрывает границу с Италией http://t.co/O77dBheZKv</td>\n      <td>2015 france closes the border with italy</td>\n      <td>NaN</td>\n      <td>twitter</td>\n      <td>NaN</td>\n      <td>2015.0</td>\n      <td>2019-07-09 09:59:43.000000</td>\n      <td>0.62</td>\n      <td>1.00</td>\n      <td>['france', 'italy']</td>\n      <td>NaN</td>\n      <td>NaN</td>\n      <td>NaN</td>\n      <td>NaN</td>\n      <td>NaN</td>\n    </tr>\n    <tr>\n      <th>2041</th>\n      <td>#AFP Slovenia to send back train from Croatia carrying 150 migrants - AFP: Slovenia to send back train from Cr... http://t.co/zNEN4XLp7h</td>\n      <td>afp slovenia to send back train from croatia carrying 150 migrants afp slovenia to send back train from cr</td>\n      <td>NaN</td>\n      <td>twitter</td>\n      <td>train</td>\n      <td>150.0</td>\n      <td>2019-10-11 17:14:05.000000</td>\n      <td>0.99</td>\n      <td>0.26</td>\n      <td>['slovenia', 'croatia']</td>\n      <td>NaN</td>\n      <td>HR0</td>\n      <td>NaN</td>\n      <td>0101000000151DC9E53F042D402CD49AE61D074740</td>\n      <td>NaN</td>\n    </tr>\n    <tr>\n      <th>253</th>\n      <td>#AUSTRIA #STANDARD #WIEN broadcastetd by #TheIsraelCompany: Kommentar von Michael Völker - Die Flüchtlinge und ihr... http://t.co/MAn0lwR3vI</td>\n      <td>austria standard vienna broadcastetd by theisraelcompany comment by michael völker the refugees and their</td>\n      <td>NaN</td>\n      <td>twitter</td>\n      <td>NaN</td>\n      <td>NaN</td>\n      <td>2019-09-22 16:16:11.000000</td>\n      <td>0.67</td>\n      <td>0.05</td>\n      <td>['austria', 'vienna', 'israel']</td>\n      <td>NaN</td>\n      <td>NaN</td>\n      <td>NaN</td>\n      <td>010100000076711B0DE05D30409A99999999194840</td>\n      <td>NaN</td>\n    </tr>\n    <tr>\n      <th>397</th>\n      <td>#AUSTRIA #STANDARD #WIEN broadcastetd by #TheIsraelCompany: Syrien - Putin schließt Einsatz von Bodentruppen in Sy... http://t.co/LGKZhvK6c2</td>\n      <td>austria standard vienna broadcastetd by theisraelcompany syria putin closes deployment of ground forces in sy</td>\n      <td>NaN</td>\n      <td>twitter</td>\n      <td>NaN</td>\n      <td>NaN</td>\n      <td>2019-10-21 04:15:59.000000</td>\n      <td>0.51</td>\n      <td>0.06</td>\n      <td>['austria', 'vienna', 'israel', 'syria']</td>\n      <td>NaN</td>\n      <td>NaN</td>\n      <td>NaN</td>\n      <td>010100000076711B0DE05D30409A99999999194840</td>\n      <td>NaN</td>\n    </tr>\n    <tr>\n      <th>959</th>\n      <td>#Afrique La longue marche des migrants qui franchissent les Alpes à pied http://t.co/Way1hlrjE9</td>\n      <td>africa the long march of migrants crossing the alps on foot</td>\n      <td>NaN</td>\n      <td>twitter</td>\n      <td>on foot</td>\n      <td>NaN</td>\n      <td>2019-07-24 11:43:36.000000</td>\n      <td>0.55</td>\n      <td>0.49</td>\n      <td>[]</td>\n      <td>NaN</td>\n      <td>NaN</td>\n      <td>NaN</td>\n      <td>NaN</td>\n      <td>NaN</td>\n    </tr>\n  </tbody>\n</table>\n</div>",
          "text/plain": "                                                                                                                                                  text  \\\nuniqueid                                                                                                                                                 \n969       \"En Macédoine, les migrants remplissent les trains pour la Serbie - AFP\" en replay sur Android TV Replay http://t.co/k8LZQkCzNh                \n795       \"Macedonia, ancora frontiere chiuse. I migranti passano dal filo spinato\" - http://t.co/lt7wNeffC7 http://t.co/jvg5cMgDxk                      \n1158      \"More than 130,000 #migrants have attempted to cross the Mediterranean in 2015\"  http://t.co/ZOvpUsTx1d                                        \n2364      \"On Thursday Slovenia reported that 12,000 migrants had arrived in one day - a record in the current crisis in Central Europe.\" - BBC          \n1137      \"With Tel Abyad secured, the Syrian Kurds have managed to forge a corridor between Cezire and Kobani. On Monday,... http://t.co/iJDle1SzwW     \n574       #2015 Франция закрывает границу с Италией http://t.co/O77dBheZKv                                                                               \n2041      #AFP Slovenia to send back train from Croatia carrying 150 migrants - AFP: Slovenia to send back train from Cr... http://t.co/zNEN4XLp7h       \n253       #AUSTRIA #STANDARD #WIEN broadcastetd by #TheIsraelCompany: Kommentar von Michael Völker - Die Flüchtlinge und ihr... http://t.co/MAn0lwR3vI   \n397       #AUSTRIA #STANDARD #WIEN broadcastetd by #TheIsraelCompany: Syrien - Putin schließt Einsatz von Bodentruppen in Sy... http://t.co/LGKZhvK6c2   \n959       #Afrique La longue marche des migrants qui franchissent les Alpes à pied http://t.co/Way1hlrjE9                                                \n\n                                                                                                                         text_translated  \\\nuniqueid                                                                                                                                   \n969       in macedonia migrants fill trains for serbia afp in replay on android tv replay                                                  \n795       macedonia still closed borders migrants pass by barbed wire                                                                      \n1158      more than 130 000 migrants have attempted to cross the mediterranean in 2015                                                     \n2364      on thursday slovenia reported that 12 000 migrants had arrived in one day a record in the current crisis in central europe bbc   \n1137      with tel abyad secured the syrian kurds have managed to forge a corridor between cezire and kobani on monday                     \n574       2015 france closes the border with italy                                                                                         \n2041      afp slovenia to send back train from croatia carrying 150 migrants afp slovenia to send back train from cr                       \n253       austria standard vienna broadcastetd by theisraelcompany comment by michael völker the refugees and their                        \n397       austria standard vienna broadcastetd by theisraelcompany syria putin closes deployment of ground forces in sy                    \n959       africa the long march of migrants crossing the alps on foot                                                                      \n\n                                                       media   source  \\\nuniqueid                                                                \n969       NaN                                                 twitter   \n795       ['http://pbs.twimg.com/media/CNBxOh7WoAAP-zV.jpg']  twitter   \n1158      NaN                                                 twitter   \n2364      NaN                                                 twitter   \n1137      NaN                                                 twitter   \n574       NaN                                                 twitter   \n2041      NaN                                                 twitter   \n253       NaN                                                 twitter   \n397       NaN                                                 twitter   \n959       NaN                                                 twitter   \n\n             mode  num_persons                  _timestamp  confidence  \\\nuniqueid                                                                 \n969       train   NaN           2019-09-12 04:08:04.000000  0.63         \n795       NaN     NaN           2019-09-14 16:50:53.000000  0.81         \n1158      NaN     NaN           2019-07-26 17:47:04.000000  0.53         \n2364      NaN     NaN           2019-11-15 21:14:00.000000  0.93         \n1137      NaN     NaN           2019-07-10 16:24:53.000000  0.71         \n574       NaN      2015.0       2019-07-09 09:59:43.000000  0.62         \n2041      train    150.0        2019-10-11 17:14:05.000000  0.99         \n253       NaN     NaN           2019-09-22 16:16:11.000000  0.67         \n397       NaN     NaN           2019-10-21 04:15:59.000000  0.51         \n959       on foot NaN           2019-07-24 11:43:36.000000  0.55         \n\n          source_reliability                                 locations  \\\nuniqueid                                                                 \n969       0.12                ['macedonia', 'serbia']                    \n795       0.04                ['macedonia']                              \n1158      0.94                []                                         \n2364      0.23                ['slovenia']                               \n1137      0.24                ['syria']                                  \n574       1.00                ['france', 'italy']                        \n2041      0.26                ['slovenia', 'croatia']                    \n253       0.05                ['austria', 'vienna', 'israel']            \n397       0.06                ['austria', 'vienna', 'israel', 'syria']   \n959       0.49                []                                         \n\n          origin_bool origin destination  \\\nuniqueid                                   \n969      NaN           NaN    NaN          \n795      NaN           NaN    NaN          \n1158     NaN           NaN    NaN          \n2364     NaN           NaN    NaN          \n1137     NaN           NaN    NaN          \n574      NaN           NaN    NaN          \n2041     NaN           HR0    NaN          \n253      NaN           NaN    NaN          \n397      NaN           NaN    NaN          \n959      NaN           NaN    NaN          \n\n                                          geom_tweet  triage_status  \nuniqueid                                                             \n969       0101000000575BB1BFEC6E35400000000000004540 NaN             \n795       0101000000575BB1BFEC6E35400000000000004540 NaN             \n1158      NaN                                        NaN             \n2364      0101000000151DC9E53F042D402CD49AE61D074740 NaN             \n1137      0101000000E8D9ACFA5C254240EFC9C342ADC14040 NaN             \n574       NaN                                        NaN             \n2041      0101000000151DC9E53F042D402CD49AE61D074740 NaN             \n253       010100000076711B0DE05D30409A99999999194840 NaN             \n397       010100000076711B0DE05D30409A99999999194840 NaN             \n959       NaN                                        NaN             "
         },
         "metadata": {},
         "output_type": "display_data"
        }
       ]
      }
     },
     "164747ce44ed4bfd8b4cabf14dec6387": {
      "model_module": "@jupyter-widgets/controls",
      "model_module_version": "1.5.0",
      "model_name": "HTMLModel",
      "state": {
       "_model_module_version": "1.5.0",
       "_view_module_version": "1.5.0",
       "layout": "IPY_MODEL_53aa962345b74418a46bfe5ff50973de",
       "style": "IPY_MODEL_ab7c7d399aa847d7b9268e67405ae256",
       "value": "Select multiple by dragging or ctrl + click"
      }
     },
     "18aeb8140ef84dbd918518ef13b7ef39": {
      "model_module": "@jupyter-widgets/base",
      "model_module_version": "1.2.0",
      "model_name": "LayoutModel",
      "state": {
       "_model_module_version": "1.2.0",
       "_view_module_version": "1.2.0",
       "justify_items": null,
       "object_fit": null,
       "object_position": null
      }
     },
     "1bce8f6193fc43f19ada7115d0b4bd3c": {
      "model_module": "@jupyter-widgets/controls",
      "model_module_version": "1.5.0",
      "model_name": "ButtonStyleModel",
      "state": {
       "_model_module_version": "1.5.0",
       "_view_module_version": "1.2.0"
      }
     },
     "1ed6d909314c48e199f3bc588ede3afd": {
      "model_module": "@jupyter-widgets/base",
      "model_module_version": "1.2.0",
      "model_name": "LayoutModel",
      "state": {
       "_model_module_version": "1.2.0",
       "_view_module_version": "1.2.0",
       "grid_template_areas": "\"top-left top-right\"\n\"top-left top-right\"",
       "grid_template_columns": "1fr 1fr",
       "grid_template_rows": "1fr 1fr",
       "justify_items": null,
       "object_fit": null,
       "object_position": null
      }
     },
     "1f3194ac8ea84fc190d148fd3ace0a75": {
      "model_module": "@jupyter-widgets/controls",
      "model_module_version": "1.5.0",
      "model_name": "HBoxModel",
      "state": {
       "_model_module_version": "1.5.0",
       "_view_module_version": "1.5.0",
       "children": [
        "IPY_MODEL_97eaf58ed63b405b89ed8d4b7f73b234",
        "IPY_MODEL_f462610bb4994f55b108a9b0266428de"
       ],
       "layout": "IPY_MODEL_d5ed068a235943f38d2733751d0fe942"
      }
     },
     "28cb41e4dcbd48449667b5d8fed16303": {
      "model_module": "@jupyter-widgets/base",
      "model_module_version": "1.2.0",
      "model_name": "LayoutModel",
      "state": {
       "_model_module_version": "1.2.0",
       "_view_module_version": "1.2.0",
       "justify_items": null,
       "object_fit": null,
       "object_position": null,
       "width": "60%"
      }
     },
     "2c890f2b9cfe4e728a48d585348b9674": {
      "model_module": "@jupyter-widgets/controls",
      "model_module_version": "1.5.0",
      "model_name": "ButtonStyleModel",
      "state": {
       "_model_module_version": "1.5.0",
       "_view_module_version": "1.2.0"
      }
     },
     "2e3a94374e254526986e581869e0d4a5": {
      "model_module": "@jupyter-widgets/controls",
      "model_module_version": "1.5.0",
      "model_name": "TextModel",
      "state": {
       "_model_module_version": "1.5.0",
       "_view_module_version": "1.5.0",
       "layout": "IPY_MODEL_5c3f6bbaa42847379a9ef9f39c98a318",
       "style": "IPY_MODEL_03734a66d1204bb6aca20191939ee535",
       "value": "filtered_data.csv"
      }
     },
     "35cbf3d5e84c4f9aa6ef957e07a3e819": {
      "model_module": "@jupyter-widgets/controls",
      "model_module_version": "1.5.0",
      "model_name": "DescriptionStyleModel",
      "state": {
       "_model_module_version": "1.5.0",
       "_view_module_version": "1.2.0",
       "description_width": ""
      }
     },
     "3e6a6e692eb741b4a898b5db40262a6c": {
      "model_module": "@jupyter-widgets/output",
      "model_module_version": "1.0.0",
      "model_name": "OutputModel",
      "state": {
       "layout": "IPY_MODEL_78b21365a66d4cfbb8f615ecc41506d4",
       "outputs": [
        {
         "data": {
          "application/vnd.jupyter.widget-view+json": {
           "model_id": "75c59ee78c004936bd7a7cf0e42cf8d4",
           "version_major": 2,
           "version_minor": 0
          },
          "text/plain": "VBox(children=(HBox(children=(IntSlider(value=1, layout=Layout(width='60%'), max=266, min=1), Label(value='of …"
         },
         "metadata": {},
         "output_type": "display_data"
        }
       ]
      }
     },
     "41106ca3c66948338b105b5b66dd3e58": {
      "model_module": "@jupyter-widgets/base",
      "model_module_version": "1.2.0",
      "model_name": "LayoutModel",
      "state": {
       "_model_module_version": "1.2.0",
       "_view_module_version": "1.2.0",
       "justify_items": null,
       "object_fit": null,
       "object_position": null
      }
     },
     "43e48e0898c441ffbc856c96df2d4ef0": {
      "model_module": "@jupyter-widgets/controls",
      "model_module_version": "1.5.0",
      "model_name": "ButtonModel",
      "state": {
       "_model_module_version": "1.5.0",
       "_view_module_version": "1.5.0",
       "description": "save",
       "layout": "IPY_MODEL_6e814ed2d17a43f7bae25ebc9483af8a",
       "style": "IPY_MODEL_2c890f2b9cfe4e728a48d585348b9674"
      }
     },
     "4544854f51a44d9bb528a3357d2f0019": {
      "model_module": "@jupyter-widgets/controls",
      "model_module_version": "1.5.0",
      "model_name": "DescriptionStyleModel",
      "state": {
       "_model_module_version": "1.5.0",
       "_view_module_version": "1.2.0",
       "description_width": ""
      }
     },
     "49b251ee31ea43d1b06f23438fe16763": {
      "model_module": "@jupyter-widgets/base",
      "model_module_version": "1.2.0",
      "model_name": "LayoutModel",
      "state": {
       "_model_module_version": "1.2.0",
       "_view_module_version": "1.2.0",
       "justify_items": null,
       "object_fit": null,
       "object_position": null
      }
     },
     "4a63a6304129449c9c44e54d6020e090": {
      "model_module": "@jupyter-widgets/base",
      "model_module_version": "1.2.0",
      "model_name": "LayoutModel",
      "state": {
       "_model_module_version": "1.2.0",
       "_view_module_version": "1.2.0",
       "justify_items": null,
       "object_fit": null,
       "object_position": null
      }
     },
     "53aa962345b74418a46bfe5ff50973de": {
      "model_module": "@jupyter-widgets/base",
      "model_module_version": "1.2.0",
      "model_name": "LayoutModel",
      "state": {
       "_model_module_version": "1.2.0",
       "_view_module_version": "1.2.0",
       "justify_items": null,
       "object_fit": null,
       "object_position": null
      }
     },
     "54018b40742a41a38e40be9579284d69": {
      "model_module": "@jupyter-widgets/base",
      "model_module_version": "1.2.0",
      "model_name": "LayoutModel",
      "state": {
       "_model_module_version": "1.2.0",
       "_view_module_version": "1.2.0",
       "justify_items": null,
       "object_fit": null,
       "object_position": null
      }
     },
     "5b1cb291cb444523ac9eccdfead4e4a6": {
      "model_module": "@jupyter-widgets/controls",
      "model_module_version": "1.5.0",
      "model_name": "HBoxModel",
      "state": {
       "_model_module_version": "1.5.0",
       "_view_module_version": "1.5.0",
       "children": [
        "IPY_MODEL_92a1f87a7f2549a68c0b23dee8cb7da3",
        "IPY_MODEL_7a0bac14589d401fb185c5c6b59d3a00",
        "IPY_MODEL_a35da2f594ea49db893b1111a1e1488b",
        "IPY_MODEL_9f01628811ac4b318f0c125316d580db",
        "IPY_MODEL_bb781873597d494286a0eaff6ed619b9"
       ],
       "layout": "IPY_MODEL_41106ca3c66948338b105b5b66dd3e58"
      }
     },
     "5c3f6bbaa42847379a9ef9f39c98a318": {
      "model_module": "@jupyter-widgets/base",
      "model_module_version": "1.2.0",
      "model_name": "LayoutModel",
      "state": {
       "_model_module_version": "1.2.0",
       "_view_module_version": "1.2.0",
       "justify_items": null,
       "object_fit": null,
       "object_position": null
      }
     },
     "5ee293a435c94b0dad08cf5b4e232036": {
      "model_module": "@jupyter-widgets/base",
      "model_module_version": "1.2.0",
      "model_name": "LayoutModel",
      "state": {
       "_model_module_version": "1.2.0",
       "_view_module_version": "1.2.0",
       "justify_items": null,
       "object_fit": null,
       "object_position": null
      }
     },
     "6e814ed2d17a43f7bae25ebc9483af8a": {
      "model_module": "@jupyter-widgets/base",
      "model_module_version": "1.2.0",
      "model_name": "LayoutModel",
      "state": {
       "_model_module_version": "1.2.0",
       "_view_module_version": "1.2.0",
       "justify_items": null,
       "object_fit": null,
       "object_position": null
      }
     },
     "75c59ee78c004936bd7a7cf0e42cf8d4": {
      "model_module": "@jupyter-widgets/controls",
      "model_module_version": "1.5.0",
      "model_name": "VBoxModel",
      "state": {
       "_model_module_version": "1.5.0",
       "_view_module_version": "1.5.0",
       "children": [
        "IPY_MODEL_5b1cb291cb444523ac9eccdfead4e4a6",
        "IPY_MODEL_15c34d0ec2ac4df688d1a5d712e9ad89"
       ],
       "layout": "IPY_MODEL_da9f93fe2e664572be549e9e5ca5575a"
      }
     },
     "78b21365a66d4cfbb8f615ecc41506d4": {
      "model_module": "@jupyter-widgets/base",
      "model_module_version": "1.2.0",
      "model_name": "LayoutModel",
      "state": {
       "_model_module_version": "1.2.0",
       "_view_module_version": "1.2.0",
       "justify_items": null,
       "object_fit": null,
       "object_position": null
      }
     },
     "791961b229de40708e47255381cbf773": {
      "model_module": "@jupyter-widgets/controls",
      "model_module_version": "1.5.0",
      "model_name": "DropdownModel",
      "state": {
       "_model_module_version": "1.5.0",
       "_options_labels": [
        "10",
        "20",
        "50"
       ],
       "_view_module_version": "1.5.0",
       "description": "items per page",
       "index": 0,
       "layout": "IPY_MODEL_f4ab9bdef90e4a49aa8440c7a7c6d87d",
       "style": "IPY_MODEL_d9777f95370d413e856cbe199b679713"
      }
     },
     "7a0bac14589d401fb185c5c6b59d3a00": {
      "model_module": "@jupyter-widgets/controls",
      "model_module_version": "1.5.0",
      "model_name": "LabelModel",
      "state": {
       "_model_module_version": "1.5.0",
       "_view_module_version": "1.5.0",
       "layout": "IPY_MODEL_54018b40742a41a38e40be9579284d69",
       "style": "IPY_MODEL_0f36316922d94ca982113402af4d2da2",
       "value": "of 266 pages with "
      }
     },
     "869cb2a735064e96aa634bb220a99efb": {
      "model_module": "@jupyter-widgets/base",
      "model_module_version": "1.2.0",
      "model_name": "LayoutModel",
      "state": {
       "_model_module_version": "1.2.0",
       "_view_module_version": "1.2.0",
       "grid_area": "top-left",
       "justify_items": null,
       "object_fit": null,
       "object_position": null
      }
     },
     "8b98129d060949da880309b6e884059c": {
      "model_module": "@jupyter-widgets/controls",
      "model_module_version": "1.5.0",
      "model_name": "DropdownModel",
      "state": {
       "_model_module_version": "1.5.0",
       "_options_labels": [
        "text",
        "text_translated",
        "media",
        "source",
        "mode",
        "num_persons",
        "_timestamp",
        "confidence",
        "source_reliability",
        "locations",
        "origin_bool",
        "origin",
        "destination",
        "geom_tweet",
        "triage_status"
       ],
       "_view_module_version": "1.5.0",
       "index": 0,
       "layout": "IPY_MODEL_da0cd77e6e0a463db2ae3e4a1ddc5fcb",
       "style": "IPY_MODEL_9419a5c33dd84ac88e4b0c32457267d3"
      }
     },
     "8d709282f4f74b6ba6466f2f166810a0": {
      "model_module": "@jupyter-widgets/controls",
      "model_module_version": "1.5.0",
      "model_name": "VBoxModel",
      "state": {
       "_model_module_version": "1.5.0",
       "_view_module_version": "1.5.0",
       "children": [
        "IPY_MODEL_c8dbc9a740ff40b69f93d4a20cdc14f7",
        "IPY_MODEL_8b98129d060949da880309b6e884059c",
        "IPY_MODEL_c8bc0e23c3b549d7a92aac5cf027dff4"
       ],
       "layout": "IPY_MODEL_869cb2a735064e96aa634bb220a99efb"
      }
     },
     "92a1f87a7f2549a68c0b23dee8cb7da3": {
      "model_module": "@jupyter-widgets/controls",
      "model_module_version": "1.5.0",
      "model_name": "IntSliderModel",
      "state": {
       "_model_module_version": "1.5.0",
       "_view_module_version": "1.5.0",
       "layout": "IPY_MODEL_28cb41e4dcbd48449667b5d8fed16303",
       "max": 266,
       "min": 1,
       "style": "IPY_MODEL_f14e0d56f1db4ac5a540a86265d2c868",
       "value": 1
      }
     },
     "9419a5c33dd84ac88e4b0c32457267d3": {
      "model_module": "@jupyter-widgets/controls",
      "model_module_version": "1.5.0",
      "model_name": "DescriptionStyleModel",
      "state": {
       "_model_module_version": "1.5.0",
       "_view_module_version": "1.2.0",
       "description_width": ""
      }
     },
     "97eaf58ed63b405b89ed8d4b7f73b234": {
      "model_module": "@jupyter-widgets/controls",
      "model_module_version": "1.5.0",
      "model_name": "SelectMultipleModel",
      "state": {
       "_model_module_version": "1.5.0",
       "_options_labels": [
        "text",
        "text_translated",
        "media",
        "source",
        "mode",
        "num_persons",
        "_timestamp",
        "confidence",
        "source_reliability",
        "locations",
        "origin_bool",
        "origin",
        "destination",
        "geom_tweet",
        "triage_status"
       ],
       "_view_module_version": "1.5.0",
       "index": [],
       "layout": "IPY_MODEL_a77ca67a12be46e0bbfe5f25903a8ba2",
       "rows": 5,
       "style": "IPY_MODEL_11f3c72b84df4ae6907dfce5b6d1e528"
      }
     },
     "9adb4443d896494dab5c7a91c159928e": {
      "model_module": "@jupyter-widgets/output",
      "model_module_version": "1.0.0",
      "model_name": "OutputModel",
      "state": {
       "layout": "IPY_MODEL_e19eb1dcede44921998c36038974b61d",
       "outputs": [
        {
         "data": {
          "image/png": "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\n",
          "text/plain": "<Figure size 432x288 with 1 Axes>"
         },
         "metadata": {
          "needs_background": "light"
         },
         "output_type": "display_data"
        }
       ]
      }
     },
     "9f01628811ac4b318f0c125316d580db": {
      "model_module": "@jupyter-widgets/controls",
      "model_module_version": "1.5.0",
      "model_name": "ButtonModel",
      "state": {
       "_model_module_version": "1.5.0",
       "_view_module_version": "1.5.0",
       "icon": "chevron-left",
       "layout": "IPY_MODEL_e1e42f0722a54d64a2804274c3d41708",
       "style": "IPY_MODEL_1bce8f6193fc43f19ada7115d0b4bd3c"
      }
     },
     "a2463b7aea194a629f180e47f74875d8": {
      "model_module": "@jupyter-widgets/base",
      "model_module_version": "1.2.0",
      "model_name": "LayoutModel",
      "state": {
       "_model_module_version": "1.2.0",
       "_view_module_version": "1.2.0",
       "justify_items": null,
       "object_fit": null,
       "object_position": null,
       "width": "30px"
      }
     },
     "a35da2f594ea49db893b1111a1e1488b": {
      "model_module": "@jupyter-widgets/controls",
      "model_module_version": "1.5.0",
      "model_name": "LabelModel",
      "state": {
       "_model_module_version": "1.5.0",
       "_view_module_version": "1.5.0",
       "layout": "IPY_MODEL_c8913018a1e34f2a8ce8ecdad2057c9c",
       "style": "IPY_MODEL_fae1bf4eaccf4d93966313e70375abc9",
       "value": "2654 rows"
      }
     },
     "a4993c5606944908a441f25fb81b0ce7": {
      "model_module": "@jupyter-widgets/controls",
      "model_module_version": "1.5.0",
      "model_name": "DescriptionStyleModel",
      "state": {
       "_model_module_version": "1.5.0",
       "_view_module_version": "1.2.0",
       "description_width": ""
      }
     },
     "a77ca67a12be46e0bbfe5f25903a8ba2": {
      "model_module": "@jupyter-widgets/base",
      "model_module_version": "1.2.0",
      "model_name": "LayoutModel",
      "state": {
       "_model_module_version": "1.2.0",
       "_view_module_version": "1.2.0",
       "justify_items": null,
       "object_fit": null,
       "object_position": null
      }
     },
     "a8100c1fa93042e7bd93586edd084bc1": {
      "model_module": "@jupyter-widgets/controls",
      "model_module_version": "1.5.0",
      "model_name": "DropdownModel",
      "state": {
       "_model_module_version": "1.5.0",
       "_options_labels": [
        "text",
        "text_translated",
        "media",
        "source",
        "mode",
        "num_persons",
        "_timestamp",
        "confidence",
        "source_reliability",
        "locations",
        "origin_bool",
        "origin",
        "destination",
        "geom_tweet",
        "triage_status"
       ],
       "_view_module_version": "1.5.0",
       "description": "order by",
       "index": 0,
       "layout": "IPY_MODEL_5ee293a435c94b0dad08cf5b4e232036",
       "style": "IPY_MODEL_f2d7a453795c4ec6b2fa73395a3ce2b7"
      }
     },
     "a8ba7171035346af8194396cd915d651": {
      "model_module": "@jupyter-widgets/base",
      "model_module_version": "1.2.0",
      "model_name": "LayoutModel",
      "state": {
       "_model_module_version": "1.2.0",
       "_view_module_version": "1.2.0",
       "justify_items": null,
       "object_fit": null,
       "object_position": null
      }
     },
     "aa1b49193944480998b25b1883ba5fa4": {
      "model_module": "@jupyter-widgets/controls",
      "model_module_version": "1.5.0",
      "model_name": "GridBoxModel",
      "state": {
       "_model_module_version": "1.5.0",
       "_view_module_version": "1.5.0",
       "children": [
        "IPY_MODEL_8d709282f4f74b6ba6466f2f166810a0",
        "IPY_MODEL_12e15726980b475ead89a1565a1caa75"
       ],
       "layout": "IPY_MODEL_1ed6d909314c48e199f3bc588ede3afd"
      }
     },
     "ab7c7d399aa847d7b9268e67405ae256": {
      "model_module": "@jupyter-widgets/controls",
      "model_module_version": "1.5.0",
      "model_name": "DescriptionStyleModel",
      "state": {
       "_model_module_version": "1.5.0",
       "_view_module_version": "1.2.0",
       "description_width": ""
      }
     },
     "ac9928bbf3c2477e857a195333af6e50": {
      "model_module": "@jupyter-widgets/controls",
      "model_module_version": "1.5.0",
      "model_name": "DescriptionStyleModel",
      "state": {
       "_model_module_version": "1.5.0",
       "_view_module_version": "1.2.0",
       "description_width": ""
      }
     },
     "af29bdd093854b8e93c10f14ad35e07b": {
      "model_module": "@jupyter-widgets/controls",
      "model_module_version": "1.5.0",
      "model_name": "LabelModel",
      "state": {
       "_model_module_version": "1.5.0",
       "_view_module_version": "1.5.0",
       "layout": "IPY_MODEL_b3b64d91589b41309770d66048d57cc3",
       "style": "IPY_MODEL_b0d1fbd6bb82436c8760a1edec4375cf",
       "value": "Plot Columns"
      }
     },
     "b01917d6b82e45a6bd646f7617a02570": {
      "model_module": "@jupyter-widgets/base",
      "model_module_version": "1.2.0",
      "model_name": "LayoutModel",
      "state": {
       "_model_module_version": "1.2.0",
       "_view_module_version": "1.2.0",
       "justify_items": null,
       "object_fit": null,
       "object_position": null
      }
     },
     "b0d1fbd6bb82436c8760a1edec4375cf": {
      "model_module": "@jupyter-widgets/controls",
      "model_module_version": "1.5.0",
      "model_name": "DescriptionStyleModel",
      "state": {
       "_model_module_version": "1.5.0",
       "_view_module_version": "1.2.0",
       "description_width": ""
      }
     },
     "b1d3db1740614fa2834c1cdb8d15af04": {
      "model_module": "@jupyter-widgets/controls",
      "model_module_version": "1.5.0",
      "model_name": "DescriptionStyleModel",
      "state": {
       "_model_module_version": "1.5.0",
       "_view_module_version": "1.2.0",
       "description_width": ""
      }
     },
     "b3b64d91589b41309770d66048d57cc3": {
      "model_module": "@jupyter-widgets/base",
      "model_module_version": "1.2.0",
      "model_name": "LayoutModel",
      "state": {
       "_model_module_version": "1.2.0",
       "_view_module_version": "1.2.0",
       "justify_items": null,
       "object_fit": null,
       "object_position": null
      }
     },
     "b675a1d6ebfe425e9067e8aa2e4b835c": {
      "model_module": "@jupyter-widgets/base",
      "model_module_version": "1.2.0",
      "model_name": "LayoutModel",
      "state": {
       "_model_module_version": "1.2.0",
       "_view_module_version": "1.2.0",
       "justify_items": null,
       "object_fit": null,
       "object_position": null
      }
     },
     "ba3f5066a5464d6e92e1b27b62ce9a88": {
      "model_module": "@jupyter-widgets/controls",
      "model_module_version": "1.5.0",
      "model_name": "HBoxModel",
      "state": {
       "_model_module_version": "1.5.0",
       "_view_module_version": "1.5.0",
       "children": [
        "IPY_MODEL_2e3a94374e254526986e581869e0d4a5",
        "IPY_MODEL_43e48e0898c441ffbc856c96df2d4ef0",
        "IPY_MODEL_c95bc1f2d4194652b3d20928c22d45da"
       ],
       "layout": "IPY_MODEL_eeb84495e83c46a5a811b03fce4f15e8"
      }
     },
     "bb781873597d494286a0eaff6ed619b9": {
      "model_module": "@jupyter-widgets/controls",
      "model_module_version": "1.5.0",
      "model_name": "ButtonModel",
      "state": {
       "_model_module_version": "1.5.0",
       "_view_module_version": "1.5.0",
       "icon": "chevron-right",
       "layout": "IPY_MODEL_a2463b7aea194a629f180e47f74875d8",
       "style": "IPY_MODEL_e93706302cc74074854a3a2f8993eec2"
      }
     },
     "c8913018a1e34f2a8ce8ecdad2057c9c": {
      "model_module": "@jupyter-widgets/base",
      "model_module_version": "1.2.0",
      "model_name": "LayoutModel",
      "state": {
       "_model_module_version": "1.2.0",
       "_view_module_version": "1.2.0",
       "justify_items": null,
       "object_fit": null,
       "object_position": null
      }
     },
     "c8bc0e23c3b549d7a92aac5cf027dff4": {
      "model_module": "@jupyter-widgets/controls",
      "model_module_version": "1.5.0",
      "model_name": "TextModel",
      "state": {
       "_model_module_version": "1.5.0",
       "_view_module_version": "1.5.0",
       "layout": "IPY_MODEL_0628bb2dbbeb4c6bb7675b09969f8104",
       "style": "IPY_MODEL_35cbf3d5e84c4f9aa6ef957e07a3e819"
      }
     },
     "c8dbc9a740ff40b69f93d4a20cdc14f7": {
      "model_module": "@jupyter-widgets/controls",
      "model_module_version": "1.5.0",
      "model_name": "LabelModel",
      "state": {
       "_model_module_version": "1.5.0",
       "_view_module_version": "1.5.0",
       "layout": "IPY_MODEL_4a63a6304129449c9c44e54d6020e090",
       "style": "IPY_MODEL_ac9928bbf3c2477e857a195333af6e50",
       "value": "Search Columns"
      }
     },
     "c95bc1f2d4194652b3d20928c22d45da": {
      "model_module": "@jupyter-widgets/controls",
      "model_module_version": "1.5.0",
      "model_name": "LabelModel",
      "state": {
       "_model_module_version": "1.5.0",
       "_view_module_version": "1.5.0",
       "layout": "IPY_MODEL_b01917d6b82e45a6bd646f7617a02570",
       "style": "IPY_MODEL_eb2e32e6bfbf458d8a83cf6c96600a4b"
      }
     },
     "d5ed068a235943f38d2733751d0fe942": {
      "model_module": "@jupyter-widgets/base",
      "model_module_version": "1.2.0",
      "model_name": "LayoutModel",
      "state": {
       "_model_module_version": "1.2.0",
       "_view_module_version": "1.2.0",
       "justify_items": null,
       "object_fit": null,
       "object_position": null
      }
     },
     "d9777f95370d413e856cbe199b679713": {
      "model_module": "@jupyter-widgets/controls",
      "model_module_version": "1.5.0",
      "model_name": "DescriptionStyleModel",
      "state": {
       "_model_module_version": "1.5.0",
       "_view_module_version": "1.2.0",
       "description_width": ""
      }
     },
     "da0cd77e6e0a463db2ae3e4a1ddc5fcb": {
      "model_module": "@jupyter-widgets/base",
      "model_module_version": "1.2.0",
      "model_name": "LayoutModel",
      "state": {
       "_model_module_version": "1.2.0",
       "_view_module_version": "1.2.0",
       "justify_items": null,
       "object_fit": null,
       "object_position": null
      }
     },
     "da9f93fe2e664572be549e9e5ca5575a": {
      "model_module": "@jupyter-widgets/base",
      "model_module_version": "1.2.0",
      "model_name": "LayoutModel",
      "state": {
       "_model_module_version": "1.2.0",
       "_view_module_version": "1.2.0",
       "justify_items": null,
       "object_fit": null,
       "object_position": null
      }
     },
     "e12005cb227b40579e88cd2e3b673d51": {
      "model_module": "@jupyter-widgets/base",
      "model_module_version": "1.2.0",
      "model_name": "LayoutModel",
      "state": {
       "_model_module_version": "1.2.0",
       "_view_module_version": "1.2.0",
       "justify_items": null,
       "object_fit": null,
       "object_position": null
      }
     },
     "e19eb1dcede44921998c36038974b61d": {
      "model_module": "@jupyter-widgets/base",
      "model_module_version": "1.2.0",
      "model_name": "LayoutModel",
      "state": {
       "_model_module_version": "1.2.0",
       "_view_module_version": "1.2.0",
       "justify_items": null,
       "object_fit": null,
       "object_position": null
      }
     },
     "e1e42f0722a54d64a2804274c3d41708": {
      "model_module": "@jupyter-widgets/base",
      "model_module_version": "1.2.0",
      "model_name": "LayoutModel",
      "state": {
       "_model_module_version": "1.2.0",
       "_view_module_version": "1.2.0",
       "justify_items": null,
       "object_fit": null,
       "object_position": null,
       "width": "30px"
      }
     },
     "e93706302cc74074854a3a2f8993eec2": {
      "model_module": "@jupyter-widgets/controls",
      "model_module_version": "1.5.0",
      "model_name": "ButtonStyleModel",
      "state": {
       "_model_module_version": "1.5.0",
       "_view_module_version": "1.2.0"
      }
     },
     "eb2e32e6bfbf458d8a83cf6c96600a4b": {
      "model_module": "@jupyter-widgets/controls",
      "model_module_version": "1.5.0",
      "model_name": "DescriptionStyleModel",
      "state": {
       "_model_module_version": "1.5.0",
       "_view_module_version": "1.2.0",
       "description_width": ""
      }
     },
     "ebf10d638fd446109d7889eaa7bcc278": {
      "model_module": "@jupyter-widgets/controls",
      "model_module_version": "1.5.0",
      "model_name": "TabModel",
      "state": {
       "_model_module_version": "1.5.0",
       "_titles": {
        "0": "Sorting",
        "1": "Required Values",
        "2": "Searching",
        "3": "Save filtered Data"
       },
       "_view_module_version": "1.5.0",
       "children": [
        "IPY_MODEL_f0abc8a95fb74b409db9409bbce7a49d",
        "IPY_MODEL_1f3194ac8ea84fc190d148fd3ace0a75",
        "IPY_MODEL_aa1b49193944480998b25b1883ba5fa4",
        "IPY_MODEL_ba3f5066a5464d6e92e1b27b62ce9a88"
       ],
       "layout": "IPY_MODEL_b675a1d6ebfe425e9067e8aa2e4b835c"
      }
     },
     "eda1c9bf75544bb9bb94ff69baf05b2f": {
      "model_module": "@jupyter-widgets/controls",
      "model_module_version": "1.5.0",
      "model_name": "ToggleButtonModel",
      "state": {
       "_model_module_version": "1.5.0",
       "_view_module_version": "1.5.0",
       "description": "ascending",
       "layout": "IPY_MODEL_e12005cb227b40579e88cd2e3b673d51",
       "style": "IPY_MODEL_b1d3db1740614fa2834c1cdb8d15af04",
       "value": true
      }
     },
     "eeb84495e83c46a5a811b03fce4f15e8": {
      "model_module": "@jupyter-widgets/base",
      "model_module_version": "1.2.0",
      "model_name": "LayoutModel",
      "state": {
       "_model_module_version": "1.2.0",
       "_view_module_version": "1.2.0",
       "justify_items": null,
       "object_fit": null,
       "object_position": null
      }
     },
     "f0abc8a95fb74b409db9409bbce7a49d": {
      "model_module": "@jupyter-widgets/controls",
      "model_module_version": "1.5.0",
      "model_name": "HBoxModel",
      "state": {
       "_model_module_version": "1.5.0",
       "_view_module_version": "1.5.0",
       "children": [
        "IPY_MODEL_a8100c1fa93042e7bd93586edd084bc1",
        "IPY_MODEL_eda1c9bf75544bb9bb94ff69baf05b2f",
        "IPY_MODEL_791961b229de40708e47255381cbf773"
       ],
       "layout": "IPY_MODEL_069817cbf20e44e99cdf69732c70c862"
      }
     },
     "f14e0d56f1db4ac5a540a86265d2c868": {
      "model_module": "@jupyter-widgets/controls",
      "model_module_version": "1.5.0",
      "model_name": "SliderStyleModel",
      "state": {
       "_model_module_version": "1.5.0",
       "_view_module_version": "1.2.0",
       "description_width": ""
      }
     },
     "f2d7a453795c4ec6b2fa73395a3ce2b7": {
      "model_module": "@jupyter-widgets/controls",
      "model_module_version": "1.5.0",
      "model_name": "DescriptionStyleModel",
      "state": {
       "_model_module_version": "1.5.0",
       "_view_module_version": "1.2.0",
       "description_width": ""
      }
     },
     "f462610bb4994f55b108a9b0266428de": {
      "model_module": "@jupyter-widgets/controls",
      "model_module_version": "1.5.0",
      "model_name": "VBoxModel",
      "state": {
       "_model_module_version": "1.5.0",
       "_view_module_version": "1.5.0",
       "children": [
        "IPY_MODEL_164747ce44ed4bfd8b4cabf14dec6387",
        "IPY_MODEL_faa3cd0b281f4a42a92c91727f652d07"
       ],
       "layout": "IPY_MODEL_18aeb8140ef84dbd918518ef13b7ef39"
      }
     },
     "f4ab9bdef90e4a49aa8440c7a7c6d87d": {
      "model_module": "@jupyter-widgets/base",
      "model_module_version": "1.2.0",
      "model_name": "LayoutModel",
      "state": {
       "_model_module_version": "1.2.0",
       "_view_module_version": "1.2.0",
       "justify_items": null,
       "object_fit": null,
       "object_position": null,
       "width": "20%"
      }
     },
     "faa3cd0b281f4a42a92c91727f652d07": {
      "model_module": "@jupyter-widgets/controls",
      "model_module_version": "1.5.0",
      "model_name": "HTMLModel",
      "state": {
       "_model_module_version": "1.5.0",
       "_view_module_version": "1.5.0",
       "layout": "IPY_MODEL_a8ba7171035346af8194396cd915d651",
       "style": "IPY_MODEL_4544854f51a44d9bb528a3357d2f0019",
       "value": "Deselect with ctrl + click"
      }
     },
     "fae1bf4eaccf4d93966313e70375abc9": {
      "model_module": "@jupyter-widgets/controls",
      "model_module_version": "1.5.0",
      "model_name": "DescriptionStyleModel",
      "state": {
       "_model_module_version": "1.5.0",
       "_view_module_version": "1.2.0",
       "description_width": ""
      }
     }
    },
    "version_major": 2,
    "version_minor": 0
   }
  }
 },
 "nbformat": 4,
 "nbformat_minor": 2
}

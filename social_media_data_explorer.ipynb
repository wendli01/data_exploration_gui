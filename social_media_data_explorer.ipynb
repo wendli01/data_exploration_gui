{
 "cells": [
  {
   "cell_type": "markdown",
   "metadata": {},
   "source": [
    "# Social Media Data Explorer\n",
    "\n",
    "We can create an app that allows us to easily explore social media data."
   ]
  },
  {
   "cell_type": "markdown",
   "metadata": {},
   "source": [
    "## Prerequisites"
   ]
  },
  {
   "cell_type": "markdown",
   "metadata": {},
   "source": [
    "### Imports"
   ]
  },
  {
   "cell_type": "code",
   "execution_count": 1,
   "metadata": {
    "ExecuteTime": {
     "end_time": "2019-09-26T12:28:31.519157Z",
     "start_time": "2019-09-26T12:28:30.790774Z"
    }
   },
   "outputs": [],
   "source": [
    "import pandas as pd\n",
    "import seaborn as sns\n",
    "import numpy as np\n",
    "import ipywidgets as widgets\n",
    "from ipywidgets import interact, interactive, fixed, interact_manual, Layout, interactive_output\n",
    "from IPython.display import display, HTML\n",
    "from getpass import getpass\n",
    "from matplotlib import pyplot as plt\n",
    "import geopandas as gpd\n",
    "import os\n",
    "import matplotlib.colors as colors\n",
    "import ipyleaflet\n",
    "import matplotlib\n",
    "import shapely"
   ]
  },
  {
   "cell_type": "markdown",
   "metadata": {},
   "source": [
    "### Styling"
   ]
  },
  {
   "cell_type": "code",
   "execution_count": 2,
   "metadata": {
    "ExecuteTime": {
     "end_time": "2019-09-26T12:28:31.524456Z",
     "start_time": "2019-09-26T12:28:31.520747Z"
    }
   },
   "outputs": [
    {
     "data": {
      "text/html": [
       "<style>.container { width:80% !important; }</style>"
      ],
      "text/plain": [
       "<IPython.core.display.HTML object>"
      ]
     },
     "metadata": {},
     "output_type": "display_data"
    }
   ],
   "source": [
    "display(HTML(\"<style>.container { width:80% !important; }</style>\"))\n",
    "pd.set_option('display.max_colwidth', -1)"
   ]
  },
  {
   "cell_type": "markdown",
   "metadata": {},
   "source": [
    "## Data"
   ]
  },
  {
   "cell_type": "code",
   "execution_count": 3,
   "metadata": {
    "ExecuteTime": {
     "end_time": "2019-09-26T12:28:31.549975Z",
     "start_time": "2019-09-26T12:28:31.526191Z"
    }
   },
   "outputs": [],
   "source": [
    "df = pd.read_csv('HUMAN_public_social_media.csv')\n",
    "df.set_index('uniqueid', inplace=True)\n",
    "df = df.replace('[]', np.nan)"
   ]
  },
  {
   "cell_type": "markdown",
   "metadata": {},
   "source": [
    "## Definitions"
   ]
  },
  {
   "cell_type": "markdown",
   "metadata": {},
   "source": [
    "### Util"
   ]
  },
  {
   "cell_type": "markdown",
   "metadata": {
    "heading_collapsed": true
   },
   "source": [
    "#### Pagination"
   ]
  },
  {
   "cell_type": "code",
   "execution_count": 4,
   "metadata": {
    "ExecuteTime": {
     "end_time": "2019-09-26T12:28:31.557310Z",
     "start_time": "2019-09-26T12:28:31.551341Z"
    },
    "hidden": true
   },
   "outputs": [],
   "source": [
    "def paginate_df(df, nb_items = 10):\n",
    "    def show_df(df, page):\n",
    "        display(df.head(page*nb_items).tail(nb_items))\n",
    "        \n",
    "    def show_next(change):\n",
    "        pagination_slider.value += change\n",
    "        \n",
    "    def get_pagination_buttons():\n",
    "        next_button = widgets.Button(layout=widgets.Layout(width='30px'), icon='chevron-right')\n",
    "        next_button.on_click(lambda _: show_next(1))\n",
    "        prev_button = widgets.Button(layout=widgets.Layout(width='30px'), icon='chevron-left')\n",
    "        prev_button.on_click(lambda _: show_next(-1))\n",
    "        return [prev_button, next_button]\n",
    "    \n",
    "    nb_rows = widgets.Label(value = '{} rows'.format(len(df)))\n",
    "    \n",
    "    if len(df) > nb_items:\n",
    "        nb_pages = int(np.ceil(len(df)/nb_items))\n",
    "        pagination_slider = widgets.IntSlider(value=1, min = 1, max = nb_pages, layout=Layout(width='60%'))\n",
    "        pagination_slider_label = widgets.Label(value = 'of {} pages with '.format(nb_pages))\n",
    "\n",
    "        pagination_controls = widgets.HBox([pagination_slider, pagination_slider_label, nb_rows, *get_pagination_buttons()])\n",
    "        paginated_table = interactive_output(show_df, dict(df=fixed(df), page = pagination_slider))\n",
    "        display(pagination_controls, paginated_table)\n",
    "    else:\n",
    "        display(nb_rows, df)"
   ]
  },
  {
   "cell_type": "markdown",
   "metadata": {
    "heading_collapsed": true
   },
   "source": [
    "#### Plotting Columns"
   ]
  },
  {
   "cell_type": "code",
   "execution_count": 5,
   "metadata": {
    "ExecuteTime": {
     "end_time": "2019-09-26T12:28:31.565897Z",
     "start_time": "2019-09-26T12:28:31.558475Z"
    },
    "hidden": true
   },
   "outputs": [],
   "source": [
    "def plot_column_dist(df: pd.DataFrame, column:str, nb_to_plot = 10):\n",
    "    def is_text(vals):\n",
    "        if type(vals.dropna().values[0]) != str:\n",
    "            return False\n",
    "        \n",
    "        mean_nb_tokens = vals.dropna().str.split(' ').apply(len).mean()\n",
    "        return mean_nb_tokens > 3\n",
    "    \n",
    "    def is_numeric(vals):\n",
    "        return all(vals.apply(type).unique() == float) and len(vals.unique()) > nb_to_plot and not any(vals.isna())\n",
    "    \n",
    "    vals = df[column]\n",
    "    if len(vals.dropna()) == 0:\n",
    "        plt.title('No values to plot'), plt.show()\n",
    "        return\n",
    "    \n",
    "    if is_numeric(vals):\n",
    "        sns.distplot(vals)\n",
    "    else:\n",
    "        if type(vals.dropna().values[0]) in (list, tuple, set) or is_text(vals):\n",
    "            if is_text(vals):\n",
    "                vals = vals.str.split(' ')\n",
    "                vals.name = 'tokens'\n",
    "            concat_series = pd.Series(np.concatenate(vals.dropna().values))\n",
    "            counts = pd.DataFrame(concat_series.value_counts())\n",
    "        else:\n",
    "            counts = pd.DataFrame(vals.value_counts())\n",
    "        counts.head(nb_to_plot).plot(kind='bar', label = vals.name)\n",
    "    plt.tight_layout(), plt.grid(), plt.title(str(nb_to_plot) + ' most frequent ' + vals.name), plt.show()"
   ]
  },
  {
   "cell_type": "markdown",
   "metadata": {
    "heading_collapsed": true
   },
   "source": [
    "#### Filtering DataFrames"
   ]
  },
  {
   "cell_type": "code",
   "execution_count": 6,
   "metadata": {
    "ExecuteTime": {
     "end_time": "2019-09-26T12:28:31.573339Z",
     "start_time": "2019-09-26T12:28:31.567129Z"
    },
    "hidden": true
   },
   "outputs": [],
   "source": [
    "def filter_df(df, order_by = 'uniqueid', ascending = True, required = [], search_column=None, search_term=''):\n",
    "    df = df.sort_values(order_by, ascending=ascending)\n",
    "    \n",
    "    if len(required) > 0:\n",
    "        df = df.dropna(subset=required)\n",
    "    \n",
    "    if search_term not in (None, '') and search_column in df.keys():\n",
    "        df = df[df[search_column].astype(str).str.lower().str.contains(search_term.lower())]\n",
    "    \n",
    "    return df\n",
    "    \n",
    "def show_filtered_df(df, order_by = 'uniqueid', ascending = True, nb_items = 10, required = [], search_column=None, search_term=''):\n",
    "    df = filter_df(df, order_by=order_by, ascending=ascending, required=required, search_column=search_column, search_term=search_term)\n",
    "    paginate_df(df, nb_items=nb_items)"
   ]
  },
  {
   "cell_type": "markdown",
   "metadata": {
    "heading_collapsed": true
   },
   "source": [
    "#### Time Sliders"
   ]
  },
  {
   "cell_type": "code",
   "execution_count": 7,
   "metadata": {
    "ExecuteTime": {
     "end_time": "2019-09-26T12:28:31.579933Z",
     "start_time": "2019-09-26T12:28:31.574388Z"
    },
    "hidden": true
   },
   "outputs": [],
   "source": [
    "def get_time_slider(df, timestamp_column = '_timestamp'):\n",
    "    def get_date_range():\n",
    "        timestamps = pd.to_datetime(df[timestamp_column]).apply(pd.Timestamp.date)\n",
    "        vmin, vmax = timestamps.min(), timestamps.max()\n",
    "        return pd.Series(pd.date_range(vmin, vmax)).apply(pd.Timestamp.date)\n",
    "\n",
    "    date_range = get_date_range()\n",
    "    return widgets.SelectionRangeSlider(options = date_range.values, description = 'Date Range', continuous_update=False,\n",
    "                                        index = (0, len(date_range)-1), values=(0, len(date_range)),\n",
    "                                       layout = Layout(width = '500px'))"
   ]
  },
  {
   "cell_type": "markdown",
   "metadata": {
    "heading_collapsed": true
   },
   "source": [
    "### Table App"
   ]
  },
  {
   "cell_type": "code",
   "execution_count": 8,
   "metadata": {
    "ExecuteTime": {
     "end_time": "2019-09-26T12:28:31.593433Z",
     "start_time": "2019-09-26T12:28:31.581787Z"
    },
    "hidden": true,
    "scrolled": false
   },
   "outputs": [],
   "source": [
    "def table_app(df):\n",
    "    def save_filtered_data(_):\n",
    "        filtered_df = filter_df(df, order_by=order_by.value, ascending=ascending.value, required=filter_selector.value, \n",
    "                                search_column=search_column.value, search_term=search_term.value)\n",
    "        filtered_df.to_csv(save_fn.value)\n",
    "        save_status.value = '\\t  sucessfully saved {} rows as {}.'.format(len(filtered_df), save_fn.value)\n",
    "            \n",
    "    def plot_filtered(df, required, search_column, search_term, plot_column):\n",
    "        filtered_df = filter_df(df, required = required, search_column=search_column, search_term=search_term)\n",
    "        plot_column_dist(df=filtered_df, column = plot_column)\n",
    "        \n",
    "    nb_items = widgets.Dropdown(options = [10, 20, 50], description = 'items per page', \n",
    "                                layout = Layout(width = '20%'))\n",
    "    order_by = widgets.Dropdown(options = sorted(df.keys()), description='order by')\n",
    "    ascending = widgets.ToggleButton(value=True, description = 'ascending')\n",
    "    sorting = widgets.HBox([order_by, ascending, nb_items], layout=Layout(height = '50px'))\n",
    "\n",
    "    filter_selector = widgets.SelectMultiple(options = sorted(df.keys()))\n",
    "    \n",
    "    filter_tip = widgets.VBox([widgets.HTML('Select multiple by dragging or ctrl + click'),\n",
    "                               widgets.HTML('Deselect with ctrl + click')])\n",
    "    filtering = widgets.HBox([filter_selector, filter_tip])\n",
    "\n",
    "    save_button = widgets.Button(description='save')\n",
    "    save_fn = widgets.Text('filtered_data.csv')\n",
    "    save_button.on_click(save_filtered_data)\n",
    "    save_status = widgets.Label()\n",
    "    saving = widgets.HBox([save_fn, save_button, save_status])\n",
    "    \n",
    "    search_term = widgets.Text('', tooltip = 'Search')\n",
    "    search_column = widgets.Dropdown(options = df.keys())\n",
    "    plot_column = widgets.Dropdown(options = df.keys())\n",
    "    \n",
    "    column_dist = interactive_output(plot_filtered, dict(df=fixed(df), search_column = search_column, required = filter_selector, \n",
    "                                                         search_term=search_term, plot_column = plot_column))\n",
    "    column_plot_box = widgets.VBox([widgets.Label('Plot Columns'), plot_column, column_dist])\n",
    "    search_box = widgets.VBox([widgets.Label('Search Columns'), search_column, search_term])\n",
    "    searching = widgets.TwoByTwoLayout(top_left = search_box, top_right = column_plot_box)\n",
    "    widgets.dlink((search_column, 'value'), (plot_column, 'value'))\n",
    "\n",
    "    accordion = widgets.Tab(children=[sorting, filtering, searching, saving])\n",
    "    accordion.set_title(0, 'Sorting')\n",
    "    accordion.set_title(1, 'Required Values')\n",
    "    accordion.set_title(2, 'Searching')\n",
    "    accordion.set_title(3, 'Save filtered Data')\n",
    "\n",
    "    interactive_table = interactive_output(show_filtered_df, \n",
    "                                           dict(df=fixed(df), order_by = order_by, nb_items = nb_items, required = filter_selector, \n",
    "                                                ascending=ascending, search_column=search_column, search_term=search_term))\n",
    "    display(widgets.VBox([accordion, interactive_table]))"
   ]
  },
  {
   "cell_type": "markdown",
   "metadata": {},
   "source": [
    "### GeoVis Shapes"
   ]
  },
  {
   "cell_type": "code",
   "execution_count": 9,
   "metadata": {
    "ExecuteTime": {
     "end_time": "2019-09-26T12:28:31.620063Z",
     "start_time": "2019-09-26T12:28:31.594878Z"
    }
   },
   "outputs": [],
   "source": [
    "def get_nuts_shapes(shp_folder = 'nuts_data', simplify = False, tol = 1e-3):\n",
    "    def get_fns(directory, condition = lambda x: True):\n",
    "        return list(filter(condition, [directory + '/' + fn for fn in os.listdir(directory)]))\n",
    "\n",
    "    folders = get_fns(shp_folder ,os.path.isdir)\n",
    "    files = np.hstack([get_fns(folder, lambda f: f.endswith('.shp')) for folder in folders])\n",
    "    geo_df = pd.concat(list(map(gpd.read_file, files)))\n",
    "    if simplify:\n",
    "        geo_df.geometry = geo_df.geometry.simplify(tol)\n",
    "    return geo_df\n",
    "\n",
    "def get_shapes_heatmap(data, nuts_ids_column, color_column, m, logarithmic:bool = False, cmap='viridis',\n",
    "                       title_columns = ['NUTS_NAME', 'num_persons']):\n",
    "    def get_layer(shapes: gpd.GeoDataFrame, color):\n",
    "        def get_event_handler(location, text):\n",
    "            def layer_event_handler(event, **kwargs):\n",
    "                if event == 'click':\n",
    "                    m.add_layer(ipyleaflet.Popup(location = location, child = widgets.HTML(text)))\n",
    "            return layer_event_handler\n",
    "        \n",
    "        style={'color': color, 'fillColor': color, 'opacity':0.5, 'weight':1.9, 'dashArray':'2', 'fillOpacity':0.2}\n",
    "        hover_style={'fillColor': 'blue' , 'fillOpacity': 0.2}\n",
    "        layer = ipyleaflet.GeoData(geo_dataframe = shapes, style=style, hover_style = hover_style)\n",
    "        text = nuts_ids_column + '<br>' + '<br>'.join([str(shapes[k].values[0]) for k in title_columns])\n",
    "        location = np.mean([shapes.geometry.centroid.y.values, shapes.geometry.centroid.x.values], 1)\n",
    "        layer.on_click(get_event_handler(list(location), text))\n",
    "        return layer\n",
    "\n",
    "    def get_layer_group(shapes: gpd.GeoDataFrame, colors, group_name = '', sorting_column = 'LEVL_CODE'):\n",
    "        if sorting_column in shapes:\n",
    "            shapes = shapes.sort_values(sorting_column)\n",
    "        layers = [get_layer(shapes.iloc[[i]], color=color) for i, color in enumerate(colors)]\n",
    "        return ipyleaflet.LayerGroup(layers=(layers), name=group_name)\n",
    "\n",
    "    def get_colors(values:pd.Series, logarithmic:bool = False, cmap = 'viridis'):\n",
    "        values = values + 1e-5\n",
    "        norm_class = matplotlib.colors.LogNorm if logarithmic else matplotlib.colors.Normalize\n",
    "        norm = norm_class(vmin=values.min(), vmax=values.max())\n",
    "        cm = matplotlib.cm.get_cmap(cmap)\n",
    "        return values.apply(norm).apply(cm).apply(matplotlib.colors.to_hex)\n",
    "\n",
    "    colors = get_colors(data[color_column], logarithmic=logarithmic, cmap=cmap)\n",
    "    return get_layer_group(gpd.GeoDataFrame(data), colors=colors, group_name=nuts_ids_column)\n",
    "    \n",
    "\n",
    "def merge_df(data, nuts_shapes, nuts_ids_column, color_column, level = 'all'):\n",
    "    def aggregate_all(df, levels=[0,1,2,3], **kwargs):\n",
    "        return pd.concat([aggregate_nuts_level(df, level=level, **kwargs) for level in levels])\n",
    "    \n",
    "    def aggregate_nuts_level(df, level, nuts_ids_column = 'NUTS_ID', aggregatable_columns = ['num_persons'], aggregation = np.sum):\n",
    "        df = df.copy()\n",
    "        df[nuts_ids_column] = df[nuts_ids_column].str.slice(0, level+2)\n",
    "        agg_df = aggregation(df.groupby(nuts_ids_column)[aggregatable_columns]).reset_index()\n",
    "        return agg_df[agg_df[nuts_ids_column].apply(len) == level+2]\n",
    "    \n",
    "    agg_data = data.groupby(nuts_ids_column).sum().reset_index()\n",
    "    if level != 'all':\n",
    "        agg_data = aggregate_nuts_level(agg_data, level=level, aggregatable_columns=[color_column], nuts_ids_column=nuts_ids_column)\n",
    "    else:\n",
    "        agg_data = aggregate_all(agg_data, aggregatable_columns=[color_column], nuts_ids_column=nuts_ids_column)\n",
    "    \n",
    "    merged_df = pd.merge(agg_data, nuts_shapes, left_on = nuts_ids_column, right_on = 'NUTS_ID')\n",
    "    return merged_df.dropna(subset = ['NUTS_ID', color_column])\n",
    "    \n",
    "\n",
    "def plot_cbar(name, vmin = 0, vmax=1, logarithmic = False, n = 100):\n",
    "    fig, ax = plt.subplots(figsize = (.3,14))\n",
    "    norm = matplotlib.colors.LogNorm(vmin, vmax) if logarithmic else matplotlib.colors.Normalize(vmin, vmax)\n",
    "    cbar = matplotlib.colorbar.ColorbarBase(ax, cmap=plt.get_cmap(name), norm=norm, orientation='vertical')\n",
    "    return cbar\n",
    "    \n",
    "def plot_geo_data_shapes(data, nuts_shapes, date_range, nuts_ids_columns = ['origin', 'destination'], color_column = 'num_persons',\n",
    "                 logarithmic = False, cmap='viridis', levels = [], timestamp_column = '_timestamp', level='all'):\n",
    "    def get_geo_data(data, nuts_ids_column, m):\n",
    "        merged_df = merge_df(data=data, nuts_shapes = nuts_shapes, nuts_ids_column=nuts_ids_column, color_column=color_column,\n",
    "                            level=level)\n",
    "        return get_shapes_heatmap(merged_df, nuts_ids_column=nuts_ids_column, color_column=color_column,\n",
    "                                  logarithmic=logarithmic, cmap=cmap, m=m)\n",
    "    \n",
    "    def date_filter(data, date_range):\n",
    "        dates = pd.to_datetime(data[timestamp_column]).apply(pd.Timestamp.date)\n",
    "        return data[(date_range[0] <= dates) & (dates <= date_range[1])]\n",
    "    \n",
    "    data = date_filter(data, date_range)\n",
    "    m = ipyleaflet.Map(center=(51, 10), zoom=4)\n",
    "    m.layout.height = '800px'\n",
    "    for nuts_ids_column in nuts_ids_columns:\n",
    "        layer = get_geo_data(data, nuts_ids_column, m)\n",
    "        m.add_layer(layer)\n",
    "    m.add_control(ipyleaflet.LayersControl())\n",
    "    m.add_control(ipyleaflet.FullScreenControl())\n",
    "    display(m)"
   ]
  },
  {
   "cell_type": "code",
   "execution_count": 10,
   "metadata": {
    "ExecuteTime": {
     "end_time": "2019-09-26T12:28:31.626841Z",
     "start_time": "2019-09-26T12:28:31.621176Z"
    }
   },
   "outputs": [],
   "source": [
    "def geo_vis_shapes_app(data):\n",
    "    def get_cbar(name, logarithmic):\n",
    "        color_vals = []\n",
    "        for nuts_ids_column in nuts_ids_columns:\n",
    "            color_vals.append(merge_df(data, nuts_shapes, 'origin', color_column)[color_column])\n",
    "        vmin, vmax = max(np.min(color_vals), 1), np.max(color_vals)\n",
    "        plot_cbar(name, vmin, vmax, logarithmic=logarithmic)\n",
    "        \n",
    "    nuts_ids_columns = ['origin', 'destination']\n",
    "    color_column = 'num_persons'\n",
    "    nuts_shapes = get_nuts_shapes(simplify=True, tol = 1e-3)\n",
    "    avail_levels = sorted(nuts_shapes['LEVL_CODE'].unique())\n",
    "\n",
    "    level = widgets.Dropdown(options = ['all', *avail_levels], description = 'NUTS levels')\n",
    "    cmap = widgets.Dropdown(options = ['viridis', 'inferno', 'magma', 'winter', 'cool'], description = 'colormap')\n",
    "    logarithmic = widgets.Checkbox(description='logarithmic')\n",
    "    time_slider = get_time_slider(data)\n",
    "    controls = widgets.VBox([widgets.HBox([level, cmap, logarithmic]), time_slider])\n",
    "    cbar = interactive_output(get_cbar, dict(name=cmap, logarithmic=logarithmic))\n",
    "    \n",
    "    geo_vis = interactive_output(plot_geo_data_shapes, dict(nuts_shapes = fixed(nuts_shapes), data = fixed(data), logarithmic=logarithmic, \n",
    "                                                            cmap=cmap, nuts_ids_columns=fixed(nuts_ids_columns), level=level, date_range=time_slider))\n",
    "    \n",
    "    geo_vis.layout.width = '90%'\n",
    "    geo_vis_box = widgets.HBox([geo_vis, cbar])\n",
    "    display(controls, geo_vis_box)"
   ]
  },
  {
   "cell_type": "markdown",
   "metadata": {
    "heading_collapsed": true
   },
   "source": [
    "### GeoVis Cluster"
   ]
  },
  {
   "cell_type": "code",
   "execution_count": 11,
   "metadata": {
    "ExecuteTime": {
     "end_time": "2019-09-26T12:28:31.634139Z",
     "start_time": "2019-09-26T12:28:31.627728Z"
    },
    "hidden": true
   },
   "outputs": [],
   "source": [
    "def get_marker_cluster(data, geom_column, title_columns = ['text_translated', '_timestamp']):\n",
    "    def wkb_hex_to_point(s):\n",
    "        return list(shapely.wkb.loads(s, hex=True).coords)[0][::-1]\n",
    "    \n",
    "    def get_title(d):\n",
    "        return '\\n'.join([str(d[c]) for c in title_columns if d[c] not in (np.nan, None)])\n",
    "    \n",
    "    data = data.dropna(subset=[geom_column])\n",
    "    locs = data[geom_column].apply(wkb_hex_to_point)\n",
    "    dicts = data.to_dict(orient='rows')\n",
    "    \n",
    "    markers = [ipyleaflet.Marker(location = loc, title=get_title(d), draggable=False) for loc, d in zip(locs, dicts)]\n",
    "    return ipyleaflet.MarkerCluster(markers = markers)\n",
    "\n",
    "\n",
    "def plot_geo_data_cluster(data, geom_column, timestamp_column, date_range, title_columns):\n",
    "    def date_filter(data, date_range):\n",
    "        dates = pd.to_datetime(data[timestamp_column]).apply(pd.Timestamp.date)\n",
    "        return data[(date_range[0] <= dates) & (dates <= date_range[1])]\n",
    "    \n",
    "    data = date_filter(data, date_range)\n",
    "    m = ipyleaflet.Map(center=(51, 10), zoom=4)\n",
    "    m.layout.height = '800px'\n",
    "    m.add_layer(get_marker_cluster(data, geom_column, title_columns=title_columns))\n",
    "    m.add_control(ipyleaflet.FullScreenControl())\n",
    "    display(m)"
   ]
  },
  {
   "cell_type": "code",
   "execution_count": 12,
   "metadata": {
    "ExecuteTime": {
     "end_time": "2019-09-26T12:28:31.640903Z",
     "start_time": "2019-09-26T12:28:31.635170Z"
    },
    "hidden": true
   },
   "outputs": [],
   "source": [
    "def geo_vis_cluster_app(data, timestamp_column = '_timestamp', geom_column = 'geom_tweet'):\n",
    "    time_slider = get_time_slider(data)\n",
    "    title_columns = widgets.SelectMultiple(options = sorted(data.columns), description = 'Information to show',\n",
    "                                         value = ['text_translated', '_timestamp'])\n",
    "    title_columns_tip = widgets.HTML('Select multiple by dragging or ctrl + click <br> Deselect with ctrl + click')\n",
    "    title_columns_controls = widgets.HBox([title_columns, title_columns_tip])\n",
    "    \n",
    "    geo_vis = interactive_output(plot_geo_data_cluster, dict(data = fixed(data), date_range=time_slider, geom_column = fixed(geom_column),\n",
    "                                                    timestamp_column=fixed(timestamp_column), title_columns=title_columns))\n",
    "    \n",
    "    geo_vis.layout.width = '90%'\n",
    "    controls = widgets.Tab([time_slider, title_columns_controls])\n",
    "    controls.set_title(0, 'Date Range')\n",
    "    controls.set_title(1, 'Information to Show')\n",
    "    display(controls, geo_vis)"
   ]
  },
  {
   "cell_type": "markdown",
   "metadata": {
    "heading_collapsed": true
   },
   "source": [
    "## Table App"
   ]
  },
  {
   "cell_type": "markdown",
   "metadata": {
    "hidden": true
   },
   "source": [
    "App for exploring raw data."
   ]
  },
  {
   "cell_type": "code",
   "execution_count": 13,
   "metadata": {
    "ExecuteTime": {
     "end_time": "2019-09-26T12:28:32.055942Z",
     "start_time": "2019-09-26T12:28:31.641974Z"
    },
    "hidden": true,
    "scrolled": false
   },
   "outputs": [
    {
     "data": {
      "application/vnd.jupyter.widget-view+json": {
       "model_id": "4c772826f6964b5c8b259e0427579627",
       "version_major": 2,
       "version_minor": 0
      },
      "text/plain": [
       "VBox(children=(Tab(children=(HBox(children=(Dropdown(description='order by', options=('_timestamp', 'confidenc…"
      ]
     },
     "metadata": {},
     "output_type": "display_data"
    }
   ],
   "source": [
    "table_app(df)"
   ]
  },
  {
   "cell_type": "markdown",
   "metadata": {},
   "source": [
    "## GeoVis App Shapes"
   ]
  },
  {
   "cell_type": "markdown",
   "metadata": {},
   "source": [
    "Origin and Destination in two layers."
   ]
  },
  {
   "cell_type": "code",
   "execution_count": 14,
   "metadata": {
    "ExecuteTime": {
     "end_time": "2019-09-26T12:28:48.054524Z",
     "start_time": "2019-09-26T12:28:32.057104Z"
    },
    "scrolled": false
   },
   "outputs": [
    {
     "data": {
      "application/vnd.jupyter.widget-view+json": {
       "model_id": "00f656a5cd7c441e9854cf85dfe4a9cf",
       "version_major": 2,
       "version_minor": 0
      },
      "text/plain": [
       "VBox(children=(HBox(children=(Dropdown(description='NUTS levels', options=('all', 0, 1, 2, 3), value='all'), D…"
      ]
     },
     "metadata": {},
     "output_type": "display_data"
    },
    {
     "data": {
      "application/vnd.jupyter.widget-view+json": {
       "model_id": "0022326f5a0649fe9de98ac3d287a9de",
       "version_major": 2,
       "version_minor": 0
      },
      "text/plain": [
       "HBox(children=(Output(layout=Layout(width='90%')), Output()))"
      ]
     },
     "metadata": {},
     "output_type": "display_data"
    }
   ],
   "source": [
    "geo_vis_shapes_app(df)"
   ]
  },
  {
   "cell_type": "code",
   "execution_count": 15,
   "metadata": {
    "ExecuteTime": {
     "end_time": "2019-09-26T12:28:48.978323Z",
     "start_time": "2019-09-26T12:28:48.055614Z"
    }
   },
   "outputs": [],
   "source": [
    "nuts_shapes = get_nuts_shapes()"
   ]
  },
  {
   "cell_type": "code",
   "execution_count": 16,
   "metadata": {
    "ExecuteTime": {
     "end_time": "2019-09-26T12:28:49.010637Z",
     "start_time": "2019-09-26T12:28:48.979941Z"
    }
   },
   "outputs": [],
   "source": [
    "nuts_shapes['area'] = nuts_shapes.area"
   ]
  },
  {
   "cell_type": "code",
   "execution_count": 17,
   "metadata": {
    "ExecuteTime": {
     "end_time": "2019-09-26T12:28:49.059385Z",
     "start_time": "2019-09-26T12:28:49.012230Z"
    }
   },
   "outputs": [
    {
     "data": {
      "text/html": [
       "<div>\n",
       "<style scoped>\n",
       "    .dataframe tbody tr th:only-of-type {\n",
       "        vertical-align: middle;\n",
       "    }\n",
       "\n",
       "    .dataframe tbody tr th {\n",
       "        vertical-align: top;\n",
       "    }\n",
       "\n",
       "    .dataframe thead th {\n",
       "        text-align: right;\n",
       "    }\n",
       "</style>\n",
       "<table border=\"1\" class=\"dataframe\">\n",
       "  <thead>\n",
       "    <tr style=\"text-align: right;\">\n",
       "      <th></th>\n",
       "      <th>index</th>\n",
       "      <th>NUTS_ID</th>\n",
       "      <th>area</th>\n",
       "    </tr>\n",
       "  </thead>\n",
       "  <tbody>\n",
       "    <tr>\n",
       "      <td>0</td>\n",
       "      <td>1</td>\n",
       "      <td>AL0</td>\n",
       "      <td>9.266993</td>\n",
       "    </tr>\n",
       "    <tr>\n",
       "      <td>1</td>\n",
       "      <td>3</td>\n",
       "      <td>AT1</td>\n",
       "      <td>8.548794</td>\n",
       "    </tr>\n",
       "    <tr>\n",
       "      <td>2</td>\n",
       "      <td>4</td>\n",
       "      <td>AT2</td>\n",
       "      <td>9.225175</td>\n",
       "    </tr>\n",
       "    <tr>\n",
       "      <td>3</td>\n",
       "      <td>5</td>\n",
       "      <td>AT3</td>\n",
       "      <td>12.340613</td>\n",
       "    </tr>\n",
       "    <tr>\n",
       "      <td>4</td>\n",
       "      <td>7</td>\n",
       "      <td>BE1</td>\n",
       "      <td>0.062183</td>\n",
       "    </tr>\n",
       "    <tr>\n",
       "      <td>...</td>\n",
       "      <td>...</td>\n",
       "      <td>...</td>\n",
       "      <td>...</td>\n",
       "    </tr>\n",
       "    <tr>\n",
       "      <td>120</td>\n",
       "      <td>157</td>\n",
       "      <td>UKJ</td>\n",
       "      <td>7.384141</td>\n",
       "    </tr>\n",
       "    <tr>\n",
       "      <td>121</td>\n",
       "      <td>158</td>\n",
       "      <td>UKK</td>\n",
       "      <td>9.184823</td>\n",
       "    </tr>\n",
       "    <tr>\n",
       "      <td>122</td>\n",
       "      <td>159</td>\n",
       "      <td>UKL</td>\n",
       "      <td>8.235921</td>\n",
       "    </tr>\n",
       "    <tr>\n",
       "      <td>123</td>\n",
       "      <td>160</td>\n",
       "      <td>UKM</td>\n",
       "      <td>34.856397</td>\n",
       "    </tr>\n",
       "    <tr>\n",
       "      <td>124</td>\n",
       "      <td>161</td>\n",
       "      <td>UKN</td>\n",
       "      <td>5.905051</td>\n",
       "    </tr>\n",
       "  </tbody>\n",
       "</table>\n",
       "<p>125 rows × 3 columns</p>\n",
       "</div>"
      ],
      "text/plain": [
       "     index NUTS_ID       area\n",
       "0    1      AL0     9.266993 \n",
       "1    3      AT1     8.548794 \n",
       "2    4      AT2     9.225175 \n",
       "3    5      AT3     12.340613\n",
       "4    7      BE1     0.062183 \n",
       "..  ..      ...          ... \n",
       "120  157    UKJ     7.384141 \n",
       "121  158    UKK     9.184823 \n",
       "122  159    UKL     8.235921 \n",
       "123  160    UKM     34.856397\n",
       "124  161    UKN     5.905051 \n",
       "\n",
       "[125 rows x 3 columns]"
      ]
     },
     "execution_count": 17,
     "metadata": {},
     "output_type": "execute_result"
    }
   ],
   "source": [
    "def aggregate_nuts_level(df, level, nuts_id_column = 'NUTS_ID', aggregatable_columns = ['area'], aggregation = np.sum):\n",
    "    df[nuts_id_column] = df[nuts_id_column].str.slice(0, level+2)\n",
    "    agg_df = aggregation(df.groupby(nuts_id_column)[aggregatable_columns]).reset_index()\n",
    "    return agg_df[agg_df[nuts_id_column].apply(len) == level+2]\n",
    "\n",
    "aggregate_nuts_level(nuts_shapes.copy(), 1).reset_index()"
   ]
  },
  {
   "cell_type": "markdown",
   "metadata": {},
   "source": [
    "## GeoVis App Clusters"
   ]
  },
  {
   "cell_type": "markdown",
   "metadata": {},
   "source": [
    "Clustered single tweets, tooltips show information about tweet (customizable below)."
   ]
  },
  {
   "cell_type": "code",
   "execution_count": 18,
   "metadata": {
    "ExecuteTime": {
     "end_time": "2019-09-26T12:28:52.453755Z",
     "start_time": "2019-09-26T12:28:49.060738Z"
    }
   },
   "outputs": [
    {
     "data": {
      "application/vnd.jupyter.widget-view+json": {
       "model_id": "fed9a8add74c41aca21b4c49ef037d8e",
       "version_major": 2,
       "version_minor": 0
      },
      "text/plain": [
       "Tab(children=(SelectionRangeSlider(continuous_update=False, description='Date Range', index=(0, 244), layout=L…"
      ]
     },
     "metadata": {},
     "output_type": "display_data"
    },
    {
     "data": {
      "application/vnd.jupyter.widget-view+json": {
       "model_id": "48ada4a12c744572b6ed9cecb6095092",
       "version_major": 2,
       "version_minor": 0
      },
      "text/plain": [
       "Output(layout=Layout(width='90%'))"
      ]
     },
     "metadata": {},
     "output_type": "display_data"
    }
   ],
   "source": [
    "geo_vis_cluster_app(df)"
   ]
  }
 ],
 "metadata": {
  "kernelspec": {
   "display_name": "Python (data-explorer)",
   "language": "python",
   "name": "data-explorer"
  },
  "language_info": {
   "codemirror_mode": {
    "name": "ipython",
    "version": 3
   },
   "file_extension": ".py",
   "mimetype": "text/x-python",
   "name": "python",
   "nbconvert_exporter": "python",
   "pygments_lexer": "ipython3",
   "version": "3.7.3"
  },
  "toc": {
   "base_numbering": 1,
   "nav_menu": {},
   "number_sections": true,
   "sideBar": true,
   "skip_h1_title": false,
   "title_cell": "Table of Contents",
   "title_sidebar": "Contents",
   "toc_cell": false,
   "toc_position": {
    "height": "calc(100% - 180px)",
    "left": "10px",
    "top": "150px",
    "width": "291.594px"
   },
   "toc_section_display": true,
   "toc_window_display": false
  },
  "varInspector": {
   "cols": {
    "lenName": 16,
    "lenType": 16,
    "lenVar": 40
   },
   "kernels_config": {
    "python": {
     "delete_cmd_postfix": "",
     "delete_cmd_prefix": "del ",
     "library": "var_list.py",
     "varRefreshCmd": "print(var_dic_list())"
    },
    "r": {
     "delete_cmd_postfix": ") ",
     "delete_cmd_prefix": "rm(",
     "library": "var_list.r",
     "varRefreshCmd": "cat(var_dic_list()) "
    }
   },
   "types_to_exclude": [
    "module",
    "function",
    "builtin_function_or_method",
    "instance",
    "_Feature"
   ],
   "window_display": false
  }
 },
 "nbformat": 4,
 "nbformat_minor": 2
}

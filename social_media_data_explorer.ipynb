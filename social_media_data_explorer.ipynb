{
 "cells": [
  {
   "cell_type": "markdown",
   "metadata": {},
   "source": [
    "# Social Media Data Explorer\n",
    "\n",
    "We can create an app that allows us to easily explore social media data."
   ]
  },
  {
   "cell_type": "markdown",
   "metadata": {},
   "source": [
    "## Prerequisites"
   ]
  },
  {
   "cell_type": "markdown",
   "metadata": {},
   "source": [
    "### Imports"
   ]
  },
  {
   "cell_type": "code",
   "execution_count": 16,
   "metadata": {
    "ExecuteTime": {
     "end_time": "2019-09-24T15:21:30.949711Z",
     "start_time": "2019-09-24T15:21:30.943834Z"
    }
   },
   "outputs": [],
   "source": [
    "import pandas as pd\n",
    "import seaborn as sns\n",
    "import numpy as np\n",
    "import ipywidgets as widgets\n",
    "from ipywidgets import interact, interactive, fixed, interact_manual, Layout, interactive_output\n",
    "from sqlalchemy import create_engine\n",
    "from IPython.display import display, HTML\n",
    "from getpass import getpass\n",
    "from matplotlib import pyplot as plt"
   ]
  },
  {
   "cell_type": "markdown",
   "metadata": {},
   "source": [
    "### Styling"
   ]
  },
  {
   "cell_type": "code",
   "execution_count": 17,
   "metadata": {
    "ExecuteTime": {
     "end_time": "2019-09-24T15:21:30.961589Z",
     "start_time": "2019-09-24T15:21:30.952146Z"
    }
   },
   "outputs": [
    {
     "data": {
      "text/html": [
       "<style>.container { width:80% !important; }</style>"
      ],
      "text/plain": [
       "<IPython.core.display.HTML object>"
      ]
     },
     "metadata": {},
     "output_type": "display_data"
    }
   ],
   "source": [
    "display(HTML(\"<style>.container { width:80% !important; }</style>\"))\n",
    "pd.set_option('display.max_colwidth', -1)"
   ]
  },
  {
   "cell_type": "markdown",
   "metadata": {},
   "source": [
    "## Data"
   ]
  },
  {
   "cell_type": "code",
   "execution_count": 18,
   "metadata": {
    "ExecuteTime": {
     "end_time": "2019-09-24T15:21:30.987179Z",
     "start_time": "2019-09-24T15:21:30.963606Z"
    }
   },
   "outputs": [],
   "source": [
    "df = pd.read_csv('HUMAN_public_social_media.csv')\n",
    "df.set_index('uniqueid', inplace=True)"
   ]
  },
  {
   "cell_type": "markdown",
   "metadata": {},
   "source": [
    "## Definitions"
   ]
  },
  {
   "cell_type": "markdown",
   "metadata": {
    "heading_collapsed": true
   },
   "source": [
    "### Pagination"
   ]
  },
  {
   "cell_type": "code",
   "execution_count": 19,
   "metadata": {
    "ExecuteTime": {
     "end_time": "2019-09-24T15:21:30.998839Z",
     "start_time": "2019-09-24T15:21:30.989059Z"
    },
    "hidden": true
   },
   "outputs": [],
   "source": [
    "def paginate_df(df, nb_items = 10):\n",
    "    def show_df(df, page):\n",
    "        df = df.head(page*nb_items).tail(nb_items)\n",
    "        display(df)\n",
    "        \n",
    "    def show_next(change):\n",
    "        pagination_slider.value += change\n",
    "        \n",
    "    def get_pagination_buttons():\n",
    "        next_button = widgets.Button(layout=widgets.Layout(width='30px'), icon='chevron-right')\n",
    "        next_button.on_click(lambda _: show_next(1))\n",
    "        prev_button = widgets.Button(layout=widgets.Layout(width='30px'), icon='chevron-left')\n",
    "        prev_button.on_click(lambda _: show_next(-1))\n",
    "        return [prev_button, next_button]\n",
    "    \n",
    "    nb_rows = widgets.Label(value = '{} rows'.format(len(df)))\n",
    "    \n",
    "    if len(df) > nb_items:\n",
    "        nb_pages = int(np.ceil(len(df)/nb_items))\n",
    "        pagination_slider = widgets.IntSlider(value=1, min = 1, max = nb_pages, layout=Layout(width='60%'))\n",
    "        pagination_slider_label = widgets.Label(value = 'of {} pages with '.format(nb_pages))\n",
    "\n",
    "        pagination_controls = widgets.HBox([pagination_slider, pagination_slider_label, nb_rows, *get_pagination_buttons()])\n",
    "        paginated_table = interactive_output(show_df, dict(df=fixed(df), page = pagination_slider))\n",
    "        display(widgets.VBox([pagination_controls, paginated_table]))\n",
    "    else:\n",
    "        display(nb_rows, df)"
   ]
  },
  {
   "cell_type": "markdown",
   "metadata": {
    "heading_collapsed": true
   },
   "source": [
    "### Plotting Columns"
   ]
  },
  {
   "cell_type": "code",
   "execution_count": 20,
   "metadata": {
    "ExecuteTime": {
     "end_time": "2019-09-24T15:21:31.008123Z",
     "start_time": "2019-09-24T15:21:31.000668Z"
    },
    "hidden": true
   },
   "outputs": [],
   "source": [
    "def plot_column_dist(df: pd.DataFrame, column:str, nb_to_plot = 10):\n",
    "    def is_text(vals):\n",
    "        if type(vals.dropna().values[0]) != str:\n",
    "            return False\n",
    "        \n",
    "        mean_nb_tokens = vals.dropna().str.split(' ').apply(len).mean()\n",
    "        return mean_nb_tokens > 3\n",
    "    \n",
    "    def is_numeric(vals):\n",
    "        return all(vals.apply(type).unique() == float) and len(vals.unique()) > nb_to_plot and not any(vals.isna())\n",
    "    \n",
    "    vals = df[column]\n",
    "    if len(vals.dropna()) == 0:\n",
    "        plt.title('No values to plot'), plt.show()\n",
    "        return\n",
    "    \n",
    "    if is_numeric(vals):\n",
    "        sns.distplot(vals)\n",
    "    else:\n",
    "        if type(vals.dropna().values[0]) in (list, tuple, set) or is_text(vals):\n",
    "            if is_text(vals):\n",
    "                vals = vals.str.split(' ')\n",
    "                vals.name = 'tokens'\n",
    "            concat_series = pd.Series(np.concatenate(vals.dropna().values))\n",
    "            counts = pd.DataFrame(concat_series.value_counts())\n",
    "        else:\n",
    "            counts = pd.DataFrame(vals.value_counts())\n",
    "        counts.head(nb_to_plot).plot(kind='bar', label = vals.name)\n",
    "    plt.tight_layout(), plt.grid(), plt.title(str(nb_to_plot) + ' most frequent ' + vals.name), plt.show()"
   ]
  },
  {
   "cell_type": "markdown",
   "metadata": {},
   "source": [
    "### Filtering DataFrames"
   ]
  },
  {
   "cell_type": "code",
   "execution_count": 21,
   "metadata": {
    "ExecuteTime": {
     "end_time": "2019-09-24T15:21:31.015219Z",
     "start_time": "2019-09-24T15:21:31.009633Z"
    }
   },
   "outputs": [],
   "source": [
    "def filter_df(df, order_by = 'uniqueid', ascending = True, required = [], search_column=None, search_term=''):\n",
    "    df = df.sort_values(order_by, ascending=ascending)\n",
    "    \n",
    "    if len(required) > 0:\n",
    "        df = df.dropna(subset=required)\n",
    "    \n",
    "    if search_term not in (None, '') and search_column in df.keys():\n",
    "        df = df[df[search_column].astype(str).str.lower().str.contains(search_term.lower())]\n",
    "    \n",
    "    return df\n",
    "    \n",
    "def show_filtered_df(df, order_by = 'uniqueid', ascending = True, nb_items = 10, required = [], search_column=None, search_term=''):\n",
    "    df = filter_df(df, order_by=order_by, ascending=ascending, required=required, search_column=search_column, search_term=search_term)\n",
    "    paginate_df(df, nb_items=nb_items)"
   ]
  },
  {
   "cell_type": "markdown",
   "metadata": {},
   "source": [
    "### Table App"
   ]
  },
  {
   "cell_type": "code",
   "execution_count": 22,
   "metadata": {
    "ExecuteTime": {
     "end_time": "2019-09-24T15:21:31.391564Z",
     "start_time": "2019-09-24T15:21:31.016837Z"
    },
    "scrolled": false
   },
   "outputs": [],
   "source": [
    "def table_app(df):\n",
    "    def save_filtered_data(_):\n",
    "        filtered_df = filter_df(df, order_by=order_by.value, ascending=ascending.value, required=filter_selector.value, \n",
    "                                search_column=search_column.value, search_term=search_term.value)\n",
    "        filtered_df.to_csv(save_fn.value)\n",
    "        save_status.value = '\\t  sucessfully saved {} rows as {}.'.format(len(filtered_df), save_fn.value)\n",
    "            \n",
    "    def plot_filtered(df, required, search_column, search_term, plot_column):\n",
    "        filtered_df = filter_df(df, required = required, search_column=search_column, search_term=search_term)\n",
    "        plot_column_dist(df=filtered_df, column = plot_column)\n",
    "\n",
    "    nb_items = widgets.Dropdown(options = [10, 20, 50], description = 'items per page', \n",
    "                                layout = Layout(width = '20%'))\n",
    "    order_by = widgets.Dropdown(options = df.keys(), description='order by')\n",
    "    ascending = widgets.ToggleButton(value=True, description = 'ascending')\n",
    "    sorting = widgets.HBox([order_by, ascending, nb_items], layout=Layout(height = '50px'))\n",
    "\n",
    "    filter_selector = widgets.SelectMultiple(options = df.keys())\n",
    "    \n",
    "    filter_tip = widgets.VBox([widgets.HTML('Select multiple by dragging or ctrl + click'),\n",
    "                               widgets.HTML('Deselect with ctrl + click')])\n",
    "    filtering = widgets.HBox([filter_selector, filter_tip])\n",
    "\n",
    "    save_button = widgets.Button(description='save')\n",
    "    save_fn = widgets.Text('filtered_data.csv')\n",
    "    save_button.on_click(save_filtered_data)\n",
    "    save_status = widgets.Label()\n",
    "    saving = widgets.HBox([save_fn, save_button, save_status])\n",
    "    \n",
    "    search_term = widgets.Text('', tooltip = 'Search')\n",
    "    search_column = widgets.Dropdown(options = df.keys())\n",
    "    plot_column = widgets.Dropdown(options = df.keys())\n",
    "    \n",
    "    column_dist = interactive_output(plot_filtered, dict(df=fixed(df), search_column = search_column, required = filter_selector, \n",
    "                                                         search_term=search_term, plot_column = plot_column))\n",
    "    column_plot_box = widgets.VBox([widgets.Label('Plot Columns'), plot_column, column_dist])\n",
    "    search_box = widgets.VBox([widgets.Label('Search Columns'), search_column, search_term])\n",
    "    searching = widgets.TwoByTwoLayout(top_left = search_box, top_right = column_plot_box)\n",
    "    widgets.dlink((search_column, 'value'), (plot_column, 'value'))\n",
    "\n",
    "    accordion = widgets.Accordion(children=[sorting, filtering, searching, saving])\n",
    "    accordion.set_title(0, 'Sorting')\n",
    "    accordion.set_title(1, 'Required Values')\n",
    "    accordion.set_title(2, 'Searching')\n",
    "    accordion.set_title(3, 'Save filtered Data')\n",
    "\n",
    "    interactive_table = interactive_output(show_filtered_df, \n",
    "                                           dict(df=fixed(df), order_by = order_by, nb_items = nb_items, required = filter_selector, \n",
    "                                                ascending=ascending, search_column=search_column, search_term=search_term))\n",
    "    return widgets.VBox([accordion, interactive_table])\n",
    "\n",
    "table_app(df);"
   ]
  },
  {
   "cell_type": "markdown",
   "metadata": {},
   "source": [
    "## Table App"
   ]
  },
  {
   "cell_type": "code",
   "execution_count": 23,
   "metadata": {
    "ExecuteTime": {
     "end_time": "2019-09-24T15:21:31.732557Z",
     "start_time": "2019-09-24T15:21:31.393726Z"
    },
    "scrolled": false
   },
   "outputs": [
    {
     "data": {
      "application/vnd.jupyter.widget-view+json": {
       "model_id": "edf65b0cd76f48cd9179c4f7787ce306",
       "version_major": 2,
       "version_minor": 0
      },
      "text/plain": [
       "VBox(children=(Accordion(children=(HBox(children=(Dropdown(description='order by', options=('text', 'text_tran…"
      ]
     },
     "metadata": {},
     "output_type": "display_data"
    }
   ],
   "source": [
    "table_app(df)"
   ]
  }
 ],
 "metadata": {
  "kernelspec": {
   "display_name": "Python (h+tf2)",
   "language": "python",
   "name": "h_plus_tf2"
  },
  "language_info": {
   "codemirror_mode": {
    "name": "ipython",
    "version": 3
   },
   "file_extension": ".py",
   "mimetype": "text/x-python",
   "name": "python",
   "nbconvert_exporter": "python",
   "pygments_lexer": "ipython3",
   "version": "3.7.3"
  },
  "notify_time": "30",
  "toc": {
   "base_numbering": 1,
   "nav_menu": {},
   "number_sections": true,
   "sideBar": true,
   "skip_h1_title": false,
   "title_cell": "Table of Contents",
   "title_sidebar": "Contents",
   "toc_cell": false,
   "toc_position": {
    "height": "calc(100% - 180px)",
    "left": "10px",
    "top": "150px",
    "width": "291.594px"
   },
   "toc_section_display": true,
   "toc_window_display": false
  },
  "varInspector": {
   "cols": {
    "lenName": 16,
    "lenType": 16,
    "lenVar": 40
   },
   "kernels_config": {
    "python": {
     "delete_cmd_postfix": "",
     "delete_cmd_prefix": "del ",
     "library": "var_list.py",
     "varRefreshCmd": "print(var_dic_list())"
    },
    "r": {
     "delete_cmd_postfix": ") ",
     "delete_cmd_prefix": "rm(",
     "library": "var_list.r",
     "varRefreshCmd": "cat(var_dic_list()) "
    }
   },
   "types_to_exclude": [
    "module",
    "function",
    "builtin_function_or_method",
    "instance",
    "_Feature"
   ],
   "window_display": false
  },
  "widgets": {
   "application/vnd.jupyter.widget-state+json": {
    "state": {
     "002fe7ece66a48ccab4fae83a642e278": {
      "model_module": "@jupyter-widgets/base",
      "model_module_version": "1.2.0",
      "model_name": "LayoutModel",
      "state": {
       "_model_module_version": "1.2.0",
       "_view_module_version": "1.2.0",
       "justify_items": null,
       "object_fit": null,
       "object_position": null
      }
     },
     "014a7c70087e4fd2a0077f96b1d68fd8": {
      "model_module": "@jupyter-widgets/controls",
      "model_module_version": "1.5.0",
      "model_name": "HTMLModel",
      "state": {
       "_model_module_version": "1.5.0",
       "_view_module_version": "1.5.0",
       "layout": "IPY_MODEL_c6e977a5f8b946248a7ea9c81fcc11bc",
       "style": "IPY_MODEL_0c3eff0a62bb438f94243e03ebd0ea19",
       "value": "Select multiple by dragging or ctrl + click"
      }
     },
     "02161328114c4f1d95139cd8aef0dd92": {
      "model_module": "@jupyter-widgets/base",
      "model_module_version": "1.2.0",
      "model_name": "LayoutModel",
      "state": {
       "_model_module_version": "1.2.0",
       "_view_module_version": "1.2.0",
       "grid_area": "top-left",
       "justify_items": null,
       "object_fit": null,
       "object_position": null
      }
     },
     "03002cfac5674344bc66e7b94dc6cb79": {
      "model_module": "@jupyter-widgets/base",
      "model_module_version": "1.2.0",
      "model_name": "LayoutModel",
      "state": {
       "_model_module_version": "1.2.0",
       "_view_module_version": "1.2.0",
       "height": "50px",
       "justify_items": null,
       "object_fit": null,
       "object_position": null
      }
     },
     "032413b1c4a144a48018589e71708e29": {
      "model_module": "@jupyter-widgets/base",
      "model_module_version": "1.2.0",
      "model_name": "LayoutModel",
      "state": {
       "_model_module_version": "1.2.0",
       "_view_module_version": "1.2.0",
       "justify_items": null,
       "object_fit": null,
       "object_position": null,
       "width": "20%"
      }
     },
     "044b05bcfa9441e587c2a2a4922213b0": {
      "model_module": "@jupyter-widgets/base",
      "model_module_version": "1.2.0",
      "model_name": "LayoutModel",
      "state": {
       "_model_module_version": "1.2.0",
       "_view_module_version": "1.2.0",
       "justify_items": null,
       "object_fit": null,
       "object_position": null
      }
     },
     "04782cd6d821436aa12ce43db7bddb17": {
      "model_module": "@jupyter-widgets/controls",
      "model_module_version": "1.5.0",
      "model_name": "VBoxModel",
      "state": {
       "_model_module_version": "1.5.0",
       "_view_module_version": "1.5.0",
       "children": [
        "IPY_MODEL_7cc58f597e27404b98e2c01a49c0d861",
        "IPY_MODEL_b3578bf6cdb34211884073a5ed0290e3"
       ],
       "layout": "IPY_MODEL_1528ad55589441c186981a1291f8dec6"
      }
     },
     "06191cfe42474867a7c0599634318451": {
      "model_module": "@jupyter-widgets/controls",
      "model_module_version": "1.5.0",
      "model_name": "DescriptionStyleModel",
      "state": {
       "_model_module_version": "1.5.0",
       "_view_module_version": "1.2.0",
       "description_width": ""
      }
     },
     "06ca1b380cd04679898901884eb9495e": {
      "model_module": "@jupyter-widgets/controls",
      "model_module_version": "1.5.0",
      "model_name": "DescriptionStyleModel",
      "state": {
       "_model_module_version": "1.5.0",
       "_view_module_version": "1.2.0",
       "description_width": ""
      }
     },
     "06d20c6926d3498e9f874c9f6650e49e": {
      "model_module": "@jupyter-widgets/controls",
      "model_module_version": "1.5.0",
      "model_name": "DropdownModel",
      "state": {
       "_model_module_version": "1.5.0",
       "_options_labels": [
        "10",
        "20",
        "50"
       ],
       "_view_module_version": "1.5.0",
       "description": "items per page",
       "index": 0,
       "layout": "IPY_MODEL_b722d36c688447c8834a00a844327dc6",
       "style": "IPY_MODEL_9d516d5efa364ce39daa1233ea308a89"
      }
     },
     "06fc3605192f4e1ab9f12ea7607a30b8": {
      "model_module": "@jupyter-widgets/base",
      "model_module_version": "1.2.0",
      "model_name": "LayoutModel",
      "state": {
       "_model_module_version": "1.2.0",
       "_view_module_version": "1.2.0",
       "grid_template_areas": "\"top-left top-right\"\n\"top-left top-right\"",
       "grid_template_columns": "1fr 1fr",
       "grid_template_rows": "1fr 1fr",
       "justify_items": null,
       "object_fit": null,
       "object_position": null
      }
     },
     "081ceaa942c34d0e9d4482b19b4bcf7e": {
      "model_module": "@jupyter-widgets/controls",
      "model_module_version": "1.5.0",
      "model_name": "HTMLModel",
      "state": {
       "_model_module_version": "1.5.0",
       "_view_module_version": "1.5.0",
       "layout": "IPY_MODEL_fd001feacf9e43b1863635dcfb9351c6",
       "style": "IPY_MODEL_a5b6545dc00d4696b325c902b9d34481",
       "value": "Deselect with ctrl + click"
      }
     },
     "09a0500bfd8a4d309531181fba57d0aa": {
      "model_module": "@jupyter-widgets/base",
      "model_module_version": "1.2.0",
      "model_name": "LayoutModel",
      "state": {
       "_model_module_version": "1.2.0",
       "_view_module_version": "1.2.0",
       "justify_items": null,
       "object_fit": null,
       "object_position": null
      }
     },
     "09d33900dc7b4b1f93ff970b319a7579": {
      "model_module": "@jupyter-widgets/base",
      "model_module_version": "1.2.0",
      "model_name": "LayoutModel",
      "state": {
       "_model_module_version": "1.2.0",
       "_view_module_version": "1.2.0",
       "justify_items": null,
       "object_fit": null,
       "object_position": null
      }
     },
     "0a7aa69ef70b46d5abf7fe8933c2ba8a": {
      "model_module": "@jupyter-widgets/base",
      "model_module_version": "1.2.0",
      "model_name": "LayoutModel",
      "state": {
       "_model_module_version": "1.2.0",
       "_view_module_version": "1.2.0",
       "justify_items": null,
       "object_fit": null,
       "object_position": null
      }
     },
     "0b96fca3200d45678d6a15ecf5aa5a31": {
      "model_module": "@jupyter-widgets/controls",
      "model_module_version": "1.5.0",
      "model_name": "LabelModel",
      "state": {
       "_model_module_version": "1.5.0",
       "_view_module_version": "1.5.0",
       "layout": "IPY_MODEL_e1424317865f4d3da47d9b53b4e545d4",
       "style": "IPY_MODEL_75405aa6027f4565990068a695e8369e",
       "value": "of 266 pages with "
      }
     },
     "0bcab44d05aa4311a8e0095ac2504fca": {
      "model_module": "@jupyter-widgets/base",
      "model_module_version": "1.2.0",
      "model_name": "LayoutModel",
      "state": {
       "_model_module_version": "1.2.0",
       "_view_module_version": "1.2.0",
       "justify_items": null,
       "object_fit": null,
       "object_position": null
      }
     },
     "0c20d51b8e6e48c1878212be36e243a5": {
      "model_module": "@jupyter-widgets/controls",
      "model_module_version": "1.5.0",
      "model_name": "DescriptionStyleModel",
      "state": {
       "_model_module_version": "1.5.0",
       "_view_module_version": "1.2.0",
       "description_width": ""
      }
     },
     "0c3eff0a62bb438f94243e03ebd0ea19": {
      "model_module": "@jupyter-widgets/controls",
      "model_module_version": "1.5.0",
      "model_name": "DescriptionStyleModel",
      "state": {
       "_model_module_version": "1.5.0",
       "_view_module_version": "1.2.0",
       "description_width": ""
      }
     },
     "0c8666aebba64dba83febc507f924685": {
      "model_module": "@jupyter-widgets/controls",
      "model_module_version": "1.5.0",
      "model_name": "VBoxModel",
      "state": {
       "_model_module_version": "1.5.0",
       "_view_module_version": "1.5.0",
       "children": [
        "IPY_MODEL_aef43acc6b2849ed832135dec5c13b01",
        "IPY_MODEL_4efc6d0f801d42d8b15847ee5f0ac717",
        "IPY_MODEL_d6e0e00504404d90b850530e4047fcd0"
       ],
       "layout": "IPY_MODEL_111e29f0567c4a55a35ad47eb9b4d3af"
      }
     },
     "0cc9edac67f64cbe9bbe4d0ca8c3fe8f": {
      "model_module": "@jupyter-widgets/controls",
      "model_module_version": "1.5.0",
      "model_name": "ButtonStyleModel",
      "state": {
       "_model_module_version": "1.5.0",
       "_view_module_version": "1.2.0"
      }
     },
     "0cf5de91e079469b862e29146ae6f82e": {
      "model_module": "@jupyter-widgets/base",
      "model_module_version": "1.2.0",
      "model_name": "LayoutModel",
      "state": {
       "_model_module_version": "1.2.0",
       "_view_module_version": "1.2.0",
       "justify_items": null,
       "object_fit": null,
       "object_position": null
      }
     },
     "0d4144dfbd5f44719e1a29a8edd5adbf": {
      "model_module": "@jupyter-widgets/base",
      "model_module_version": "1.2.0",
      "model_name": "LayoutModel",
      "state": {
       "_model_module_version": "1.2.0",
       "_view_module_version": "1.2.0",
       "justify_items": null,
       "object_fit": null,
       "object_position": null
      }
     },
     "0dad58b1412f45e88dfd11d70da72ee6": {
      "model_module": "@jupyter-widgets/controls",
      "model_module_version": "1.5.0",
      "model_name": "LabelModel",
      "state": {
       "_model_module_version": "1.5.0",
       "_view_module_version": "1.5.0",
       "layout": "IPY_MODEL_cb026deef62b477684d5424a41018401",
       "style": "IPY_MODEL_1d1473d4aad44934978c9cc9cb0d9760",
       "value": "2654 rows"
      }
     },
     "0e878b5427e547fb926c4e0b8009af33": {
      "model_module": "@jupyter-widgets/controls",
      "model_module_version": "1.5.0",
      "model_name": "ToggleButtonModel",
      "state": {
       "_model_module_version": "1.5.0",
       "_view_module_version": "1.5.0",
       "description": "ascending",
       "layout": "IPY_MODEL_5ea44efc763046918c4df4cdb8c96ba7",
       "style": "IPY_MODEL_8685ae7ef93a4009aeaaec77a735a7a1",
       "value": true
      }
     },
     "0ee4dd3dcbb141a099b71b205e5e1c9b": {
      "model_module": "@jupyter-widgets/controls",
      "model_module_version": "1.5.0",
      "model_name": "DescriptionStyleModel",
      "state": {
       "_model_module_version": "1.5.0",
       "_view_module_version": "1.2.0",
       "description_width": ""
      }
     },
     "0f479026af3740898d0bb04c8e213b40": {
      "model_module": "@jupyter-widgets/controls",
      "model_module_version": "1.5.0",
      "model_name": "SliderStyleModel",
      "state": {
       "_model_module_version": "1.5.0",
       "_view_module_version": "1.2.0",
       "description_width": ""
      }
     },
     "0f4b522e347c4446a3999e3812348a88": {
      "model_module": "@jupyter-widgets/base",
      "model_module_version": "1.2.0",
      "model_name": "LayoutModel",
      "state": {
       "_model_module_version": "1.2.0",
       "_view_module_version": "1.2.0",
       "justify_items": null,
       "object_fit": null,
       "object_position": null
      }
     },
     "0fe79353ab7d4287854e2857bb3c9581": {
      "model_module": "@jupyter-widgets/base",
      "model_module_version": "1.2.0",
      "model_name": "LayoutModel",
      "state": {
       "_model_module_version": "1.2.0",
       "_view_module_version": "1.2.0",
       "justify_items": null,
       "object_fit": null,
       "object_position": null,
       "width": "60%"
      }
     },
     "10001b6ef2034a4e83b58203b9bce991": {
      "model_module": "@jupyter-widgets/controls",
      "model_module_version": "1.5.0",
      "model_name": "IntSliderModel",
      "state": {
       "_model_module_version": "1.5.0",
       "_view_module_version": "1.5.0",
       "layout": "IPY_MODEL_0fe79353ab7d4287854e2857bb3c9581",
       "max": 266,
       "min": 1,
       "style": "IPY_MODEL_0f479026af3740898d0bb04c8e213b40",
       "value": 1
      }
     },
     "100de7e6d2f240a1be7b5931d72b1a93": {
      "model_module": "@jupyter-widgets/base",
      "model_module_version": "1.2.0",
      "model_name": "LayoutModel",
      "state": {
       "_model_module_version": "1.2.0",
       "_view_module_version": "1.2.0",
       "justify_items": null,
       "object_fit": null,
       "object_position": null
      }
     },
     "111e29f0567c4a55a35ad47eb9b4d3af": {
      "model_module": "@jupyter-widgets/base",
      "model_module_version": "1.2.0",
      "model_name": "LayoutModel",
      "state": {
       "_model_module_version": "1.2.0",
       "_view_module_version": "1.2.0",
       "grid_area": "top-left",
       "justify_items": null,
       "object_fit": null,
       "object_position": null
      }
     },
     "1128514533674446b6daee5e4583ad6d": {
      "model_module": "@jupyter-widgets/controls",
      "model_module_version": "1.5.0",
      "model_name": "VBoxModel",
      "state": {
       "_model_module_version": "1.5.0",
       "_view_module_version": "1.5.0",
       "children": [
        "IPY_MODEL_1eff1dcc191c43f285c1afe8ada06f3c",
        "IPY_MODEL_3074878b8d70411b8c363692324d5781"
       ],
       "layout": "IPY_MODEL_3bdae81792014551bdb0f5120973ae53"
      }
     },
     "11762bc8096d498fa4a2d75b4b68363b": {
      "model_module": "@jupyter-widgets/base",
      "model_module_version": "1.2.0",
      "model_name": "LayoutModel",
      "state": {
       "_model_module_version": "1.2.0",
       "_view_module_version": "1.2.0",
       "justify_items": null,
       "object_fit": null,
       "object_position": null
      }
     },
     "11bc498d7dd24912a5f9943bea1a76ac": {
      "model_module": "@jupyter-widgets/base",
      "model_module_version": "1.2.0",
      "model_name": "LayoutModel",
      "state": {
       "_model_module_version": "1.2.0",
       "_view_module_version": "1.2.0",
       "justify_items": null,
       "object_fit": null,
       "object_position": null
      }
     },
     "11cb3870d5bb41a6b10e7cfbd674a59d": {
      "model_module": "@jupyter-widgets/controls",
      "model_module_version": "1.5.0",
      "model_name": "DescriptionStyleModel",
      "state": {
       "_model_module_version": "1.5.0",
       "_view_module_version": "1.2.0",
       "description_width": ""
      }
     },
     "1249f01d4e424f2d8f87c24293cc6a40": {
      "model_module": "@jupyter-widgets/base",
      "model_module_version": "1.2.0",
      "model_name": "LayoutModel",
      "state": {
       "_model_module_version": "1.2.0",
       "_view_module_version": "1.2.0",
       "justify_items": null,
       "object_fit": null,
       "object_position": null
      }
     },
     "12f9d7c7f2fa473cb242ebd3ccdca873": {
      "model_module": "@jupyter-widgets/controls",
      "model_module_version": "1.5.0",
      "model_name": "VBoxModel",
      "state": {
       "_model_module_version": "1.5.0",
       "_view_module_version": "1.5.0",
       "children": [
        "IPY_MODEL_d75b9bf95be946a7bd31ad47fd61367b",
        "IPY_MODEL_ed85f01f52ba4f708acf61f677c7b0b7"
       ],
       "layout": "IPY_MODEL_8aaee3bfb1544de7893365194f030bfa"
      }
     },
     "13d79079a62b4371968257f792bc2e16": {
      "model_module": "@jupyter-widgets/controls",
      "model_module_version": "1.5.0",
      "model_name": "ButtonModel",
      "state": {
       "_model_module_version": "1.5.0",
       "_view_module_version": "1.5.0",
       "description": "save",
       "layout": "IPY_MODEL_c6eef9113c804306a961cea465ed7b72",
       "style": "IPY_MODEL_d48a16537e8a44049e8053a8274f14d6"
      }
     },
     "1528ad55589441c186981a1291f8dec6": {
      "model_module": "@jupyter-widgets/base",
      "model_module_version": "1.2.0",
      "model_name": "LayoutModel",
      "state": {
       "_model_module_version": "1.2.0",
       "_view_module_version": "1.2.0",
       "justify_items": null,
       "object_fit": null,
       "object_position": null
      }
     },
     "1565072d9b8343ccbc80da4059adc358": {
      "model_module": "@jupyter-widgets/controls",
      "model_module_version": "1.5.0",
      "model_name": "VBoxModel",
      "state": {
       "_model_module_version": "1.5.0",
       "_view_module_version": "1.5.0",
       "children": [
        "IPY_MODEL_f4d1a93c5f794c89861119f0e5f0dc6a",
        "IPY_MODEL_d8647311e967486586c691420f873c95",
        "IPY_MODEL_7432b7967c174180a3ae22bb40950947"
       ],
       "layout": "IPY_MODEL_b50d095e0964447bbe7ee13589c9c1ed"
      }
     },
     "166d9060cce74f7498a06733415383ef": {
      "model_module": "@jupyter-widgets/base",
      "model_module_version": "1.2.0",
      "model_name": "LayoutModel",
      "state": {
       "_model_module_version": "1.2.0",
       "_view_module_version": "1.2.0",
       "justify_items": null,
       "object_fit": null,
       "object_position": null
      }
     },
     "170c9152fe304b5f81ae02bd1e5abf1a": {
      "model_module": "@jupyter-widgets/controls",
      "model_module_version": "1.5.0",
      "model_name": "GridBoxModel",
      "state": {
       "_model_module_version": "1.5.0",
       "_view_module_version": "1.5.0",
       "children": [
        "IPY_MODEL_78c7717734f14ba29b71c415c975fb6b",
        "IPY_MODEL_1565072d9b8343ccbc80da4059adc358"
       ],
       "layout": "IPY_MODEL_7df21f07c0e5435c8a7908302f8b0e9a"
      }
     },
     "17111df954174f76b76d037666403863": {
      "model_module": "@jupyter-widgets/base",
      "model_module_version": "1.2.0",
      "model_name": "LayoutModel",
      "state": {
       "_model_module_version": "1.2.0",
       "_view_module_version": "1.2.0",
       "justify_items": null,
       "object_fit": null,
       "object_position": null,
       "width": "30px"
      }
     },
     "18cf9ba74e704264b94a610179cf8476": {
      "model_module": "@jupyter-widgets/controls",
      "model_module_version": "1.5.0",
      "model_name": "DescriptionStyleModel",
      "state": {
       "_model_module_version": "1.5.0",
       "_view_module_version": "1.2.0",
       "description_width": ""
      }
     },
     "19621a61df594ce29bca1df9739c51bd": {
      "model_module": "@jupyter-widgets/controls",
      "model_module_version": "1.5.0",
      "model_name": "HBoxModel",
      "state": {
       "_model_module_version": "1.5.0",
       "_view_module_version": "1.5.0",
       "children": [
        "IPY_MODEL_c96d4de6383447f1b6fc4bdc465e98ed",
        "IPY_MODEL_8ece146174134606abb5141c1924fadd"
       ],
       "layout": "IPY_MODEL_53d5207f502d472988c96d897c035081"
      }
     },
     "19c0847d232c4952b323c80d453cb76c": {
      "model_module": "@jupyter-widgets/controls",
      "model_module_version": "1.5.0",
      "model_name": "VBoxModel",
      "state": {
       "_model_module_version": "1.5.0",
       "_view_module_version": "1.5.0",
       "children": [
        "IPY_MODEL_b67ca98d65954a0585848af833b3b024",
        "IPY_MODEL_de38621853264f67a28c58aba3247255"
       ],
       "layout": "IPY_MODEL_aefb8e8613f949e894ffdadc3a6e3a98"
      }
     },
     "1a03ca8f65c6435bb24c7bd8a3297372": {
      "model_module": "@jupyter-widgets/controls",
      "model_module_version": "1.5.0",
      "model_name": "ButtonModel",
      "state": {
       "_model_module_version": "1.5.0",
       "_view_module_version": "1.5.0",
       "description": "save",
       "layout": "IPY_MODEL_ee7920a3c9374247b9d9c6af88a40ad4",
       "style": "IPY_MODEL_c459518c93a440eebf11f5142733a329"
      }
     },
     "1b64cb90fa5642ca91942618840836fc": {
      "model_module": "@jupyter-widgets/controls",
      "model_module_version": "1.5.0",
      "model_name": "HTMLModel",
      "state": {
       "_model_module_version": "1.5.0",
       "_view_module_version": "1.5.0",
       "layout": "IPY_MODEL_f3ba0752bcde497989585238900dcd08",
       "style": "IPY_MODEL_8dc6cea29fea43dba184f5e94ee6565b",
       "value": "Select multiple by dragging or ctrl + click"
      }
     },
     "1bc62908621b49f3bff3e345835f7c45": {
      "model_module": "@jupyter-widgets/controls",
      "model_module_version": "1.5.0",
      "model_name": "DropdownModel",
      "state": {
       "_model_module_version": "1.5.0",
       "_options_labels": [
        "text",
        "text_translated",
        "media",
        "source",
        "mode",
        "num_persons",
        "_timestamp",
        "confidence",
        "source_reliability",
        "locations",
        "origin_bool",
        "origin",
        "destination",
        "geom_tweet",
        "triage_status"
       ],
       "_view_module_version": "1.5.0",
       "index": 0,
       "layout": "IPY_MODEL_64d2ff72ee4649cc90342dd7f742cfd3",
       "style": "IPY_MODEL_b0aa8a5b909246b7b6ddf3f67ead052f"
      }
     },
     "1cef25ce58c0464d8edc11c9e46a9d59": {
      "model_module": "@jupyter-widgets/base",
      "model_module_version": "1.2.0",
      "model_name": "LayoutModel",
      "state": {
       "_model_module_version": "1.2.0",
       "_view_module_version": "1.2.0",
       "justify_items": null,
       "object_fit": null,
       "object_position": null
      }
     },
     "1d1473d4aad44934978c9cc9cb0d9760": {
      "model_module": "@jupyter-widgets/controls",
      "model_module_version": "1.5.0",
      "model_name": "DescriptionStyleModel",
      "state": {
       "_model_module_version": "1.5.0",
       "_view_module_version": "1.2.0",
       "description_width": ""
      }
     },
     "1e14f2e0207f4ae4a5641bff86702056": {
      "model_module": "@jupyter-widgets/controls",
      "model_module_version": "1.5.0",
      "model_name": "LabelModel",
      "state": {
       "_model_module_version": "1.5.0",
       "_view_module_version": "1.5.0",
       "layout": "IPY_MODEL_59b1c63d86574616be942989500e48fc",
       "style": "IPY_MODEL_b20b793b677b4aeca1073ae15685fdb4"
      }
     },
     "1e20d9bbaf744c578e47ca4c7e912525": {
      "model_module": "@jupyter-widgets/base",
      "model_module_version": "1.2.0",
      "model_name": "LayoutModel",
      "state": {
       "_model_module_version": "1.2.0",
       "_view_module_version": "1.2.0",
       "justify_items": null,
       "object_fit": null,
       "object_position": null
      }
     },
     "1eb6f2e9ee1b43ba86230175c156a563": {
      "model_module": "@jupyter-widgets/controls",
      "model_module_version": "1.5.0",
      "model_name": "HBoxModel",
      "state": {
       "_model_module_version": "1.5.0",
       "_view_module_version": "1.5.0",
       "children": [
        "IPY_MODEL_63d9286c74724af283fd6749ad0ed4be",
        "IPY_MODEL_8bdb7c3ea3934a9b9f120313fc154363",
        "IPY_MODEL_753afc3ab00c4903b84d4522183be58f"
       ],
       "layout": "IPY_MODEL_762cb34fe4a6426f87cc7858adc5854e"
      }
     },
     "1edeb57cf8a24c79889bf8597c07f1b4": {
      "model_module": "@jupyter-widgets/controls",
      "model_module_version": "1.5.0",
      "model_name": "GridBoxModel",
      "state": {
       "_model_module_version": "1.5.0",
       "_view_module_version": "1.5.0",
       "children": [
        "IPY_MODEL_b7a7c27fd52c4e43bd750c5365051e7e",
        "IPY_MODEL_fcb584063a524f528e9cbab29f259252"
       ],
       "layout": "IPY_MODEL_61e66db283fb4028b95a2da7b77c0d47"
      }
     },
     "1eff1dcc191c43f285c1afe8ada06f3c": {
      "model_module": "@jupyter-widgets/controls",
      "model_module_version": "1.5.0",
      "model_name": "AccordionModel",
      "state": {
       "_model_module_version": "1.5.0",
       "_titles": {
        "0": "Sorting",
        "1": "Required Values",
        "2": "Searching",
        "3": "Save filtered Data"
       },
       "_view_module_version": "1.5.0",
       "children": [
        "IPY_MODEL_c89f5ccf54714b4f87b17394a493941d",
        "IPY_MODEL_8833286882794bc48e8b71c99175e127",
        "IPY_MODEL_4ef8c885992a4e8598f42b5ef0729b7d",
        "IPY_MODEL_a0a13541568d45fa937d0b562d977be2"
       ],
       "layout": "IPY_MODEL_bd45963ed5224aebb302e11622e6ca72"
      }
     },
     "21104924f2634be198cdbff8be443c01": {
      "model_module": "@jupyter-widgets/controls",
      "model_module_version": "1.5.0",
      "model_name": "VBoxModel",
      "state": {
       "_model_module_version": "1.5.0",
       "_view_module_version": "1.5.0",
       "children": [
        "IPY_MODEL_c468dc8f8fc94c1b83c7d6fea2bc0c67",
        "IPY_MODEL_cfb4aab05a1e4a35a0c65869e1816d7c",
        "IPY_MODEL_bac23d2a8579404bbb8f1aa2b22e97ef"
       ],
       "layout": "IPY_MODEL_f286abe4e6a64af99a86952e07fd3410"
      }
     },
     "215ea3c04b134d61ba83c3c004c68709": {
      "model_module": "@jupyter-widgets/base",
      "model_module_version": "1.2.0",
      "model_name": "LayoutModel",
      "state": {
       "_model_module_version": "1.2.0",
       "_view_module_version": "1.2.0",
       "justify_items": null,
       "object_fit": null,
       "object_position": null,
       "width": "30px"
      }
     },
     "22502616b42347e38be2645bef9d16c1": {
      "model_module": "@jupyter-widgets/base",
      "model_module_version": "1.2.0",
      "model_name": "LayoutModel",
      "state": {
       "_model_module_version": "1.2.0",
       "_view_module_version": "1.2.0",
       "justify_items": null,
       "object_fit": null,
       "object_position": null
      }
     },
     "2283556291274c79a6022d2babedd9f5": {
      "model_module": "@jupyter-widgets/controls",
      "model_module_version": "1.5.0",
      "model_name": "VBoxModel",
      "state": {
       "_model_module_version": "1.5.0",
       "_view_module_version": "1.5.0",
       "children": [
        "IPY_MODEL_39937f6fc0d54654bec67ed7354a9c43",
        "IPY_MODEL_42a8534596b54c378c90ca0300b8e632"
       ],
       "layout": "IPY_MODEL_a8fe72c750a94fe4b1591a1e5b9d95da"
      }
     },
     "22b09037b3b8433daa45d6e4d1009607": {
      "model_module": "@jupyter-widgets/controls",
      "model_module_version": "1.5.0",
      "model_name": "HBoxModel",
      "state": {
       "_model_module_version": "1.5.0",
       "_view_module_version": "1.5.0",
       "children": [
        "IPY_MODEL_e59310f0793f474bbb965ac707a6699a",
        "IPY_MODEL_71ade32e3931455495ce6c61ab4e171f",
        "IPY_MODEL_e89d73aa0b7b48568730f04b1408f690",
        "IPY_MODEL_a9bca1b713c645e2afa6659c3e840039",
        "IPY_MODEL_3964ddd79ee545f4951ca663e96387cf"
       ],
       "layout": "IPY_MODEL_34c8603e7bf748b28c0ed4ab8e2a52a1"
      }
     },
     "22d317b2a4c34780960e80429b213a90": {
      "model_module": "@jupyter-widgets/controls",
      "model_module_version": "1.5.0",
      "model_name": "DescriptionStyleModel",
      "state": {
       "_model_module_version": "1.5.0",
       "_view_module_version": "1.2.0",
       "description_width": ""
      }
     },
     "2405de7c93f449ad9ed02caaaef18034": {
      "model_module": "@jupyter-widgets/controls",
      "model_module_version": "1.5.0",
      "model_name": "TextModel",
      "state": {
       "_model_module_version": "1.5.0",
       "_view_module_version": "1.5.0",
       "layout": "IPY_MODEL_11bc498d7dd24912a5f9943bea1a76ac",
       "style": "IPY_MODEL_2b8b0517a297408fa992999fd7297c61"
      }
     },
     "247f50f761e649e9822f0adb8b33daf3": {
      "model_module": "@jupyter-widgets/base",
      "model_module_version": "1.2.0",
      "model_name": "LayoutModel",
      "state": {
       "_model_module_version": "1.2.0",
       "_view_module_version": "1.2.0",
       "justify_items": null,
       "object_fit": null,
       "object_position": null
      }
     },
     "24b951570bc34006aa911b50571a502a": {
      "model_module": "@jupyter-widgets/controls",
      "model_module_version": "1.5.0",
      "model_name": "IntSliderModel",
      "state": {
       "_model_module_version": "1.5.0",
       "_view_module_version": "1.5.0",
       "layout": "IPY_MODEL_7ff110586e3c4ae4a6375cfb4a0eafcc",
       "max": 266,
       "min": 1,
       "style": "IPY_MODEL_69328200467b43749e8f0b1ee9ec8f1e",
       "value": 1
      }
     },
     "24c66ee27c034a558ce566b8709510aa": {
      "model_module": "@jupyter-widgets/controls",
      "model_module_version": "1.5.0",
      "model_name": "LabelModel",
      "state": {
       "_model_module_version": "1.5.0",
       "_view_module_version": "1.5.0",
       "layout": "IPY_MODEL_247f50f761e649e9822f0adb8b33daf3",
       "style": "IPY_MODEL_b1c007846af0450d95b148d281142c36"
      }
     },
     "24cbfe525d4840cc982f712752786f42": {
      "model_module": "@jupyter-widgets/base",
      "model_module_version": "1.2.0",
      "model_name": "LayoutModel",
      "state": {
       "_model_module_version": "1.2.0",
       "_view_module_version": "1.2.0",
       "justify_items": null,
       "object_fit": null,
       "object_position": null
      }
     },
     "252c76acb36547fcad2bd2b89811be99": {
      "model_module": "@jupyter-widgets/controls",
      "model_module_version": "1.5.0",
      "model_name": "ButtonModel",
      "state": {
       "_model_module_version": "1.5.0",
       "_view_module_version": "1.5.0",
       "icon": "chevron-right",
       "layout": "IPY_MODEL_6848f8162cb9498a926ea68ed66fce74",
       "style": "IPY_MODEL_ad4f8b4b4a894041906d56af85735700"
      }
     },
     "256fee590b364aab8b587b02558ba541": {
      "model_module": "@jupyter-widgets/controls",
      "model_module_version": "1.5.0",
      "model_name": "DescriptionStyleModel",
      "state": {
       "_model_module_version": "1.5.0",
       "_view_module_version": "1.2.0",
       "description_width": ""
      }
     },
     "2632be2a2b1c498eb54f37896553029a": {
      "model_module": "@jupyter-widgets/base",
      "model_module_version": "1.2.0",
      "model_name": "LayoutModel",
      "state": {
       "_model_module_version": "1.2.0",
       "_view_module_version": "1.2.0",
       "justify_items": null,
       "object_fit": null,
       "object_position": null
      }
     },
     "26c4afa5340f4c2d9b927a6593b03e7b": {
      "model_module": "@jupyter-widgets/controls",
      "model_module_version": "1.5.0",
      "model_name": "DescriptionStyleModel",
      "state": {
       "_model_module_version": "1.5.0",
       "_view_module_version": "1.2.0",
       "description_width": ""
      }
     },
     "26fbbbf6250543158460f7a4792b3111": {
      "model_module": "@jupyter-widgets/controls",
      "model_module_version": "1.5.0",
      "model_name": "DropdownModel",
      "state": {
       "_model_module_version": "1.5.0",
       "_options_labels": [
        "10",
        "20",
        "50"
       ],
       "_view_module_version": "1.5.0",
       "description": "items per page",
       "index": 0,
       "layout": "IPY_MODEL_6f97dc03f1d746b5b4cecbe3796af27a",
       "style": "IPY_MODEL_b135988b80ab4ce6bf23e74bb962e060"
      }
     },
     "27b50264cae14f88b4f76cfd76e98258": {
      "model_module": "@jupyter-widgets/controls",
      "model_module_version": "1.5.0",
      "model_name": "LabelModel",
      "state": {
       "_model_module_version": "1.5.0",
       "_view_module_version": "1.5.0",
       "layout": "IPY_MODEL_92de8628f4cd4528a7b1785fb0e4334d",
       "style": "IPY_MODEL_18cf9ba74e704264b94a610179cf8476",
       "value": "Plot Columns"
      }
     },
     "27d8c611db134ad6beb6197525bf11bf": {
      "model_module": "@jupyter-widgets/controls",
      "model_module_version": "1.5.0",
      "model_name": "DropdownModel",
      "state": {
       "_model_module_version": "1.5.0",
       "_options_labels": [
        "text",
        "text_translated",
        "media",
        "source",
        "mode",
        "num_persons",
        "_timestamp",
        "confidence",
        "source_reliability",
        "locations",
        "origin_bool",
        "origin",
        "destination",
        "geom_tweet",
        "triage_status"
       ],
       "_view_module_version": "1.5.0",
       "description": "order by",
       "index": 0,
       "layout": "IPY_MODEL_4e311e6ad47b4e8b93ae03787ef99584",
       "style": "IPY_MODEL_3fe0933c76154cde9cbc859c7c759998"
      }
     },
     "27e12877acc0420b92115b72e56d0ab1": {
      "model_module": "@jupyter-widgets/base",
      "model_module_version": "1.2.0",
      "model_name": "LayoutModel",
      "state": {
       "_model_module_version": "1.2.0",
       "_view_module_version": "1.2.0",
       "justify_items": null,
       "object_fit": null,
       "object_position": null
      }
     },
     "290fc8de3708419790f22544da5ac400": {
      "model_module": "@jupyter-widgets/controls",
      "model_module_version": "1.5.0",
      "model_name": "LabelModel",
      "state": {
       "_model_module_version": "1.5.0",
       "_view_module_version": "1.5.0",
       "layout": "IPY_MODEL_320b4b6f55864bc8b2b37aa69cc0cbc6",
       "style": "IPY_MODEL_6570646a225e4e4eb5fb8340b16c2533",
       "value": "2654 rows"
      }
     },
     "29419e43bc9843f1a66cc7bcf43c5d80": {
      "model_module": "@jupyter-widgets/controls",
      "model_module_version": "1.5.0",
      "model_name": "DescriptionStyleModel",
      "state": {
       "_model_module_version": "1.5.0",
       "_view_module_version": "1.2.0",
       "description_width": ""
      }
     },
     "2990bb1cac9a469cb91e658205731934": {
      "model_module": "@jupyter-widgets/controls",
      "model_module_version": "1.5.0",
      "model_name": "DropdownModel",
      "state": {
       "_model_module_version": "1.5.0",
       "_options_labels": [
        "text",
        "text_translated",
        "media",
        "source",
        "mode",
        "num_persons",
        "_timestamp",
        "confidence",
        "source_reliability",
        "locations",
        "origin_bool",
        "origin",
        "destination",
        "geom_tweet",
        "triage_status"
       ],
       "_view_module_version": "1.5.0",
       "index": 0,
       "layout": "IPY_MODEL_9d41df328f0e46bd82a7d17ca3547a55",
       "style": "IPY_MODEL_3bc83e09c59c4dc7b84701b096116505"
      }
     },
     "2a071b06db994de8a03fb45ec72d6d14": {
      "model_module": "@jupyter-widgets/controls",
      "model_module_version": "1.5.0",
      "model_name": "ButtonStyleModel",
      "state": {
       "_model_module_version": "1.5.0",
       "_view_module_version": "1.2.0"
      }
     },
     "2acf5702cf3447cf956192a5a7e10f5a": {
      "model_module": "@jupyter-widgets/base",
      "model_module_version": "1.2.0",
      "model_name": "LayoutModel",
      "state": {
       "_model_module_version": "1.2.0",
       "_view_module_version": "1.2.0",
       "grid_area": "top-right",
       "justify_items": null,
       "object_fit": null,
       "object_position": null
      }
     },
     "2b653ec3fd674958acb23548fe888e00": {
      "model_module": "@jupyter-widgets/controls",
      "model_module_version": "1.5.0",
      "model_name": "DescriptionStyleModel",
      "state": {
       "_model_module_version": "1.5.0",
       "_view_module_version": "1.2.0",
       "description_width": ""
      }
     },
     "2b8b0517a297408fa992999fd7297c61": {
      "model_module": "@jupyter-widgets/controls",
      "model_module_version": "1.5.0",
      "model_name": "DescriptionStyleModel",
      "state": {
       "_model_module_version": "1.5.0",
       "_view_module_version": "1.2.0",
       "description_width": ""
      }
     },
     "2b8d50a7d0164a438c9cba8ab719cb92": {
      "model_module": "@jupyter-widgets/controls",
      "model_module_version": "1.5.0",
      "model_name": "DescriptionStyleModel",
      "state": {
       "_model_module_version": "1.5.0",
       "_view_module_version": "1.2.0",
       "description_width": ""
      }
     },
     "2ba9f210e0d3469b8338b8d15318da63": {
      "model_module": "@jupyter-widgets/controls",
      "model_module_version": "1.5.0",
      "model_name": "DescriptionStyleModel",
      "state": {
       "_model_module_version": "1.5.0",
       "_view_module_version": "1.2.0",
       "description_width": ""
      }
     },
     "2cb0574aacd144cb823e7365b5384b57": {
      "model_module": "@jupyter-widgets/controls",
      "model_module_version": "1.5.0",
      "model_name": "DescriptionStyleModel",
      "state": {
       "_model_module_version": "1.5.0",
       "_view_module_version": "1.2.0",
       "description_width": ""
      }
     },
     "2da3579f8c534adc80dc657b875d64a0": {
      "model_module": "@jupyter-widgets/base",
      "model_module_version": "1.2.0",
      "model_name": "LayoutModel",
      "state": {
       "_model_module_version": "1.2.0",
       "_view_module_version": "1.2.0",
       "justify_items": null,
       "object_fit": null,
       "object_position": null
      }
     },
     "2db6f25fcee44c4dbbe1c2c3b1320a87": {
      "model_module": "@jupyter-widgets/controls",
      "model_module_version": "1.5.0",
      "model_name": "TextModel",
      "state": {
       "_model_module_version": "1.5.0",
       "_view_module_version": "1.5.0",
       "layout": "IPY_MODEL_69632c45dbdb43f99299d83270d87fef",
       "style": "IPY_MODEL_72b7641bf3ab48f7b3617777bc92ec8b",
       "value": "filtered_data.csv"
      }
     },
     "2dc2ba98eb6c406b8425e383bd47922a": {
      "model_module": "@jupyter-widgets/base",
      "model_module_version": "1.2.0",
      "model_name": "LayoutModel",
      "state": {
       "_model_module_version": "1.2.0",
       "_view_module_version": "1.2.0",
       "justify_items": null,
       "object_fit": null,
       "object_position": null
      }
     },
     "2eabffa99f7e4fc89ae830f59b81f12b": {
      "model_module": "@jupyter-widgets/controls",
      "model_module_version": "1.5.0",
      "model_name": "DescriptionStyleModel",
      "state": {
       "_model_module_version": "1.5.0",
       "_view_module_version": "1.2.0",
       "description_width": ""
      }
     },
     "2ed719c31f3c4970a58939b672162f31": {
      "model_module": "@jupyter-widgets/base",
      "model_module_version": "1.2.0",
      "model_name": "LayoutModel",
      "state": {
       "_model_module_version": "1.2.0",
       "_view_module_version": "1.2.0",
       "justify_items": null,
       "object_fit": null,
       "object_position": null
      }
     },
     "2f381e11f1b14fa389bb538006f1883b": {
      "model_module": "@jupyter-widgets/controls",
      "model_module_version": "1.5.0",
      "model_name": "VBoxModel",
      "state": {
       "_model_module_version": "1.5.0",
       "_view_module_version": "1.5.0",
       "children": [
        "IPY_MODEL_c2404983d72045bb9f7b2791295ffd38",
        "IPY_MODEL_d7d87d32527e4c50b50b8e8282437220"
       ],
       "layout": "IPY_MODEL_89b3613523f34408b29be52335f589a8"
      }
     },
     "2fc337c5fde6471599ee81595a5821a5": {
      "model_module": "@jupyter-widgets/base",
      "model_module_version": "1.2.0",
      "model_name": "LayoutModel",
      "state": {
       "_model_module_version": "1.2.0",
       "_view_module_version": "1.2.0",
       "justify_items": null,
       "object_fit": null,
       "object_position": null
      }
     },
     "3074878b8d70411b8c363692324d5781": {
      "model_module": "@jupyter-widgets/output",
      "model_module_version": "1.0.0",
      "model_name": "OutputModel",
      "state": {
       "layout": "IPY_MODEL_54beee7cb3994cc59c4930f3ba6f0a1c",
       "outputs": [
        {
         "data": {
          "application/vnd.jupyter.widget-view+json": {
           "model_id": "9e36aad7aa164c5bb8a75c02190b197e",
           "version_major": 2,
           "version_minor": 0
          },
          "text/plain": "VBox(children=(HBox(children=(IntSlider(value=1, layout=Layout(width='60%'), max=266, min=1), Label(value='of …"
         },
         "metadata": {},
         "output_type": "display_data"
        }
       ]
      }
     },
     "3081d926f05a4475a1efd57b1f0b192a": {
      "model_module": "@jupyter-widgets/controls",
      "model_module_version": "1.5.0",
      "model_name": "DropdownModel",
      "state": {
       "_model_module_version": "1.5.0",
       "_options_labels": [
        "text",
        "text_translated",
        "media",
        "source",
        "mode",
        "num_persons",
        "_timestamp",
        "confidence",
        "source_reliability",
        "locations",
        "origin_bool",
        "origin",
        "destination",
        "geom_tweet",
        "triage_status"
       ],
       "_view_module_version": "1.5.0",
       "index": 0,
       "layout": "IPY_MODEL_565b87b69ded4d3f9c4f790eac5e53fb",
       "style": "IPY_MODEL_2eabffa99f7e4fc89ae830f59b81f12b"
      }
     },
     "314865e77f7f46eaa09e63d74213cb1c": {
      "model_module": "@jupyter-widgets/base",
      "model_module_version": "1.2.0",
      "model_name": "LayoutModel",
      "state": {
       "_model_module_version": "1.2.0",
       "_view_module_version": "1.2.0",
       "justify_items": null,
       "object_fit": null,
       "object_position": null
      }
     },
     "31b12fd38f624896b9e0d8bb90a86adc": {
      "model_module": "@jupyter-widgets/base",
      "model_module_version": "1.2.0",
      "model_name": "LayoutModel",
      "state": {
       "_model_module_version": "1.2.0",
       "_view_module_version": "1.2.0",
       "justify_items": null,
       "object_fit": null,
       "object_position": null,
       "width": "20%"
      }
     },
     "31b258255e6d42b3b4292dc35e44b051": {
      "model_module": "@jupyter-widgets/controls",
      "model_module_version": "1.5.0",
      "model_name": "ButtonStyleModel",
      "state": {
       "_model_module_version": "1.5.0",
       "_view_module_version": "1.2.0"
      }
     },
     "320b4b6f55864bc8b2b37aa69cc0cbc6": {
      "model_module": "@jupyter-widgets/base",
      "model_module_version": "1.2.0",
      "model_name": "LayoutModel",
      "state": {
       "_model_module_version": "1.2.0",
       "_view_module_version": "1.2.0",
       "justify_items": null,
       "object_fit": null,
       "object_position": null
      }
     },
     "322f331d4ed240f885070ac17f2fbf48": {
      "model_module": "@jupyter-widgets/controls",
      "model_module_version": "1.5.0",
      "model_name": "DropdownModel",
      "state": {
       "_model_module_version": "1.5.0",
       "_options_labels": [
        "text",
        "text_translated",
        "media",
        "source",
        "mode",
        "num_persons",
        "_timestamp",
        "confidence",
        "source_reliability",
        "locations",
        "origin_bool",
        "origin",
        "destination",
        "geom_tweet",
        "triage_status"
       ],
       "_view_module_version": "1.5.0",
       "index": 0,
       "layout": "IPY_MODEL_da932dd4b16d49caa309649078d18e8f",
       "style": "IPY_MODEL_e22a4d05950545ba955f5829b8404ace"
      }
     },
     "32719dd9e11648dba91771600a788675": {
      "model_module": "@jupyter-widgets/base",
      "model_module_version": "1.2.0",
      "model_name": "LayoutModel",
      "state": {
       "_model_module_version": "1.2.0",
       "_view_module_version": "1.2.0",
       "justify_items": null,
       "object_fit": null,
       "object_position": null
      }
     },
     "33fd8871c49744be871d83ece34de935": {
      "model_module": "@jupyter-widgets/controls",
      "model_module_version": "1.5.0",
      "model_name": "DescriptionStyleModel",
      "state": {
       "_model_module_version": "1.5.0",
       "_view_module_version": "1.2.0",
       "description_width": ""
      }
     },
     "34c8603e7bf748b28c0ed4ab8e2a52a1": {
      "model_module": "@jupyter-widgets/base",
      "model_module_version": "1.2.0",
      "model_name": "LayoutModel",
      "state": {
       "_model_module_version": "1.2.0",
       "_view_module_version": "1.2.0",
       "justify_items": null,
       "object_fit": null,
       "object_position": null
      }
     },
     "34feb120a6ac4fa69e7c40cbff18a3db": {
      "model_module": "@jupyter-widgets/controls",
      "model_module_version": "1.5.0",
      "model_name": "SliderStyleModel",
      "state": {
       "_model_module_version": "1.5.0",
       "_view_module_version": "1.2.0",
       "description_width": ""
      }
     },
     "3677336144c0459f9a489cacda42bfdb": {
      "model_module": "@jupyter-widgets/controls",
      "model_module_version": "1.5.0",
      "model_name": "DescriptionStyleModel",
      "state": {
       "_model_module_version": "1.5.0",
       "_view_module_version": "1.2.0",
       "description_width": ""
      }
     },
     "37d41576666c4418a6302572635b4e3b": {
      "model_module": "@jupyter-widgets/output",
      "model_module_version": "1.0.0",
      "model_name": "OutputModel",
      "state": {
       "layout": "IPY_MODEL_0d4144dfbd5f44719e1a29a8edd5adbf",
       "outputs": [
        {
         "data": {
          "text/html": "<div>\n<style scoped>\n    .dataframe tbody tr th:only-of-type {\n        vertical-align: middle;\n    }\n\n    .dataframe tbody tr th {\n        vertical-align: top;\n    }\n\n    .dataframe thead th {\n        text-align: right;\n    }\n</style>\n<table border=\"1\" class=\"dataframe\">\n  <thead>\n    <tr style=\"text-align: right;\">\n      <th></th>\n      <th>text</th>\n      <th>text_translated</th>\n      <th>media</th>\n      <th>source</th>\n      <th>mode</th>\n      <th>num_persons</th>\n      <th>_timestamp</th>\n      <th>confidence</th>\n      <th>source_reliability</th>\n      <th>locations</th>\n      <th>origin_bool</th>\n      <th>origin</th>\n      <th>destination</th>\n      <th>geom_tweet</th>\n      <th>triage_status</th>\n    </tr>\n    <tr>\n      <th>uniqueid</th>\n      <th></th>\n      <th></th>\n      <th></th>\n      <th></th>\n      <th></th>\n      <th></th>\n      <th></th>\n      <th></th>\n      <th></th>\n      <th></th>\n      <th></th>\n      <th></th>\n      <th></th>\n      <th></th>\n      <th></th>\n    </tr>\n  </thead>\n  <tbody>\n    <tr>\n      <th>1772</th>\n      <td>\"@JarretHaisley: Refugee crisis: Aboard the hope bus as refugees head to Austria http://t.co/8qfk2r5SrV\"</td>\n      <td>refugee crisis aboard the hope bus as refugees head to austria</td>\n      <td>None</td>\n      <td>twitter</td>\n      <td>bus</td>\n      <td>NaN</td>\n      <td>2019-09-29 09:08:05</td>\n      <td>0.59</td>\n      <td>1.00</td>\n      <td>['austria']</td>\n      <td>None</td>\n      <td>None</td>\n      <td>None</td>\n      <td>010100000076711B0DE05D30409A99999999194840</td>\n      <td>None</td>\n    </tr>\n    <tr>\n      <th>996</th>\n      <td>\"Allemagne: nombre record de 2.200 migrants arrivés dans le sud - AFP\" en replay sur Android TV Replay http://t.co/k8LZQkCzNh</td>\n      <td>germany record number of 2 200 migrants arrived in the south afp in replay on android tv replay</td>\n      <td>None</td>\n      <td>twitter</td>\n      <td>None</td>\n      <td>NaN</td>\n      <td>2019-09-25 04:44:59</td>\n      <td>0.74</td>\n      <td>0.85</td>\n      <td>['germany']</td>\n      <td>None</td>\n      <td>None</td>\n      <td>None</td>\n      <td>0101000000151DC9E53FC42A40EEEBC03923424A40</td>\n      <td>None</td>\n    </tr>\n    <tr>\n      <th>969</th>\n      <td>\"En Macédoine, les migrants remplissent les trains pour la Serbie - AFP\" en replay sur Android TV Replay http://t.co/k8LZQkCzNh</td>\n      <td>in macedonia migrants fill trains for serbia afp in replay on android tv replay</td>\n      <td>None</td>\n      <td>twitter</td>\n      <td>train</td>\n      <td>NaN</td>\n      <td>2019-09-12 04:08:04</td>\n      <td>0.63</td>\n      <td>0.12</td>\n      <td>['macedonia', 'serbia']</td>\n      <td>None</td>\n      <td>None</td>\n      <td>None</td>\n      <td>0101000000575BB1BFEC6E35400000000000004540</td>\n      <td>None</td>\n    </tr>\n    <tr>\n      <th>482</th>\n      <td>\"Fast 30.000 #Flüchtlinge sind seit vergangenem Freitag auf den griechischen Inseln eingetroffen\" -#Merkel Einladung</td>\n      <td>nearly 30 000 refugees have arrived on the greek islands since last friday merkel invitation</td>\n      <td>None</td>\n      <td>twitter</td>\n      <td>None</td>\n      <td>NaN</td>\n      <td>2019-11-12 18:50:48</td>\n      <td>0.78</td>\n      <td>0.66</td>\n      <td>['island']</td>\n      <td>None</td>\n      <td>None</td>\n      <td>None</td>\n      <td>None</td>\n      <td>None</td>\n    </tr>\n    <tr>\n      <th>795</th>\n      <td>\"Macedonia, ancora frontiere chiuse. I migranti passano dal filo spinato\" - http://t.co/lt7wNeffC7 http://t.co/jvg5cMgDxk</td>\n      <td>macedonia still closed borders migrants pass by barbed wire</td>\n      <td>['http://pbs.twimg.com/media/CNBxOh7WoAAP-zV.jpg']</td>\n      <td>twitter</td>\n      <td>None</td>\n      <td>NaN</td>\n      <td>2019-09-14 16:50:53</td>\n      <td>0.81</td>\n      <td>0.04</td>\n      <td>['macedonia']</td>\n      <td>None</td>\n      <td>None</td>\n      <td>None</td>\n      <td>0101000000575BB1BFEC6E35400000000000004540</td>\n      <td>None</td>\n    </tr>\n    <tr>\n      <th>1796</th>\n      <td>\"Migrants leave Budapest rail station for Vienna on foot \" - http://t.co/gr1NdHQQ6j</td>\n      <td>migrants leave budapest rail station for vienna on foot</td>\n      <td>None</td>\n      <td>twitter</td>\n      <td>on foot</td>\n      <td>NaN</td>\n      <td>2019-09-29 16:38:58</td>\n      <td>0.95</td>\n      <td>0.67</td>\n      <td>['budapest', 'vienna']</td>\n      <td>None</td>\n      <td>AT13</td>\n      <td>None</td>\n      <td>0101000000B003E78C280D3340D7A3703D0ABF4740</td>\n      <td>None</td>\n    </tr>\n    <tr>\n      <th>2134</th>\n      <td>\"Migrants' Main Rail Route to Germany From Austria to Remain Closed\" by REUTERS via NYT http://t.co/1UBjElRWrV</td>\n      <td>migrants main rail route to germany from austria to remain closed by reuters via nyt</td>\n      <td>None</td>\n      <td>twitter</td>\n      <td>None</td>\n      <td>NaN</td>\n      <td>2019-10-15 10:51:09</td>\n      <td>0.90</td>\n      <td>0.30</td>\n      <td>['germany', 'austria']</td>\n      <td>None</td>\n      <td>AT</td>\n      <td>DE</td>\n      <td>0101000000151DC9E53FC42A40EEEBC03923424A40</td>\n      <td>None</td>\n    </tr>\n    <tr>\n      <th>1158</th>\n      <td>\"More than 130,000 #migrants have attempted to cross the Mediterranean in 2015\"  http://t.co/ZOvpUsTx1d</td>\n      <td>more than 130 000 migrants have attempted to cross the mediterranean in 2015</td>\n      <td>None</td>\n      <td>twitter</td>\n      <td>None</td>\n      <td>NaN</td>\n      <td>2019-07-26 17:47:04</td>\n      <td>0.53</td>\n      <td>0.94</td>\n      <td>[]</td>\n      <td>None</td>\n      <td>None</td>\n      <td>None</td>\n      <td>None</td>\n      <td>None</td>\n    </tr>\n    <tr>\n      <th>2364</th>\n      <td>\"On Thursday Slovenia reported that 12,000 migrants had arrived in one day - a record in the current crisis in Central Europe.\" - BBC</td>\n      <td>on thursday slovenia reported that 12 000 migrants had arrived in one day a record in the current crisis in central europe bbc</td>\n      <td>None</td>\n      <td>twitter</td>\n      <td>None</td>\n      <td>NaN</td>\n      <td>2019-11-15 21:14:00</td>\n      <td>0.93</td>\n      <td>0.23</td>\n      <td>['slovenia']</td>\n      <td>None</td>\n      <td>None</td>\n      <td>None</td>\n      <td>0101000000151DC9E53F042D402CD49AE61D074740</td>\n      <td>None</td>\n    </tr>\n    <tr>\n      <th>1137</th>\n      <td>\"With Tel Abyad secured, the Syrian Kurds have managed to forge a corridor between Cezire and Kobani. On Monday,... http://t.co/iJDle1SzwW</td>\n      <td>with tel abyad secured the syrian kurds have managed to forge a corridor between cezire and kobani on monday</td>\n      <td>None</td>\n      <td>twitter</td>\n      <td>None</td>\n      <td>NaN</td>\n      <td>2019-07-10 16:24:53</td>\n      <td>0.71</td>\n      <td>0.24</td>\n      <td>['syria']</td>\n      <td>None</td>\n      <td>None</td>\n      <td>None</td>\n      <td>0101000000E8D9ACFA5C254240EFC9C342ADC14040</td>\n      <td>None</td>\n    </tr>\n  </tbody>\n</table>\n</div>",
          "text/plain": "                                                                                                                                                text  \\\nuniqueid                                                                                                                                               \n1772      \"@JarretHaisley: Refugee crisis: Aboard the hope bus as refugees head to Austria http://t.co/8qfk2r5SrV\"                                     \n996       \"Allemagne: nombre record de 2.200 migrants arrivés dans le sud - AFP\" en replay sur Android TV Replay http://t.co/k8LZQkCzNh                \n969       \"En Macédoine, les migrants remplissent les trains pour la Serbie - AFP\" en replay sur Android TV Replay http://t.co/k8LZQkCzNh              \n482       \"Fast 30.000 #Flüchtlinge sind seit vergangenem Freitag auf den griechischen Inseln eingetroffen\" -#Merkel Einladung                         \n795       \"Macedonia, ancora frontiere chiuse. I migranti passano dal filo spinato\" - http://t.co/lt7wNeffC7 http://t.co/jvg5cMgDxk                    \n1796      \"Migrants leave Budapest rail station for Vienna on foot \" - http://t.co/gr1NdHQQ6j                                                          \n2134      \"Migrants' Main Rail Route to Germany From Austria to Remain Closed\" by REUTERS via NYT http://t.co/1UBjElRWrV                               \n1158      \"More than 130,000 #migrants have attempted to cross the Mediterranean in 2015\"  http://t.co/ZOvpUsTx1d                                      \n2364      \"On Thursday Slovenia reported that 12,000 migrants had arrived in one day - a record in the current crisis in Central Europe.\" - BBC        \n1137      \"With Tel Abyad secured, the Syrian Kurds have managed to forge a corridor between Cezire and Kobani. On Monday,... http://t.co/iJDle1SzwW   \n\n                                                                                                                         text_translated  \\\nuniqueid                                                                                                                                   \n1772      refugee crisis aboard the hope bus as refugees head to austria                                                                   \n996       germany record number of 2 200 migrants arrived in the south afp in replay on android tv replay                                  \n969       in macedonia migrants fill trains for serbia afp in replay on android tv replay                                                  \n482       nearly 30 000 refugees have arrived on the greek islands since last friday merkel invitation                                     \n795       macedonia still closed borders migrants pass by barbed wire                                                                      \n1796      migrants leave budapest rail station for vienna on foot                                                                          \n2134      migrants main rail route to germany from austria to remain closed by reuters via nyt                                             \n1158      more than 130 000 migrants have attempted to cross the mediterranean in 2015                                                     \n2364      on thursday slovenia reported that 12 000 migrants had arrived in one day a record in the current crisis in central europe bbc   \n1137      with tel abyad secured the syrian kurds have managed to forge a corridor between cezire and kobani on monday                     \n\n                                                       media   source  \\\nuniqueid                                                                \n1772      None                                                twitter   \n996       None                                                twitter   \n969       None                                                twitter   \n482       None                                                twitter   \n795       ['http://pbs.twimg.com/media/CNBxOh7WoAAP-zV.jpg']  twitter   \n1796      None                                                twitter   \n2134      None                                                twitter   \n1158      None                                                twitter   \n2364      None                                                twitter   \n1137      None                                                twitter   \n\n             mode  num_persons          _timestamp  confidence  \\\nuniqueid                                                         \n1772      bus     NaN          2019-09-29 09:08:05  0.59         \n996       None    NaN          2019-09-25 04:44:59  0.74         \n969       train   NaN          2019-09-12 04:08:04  0.63         \n482       None    NaN          2019-11-12 18:50:48  0.78         \n795       None    NaN          2019-09-14 16:50:53  0.81         \n1796      on foot NaN          2019-09-29 16:38:58  0.95         \n2134      None    NaN          2019-10-15 10:51:09  0.90         \n1158      None    NaN          2019-07-26 17:47:04  0.53         \n2364      None    NaN          2019-11-15 21:14:00  0.93         \n1137      None    NaN          2019-07-10 16:24:53  0.71         \n\n          source_reliability                locations origin_bool origin  \\\nuniqueid                                                                   \n1772      1.00                ['austria']              None        None    \n996       0.85                ['germany']              None        None    \n969       0.12                ['macedonia', 'serbia']  None        None    \n482       0.66                ['island']               None        None    \n795       0.04                ['macedonia']            None        None    \n1796      0.67                ['budapest', 'vienna']   None        AT13    \n2134      0.30                ['germany', 'austria']   None        AT      \n1158      0.94                []                       None        None    \n2364      0.23                ['slovenia']             None        None    \n1137      0.24                ['syria']                None        None    \n\n         destination                                  geom_tweet triage_status  \nuniqueid                                                                        \n1772      None        010100000076711B0DE05D30409A99999999194840  None          \n996       None        0101000000151DC9E53FC42A40EEEBC03923424A40  None          \n969       None        0101000000575BB1BFEC6E35400000000000004540  None          \n482       None        None                                        None          \n795       None        0101000000575BB1BFEC6E35400000000000004540  None          \n1796      None        0101000000B003E78C280D3340D7A3703D0ABF4740  None          \n2134      DE          0101000000151DC9E53FC42A40EEEBC03923424A40  None          \n1158      None        None                                        None          \n2364      None        0101000000151DC9E53F042D402CD49AE61D074740  None          \n1137      None        0101000000E8D9ACFA5C254240EFC9C342ADC14040  None          "
         },
         "metadata": {},
         "output_type": "display_data"
        }
       ]
      }
     },
     "37d94d65c4764ebfb8fbc0462b0916ed": {
      "model_module": "@jupyter-widgets/base",
      "model_module_version": "1.2.0",
      "model_name": "LayoutModel",
      "state": {
       "_model_module_version": "1.2.0",
       "_view_module_version": "1.2.0",
       "justify_items": null,
       "object_fit": null,
       "object_position": null,
       "width": "30px"
      }
     },
     "37faf93d1c9d43ccae7c82f4a4276417": {
      "model_module": "@jupyter-widgets/base",
      "model_module_version": "1.2.0",
      "model_name": "LayoutModel",
      "state": {
       "_model_module_version": "1.2.0",
       "_view_module_version": "1.2.0",
       "justify_items": null,
       "object_fit": null,
       "object_position": null
      }
     },
     "38d241e3da85460d890890e2cf57a499": {
      "model_module": "@jupyter-widgets/base",
      "model_module_version": "1.2.0",
      "model_name": "LayoutModel",
      "state": {
       "_model_module_version": "1.2.0",
       "_view_module_version": "1.2.0",
       "justify_items": null,
       "object_fit": null,
       "object_position": null
      }
     },
     "3964ddd79ee545f4951ca663e96387cf": {
      "model_module": "@jupyter-widgets/controls",
      "model_module_version": "1.5.0",
      "model_name": "ButtonModel",
      "state": {
       "_model_module_version": "1.5.0",
       "_view_module_version": "1.5.0",
       "icon": "chevron-right",
       "layout": "IPY_MODEL_9d943eb2727445628656be0d28d7ce4c",
       "style": "IPY_MODEL_a9bceaae7041401c8f3a8e07dcaa3c65"
      }
     },
     "39937f6fc0d54654bec67ed7354a9c43": {
      "model_module": "@jupyter-widgets/controls",
      "model_module_version": "1.5.0",
      "model_name": "HTMLModel",
      "state": {
       "_model_module_version": "1.5.0",
       "_view_module_version": "1.5.0",
       "layout": "IPY_MODEL_d8a43ca6872b4e3b985f118984000862",
       "style": "IPY_MODEL_d91e7b48c38c49a89b1d710d3fa148b6",
       "value": "Select multiple by dragging or ctrl + click"
      }
     },
     "3a3315f493ee44bd8bb978fcf148a2b8": {
      "model_module": "@jupyter-widgets/controls",
      "model_module_version": "1.5.0",
      "model_name": "DescriptionStyleModel",
      "state": {
       "_model_module_version": "1.5.0",
       "_view_module_version": "1.2.0",
       "description_width": ""
      }
     },
     "3a3fc91a3be541e59275b27843f1985f": {
      "model_module": "@jupyter-widgets/base",
      "model_module_version": "1.2.0",
      "model_name": "LayoutModel",
      "state": {
       "_model_module_version": "1.2.0",
       "_view_module_version": "1.2.0",
       "justify_items": null,
       "object_fit": null,
       "object_position": null
      }
     },
     "3a4a921ca11d4b368955f7fcb5b44f2d": {
      "model_module": "@jupyter-widgets/base",
      "model_module_version": "1.2.0",
      "model_name": "LayoutModel",
      "state": {
       "_model_module_version": "1.2.0",
       "_view_module_version": "1.2.0",
       "justify_items": null,
       "object_fit": null,
       "object_position": null
      }
     },
     "3a5f57f9473748839615bcf044fc55c5": {
      "model_module": "@jupyter-widgets/controls",
      "model_module_version": "1.5.0",
      "model_name": "ButtonModel",
      "state": {
       "_model_module_version": "1.5.0",
       "_view_module_version": "1.5.0",
       "icon": "chevron-right",
       "layout": "IPY_MODEL_a31175e191164aac985551d8b5bdc63f",
       "style": "IPY_MODEL_a4ec6925212942f5b67bb1101f598c60"
      }
     },
     "3ad987b9978947d2864d56d140e039cc": {
      "model_module": "@jupyter-widgets/controls",
      "model_module_version": "1.5.0",
      "model_name": "HBoxModel",
      "state": {
       "_model_module_version": "1.5.0",
       "_view_module_version": "1.5.0",
       "children": [
        "IPY_MODEL_af6e4f900ac5432eaf96f9b297cca5d5",
        "IPY_MODEL_1a03ca8f65c6435bb24c7bd8a3297372",
        "IPY_MODEL_dd3c188c508f4721ac8b07bcb8753e2c"
       ],
       "layout": "IPY_MODEL_72fab2f96d3946dbbc342c0019f10d46"
      }
     },
     "3ae8ec66806f45adaec81aa9abfbfbe5": {
      "model_module": "@jupyter-widgets/base",
      "model_module_version": "1.2.0",
      "model_name": "LayoutModel",
      "state": {
       "_model_module_version": "1.2.0",
       "_view_module_version": "1.2.0",
       "justify_items": null,
       "object_fit": null,
       "object_position": null
      }
     },
     "3bc83e09c59c4dc7b84701b096116505": {
      "model_module": "@jupyter-widgets/controls",
      "model_module_version": "1.5.0",
      "model_name": "DescriptionStyleModel",
      "state": {
       "_model_module_version": "1.5.0",
       "_view_module_version": "1.2.0",
       "description_width": ""
      }
     },
     "3bdae81792014551bdb0f5120973ae53": {
      "model_module": "@jupyter-widgets/base",
      "model_module_version": "1.2.0",
      "model_name": "LayoutModel",
      "state": {
       "_model_module_version": "1.2.0",
       "_view_module_version": "1.2.0",
       "justify_items": null,
       "object_fit": null,
       "object_position": null
      }
     },
     "3be798cad220440ca4cf7675047e3a21": {
      "model_module": "@jupyter-widgets/output",
      "model_module_version": "1.0.0",
      "model_name": "OutputModel",
      "state": {
       "layout": "IPY_MODEL_c8a92b93e70646f58930b7548691acc9",
       "outputs": [
        {
         "data": {
          "application/vnd.jupyter.widget-view+json": {
           "model_id": "12f9d7c7f2fa473cb242ebd3ccdca873",
           "version_major": 2,
           "version_minor": 0
          },
          "text/plain": "VBox(children=(HBox(children=(IntSlider(value=1, layout=Layout(width='60%'), max=266, min=1), Label(value='of …"
         },
         "metadata": {},
         "output_type": "display_data"
        }
       ]
      }
     },
     "3bfd665cabf34befbb0e643f61979672": {
      "model_module": "@jupyter-widgets/controls",
      "model_module_version": "1.5.0",
      "model_name": "HBoxModel",
      "state": {
       "_model_module_version": "1.5.0",
       "_view_module_version": "1.5.0",
       "children": [
        "IPY_MODEL_2db6f25fcee44c4dbbe1c2c3b1320a87",
        "IPY_MODEL_834119216c6d4575a5133a711e40cf22",
        "IPY_MODEL_b4a45d770bc142eabf5eca3df5d60ac5"
       ],
       "layout": "IPY_MODEL_044b05bcfa9441e587c2a2a4922213b0"
      }
     },
     "3c26d02ba41e4ad79f52fb633f060e4f": {
      "model_module": "@jupyter-widgets/controls",
      "model_module_version": "1.5.0",
      "model_name": "DescriptionStyleModel",
      "state": {
       "_model_module_version": "1.5.0",
       "_view_module_version": "1.2.0",
       "description_width": ""
      }
     },
     "3cdeead130b94ac58aa989e139418ff5": {
      "model_module": "@jupyter-widgets/base",
      "model_module_version": "1.2.0",
      "model_name": "LayoutModel",
      "state": {
       "_model_module_version": "1.2.0",
       "_view_module_version": "1.2.0",
       "grid_area": "top-left",
       "justify_items": null,
       "object_fit": null,
       "object_position": null
      }
     },
     "3ceb87b5896b4786b0ba15b501e5b443": {
      "model_module": "@jupyter-widgets/controls",
      "model_module_version": "1.5.0",
      "model_name": "DescriptionStyleModel",
      "state": {
       "_model_module_version": "1.5.0",
       "_view_module_version": "1.2.0",
       "description_width": ""
      }
     },
     "3e0e0066679a4144a8616de3eba66539": {
      "model_module": "@jupyter-widgets/controls",
      "model_module_version": "1.5.0",
      "model_name": "VBoxModel",
      "state": {
       "_model_module_version": "1.5.0",
       "_view_module_version": "1.5.0",
       "children": [
        "IPY_MODEL_c098b89605b8418c9de6322a9968ef99",
        "IPY_MODEL_1bc62908621b49f3bff3e345835f7c45",
        "IPY_MODEL_c5965951bc2747cba3b7f9cebeb594bc"
       ],
       "layout": "IPY_MODEL_2acf5702cf3447cf956192a5a7e10f5a"
      }
     },
     "3e7159ee90c949aaa347c44d9a061939": {
      "model_module": "@jupyter-widgets/controls",
      "model_module_version": "1.5.0",
      "model_name": "ButtonStyleModel",
      "state": {
       "_model_module_version": "1.5.0",
       "_view_module_version": "1.2.0"
      }
     },
     "3e8939cddcae4ed9a196516612c6810f": {
      "model_module": "@jupyter-widgets/controls",
      "model_module_version": "1.5.0",
      "model_name": "DescriptionStyleModel",
      "state": {
       "_model_module_version": "1.5.0",
       "_view_module_version": "1.2.0",
       "description_width": ""
      }
     },
     "3f56e13eac7a49f5b0920469b229e282": {
      "model_module": "@jupyter-widgets/base",
      "model_module_version": "1.2.0",
      "model_name": "LayoutModel",
      "state": {
       "_model_module_version": "1.2.0",
       "_view_module_version": "1.2.0",
       "height": "50px",
       "justify_items": null,
       "object_fit": null,
       "object_position": null
      }
     },
     "3fe0933c76154cde9cbc859c7c759998": {
      "model_module": "@jupyter-widgets/controls",
      "model_module_version": "1.5.0",
      "model_name": "DescriptionStyleModel",
      "state": {
       "_model_module_version": "1.5.0",
       "_view_module_version": "1.2.0",
       "description_width": ""
      }
     },
     "4007f8ac8e614885a79d04108138d08a": {
      "model_module": "@jupyter-widgets/controls",
      "model_module_version": "1.5.0",
      "model_name": "ButtonStyleModel",
      "state": {
       "_model_module_version": "1.5.0",
       "_view_module_version": "1.2.0"
      }
     },
     "4067363439ca436187d3b4cc04268451": {
      "model_module": "@jupyter-widgets/base",
      "model_module_version": "1.2.0",
      "model_name": "LayoutModel",
      "state": {
       "_model_module_version": "1.2.0",
       "_view_module_version": "1.2.0",
       "justify_items": null,
       "object_fit": null,
       "object_position": null
      }
     },
     "41366d9cfa2b4f4dabbed35b3ccc28b4": {
      "model_module": "@jupyter-widgets/base",
      "model_module_version": "1.2.0",
      "model_name": "LayoutModel",
      "state": {
       "_model_module_version": "1.2.0",
       "_view_module_version": "1.2.0",
       "justify_items": null,
       "object_fit": null,
       "object_position": null,
       "width": "30px"
      }
     },
     "41462959df954d7bb86094779b8bd24f": {
      "model_module": "@jupyter-widgets/controls",
      "model_module_version": "1.5.0",
      "model_name": "VBoxModel",
      "state": {
       "_model_module_version": "1.5.0",
       "_view_module_version": "1.5.0",
       "children": [
        "IPY_MODEL_4c0fc37da2ce4895a4cc7afb2b640a78",
        "IPY_MODEL_dc84ad7c3cb44e0180524e847ec15aa2",
        "IPY_MODEL_91766168a8b14160b1dcaf31e7ae5827"
       ],
       "layout": "IPY_MODEL_02161328114c4f1d95139cd8aef0dd92"
      }
     },
     "42a8534596b54c378c90ca0300b8e632": {
      "model_module": "@jupyter-widgets/controls",
      "model_module_version": "1.5.0",
      "model_name": "HTMLModel",
      "state": {
       "_model_module_version": "1.5.0",
       "_view_module_version": "1.5.0",
       "layout": "IPY_MODEL_1cef25ce58c0464d8edc11c9e46a9d59",
       "style": "IPY_MODEL_29419e43bc9843f1a66cc7bcf43c5d80",
       "value": "Deselect with ctrl + click"
      }
     },
     "44452f1f8d6a464792b2d64c13268906": {
      "model_module": "@jupyter-widgets/controls",
      "model_module_version": "1.5.0",
      "model_name": "ButtonModel",
      "state": {
       "_model_module_version": "1.5.0",
       "_view_module_version": "1.5.0",
       "icon": "chevron-right",
       "layout": "IPY_MODEL_9b08bb9468084e2fa09e6154f28fc32e",
       "style": "IPY_MODEL_a93cfcca464f41cf91f3b6ddcc468774"
      }
     },
     "456f211dc9d24b5ca6cc091fe3700bcf": {
      "model_module": "@jupyter-widgets/controls",
      "model_module_version": "1.5.0",
      "model_name": "LabelModel",
      "state": {
       "_model_module_version": "1.5.0",
       "_view_module_version": "1.5.0",
       "layout": "IPY_MODEL_166d9060cce74f7498a06733415383ef",
       "style": "IPY_MODEL_fac0a4951dc346068c6d404271814aac",
       "value": "Search Columns"
      }
     },
     "45d76b16873447768a7a6eb4a7ad6960": {
      "model_module": "@jupyter-widgets/base",
      "model_module_version": "1.2.0",
      "model_name": "LayoutModel",
      "state": {
       "_model_module_version": "1.2.0",
       "_view_module_version": "1.2.0",
       "justify_items": null,
       "object_fit": null,
       "object_position": null
      }
     },
     "4677080be81f4d7498111ca2165751fe": {
      "model_module": "@jupyter-widgets/controls",
      "model_module_version": "1.5.0",
      "model_name": "DropdownModel",
      "state": {
       "_model_module_version": "1.5.0",
       "_options_labels": [
        "text",
        "text_translated",
        "media",
        "source",
        "mode",
        "num_persons",
        "_timestamp",
        "confidence",
        "source_reliability",
        "locations",
        "origin_bool",
        "origin",
        "destination",
        "geom_tweet",
        "triage_status"
       ],
       "_view_module_version": "1.5.0",
       "index": 0,
       "layout": "IPY_MODEL_24cbfe525d4840cc982f712752786f42",
       "style": "IPY_MODEL_2cb0574aacd144cb823e7365b5384b57"
      }
     },
     "46b126fbdffe45d09022167777a446af": {
      "model_module": "@jupyter-widgets/base",
      "model_module_version": "1.2.0",
      "model_name": "LayoutModel",
      "state": {
       "_model_module_version": "1.2.0",
       "_view_module_version": "1.2.0",
       "justify_items": null,
       "object_fit": null,
       "object_position": null
      }
     },
     "46dcca9887724e998fd62ce399bb00c9": {
      "model_module": "@jupyter-widgets/base",
      "model_module_version": "1.2.0",
      "model_name": "LayoutModel",
      "state": {
       "_model_module_version": "1.2.0",
       "_view_module_version": "1.2.0",
       "justify_items": null,
       "object_fit": null,
       "object_position": null
      }
     },
     "475d7e88a65749f5ab45e02fe3dbb5d3": {
      "model_module": "@jupyter-widgets/controls",
      "model_module_version": "1.5.0",
      "model_name": "DescriptionStyleModel",
      "state": {
       "_model_module_version": "1.5.0",
       "_view_module_version": "1.2.0",
       "description_width": ""
      }
     },
     "47a6fd66672b4d2da8e61f677e6fa0b0": {
      "model_module": "@jupyter-widgets/controls",
      "model_module_version": "1.5.0",
      "model_name": "DescriptionStyleModel",
      "state": {
       "_model_module_version": "1.5.0",
       "_view_module_version": "1.2.0",
       "description_width": ""
      }
     },
     "490c35f5049f495594aaf79f0421cfc1": {
      "model_module": "@jupyter-widgets/output",
      "model_module_version": "1.0.0",
      "model_name": "OutputModel",
      "state": {
       "layout": "IPY_MODEL_100de7e6d2f240a1be7b5931d72b1a93",
       "outputs": [
        {
         "data": {
          "image/png": "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\n",
          "text/plain": "<Figure size 432x288 with 1 Axes>"
         },
         "metadata": {
          "needs_background": "light"
         },
         "output_type": "display_data"
        }
       ]
      }
     },
     "4b7c0a34ac114536b8b3a78924be4e77": {
      "model_module": "@jupyter-widgets/base",
      "model_module_version": "1.2.0",
      "model_name": "LayoutModel",
      "state": {
       "_model_module_version": "1.2.0",
       "_view_module_version": "1.2.0",
       "justify_items": null,
       "object_fit": null,
       "object_position": null
      }
     },
     "4c0fc37da2ce4895a4cc7afb2b640a78": {
      "model_module": "@jupyter-widgets/controls",
      "model_module_version": "1.5.0",
      "model_name": "LabelModel",
      "state": {
       "_model_module_version": "1.5.0",
       "_view_module_version": "1.5.0",
       "layout": "IPY_MODEL_3ae8ec66806f45adaec81aa9abfbfbe5",
       "style": "IPY_MODEL_6864884fa0674b199b9235d867464e8c",
       "value": "Search Columns"
      }
     },
     "4d077f063ac2445cab793be808ca5f06": {
      "model_module": "@jupyter-widgets/base",
      "model_module_version": "1.2.0",
      "model_name": "LayoutModel",
      "state": {
       "_model_module_version": "1.2.0",
       "_view_module_version": "1.2.0",
       "justify_items": null,
       "object_fit": null,
       "object_position": null
      }
     },
     "4d7f5b88169d4f948210265de5329c7b": {
      "model_module": "@jupyter-widgets/base",
      "model_module_version": "1.2.0",
      "model_name": "LayoutModel",
      "state": {
       "_model_module_version": "1.2.0",
       "_view_module_version": "1.2.0",
       "height": "50px",
       "justify_items": null,
       "object_fit": null,
       "object_position": null
      }
     },
     "4df0d163e459427a80250d8287b51dc0": {
      "model_module": "@jupyter-widgets/controls",
      "model_module_version": "1.5.0",
      "model_name": "LabelModel",
      "state": {
       "_model_module_version": "1.5.0",
       "_view_module_version": "1.5.0",
       "layout": "IPY_MODEL_0a7aa69ef70b46d5abf7fe8933c2ba8a",
       "style": "IPY_MODEL_b719416a863845588d70c01ab9e28ed1",
       "value": "of 266 pages with "
      }
     },
     "4e311e6ad47b4e8b93ae03787ef99584": {
      "model_module": "@jupyter-widgets/base",
      "model_module_version": "1.2.0",
      "model_name": "LayoutModel",
      "state": {
       "_model_module_version": "1.2.0",
       "_view_module_version": "1.2.0",
       "justify_items": null,
       "object_fit": null,
       "object_position": null
      }
     },
     "4ef8c885992a4e8598f42b5ef0729b7d": {
      "model_module": "@jupyter-widgets/controls",
      "model_module_version": "1.5.0",
      "model_name": "GridBoxModel",
      "state": {
       "_model_module_version": "1.5.0",
       "_view_module_version": "1.5.0",
       "children": [
        "IPY_MODEL_0c8666aebba64dba83febc507f924685",
        "IPY_MODEL_e89f9cad590146f9b59ac2db5aaeff70"
       ],
       "layout": "IPY_MODEL_be1a58a9b5e0438092097ae9c4da8f1d"
      }
     },
     "4efc6d0f801d42d8b15847ee5f0ac717": {
      "model_module": "@jupyter-widgets/controls",
      "model_module_version": "1.5.0",
      "model_name": "DropdownModel",
      "state": {
       "_model_module_version": "1.5.0",
       "_options_labels": [
        "text",
        "text_translated",
        "media",
        "source",
        "mode",
        "num_persons",
        "_timestamp",
        "confidence",
        "source_reliability",
        "locations",
        "origin_bool",
        "origin",
        "destination",
        "geom_tweet",
        "triage_status"
       ],
       "_view_module_version": "1.5.0",
       "index": 0,
       "layout": "IPY_MODEL_6bad6029dad44d9780070a9355ac00f1",
       "style": "IPY_MODEL_a013070dd4614dd8982d3020048d6af1"
      }
     },
     "4fa96e51cdc4458dad619a20e3e17eb3": {
      "model_module": "@jupyter-widgets/controls",
      "model_module_version": "1.5.0",
      "model_name": "VBoxModel",
      "state": {
       "_model_module_version": "1.5.0",
       "_view_module_version": "1.5.0",
       "children": [
        "IPY_MODEL_866d92c8ceba42dc935359488282f93a",
        "IPY_MODEL_71c774b42b934284a4afbc1eaa6265ed"
       ],
       "layout": "IPY_MODEL_ea8b9f3053eb4729ac6eb8ebb9ae91de"
      }
     },
     "5111000c32094d19886dcffaed98351c": {
      "model_module": "@jupyter-widgets/base",
      "model_module_version": "1.2.0",
      "model_name": "LayoutModel",
      "state": {
       "_model_module_version": "1.2.0",
       "_view_module_version": "1.2.0",
       "justify_items": null,
       "object_fit": null,
       "object_position": null
      }
     },
     "520d7b532de34a37a306457be6cbe252": {
      "model_module": "@jupyter-widgets/controls",
      "model_module_version": "1.5.0",
      "model_name": "ButtonModel",
      "state": {
       "_model_module_version": "1.5.0",
       "_view_module_version": "1.5.0",
       "icon": "chevron-right",
       "layout": "IPY_MODEL_647fc759700b4c99a84f80d829f76dfa",
       "style": "IPY_MODEL_fabd3cdfaaf54e28ba177f9b4f910f42"
      }
     },
     "536d7ff7790845bb9e583b8ed19e1079": {
      "model_module": "@jupyter-widgets/controls",
      "model_module_version": "1.5.0",
      "model_name": "VBoxModel",
      "state": {
       "_model_module_version": "1.5.0",
       "_view_module_version": "1.5.0",
       "children": [
        "IPY_MODEL_ce8e450671b745dfae6a9b7cb0fcb4e9",
        "IPY_MODEL_863620a6a05f4635b8803d05ad37df94"
       ],
       "layout": "IPY_MODEL_09d33900dc7b4b1f93ff970b319a7579"
      }
     },
     "53bd3a2e72d24162a395eb2ccc0a469f": {
      "model_module": "@jupyter-widgets/base",
      "model_module_version": "1.2.0",
      "model_name": "LayoutModel",
      "state": {
       "_model_module_version": "1.2.0",
       "_view_module_version": "1.2.0",
       "grid_template_areas": "\"top-left top-right\"\n\"top-left top-right\"",
       "grid_template_columns": "1fr 1fr",
       "grid_template_rows": "1fr 1fr",
       "justify_items": null,
       "object_fit": null,
       "object_position": null
      }
     },
     "53d5207f502d472988c96d897c035081": {
      "model_module": "@jupyter-widgets/base",
      "model_module_version": "1.2.0",
      "model_name": "LayoutModel",
      "state": {
       "_model_module_version": "1.2.0",
       "_view_module_version": "1.2.0",
       "justify_items": null,
       "object_fit": null,
       "object_position": null
      }
     },
     "542183bc0f634904babf90d757341db7": {
      "model_module": "@jupyter-widgets/base",
      "model_module_version": "1.2.0",
      "model_name": "LayoutModel",
      "state": {
       "_model_module_version": "1.2.0",
       "_view_module_version": "1.2.0",
       "justify_items": null,
       "object_fit": null,
       "object_position": null
      }
     },
     "5441348cc9b04afba5b0387790a5077f": {
      "model_module": "@jupyter-widgets/base",
      "model_module_version": "1.2.0",
      "model_name": "LayoutModel",
      "state": {
       "_model_module_version": "1.2.0",
       "_view_module_version": "1.2.0",
       "justify_items": null,
       "object_fit": null,
       "object_position": null
      }
     },
     "547216cc45414b0f9ef89b2f48abb2f5": {
      "model_module": "@jupyter-widgets/base",
      "model_module_version": "1.2.0",
      "model_name": "LayoutModel",
      "state": {
       "_model_module_version": "1.2.0",
       "_view_module_version": "1.2.0",
       "justify_items": null,
       "object_fit": null,
       "object_position": null
      }
     },
     "54993934473447deaeb9285eee7db51f": {
      "model_module": "@jupyter-widgets/base",
      "model_module_version": "1.2.0",
      "model_name": "LayoutModel",
      "state": {
       "_model_module_version": "1.2.0",
       "_view_module_version": "1.2.0",
       "justify_items": null,
       "object_fit": null,
       "object_position": null
      }
     },
     "54b301fa2a984589a954246cb1197f68": {
      "model_module": "@jupyter-widgets/controls",
      "model_module_version": "1.5.0",
      "model_name": "DescriptionStyleModel",
      "state": {
       "_model_module_version": "1.5.0",
       "_view_module_version": "1.2.0",
       "description_width": ""
      }
     },
     "54beee7cb3994cc59c4930f3ba6f0a1c": {
      "model_module": "@jupyter-widgets/base",
      "model_module_version": "1.2.0",
      "model_name": "LayoutModel",
      "state": {
       "_model_module_version": "1.2.0",
       "_view_module_version": "1.2.0",
       "justify_items": null,
       "object_fit": null,
       "object_position": null
      }
     },
     "5657a3b83cba436d8efaec35df00f4ac": {
      "model_module": "@jupyter-widgets/output",
      "model_module_version": "1.0.0",
      "model_name": "OutputModel",
      "state": {
       "layout": "IPY_MODEL_dd51b0d97840488c8bcb6b1fdf3856d0",
       "outputs": [
        {
         "data": {
          "image/png": "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\n",
          "text/plain": "<Figure size 432x288 with 1 Axes>"
         },
         "metadata": {
          "needs_background": "light"
         },
         "output_type": "display_data"
        }
       ]
      }
     },
     "565b87b69ded4d3f9c4f790eac5e53fb": {
      "model_module": "@jupyter-widgets/base",
      "model_module_version": "1.2.0",
      "model_name": "LayoutModel",
      "state": {
       "_model_module_version": "1.2.0",
       "_view_module_version": "1.2.0",
       "justify_items": null,
       "object_fit": null,
       "object_position": null
      }
     },
     "5664bc35f11a40e49b8a1d3ecaa08f4d": {
      "model_module": "@jupyter-widgets/controls",
      "model_module_version": "1.5.0",
      "model_name": "DescriptionStyleModel",
      "state": {
       "_model_module_version": "1.5.0",
       "_view_module_version": "1.2.0",
       "description_width": ""
      }
     },
     "572d6e9b50284617bdbe89ce73e8a228": {
      "model_module": "@jupyter-widgets/controls",
      "model_module_version": "1.5.0",
      "model_name": "ButtonModel",
      "state": {
       "_model_module_version": "1.5.0",
       "_view_module_version": "1.5.0",
       "icon": "chevron-right",
       "layout": "IPY_MODEL_82f54d00d6ec462bae70fd0a7aa01576",
       "style": "IPY_MODEL_31b258255e6d42b3b4292dc35e44b051"
      }
     },
     "5753aeb756d94e4e90d500224e21441d": {
      "model_module": "@jupyter-widgets/controls",
      "model_module_version": "1.5.0",
      "model_name": "VBoxModel",
      "state": {
       "_model_module_version": "1.5.0",
       "_view_module_version": "1.5.0",
       "children": [
        "IPY_MODEL_f8390c7c091d4c839731b789fdf04b8d",
        "IPY_MODEL_37d41576666c4418a6302572635b4e3b"
       ],
       "layout": "IPY_MODEL_27e12877acc0420b92115b72e56d0ab1"
      }
     },
     "576eb6ffea894fd1a31fde0986bfe676": {
      "model_module": "@jupyter-widgets/controls",
      "model_module_version": "1.5.0",
      "model_name": "ToggleButtonModel",
      "state": {
       "_model_module_version": "1.5.0",
       "_view_module_version": "1.5.0",
       "description": "ascending",
       "layout": "IPY_MODEL_46dcca9887724e998fd62ce399bb00c9",
       "style": "IPY_MODEL_47a6fd66672b4d2da8e61f677e6fa0b0",
       "value": true
      }
     },
     "59b1c63d86574616be942989500e48fc": {
      "model_module": "@jupyter-widgets/base",
      "model_module_version": "1.2.0",
      "model_name": "LayoutModel",
      "state": {
       "_model_module_version": "1.2.0",
       "_view_module_version": "1.2.0",
       "justify_items": null,
       "object_fit": null,
       "object_position": null
      }
     },
     "59c59a640d834a6282be460b5097f6ab": {
      "model_module": "@jupyter-widgets/controls",
      "model_module_version": "1.5.0",
      "model_name": "LabelModel",
      "state": {
       "_model_module_version": "1.5.0",
       "_view_module_version": "1.5.0",
       "layout": "IPY_MODEL_fe6a22daa9d54e29a98dc548ef103669",
       "style": "IPY_MODEL_06191cfe42474867a7c0599634318451",
       "value": "Plot Columns"
      }
     },
     "5dc605e591984cbd8108ca7f9d805480": {
      "model_module": "@jupyter-widgets/base",
      "model_module_version": "1.2.0",
      "model_name": "LayoutModel",
      "state": {
       "_model_module_version": "1.2.0",
       "_view_module_version": "1.2.0",
       "justify_items": null,
       "object_fit": null,
       "object_position": null
      }
     },
     "5e274ee9e777471ab57be79a81dc4f22": {
      "model_module": "@jupyter-widgets/controls",
      "model_module_version": "1.5.0",
      "model_name": "DescriptionStyleModel",
      "state": {
       "_model_module_version": "1.5.0",
       "_view_module_version": "1.2.0",
       "description_width": ""
      }
     },
     "5ea44efc763046918c4df4cdb8c96ba7": {
      "model_module": "@jupyter-widgets/base",
      "model_module_version": "1.2.0",
      "model_name": "LayoutModel",
      "state": {
       "_model_module_version": "1.2.0",
       "_view_module_version": "1.2.0",
       "justify_items": null,
       "object_fit": null,
       "object_position": null
      }
     },
     "5eb73916e291466ead5d499b307112a4": {
      "model_module": "@jupyter-widgets/base",
      "model_module_version": "1.2.0",
      "model_name": "LayoutModel",
      "state": {
       "_model_module_version": "1.2.0",
       "_view_module_version": "1.2.0",
       "justify_items": null,
       "object_fit": null,
       "object_position": null
      }
     },
     "6058d22045954a5fa8594fb2931e86c0": {
      "model_module": "@jupyter-widgets/controls",
      "model_module_version": "1.5.0",
      "model_name": "VBoxModel",
      "state": {
       "_model_module_version": "1.5.0",
       "_view_module_version": "1.5.0",
       "children": [
        "IPY_MODEL_bcb1fa6e014a48c3b693ca0f60bc09e2",
        "IPY_MODEL_2990bb1cac9a469cb91e658205731934",
        "IPY_MODEL_a8ba2bc6a22a407f8b04af719e4b8939"
       ],
       "layout": "IPY_MODEL_f6c5625a7d81440aa67af42a1942adeb"
      }
     },
     "605a06d6bed843138a8af7e7683be0be": {
      "model_module": "@jupyter-widgets/output",
      "model_module_version": "1.0.0",
      "model_name": "OutputModel",
      "state": {
       "layout": "IPY_MODEL_2fc337c5fde6471599ee81595a5821a5",
       "outputs": [
        {
         "data": {
          "text/html": "<div>\n<style scoped>\n    .dataframe tbody tr th:only-of-type {\n        vertical-align: middle;\n    }\n\n    .dataframe tbody tr th {\n        vertical-align: top;\n    }\n\n    .dataframe thead th {\n        text-align: right;\n    }\n</style>\n<table border=\"1\" class=\"dataframe\">\n  <thead>\n    <tr style=\"text-align: right;\">\n      <th></th>\n      <th>text</th>\n      <th>text_translated</th>\n      <th>media</th>\n      <th>source</th>\n      <th>mode</th>\n      <th>num_persons</th>\n      <th>_timestamp</th>\n      <th>confidence</th>\n      <th>source_reliability</th>\n      <th>locations</th>\n      <th>origin_bool</th>\n      <th>origin</th>\n      <th>destination</th>\n      <th>geom_tweet</th>\n      <th>triage_status</th>\n    </tr>\n    <tr>\n      <th>uniqueid</th>\n      <th></th>\n      <th></th>\n      <th></th>\n      <th></th>\n      <th></th>\n      <th></th>\n      <th></th>\n      <th></th>\n      <th></th>\n      <th></th>\n      <th></th>\n      <th></th>\n      <th></th>\n      <th></th>\n      <th></th>\n    </tr>\n  </thead>\n  <tbody>\n    <tr>\n      <th>969</th>\n      <td>\"En Macédoine, les migrants remplissent les trains pour la Serbie - AFP\" en replay sur Android TV Replay http://t.co/k8LZQkCzNh</td>\n      <td>in macedonia migrants fill trains for serbia afp in replay on android tv replay</td>\n      <td>NaN</td>\n      <td>twitter</td>\n      <td>train</td>\n      <td>NaN</td>\n      <td>2019-09-12 04:08:04.000000</td>\n      <td>0.63</td>\n      <td>0.12</td>\n      <td>['macedonia', 'serbia']</td>\n      <td>NaN</td>\n      <td>NaN</td>\n      <td>NaN</td>\n      <td>0101000000575BB1BFEC6E35400000000000004540</td>\n      <td>NaN</td>\n    </tr>\n    <tr>\n      <th>795</th>\n      <td>\"Macedonia, ancora frontiere chiuse. I migranti passano dal filo spinato\" - http://t.co/lt7wNeffC7 http://t.co/jvg5cMgDxk</td>\n      <td>macedonia still closed borders migrants pass by barbed wire</td>\n      <td>['http://pbs.twimg.com/media/CNBxOh7WoAAP-zV.jpg']</td>\n      <td>twitter</td>\n      <td>NaN</td>\n      <td>NaN</td>\n      <td>2019-09-14 16:50:53.000000</td>\n      <td>0.81</td>\n      <td>0.04</td>\n      <td>['macedonia']</td>\n      <td>NaN</td>\n      <td>NaN</td>\n      <td>NaN</td>\n      <td>0101000000575BB1BFEC6E35400000000000004540</td>\n      <td>NaN</td>\n    </tr>\n    <tr>\n      <th>1158</th>\n      <td>\"More than 130,000 #migrants have attempted to cross the Mediterranean in 2015\"  http://t.co/ZOvpUsTx1d</td>\n      <td>more than 130 000 migrants have attempted to cross the mediterranean in 2015</td>\n      <td>NaN</td>\n      <td>twitter</td>\n      <td>NaN</td>\n      <td>NaN</td>\n      <td>2019-07-26 17:47:04.000000</td>\n      <td>0.53</td>\n      <td>0.94</td>\n      <td>[]</td>\n      <td>NaN</td>\n      <td>NaN</td>\n      <td>NaN</td>\n      <td>NaN</td>\n      <td>NaN</td>\n    </tr>\n    <tr>\n      <th>2364</th>\n      <td>\"On Thursday Slovenia reported that 12,000 migrants had arrived in one day - a record in the current crisis in Central Europe.\" - BBC</td>\n      <td>on thursday slovenia reported that 12 000 migrants had arrived in one day a record in the current crisis in central europe bbc</td>\n      <td>NaN</td>\n      <td>twitter</td>\n      <td>NaN</td>\n      <td>NaN</td>\n      <td>2019-11-15 21:14:00.000000</td>\n      <td>0.93</td>\n      <td>0.23</td>\n      <td>['slovenia']</td>\n      <td>NaN</td>\n      <td>NaN</td>\n      <td>NaN</td>\n      <td>0101000000151DC9E53F042D402CD49AE61D074740</td>\n      <td>NaN</td>\n    </tr>\n    <tr>\n      <th>1137</th>\n      <td>\"With Tel Abyad secured, the Syrian Kurds have managed to forge a corridor between Cezire and Kobani. On Monday,... http://t.co/iJDle1SzwW</td>\n      <td>with tel abyad secured the syrian kurds have managed to forge a corridor between cezire and kobani on monday</td>\n      <td>NaN</td>\n      <td>twitter</td>\n      <td>NaN</td>\n      <td>NaN</td>\n      <td>2019-07-10 16:24:53.000000</td>\n      <td>0.71</td>\n      <td>0.24</td>\n      <td>['syria']</td>\n      <td>NaN</td>\n      <td>NaN</td>\n      <td>NaN</td>\n      <td>0101000000E8D9ACFA5C254240EFC9C342ADC14040</td>\n      <td>NaN</td>\n    </tr>\n    <tr>\n      <th>574</th>\n      <td>#2015 Франция закрывает границу с Италией http://t.co/O77dBheZKv</td>\n      <td>2015 france closes the border with italy</td>\n      <td>NaN</td>\n      <td>twitter</td>\n      <td>NaN</td>\n      <td>2015.0</td>\n      <td>2019-07-09 09:59:43.000000</td>\n      <td>0.62</td>\n      <td>1.00</td>\n      <td>['france', 'italy']</td>\n      <td>NaN</td>\n      <td>NaN</td>\n      <td>NaN</td>\n      <td>NaN</td>\n      <td>NaN</td>\n    </tr>\n    <tr>\n      <th>2041</th>\n      <td>#AFP Slovenia to send back train from Croatia carrying 150 migrants - AFP: Slovenia to send back train from Cr... http://t.co/zNEN4XLp7h</td>\n      <td>afp slovenia to send back train from croatia carrying 150 migrants afp slovenia to send back train from cr</td>\n      <td>NaN</td>\n      <td>twitter</td>\n      <td>train</td>\n      <td>150.0</td>\n      <td>2019-10-11 17:14:05.000000</td>\n      <td>0.99</td>\n      <td>0.26</td>\n      <td>['slovenia', 'croatia']</td>\n      <td>NaN</td>\n      <td>HR0</td>\n      <td>NaN</td>\n      <td>0101000000151DC9E53F042D402CD49AE61D074740</td>\n      <td>NaN</td>\n    </tr>\n    <tr>\n      <th>253</th>\n      <td>#AUSTRIA #STANDARD #WIEN broadcastetd by #TheIsraelCompany: Kommentar von Michael Völker - Die Flüchtlinge und ihr... http://t.co/MAn0lwR3vI</td>\n      <td>austria standard vienna broadcastetd by theisraelcompany comment by michael völker the refugees and their</td>\n      <td>NaN</td>\n      <td>twitter</td>\n      <td>NaN</td>\n      <td>NaN</td>\n      <td>2019-09-22 16:16:11.000000</td>\n      <td>0.67</td>\n      <td>0.05</td>\n      <td>['austria', 'vienna', 'israel']</td>\n      <td>NaN</td>\n      <td>NaN</td>\n      <td>NaN</td>\n      <td>010100000076711B0DE05D30409A99999999194840</td>\n      <td>NaN</td>\n    </tr>\n    <tr>\n      <th>397</th>\n      <td>#AUSTRIA #STANDARD #WIEN broadcastetd by #TheIsraelCompany: Syrien - Putin schließt Einsatz von Bodentruppen in Sy... http://t.co/LGKZhvK6c2</td>\n      <td>austria standard vienna broadcastetd by theisraelcompany syria putin closes deployment of ground forces in sy</td>\n      <td>NaN</td>\n      <td>twitter</td>\n      <td>NaN</td>\n      <td>NaN</td>\n      <td>2019-10-21 04:15:59.000000</td>\n      <td>0.51</td>\n      <td>0.06</td>\n      <td>['austria', 'vienna', 'israel', 'syria']</td>\n      <td>NaN</td>\n      <td>NaN</td>\n      <td>NaN</td>\n      <td>010100000076711B0DE05D30409A99999999194840</td>\n      <td>NaN</td>\n    </tr>\n    <tr>\n      <th>959</th>\n      <td>#Afrique La longue marche des migrants qui franchissent les Alpes à pied http://t.co/Way1hlrjE9</td>\n      <td>africa the long march of migrants crossing the alps on foot</td>\n      <td>NaN</td>\n      <td>twitter</td>\n      <td>on foot</td>\n      <td>NaN</td>\n      <td>2019-07-24 11:43:36.000000</td>\n      <td>0.55</td>\n      <td>0.49</td>\n      <td>[]</td>\n      <td>NaN</td>\n      <td>NaN</td>\n      <td>NaN</td>\n      <td>NaN</td>\n      <td>NaN</td>\n    </tr>\n  </tbody>\n</table>\n</div>",
          "text/plain": "                                                                                                                                                  text  \\\nuniqueid                                                                                                                                                 \n969       \"En Macédoine, les migrants remplissent les trains pour la Serbie - AFP\" en replay sur Android TV Replay http://t.co/k8LZQkCzNh                \n795       \"Macedonia, ancora frontiere chiuse. I migranti passano dal filo spinato\" - http://t.co/lt7wNeffC7 http://t.co/jvg5cMgDxk                      \n1158      \"More than 130,000 #migrants have attempted to cross the Mediterranean in 2015\"  http://t.co/ZOvpUsTx1d                                        \n2364      \"On Thursday Slovenia reported that 12,000 migrants had arrived in one day - a record in the current crisis in Central Europe.\" - BBC          \n1137      \"With Tel Abyad secured, the Syrian Kurds have managed to forge a corridor between Cezire and Kobani. On Monday,... http://t.co/iJDle1SzwW     \n574       #2015 Франция закрывает границу с Италией http://t.co/O77dBheZKv                                                                               \n2041      #AFP Slovenia to send back train from Croatia carrying 150 migrants - AFP: Slovenia to send back train from Cr... http://t.co/zNEN4XLp7h       \n253       #AUSTRIA #STANDARD #WIEN broadcastetd by #TheIsraelCompany: Kommentar von Michael Völker - Die Flüchtlinge und ihr... http://t.co/MAn0lwR3vI   \n397       #AUSTRIA #STANDARD #WIEN broadcastetd by #TheIsraelCompany: Syrien - Putin schließt Einsatz von Bodentruppen in Sy... http://t.co/LGKZhvK6c2   \n959       #Afrique La longue marche des migrants qui franchissent les Alpes à pied http://t.co/Way1hlrjE9                                                \n\n                                                                                                                         text_translated  \\\nuniqueid                                                                                                                                   \n969       in macedonia migrants fill trains for serbia afp in replay on android tv replay                                                  \n795       macedonia still closed borders migrants pass by barbed wire                                                                      \n1158      more than 130 000 migrants have attempted to cross the mediterranean in 2015                                                     \n2364      on thursday slovenia reported that 12 000 migrants had arrived in one day a record in the current crisis in central europe bbc   \n1137      with tel abyad secured the syrian kurds have managed to forge a corridor between cezire and kobani on monday                     \n574       2015 france closes the border with italy                                                                                         \n2041      afp slovenia to send back train from croatia carrying 150 migrants afp slovenia to send back train from cr                       \n253       austria standard vienna broadcastetd by theisraelcompany comment by michael völker the refugees and their                        \n397       austria standard vienna broadcastetd by theisraelcompany syria putin closes deployment of ground forces in sy                    \n959       africa the long march of migrants crossing the alps on foot                                                                      \n\n                                                       media   source  \\\nuniqueid                                                                \n969       NaN                                                 twitter   \n795       ['http://pbs.twimg.com/media/CNBxOh7WoAAP-zV.jpg']  twitter   \n1158      NaN                                                 twitter   \n2364      NaN                                                 twitter   \n1137      NaN                                                 twitter   \n574       NaN                                                 twitter   \n2041      NaN                                                 twitter   \n253       NaN                                                 twitter   \n397       NaN                                                 twitter   \n959       NaN                                                 twitter   \n\n             mode  num_persons                  _timestamp  confidence  \\\nuniqueid                                                                 \n969       train   NaN           2019-09-12 04:08:04.000000  0.63         \n795       NaN     NaN           2019-09-14 16:50:53.000000  0.81         \n1158      NaN     NaN           2019-07-26 17:47:04.000000  0.53         \n2364      NaN     NaN           2019-11-15 21:14:00.000000  0.93         \n1137      NaN     NaN           2019-07-10 16:24:53.000000  0.71         \n574       NaN      2015.0       2019-07-09 09:59:43.000000  0.62         \n2041      train    150.0        2019-10-11 17:14:05.000000  0.99         \n253       NaN     NaN           2019-09-22 16:16:11.000000  0.67         \n397       NaN     NaN           2019-10-21 04:15:59.000000  0.51         \n959       on foot NaN           2019-07-24 11:43:36.000000  0.55         \n\n          source_reliability                                 locations  \\\nuniqueid                                                                 \n969       0.12                ['macedonia', 'serbia']                    \n795       0.04                ['macedonia']                              \n1158      0.94                []                                         \n2364      0.23                ['slovenia']                               \n1137      0.24                ['syria']                                  \n574       1.00                ['france', 'italy']                        \n2041      0.26                ['slovenia', 'croatia']                    \n253       0.05                ['austria', 'vienna', 'israel']            \n397       0.06                ['austria', 'vienna', 'israel', 'syria']   \n959       0.49                []                                         \n\n          origin_bool origin destination  \\\nuniqueid                                   \n969      NaN           NaN    NaN          \n795      NaN           NaN    NaN          \n1158     NaN           NaN    NaN          \n2364     NaN           NaN    NaN          \n1137     NaN           NaN    NaN          \n574      NaN           NaN    NaN          \n2041     NaN           HR0    NaN          \n253      NaN           NaN    NaN          \n397      NaN           NaN    NaN          \n959      NaN           NaN    NaN          \n\n                                          geom_tweet  triage_status  \nuniqueid                                                             \n969       0101000000575BB1BFEC6E35400000000000004540 NaN             \n795       0101000000575BB1BFEC6E35400000000000004540 NaN             \n1158      NaN                                        NaN             \n2364      0101000000151DC9E53F042D402CD49AE61D074740 NaN             \n1137      0101000000E8D9ACFA5C254240EFC9C342ADC14040 NaN             \n574       NaN                                        NaN             \n2041      0101000000151DC9E53F042D402CD49AE61D074740 NaN             \n253       010100000076711B0DE05D30409A99999999194840 NaN             \n397       010100000076711B0DE05D30409A99999999194840 NaN             \n959       NaN                                        NaN             "
         },
         "metadata": {},
         "output_type": "display_data"
        }
       ]
      }
     },
     "61558392f6f64e7c9ace02980f4e467b": {
      "model_module": "@jupyter-widgets/controls",
      "model_module_version": "1.5.0",
      "model_name": "DescriptionStyleModel",
      "state": {
       "_model_module_version": "1.5.0",
       "_view_module_version": "1.2.0",
       "description_width": ""
      }
     },
     "61e66db283fb4028b95a2da7b77c0d47": {
      "model_module": "@jupyter-widgets/base",
      "model_module_version": "1.2.0",
      "model_name": "LayoutModel",
      "state": {
       "_model_module_version": "1.2.0",
       "_view_module_version": "1.2.0",
       "grid_template_areas": "\"top-left top-right\"\n\"top-left top-right\"",
       "grid_template_columns": "1fr 1fr",
       "grid_template_rows": "1fr 1fr",
       "justify_items": null,
       "object_fit": null,
       "object_position": null
      }
     },
     "62bca1995b0641fe9792a53f6faa37dd": {
      "model_module": "@jupyter-widgets/base",
      "model_module_version": "1.2.0",
      "model_name": "LayoutModel",
      "state": {
       "_model_module_version": "1.2.0",
       "_view_module_version": "1.2.0",
       "grid_area": "top-right",
       "justify_items": null,
       "object_fit": null,
       "object_position": null
      }
     },
     "62df0e0dbda34f8d8fb9823b56900d27": {
      "model_module": "@jupyter-widgets/controls",
      "model_module_version": "1.5.0",
      "model_name": "ButtonStyleModel",
      "state": {
       "_model_module_version": "1.5.0",
       "_view_module_version": "1.2.0"
      }
     },
     "632db8ec5f66439faad6c168ebb92c95": {
      "model_module": "@jupyter-widgets/controls",
      "model_module_version": "1.5.0",
      "model_name": "DropdownModel",
      "state": {
       "_model_module_version": "1.5.0",
       "_options_labels": [
        "text",
        "text_translated",
        "media",
        "source",
        "mode",
        "num_persons",
        "_timestamp",
        "confidence",
        "source_reliability",
        "locations",
        "origin_bool",
        "origin",
        "destination",
        "geom_tweet",
        "triage_status"
       ],
       "_view_module_version": "1.5.0",
       "index": 0,
       "layout": "IPY_MODEL_96872d046ffe4f5795a15695afb19dc4",
       "style": "IPY_MODEL_bfa3c4cfb7b84a9c82e0d110f7d0fa01"
      }
     },
     "63d9286c74724af283fd6749ad0ed4be": {
      "model_module": "@jupyter-widgets/controls",
      "model_module_version": "1.5.0",
      "model_name": "DropdownModel",
      "state": {
       "_model_module_version": "1.5.0",
       "_options_labels": [
        "text",
        "text_translated",
        "media",
        "source",
        "mode",
        "num_persons",
        "_timestamp",
        "confidence",
        "source_reliability",
        "locations",
        "origin_bool",
        "origin",
        "destination",
        "geom_tweet",
        "triage_status"
       ],
       "_view_module_version": "1.5.0",
       "description": "order by",
       "index": 0,
       "layout": "IPY_MODEL_d7f7b3e9d33348ebb1e7c06ff5a59186",
       "style": "IPY_MODEL_ec5179090f0647d5aca9171836a61aee"
      }
     },
     "647fc759700b4c99a84f80d829f76dfa": {
      "model_module": "@jupyter-widgets/base",
      "model_module_version": "1.2.0",
      "model_name": "LayoutModel",
      "state": {
       "_model_module_version": "1.2.0",
       "_view_module_version": "1.2.0",
       "justify_items": null,
       "object_fit": null,
       "object_position": null,
       "width": "30px"
      }
     },
     "64cf33bb441442bfa98e049b06e1c085": {
      "model_module": "@jupyter-widgets/base",
      "model_module_version": "1.2.0",
      "model_name": "LayoutModel",
      "state": {
       "_model_module_version": "1.2.0",
       "_view_module_version": "1.2.0",
       "justify_items": null,
       "object_fit": null,
       "object_position": null
      }
     },
     "64d2ff72ee4649cc90342dd7f742cfd3": {
      "model_module": "@jupyter-widgets/base",
      "model_module_version": "1.2.0",
      "model_name": "LayoutModel",
      "state": {
       "_model_module_version": "1.2.0",
       "_view_module_version": "1.2.0",
       "justify_items": null,
       "object_fit": null,
       "object_position": null
      }
     },
     "64f0cdfee56a46b09578116a50ec5ffb": {
      "model_module": "@jupyter-widgets/base",
      "model_module_version": "1.2.0",
      "model_name": "LayoutModel",
      "state": {
       "_model_module_version": "1.2.0",
       "_view_module_version": "1.2.0",
       "justify_items": null,
       "object_fit": null,
       "object_position": null
      }
     },
     "653b530e1788436997d90cd4b67458a4": {
      "model_module": "@jupyter-widgets/base",
      "model_module_version": "1.2.0",
      "model_name": "LayoutModel",
      "state": {
       "_model_module_version": "1.2.0",
       "_view_module_version": "1.2.0",
       "justify_items": null,
       "object_fit": null,
       "object_position": null
      }
     },
     "6570646a225e4e4eb5fb8340b16c2533": {
      "model_module": "@jupyter-widgets/controls",
      "model_module_version": "1.5.0",
      "model_name": "DescriptionStyleModel",
      "state": {
       "_model_module_version": "1.5.0",
       "_view_module_version": "1.2.0",
       "description_width": ""
      }
     },
     "668c5342f3504a87b6b47f50303c960a": {
      "model_module": "@jupyter-widgets/controls",
      "model_module_version": "1.5.0",
      "model_name": "HTMLModel",
      "state": {
       "_model_module_version": "1.5.0",
       "_view_module_version": "1.5.0",
       "layout": "IPY_MODEL_37faf93d1c9d43ccae7c82f4a4276417",
       "style": "IPY_MODEL_61558392f6f64e7c9ace02980f4e467b",
       "value": "Deselect with ctrl + click"
      }
     },
     "67d1496c9c194f658d876ceb1d4d83b6": {
      "model_module": "@jupyter-widgets/controls",
      "model_module_version": "1.5.0",
      "model_name": "ButtonModel",
      "state": {
       "_model_module_version": "1.5.0",
       "_view_module_version": "1.5.0",
       "icon": "chevron-left",
       "layout": "IPY_MODEL_6e38f45c60dc4a34a5754896939acdb6",
       "style": "IPY_MODEL_4007f8ac8e614885a79d04108138d08a"
      }
     },
     "6848f8162cb9498a926ea68ed66fce74": {
      "model_module": "@jupyter-widgets/base",
      "model_module_version": "1.2.0",
      "model_name": "LayoutModel",
      "state": {
       "_model_module_version": "1.2.0",
       "_view_module_version": "1.2.0",
       "justify_items": null,
       "object_fit": null,
       "object_position": null,
       "width": "30px"
      }
     },
     "6864884fa0674b199b9235d867464e8c": {
      "model_module": "@jupyter-widgets/controls",
      "model_module_version": "1.5.0",
      "model_name": "DescriptionStyleModel",
      "state": {
       "_model_module_version": "1.5.0",
       "_view_module_version": "1.2.0",
       "description_width": ""
      }
     },
     "68a7558030e1459abee765a93219a2ed": {
      "model_module": "@jupyter-widgets/controls",
      "model_module_version": "1.5.0",
      "model_name": "TextModel",
      "state": {
       "_model_module_version": "1.5.0",
       "_view_module_version": "1.5.0",
       "layout": "IPY_MODEL_64f0cdfee56a46b09578116a50ec5ffb",
       "style": "IPY_MODEL_cb0b9ef86baf4b55bdbf392610b72827",
       "value": "filtered_data.csv"
      }
     },
     "69328200467b43749e8f0b1ee9ec8f1e": {
      "model_module": "@jupyter-widgets/controls",
      "model_module_version": "1.5.0",
      "model_name": "SliderStyleModel",
      "state": {
       "_model_module_version": "1.5.0",
       "_view_module_version": "1.2.0",
       "description_width": ""
      }
     },
     "69632c45dbdb43f99299d83270d87fef": {
      "model_module": "@jupyter-widgets/base",
      "model_module_version": "1.2.0",
      "model_name": "LayoutModel",
      "state": {
       "_model_module_version": "1.2.0",
       "_view_module_version": "1.2.0",
       "justify_items": null,
       "object_fit": null,
       "object_position": null
      }
     },
     "69732483b68a4619bea3f12060ee9b01": {
      "model_module": "@jupyter-widgets/controls",
      "model_module_version": "1.5.0",
      "model_name": "HBoxModel",
      "state": {
       "_model_module_version": "1.5.0",
       "_view_module_version": "1.5.0",
       "children": [
        "IPY_MODEL_ec0e055c901049d1ba0a86ee0fec32e4",
        "IPY_MODEL_4df0d163e459427a80250d8287b51dc0",
        "IPY_MODEL_0dad58b1412f45e88dfd11d70da72ee6",
        "IPY_MODEL_b004735d32344803a942e44952c99509",
        "IPY_MODEL_252c76acb36547fcad2bd2b89811be99"
       ],
       "layout": "IPY_MODEL_a87c1d97b8f9461d84cc04a3858ea9ea"
      }
     },
     "697ebb50c13f4c12a42ae7e626fe7510": {
      "model_module": "@jupyter-widgets/controls",
      "model_module_version": "1.5.0",
      "model_name": "ButtonModel",
      "state": {
       "_model_module_version": "1.5.0",
       "_view_module_version": "1.5.0",
       "description": "save",
       "layout": "IPY_MODEL_7d796e9331904b86854fe17ebd6296c9",
       "style": "IPY_MODEL_3e7159ee90c949aaa347c44d9a061939"
      }
     },
     "69d6aee135a742d5bbce6560a09372f3": {
      "model_module": "@jupyter-widgets/controls",
      "model_module_version": "1.5.0",
      "model_name": "DropdownModel",
      "state": {
       "_model_module_version": "1.5.0",
       "_options_labels": [
        "text",
        "text_translated",
        "media",
        "source",
        "mode",
        "num_persons",
        "_timestamp",
        "confidence",
        "source_reliability",
        "locations",
        "origin_bool",
        "origin",
        "destination",
        "geom_tweet",
        "triage_status"
       ],
       "_view_module_version": "1.5.0",
       "description": "order by",
       "index": 0,
       "layout": "IPY_MODEL_85a628f1d58042ec9d9e37c7bc7ce8eb",
       "style": "IPY_MODEL_bf3021a1dfcb407996389759adaa5caa"
      }
     },
     "69d8d8bbbadf4111a57f1909652407fb": {
      "model_module": "@jupyter-widgets/base",
      "model_module_version": "1.2.0",
      "model_name": "LayoutModel",
      "state": {
       "_model_module_version": "1.2.0",
       "_view_module_version": "1.2.0",
       "justify_items": null,
       "object_fit": null,
       "object_position": null
      }
     },
     "6bad6029dad44d9780070a9355ac00f1": {
      "model_module": "@jupyter-widgets/base",
      "model_module_version": "1.2.0",
      "model_name": "LayoutModel",
      "state": {
       "_model_module_version": "1.2.0",
       "_view_module_version": "1.2.0",
       "justify_items": null,
       "object_fit": null,
       "object_position": null
      }
     },
     "6ce14665dfe54148a2e2c6bfa5d919f0": {
      "model_module": "@jupyter-widgets/controls",
      "model_module_version": "1.5.0",
      "model_name": "DescriptionStyleModel",
      "state": {
       "_model_module_version": "1.5.0",
       "_view_module_version": "1.2.0",
       "description_width": ""
      }
     },
     "6e38f45c60dc4a34a5754896939acdb6": {
      "model_module": "@jupyter-widgets/base",
      "model_module_version": "1.2.0",
      "model_name": "LayoutModel",
      "state": {
       "_model_module_version": "1.2.0",
       "_view_module_version": "1.2.0",
       "justify_items": null,
       "object_fit": null,
       "object_position": null,
       "width": "30px"
      }
     },
     "6eec89d54d4942f28c361a9737220c21": {
      "model_module": "@jupyter-widgets/controls",
      "model_module_version": "1.5.0",
      "model_name": "HBoxModel",
      "state": {
       "_model_module_version": "1.5.0",
       "_view_module_version": "1.5.0",
       "children": [
        "IPY_MODEL_9de46cdb8443415dbfe358d886dfbc73",
        "IPY_MODEL_697ebb50c13f4c12a42ae7e626fe7510",
        "IPY_MODEL_fea45a9a5d5a4e74a9157c7fd0ddddc7"
       ],
       "layout": "IPY_MODEL_547216cc45414b0f9ef89b2f48abb2f5"
      }
     },
     "6f79578331564be7af093831ba22a16b": {
      "model_module": "@jupyter-widgets/base",
      "model_module_version": "1.2.0",
      "model_name": "LayoutModel",
      "state": {
       "_model_module_version": "1.2.0",
       "_view_module_version": "1.2.0",
       "justify_items": null,
       "object_fit": null,
       "object_position": null
      }
     },
     "6f97dc03f1d746b5b4cecbe3796af27a": {
      "model_module": "@jupyter-widgets/base",
      "model_module_version": "1.2.0",
      "model_name": "LayoutModel",
      "state": {
       "_model_module_version": "1.2.0",
       "_view_module_version": "1.2.0",
       "justify_items": null,
       "object_fit": null,
       "object_position": null,
       "width": "20%"
      }
     },
     "6fab1a96c52e4313927689829a889299": {
      "model_module": "@jupyter-widgets/base",
      "model_module_version": "1.2.0",
      "model_name": "LayoutModel",
      "state": {
       "_model_module_version": "1.2.0",
       "_view_module_version": "1.2.0",
       "justify_items": null,
       "object_fit": null,
       "object_position": null
      }
     },
     "6fc5140598814c8d9ff9dd04a8f98164": {
      "model_module": "@jupyter-widgets/base",
      "model_module_version": "1.2.0",
      "model_name": "LayoutModel",
      "state": {
       "_model_module_version": "1.2.0",
       "_view_module_version": "1.2.0",
       "justify_items": null,
       "object_fit": null,
       "object_position": null
      }
     },
     "70d7b6a53e6141489e700a55bccf19f4": {
      "model_module": "@jupyter-widgets/base",
      "model_module_version": "1.2.0",
      "model_name": "LayoutModel",
      "state": {
       "_model_module_version": "1.2.0",
       "_view_module_version": "1.2.0",
       "justify_items": null,
       "object_fit": null,
       "object_position": null
      }
     },
     "71ade32e3931455495ce6c61ab4e171f": {
      "model_module": "@jupyter-widgets/controls",
      "model_module_version": "1.5.0",
      "model_name": "LabelModel",
      "state": {
       "_model_module_version": "1.5.0",
       "_view_module_version": "1.5.0",
       "layout": "IPY_MODEL_32719dd9e11648dba91771600a788675",
       "style": "IPY_MODEL_d386b6f3e19e46e88f61118efa947f28",
       "value": "of 266 pages with "
      }
     },
     "71c774b42b934284a4afbc1eaa6265ed": {
      "model_module": "@jupyter-widgets/output",
      "model_module_version": "1.0.0",
      "model_name": "OutputModel",
      "state": {
       "layout": "IPY_MODEL_2ed719c31f3c4970a58939b672162f31",
       "outputs": [
        {
         "data": {
          "text/html": "<div>\n<style scoped>\n    .dataframe tbody tr th:only-of-type {\n        vertical-align: middle;\n    }\n\n    .dataframe tbody tr th {\n        vertical-align: top;\n    }\n\n    .dataframe thead th {\n        text-align: right;\n    }\n</style>\n<table border=\"1\" class=\"dataframe\">\n  <thead>\n    <tr style=\"text-align: right;\">\n      <th></th>\n      <th>text</th>\n      <th>text_translated</th>\n      <th>media</th>\n      <th>source</th>\n      <th>mode</th>\n      <th>num_persons</th>\n      <th>_timestamp</th>\n      <th>confidence</th>\n      <th>source_reliability</th>\n      <th>locations</th>\n      <th>origin_bool</th>\n      <th>origin</th>\n      <th>destination</th>\n      <th>geom_tweet</th>\n      <th>triage_status</th>\n    </tr>\n    <tr>\n      <th>uniqueid</th>\n      <th></th>\n      <th></th>\n      <th></th>\n      <th></th>\n      <th></th>\n      <th></th>\n      <th></th>\n      <th></th>\n      <th></th>\n      <th></th>\n      <th></th>\n      <th></th>\n      <th></th>\n      <th></th>\n      <th></th>\n    </tr>\n  </thead>\n  <tbody>\n    <tr>\n      <th>1772</th>\n      <td>\"@JarretHaisley: Refugee crisis: Aboard the hope bus as refugees head to Austria http://t.co/8qfk2r5SrV\"</td>\n      <td>refugee crisis aboard the hope bus as refugees head to austria</td>\n      <td>None</td>\n      <td>twitter</td>\n      <td>bus</td>\n      <td>NaN</td>\n      <td>2019-09-29 09:08:05</td>\n      <td>0.59</td>\n      <td>1.00</td>\n      <td>['austria']</td>\n      <td>None</td>\n      <td>None</td>\n      <td>None</td>\n      <td>010100000076711B0DE05D30409A99999999194840</td>\n      <td>None</td>\n    </tr>\n    <tr>\n      <th>996</th>\n      <td>\"Allemagne: nombre record de 2.200 migrants arrivés dans le sud - AFP\" en replay sur Android TV Replay http://t.co/k8LZQkCzNh</td>\n      <td>germany record number of 2 200 migrants arrived in the south afp in replay on android tv replay</td>\n      <td>None</td>\n      <td>twitter</td>\n      <td>None</td>\n      <td>NaN</td>\n      <td>2019-09-25 04:44:59</td>\n      <td>0.74</td>\n      <td>0.85</td>\n      <td>['germany']</td>\n      <td>None</td>\n      <td>None</td>\n      <td>None</td>\n      <td>0101000000151DC9E53FC42A40EEEBC03923424A40</td>\n      <td>None</td>\n    </tr>\n    <tr>\n      <th>969</th>\n      <td>\"En Macédoine, les migrants remplissent les trains pour la Serbie - AFP\" en replay sur Android TV Replay http://t.co/k8LZQkCzNh</td>\n      <td>in macedonia migrants fill trains for serbia afp in replay on android tv replay</td>\n      <td>None</td>\n      <td>twitter</td>\n      <td>train</td>\n      <td>NaN</td>\n      <td>2019-09-12 04:08:04</td>\n      <td>0.63</td>\n      <td>0.12</td>\n      <td>['macedonia', 'serbia']</td>\n      <td>None</td>\n      <td>None</td>\n      <td>None</td>\n      <td>0101000000575BB1BFEC6E35400000000000004540</td>\n      <td>None</td>\n    </tr>\n    <tr>\n      <th>482</th>\n      <td>\"Fast 30.000 #Flüchtlinge sind seit vergangenem Freitag auf den griechischen Inseln eingetroffen\" -#Merkel Einladung</td>\n      <td>nearly 30 000 refugees have arrived on the greek islands since last friday merkel invitation</td>\n      <td>None</td>\n      <td>twitter</td>\n      <td>None</td>\n      <td>NaN</td>\n      <td>2019-11-12 18:50:48</td>\n      <td>0.78</td>\n      <td>0.66</td>\n      <td>['island']</td>\n      <td>None</td>\n      <td>None</td>\n      <td>None</td>\n      <td>None</td>\n      <td>None</td>\n    </tr>\n    <tr>\n      <th>795</th>\n      <td>\"Macedonia, ancora frontiere chiuse. I migranti passano dal filo spinato\" - http://t.co/lt7wNeffC7 http://t.co/jvg5cMgDxk</td>\n      <td>macedonia still closed borders migrants pass by barbed wire</td>\n      <td>['http://pbs.twimg.com/media/CNBxOh7WoAAP-zV.jpg']</td>\n      <td>twitter</td>\n      <td>None</td>\n      <td>NaN</td>\n      <td>2019-09-14 16:50:53</td>\n      <td>0.81</td>\n      <td>0.04</td>\n      <td>['macedonia']</td>\n      <td>None</td>\n      <td>None</td>\n      <td>None</td>\n      <td>0101000000575BB1BFEC6E35400000000000004540</td>\n      <td>None</td>\n    </tr>\n    <tr>\n      <th>1796</th>\n      <td>\"Migrants leave Budapest rail station for Vienna on foot \" - http://t.co/gr1NdHQQ6j</td>\n      <td>migrants leave budapest rail station for vienna on foot</td>\n      <td>None</td>\n      <td>twitter</td>\n      <td>on foot</td>\n      <td>NaN</td>\n      <td>2019-09-29 16:38:58</td>\n      <td>0.95</td>\n      <td>0.67</td>\n      <td>['budapest', 'vienna']</td>\n      <td>None</td>\n      <td>AT13</td>\n      <td>None</td>\n      <td>0101000000B003E78C280D3340D7A3703D0ABF4740</td>\n      <td>None</td>\n    </tr>\n    <tr>\n      <th>2134</th>\n      <td>\"Migrants' Main Rail Route to Germany From Austria to Remain Closed\" by REUTERS via NYT http://t.co/1UBjElRWrV</td>\n      <td>migrants main rail route to germany from austria to remain closed by reuters via nyt</td>\n      <td>None</td>\n      <td>twitter</td>\n      <td>None</td>\n      <td>NaN</td>\n      <td>2019-10-15 10:51:09</td>\n      <td>0.90</td>\n      <td>0.30</td>\n      <td>['germany', 'austria']</td>\n      <td>None</td>\n      <td>AT</td>\n      <td>DE</td>\n      <td>0101000000151DC9E53FC42A40EEEBC03923424A40</td>\n      <td>None</td>\n    </tr>\n    <tr>\n      <th>1158</th>\n      <td>\"More than 130,000 #migrants have attempted to cross the Mediterranean in 2015\"  http://t.co/ZOvpUsTx1d</td>\n      <td>more than 130 000 migrants have attempted to cross the mediterranean in 2015</td>\n      <td>None</td>\n      <td>twitter</td>\n      <td>None</td>\n      <td>NaN</td>\n      <td>2019-07-26 17:47:04</td>\n      <td>0.53</td>\n      <td>0.94</td>\n      <td>[]</td>\n      <td>None</td>\n      <td>None</td>\n      <td>None</td>\n      <td>None</td>\n      <td>None</td>\n    </tr>\n    <tr>\n      <th>2364</th>\n      <td>\"On Thursday Slovenia reported that 12,000 migrants had arrived in one day - a record in the current crisis in Central Europe.\" - BBC</td>\n      <td>on thursday slovenia reported that 12 000 migrants had arrived in one day a record in the current crisis in central europe bbc</td>\n      <td>None</td>\n      <td>twitter</td>\n      <td>None</td>\n      <td>NaN</td>\n      <td>2019-11-15 21:14:00</td>\n      <td>0.93</td>\n      <td>0.23</td>\n      <td>['slovenia']</td>\n      <td>None</td>\n      <td>None</td>\n      <td>None</td>\n      <td>0101000000151DC9E53F042D402CD49AE61D074740</td>\n      <td>None</td>\n    </tr>\n    <tr>\n      <th>1137</th>\n      <td>\"With Tel Abyad secured, the Syrian Kurds have managed to forge a corridor between Cezire and Kobani. On Monday,... http://t.co/iJDle1SzwW</td>\n      <td>with tel abyad secured the syrian kurds have managed to forge a corridor between cezire and kobani on monday</td>\n      <td>None</td>\n      <td>twitter</td>\n      <td>None</td>\n      <td>NaN</td>\n      <td>2019-07-10 16:24:53</td>\n      <td>0.71</td>\n      <td>0.24</td>\n      <td>['syria']</td>\n      <td>None</td>\n      <td>None</td>\n      <td>None</td>\n      <td>0101000000E8D9ACFA5C254240EFC9C342ADC14040</td>\n      <td>None</td>\n    </tr>\n  </tbody>\n</table>\n</div>",
          "text/plain": "                                                                                                                                                text  \\\nuniqueid                                                                                                                                               \n1772      \"@JarretHaisley: Refugee crisis: Aboard the hope bus as refugees head to Austria http://t.co/8qfk2r5SrV\"                                     \n996       \"Allemagne: nombre record de 2.200 migrants arrivés dans le sud - AFP\" en replay sur Android TV Replay http://t.co/k8LZQkCzNh                \n969       \"En Macédoine, les migrants remplissent les trains pour la Serbie - AFP\" en replay sur Android TV Replay http://t.co/k8LZQkCzNh              \n482       \"Fast 30.000 #Flüchtlinge sind seit vergangenem Freitag auf den griechischen Inseln eingetroffen\" -#Merkel Einladung                         \n795       \"Macedonia, ancora frontiere chiuse. I migranti passano dal filo spinato\" - http://t.co/lt7wNeffC7 http://t.co/jvg5cMgDxk                    \n1796      \"Migrants leave Budapest rail station for Vienna on foot \" - http://t.co/gr1NdHQQ6j                                                          \n2134      \"Migrants' Main Rail Route to Germany From Austria to Remain Closed\" by REUTERS via NYT http://t.co/1UBjElRWrV                               \n1158      \"More than 130,000 #migrants have attempted to cross the Mediterranean in 2015\"  http://t.co/ZOvpUsTx1d                                      \n2364      \"On Thursday Slovenia reported that 12,000 migrants had arrived in one day - a record in the current crisis in Central Europe.\" - BBC        \n1137      \"With Tel Abyad secured, the Syrian Kurds have managed to forge a corridor between Cezire and Kobani. On Monday,... http://t.co/iJDle1SzwW   \n\n                                                                                                                         text_translated  \\\nuniqueid                                                                                                                                   \n1772      refugee crisis aboard the hope bus as refugees head to austria                                                                   \n996       germany record number of 2 200 migrants arrived in the south afp in replay on android tv replay                                  \n969       in macedonia migrants fill trains for serbia afp in replay on android tv replay                                                  \n482       nearly 30 000 refugees have arrived on the greek islands since last friday merkel invitation                                     \n795       macedonia still closed borders migrants pass by barbed wire                                                                      \n1796      migrants leave budapest rail station for vienna on foot                                                                          \n2134      migrants main rail route to germany from austria to remain closed by reuters via nyt                                             \n1158      more than 130 000 migrants have attempted to cross the mediterranean in 2015                                                     \n2364      on thursday slovenia reported that 12 000 migrants had arrived in one day a record in the current crisis in central europe bbc   \n1137      with tel abyad secured the syrian kurds have managed to forge a corridor between cezire and kobani on monday                     \n\n                                                       media   source  \\\nuniqueid                                                                \n1772      None                                                twitter   \n996       None                                                twitter   \n969       None                                                twitter   \n482       None                                                twitter   \n795       ['http://pbs.twimg.com/media/CNBxOh7WoAAP-zV.jpg']  twitter   \n1796      None                                                twitter   \n2134      None                                                twitter   \n1158      None                                                twitter   \n2364      None                                                twitter   \n1137      None                                                twitter   \n\n             mode  num_persons          _timestamp  confidence  \\\nuniqueid                                                         \n1772      bus     NaN          2019-09-29 09:08:05  0.59         \n996       None    NaN          2019-09-25 04:44:59  0.74         \n969       train   NaN          2019-09-12 04:08:04  0.63         \n482       None    NaN          2019-11-12 18:50:48  0.78         \n795       None    NaN          2019-09-14 16:50:53  0.81         \n1796      on foot NaN          2019-09-29 16:38:58  0.95         \n2134      None    NaN          2019-10-15 10:51:09  0.90         \n1158      None    NaN          2019-07-26 17:47:04  0.53         \n2364      None    NaN          2019-11-15 21:14:00  0.93         \n1137      None    NaN          2019-07-10 16:24:53  0.71         \n\n          source_reliability                locations origin_bool origin  \\\nuniqueid                                                                   \n1772      1.00                ['austria']              None        None    \n996       0.85                ['germany']              None        None    \n969       0.12                ['macedonia', 'serbia']  None        None    \n482       0.66                ['island']               None        None    \n795       0.04                ['macedonia']            None        None    \n1796      0.67                ['budapest', 'vienna']   None        AT13    \n2134      0.30                ['germany', 'austria']   None        AT      \n1158      0.94                []                       None        None    \n2364      0.23                ['slovenia']             None        None    \n1137      0.24                ['syria']                None        None    \n\n         destination                                  geom_tweet triage_status  \nuniqueid                                                                        \n1772      None        010100000076711B0DE05D30409A99999999194840  None          \n996       None        0101000000151DC9E53FC42A40EEEBC03923424A40  None          \n969       None        0101000000575BB1BFEC6E35400000000000004540  None          \n482       None        None                                        None          \n795       None        0101000000575BB1BFEC6E35400000000000004540  None          \n1796      None        0101000000B003E78C280D3340D7A3703D0ABF4740  None          \n2134      DE          0101000000151DC9E53FC42A40EEEBC03923424A40  None          \n1158      None        None                                        None          \n2364      None        0101000000151DC9E53F042D402CD49AE61D074740  None          \n1137      None        0101000000E8D9ACFA5C254240EFC9C342ADC14040  None          "
         },
         "metadata": {},
         "output_type": "display_data"
        }
       ]
      }
     },
     "723e7fe9d2f143ff943551c0c3c5bbbe": {
      "model_module": "@jupyter-widgets/output",
      "model_module_version": "1.0.0",
      "model_name": "OutputModel",
      "state": {
       "layout": "IPY_MODEL_542183bc0f634904babf90d757341db7",
       "outputs": [
        {
         "data": {
          "image/png": "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\n",
          "text/plain": "<Figure size 432x288 with 1 Axes>"
         },
         "metadata": {
          "needs_background": "light"
         },
         "output_type": "display_data"
        }
       ]
      }
     },
     "72b7641bf3ab48f7b3617777bc92ec8b": {
      "model_module": "@jupyter-widgets/controls",
      "model_module_version": "1.5.0",
      "model_name": "DescriptionStyleModel",
      "state": {
       "_model_module_version": "1.5.0",
       "_view_module_version": "1.2.0",
       "description_width": ""
      }
     },
     "72fab2f96d3946dbbc342c0019f10d46": {
      "model_module": "@jupyter-widgets/base",
      "model_module_version": "1.2.0",
      "model_name": "LayoutModel",
      "state": {
       "_model_module_version": "1.2.0",
       "_view_module_version": "1.2.0",
       "justify_items": null,
       "object_fit": null,
       "object_position": null
      }
     },
     "7432b7967c174180a3ae22bb40950947": {
      "model_module": "@jupyter-widgets/output",
      "model_module_version": "1.0.0",
      "model_name": "OutputModel",
      "state": {
       "layout": "IPY_MODEL_bde8b002da644d12a6a4f50242da8080",
       "outputs": [
        {
         "data": {
          "image/png": "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\n",
          "text/plain": "<Figure size 432x288 with 1 Axes>"
         },
         "metadata": {
          "needs_background": "light"
         },
         "output_type": "display_data"
        }
       ]
      }
     },
     "74a1e1ffe7dc4078b3cef0f3548ae14e": {
      "model_module": "@jupyter-widgets/base",
      "model_module_version": "1.2.0",
      "model_name": "LayoutModel",
      "state": {
       "_model_module_version": "1.2.0",
       "_view_module_version": "1.2.0",
       "justify_items": null,
       "object_fit": null,
       "object_position": null
      }
     },
     "7505752206c347f28af8b9e3f2cbad5b": {
      "model_module": "@jupyter-widgets/controls",
      "model_module_version": "1.5.0",
      "model_name": "DescriptionStyleModel",
      "state": {
       "_model_module_version": "1.5.0",
       "_view_module_version": "1.2.0",
       "description_width": ""
      }
     },
     "753afc3ab00c4903b84d4522183be58f": {
      "model_module": "@jupyter-widgets/controls",
      "model_module_version": "1.5.0",
      "model_name": "DropdownModel",
      "state": {
       "_model_module_version": "1.5.0",
       "_options_labels": [
        "10",
        "20",
        "50"
       ],
       "_view_module_version": "1.5.0",
       "description": "items per page",
       "index": 0,
       "layout": "IPY_MODEL_a961d2d3d958430fa985e813064c9b0c",
       "style": "IPY_MODEL_eda29e0fdce84bd68a68fe86666107f8"
      }
     },
     "75405aa6027f4565990068a695e8369e": {
      "model_module": "@jupyter-widgets/controls",
      "model_module_version": "1.5.0",
      "model_name": "DescriptionStyleModel",
      "state": {
       "_model_module_version": "1.5.0",
       "_view_module_version": "1.2.0",
       "description_width": ""
      }
     },
     "762cb34fe4a6426f87cc7858adc5854e": {
      "model_module": "@jupyter-widgets/base",
      "model_module_version": "1.2.0",
      "model_name": "LayoutModel",
      "state": {
       "_model_module_version": "1.2.0",
       "_view_module_version": "1.2.0",
       "height": "50px",
       "justify_items": null,
       "object_fit": null,
       "object_position": null
      }
     },
     "771cf100ef494d54b5c9a1a8e1167902": {
      "model_module": "@jupyter-widgets/base",
      "model_module_version": "1.2.0",
      "model_name": "LayoutModel",
      "state": {
       "_model_module_version": "1.2.0",
       "_view_module_version": "1.2.0",
       "justify_items": null,
       "object_fit": null,
       "object_position": null
      }
     },
     "77d3a20ddf4e4552936d159d6937e52b": {
      "model_module": "@jupyter-widgets/controls",
      "model_module_version": "1.5.0",
      "model_name": "VBoxModel",
      "state": {
       "_model_module_version": "1.5.0",
       "_view_module_version": "1.5.0",
       "children": [
        "IPY_MODEL_27b50264cae14f88b4f76cfd76e98258",
        "IPY_MODEL_4677080be81f4d7498111ca2165751fe",
        "IPY_MODEL_fa81e538c193433fb664b524757e12ee"
       ],
       "layout": "IPY_MODEL_62bca1995b0641fe9792a53f6faa37dd"
      }
     },
     "78c7717734f14ba29b71c415c975fb6b": {
      "model_module": "@jupyter-widgets/controls",
      "model_module_version": "1.5.0",
      "model_name": "VBoxModel",
      "state": {
       "_model_module_version": "1.5.0",
       "_view_module_version": "1.5.0",
       "children": [
        "IPY_MODEL_e3997a001898431e97919bbf4734699c",
        "IPY_MODEL_632db8ec5f66439faad6c168ebb92c95",
        "IPY_MODEL_2405de7c93f449ad9ed02caaaef18034"
       ],
       "layout": "IPY_MODEL_fa05f525be7f4bdfbc2c6efedcb05865"
      }
     },
     "794cd3c7b9614dae9e72c3d7c42f5e12": {
      "model_module": "@jupyter-widgets/controls",
      "model_module_version": "1.5.0",
      "model_name": "LabelModel",
      "state": {
       "_model_module_version": "1.5.0",
       "_view_module_version": "1.5.0",
       "layout": "IPY_MODEL_4067363439ca436187d3b4cc04268451",
       "style": "IPY_MODEL_5e274ee9e777471ab57be79a81dc4f22",
       "value": "Plot Columns"
      }
     },
     "7ae0b0aa577b463c84c3747b838d2495": {
      "model_module": "@jupyter-widgets/base",
      "model_module_version": "1.2.0",
      "model_name": "LayoutModel",
      "state": {
       "_model_module_version": "1.2.0",
       "_view_module_version": "1.2.0",
       "justify_items": null,
       "object_fit": null,
       "object_position": null
      }
     },
     "7be120eb779e4d85bd0064c6cff0d13d": {
      "model_module": "@jupyter-widgets/controls",
      "model_module_version": "1.5.0",
      "model_name": "VBoxModel",
      "state": {
       "_model_module_version": "1.5.0",
       "_view_module_version": "1.5.0",
       "children": [
        "IPY_MODEL_d66b5cfb76a645988eb1c97fac5eb067",
        "IPY_MODEL_b783034fa2b54d4a9cf4f6e34b91dc7f"
       ],
       "layout": "IPY_MODEL_70d7b6a53e6141489e700a55bccf19f4"
      }
     },
     "7c3aac02c2d643b68dc0f880ce9cb559": {
      "model_module": "@jupyter-widgets/base",
      "model_module_version": "1.2.0",
      "model_name": "LayoutModel",
      "state": {
       "_model_module_version": "1.2.0",
       "_view_module_version": "1.2.0",
       "justify_items": null,
       "object_fit": null,
       "object_position": null
      }
     },
     "7c48857aafe84ac491a9882016d020d1": {
      "model_module": "@jupyter-widgets/base",
      "model_module_version": "1.2.0",
      "model_name": "LayoutModel",
      "state": {
       "_model_module_version": "1.2.0",
       "_view_module_version": "1.2.0",
       "justify_items": null,
       "object_fit": null,
       "object_position": null
      }
     },
     "7cc58f597e27404b98e2c01a49c0d861": {
      "model_module": "@jupyter-widgets/controls",
      "model_module_version": "1.5.0",
      "model_name": "HTMLModel",
      "state": {
       "_model_module_version": "1.5.0",
       "_view_module_version": "1.5.0",
       "layout": "IPY_MODEL_2dc2ba98eb6c406b8425e383bd47922a",
       "style": "IPY_MODEL_2ba9f210e0d3469b8338b8d15318da63",
       "value": "Select multiple by dragging or ctrl + click"
      }
     },
     "7cf427be6eab4d9898f64a75f7187d55": {
      "model_module": "@jupyter-widgets/base",
      "model_module_version": "1.2.0",
      "model_name": "LayoutModel",
      "state": {
       "_model_module_version": "1.2.0",
       "_view_module_version": "1.2.0",
       "justify_items": null,
       "object_fit": null,
       "object_position": null,
       "width": "60%"
      }
     },
     "7d796e9331904b86854fe17ebd6296c9": {
      "model_module": "@jupyter-widgets/base",
      "model_module_version": "1.2.0",
      "model_name": "LayoutModel",
      "state": {
       "_model_module_version": "1.2.0",
       "_view_module_version": "1.2.0",
       "justify_items": null,
       "object_fit": null,
       "object_position": null
      }
     },
     "7df21f07c0e5435c8a7908302f8b0e9a": {
      "model_module": "@jupyter-widgets/base",
      "model_module_version": "1.2.0",
      "model_name": "LayoutModel",
      "state": {
       "_model_module_version": "1.2.0",
       "_view_module_version": "1.2.0",
       "grid_template_areas": "\"top-left top-right\"\n\"top-left top-right\"",
       "grid_template_columns": "1fr 1fr",
       "grid_template_rows": "1fr 1fr",
       "justify_items": null,
       "object_fit": null,
       "object_position": null
      }
     },
     "7e07ebd9ad744a8a9802297e0973983c": {
      "model_module": "@jupyter-widgets/controls",
      "model_module_version": "1.5.0",
      "model_name": "HBoxModel",
      "state": {
       "_model_module_version": "1.5.0",
       "_view_module_version": "1.5.0",
       "children": [
        "IPY_MODEL_e6eb530be2bc431785f0c00635ac332a",
        "IPY_MODEL_da22efc28a1e41a7871f3a462c0ca6bb",
        "IPY_MODEL_24c66ee27c034a558ce566b8709510aa"
       ],
       "layout": "IPY_MODEL_45d76b16873447768a7a6eb4a7ad6960"
      }
     },
     "7f42b24f4ccb4a998869ff9a2531a21c": {
      "model_module": "@jupyter-widgets/controls",
      "model_module_version": "1.5.0",
      "model_name": "LabelModel",
      "state": {
       "_model_module_version": "1.5.0",
       "_view_module_version": "1.5.0",
       "layout": "IPY_MODEL_83b017d5d11642ecb809dea585b91a79",
       "style": "IPY_MODEL_475d7e88a65749f5ab45e02fe3dbb5d3",
       "value": "2654 rows"
      }
     },
     "7fe2860ef2d94447bf07e9740e1c6b04": {
      "model_module": "@jupyter-widgets/controls",
      "model_module_version": "1.5.0",
      "model_name": "DropdownModel",
      "state": {
       "_model_module_version": "1.5.0",
       "_options_labels": [
        "text",
        "text_translated",
        "media",
        "source",
        "mode",
        "num_persons",
        "_timestamp",
        "confidence",
        "source_reliability",
        "locations",
        "origin_bool",
        "origin",
        "destination",
        "geom_tweet",
        "triage_status"
       ],
       "_view_module_version": "1.5.0",
       "description": "order by",
       "index": 0,
       "layout": "IPY_MODEL_a7b38cae808d481696e4b80f75c57991",
       "style": "IPY_MODEL_eb8a0530aa4741f696714f595691b283"
      }
     },
     "7ff110586e3c4ae4a6375cfb4a0eafcc": {
      "model_module": "@jupyter-widgets/base",
      "model_module_version": "1.2.0",
      "model_name": "LayoutModel",
      "state": {
       "_model_module_version": "1.2.0",
       "_view_module_version": "1.2.0",
       "justify_items": null,
       "object_fit": null,
       "object_position": null,
       "width": "60%"
      }
     },
     "82a98f4ef4814564b37741ae8379099b": {
      "model_module": "@jupyter-widgets/controls",
      "model_module_version": "1.5.0",
      "model_name": "DescriptionStyleModel",
      "state": {
       "_model_module_version": "1.5.0",
       "_view_module_version": "1.2.0",
       "description_width": ""
      }
     },
     "82f54d00d6ec462bae70fd0a7aa01576": {
      "model_module": "@jupyter-widgets/base",
      "model_module_version": "1.2.0",
      "model_name": "LayoutModel",
      "state": {
       "_model_module_version": "1.2.0",
       "_view_module_version": "1.2.0",
       "justify_items": null,
       "object_fit": null,
       "object_position": null,
       "width": "30px"
      }
     },
     "830dbef8038c429c98245db1fa4d2eef": {
      "model_module": "@jupyter-widgets/controls",
      "model_module_version": "1.5.0",
      "model_name": "IntSliderModel",
      "state": {
       "_model_module_version": "1.5.0",
       "_view_module_version": "1.5.0",
       "layout": "IPY_MODEL_b267a4c4bdb5435da71f9fdb6f92be72",
       "max": 266,
       "min": 1,
       "style": "IPY_MODEL_f111497e701143e4ac069a174b763fe9",
       "value": 1
      }
     },
     "834119216c6d4575a5133a711e40cf22": {
      "model_module": "@jupyter-widgets/controls",
      "model_module_version": "1.5.0",
      "model_name": "ButtonModel",
      "state": {
       "_model_module_version": "1.5.0",
       "_view_module_version": "1.5.0",
       "description": "save",
       "layout": "IPY_MODEL_840b6335b05b458b994e67d2ef8b8ab0",
       "style": "IPY_MODEL_986c068a757541daac69642c8a839f05"
      }
     },
     "838a8b6628044824b4716f0f389fb83f": {
      "model_module": "@jupyter-widgets/controls",
      "model_module_version": "1.5.0",
      "model_name": "LabelModel",
      "state": {
       "_model_module_version": "1.5.0",
       "_view_module_version": "1.5.0",
       "layout": "IPY_MODEL_ab29c396c5d947c9af6fb48e440c66ab",
       "style": "IPY_MODEL_3ceb87b5896b4786b0ba15b501e5b443",
       "value": "2654 rows"
      }
     },
     "83b017d5d11642ecb809dea585b91a79": {
      "model_module": "@jupyter-widgets/base",
      "model_module_version": "1.2.0",
      "model_name": "LayoutModel",
      "state": {
       "_model_module_version": "1.2.0",
       "_view_module_version": "1.2.0",
       "justify_items": null,
       "object_fit": null,
       "object_position": null
      }
     },
     "840b6335b05b458b994e67d2ef8b8ab0": {
      "model_module": "@jupyter-widgets/base",
      "model_module_version": "1.2.0",
      "model_name": "LayoutModel",
      "state": {
       "_model_module_version": "1.2.0",
       "_view_module_version": "1.2.0",
       "justify_items": null,
       "object_fit": null,
       "object_position": null
      }
     },
     "84d202d31303497b89fa9aa2ab0ee8b3": {
      "model_module": "@jupyter-widgets/output",
      "model_module_version": "1.0.0",
      "model_name": "OutputModel",
      "state": {
       "layout": "IPY_MODEL_6fab1a96c52e4313927689829a889299",
       "outputs": [
        {
         "data": {
          "text/html": "<div>\n<style scoped>\n    .dataframe tbody tr th:only-of-type {\n        vertical-align: middle;\n    }\n\n    .dataframe tbody tr th {\n        vertical-align: top;\n    }\n\n    .dataframe thead th {\n        text-align: right;\n    }\n</style>\n<table border=\"1\" class=\"dataframe\">\n  <thead>\n    <tr style=\"text-align: right;\">\n      <th></th>\n      <th>text</th>\n      <th>text_translated</th>\n      <th>media</th>\n      <th>source</th>\n      <th>mode</th>\n      <th>num_persons</th>\n      <th>_timestamp</th>\n      <th>confidence</th>\n      <th>source_reliability</th>\n      <th>locations</th>\n      <th>origin_bool</th>\n      <th>origin</th>\n      <th>destination</th>\n      <th>geom_tweet</th>\n      <th>triage_status</th>\n    </tr>\n    <tr>\n      <th>uniqueid</th>\n      <th></th>\n      <th></th>\n      <th></th>\n      <th></th>\n      <th></th>\n      <th></th>\n      <th></th>\n      <th></th>\n      <th></th>\n      <th></th>\n      <th></th>\n      <th></th>\n      <th></th>\n      <th></th>\n      <th></th>\n    </tr>\n  </thead>\n  <tbody>\n    <tr>\n      <th>969</th>\n      <td>\"En Macédoine, les migrants remplissent les trains pour la Serbie - AFP\" en replay sur Android TV Replay http://t.co/k8LZQkCzNh</td>\n      <td>in macedonia migrants fill trains for serbia afp in replay on android tv replay</td>\n      <td>NaN</td>\n      <td>twitter</td>\n      <td>train</td>\n      <td>NaN</td>\n      <td>2019-09-12 04:08:04.000000</td>\n      <td>0.63</td>\n      <td>0.12</td>\n      <td>['macedonia', 'serbia']</td>\n      <td>NaN</td>\n      <td>NaN</td>\n      <td>NaN</td>\n      <td>0101000000575BB1BFEC6E35400000000000004540</td>\n      <td>NaN</td>\n    </tr>\n    <tr>\n      <th>795</th>\n      <td>\"Macedonia, ancora frontiere chiuse. I migranti passano dal filo spinato\" - http://t.co/lt7wNeffC7 http://t.co/jvg5cMgDxk</td>\n      <td>macedonia still closed borders migrants pass by barbed wire</td>\n      <td>['http://pbs.twimg.com/media/CNBxOh7WoAAP-zV.jpg']</td>\n      <td>twitter</td>\n      <td>NaN</td>\n      <td>NaN</td>\n      <td>2019-09-14 16:50:53.000000</td>\n      <td>0.81</td>\n      <td>0.04</td>\n      <td>['macedonia']</td>\n      <td>NaN</td>\n      <td>NaN</td>\n      <td>NaN</td>\n      <td>0101000000575BB1BFEC6E35400000000000004540</td>\n      <td>NaN</td>\n    </tr>\n    <tr>\n      <th>1158</th>\n      <td>\"More than 130,000 #migrants have attempted to cross the Mediterranean in 2015\"  http://t.co/ZOvpUsTx1d</td>\n      <td>more than 130 000 migrants have attempted to cross the mediterranean in 2015</td>\n      <td>NaN</td>\n      <td>twitter</td>\n      <td>NaN</td>\n      <td>NaN</td>\n      <td>2019-07-26 17:47:04.000000</td>\n      <td>0.53</td>\n      <td>0.94</td>\n      <td>[]</td>\n      <td>NaN</td>\n      <td>NaN</td>\n      <td>NaN</td>\n      <td>NaN</td>\n      <td>NaN</td>\n    </tr>\n    <tr>\n      <th>2364</th>\n      <td>\"On Thursday Slovenia reported that 12,000 migrants had arrived in one day - a record in the current crisis in Central Europe.\" - BBC</td>\n      <td>on thursday slovenia reported that 12 000 migrants had arrived in one day a record in the current crisis in central europe bbc</td>\n      <td>NaN</td>\n      <td>twitter</td>\n      <td>NaN</td>\n      <td>NaN</td>\n      <td>2019-11-15 21:14:00.000000</td>\n      <td>0.93</td>\n      <td>0.23</td>\n      <td>['slovenia']</td>\n      <td>NaN</td>\n      <td>NaN</td>\n      <td>NaN</td>\n      <td>0101000000151DC9E53F042D402CD49AE61D074740</td>\n      <td>NaN</td>\n    </tr>\n    <tr>\n      <th>1137</th>\n      <td>\"With Tel Abyad secured, the Syrian Kurds have managed to forge a corridor between Cezire and Kobani. On Monday,... http://t.co/iJDle1SzwW</td>\n      <td>with tel abyad secured the syrian kurds have managed to forge a corridor between cezire and kobani on monday</td>\n      <td>NaN</td>\n      <td>twitter</td>\n      <td>NaN</td>\n      <td>NaN</td>\n      <td>2019-07-10 16:24:53.000000</td>\n      <td>0.71</td>\n      <td>0.24</td>\n      <td>['syria']</td>\n      <td>NaN</td>\n      <td>NaN</td>\n      <td>NaN</td>\n      <td>0101000000E8D9ACFA5C254240EFC9C342ADC14040</td>\n      <td>NaN</td>\n    </tr>\n    <tr>\n      <th>574</th>\n      <td>#2015 Франция закрывает границу с Италией http://t.co/O77dBheZKv</td>\n      <td>2015 france closes the border with italy</td>\n      <td>NaN</td>\n      <td>twitter</td>\n      <td>NaN</td>\n      <td>2015.0</td>\n      <td>2019-07-09 09:59:43.000000</td>\n      <td>0.62</td>\n      <td>1.00</td>\n      <td>['france', 'italy']</td>\n      <td>NaN</td>\n      <td>NaN</td>\n      <td>NaN</td>\n      <td>NaN</td>\n      <td>NaN</td>\n    </tr>\n    <tr>\n      <th>2041</th>\n      <td>#AFP Slovenia to send back train from Croatia carrying 150 migrants - AFP: Slovenia to send back train from Cr... http://t.co/zNEN4XLp7h</td>\n      <td>afp slovenia to send back train from croatia carrying 150 migrants afp slovenia to send back train from cr</td>\n      <td>NaN</td>\n      <td>twitter</td>\n      <td>train</td>\n      <td>150.0</td>\n      <td>2019-10-11 17:14:05.000000</td>\n      <td>0.99</td>\n      <td>0.26</td>\n      <td>['slovenia', 'croatia']</td>\n      <td>NaN</td>\n      <td>HR0</td>\n      <td>NaN</td>\n      <td>0101000000151DC9E53F042D402CD49AE61D074740</td>\n      <td>NaN</td>\n    </tr>\n    <tr>\n      <th>253</th>\n      <td>#AUSTRIA #STANDARD #WIEN broadcastetd by #TheIsraelCompany: Kommentar von Michael Völker - Die Flüchtlinge und ihr... http://t.co/MAn0lwR3vI</td>\n      <td>austria standard vienna broadcastetd by theisraelcompany comment by michael völker the refugees and their</td>\n      <td>NaN</td>\n      <td>twitter</td>\n      <td>NaN</td>\n      <td>NaN</td>\n      <td>2019-09-22 16:16:11.000000</td>\n      <td>0.67</td>\n      <td>0.05</td>\n      <td>['austria', 'vienna', 'israel']</td>\n      <td>NaN</td>\n      <td>NaN</td>\n      <td>NaN</td>\n      <td>010100000076711B0DE05D30409A99999999194840</td>\n      <td>NaN</td>\n    </tr>\n    <tr>\n      <th>397</th>\n      <td>#AUSTRIA #STANDARD #WIEN broadcastetd by #TheIsraelCompany: Syrien - Putin schließt Einsatz von Bodentruppen in Sy... http://t.co/LGKZhvK6c2</td>\n      <td>austria standard vienna broadcastetd by theisraelcompany syria putin closes deployment of ground forces in sy</td>\n      <td>NaN</td>\n      <td>twitter</td>\n      <td>NaN</td>\n      <td>NaN</td>\n      <td>2019-10-21 04:15:59.000000</td>\n      <td>0.51</td>\n      <td>0.06</td>\n      <td>['austria', 'vienna', 'israel', 'syria']</td>\n      <td>NaN</td>\n      <td>NaN</td>\n      <td>NaN</td>\n      <td>010100000076711B0DE05D30409A99999999194840</td>\n      <td>NaN</td>\n    </tr>\n    <tr>\n      <th>959</th>\n      <td>#Afrique La longue marche des migrants qui franchissent les Alpes à pied http://t.co/Way1hlrjE9</td>\n      <td>africa the long march of migrants crossing the alps on foot</td>\n      <td>NaN</td>\n      <td>twitter</td>\n      <td>on foot</td>\n      <td>NaN</td>\n      <td>2019-07-24 11:43:36.000000</td>\n      <td>0.55</td>\n      <td>0.49</td>\n      <td>[]</td>\n      <td>NaN</td>\n      <td>NaN</td>\n      <td>NaN</td>\n      <td>NaN</td>\n      <td>NaN</td>\n    </tr>\n  </tbody>\n</table>\n</div>",
          "text/plain": "                                                                                                                                                  text  \\\nuniqueid                                                                                                                                                 \n969       \"En Macédoine, les migrants remplissent les trains pour la Serbie - AFP\" en replay sur Android TV Replay http://t.co/k8LZQkCzNh                \n795       \"Macedonia, ancora frontiere chiuse. I migranti passano dal filo spinato\" - http://t.co/lt7wNeffC7 http://t.co/jvg5cMgDxk                      \n1158      \"More than 130,000 #migrants have attempted to cross the Mediterranean in 2015\"  http://t.co/ZOvpUsTx1d                                        \n2364      \"On Thursday Slovenia reported that 12,000 migrants had arrived in one day - a record in the current crisis in Central Europe.\" - BBC          \n1137      \"With Tel Abyad secured, the Syrian Kurds have managed to forge a corridor between Cezire and Kobani. On Monday,... http://t.co/iJDle1SzwW     \n574       #2015 Франция закрывает границу с Италией http://t.co/O77dBheZKv                                                                               \n2041      #AFP Slovenia to send back train from Croatia carrying 150 migrants - AFP: Slovenia to send back train from Cr... http://t.co/zNEN4XLp7h       \n253       #AUSTRIA #STANDARD #WIEN broadcastetd by #TheIsraelCompany: Kommentar von Michael Völker - Die Flüchtlinge und ihr... http://t.co/MAn0lwR3vI   \n397       #AUSTRIA #STANDARD #WIEN broadcastetd by #TheIsraelCompany: Syrien - Putin schließt Einsatz von Bodentruppen in Sy... http://t.co/LGKZhvK6c2   \n959       #Afrique La longue marche des migrants qui franchissent les Alpes à pied http://t.co/Way1hlrjE9                                                \n\n                                                                                                                         text_translated  \\\nuniqueid                                                                                                                                   \n969       in macedonia migrants fill trains for serbia afp in replay on android tv replay                                                  \n795       macedonia still closed borders migrants pass by barbed wire                                                                      \n1158      more than 130 000 migrants have attempted to cross the mediterranean in 2015                                                     \n2364      on thursday slovenia reported that 12 000 migrants had arrived in one day a record in the current crisis in central europe bbc   \n1137      with tel abyad secured the syrian kurds have managed to forge a corridor between cezire and kobani on monday                     \n574       2015 france closes the border with italy                                                                                         \n2041      afp slovenia to send back train from croatia carrying 150 migrants afp slovenia to send back train from cr                       \n253       austria standard vienna broadcastetd by theisraelcompany comment by michael völker the refugees and their                        \n397       austria standard vienna broadcastetd by theisraelcompany syria putin closes deployment of ground forces in sy                    \n959       africa the long march of migrants crossing the alps on foot                                                                      \n\n                                                       media   source  \\\nuniqueid                                                                \n969       NaN                                                 twitter   \n795       ['http://pbs.twimg.com/media/CNBxOh7WoAAP-zV.jpg']  twitter   \n1158      NaN                                                 twitter   \n2364      NaN                                                 twitter   \n1137      NaN                                                 twitter   \n574       NaN                                                 twitter   \n2041      NaN                                                 twitter   \n253       NaN                                                 twitter   \n397       NaN                                                 twitter   \n959       NaN                                                 twitter   \n\n             mode  num_persons                  _timestamp  confidence  \\\nuniqueid                                                                 \n969       train   NaN           2019-09-12 04:08:04.000000  0.63         \n795       NaN     NaN           2019-09-14 16:50:53.000000  0.81         \n1158      NaN     NaN           2019-07-26 17:47:04.000000  0.53         \n2364      NaN     NaN           2019-11-15 21:14:00.000000  0.93         \n1137      NaN     NaN           2019-07-10 16:24:53.000000  0.71         \n574       NaN      2015.0       2019-07-09 09:59:43.000000  0.62         \n2041      train    150.0        2019-10-11 17:14:05.000000  0.99         \n253       NaN     NaN           2019-09-22 16:16:11.000000  0.67         \n397       NaN     NaN           2019-10-21 04:15:59.000000  0.51         \n959       on foot NaN           2019-07-24 11:43:36.000000  0.55         \n\n          source_reliability                                 locations  \\\nuniqueid                                                                 \n969       0.12                ['macedonia', 'serbia']                    \n795       0.04                ['macedonia']                              \n1158      0.94                []                                         \n2364      0.23                ['slovenia']                               \n1137      0.24                ['syria']                                  \n574       1.00                ['france', 'italy']                        \n2041      0.26                ['slovenia', 'croatia']                    \n253       0.05                ['austria', 'vienna', 'israel']            \n397       0.06                ['austria', 'vienna', 'israel', 'syria']   \n959       0.49                []                                         \n\n          origin_bool origin destination  \\\nuniqueid                                   \n969      NaN           NaN    NaN          \n795      NaN           NaN    NaN          \n1158     NaN           NaN    NaN          \n2364     NaN           NaN    NaN          \n1137     NaN           NaN    NaN          \n574      NaN           NaN    NaN          \n2041     NaN           HR0    NaN          \n253      NaN           NaN    NaN          \n397      NaN           NaN    NaN          \n959      NaN           NaN    NaN          \n\n                                          geom_tweet  triage_status  \nuniqueid                                                             \n969       0101000000575BB1BFEC6E35400000000000004540 NaN             \n795       0101000000575BB1BFEC6E35400000000000004540 NaN             \n1158      NaN                                        NaN             \n2364      0101000000151DC9E53F042D402CD49AE61D074740 NaN             \n1137      0101000000E8D9ACFA5C254240EFC9C342ADC14040 NaN             \n574       NaN                                        NaN             \n2041      0101000000151DC9E53F042D402CD49AE61D074740 NaN             \n253       010100000076711B0DE05D30409A99999999194840 NaN             \n397       010100000076711B0DE05D30409A99999999194840 NaN             \n959       NaN                                        NaN             "
         },
         "metadata": {},
         "output_type": "display_data"
        }
       ]
      }
     },
     "8522efc196bb449e94f3bb04494229b3": {
      "model_module": "@jupyter-widgets/controls",
      "model_module_version": "1.5.0",
      "model_name": "DescriptionStyleModel",
      "state": {
       "_model_module_version": "1.5.0",
       "_view_module_version": "1.2.0",
       "description_width": ""
      }
     },
     "856e54b917da4add9a9bb7426e51e01f": {
      "model_module": "@jupyter-widgets/base",
      "model_module_version": "1.2.0",
      "model_name": "LayoutModel",
      "state": {
       "_model_module_version": "1.2.0",
       "_view_module_version": "1.2.0",
       "justify_items": null,
       "object_fit": null,
       "object_position": null
      }
     },
     "85a628f1d58042ec9d9e37c7bc7ce8eb": {
      "model_module": "@jupyter-widgets/base",
      "model_module_version": "1.2.0",
      "model_name": "LayoutModel",
      "state": {
       "_model_module_version": "1.2.0",
       "_view_module_version": "1.2.0",
       "justify_items": null,
       "object_fit": null,
       "object_position": null
      }
     },
     "863620a6a05f4635b8803d05ad37df94": {
      "model_module": "@jupyter-widgets/output",
      "model_module_version": "1.0.0",
      "model_name": "OutputModel",
      "state": {
       "layout": "IPY_MODEL_8ca221cbe1454273806e45dc035be7cc",
       "outputs": [
        {
         "data": {
          "application/vnd.jupyter.widget-view+json": {
           "model_id": "4fa96e51cdc4458dad619a20e3e17eb3",
           "version_major": 2,
           "version_minor": 0
          },
          "text/plain": "VBox(children=(HBox(children=(IntSlider(value=1, layout=Layout(width='60%'), max=266, min=1), Label(value='of …"
         },
         "metadata": {},
         "output_type": "display_data"
        }
       ]
      }
     },
     "86665e2521b744a0986708fb150784ca": {
      "model_module": "@jupyter-widgets/base",
      "model_module_version": "1.2.0",
      "model_name": "LayoutModel",
      "state": {
       "_model_module_version": "1.2.0",
       "_view_module_version": "1.2.0",
       "justify_items": null,
       "object_fit": null,
       "object_position": null
      }
     },
     "866d92c8ceba42dc935359488282f93a": {
      "model_module": "@jupyter-widgets/controls",
      "model_module_version": "1.5.0",
      "model_name": "HBoxModel",
      "state": {
       "_model_module_version": "1.5.0",
       "_view_module_version": "1.5.0",
       "children": [
        "IPY_MODEL_830dbef8038c429c98245db1fa4d2eef",
        "IPY_MODEL_bc96f144528942908cb22624c810b983",
        "IPY_MODEL_290fc8de3708419790f22544da5ac400",
        "IPY_MODEL_67d1496c9c194f658d876ceb1d4d83b6",
        "IPY_MODEL_3a5f57f9473748839615bcf044fc55c5"
       ],
       "layout": "IPY_MODEL_6f79578331564be7af093831ba22a16b"
      }
     },
     "8685ae7ef93a4009aeaaec77a735a7a1": {
      "model_module": "@jupyter-widgets/controls",
      "model_module_version": "1.5.0",
      "model_name": "DescriptionStyleModel",
      "state": {
       "_model_module_version": "1.5.0",
       "_view_module_version": "1.2.0",
       "description_width": ""
      }
     },
     "87b27b00d5884dddbd08c7700ea9724b": {
      "model_module": "@jupyter-widgets/controls",
      "model_module_version": "1.5.0",
      "model_name": "DescriptionStyleModel",
      "state": {
       "_model_module_version": "1.5.0",
       "_view_module_version": "1.2.0",
       "description_width": ""
      }
     },
     "880a6a71372c4d08b6536b17f9ae2c70": {
      "model_module": "@jupyter-widgets/controls",
      "model_module_version": "1.5.0",
      "model_name": "HBoxModel",
      "state": {
       "_model_module_version": "1.5.0",
       "_view_module_version": "1.5.0",
       "children": [
        "IPY_MODEL_8e663ae6e63e4d9ab25c14375f4e85c8",
        "IPY_MODEL_f630f43d10a940298f5f377bd2cfad1c"
       ],
       "layout": "IPY_MODEL_0f4b522e347c4446a3999e3812348a88"
      }
     },
     "8833286882794bc48e8b71c99175e127": {
      "model_module": "@jupyter-widgets/controls",
      "model_module_version": "1.5.0",
      "model_name": "HBoxModel",
      "state": {
       "_model_module_version": "1.5.0",
       "_view_module_version": "1.5.0",
       "children": [
        "IPY_MODEL_afb5ada72693459bb9841b874b9e238b",
        "IPY_MODEL_2283556291274c79a6022d2babedd9f5"
       ],
       "layout": "IPY_MODEL_bdcba343640140b8869f0af6f03a02d2"
      }
     },
     "8841cdc0a80f4bb7b3ded825e906b69a": {
      "model_module": "@jupyter-widgets/base",
      "model_module_version": "1.2.0",
      "model_name": "LayoutModel",
      "state": {
       "_model_module_version": "1.2.0",
       "_view_module_version": "1.2.0",
       "justify_items": null,
       "object_fit": null,
       "object_position": null
      }
     },
     "89b3613523f34408b29be52335f589a8": {
      "model_module": "@jupyter-widgets/base",
      "model_module_version": "1.2.0",
      "model_name": "LayoutModel",
      "state": {
       "_model_module_version": "1.2.0",
       "_view_module_version": "1.2.0",
       "justify_items": null,
       "object_fit": null,
       "object_position": null
      }
     },
     "8a85f60d3b0644aa923f415a736831cb": {
      "model_module": "@jupyter-widgets/controls",
      "model_module_version": "1.5.0",
      "model_name": "AccordionModel",
      "state": {
       "_model_module_version": "1.5.0",
       "_titles": {
        "0": "Sorting",
        "1": "Required Values",
        "2": "Searching",
        "3": "Save filtered Data"
       },
       "_view_module_version": "1.5.0",
       "children": [
        "IPY_MODEL_1eb6f2e9ee1b43ba86230175c156a563",
        "IPY_MODEL_880a6a71372c4d08b6536b17f9ae2c70",
        "IPY_MODEL_f29a86e4428a43e8b0af8c7d66ac7a73",
        "IPY_MODEL_3bfd665cabf34befbb0e643f61979672"
       ],
       "layout": "IPY_MODEL_6fc5140598814c8d9ff9dd04a8f98164"
      }
     },
     "8aaee3bfb1544de7893365194f030bfa": {
      "model_module": "@jupyter-widgets/base",
      "model_module_version": "1.2.0",
      "model_name": "LayoutModel",
      "state": {
       "_model_module_version": "1.2.0",
       "_view_module_version": "1.2.0",
       "justify_items": null,
       "object_fit": null,
       "object_position": null
      }
     },
     "8bdb7c3ea3934a9b9f120313fc154363": {
      "model_module": "@jupyter-widgets/controls",
      "model_module_version": "1.5.0",
      "model_name": "ToggleButtonModel",
      "state": {
       "_model_module_version": "1.5.0",
       "_view_module_version": "1.5.0",
       "description": "ascending",
       "layout": "IPY_MODEL_ae943013ed3c4d938b28854ef3f4d461",
       "style": "IPY_MODEL_3a3315f493ee44bd8bb978fcf148a2b8",
       "value": true
      }
     },
     "8c1f5937fa454382adca969bb5b510f9": {
      "model_module": "@jupyter-widgets/controls",
      "model_module_version": "1.5.0",
      "model_name": "DescriptionStyleModel",
      "state": {
       "_model_module_version": "1.5.0",
       "_view_module_version": "1.2.0",
       "description_width": ""
      }
     },
     "8ca221cbe1454273806e45dc035be7cc": {
      "model_module": "@jupyter-widgets/base",
      "model_module_version": "1.2.0",
      "model_name": "LayoutModel",
      "state": {
       "_model_module_version": "1.2.0",
       "_view_module_version": "1.2.0",
       "justify_items": null,
       "object_fit": null,
       "object_position": null
      }
     },
     "8dc6cea29fea43dba184f5e94ee6565b": {
      "model_module": "@jupyter-widgets/controls",
      "model_module_version": "1.5.0",
      "model_name": "DescriptionStyleModel",
      "state": {
       "_model_module_version": "1.5.0",
       "_view_module_version": "1.2.0",
       "description_width": ""
      }
     },
     "8e38a775323f4851acbbd300501f2980": {
      "model_module": "@jupyter-widgets/base",
      "model_module_version": "1.2.0",
      "model_name": "LayoutModel",
      "state": {
       "_model_module_version": "1.2.0",
       "_view_module_version": "1.2.0",
       "justify_items": null,
       "object_fit": null,
       "object_position": null
      }
     },
     "8e663ae6e63e4d9ab25c14375f4e85c8": {
      "model_module": "@jupyter-widgets/controls",
      "model_module_version": "1.5.0",
      "model_name": "SelectMultipleModel",
      "state": {
       "_model_module_version": "1.5.0",
       "_options_labels": [
        "text",
        "text_translated",
        "media",
        "source",
        "mode",
        "num_persons",
        "_timestamp",
        "confidence",
        "source_reliability",
        "locations",
        "origin_bool",
        "origin",
        "destination",
        "geom_tweet",
        "triage_status"
       ],
       "_view_module_version": "1.5.0",
       "index": [],
       "layout": "IPY_MODEL_ba6140ef05c64577b50868c48974ed02",
       "rows": 5,
       "style": "IPY_MODEL_3c26d02ba41e4ad79f52fb633f060e4f"
      }
     },
     "8eb129c068e34eb0b8106fbf24017070": {
      "model_module": "@jupyter-widgets/controls",
      "model_module_version": "1.5.0",
      "model_name": "HBoxModel",
      "state": {
       "_model_module_version": "1.5.0",
       "_view_module_version": "1.5.0",
       "children": [
        "IPY_MODEL_b97949ad2e19453c8f5b002ca5c505a8",
        "IPY_MODEL_c537c456cc3d4951b416b6df83aa206a",
        "IPY_MODEL_26fbbbf6250543158460f7a4792b3111"
       ],
       "layout": "IPY_MODEL_3f56e13eac7a49f5b0920469b229e282"
      }
     },
     "8ebd1c85b9f64ba8b974cf285c5bd0b9": {
      "model_module": "@jupyter-widgets/controls",
      "model_module_version": "1.5.0",
      "model_name": "DescriptionStyleModel",
      "state": {
       "_model_module_version": "1.5.0",
       "_view_module_version": "1.2.0",
       "description_width": ""
      }
     },
     "8ece146174134606abb5141c1924fadd": {
      "model_module": "@jupyter-widgets/controls",
      "model_module_version": "1.5.0",
      "model_name": "HTMLModel",
      "state": {
       "_model_module_version": "1.5.0",
       "_view_module_version": "1.5.0",
       "layout": "IPY_MODEL_54993934473447deaeb9285eee7db51f",
       "style": "IPY_MODEL_5664bc35f11a40e49b8a1d3ecaa08f4d",
       "value": "Select multiple by dragging or ctrl + click <br> Deselect with ctrl + click"
      }
     },
     "8f6587a4df55439b942f6cfee2d95cd2": {
      "model_module": "@jupyter-widgets/controls",
      "model_module_version": "1.5.0",
      "model_name": "SelectMultipleModel",
      "state": {
       "_model_module_version": "1.5.0",
       "_options_labels": [
        "text",
        "text_translated",
        "media",
        "source",
        "mode",
        "num_persons",
        "_timestamp",
        "confidence",
        "source_reliability",
        "locations",
        "origin_bool",
        "origin",
        "destination",
        "geom_tweet",
        "triage_status"
       ],
       "_view_module_version": "1.5.0",
       "index": [],
       "layout": "IPY_MODEL_1249f01d4e424f2d8f87c24293cc6a40",
       "rows": 5,
       "style": "IPY_MODEL_c722738f7be64ecabf542d396f4bd9a4"
      }
     },
     "91766168a8b14160b1dcaf31e7ae5827": {
      "model_module": "@jupyter-widgets/controls",
      "model_module_version": "1.5.0",
      "model_name": "TextModel",
      "state": {
       "_model_module_version": "1.5.0",
       "_view_module_version": "1.5.0",
       "layout": "IPY_MODEL_c3afe5573b5b4bb996b90951a47fa022",
       "style": "IPY_MODEL_7505752206c347f28af8b9e3f2cbad5b"
      }
     },
     "928b5eef6f1f42be9b966ad7f8d19db1": {
      "model_module": "@jupyter-widgets/controls",
      "model_module_version": "1.5.0",
      "model_name": "SliderStyleModel",
      "state": {
       "_model_module_version": "1.5.0",
       "_view_module_version": "1.2.0",
       "description_width": ""
      }
     },
     "929c2a09890e4ddeabe8eab90bae8d6e": {
      "model_module": "@jupyter-widgets/controls",
      "model_module_version": "1.5.0",
      "model_name": "DescriptionStyleModel",
      "state": {
       "_model_module_version": "1.5.0",
       "_view_module_version": "1.2.0",
       "description_width": ""
      }
     },
     "92de8628f4cd4528a7b1785fb0e4334d": {
      "model_module": "@jupyter-widgets/base",
      "model_module_version": "1.2.0",
      "model_name": "LayoutModel",
      "state": {
       "_model_module_version": "1.2.0",
       "_view_module_version": "1.2.0",
       "justify_items": null,
       "object_fit": null,
       "object_position": null
      }
     },
     "93aa31044ee340fc9306ddf8c193f213": {
      "model_module": "@jupyter-widgets/base",
      "model_module_version": "1.2.0",
      "model_name": "LayoutModel",
      "state": {
       "_model_module_version": "1.2.0",
       "_view_module_version": "1.2.0",
       "justify_items": null,
       "object_fit": null,
       "object_position": null
      }
     },
     "93d3211929a3477ba5489a4c5942ebd9": {
      "model_module": "@jupyter-widgets/controls",
      "model_module_version": "1.5.0",
      "model_name": "ButtonModel",
      "state": {
       "_model_module_version": "1.5.0",
       "_view_module_version": "1.5.0",
       "description": "save",
       "layout": "IPY_MODEL_a493258b07f84247bddcdf9eaa7806d8",
       "style": "IPY_MODEL_62df0e0dbda34f8d8fb9823b56900d27"
      }
     },
     "96872d046ffe4f5795a15695afb19dc4": {
      "model_module": "@jupyter-widgets/base",
      "model_module_version": "1.2.0",
      "model_name": "LayoutModel",
      "state": {
       "_model_module_version": "1.2.0",
       "_view_module_version": "1.2.0",
       "justify_items": null,
       "object_fit": null,
       "object_position": null
      }
     },
     "969266b1f6434932964a0ddcdf29bc59": {
      "model_module": "@jupyter-widgets/controls",
      "model_module_version": "1.5.0",
      "model_name": "DescriptionStyleModel",
      "state": {
       "_model_module_version": "1.5.0",
       "_view_module_version": "1.2.0",
       "description_width": ""
      }
     },
     "97490c7901364e27891748ae5f3216eb": {
      "model_module": "@jupyter-widgets/controls",
      "model_module_version": "1.5.0",
      "model_name": "DropdownModel",
      "state": {
       "_model_module_version": "1.5.0",
       "_options_labels": [
        "text",
        "text_translated",
        "media",
        "source",
        "mode",
        "num_persons",
        "_timestamp",
        "confidence",
        "source_reliability",
        "locations",
        "origin_bool",
        "origin",
        "destination",
        "geom_tweet",
        "triage_status"
       ],
       "_view_module_version": "1.5.0",
       "description": "order by",
       "index": 0,
       "layout": "IPY_MODEL_db187d970c9d4e43b04f7417fcca865b",
       "style": "IPY_MODEL_cd6f311f436e4bd694d057f26a738200"
      }
     },
     "975cb23bb1774a8791649cda2c720083": {
      "model_module": "@jupyter-widgets/base",
      "model_module_version": "1.2.0",
      "model_name": "LayoutModel",
      "state": {
       "_model_module_version": "1.2.0",
       "_view_module_version": "1.2.0",
       "justify_items": null,
       "object_fit": null,
       "object_position": null
      }
     },
     "982b26c89a924df59b9bf6fef7381c50": {
      "model_module": "@jupyter-widgets/base",
      "model_module_version": "1.2.0",
      "model_name": "LayoutModel",
      "state": {
       "_model_module_version": "1.2.0",
       "_view_module_version": "1.2.0",
       "justify_items": null,
       "object_fit": null,
       "object_position": null
      }
     },
     "986c068a757541daac69642c8a839f05": {
      "model_module": "@jupyter-widgets/controls",
      "model_module_version": "1.5.0",
      "model_name": "ButtonStyleModel",
      "state": {
       "_model_module_version": "1.5.0",
       "_view_module_version": "1.2.0"
      }
     },
     "9882dd9c9dbb469db9ae414fd21f1737": {
      "model_module": "@jupyter-widgets/base",
      "model_module_version": "1.2.0",
      "model_name": "LayoutModel",
      "state": {
       "_model_module_version": "1.2.0",
       "_view_module_version": "1.2.0",
       "justify_items": null,
       "object_fit": null,
       "object_position": null
      }
     },
     "994d69e8b45546fca037a8f4e31d8c7b": {
      "model_module": "@jupyter-widgets/base",
      "model_module_version": "1.2.0",
      "model_name": "LayoutModel",
      "state": {
       "_model_module_version": "1.2.0",
       "_view_module_version": "1.2.0",
       "justify_items": null,
       "object_fit": null,
       "object_position": null
      }
     },
     "9a2dd1281c344601bb10986ea8460431": {
      "model_module": "@jupyter-widgets/base",
      "model_module_version": "1.2.0",
      "model_name": "LayoutModel",
      "state": {
       "_model_module_version": "1.2.0",
       "_view_module_version": "1.2.0",
       "height": "50px",
       "justify_items": null,
       "object_fit": null,
       "object_position": null
      }
     },
     "9a4d841ae723486c8dae2d2d67d9bbb0": {
      "model_module": "@jupyter-widgets/controls",
      "model_module_version": "1.5.0",
      "model_name": "LabelModel",
      "state": {
       "_model_module_version": "1.5.0",
       "_view_module_version": "1.5.0",
       "layout": "IPY_MODEL_314865e77f7f46eaa09e63d74213cb1c",
       "style": "IPY_MODEL_c6b22de3b24d451eb7856766b4db11cb",
       "value": "2654 rows"
      }
     },
     "9b08bb9468084e2fa09e6154f28fc32e": {
      "model_module": "@jupyter-widgets/base",
      "model_module_version": "1.2.0",
      "model_name": "LayoutModel",
      "state": {
       "_model_module_version": "1.2.0",
       "_view_module_version": "1.2.0",
       "justify_items": null,
       "object_fit": null,
       "object_position": null,
       "width": "30px"
      }
     },
     "9d41df328f0e46bd82a7d17ca3547a55": {
      "model_module": "@jupyter-widgets/base",
      "model_module_version": "1.2.0",
      "model_name": "LayoutModel",
      "state": {
       "_model_module_version": "1.2.0",
       "_view_module_version": "1.2.0",
       "justify_items": null,
       "object_fit": null,
       "object_position": null
      }
     },
     "9d516d5efa364ce39daa1233ea308a89": {
      "model_module": "@jupyter-widgets/controls",
      "model_module_version": "1.5.0",
      "model_name": "DescriptionStyleModel",
      "state": {
       "_model_module_version": "1.5.0",
       "_view_module_version": "1.2.0",
       "description_width": ""
      }
     },
     "9d943eb2727445628656be0d28d7ce4c": {
      "model_module": "@jupyter-widgets/base",
      "model_module_version": "1.2.0",
      "model_name": "LayoutModel",
      "state": {
       "_model_module_version": "1.2.0",
       "_view_module_version": "1.2.0",
       "justify_items": null,
       "object_fit": null,
       "object_position": null,
       "width": "30px"
      }
     },
     "9de46cdb8443415dbfe358d886dfbc73": {
      "model_module": "@jupyter-widgets/controls",
      "model_module_version": "1.5.0",
      "model_name": "TextModel",
      "state": {
       "_model_module_version": "1.5.0",
       "_view_module_version": "1.5.0",
       "layout": "IPY_MODEL_5441348cc9b04afba5b0387790a5077f",
       "style": "IPY_MODEL_b3d6ca8f3c9147c9931af33085ce20c0",
       "value": "filtered_data.csv"
      }
     },
     "9e36aad7aa164c5bb8a75c02190b197e": {
      "model_module": "@jupyter-widgets/controls",
      "model_module_version": "1.5.0",
      "model_name": "VBoxModel",
      "state": {
       "_model_module_version": "1.5.0",
       "_view_module_version": "1.5.0",
       "children": [
        "IPY_MODEL_69732483b68a4619bea3f12060ee9b01",
        "IPY_MODEL_605a06d6bed843138a8af7e7683be0be"
       ],
       "layout": "IPY_MODEL_5dc605e591984cbd8108ca7f9d805480"
      }
     },
     "9e725f8b29424c8595a637c6e2826203": {
      "model_module": "@jupyter-widgets/controls",
      "model_module_version": "1.5.0",
      "model_name": "TextModel",
      "state": {
       "_model_module_version": "1.5.0",
       "_view_module_version": "1.5.0",
       "layout": "IPY_MODEL_1e20d9bbaf744c578e47ca4c7e912525",
       "style": "IPY_MODEL_8c1f5937fa454382adca969bb5b510f9"
      }
     },
     "9eb64607df054473945c6941110b63db": {
      "model_module": "@jupyter-widgets/controls",
      "model_module_version": "1.5.0",
      "model_name": "GridBoxModel",
      "state": {
       "_model_module_version": "1.5.0",
       "_view_module_version": "1.5.0",
       "children": [
        "IPY_MODEL_41462959df954d7bb86094779b8bd24f",
        "IPY_MODEL_e37638ddd85844149f2b6dea3a659c59"
       ],
       "layout": "IPY_MODEL_d8a9914d7c9441579aaf0816cdd1c7b3"
      }
     },
     "9edad1938e154b578e93881eb28762aa": {
      "model_module": "@jupyter-widgets/base",
      "model_module_version": "1.2.0",
      "model_name": "LayoutModel",
      "state": {
       "_model_module_version": "1.2.0",
       "_view_module_version": "1.2.0",
       "justify_items": null,
       "object_fit": null,
       "object_position": null
      }
     },
     "9f8733be69e84138910de34d92dbd80e": {
      "model_module": "@jupyter-widgets/controls",
      "model_module_version": "1.5.0",
      "model_name": "DescriptionStyleModel",
      "state": {
       "_model_module_version": "1.5.0",
       "_view_module_version": "1.2.0",
       "description_width": ""
      }
     },
     "a013070dd4614dd8982d3020048d6af1": {
      "model_module": "@jupyter-widgets/controls",
      "model_module_version": "1.5.0",
      "model_name": "DescriptionStyleModel",
      "state": {
       "_model_module_version": "1.5.0",
       "_view_module_version": "1.2.0",
       "description_width": ""
      }
     },
     "a03e52defb824660baad926a1df9437e": {
      "model_module": "@jupyter-widgets/controls",
      "model_module_version": "1.5.0",
      "model_name": "VBoxModel",
      "state": {
       "_model_module_version": "1.5.0",
       "_view_module_version": "1.5.0",
       "children": [
        "IPY_MODEL_8a85f60d3b0644aa923f415a736831cb",
        "IPY_MODEL_aa21ac901db14af2a45b967e50452f91"
       ],
       "layout": "IPY_MODEL_f049099628e641fe81c8aabb4926caec"
      }
     },
     "a0813b97e0674c42854e884df4b11964": {
      "model_module": "@jupyter-widgets/base",
      "model_module_version": "1.2.0",
      "model_name": "LayoutModel",
      "state": {
       "_model_module_version": "1.2.0",
       "_view_module_version": "1.2.0",
       "justify_items": null,
       "object_fit": null,
       "object_position": null
      }
     },
     "a0a13541568d45fa937d0b562d977be2": {
      "model_module": "@jupyter-widgets/controls",
      "model_module_version": "1.5.0",
      "model_name": "HBoxModel",
      "state": {
       "_model_module_version": "1.5.0",
       "_view_module_version": "1.5.0",
       "children": [
        "IPY_MODEL_68a7558030e1459abee765a93219a2ed",
        "IPY_MODEL_93d3211929a3477ba5489a4c5942ebd9",
        "IPY_MODEL_1e14f2e0207f4ae4a5641bff86702056"
       ],
       "layout": "IPY_MODEL_e992e056b9284eb0bff10b9679e9b696"
      }
     },
     "a31175e191164aac985551d8b5bdc63f": {
      "model_module": "@jupyter-widgets/base",
      "model_module_version": "1.2.0",
      "model_name": "LayoutModel",
      "state": {
       "_model_module_version": "1.2.0",
       "_view_module_version": "1.2.0",
       "justify_items": null,
       "object_fit": null,
       "object_position": null,
       "width": "30px"
      }
     },
     "a35a6522d7c84f91a8b990f406fa3747": {
      "model_module": "@jupyter-widgets/base",
      "model_module_version": "1.2.0",
      "model_name": "LayoutModel",
      "state": {
       "_model_module_version": "1.2.0",
       "_view_module_version": "1.2.0",
       "justify_items": null,
       "object_fit": null,
       "object_position": null
      }
     },
     "a412613b00a14311b1b44094edeb3272": {
      "model_module": "@jupyter-widgets/controls",
      "model_module_version": "1.5.0",
      "model_name": "DescriptionStyleModel",
      "state": {
       "_model_module_version": "1.5.0",
       "_view_module_version": "1.2.0",
       "description_width": ""
      }
     },
     "a493258b07f84247bddcdf9eaa7806d8": {
      "model_module": "@jupyter-widgets/base",
      "model_module_version": "1.2.0",
      "model_name": "LayoutModel",
      "state": {
       "_model_module_version": "1.2.0",
       "_view_module_version": "1.2.0",
       "justify_items": null,
       "object_fit": null,
       "object_position": null
      }
     },
     "a4ec6925212942f5b67bb1101f598c60": {
      "model_module": "@jupyter-widgets/controls",
      "model_module_version": "1.5.0",
      "model_name": "ButtonStyleModel",
      "state": {
       "_model_module_version": "1.5.0",
       "_view_module_version": "1.2.0"
      }
     },
     "a5b6545dc00d4696b325c902b9d34481": {
      "model_module": "@jupyter-widgets/controls",
      "model_module_version": "1.5.0",
      "model_name": "DescriptionStyleModel",
      "state": {
       "_model_module_version": "1.5.0",
       "_view_module_version": "1.2.0",
       "description_width": ""
      }
     },
     "a6f8fd6160684d458c582242584e74f0": {
      "model_module": "@jupyter-widgets/controls",
      "model_module_version": "1.5.0",
      "model_name": "ButtonStyleModel",
      "state": {
       "_model_module_version": "1.5.0",
       "_view_module_version": "1.2.0"
      }
     },
     "a7834768ad944703a90b1ae1d7244a8c": {
      "model_module": "@jupyter-widgets/controls",
      "model_module_version": "1.5.0",
      "model_name": "AccordionModel",
      "state": {
       "_model_module_version": "1.5.0",
       "_titles": {
        "0": "Sorting",
        "1": "Required Values",
        "2": "Searching",
        "3": "Save filtered Data"
       },
       "_view_module_version": "1.5.0",
       "children": [
        "IPY_MODEL_c181f2d133234d7e87c5c6d6bb6d2b3b",
        "IPY_MODEL_d69a2b8893c7454b8f92e901046d6207",
        "IPY_MODEL_9eb64607df054473945c6941110b63db",
        "IPY_MODEL_6eec89d54d4942f28c361a9737220c21"
       ],
       "layout": "IPY_MODEL_be1b000c5ed94eceba249a7ae34c0acc"
      }
     },
     "a7b38cae808d481696e4b80f75c57991": {
      "model_module": "@jupyter-widgets/base",
      "model_module_version": "1.2.0",
      "model_name": "LayoutModel",
      "state": {
       "_model_module_version": "1.2.0",
       "_view_module_version": "1.2.0",
       "justify_items": null,
       "object_fit": null,
       "object_position": null
      }
     },
     "a7bbf674274e40c6a3a60ecb1797c04f": {
      "model_module": "@jupyter-widgets/base",
      "model_module_version": "1.2.0",
      "model_name": "LayoutModel",
      "state": {
       "_model_module_version": "1.2.0",
       "_view_module_version": "1.2.0",
       "justify_items": null,
       "object_fit": null,
       "object_position": null
      }
     },
     "a87c1d97b8f9461d84cc04a3858ea9ea": {
      "model_module": "@jupyter-widgets/base",
      "model_module_version": "1.2.0",
      "model_name": "LayoutModel",
      "state": {
       "_model_module_version": "1.2.0",
       "_view_module_version": "1.2.0",
       "justify_items": null,
       "object_fit": null,
       "object_position": null
      }
     },
     "a8a438457a1b44d59b5852d467806c1a": {
      "model_module": "@jupyter-widgets/controls",
      "model_module_version": "1.5.0",
      "model_name": "LabelModel",
      "state": {
       "_model_module_version": "1.5.0",
       "_view_module_version": "1.5.0",
       "layout": "IPY_MODEL_2da3579f8c534adc80dc657b875d64a0",
       "style": "IPY_MODEL_969266b1f6434932964a0ddcdf29bc59",
       "value": "of 266 pages with "
      }
     },
     "a8ba2bc6a22a407f8b04af719e4b8939": {
      "model_module": "@jupyter-widgets/controls",
      "model_module_version": "1.5.0",
      "model_name": "TextModel",
      "state": {
       "_model_module_version": "1.5.0",
       "_view_module_version": "1.5.0",
       "layout": "IPY_MODEL_bd693307a0094240b3d35dc9b279ab8e",
       "style": "IPY_MODEL_e19d880cd7f54fc2af950f32897e4923"
      }
     },
     "a8fe72c750a94fe4b1591a1e5b9d95da": {
      "model_module": "@jupyter-widgets/base",
      "model_module_version": "1.2.0",
      "model_name": "LayoutModel",
      "state": {
       "_model_module_version": "1.2.0",
       "_view_module_version": "1.2.0",
       "justify_items": null,
       "object_fit": null,
       "object_position": null
      }
     },
     "a93cfcca464f41cf91f3b6ddcc468774": {
      "model_module": "@jupyter-widgets/controls",
      "model_module_version": "1.5.0",
      "model_name": "ButtonStyleModel",
      "state": {
       "_model_module_version": "1.5.0",
       "_view_module_version": "1.2.0"
      }
     },
     "a961d2d3d958430fa985e813064c9b0c": {
      "model_module": "@jupyter-widgets/base",
      "model_module_version": "1.2.0",
      "model_name": "LayoutModel",
      "state": {
       "_model_module_version": "1.2.0",
       "_view_module_version": "1.2.0",
       "justify_items": null,
       "object_fit": null,
       "object_position": null,
       "width": "20%"
      }
     },
     "a9bca1b713c645e2afa6659c3e840039": {
      "model_module": "@jupyter-widgets/controls",
      "model_module_version": "1.5.0",
      "model_name": "ButtonModel",
      "state": {
       "_model_module_version": "1.5.0",
       "_view_module_version": "1.5.0",
       "icon": "chevron-left",
       "layout": "IPY_MODEL_17111df954174f76b76d037666403863",
       "style": "IPY_MODEL_e31a0e99514c46dbbd3221e349ce9b26"
      }
     },
     "a9bceaae7041401c8f3a8e07dcaa3c65": {
      "model_module": "@jupyter-widgets/controls",
      "model_module_version": "1.5.0",
      "model_name": "ButtonStyleModel",
      "state": {
       "_model_module_version": "1.5.0",
       "_view_module_version": "1.2.0"
      }
     },
     "aa21ac901db14af2a45b967e50452f91": {
      "model_module": "@jupyter-widgets/output",
      "model_module_version": "1.0.0",
      "model_name": "OutputModel",
      "state": {
       "layout": "IPY_MODEL_22502616b42347e38be2645bef9d16c1",
       "outputs": [
        {
         "data": {
          "application/vnd.jupyter.widget-view+json": {
           "model_id": "c7f35f728b21476eb50331a2e71627b7",
           "version_major": 2,
           "version_minor": 0
          },
          "text/plain": "VBox(children=(HBox(children=(IntSlider(value=1, layout=Layout(width='60%'), max=266, min=1), Label(value='of …"
         },
         "metadata": {},
         "output_type": "display_data"
        }
       ]
      }
     },
     "aafee161bd434522b83fd923afdec441": {
      "model_module": "@jupyter-widgets/base",
      "model_module_version": "1.2.0",
      "model_name": "LayoutModel",
      "state": {
       "_model_module_version": "1.2.0",
       "_view_module_version": "1.2.0",
       "justify_items": null,
       "object_fit": null,
       "object_position": null,
       "width": "30px"
      }
     },
     "ab29c396c5d947c9af6fb48e440c66ab": {
      "model_module": "@jupyter-widgets/base",
      "model_module_version": "1.2.0",
      "model_name": "LayoutModel",
      "state": {
       "_model_module_version": "1.2.0",
       "_view_module_version": "1.2.0",
       "justify_items": null,
       "object_fit": null,
       "object_position": null
      }
     },
     "ab40e6ec8aaa4c80ad99a918182130d2": {
      "model_module": "@jupyter-widgets/base",
      "model_module_version": "1.2.0",
      "model_name": "LayoutModel",
      "state": {
       "_model_module_version": "1.2.0",
       "_view_module_version": "1.2.0",
       "justify_items": null,
       "object_fit": null,
       "object_position": null
      }
     },
     "ab82d19c4b324e6e88da2bfeb8528aef": {
      "model_module": "@jupyter-widgets/controls",
      "model_module_version": "1.5.0",
      "model_name": "DescriptionStyleModel",
      "state": {
       "_model_module_version": "1.5.0",
       "_view_module_version": "1.2.0",
       "description_width": ""
      }
     },
     "ab90046b8bb1468a8969c493730c816d": {
      "model_module": "@jupyter-widgets/controls",
      "model_module_version": "1.5.0",
      "model_name": "DescriptionStyleModel",
      "state": {
       "_model_module_version": "1.5.0",
       "_view_module_version": "1.2.0",
       "description_width": ""
      }
     },
     "abfa1a57826c4a4db049fc133d5c813d": {
      "model_module": "@jupyter-widgets/base",
      "model_module_version": "1.2.0",
      "model_name": "LayoutModel",
      "state": {
       "_model_module_version": "1.2.0",
       "_view_module_version": "1.2.0",
       "justify_items": null,
       "object_fit": null,
       "object_position": null,
       "width": "20%"
      }
     },
     "ac6252e124eb4de8b991b44f38d7db1b": {
      "model_module": "@jupyter-widgets/base",
      "model_module_version": "1.2.0",
      "model_name": "LayoutModel",
      "state": {
       "_model_module_version": "1.2.0",
       "_view_module_version": "1.2.0",
       "justify_items": null,
       "object_fit": null,
       "object_position": null
      }
     },
     "ad163620dfed486ea244fd1f7df6c50d": {
      "model_module": "@jupyter-widgets/base",
      "model_module_version": "1.2.0",
      "model_name": "LayoutModel",
      "state": {
       "_model_module_version": "1.2.0",
       "_view_module_version": "1.2.0",
       "justify_items": null,
       "object_fit": null,
       "object_position": null
      }
     },
     "ad4f8b4b4a894041906d56af85735700": {
      "model_module": "@jupyter-widgets/controls",
      "model_module_version": "1.5.0",
      "model_name": "ButtonStyleModel",
      "state": {
       "_model_module_version": "1.5.0",
       "_view_module_version": "1.2.0"
      }
     },
     "ae4b4bb18ab2444d91b01effb8d293de": {
      "model_module": "@jupyter-widgets/controls",
      "model_module_version": "1.5.0",
      "model_name": "GridBoxModel",
      "state": {
       "_model_module_version": "1.5.0",
       "_view_module_version": "1.5.0",
       "children": [
        "IPY_MODEL_6058d22045954a5fa8594fb2931e86c0",
        "IPY_MODEL_77d3a20ddf4e4552936d159d6937e52b"
       ],
       "layout": "IPY_MODEL_53bd3a2e72d24162a395eb2ccc0a469f"
      }
     },
     "ae943013ed3c4d938b28854ef3f4d461": {
      "model_module": "@jupyter-widgets/base",
      "model_module_version": "1.2.0",
      "model_name": "LayoutModel",
      "state": {
       "_model_module_version": "1.2.0",
       "_view_module_version": "1.2.0",
       "justify_items": null,
       "object_fit": null,
       "object_position": null
      }
     },
     "aef43acc6b2849ed832135dec5c13b01": {
      "model_module": "@jupyter-widgets/controls",
      "model_module_version": "1.5.0",
      "model_name": "LabelModel",
      "state": {
       "_model_module_version": "1.5.0",
       "_view_module_version": "1.5.0",
       "layout": "IPY_MODEL_f2a05af2c9bf49bba89dc31c6bb8b654",
       "style": "IPY_MODEL_d91b94d5b5e2499bbcbbd2a599602d37",
       "value": "Search Columns"
      }
     },
     "aefb8e8613f949e894ffdadc3a6e3a98": {
      "model_module": "@jupyter-widgets/base",
      "model_module_version": "1.2.0",
      "model_name": "LayoutModel",
      "state": {
       "_model_module_version": "1.2.0",
       "_view_module_version": "1.2.0",
       "justify_items": null,
       "object_fit": null,
       "object_position": null
      }
     },
     "af6e4f900ac5432eaf96f9b297cca5d5": {
      "model_module": "@jupyter-widgets/controls",
      "model_module_version": "1.5.0",
      "model_name": "TextModel",
      "state": {
       "_model_module_version": "1.5.0",
       "_view_module_version": "1.5.0",
       "layout": "IPY_MODEL_afe0b42a8735442399ea0577478d5844",
       "style": "IPY_MODEL_6ce14665dfe54148a2e2c6bfa5d919f0",
       "value": "filtered_data.csv"
      }
     },
     "afb5ada72693459bb9841b874b9e238b": {
      "model_module": "@jupyter-widgets/controls",
      "model_module_version": "1.5.0",
      "model_name": "SelectMultipleModel",
      "state": {
       "_model_module_version": "1.5.0",
       "_options_labels": [
        "text",
        "text_translated",
        "media",
        "source",
        "mode",
        "num_persons",
        "_timestamp",
        "confidence",
        "source_reliability",
        "locations",
        "origin_bool",
        "origin",
        "destination",
        "geom_tweet",
        "triage_status"
       ],
       "_view_module_version": "1.5.0",
       "index": [],
       "layout": "IPY_MODEL_a0813b97e0674c42854e884df4b11964",
       "rows": 5,
       "style": "IPY_MODEL_87b27b00d5884dddbd08c7700ea9724b"
      }
     },
     "afe0b42a8735442399ea0577478d5844": {
      "model_module": "@jupyter-widgets/base",
      "model_module_version": "1.2.0",
      "model_name": "LayoutModel",
      "state": {
       "_model_module_version": "1.2.0",
       "_view_module_version": "1.2.0",
       "justify_items": null,
       "object_fit": null,
       "object_position": null
      }
     },
     "afea2f1bcbf448e5a72cfda315fb0ee3": {
      "model_module": "@jupyter-widgets/controls",
      "model_module_version": "1.5.0",
      "model_name": "ButtonStyleModel",
      "state": {
       "_model_module_version": "1.5.0",
       "_view_module_version": "1.2.0"
      }
     },
     "b004735d32344803a942e44952c99509": {
      "model_module": "@jupyter-widgets/controls",
      "model_module_version": "1.5.0",
      "model_name": "ButtonModel",
      "state": {
       "_model_module_version": "1.5.0",
       "_view_module_version": "1.5.0",
       "icon": "chevron-left",
       "layout": "IPY_MODEL_aafee161bd434522b83fd923afdec441",
       "style": "IPY_MODEL_0cc9edac67f64cbe9bbe4d0ca8c3fe8f"
      }
     },
     "b0aa8a5b909246b7b6ddf3f67ead052f": {
      "model_module": "@jupyter-widgets/controls",
      "model_module_version": "1.5.0",
      "model_name": "DescriptionStyleModel",
      "state": {
       "_model_module_version": "1.5.0",
       "_view_module_version": "1.2.0",
       "description_width": ""
      }
     },
     "b11d09c0c05748d1880dcc8967b5ea62": {
      "model_module": "@jupyter-widgets/controls",
      "model_module_version": "1.5.0",
      "model_name": "ButtonModel",
      "state": {
       "_model_module_version": "1.5.0",
       "_view_module_version": "1.5.0",
       "icon": "chevron-left",
       "layout": "IPY_MODEL_215ea3c04b134d61ba83c3c004c68709",
       "style": "IPY_MODEL_a6f8fd6160684d458c582242584e74f0"
      }
     },
     "b135988b80ab4ce6bf23e74bb962e060": {
      "model_module": "@jupyter-widgets/controls",
      "model_module_version": "1.5.0",
      "model_name": "DescriptionStyleModel",
      "state": {
       "_model_module_version": "1.5.0",
       "_view_module_version": "1.2.0",
       "description_width": ""
      }
     },
     "b1c007846af0450d95b148d281142c36": {
      "model_module": "@jupyter-widgets/controls",
      "model_module_version": "1.5.0",
      "model_name": "DescriptionStyleModel",
      "state": {
       "_model_module_version": "1.5.0",
       "_view_module_version": "1.2.0",
       "description_width": ""
      }
     },
     "b20b793b677b4aeca1073ae15685fdb4": {
      "model_module": "@jupyter-widgets/controls",
      "model_module_version": "1.5.0",
      "model_name": "DescriptionStyleModel",
      "state": {
       "_model_module_version": "1.5.0",
       "_view_module_version": "1.2.0",
       "description_width": ""
      }
     },
     "b267a4c4bdb5435da71f9fdb6f92be72": {
      "model_module": "@jupyter-widgets/base",
      "model_module_version": "1.2.0",
      "model_name": "LayoutModel",
      "state": {
       "_model_module_version": "1.2.0",
       "_view_module_version": "1.2.0",
       "justify_items": null,
       "object_fit": null,
       "object_position": null,
       "width": "60%"
      }
     },
     "b3578bf6cdb34211884073a5ed0290e3": {
      "model_module": "@jupyter-widgets/controls",
      "model_module_version": "1.5.0",
      "model_name": "HTMLModel",
      "state": {
       "_model_module_version": "1.5.0",
       "_view_module_version": "1.5.0",
       "layout": "IPY_MODEL_5111000c32094d19886dcffaed98351c",
       "style": "IPY_MODEL_e7f8b79db4a94dc6a332a1e797345f43",
       "value": "Deselect with ctrl + click"
      }
     },
     "b3d6ca8f3c9147c9931af33085ce20c0": {
      "model_module": "@jupyter-widgets/controls",
      "model_module_version": "1.5.0",
      "model_name": "DescriptionStyleModel",
      "state": {
       "_model_module_version": "1.5.0",
       "_view_module_version": "1.2.0",
       "description_width": ""
      }
     },
     "b43eeadde853495bb9495b02610cf0e1": {
      "model_module": "@jupyter-widgets/controls",
      "model_module_version": "1.5.0",
      "model_name": "LabelModel",
      "state": {
       "_model_module_version": "1.5.0",
       "_view_module_version": "1.5.0",
       "layout": "IPY_MODEL_5eb73916e291466ead5d499b307112a4",
       "style": "IPY_MODEL_33fd8871c49744be871d83ece34de935",
       "value": "of 266 pages with "
      }
     },
     "b4a45d770bc142eabf5eca3df5d60ac5": {
      "model_module": "@jupyter-widgets/controls",
      "model_module_version": "1.5.0",
      "model_name": "LabelModel",
      "state": {
       "_model_module_version": "1.5.0",
       "_view_module_version": "1.5.0",
       "layout": "IPY_MODEL_002fe7ece66a48ccab4fae83a642e278",
       "style": "IPY_MODEL_256fee590b364aab8b587b02558ba541"
      }
     },
     "b50d095e0964447bbe7ee13589c9c1ed": {
      "model_module": "@jupyter-widgets/base",
      "model_module_version": "1.2.0",
      "model_name": "LayoutModel",
      "state": {
       "_model_module_version": "1.2.0",
       "_view_module_version": "1.2.0",
       "grid_area": "top-right",
       "justify_items": null,
       "object_fit": null,
       "object_position": null
      }
     },
     "b53a83724cad465b93a3e080f4578660": {
      "model_module": "@jupyter-widgets/controls",
      "model_module_version": "1.5.0",
      "model_name": "SelectMultipleModel",
      "state": {
       "_model_module_version": "1.5.0",
       "_options_labels": [
        "text",
        "text_translated",
        "media",
        "source",
        "mode",
        "num_persons",
        "_timestamp",
        "confidence",
        "source_reliability",
        "locations",
        "origin_bool",
        "origin",
        "destination",
        "geom_tweet",
        "triage_status"
       ],
       "_view_module_version": "1.5.0",
       "index": [],
       "layout": "IPY_MODEL_ac6252e124eb4de8b991b44f38d7db1b",
       "rows": 5,
       "style": "IPY_MODEL_f43e237d1e354a5bb5f7ab108b786b1f"
      }
     },
     "b570995527fb4189a225f42dd3958bc9": {
      "model_module": "@jupyter-widgets/controls",
      "model_module_version": "1.5.0",
      "model_name": "HBoxModel",
      "state": {
       "_model_module_version": "1.5.0",
       "_view_module_version": "1.5.0",
       "children": [
        "IPY_MODEL_69d6aee135a742d5bbce6560a09372f3",
        "IPY_MODEL_576eb6ffea894fd1a31fde0986bfe676",
        "IPY_MODEL_f8fa6507c9954fc9a494ea7ad8c92e69"
       ],
       "layout": "IPY_MODEL_9a2dd1281c344601bb10986ea8460431"
      }
     },
     "b61076377c274ef698cb612e04ca7458": {
      "model_module": "@jupyter-widgets/base",
      "model_module_version": "1.2.0",
      "model_name": "LayoutModel",
      "state": {
       "_model_module_version": "1.2.0",
       "_view_module_version": "1.2.0",
       "justify_items": null,
       "object_fit": null,
       "object_position": null
      }
     },
     "b67ca98d65954a0585848af833b3b024": {
      "model_module": "@jupyter-widgets/controls",
      "model_module_version": "1.5.0",
      "model_name": "AccordionModel",
      "state": {
       "_model_module_version": "1.5.0",
       "_titles": {
        "0": "Sorting",
        "1": "Required Values",
        "2": "Searching",
        "3": "Save filtered Data"
       },
       "_view_module_version": "1.5.0",
       "children": [
        "IPY_MODEL_b570995527fb4189a225f42dd3958bc9",
        "IPY_MODEL_fad6f30183074331983d29962541ebed",
        "IPY_MODEL_170c9152fe304b5f81ae02bd1e5abf1a",
        "IPY_MODEL_7e07ebd9ad744a8a9802297e0973983c"
       ],
       "layout": "IPY_MODEL_f655dd2583ff4db8854013f1fc8a08da"
      }
     },
     "b719416a863845588d70c01ab9e28ed1": {
      "model_module": "@jupyter-widgets/controls",
      "model_module_version": "1.5.0",
      "model_name": "DescriptionStyleModel",
      "state": {
       "_model_module_version": "1.5.0",
       "_view_module_version": "1.2.0",
       "description_width": ""
      }
     },
     "b722d36c688447c8834a00a844327dc6": {
      "model_module": "@jupyter-widgets/base",
      "model_module_version": "1.2.0",
      "model_name": "LayoutModel",
      "state": {
       "_model_module_version": "1.2.0",
       "_view_module_version": "1.2.0",
       "justify_items": null,
       "object_fit": null,
       "object_position": null,
       "width": "20%"
      }
     },
     "b74204ea9929468fa7c79d10bb222fa4": {
      "model_module": "@jupyter-widgets/base",
      "model_module_version": "1.2.0",
      "model_name": "LayoutModel",
      "state": {
       "_model_module_version": "1.2.0",
       "_view_module_version": "1.2.0",
       "grid_area": "top-right",
       "justify_items": null,
       "object_fit": null,
       "object_position": null
      }
     },
     "b783034fa2b54d4a9cf4f6e34b91dc7f": {
      "model_module": "@jupyter-widgets/output",
      "model_module_version": "1.0.0",
      "model_name": "OutputModel",
      "state": {
       "layout": "IPY_MODEL_d9463977e24a4a6da1f60a339cd325c7",
       "outputs": [
        {
         "data": {
          "text/html": "<div>\n<style scoped>\n    .dataframe tbody tr th:only-of-type {\n        vertical-align: middle;\n    }\n\n    .dataframe tbody tr th {\n        vertical-align: top;\n    }\n\n    .dataframe thead th {\n        text-align: right;\n    }\n</style>\n<table border=\"1\" class=\"dataframe\">\n  <thead>\n    <tr style=\"text-align: right;\">\n      <th></th>\n      <th>text</th>\n      <th>text_translated</th>\n      <th>media</th>\n      <th>source</th>\n      <th>mode</th>\n      <th>num_persons</th>\n      <th>_timestamp</th>\n      <th>confidence</th>\n      <th>source_reliability</th>\n      <th>locations</th>\n      <th>origin_bool</th>\n      <th>origin</th>\n      <th>destination</th>\n      <th>geom_tweet</th>\n      <th>triage_status</th>\n    </tr>\n    <tr>\n      <th>uniqueid</th>\n      <th></th>\n      <th></th>\n      <th></th>\n      <th></th>\n      <th></th>\n      <th></th>\n      <th></th>\n      <th></th>\n      <th></th>\n      <th></th>\n      <th></th>\n      <th></th>\n      <th></th>\n      <th></th>\n      <th></th>\n    </tr>\n  </thead>\n  <tbody>\n    <tr>\n      <th>969</th>\n      <td>\"En Macédoine, les migrants remplissent les trains pour la Serbie - AFP\" en replay sur Android TV Replay http://t.co/k8LZQkCzNh</td>\n      <td>in macedonia migrants fill trains for serbia afp in replay on android tv replay</td>\n      <td>NaN</td>\n      <td>twitter</td>\n      <td>train</td>\n      <td>NaN</td>\n      <td>2019-09-12 04:08:04.000000</td>\n      <td>0.63</td>\n      <td>0.12</td>\n      <td>['macedonia', 'serbia']</td>\n      <td>NaN</td>\n      <td>NaN</td>\n      <td>NaN</td>\n      <td>0101000000575BB1BFEC6E35400000000000004540</td>\n      <td>NaN</td>\n    </tr>\n    <tr>\n      <th>795</th>\n      <td>\"Macedonia, ancora frontiere chiuse. I migranti passano dal filo spinato\" - http://t.co/lt7wNeffC7 http://t.co/jvg5cMgDxk</td>\n      <td>macedonia still closed borders migrants pass by barbed wire</td>\n      <td>['http://pbs.twimg.com/media/CNBxOh7WoAAP-zV.jpg']</td>\n      <td>twitter</td>\n      <td>NaN</td>\n      <td>NaN</td>\n      <td>2019-09-14 16:50:53.000000</td>\n      <td>0.81</td>\n      <td>0.04</td>\n      <td>['macedonia']</td>\n      <td>NaN</td>\n      <td>NaN</td>\n      <td>NaN</td>\n      <td>0101000000575BB1BFEC6E35400000000000004540</td>\n      <td>NaN</td>\n    </tr>\n    <tr>\n      <th>1158</th>\n      <td>\"More than 130,000 #migrants have attempted to cross the Mediterranean in 2015\"  http://t.co/ZOvpUsTx1d</td>\n      <td>more than 130 000 migrants have attempted to cross the mediterranean in 2015</td>\n      <td>NaN</td>\n      <td>twitter</td>\n      <td>NaN</td>\n      <td>NaN</td>\n      <td>2019-07-26 17:47:04.000000</td>\n      <td>0.53</td>\n      <td>0.94</td>\n      <td>[]</td>\n      <td>NaN</td>\n      <td>NaN</td>\n      <td>NaN</td>\n      <td>NaN</td>\n      <td>NaN</td>\n    </tr>\n    <tr>\n      <th>2364</th>\n      <td>\"On Thursday Slovenia reported that 12,000 migrants had arrived in one day - a record in the current crisis in Central Europe.\" - BBC</td>\n      <td>on thursday slovenia reported that 12 000 migrants had arrived in one day a record in the current crisis in central europe bbc</td>\n      <td>NaN</td>\n      <td>twitter</td>\n      <td>NaN</td>\n      <td>NaN</td>\n      <td>2019-11-15 21:14:00.000000</td>\n      <td>0.93</td>\n      <td>0.23</td>\n      <td>['slovenia']</td>\n      <td>NaN</td>\n      <td>NaN</td>\n      <td>NaN</td>\n      <td>0101000000151DC9E53F042D402CD49AE61D074740</td>\n      <td>NaN</td>\n    </tr>\n    <tr>\n      <th>1137</th>\n      <td>\"With Tel Abyad secured, the Syrian Kurds have managed to forge a corridor between Cezire and Kobani. On Monday,... http://t.co/iJDle1SzwW</td>\n      <td>with tel abyad secured the syrian kurds have managed to forge a corridor between cezire and kobani on monday</td>\n      <td>NaN</td>\n      <td>twitter</td>\n      <td>NaN</td>\n      <td>NaN</td>\n      <td>2019-07-10 16:24:53.000000</td>\n      <td>0.71</td>\n      <td>0.24</td>\n      <td>['syria']</td>\n      <td>NaN</td>\n      <td>NaN</td>\n      <td>NaN</td>\n      <td>0101000000E8D9ACFA5C254240EFC9C342ADC14040</td>\n      <td>NaN</td>\n    </tr>\n    <tr>\n      <th>574</th>\n      <td>#2015 Франция закрывает границу с Италией http://t.co/O77dBheZKv</td>\n      <td>2015 france closes the border with italy</td>\n      <td>NaN</td>\n      <td>twitter</td>\n      <td>NaN</td>\n      <td>2015.0</td>\n      <td>2019-07-09 09:59:43.000000</td>\n      <td>0.62</td>\n      <td>1.00</td>\n      <td>['france', 'italy']</td>\n      <td>NaN</td>\n      <td>NaN</td>\n      <td>NaN</td>\n      <td>NaN</td>\n      <td>NaN</td>\n    </tr>\n    <tr>\n      <th>2041</th>\n      <td>#AFP Slovenia to send back train from Croatia carrying 150 migrants - AFP: Slovenia to send back train from Cr... http://t.co/zNEN4XLp7h</td>\n      <td>afp slovenia to send back train from croatia carrying 150 migrants afp slovenia to send back train from cr</td>\n      <td>NaN</td>\n      <td>twitter</td>\n      <td>train</td>\n      <td>150.0</td>\n      <td>2019-10-11 17:14:05.000000</td>\n      <td>0.99</td>\n      <td>0.26</td>\n      <td>['slovenia', 'croatia']</td>\n      <td>NaN</td>\n      <td>HR0</td>\n      <td>NaN</td>\n      <td>0101000000151DC9E53F042D402CD49AE61D074740</td>\n      <td>NaN</td>\n    </tr>\n    <tr>\n      <th>253</th>\n      <td>#AUSTRIA #STANDARD #WIEN broadcastetd by #TheIsraelCompany: Kommentar von Michael Völker - Die Flüchtlinge und ihr... http://t.co/MAn0lwR3vI</td>\n      <td>austria standard vienna broadcastetd by theisraelcompany comment by michael völker the refugees and their</td>\n      <td>NaN</td>\n      <td>twitter</td>\n      <td>NaN</td>\n      <td>NaN</td>\n      <td>2019-09-22 16:16:11.000000</td>\n      <td>0.67</td>\n      <td>0.05</td>\n      <td>['austria', 'vienna', 'israel']</td>\n      <td>NaN</td>\n      <td>NaN</td>\n      <td>NaN</td>\n      <td>010100000076711B0DE05D30409A99999999194840</td>\n      <td>NaN</td>\n    </tr>\n    <tr>\n      <th>397</th>\n      <td>#AUSTRIA #STANDARD #WIEN broadcastetd by #TheIsraelCompany: Syrien - Putin schließt Einsatz von Bodentruppen in Sy... http://t.co/LGKZhvK6c2</td>\n      <td>austria standard vienna broadcastetd by theisraelcompany syria putin closes deployment of ground forces in sy</td>\n      <td>NaN</td>\n      <td>twitter</td>\n      <td>NaN</td>\n      <td>NaN</td>\n      <td>2019-10-21 04:15:59.000000</td>\n      <td>0.51</td>\n      <td>0.06</td>\n      <td>['austria', 'vienna', 'israel', 'syria']</td>\n      <td>NaN</td>\n      <td>NaN</td>\n      <td>NaN</td>\n      <td>010100000076711B0DE05D30409A99999999194840</td>\n      <td>NaN</td>\n    </tr>\n    <tr>\n      <th>959</th>\n      <td>#Afrique La longue marche des migrants qui franchissent les Alpes à pied http://t.co/Way1hlrjE9</td>\n      <td>africa the long march of migrants crossing the alps on foot</td>\n      <td>NaN</td>\n      <td>twitter</td>\n      <td>on foot</td>\n      <td>NaN</td>\n      <td>2019-07-24 11:43:36.000000</td>\n      <td>0.55</td>\n      <td>0.49</td>\n      <td>[]</td>\n      <td>NaN</td>\n      <td>NaN</td>\n      <td>NaN</td>\n      <td>NaN</td>\n      <td>NaN</td>\n    </tr>\n  </tbody>\n</table>\n</div>",
          "text/plain": "                                                                                                                                                  text  \\\nuniqueid                                                                                                                                                 \n969       \"En Macédoine, les migrants remplissent les trains pour la Serbie - AFP\" en replay sur Android TV Replay http://t.co/k8LZQkCzNh                \n795       \"Macedonia, ancora frontiere chiuse. I migranti passano dal filo spinato\" - http://t.co/lt7wNeffC7 http://t.co/jvg5cMgDxk                      \n1158      \"More than 130,000 #migrants have attempted to cross the Mediterranean in 2015\"  http://t.co/ZOvpUsTx1d                                        \n2364      \"On Thursday Slovenia reported that 12,000 migrants had arrived in one day - a record in the current crisis in Central Europe.\" - BBC          \n1137      \"With Tel Abyad secured, the Syrian Kurds have managed to forge a corridor between Cezire and Kobani. On Monday,... http://t.co/iJDle1SzwW     \n574       #2015 Франция закрывает границу с Италией http://t.co/O77dBheZKv                                                                               \n2041      #AFP Slovenia to send back train from Croatia carrying 150 migrants - AFP: Slovenia to send back train from Cr... http://t.co/zNEN4XLp7h       \n253       #AUSTRIA #STANDARD #WIEN broadcastetd by #TheIsraelCompany: Kommentar von Michael Völker - Die Flüchtlinge und ihr... http://t.co/MAn0lwR3vI   \n397       #AUSTRIA #STANDARD #WIEN broadcastetd by #TheIsraelCompany: Syrien - Putin schließt Einsatz von Bodentruppen in Sy... http://t.co/LGKZhvK6c2   \n959       #Afrique La longue marche des migrants qui franchissent les Alpes à pied http://t.co/Way1hlrjE9                                                \n\n                                                                                                                         text_translated  \\\nuniqueid                                                                                                                                   \n969       in macedonia migrants fill trains for serbia afp in replay on android tv replay                                                  \n795       macedonia still closed borders migrants pass by barbed wire                                                                      \n1158      more than 130 000 migrants have attempted to cross the mediterranean in 2015                                                     \n2364      on thursday slovenia reported that 12 000 migrants had arrived in one day a record in the current crisis in central europe bbc   \n1137      with tel abyad secured the syrian kurds have managed to forge a corridor between cezire and kobani on monday                     \n574       2015 france closes the border with italy                                                                                         \n2041      afp slovenia to send back train from croatia carrying 150 migrants afp slovenia to send back train from cr                       \n253       austria standard vienna broadcastetd by theisraelcompany comment by michael völker the refugees and their                        \n397       austria standard vienna broadcastetd by theisraelcompany syria putin closes deployment of ground forces in sy                    \n959       africa the long march of migrants crossing the alps on foot                                                                      \n\n                                                       media   source  \\\nuniqueid                                                                \n969       NaN                                                 twitter   \n795       ['http://pbs.twimg.com/media/CNBxOh7WoAAP-zV.jpg']  twitter   \n1158      NaN                                                 twitter   \n2364      NaN                                                 twitter   \n1137      NaN                                                 twitter   \n574       NaN                                                 twitter   \n2041      NaN                                                 twitter   \n253       NaN                                                 twitter   \n397       NaN                                                 twitter   \n959       NaN                                                 twitter   \n\n             mode  num_persons                  _timestamp  confidence  \\\nuniqueid                                                                 \n969       train   NaN           2019-09-12 04:08:04.000000  0.63         \n795       NaN     NaN           2019-09-14 16:50:53.000000  0.81         \n1158      NaN     NaN           2019-07-26 17:47:04.000000  0.53         \n2364      NaN     NaN           2019-11-15 21:14:00.000000  0.93         \n1137      NaN     NaN           2019-07-10 16:24:53.000000  0.71         \n574       NaN      2015.0       2019-07-09 09:59:43.000000  0.62         \n2041      train    150.0        2019-10-11 17:14:05.000000  0.99         \n253       NaN     NaN           2019-09-22 16:16:11.000000  0.67         \n397       NaN     NaN           2019-10-21 04:15:59.000000  0.51         \n959       on foot NaN           2019-07-24 11:43:36.000000  0.55         \n\n          source_reliability                                 locations  \\\nuniqueid                                                                 \n969       0.12                ['macedonia', 'serbia']                    \n795       0.04                ['macedonia']                              \n1158      0.94                []                                         \n2364      0.23                ['slovenia']                               \n1137      0.24                ['syria']                                  \n574       1.00                ['france', 'italy']                        \n2041      0.26                ['slovenia', 'croatia']                    \n253       0.05                ['austria', 'vienna', 'israel']            \n397       0.06                ['austria', 'vienna', 'israel', 'syria']   \n959       0.49                []                                         \n\n          origin_bool origin destination  \\\nuniqueid                                   \n969      NaN           NaN    NaN          \n795      NaN           NaN    NaN          \n1158     NaN           NaN    NaN          \n2364     NaN           NaN    NaN          \n1137     NaN           NaN    NaN          \n574      NaN           NaN    NaN          \n2041     NaN           HR0    NaN          \n253      NaN           NaN    NaN          \n397      NaN           NaN    NaN          \n959      NaN           NaN    NaN          \n\n                                          geom_tweet  triage_status  \nuniqueid                                                             \n969       0101000000575BB1BFEC6E35400000000000004540 NaN             \n795       0101000000575BB1BFEC6E35400000000000004540 NaN             \n1158      NaN                                        NaN             \n2364      0101000000151DC9E53F042D402CD49AE61D074740 NaN             \n1137      0101000000E8D9ACFA5C254240EFC9C342ADC14040 NaN             \n574       NaN                                        NaN             \n2041      0101000000151DC9E53F042D402CD49AE61D074740 NaN             \n253       010100000076711B0DE05D30409A99999999194840 NaN             \n397       010100000076711B0DE05D30409A99999999194840 NaN             \n959       NaN                                        NaN             "
         },
         "metadata": {},
         "output_type": "display_data"
        }
       ]
      }
     },
     "b7a7c27fd52c4e43bd750c5365051e7e": {
      "model_module": "@jupyter-widgets/controls",
      "model_module_version": "1.5.0",
      "model_name": "VBoxModel",
      "state": {
       "_model_module_version": "1.5.0",
       "_view_module_version": "1.5.0",
       "children": [
        "IPY_MODEL_456f211dc9d24b5ca6cc091fe3700bcf",
        "IPY_MODEL_f47e5852dc8e4fbfb973af98cb244b4a",
        "IPY_MODEL_9e725f8b29424c8595a637c6e2826203"
       ],
       "layout": "IPY_MODEL_3cdeead130b94ac58aa989e139418ff5"
      }
     },
     "b81ef163a42149f6b06b151c7950e7d1": {
      "model_module": "@jupyter-widgets/controls",
      "model_module_version": "1.5.0",
      "model_name": "SelectMultipleModel",
      "state": {
       "_model_module_version": "1.5.0",
       "_options_labels": [
        "text",
        "text_translated",
        "media",
        "source",
        "mode",
        "num_persons",
        "_timestamp",
        "confidence",
        "source_reliability",
        "locations",
        "origin_bool",
        "origin",
        "destination",
        "geom_tweet",
        "triage_status"
       ],
       "_view_module_version": "1.5.0",
       "index": [],
       "layout": "IPY_MODEL_74a1e1ffe7dc4078b3cef0f3548ae14e",
       "rows": 5,
       "style": "IPY_MODEL_cd3e63e5c8ef47c19750f716fa16306a"
      }
     },
     "b97949ad2e19453c8f5b002ca5c505a8": {
      "model_module": "@jupyter-widgets/controls",
      "model_module_version": "1.5.0",
      "model_name": "DropdownModel",
      "state": {
       "_model_module_version": "1.5.0",
       "_options_labels": [
        "text",
        "text_translated",
        "media",
        "source",
        "mode",
        "num_persons",
        "_timestamp",
        "confidence",
        "source_reliability",
        "locations",
        "origin_bool",
        "origin",
        "destination",
        "geom_tweet",
        "triage_status"
       ],
       "_view_module_version": "1.5.0",
       "description": "order by",
       "index": 0,
       "layout": "IPY_MODEL_11762bc8096d498fa4a2d75b4b68363b",
       "style": "IPY_MODEL_ab82d19c4b324e6e88da2bfeb8528aef"
      }
     },
     "ba6140ef05c64577b50868c48974ed02": {
      "model_module": "@jupyter-widgets/base",
      "model_module_version": "1.2.0",
      "model_name": "LayoutModel",
      "state": {
       "_model_module_version": "1.2.0",
       "_view_module_version": "1.2.0",
       "justify_items": null,
       "object_fit": null,
       "object_position": null
      }
     },
     "bac23d2a8579404bbb8f1aa2b22e97ef": {
      "model_module": "@jupyter-widgets/controls",
      "model_module_version": "1.5.0",
      "model_name": "TextModel",
      "state": {
       "_model_module_version": "1.5.0",
       "_view_module_version": "1.5.0",
       "layout": "IPY_MODEL_cdc537e0748d491aaba2b1d75f488e70",
       "style": "IPY_MODEL_d7708f3bbfea4324a6feb7adbc6fe680"
      }
     },
     "bc96f144528942908cb22624c810b983": {
      "model_module": "@jupyter-widgets/controls",
      "model_module_version": "1.5.0",
      "model_name": "LabelModel",
      "state": {
       "_model_module_version": "1.5.0",
       "_view_module_version": "1.5.0",
       "layout": "IPY_MODEL_f9adb8de8dc147a6b33a94ad5d5b6b8c",
       "style": "IPY_MODEL_3e8939cddcae4ed9a196516612c6810f",
       "value": "of 266 pages with "
      }
     },
     "bcb1fa6e014a48c3b693ca0f60bc09e2": {
      "model_module": "@jupyter-widgets/controls",
      "model_module_version": "1.5.0",
      "model_name": "LabelModel",
      "state": {
       "_model_module_version": "1.5.0",
       "_view_module_version": "1.5.0",
       "layout": "IPY_MODEL_dd890f4bdfb64bebaf5ff6e3237aa659",
       "style": "IPY_MODEL_c014bd1bdfdb48f0b0a49e7187dec491",
       "value": "Search Columns"
      }
     },
     "bd45963ed5224aebb302e11622e6ca72": {
      "model_module": "@jupyter-widgets/base",
      "model_module_version": "1.2.0",
      "model_name": "LayoutModel",
      "state": {
       "_model_module_version": "1.2.0",
       "_view_module_version": "1.2.0",
       "justify_items": null,
       "object_fit": null,
       "object_position": null
      }
     },
     "bd693307a0094240b3d35dc9b279ab8e": {
      "model_module": "@jupyter-widgets/base",
      "model_module_version": "1.2.0",
      "model_name": "LayoutModel",
      "state": {
       "_model_module_version": "1.2.0",
       "_view_module_version": "1.2.0",
       "justify_items": null,
       "object_fit": null,
       "object_position": null
      }
     },
     "bdcba343640140b8869f0af6f03a02d2": {
      "model_module": "@jupyter-widgets/base",
      "model_module_version": "1.2.0",
      "model_name": "LayoutModel",
      "state": {
       "_model_module_version": "1.2.0",
       "_view_module_version": "1.2.0",
       "justify_items": null,
       "object_fit": null,
       "object_position": null
      }
     },
     "bde8b002da644d12a6a4f50242da8080": {
      "model_module": "@jupyter-widgets/base",
      "model_module_version": "1.2.0",
      "model_name": "LayoutModel",
      "state": {
       "_model_module_version": "1.2.0",
       "_view_module_version": "1.2.0",
       "justify_items": null,
       "object_fit": null,
       "object_position": null
      }
     },
     "be1a58a9b5e0438092097ae9c4da8f1d": {
      "model_module": "@jupyter-widgets/base",
      "model_module_version": "1.2.0",
      "model_name": "LayoutModel",
      "state": {
       "_model_module_version": "1.2.0",
       "_view_module_version": "1.2.0",
       "grid_template_areas": "\"top-left top-right\"\n\"top-left top-right\"",
       "grid_template_columns": "1fr 1fr",
       "grid_template_rows": "1fr 1fr",
       "justify_items": null,
       "object_fit": null,
       "object_position": null
      }
     },
     "be1b000c5ed94eceba249a7ae34c0acc": {
      "model_module": "@jupyter-widgets/base",
      "model_module_version": "1.2.0",
      "model_name": "LayoutModel",
      "state": {
       "_model_module_version": "1.2.0",
       "_view_module_version": "1.2.0",
       "justify_items": null,
       "object_fit": null,
       "object_position": null
      }
     },
     "be8c24aaea6e41feb578b95a0e08f805": {
      "model_module": "@jupyter-widgets/base",
      "model_module_version": "1.2.0",
      "model_name": "LayoutModel",
      "state": {
       "_model_module_version": "1.2.0",
       "_view_module_version": "1.2.0",
       "justify_items": null,
       "object_fit": null,
       "object_position": null,
       "width": "60%"
      }
     },
     "bed260b3d1e941e69526b9ff01308c25": {
      "model_module": "@jupyter-widgets/controls",
      "model_module_version": "1.5.0",
      "model_name": "DropdownModel",
      "state": {
       "_model_module_version": "1.5.0",
       "_options_labels": [
        "10",
        "20",
        "50"
       ],
       "_view_module_version": "1.5.0",
       "description": "items per page",
       "index": 0,
       "layout": "IPY_MODEL_abfa1a57826c4a4db049fc133d5c813d",
       "style": "IPY_MODEL_82a98f4ef4814564b37741ae8379099b"
      }
     },
     "bf3021a1dfcb407996389759adaa5caa": {
      "model_module": "@jupyter-widgets/controls",
      "model_module_version": "1.5.0",
      "model_name": "DescriptionStyleModel",
      "state": {
       "_model_module_version": "1.5.0",
       "_view_module_version": "1.2.0",
       "description_width": ""
      }
     },
     "bfa3c4cfb7b84a9c82e0d110f7d0fa01": {
      "model_module": "@jupyter-widgets/controls",
      "model_module_version": "1.5.0",
      "model_name": "DescriptionStyleModel",
      "state": {
       "_model_module_version": "1.5.0",
       "_view_module_version": "1.2.0",
       "description_width": ""
      }
     },
     "c014bd1bdfdb48f0b0a49e7187dec491": {
      "model_module": "@jupyter-widgets/controls",
      "model_module_version": "1.5.0",
      "model_name": "DescriptionStyleModel",
      "state": {
       "_model_module_version": "1.5.0",
       "_view_module_version": "1.2.0",
       "description_width": ""
      }
     },
     "c05f6243930f4e9a9c2fccd7af94943c": {
      "model_module": "@jupyter-widgets/controls",
      "model_module_version": "1.5.0",
      "model_name": "DescriptionStyleModel",
      "state": {
       "_model_module_version": "1.5.0",
       "_view_module_version": "1.2.0",
       "description_width": ""
      }
     },
     "c098b89605b8418c9de6322a9968ef99": {
      "model_module": "@jupyter-widgets/controls",
      "model_module_version": "1.5.0",
      "model_name": "LabelModel",
      "state": {
       "_model_module_version": "1.5.0",
       "_view_module_version": "1.5.0",
       "layout": "IPY_MODEL_a7bbf674274e40c6a3a60ecb1797c04f",
       "style": "IPY_MODEL_0ee4dd3dcbb141a099b71b205e5e1c9b",
       "value": "Plot Columns"
      }
     },
     "c0bf47aca8be4ce9aaf0befe3269b0f8": {
      "model_module": "@jupyter-widgets/controls",
      "model_module_version": "1.5.0",
      "model_name": "ButtonStyleModel",
      "state": {
       "_model_module_version": "1.5.0",
       "_view_module_version": "1.2.0"
      }
     },
     "c11988dab0fc45f9b5e73f818d20897c": {
      "model_module": "@jupyter-widgets/base",
      "model_module_version": "1.2.0",
      "model_name": "LayoutModel",
      "state": {
       "_model_module_version": "1.2.0",
       "_view_module_version": "1.2.0",
       "justify_items": null,
       "object_fit": null,
       "object_position": null,
       "width": "60%"
      }
     },
     "c14b2c89b2474185b6c6ca01eff1b5e5": {
      "model_module": "@jupyter-widgets/base",
      "model_module_version": "1.2.0",
      "model_name": "LayoutModel",
      "state": {
       "_model_module_version": "1.2.0",
       "_view_module_version": "1.2.0",
       "height": "50px",
       "justify_items": null,
       "object_fit": null,
       "object_position": null
      }
     },
     "c181f2d133234d7e87c5c6d6bb6d2b3b": {
      "model_module": "@jupyter-widgets/controls",
      "model_module_version": "1.5.0",
      "model_name": "HBoxModel",
      "state": {
       "_model_module_version": "1.5.0",
       "_view_module_version": "1.5.0",
       "children": [
        "IPY_MODEL_27d8c611db134ad6beb6197525bf11bf",
        "IPY_MODEL_0e878b5427e547fb926c4e0b8009af33",
        "IPY_MODEL_06d20c6926d3498e9f874c9f6650e49e"
       ],
       "layout": "IPY_MODEL_4d7f5b88169d4f948210265de5329c7b"
      }
     },
     "c1e882d128a241dc93f6e6850756d93e": {
      "model_module": "@jupyter-widgets/controls",
      "model_module_version": "1.5.0",
      "model_name": "SliderStyleModel",
      "state": {
       "_model_module_version": "1.5.0",
       "_view_module_version": "1.2.0",
       "description_width": ""
      }
     },
     "c2404983d72045bb9f7b2791295ffd38": {
      "model_module": "@jupyter-widgets/controls",
      "model_module_version": "1.5.0",
      "model_name": "AccordionModel",
      "state": {
       "_model_module_version": "1.5.0",
       "_titles": {
        "0": "Sorting",
        "1": "Required Values",
        "2": "Searching",
        "3": "Save filtered Data"
       },
       "_view_module_version": "1.5.0",
       "children": [
        "IPY_MODEL_f340322c01a146e2b3319e372be09c20",
        "IPY_MODEL_e2eb2af6aef146f5bf39d215ae61fd5a",
        "IPY_MODEL_1edeb57cf8a24c79889bf8597c07f1b4",
        "IPY_MODEL_c70512106d5b4af297c82cf7f722cc69"
       ],
       "layout": "IPY_MODEL_ab40e6ec8aaa4c80ad99a918182130d2"
      }
     },
     "c2b691ac34a94a2199a4b0b813ca01c5": {
      "model_module": "@jupyter-widgets/base",
      "model_module_version": "1.2.0",
      "model_name": "LayoutModel",
      "state": {
       "_model_module_version": "1.2.0",
       "_view_module_version": "1.2.0",
       "justify_items": null,
       "object_fit": null,
       "object_position": null
      }
     },
     "c3afe5573b5b4bb996b90951a47fa022": {
      "model_module": "@jupyter-widgets/base",
      "model_module_version": "1.2.0",
      "model_name": "LayoutModel",
      "state": {
       "_model_module_version": "1.2.0",
       "_view_module_version": "1.2.0",
       "justify_items": null,
       "object_fit": null,
       "object_position": null
      }
     },
     "c459518c93a440eebf11f5142733a329": {
      "model_module": "@jupyter-widgets/controls",
      "model_module_version": "1.5.0",
      "model_name": "ButtonStyleModel",
      "state": {
       "_model_module_version": "1.5.0",
       "_view_module_version": "1.2.0"
      }
     },
     "c468dc8f8fc94c1b83c7d6fea2bc0c67": {
      "model_module": "@jupyter-widgets/controls",
      "model_module_version": "1.5.0",
      "model_name": "LabelModel",
      "state": {
       "_model_module_version": "1.5.0",
       "_view_module_version": "1.5.0",
       "layout": "IPY_MODEL_2632be2a2b1c498eb54f37896553029a",
       "style": "IPY_MODEL_11cb3870d5bb41a6b10e7cfbd674a59d",
       "value": "Search Columns"
      }
     },
     "c537c456cc3d4951b416b6df83aa206a": {
      "model_module": "@jupyter-widgets/controls",
      "model_module_version": "1.5.0",
      "model_name": "ToggleButtonModel",
      "state": {
       "_model_module_version": "1.5.0",
       "_view_module_version": "1.5.0",
       "description": "ascending",
       "layout": "IPY_MODEL_fe8567ff462b4394b60161fb3c56376e",
       "style": "IPY_MODEL_e3a4917fca024cccb7bc116e164a13f2",
       "value": true
      }
     },
     "c5965951bc2747cba3b7f9cebeb594bc": {
      "model_module": "@jupyter-widgets/output",
      "model_module_version": "1.0.0",
      "model_name": "OutputModel",
      "state": {
       "layout": "IPY_MODEL_c2b691ac34a94a2199a4b0b813ca01c5",
       "outputs": [
        {
         "data": {
          "image/png": "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\n",
          "text/plain": "<Figure size 432x288 with 1 Axes>"
         },
         "metadata": {
          "needs_background": "light"
         },
         "output_type": "display_data"
        }
       ]
      }
     },
     "c6b22de3b24d451eb7856766b4db11cb": {
      "model_module": "@jupyter-widgets/controls",
      "model_module_version": "1.5.0",
      "model_name": "DescriptionStyleModel",
      "state": {
       "_model_module_version": "1.5.0",
       "_view_module_version": "1.2.0",
       "description_width": ""
      }
     },
     "c6e977a5f8b946248a7ea9c81fcc11bc": {
      "model_module": "@jupyter-widgets/base",
      "model_module_version": "1.2.0",
      "model_name": "LayoutModel",
      "state": {
       "_model_module_version": "1.2.0",
       "_view_module_version": "1.2.0",
       "justify_items": null,
       "object_fit": null,
       "object_position": null
      }
     },
     "c6eef9113c804306a961cea465ed7b72": {
      "model_module": "@jupyter-widgets/base",
      "model_module_version": "1.2.0",
      "model_name": "LayoutModel",
      "state": {
       "_model_module_version": "1.2.0",
       "_view_module_version": "1.2.0",
       "justify_items": null,
       "object_fit": null,
       "object_position": null
      }
     },
     "c70512106d5b4af297c82cf7f722cc69": {
      "model_module": "@jupyter-widgets/controls",
      "model_module_version": "1.5.0",
      "model_name": "HBoxModel",
      "state": {
       "_model_module_version": "1.5.0",
       "_view_module_version": "1.5.0",
       "children": [
        "IPY_MODEL_d7310b0f4d1f4a5b8ed3c25dbf7d9d66",
        "IPY_MODEL_13d79079a62b4371968257f792bc2e16",
        "IPY_MODEL_f61d9c1a04894828ae60d60482e3f477"
       ],
       "layout": "IPY_MODEL_69d8d8bbbadf4111a57f1909652407fb"
      }
     },
     "c722738f7be64ecabf542d396f4bd9a4": {
      "model_module": "@jupyter-widgets/controls",
      "model_module_version": "1.5.0",
      "model_name": "DescriptionStyleModel",
      "state": {
       "_model_module_version": "1.5.0",
       "_view_module_version": "1.2.0",
       "description_width": ""
      }
     },
     "c7f35f728b21476eb50331a2e71627b7": {
      "model_module": "@jupyter-widgets/controls",
      "model_module_version": "1.5.0",
      "model_name": "VBoxModel",
      "state": {
       "_model_module_version": "1.5.0",
       "_view_module_version": "1.5.0",
       "children": [
        "IPY_MODEL_22b09037b3b8433daa45d6e4d1009607",
        "IPY_MODEL_84d202d31303497b89fa9aa2ab0ee8b3"
       ],
       "layout": "IPY_MODEL_7ae0b0aa577b463c84c3747b838d2495"
      }
     },
     "c88bca01cc6e4afeac3d72fa1fa069d2": {
      "model_module": "@jupyter-widgets/base",
      "model_module_version": "1.2.0",
      "model_name": "LayoutModel",
      "state": {
       "_model_module_version": "1.2.0",
       "_view_module_version": "1.2.0",
       "justify_items": null,
       "object_fit": null,
       "object_position": null
      }
     },
     "c89f5ccf54714b4f87b17394a493941d": {
      "model_module": "@jupyter-widgets/controls",
      "model_module_version": "1.5.0",
      "model_name": "HBoxModel",
      "state": {
       "_model_module_version": "1.5.0",
       "_view_module_version": "1.5.0",
       "children": [
        "IPY_MODEL_97490c7901364e27891748ae5f3216eb",
        "IPY_MODEL_edda2a8b7f4c44f198696a1463ecf59e",
        "IPY_MODEL_ea4abd164eff411ea7d8dda7a96ccf7d"
       ],
       "layout": "IPY_MODEL_c14b2c89b2474185b6c6ca01eff1b5e5"
      }
     },
     "c8a92b93e70646f58930b7548691acc9": {
      "model_module": "@jupyter-widgets/base",
      "model_module_version": "1.2.0",
      "model_name": "LayoutModel",
      "state": {
       "_model_module_version": "1.2.0",
       "_view_module_version": "1.2.0",
       "justify_items": null,
       "object_fit": null,
       "object_position": null
      }
     },
     "c96d4de6383447f1b6fc4bdc465e98ed": {
      "model_module": "@jupyter-widgets/controls",
      "model_module_version": "1.5.0",
      "model_name": "SelectMultipleModel",
      "state": {
       "_model_module_version": "1.5.0",
       "_options_labels": [
        "text",
        "text_translated",
        "media",
        "source",
        "mode",
        "num_persons",
        "_timestamp",
        "confidence",
        "source_reliability",
        "locations",
        "origin_bool",
        "origin",
        "destination",
        "geom_tweet",
        "triage_status"
       ],
       "_view_module_version": "1.5.0",
       "index": [],
       "layout": "IPY_MODEL_653b530e1788436997d90cd4b67458a4",
       "rows": 5,
       "style": "IPY_MODEL_e5da5370026e4b1da3459187101d6d70"
      }
     },
     "cb026deef62b477684d5424a41018401": {
      "model_module": "@jupyter-widgets/base",
      "model_module_version": "1.2.0",
      "model_name": "LayoutModel",
      "state": {
       "_model_module_version": "1.2.0",
       "_view_module_version": "1.2.0",
       "justify_items": null,
       "object_fit": null,
       "object_position": null
      }
     },
     "cb0b9ef86baf4b55bdbf392610b72827": {
      "model_module": "@jupyter-widgets/controls",
      "model_module_version": "1.5.0",
      "model_name": "DescriptionStyleModel",
      "state": {
       "_model_module_version": "1.5.0",
       "_view_module_version": "1.2.0",
       "description_width": ""
      }
     },
     "cc0c27d5bb28453fa5ce7abedc3a7d86": {
      "model_module": "@jupyter-widgets/controls",
      "model_module_version": "1.5.0",
      "model_name": "DropdownModel",
      "state": {
       "_model_module_version": "1.5.0",
       "_options_labels": [
        "text",
        "text_translated",
        "media",
        "source",
        "mode",
        "num_persons",
        "_timestamp",
        "confidence",
        "source_reliability",
        "locations",
        "origin_bool",
        "origin",
        "destination",
        "geom_tweet",
        "triage_status"
       ],
       "_view_module_version": "1.5.0",
       "index": 0,
       "layout": "IPY_MODEL_64cf33bb441442bfa98e049b06e1c085",
       "style": "IPY_MODEL_c05f6243930f4e9a9c2fccd7af94943c"
      }
     },
     "cd3e63e5c8ef47c19750f716fa16306a": {
      "model_module": "@jupyter-widgets/controls",
      "model_module_version": "1.5.0",
      "model_name": "DescriptionStyleModel",
      "state": {
       "_model_module_version": "1.5.0",
       "_view_module_version": "1.2.0",
       "description_width": ""
      }
     },
     "cd6f311f436e4bd694d057f26a738200": {
      "model_module": "@jupyter-widgets/controls",
      "model_module_version": "1.5.0",
      "model_name": "DescriptionStyleModel",
      "state": {
       "_model_module_version": "1.5.0",
       "_view_module_version": "1.2.0",
       "description_width": ""
      }
     },
     "cdc537e0748d491aaba2b1d75f488e70": {
      "model_module": "@jupyter-widgets/base",
      "model_module_version": "1.2.0",
      "model_name": "LayoutModel",
      "state": {
       "_model_module_version": "1.2.0",
       "_view_module_version": "1.2.0",
       "justify_items": null,
       "object_fit": null,
       "object_position": null
      }
     },
     "ce8e450671b745dfae6a9b7cb0fcb4e9": {
      "model_module": "@jupyter-widgets/controls",
      "model_module_version": "1.5.0",
      "model_name": "AccordionModel",
      "state": {
       "_model_module_version": "1.5.0",
       "_titles": {
        "0": "Sorting",
        "1": "Required Values",
        "2": "Searching",
        "3": "Save filtered Data"
       },
       "_view_module_version": "1.5.0",
       "children": [
        "IPY_MODEL_8eb129c068e34eb0b8106fbf24017070",
        "IPY_MODEL_19621a61df594ce29bca1df9739c51bd",
        "IPY_MODEL_ae4b4bb18ab2444d91b01effb8d293de",
        "IPY_MODEL_3ad987b9978947d2864d56d140e039cc"
       ],
       "layout": "IPY_MODEL_3a4a921ca11d4b368955f7fcb5b44f2d"
      }
     },
     "cfb4aab05a1e4a35a0c65869e1816d7c": {
      "model_module": "@jupyter-widgets/controls",
      "model_module_version": "1.5.0",
      "model_name": "DropdownModel",
      "state": {
       "_model_module_version": "1.5.0",
       "_options_labels": [
        "text",
        "text_translated",
        "media",
        "source",
        "mode",
        "num_persons",
        "_timestamp",
        "confidence",
        "source_reliability",
        "locations",
        "origin_bool",
        "origin",
        "destination",
        "geom_tweet",
        "triage_status"
       ],
       "_view_module_version": "1.5.0",
       "index": 0,
       "layout": "IPY_MODEL_93aa31044ee340fc9306ddf8c193f213",
       "style": "IPY_MODEL_ee8ea8f90bfe4929aafef84d2558f8d1"
      }
     },
     "cfceba0fc56e4493ae2f825ee1d7912d": {
      "model_module": "@jupyter-widgets/controls",
      "model_module_version": "1.5.0",
      "model_name": "HTMLModel",
      "state": {
       "_model_module_version": "1.5.0",
       "_view_module_version": "1.5.0",
       "layout": "IPY_MODEL_b61076377c274ef698cb612e04ca7458",
       "style": "IPY_MODEL_0c20d51b8e6e48c1878212be36e243a5",
       "value": "Select multiple by dragging or ctrl + click <br> Deselect with ctrl + click"
      }
     },
     "d0f99551fe3f4037ad3bb852e20b0421": {
      "model_module": "@jupyter-widgets/base",
      "model_module_version": "1.2.0",
      "model_name": "LayoutModel",
      "state": {
       "_model_module_version": "1.2.0",
       "_view_module_version": "1.2.0",
       "justify_items": null,
       "object_fit": null,
       "object_position": null
      }
     },
     "d1afa7a7bf4e4fbb9c325e72c3c72251": {
      "model_module": "@jupyter-widgets/controls",
      "model_module_version": "1.5.0",
      "model_name": "LabelModel",
      "state": {
       "_model_module_version": "1.5.0",
       "_view_module_version": "1.5.0",
       "layout": "IPY_MODEL_38d241e3da85460d890890e2cf57a499",
       "style": "IPY_MODEL_929c2a09890e4ddeabe8eab90bae8d6e",
       "value": "Plot Columns"
      }
     },
     "d386b6f3e19e46e88f61118efa947f28": {
      "model_module": "@jupyter-widgets/controls",
      "model_module_version": "1.5.0",
      "model_name": "DescriptionStyleModel",
      "state": {
       "_model_module_version": "1.5.0",
       "_view_module_version": "1.2.0",
       "description_width": ""
      }
     },
     "d48a16537e8a44049e8053a8274f14d6": {
      "model_module": "@jupyter-widgets/controls",
      "model_module_version": "1.5.0",
      "model_name": "ButtonStyleModel",
      "state": {
       "_model_module_version": "1.5.0",
       "_view_module_version": "1.2.0"
      }
     },
     "d66b5cfb76a645988eb1c97fac5eb067": {
      "model_module": "@jupyter-widgets/controls",
      "model_module_version": "1.5.0",
      "model_name": "HBoxModel",
      "state": {
       "_model_module_version": "1.5.0",
       "_view_module_version": "1.5.0",
       "children": [
        "IPY_MODEL_24b951570bc34006aa911b50571a502a",
        "IPY_MODEL_a8a438457a1b44d59b5852d467806c1a",
        "IPY_MODEL_838a8b6628044824b4716f0f389fb83f",
        "IPY_MODEL_fdc93e8a37a043b789d288012f404d19",
        "IPY_MODEL_572d6e9b50284617bdbe89ce73e8a228"
       ],
       "layout": "IPY_MODEL_c88bca01cc6e4afeac3d72fa1fa069d2"
      }
     },
     "d69a2b8893c7454b8f92e901046d6207": {
      "model_module": "@jupyter-widgets/controls",
      "model_module_version": "1.5.0",
      "model_name": "HBoxModel",
      "state": {
       "_model_module_version": "1.5.0",
       "_view_module_version": "1.5.0",
       "children": [
        "IPY_MODEL_8f6587a4df55439b942f6cfee2d95cd2",
        "IPY_MODEL_f2eefcedab554080b63b09f4533e7d57"
       ],
       "layout": "IPY_MODEL_0bcab44d05aa4311a8e0095ac2504fca"
      }
     },
     "d6e0e00504404d90b850530e4047fcd0": {
      "model_module": "@jupyter-widgets/controls",
      "model_module_version": "1.5.0",
      "model_name": "TextModel",
      "state": {
       "_model_module_version": "1.5.0",
       "_view_module_version": "1.5.0",
       "layout": "IPY_MODEL_f1c2a3ad91f74258a0a4886c05e93409",
       "style": "IPY_MODEL_54b301fa2a984589a954246cb1197f68"
      }
     },
     "d7310b0f4d1f4a5b8ed3c25dbf7d9d66": {
      "model_module": "@jupyter-widgets/controls",
      "model_module_version": "1.5.0",
      "model_name": "TextModel",
      "state": {
       "_model_module_version": "1.5.0",
       "_view_module_version": "1.5.0",
       "layout": "IPY_MODEL_09a0500bfd8a4d309531181fba57d0aa",
       "style": "IPY_MODEL_9f8733be69e84138910de34d92dbd80e",
       "value": "filtered_data.csv"
      }
     },
     "d75b9bf95be946a7bd31ad47fd61367b": {
      "model_module": "@jupyter-widgets/controls",
      "model_module_version": "1.5.0",
      "model_name": "HBoxModel",
      "state": {
       "_model_module_version": "1.5.0",
       "_view_module_version": "1.5.0",
       "children": [
        "IPY_MODEL_10001b6ef2034a4e83b58203b9bce991",
        "IPY_MODEL_b43eeadde853495bb9495b02610cf0e1",
        "IPY_MODEL_7f42b24f4ccb4a998869ff9a2531a21c",
        "IPY_MODEL_b11d09c0c05748d1880dcc8967b5ea62",
        "IPY_MODEL_44452f1f8d6a464792b2d64c13268906"
       ],
       "layout": "IPY_MODEL_ee7cf31102b3451797fe9b2ad00cc8c0"
      }
     },
     "d7708f3bbfea4324a6feb7adbc6fe680": {
      "model_module": "@jupyter-widgets/controls",
      "model_module_version": "1.5.0",
      "model_name": "DescriptionStyleModel",
      "state": {
       "_model_module_version": "1.5.0",
       "_view_module_version": "1.2.0",
       "description_width": ""
      }
     },
     "d7d87d32527e4c50b50b8e8282437220": {
      "model_module": "@jupyter-widgets/output",
      "model_module_version": "1.0.0",
      "model_name": "OutputModel",
      "state": {
       "layout": "IPY_MODEL_994d69e8b45546fca037a8f4e31d8c7b",
       "outputs": [
        {
         "data": {
          "application/vnd.jupyter.widget-view+json": {
           "model_id": "5753aeb756d94e4e90d500224e21441d",
           "version_major": 2,
           "version_minor": 0
          },
          "text/plain": "VBox(children=(HBox(children=(IntSlider(value=1, layout=Layout(width='60%'), max=266, min=1), Label(value='of …"
         },
         "metadata": {},
         "output_type": "display_data"
        }
       ]
      }
     },
     "d7f7b3e9d33348ebb1e7c06ff5a59186": {
      "model_module": "@jupyter-widgets/base",
      "model_module_version": "1.2.0",
      "model_name": "LayoutModel",
      "state": {
       "_model_module_version": "1.2.0",
       "_view_module_version": "1.2.0",
       "justify_items": null,
       "object_fit": null,
       "object_position": null
      }
     },
     "d8647311e967486586c691420f873c95": {
      "model_module": "@jupyter-widgets/controls",
      "model_module_version": "1.5.0",
      "model_name": "DropdownModel",
      "state": {
       "_model_module_version": "1.5.0",
       "_options_labels": [
        "text",
        "text_translated",
        "media",
        "source",
        "mode",
        "num_persons",
        "_timestamp",
        "confidence",
        "source_reliability",
        "locations",
        "origin_bool",
        "origin",
        "destination",
        "geom_tweet",
        "triage_status"
       ],
       "_view_module_version": "1.5.0",
       "index": 0,
       "layout": "IPY_MODEL_7c48857aafe84ac491a9882016d020d1",
       "style": "IPY_MODEL_8ebd1c85b9f64ba8b974cf285c5bd0b9"
      }
     },
     "d8a43ca6872b4e3b985f118984000862": {
      "model_module": "@jupyter-widgets/base",
      "model_module_version": "1.2.0",
      "model_name": "LayoutModel",
      "state": {
       "_model_module_version": "1.2.0",
       "_view_module_version": "1.2.0",
       "justify_items": null,
       "object_fit": null,
       "object_position": null
      }
     },
     "d8a9914d7c9441579aaf0816cdd1c7b3": {
      "model_module": "@jupyter-widgets/base",
      "model_module_version": "1.2.0",
      "model_name": "LayoutModel",
      "state": {
       "_model_module_version": "1.2.0",
       "_view_module_version": "1.2.0",
       "grid_template_areas": "\"top-left top-right\"\n\"top-left top-right\"",
       "grid_template_columns": "1fr 1fr",
       "grid_template_rows": "1fr 1fr",
       "justify_items": null,
       "object_fit": null,
       "object_position": null
      }
     },
     "d91b94d5b5e2499bbcbbd2a599602d37": {
      "model_module": "@jupyter-widgets/controls",
      "model_module_version": "1.5.0",
      "model_name": "DescriptionStyleModel",
      "state": {
       "_model_module_version": "1.5.0",
       "_view_module_version": "1.2.0",
       "description_width": ""
      }
     },
     "d91e7b48c38c49a89b1d710d3fa148b6": {
      "model_module": "@jupyter-widgets/controls",
      "model_module_version": "1.5.0",
      "model_name": "DescriptionStyleModel",
      "state": {
       "_model_module_version": "1.5.0",
       "_view_module_version": "1.2.0",
       "description_width": ""
      }
     },
     "d9463977e24a4a6da1f60a339cd325c7": {
      "model_module": "@jupyter-widgets/base",
      "model_module_version": "1.2.0",
      "model_name": "LayoutModel",
      "state": {
       "_model_module_version": "1.2.0",
       "_view_module_version": "1.2.0",
       "justify_items": null,
       "object_fit": null,
       "object_position": null
      }
     },
     "da22efc28a1e41a7871f3a462c0ca6bb": {
      "model_module": "@jupyter-widgets/controls",
      "model_module_version": "1.5.0",
      "model_name": "ButtonModel",
      "state": {
       "_model_module_version": "1.5.0",
       "_view_module_version": "1.5.0",
       "description": "save",
       "layout": "IPY_MODEL_ad163620dfed486ea244fd1f7df6c50d",
       "style": "IPY_MODEL_c0bf47aca8be4ce9aaf0befe3269b0f8"
      }
     },
     "da932dd4b16d49caa309649078d18e8f": {
      "model_module": "@jupyter-widgets/base",
      "model_module_version": "1.2.0",
      "model_name": "LayoutModel",
      "state": {
       "_model_module_version": "1.2.0",
       "_view_module_version": "1.2.0",
       "justify_items": null,
       "object_fit": null,
       "object_position": null
      }
     },
     "db187d970c9d4e43b04f7417fcca865b": {
      "model_module": "@jupyter-widgets/base",
      "model_module_version": "1.2.0",
      "model_name": "LayoutModel",
      "state": {
       "_model_module_version": "1.2.0",
       "_view_module_version": "1.2.0",
       "justify_items": null,
       "object_fit": null,
       "object_position": null
      }
     },
     "dc84ad7c3cb44e0180524e847ec15aa2": {
      "model_module": "@jupyter-widgets/controls",
      "model_module_version": "1.5.0",
      "model_name": "DropdownModel",
      "state": {
       "_model_module_version": "1.5.0",
       "_options_labels": [
        "text",
        "text_translated",
        "media",
        "source",
        "mode",
        "num_persons",
        "_timestamp",
        "confidence",
        "source_reliability",
        "locations",
        "origin_bool",
        "origin",
        "destination",
        "geom_tweet",
        "triage_status"
       ],
       "_view_module_version": "1.5.0",
       "index": 0,
       "layout": "IPY_MODEL_a35a6522d7c84f91a8b990f406fa3747",
       "style": "IPY_MODEL_26c4afa5340f4c2d9b927a6593b03e7b"
      }
     },
     "dd3c188c508f4721ac8b07bcb8753e2c": {
      "model_module": "@jupyter-widgets/controls",
      "model_module_version": "1.5.0",
      "model_name": "LabelModel",
      "state": {
       "_model_module_version": "1.5.0",
       "_view_module_version": "1.5.0",
       "layout": "IPY_MODEL_86665e2521b744a0986708fb150784ca",
       "style": "IPY_MODEL_a412613b00a14311b1b44094edeb3272"
      }
     },
     "dd51b0d97840488c8bcb6b1fdf3856d0": {
      "model_module": "@jupyter-widgets/base",
      "model_module_version": "1.2.0",
      "model_name": "LayoutModel",
      "state": {
       "_model_module_version": "1.2.0",
       "_view_module_version": "1.2.0",
       "justify_items": null,
       "object_fit": null,
       "object_position": null
      }
     },
     "dd890f4bdfb64bebaf5ff6e3237aa659": {
      "model_module": "@jupyter-widgets/base",
      "model_module_version": "1.2.0",
      "model_name": "LayoutModel",
      "state": {
       "_model_module_version": "1.2.0",
       "_view_module_version": "1.2.0",
       "justify_items": null,
       "object_fit": null,
       "object_position": null
      }
     },
     "dd901802b7174e8183cb7af16cc53c23": {
      "model_module": "@jupyter-widgets/base",
      "model_module_version": "1.2.0",
      "model_name": "LayoutModel",
      "state": {
       "_model_module_version": "1.2.0",
       "_view_module_version": "1.2.0",
       "grid_area": "top-right",
       "justify_items": null,
       "object_fit": null,
       "object_position": null
      }
     },
     "de38621853264f67a28c58aba3247255": {
      "model_module": "@jupyter-widgets/output",
      "model_module_version": "1.0.0",
      "model_name": "OutputModel",
      "state": {
       "layout": "IPY_MODEL_0cf5de91e079469b862e29146ae6f82e",
       "outputs": [
        {
         "data": {
          "application/vnd.jupyter.widget-view+json": {
           "model_id": "7be120eb779e4d85bd0064c6cff0d13d",
           "version_major": 2,
           "version_minor": 0
          },
          "text/plain": "VBox(children=(HBox(children=(IntSlider(value=1, layout=Layout(width='60%'), max=266, min=1), Label(value='of …"
         },
         "metadata": {},
         "output_type": "display_data"
        }
       ]
      }
     },
     "e12bfc8034c74683aeeadbbb3ccaacca": {
      "model_module": "@jupyter-widgets/controls",
      "model_module_version": "1.5.0",
      "model_name": "DescriptionStyleModel",
      "state": {
       "_model_module_version": "1.5.0",
       "_view_module_version": "1.2.0",
       "description_width": ""
      }
     },
     "e1424317865f4d3da47d9b53b4e545d4": {
      "model_module": "@jupyter-widgets/base",
      "model_module_version": "1.2.0",
      "model_name": "LayoutModel",
      "state": {
       "_model_module_version": "1.2.0",
       "_view_module_version": "1.2.0",
       "justify_items": null,
       "object_fit": null,
       "object_position": null
      }
     },
     "e19d880cd7f54fc2af950f32897e4923": {
      "model_module": "@jupyter-widgets/controls",
      "model_module_version": "1.5.0",
      "model_name": "DescriptionStyleModel",
      "state": {
       "_model_module_version": "1.5.0",
       "_view_module_version": "1.2.0",
       "description_width": ""
      }
     },
     "e22a4d05950545ba955f5829b8404ace": {
      "model_module": "@jupyter-widgets/controls",
      "model_module_version": "1.5.0",
      "model_name": "DescriptionStyleModel",
      "state": {
       "_model_module_version": "1.5.0",
       "_view_module_version": "1.2.0",
       "description_width": ""
      }
     },
     "e2eb2af6aef146f5bf39d215ae61fd5a": {
      "model_module": "@jupyter-widgets/controls",
      "model_module_version": "1.5.0",
      "model_name": "HBoxModel",
      "state": {
       "_model_module_version": "1.5.0",
       "_view_module_version": "1.5.0",
       "children": [
        "IPY_MODEL_b53a83724cad465b93a3e080f4578660",
        "IPY_MODEL_cfceba0fc56e4493ae2f825ee1d7912d"
       ],
       "layout": "IPY_MODEL_8841cdc0a80f4bb7b3ded825e906b69a"
      }
     },
     "e31a0e99514c46dbbd3221e349ce9b26": {
      "model_module": "@jupyter-widgets/controls",
      "model_module_version": "1.5.0",
      "model_name": "ButtonStyleModel",
      "state": {
       "_model_module_version": "1.5.0",
       "_view_module_version": "1.2.0"
      }
     },
     "e37638ddd85844149f2b6dea3a659c59": {
      "model_module": "@jupyter-widgets/controls",
      "model_module_version": "1.5.0",
      "model_name": "VBoxModel",
      "state": {
       "_model_module_version": "1.5.0",
       "_view_module_version": "1.5.0",
       "children": [
        "IPY_MODEL_d1afa7a7bf4e4fbb9c325e72c3c72251",
        "IPY_MODEL_cc0c27d5bb28453fa5ce7abedc3a7d86",
        "IPY_MODEL_723e7fe9d2f143ff943551c0c3c5bbbe"
       ],
       "layout": "IPY_MODEL_dd901802b7174e8183cb7af16cc53c23"
      }
     },
     "e3997a001898431e97919bbf4734699c": {
      "model_module": "@jupyter-widgets/controls",
      "model_module_version": "1.5.0",
      "model_name": "LabelModel",
      "state": {
       "_model_module_version": "1.5.0",
       "_view_module_version": "1.5.0",
       "layout": "IPY_MODEL_4b7c0a34ac114536b8b3a78924be4e77",
       "style": "IPY_MODEL_2b8d50a7d0164a438c9cba8ab719cb92",
       "value": "Search Columns"
      }
     },
     "e3a4917fca024cccb7bc116e164a13f2": {
      "model_module": "@jupyter-widgets/controls",
      "model_module_version": "1.5.0",
      "model_name": "DescriptionStyleModel",
      "state": {
       "_model_module_version": "1.5.0",
       "_view_module_version": "1.2.0",
       "description_width": ""
      }
     },
     "e59310f0793f474bbb965ac707a6699a": {
      "model_module": "@jupyter-widgets/controls",
      "model_module_version": "1.5.0",
      "model_name": "IntSliderModel",
      "state": {
       "_model_module_version": "1.5.0",
       "_view_module_version": "1.5.0",
       "layout": "IPY_MODEL_7cf427be6eab4d9898f64a75f7187d55",
       "max": 266,
       "min": 1,
       "style": "IPY_MODEL_c1e882d128a241dc93f6e6850756d93e",
       "value": 1
      }
     },
     "e5da5370026e4b1da3459187101d6d70": {
      "model_module": "@jupyter-widgets/controls",
      "model_module_version": "1.5.0",
      "model_name": "DescriptionStyleModel",
      "state": {
       "_model_module_version": "1.5.0",
       "_view_module_version": "1.2.0",
       "description_width": ""
      }
     },
     "e650379e18694ae1ad6e8eff5952bf5b": {
      "model_module": "@jupyter-widgets/base",
      "model_module_version": "1.2.0",
      "model_name": "LayoutModel",
      "state": {
       "_model_module_version": "1.2.0",
       "_view_module_version": "1.2.0",
       "grid_area": "top-right",
       "justify_items": null,
       "object_fit": null,
       "object_position": null
      }
     },
     "e6eb530be2bc431785f0c00635ac332a": {
      "model_module": "@jupyter-widgets/controls",
      "model_module_version": "1.5.0",
      "model_name": "TextModel",
      "state": {
       "_model_module_version": "1.5.0",
       "_view_module_version": "1.5.0",
       "layout": "IPY_MODEL_3a3fc91a3be541e59275b27843f1985f",
       "style": "IPY_MODEL_ab90046b8bb1468a8969c493730c816d",
       "value": "filtered_data.csv"
      }
     },
     "e7f8b79db4a94dc6a332a1e797345f43": {
      "model_module": "@jupyter-widgets/controls",
      "model_module_version": "1.5.0",
      "model_name": "DescriptionStyleModel",
      "state": {
       "_model_module_version": "1.5.0",
       "_view_module_version": "1.2.0",
       "description_width": ""
      }
     },
     "e89d73aa0b7b48568730f04b1408f690": {
      "model_module": "@jupyter-widgets/controls",
      "model_module_version": "1.5.0",
      "model_name": "LabelModel",
      "state": {
       "_model_module_version": "1.5.0",
       "_view_module_version": "1.5.0",
       "layout": "IPY_MODEL_46b126fbdffe45d09022167777a446af",
       "style": "IPY_MODEL_06ca1b380cd04679898901884eb9495e",
       "value": "2654 rows"
      }
     },
     "e89f9cad590146f9b59ac2db5aaeff70": {
      "model_module": "@jupyter-widgets/controls",
      "model_module_version": "1.5.0",
      "model_name": "VBoxModel",
      "state": {
       "_model_module_version": "1.5.0",
       "_view_module_version": "1.5.0",
       "children": [
        "IPY_MODEL_794cd3c7b9614dae9e72c3d7c42f5e12",
        "IPY_MODEL_322f331d4ed240f885070ac17f2fbf48",
        "IPY_MODEL_5657a3b83cba436d8efaec35df00f4ac"
       ],
       "layout": "IPY_MODEL_b74204ea9929468fa7c79d10bb222fa4"
      }
     },
     "e992e056b9284eb0bff10b9679e9b696": {
      "model_module": "@jupyter-widgets/base",
      "model_module_version": "1.2.0",
      "model_name": "LayoutModel",
      "state": {
       "_model_module_version": "1.2.0",
       "_view_module_version": "1.2.0",
       "justify_items": null,
       "object_fit": null,
       "object_position": null
      }
     },
     "e9d42935bab641ba8972502516c0e6ac": {
      "model_module": "@jupyter-widgets/controls",
      "model_module_version": "1.5.0",
      "model_name": "IntSliderModel",
      "state": {
       "_model_module_version": "1.5.0",
       "_view_module_version": "1.5.0",
       "layout": "IPY_MODEL_c11988dab0fc45f9b5e73f818d20897c",
       "max": 266,
       "min": 1,
       "style": "IPY_MODEL_34feb120a6ac4fa69e7c40cbff18a3db",
       "value": 1
      }
     },
     "ea4abd164eff411ea7d8dda7a96ccf7d": {
      "model_module": "@jupyter-widgets/controls",
      "model_module_version": "1.5.0",
      "model_name": "DropdownModel",
      "state": {
       "_model_module_version": "1.5.0",
       "_options_labels": [
        "10",
        "20",
        "50"
       ],
       "_view_module_version": "1.5.0",
       "description": "items per page",
       "index": 0,
       "layout": "IPY_MODEL_032413b1c4a144a48018589e71708e29",
       "style": "IPY_MODEL_f03e6cdf25634766aa7116c85f46fb0c"
      }
     },
     "ea8b9f3053eb4729ac6eb8ebb9ae91de": {
      "model_module": "@jupyter-widgets/base",
      "model_module_version": "1.2.0",
      "model_name": "LayoutModel",
      "state": {
       "_model_module_version": "1.2.0",
       "_view_module_version": "1.2.0",
       "justify_items": null,
       "object_fit": null,
       "object_position": null
      }
     },
     "eb8a0530aa4741f696714f595691b283": {
      "model_module": "@jupyter-widgets/controls",
      "model_module_version": "1.5.0",
      "model_name": "DescriptionStyleModel",
      "state": {
       "_model_module_version": "1.5.0",
       "_view_module_version": "1.2.0",
       "description_width": ""
      }
     },
     "ec03f23d4b25447e91a4f68402491909": {
      "model_module": "@jupyter-widgets/base",
      "model_module_version": "1.2.0",
      "model_name": "LayoutModel",
      "state": {
       "_model_module_version": "1.2.0",
       "_view_module_version": "1.2.0",
       "justify_items": null,
       "object_fit": null,
       "object_position": null
      }
     },
     "ec0e055c901049d1ba0a86ee0fec32e4": {
      "model_module": "@jupyter-widgets/controls",
      "model_module_version": "1.5.0",
      "model_name": "IntSliderModel",
      "state": {
       "_model_module_version": "1.5.0",
       "_view_module_version": "1.5.0",
       "layout": "IPY_MODEL_be8c24aaea6e41feb578b95a0e08f805",
       "max": 266,
       "min": 1,
       "style": "IPY_MODEL_928b5eef6f1f42be9b966ad7f8d19db1",
       "value": 1
      }
     },
     "ec5179090f0647d5aca9171836a61aee": {
      "model_module": "@jupyter-widgets/controls",
      "model_module_version": "1.5.0",
      "model_name": "DescriptionStyleModel",
      "state": {
       "_model_module_version": "1.5.0",
       "_view_module_version": "1.2.0",
       "description_width": ""
      }
     },
     "ec91daa9ec3541c4a9664d421fd6a08e": {
      "model_module": "@jupyter-widgets/base",
      "model_module_version": "1.2.0",
      "model_name": "LayoutModel",
      "state": {
       "_model_module_version": "1.2.0",
       "_view_module_version": "1.2.0",
       "justify_items": null,
       "object_fit": null,
       "object_position": null
      }
     },
     "ed85f01f52ba4f708acf61f677c7b0b7": {
      "model_module": "@jupyter-widgets/output",
      "model_module_version": "1.0.0",
      "model_name": "OutputModel",
      "state": {
       "layout": "IPY_MODEL_9edad1938e154b578e93881eb28762aa",
       "outputs": [
        {
         "data": {
          "text/html": "<div>\n<style scoped>\n    .dataframe tbody tr th:only-of-type {\n        vertical-align: middle;\n    }\n\n    .dataframe tbody tr th {\n        vertical-align: top;\n    }\n\n    .dataframe thead th {\n        text-align: right;\n    }\n</style>\n<table border=\"1\" class=\"dataframe\">\n  <thead>\n    <tr style=\"text-align: right;\">\n      <th></th>\n      <th>text</th>\n      <th>text_translated</th>\n      <th>media</th>\n      <th>source</th>\n      <th>mode</th>\n      <th>num_persons</th>\n      <th>_timestamp</th>\n      <th>confidence</th>\n      <th>source_reliability</th>\n      <th>locations</th>\n      <th>origin_bool</th>\n      <th>origin</th>\n      <th>destination</th>\n      <th>geom_tweet</th>\n      <th>triage_status</th>\n    </tr>\n    <tr>\n      <th>uniqueid</th>\n      <th></th>\n      <th></th>\n      <th></th>\n      <th></th>\n      <th></th>\n      <th></th>\n      <th></th>\n      <th></th>\n      <th></th>\n      <th></th>\n      <th></th>\n      <th></th>\n      <th></th>\n      <th></th>\n      <th></th>\n    </tr>\n  </thead>\n  <tbody>\n    <tr>\n      <th>969</th>\n      <td>\"En Macédoine, les migrants remplissent les trains pour la Serbie - AFP\" en replay sur Android TV Replay http://t.co/k8LZQkCzNh</td>\n      <td>in macedonia migrants fill trains for serbia afp in replay on android tv replay</td>\n      <td>NaN</td>\n      <td>twitter</td>\n      <td>train</td>\n      <td>NaN</td>\n      <td>2019-09-12 04:08:04.000000</td>\n      <td>0.63</td>\n      <td>0.12</td>\n      <td>['macedonia', 'serbia']</td>\n      <td>NaN</td>\n      <td>NaN</td>\n      <td>NaN</td>\n      <td>0101000000575BB1BFEC6E35400000000000004540</td>\n      <td>NaN</td>\n    </tr>\n    <tr>\n      <th>795</th>\n      <td>\"Macedonia, ancora frontiere chiuse. I migranti passano dal filo spinato\" - http://t.co/lt7wNeffC7 http://t.co/jvg5cMgDxk</td>\n      <td>macedonia still closed borders migrants pass by barbed wire</td>\n      <td>['http://pbs.twimg.com/media/CNBxOh7WoAAP-zV.jpg']</td>\n      <td>twitter</td>\n      <td>NaN</td>\n      <td>NaN</td>\n      <td>2019-09-14 16:50:53.000000</td>\n      <td>0.81</td>\n      <td>0.04</td>\n      <td>['macedonia']</td>\n      <td>NaN</td>\n      <td>NaN</td>\n      <td>NaN</td>\n      <td>0101000000575BB1BFEC6E35400000000000004540</td>\n      <td>NaN</td>\n    </tr>\n    <tr>\n      <th>1158</th>\n      <td>\"More than 130,000 #migrants have attempted to cross the Mediterranean in 2015\"  http://t.co/ZOvpUsTx1d</td>\n      <td>more than 130 000 migrants have attempted to cross the mediterranean in 2015</td>\n      <td>NaN</td>\n      <td>twitter</td>\n      <td>NaN</td>\n      <td>NaN</td>\n      <td>2019-07-26 17:47:04.000000</td>\n      <td>0.53</td>\n      <td>0.94</td>\n      <td>[]</td>\n      <td>NaN</td>\n      <td>NaN</td>\n      <td>NaN</td>\n      <td>NaN</td>\n      <td>NaN</td>\n    </tr>\n    <tr>\n      <th>2364</th>\n      <td>\"On Thursday Slovenia reported that 12,000 migrants had arrived in one day - a record in the current crisis in Central Europe.\" - BBC</td>\n      <td>on thursday slovenia reported that 12 000 migrants had arrived in one day a record in the current crisis in central europe bbc</td>\n      <td>NaN</td>\n      <td>twitter</td>\n      <td>NaN</td>\n      <td>NaN</td>\n      <td>2019-11-15 21:14:00.000000</td>\n      <td>0.93</td>\n      <td>0.23</td>\n      <td>['slovenia']</td>\n      <td>NaN</td>\n      <td>NaN</td>\n      <td>NaN</td>\n      <td>0101000000151DC9E53F042D402CD49AE61D074740</td>\n      <td>NaN</td>\n    </tr>\n    <tr>\n      <th>1137</th>\n      <td>\"With Tel Abyad secured, the Syrian Kurds have managed to forge a corridor between Cezire and Kobani. On Monday,... http://t.co/iJDle1SzwW</td>\n      <td>with tel abyad secured the syrian kurds have managed to forge a corridor between cezire and kobani on monday</td>\n      <td>NaN</td>\n      <td>twitter</td>\n      <td>NaN</td>\n      <td>NaN</td>\n      <td>2019-07-10 16:24:53.000000</td>\n      <td>0.71</td>\n      <td>0.24</td>\n      <td>['syria']</td>\n      <td>NaN</td>\n      <td>NaN</td>\n      <td>NaN</td>\n      <td>0101000000E8D9ACFA5C254240EFC9C342ADC14040</td>\n      <td>NaN</td>\n    </tr>\n    <tr>\n      <th>574</th>\n      <td>#2015 Франция закрывает границу с Италией http://t.co/O77dBheZKv</td>\n      <td>2015 france closes the border with italy</td>\n      <td>NaN</td>\n      <td>twitter</td>\n      <td>NaN</td>\n      <td>2015.0</td>\n      <td>2019-07-09 09:59:43.000000</td>\n      <td>0.62</td>\n      <td>1.00</td>\n      <td>['france', 'italy']</td>\n      <td>NaN</td>\n      <td>NaN</td>\n      <td>NaN</td>\n      <td>NaN</td>\n      <td>NaN</td>\n    </tr>\n    <tr>\n      <th>2041</th>\n      <td>#AFP Slovenia to send back train from Croatia carrying 150 migrants - AFP: Slovenia to send back train from Cr... http://t.co/zNEN4XLp7h</td>\n      <td>afp slovenia to send back train from croatia carrying 150 migrants afp slovenia to send back train from cr</td>\n      <td>NaN</td>\n      <td>twitter</td>\n      <td>train</td>\n      <td>150.0</td>\n      <td>2019-10-11 17:14:05.000000</td>\n      <td>0.99</td>\n      <td>0.26</td>\n      <td>['slovenia', 'croatia']</td>\n      <td>NaN</td>\n      <td>HR0</td>\n      <td>NaN</td>\n      <td>0101000000151DC9E53F042D402CD49AE61D074740</td>\n      <td>NaN</td>\n    </tr>\n    <tr>\n      <th>253</th>\n      <td>#AUSTRIA #STANDARD #WIEN broadcastetd by #TheIsraelCompany: Kommentar von Michael Völker - Die Flüchtlinge und ihr... http://t.co/MAn0lwR3vI</td>\n      <td>austria standard vienna broadcastetd by theisraelcompany comment by michael völker the refugees and their</td>\n      <td>NaN</td>\n      <td>twitter</td>\n      <td>NaN</td>\n      <td>NaN</td>\n      <td>2019-09-22 16:16:11.000000</td>\n      <td>0.67</td>\n      <td>0.05</td>\n      <td>['austria', 'vienna', 'israel']</td>\n      <td>NaN</td>\n      <td>NaN</td>\n      <td>NaN</td>\n      <td>010100000076711B0DE05D30409A99999999194840</td>\n      <td>NaN</td>\n    </tr>\n    <tr>\n      <th>397</th>\n      <td>#AUSTRIA #STANDARD #WIEN broadcastetd by #TheIsraelCompany: Syrien - Putin schließt Einsatz von Bodentruppen in Sy... http://t.co/LGKZhvK6c2</td>\n      <td>austria standard vienna broadcastetd by theisraelcompany syria putin closes deployment of ground forces in sy</td>\n      <td>NaN</td>\n      <td>twitter</td>\n      <td>NaN</td>\n      <td>NaN</td>\n      <td>2019-10-21 04:15:59.000000</td>\n      <td>0.51</td>\n      <td>0.06</td>\n      <td>['austria', 'vienna', 'israel', 'syria']</td>\n      <td>NaN</td>\n      <td>NaN</td>\n      <td>NaN</td>\n      <td>010100000076711B0DE05D30409A99999999194840</td>\n      <td>NaN</td>\n    </tr>\n    <tr>\n      <th>959</th>\n      <td>#Afrique La longue marche des migrants qui franchissent les Alpes à pied http://t.co/Way1hlrjE9</td>\n      <td>africa the long march of migrants crossing the alps on foot</td>\n      <td>NaN</td>\n      <td>twitter</td>\n      <td>on foot</td>\n      <td>NaN</td>\n      <td>2019-07-24 11:43:36.000000</td>\n      <td>0.55</td>\n      <td>0.49</td>\n      <td>[]</td>\n      <td>NaN</td>\n      <td>NaN</td>\n      <td>NaN</td>\n      <td>NaN</td>\n      <td>NaN</td>\n    </tr>\n  </tbody>\n</table>\n</div>",
          "text/plain": "                                                                                                                                                  text  \\\nuniqueid                                                                                                                                                 \n969       \"En Macédoine, les migrants remplissent les trains pour la Serbie - AFP\" en replay sur Android TV Replay http://t.co/k8LZQkCzNh                \n795       \"Macedonia, ancora frontiere chiuse. I migranti passano dal filo spinato\" - http://t.co/lt7wNeffC7 http://t.co/jvg5cMgDxk                      \n1158      \"More than 130,000 #migrants have attempted to cross the Mediterranean in 2015\"  http://t.co/ZOvpUsTx1d                                        \n2364      \"On Thursday Slovenia reported that 12,000 migrants had arrived in one day - a record in the current crisis in Central Europe.\" - BBC          \n1137      \"With Tel Abyad secured, the Syrian Kurds have managed to forge a corridor between Cezire and Kobani. On Monday,... http://t.co/iJDle1SzwW     \n574       #2015 Франция закрывает границу с Италией http://t.co/O77dBheZKv                                                                               \n2041      #AFP Slovenia to send back train from Croatia carrying 150 migrants - AFP: Slovenia to send back train from Cr... http://t.co/zNEN4XLp7h       \n253       #AUSTRIA #STANDARD #WIEN broadcastetd by #TheIsraelCompany: Kommentar von Michael Völker - Die Flüchtlinge und ihr... http://t.co/MAn0lwR3vI   \n397       #AUSTRIA #STANDARD #WIEN broadcastetd by #TheIsraelCompany: Syrien - Putin schließt Einsatz von Bodentruppen in Sy... http://t.co/LGKZhvK6c2   \n959       #Afrique La longue marche des migrants qui franchissent les Alpes à pied http://t.co/Way1hlrjE9                                                \n\n                                                                                                                         text_translated  \\\nuniqueid                                                                                                                                   \n969       in macedonia migrants fill trains for serbia afp in replay on android tv replay                                                  \n795       macedonia still closed borders migrants pass by barbed wire                                                                      \n1158      more than 130 000 migrants have attempted to cross the mediterranean in 2015                                                     \n2364      on thursday slovenia reported that 12 000 migrants had arrived in one day a record in the current crisis in central europe bbc   \n1137      with tel abyad secured the syrian kurds have managed to forge a corridor between cezire and kobani on monday                     \n574       2015 france closes the border with italy                                                                                         \n2041      afp slovenia to send back train from croatia carrying 150 migrants afp slovenia to send back train from cr                       \n253       austria standard vienna broadcastetd by theisraelcompany comment by michael völker the refugees and their                        \n397       austria standard vienna broadcastetd by theisraelcompany syria putin closes deployment of ground forces in sy                    \n959       africa the long march of migrants crossing the alps on foot                                                                      \n\n                                                       media   source  \\\nuniqueid                                                                \n969       NaN                                                 twitter   \n795       ['http://pbs.twimg.com/media/CNBxOh7WoAAP-zV.jpg']  twitter   \n1158      NaN                                                 twitter   \n2364      NaN                                                 twitter   \n1137      NaN                                                 twitter   \n574       NaN                                                 twitter   \n2041      NaN                                                 twitter   \n253       NaN                                                 twitter   \n397       NaN                                                 twitter   \n959       NaN                                                 twitter   \n\n             mode  num_persons                  _timestamp  confidence  \\\nuniqueid                                                                 \n969       train   NaN           2019-09-12 04:08:04.000000  0.63         \n795       NaN     NaN           2019-09-14 16:50:53.000000  0.81         \n1158      NaN     NaN           2019-07-26 17:47:04.000000  0.53         \n2364      NaN     NaN           2019-11-15 21:14:00.000000  0.93         \n1137      NaN     NaN           2019-07-10 16:24:53.000000  0.71         \n574       NaN      2015.0       2019-07-09 09:59:43.000000  0.62         \n2041      train    150.0        2019-10-11 17:14:05.000000  0.99         \n253       NaN     NaN           2019-09-22 16:16:11.000000  0.67         \n397       NaN     NaN           2019-10-21 04:15:59.000000  0.51         \n959       on foot NaN           2019-07-24 11:43:36.000000  0.55         \n\n          source_reliability                                 locations  \\\nuniqueid                                                                 \n969       0.12                ['macedonia', 'serbia']                    \n795       0.04                ['macedonia']                              \n1158      0.94                []                                         \n2364      0.23                ['slovenia']                               \n1137      0.24                ['syria']                                  \n574       1.00                ['france', 'italy']                        \n2041      0.26                ['slovenia', 'croatia']                    \n253       0.05                ['austria', 'vienna', 'israel']            \n397       0.06                ['austria', 'vienna', 'israel', 'syria']   \n959       0.49                []                                         \n\n          origin_bool origin destination  \\\nuniqueid                                   \n969      NaN           NaN    NaN          \n795      NaN           NaN    NaN          \n1158     NaN           NaN    NaN          \n2364     NaN           NaN    NaN          \n1137     NaN           NaN    NaN          \n574      NaN           NaN    NaN          \n2041     NaN           HR0    NaN          \n253      NaN           NaN    NaN          \n397      NaN           NaN    NaN          \n959      NaN           NaN    NaN          \n\n                                          geom_tweet  triage_status  \nuniqueid                                                             \n969       0101000000575BB1BFEC6E35400000000000004540 NaN             \n795       0101000000575BB1BFEC6E35400000000000004540 NaN             \n1158      NaN                                        NaN             \n2364      0101000000151DC9E53F042D402CD49AE61D074740 NaN             \n1137      0101000000E8D9ACFA5C254240EFC9C342ADC14040 NaN             \n574       NaN                                        NaN             \n2041      0101000000151DC9E53F042D402CD49AE61D074740 NaN             \n253       010100000076711B0DE05D30409A99999999194840 NaN             \n397       010100000076711B0DE05D30409A99999999194840 NaN             \n959       NaN                                        NaN             "
         },
         "metadata": {},
         "output_type": "display_data"
        }
       ]
      }
     },
     "eda29e0fdce84bd68a68fe86666107f8": {
      "model_module": "@jupyter-widgets/controls",
      "model_module_version": "1.5.0",
      "model_name": "DescriptionStyleModel",
      "state": {
       "_model_module_version": "1.5.0",
       "_view_module_version": "1.2.0",
       "description_width": ""
      }
     },
     "edda2a8b7f4c44f198696a1463ecf59e": {
      "model_module": "@jupyter-widgets/controls",
      "model_module_version": "1.5.0",
      "model_name": "ToggleButtonModel",
      "state": {
       "_model_module_version": "1.5.0",
       "_view_module_version": "1.5.0",
       "description": "ascending",
       "layout": "IPY_MODEL_975cb23bb1774a8791649cda2c720083",
       "style": "IPY_MODEL_f0d96e7850334be294c02b308efd053f",
       "value": true
      }
     },
     "edf65b0cd76f48cd9179c4f7787ce306": {
      "model_module": "@jupyter-widgets/controls",
      "model_module_version": "1.5.0",
      "model_name": "VBoxModel",
      "state": {
       "_model_module_version": "1.5.0",
       "_view_module_version": "1.5.0",
       "children": [
        "IPY_MODEL_a7834768ad944703a90b1ae1d7244a8c",
        "IPY_MODEL_3be798cad220440ca4cf7675047e3a21"
       ],
       "layout": "IPY_MODEL_856e54b917da4add9a9bb7426e51e01f"
      }
     },
     "ee7920a3c9374247b9d9c6af88a40ad4": {
      "model_module": "@jupyter-widgets/base",
      "model_module_version": "1.2.0",
      "model_name": "LayoutModel",
      "state": {
       "_model_module_version": "1.2.0",
       "_view_module_version": "1.2.0",
       "justify_items": null,
       "object_fit": null,
       "object_position": null
      }
     },
     "ee7cf31102b3451797fe9b2ad00cc8c0": {
      "model_module": "@jupyter-widgets/base",
      "model_module_version": "1.2.0",
      "model_name": "LayoutModel",
      "state": {
       "_model_module_version": "1.2.0",
       "_view_module_version": "1.2.0",
       "justify_items": null,
       "object_fit": null,
       "object_position": null
      }
     },
     "ee8ea8f90bfe4929aafef84d2558f8d1": {
      "model_module": "@jupyter-widgets/controls",
      "model_module_version": "1.5.0",
      "model_name": "DescriptionStyleModel",
      "state": {
       "_model_module_version": "1.5.0",
       "_view_module_version": "1.2.0",
       "description_width": ""
      }
     },
     "f03e6cdf25634766aa7116c85f46fb0c": {
      "model_module": "@jupyter-widgets/controls",
      "model_module_version": "1.5.0",
      "model_name": "DescriptionStyleModel",
      "state": {
       "_model_module_version": "1.5.0",
       "_view_module_version": "1.2.0",
       "description_width": ""
      }
     },
     "f049099628e641fe81c8aabb4926caec": {
      "model_module": "@jupyter-widgets/base",
      "model_module_version": "1.2.0",
      "model_name": "LayoutModel",
      "state": {
       "_model_module_version": "1.2.0",
       "_view_module_version": "1.2.0",
       "justify_items": null,
       "object_fit": null,
       "object_position": null
      }
     },
     "f0d96e7850334be294c02b308efd053f": {
      "model_module": "@jupyter-widgets/controls",
      "model_module_version": "1.5.0",
      "model_name": "DescriptionStyleModel",
      "state": {
       "_model_module_version": "1.5.0",
       "_view_module_version": "1.2.0",
       "description_width": ""
      }
     },
     "f111497e701143e4ac069a174b763fe9": {
      "model_module": "@jupyter-widgets/controls",
      "model_module_version": "1.5.0",
      "model_name": "SliderStyleModel",
      "state": {
       "_model_module_version": "1.5.0",
       "_view_module_version": "1.2.0",
       "description_width": ""
      }
     },
     "f1c2a3ad91f74258a0a4886c05e93409": {
      "model_module": "@jupyter-widgets/base",
      "model_module_version": "1.2.0",
      "model_name": "LayoutModel",
      "state": {
       "_model_module_version": "1.2.0",
       "_view_module_version": "1.2.0",
       "justify_items": null,
       "object_fit": null,
       "object_position": null
      }
     },
     "f1e835bbafec492dbfbc62933a932fe6": {
      "model_module": "@jupyter-widgets/controls",
      "model_module_version": "1.5.0",
      "model_name": "ToggleButtonModel",
      "state": {
       "_model_module_version": "1.5.0",
       "_view_module_version": "1.5.0",
       "description": "ascending",
       "layout": "IPY_MODEL_982b26c89a924df59b9bf6fef7381c50",
       "style": "IPY_MODEL_8522efc196bb449e94f3bb04494229b3",
       "value": true
      }
     },
     "f286abe4e6a64af99a86952e07fd3410": {
      "model_module": "@jupyter-widgets/base",
      "model_module_version": "1.2.0",
      "model_name": "LayoutModel",
      "state": {
       "_model_module_version": "1.2.0",
       "_view_module_version": "1.2.0",
       "grid_area": "top-left",
       "justify_items": null,
       "object_fit": null,
       "object_position": null
      }
     },
     "f29a86e4428a43e8b0af8c7d66ac7a73": {
      "model_module": "@jupyter-widgets/controls",
      "model_module_version": "1.5.0",
      "model_name": "GridBoxModel",
      "state": {
       "_model_module_version": "1.5.0",
       "_view_module_version": "1.5.0",
       "children": [
        "IPY_MODEL_21104924f2634be198cdbff8be443c01",
        "IPY_MODEL_3e0e0066679a4144a8616de3eba66539"
       ],
       "layout": "IPY_MODEL_06fc3605192f4e1ab9f12ea7607a30b8"
      }
     },
     "f2a05af2c9bf49bba89dc31c6bb8b654": {
      "model_module": "@jupyter-widgets/base",
      "model_module_version": "1.2.0",
      "model_name": "LayoutModel",
      "state": {
       "_model_module_version": "1.2.0",
       "_view_module_version": "1.2.0",
       "justify_items": null,
       "object_fit": null,
       "object_position": null
      }
     },
     "f2eefcedab554080b63b09f4533e7d57": {
      "model_module": "@jupyter-widgets/controls",
      "model_module_version": "1.5.0",
      "model_name": "VBoxModel",
      "state": {
       "_model_module_version": "1.5.0",
       "_view_module_version": "1.5.0",
       "children": [
        "IPY_MODEL_014a7c70087e4fd2a0077f96b1d68fd8",
        "IPY_MODEL_668c5342f3504a87b6b47f50303c960a"
       ],
       "layout": "IPY_MODEL_4d077f063ac2445cab793be808ca5f06"
      }
     },
     "f340322c01a146e2b3319e372be09c20": {
      "model_module": "@jupyter-widgets/controls",
      "model_module_version": "1.5.0",
      "model_name": "HBoxModel",
      "state": {
       "_model_module_version": "1.5.0",
       "_view_module_version": "1.5.0",
       "children": [
        "IPY_MODEL_7fe2860ef2d94447bf07e9740e1c6b04",
        "IPY_MODEL_f1e835bbafec492dbfbc62933a932fe6",
        "IPY_MODEL_bed260b3d1e941e69526b9ff01308c25"
       ],
       "layout": "IPY_MODEL_03002cfac5674344bc66e7b94dc6cb79"
      }
     },
     "f3ba0752bcde497989585238900dcd08": {
      "model_module": "@jupyter-widgets/base",
      "model_module_version": "1.2.0",
      "model_name": "LayoutModel",
      "state": {
       "_model_module_version": "1.2.0",
       "_view_module_version": "1.2.0",
       "justify_items": null,
       "object_fit": null,
       "object_position": null
      }
     },
     "f43e237d1e354a5bb5f7ab108b786b1f": {
      "model_module": "@jupyter-widgets/controls",
      "model_module_version": "1.5.0",
      "model_name": "DescriptionStyleModel",
      "state": {
       "_model_module_version": "1.5.0",
       "_view_module_version": "1.2.0",
       "description_width": ""
      }
     },
     "f47e5852dc8e4fbfb973af98cb244b4a": {
      "model_module": "@jupyter-widgets/controls",
      "model_module_version": "1.5.0",
      "model_name": "DropdownModel",
      "state": {
       "_model_module_version": "1.5.0",
       "_options_labels": [
        "text",
        "text_translated",
        "media",
        "source",
        "mode",
        "num_persons",
        "_timestamp",
        "confidence",
        "source_reliability",
        "locations",
        "origin_bool",
        "origin",
        "destination",
        "geom_tweet",
        "triage_status"
       ],
       "_view_module_version": "1.5.0",
       "index": 0,
       "layout": "IPY_MODEL_f65d432957b64f1e87b0078bc9109de1",
       "style": "IPY_MODEL_22d317b2a4c34780960e80429b213a90"
      }
     },
     "f4d1a93c5f794c89861119f0e5f0dc6a": {
      "model_module": "@jupyter-widgets/controls",
      "model_module_version": "1.5.0",
      "model_name": "LabelModel",
      "state": {
       "_model_module_version": "1.5.0",
       "_view_module_version": "1.5.0",
       "layout": "IPY_MODEL_d0f99551fe3f4037ad3bb852e20b0421",
       "style": "IPY_MODEL_2b653ec3fd674958acb23548fe888e00",
       "value": "Plot Columns"
      }
     },
     "f5330ee0aae04e29a4187bcd58c2a467": {
      "model_module": "@jupyter-widgets/controls",
      "model_module_version": "1.5.0",
      "model_name": "ButtonModel",
      "state": {
       "_model_module_version": "1.5.0",
       "_view_module_version": "1.5.0",
       "icon": "chevron-left",
       "layout": "IPY_MODEL_41366d9cfa2b4f4dabbed35b3ccc28b4",
       "style": "IPY_MODEL_2a071b06db994de8a03fb45ec72d6d14"
      }
     },
     "f61d9c1a04894828ae60d60482e3f477": {
      "model_module": "@jupyter-widgets/controls",
      "model_module_version": "1.5.0",
      "model_name": "LabelModel",
      "state": {
       "_model_module_version": "1.5.0",
       "_view_module_version": "1.5.0",
       "layout": "IPY_MODEL_7c3aac02c2d643b68dc0f880ce9cb559",
       "style": "IPY_MODEL_e12bfc8034c74683aeeadbbb3ccaacca"
      }
     },
     "f630f43d10a940298f5f377bd2cfad1c": {
      "model_module": "@jupyter-widgets/controls",
      "model_module_version": "1.5.0",
      "model_name": "VBoxModel",
      "state": {
       "_model_module_version": "1.5.0",
       "_view_module_version": "1.5.0",
       "children": [
        "IPY_MODEL_1b64cb90fa5642ca91942618840836fc",
        "IPY_MODEL_081ceaa942c34d0e9d4482b19b4bcf7e"
       ],
       "layout": "IPY_MODEL_8e38a775323f4851acbbd300501f2980"
      }
     },
     "f655dd2583ff4db8854013f1fc8a08da": {
      "model_module": "@jupyter-widgets/base",
      "model_module_version": "1.2.0",
      "model_name": "LayoutModel",
      "state": {
       "_model_module_version": "1.2.0",
       "_view_module_version": "1.2.0",
       "justify_items": null,
       "object_fit": null,
       "object_position": null
      }
     },
     "f65d432957b64f1e87b0078bc9109de1": {
      "model_module": "@jupyter-widgets/base",
      "model_module_version": "1.2.0",
      "model_name": "LayoutModel",
      "state": {
       "_model_module_version": "1.2.0",
       "_view_module_version": "1.2.0",
       "justify_items": null,
       "object_fit": null,
       "object_position": null
      }
     },
     "f6c5625a7d81440aa67af42a1942adeb": {
      "model_module": "@jupyter-widgets/base",
      "model_module_version": "1.2.0",
      "model_name": "LayoutModel",
      "state": {
       "_model_module_version": "1.2.0",
       "_view_module_version": "1.2.0",
       "grid_area": "top-left",
       "justify_items": null,
       "object_fit": null,
       "object_position": null
      }
     },
     "f8390c7c091d4c839731b789fdf04b8d": {
      "model_module": "@jupyter-widgets/controls",
      "model_module_version": "1.5.0",
      "model_name": "HBoxModel",
      "state": {
       "_model_module_version": "1.5.0",
       "_view_module_version": "1.5.0",
       "children": [
        "IPY_MODEL_e9d42935bab641ba8972502516c0e6ac",
        "IPY_MODEL_0b96fca3200d45678d6a15ecf5aa5a31",
        "IPY_MODEL_9a4d841ae723486c8dae2d2d67d9bbb0",
        "IPY_MODEL_f5330ee0aae04e29a4187bcd58c2a467",
        "IPY_MODEL_520d7b532de34a37a306457be6cbe252"
       ],
       "layout": "IPY_MODEL_ec91daa9ec3541c4a9664d421fd6a08e"
      }
     },
     "f8da5c91365e486691e817f464bf0dec": {
      "model_module": "@jupyter-widgets/controls",
      "model_module_version": "1.5.0",
      "model_name": "DescriptionStyleModel",
      "state": {
       "_model_module_version": "1.5.0",
       "_view_module_version": "1.2.0",
       "description_width": ""
      }
     },
     "f8fa6507c9954fc9a494ea7ad8c92e69": {
      "model_module": "@jupyter-widgets/controls",
      "model_module_version": "1.5.0",
      "model_name": "DropdownModel",
      "state": {
       "_model_module_version": "1.5.0",
       "_options_labels": [
        "10",
        "20",
        "50"
       ],
       "_view_module_version": "1.5.0",
       "description": "items per page",
       "index": 0,
       "layout": "IPY_MODEL_31b12fd38f624896b9e0d8bb90a86adc",
       "style": "IPY_MODEL_f8da5c91365e486691e817f464bf0dec"
      }
     },
     "f9adb8de8dc147a6b33a94ad5d5b6b8c": {
      "model_module": "@jupyter-widgets/base",
      "model_module_version": "1.2.0",
      "model_name": "LayoutModel",
      "state": {
       "_model_module_version": "1.2.0",
       "_view_module_version": "1.2.0",
       "justify_items": null,
       "object_fit": null,
       "object_position": null
      }
     },
     "fa05f525be7f4bdfbc2c6efedcb05865": {
      "model_module": "@jupyter-widgets/base",
      "model_module_version": "1.2.0",
      "model_name": "LayoutModel",
      "state": {
       "_model_module_version": "1.2.0",
       "_view_module_version": "1.2.0",
       "grid_area": "top-left",
       "justify_items": null,
       "object_fit": null,
       "object_position": null
      }
     },
     "fa81e538c193433fb664b524757e12ee": {
      "model_module": "@jupyter-widgets/output",
      "model_module_version": "1.0.0",
      "model_name": "OutputModel",
      "state": {
       "layout": "IPY_MODEL_ec03f23d4b25447e91a4f68402491909",
       "outputs": [
        {
         "data": {
          "image/png": "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\n",
          "text/plain": "<Figure size 432x288 with 1 Axes>"
         },
         "metadata": {
          "needs_background": "light"
         },
         "output_type": "display_data"
        }
       ]
      }
     },
     "fabd3cdfaaf54e28ba177f9b4f910f42": {
      "model_module": "@jupyter-widgets/controls",
      "model_module_version": "1.5.0",
      "model_name": "ButtonStyleModel",
      "state": {
       "_model_module_version": "1.5.0",
       "_view_module_version": "1.2.0"
      }
     },
     "fac0a4951dc346068c6d404271814aac": {
      "model_module": "@jupyter-widgets/controls",
      "model_module_version": "1.5.0",
      "model_name": "DescriptionStyleModel",
      "state": {
       "_model_module_version": "1.5.0",
       "_view_module_version": "1.2.0",
       "description_width": ""
      }
     },
     "fad6f30183074331983d29962541ebed": {
      "model_module": "@jupyter-widgets/controls",
      "model_module_version": "1.5.0",
      "model_name": "HBoxModel",
      "state": {
       "_model_module_version": "1.5.0",
       "_view_module_version": "1.5.0",
       "children": [
        "IPY_MODEL_b81ef163a42149f6b06b151c7950e7d1",
        "IPY_MODEL_04782cd6d821436aa12ce43db7bddb17"
       ],
       "layout": "IPY_MODEL_9882dd9c9dbb469db9ae414fd21f1737"
      }
     },
     "fcb584063a524f528e9cbab29f259252": {
      "model_module": "@jupyter-widgets/controls",
      "model_module_version": "1.5.0",
      "model_name": "VBoxModel",
      "state": {
       "_model_module_version": "1.5.0",
       "_view_module_version": "1.5.0",
       "children": [
        "IPY_MODEL_59c59a640d834a6282be460b5097f6ab",
        "IPY_MODEL_3081d926f05a4475a1efd57b1f0b192a",
        "IPY_MODEL_490c35f5049f495594aaf79f0421cfc1"
       ],
       "layout": "IPY_MODEL_e650379e18694ae1ad6e8eff5952bf5b"
      }
     },
     "fd001feacf9e43b1863635dcfb9351c6": {
      "model_module": "@jupyter-widgets/base",
      "model_module_version": "1.2.0",
      "model_name": "LayoutModel",
      "state": {
       "_model_module_version": "1.2.0",
       "_view_module_version": "1.2.0",
       "justify_items": null,
       "object_fit": null,
       "object_position": null
      }
     },
     "fdc93e8a37a043b789d288012f404d19": {
      "model_module": "@jupyter-widgets/controls",
      "model_module_version": "1.5.0",
      "model_name": "ButtonModel",
      "state": {
       "_model_module_version": "1.5.0",
       "_view_module_version": "1.5.0",
       "icon": "chevron-left",
       "layout": "IPY_MODEL_37d94d65c4764ebfb8fbc0462b0916ed",
       "style": "IPY_MODEL_afea2f1bcbf448e5a72cfda315fb0ee3"
      }
     },
     "fe6a22daa9d54e29a98dc548ef103669": {
      "model_module": "@jupyter-widgets/base",
      "model_module_version": "1.2.0",
      "model_name": "LayoutModel",
      "state": {
       "_model_module_version": "1.2.0",
       "_view_module_version": "1.2.0",
       "justify_items": null,
       "object_fit": null,
       "object_position": null
      }
     },
     "fe8567ff462b4394b60161fb3c56376e": {
      "model_module": "@jupyter-widgets/base",
      "model_module_version": "1.2.0",
      "model_name": "LayoutModel",
      "state": {
       "_model_module_version": "1.2.0",
       "_view_module_version": "1.2.0",
       "justify_items": null,
       "object_fit": null,
       "object_position": null
      }
     },
     "fea45a9a5d5a4e74a9157c7fd0ddddc7": {
      "model_module": "@jupyter-widgets/controls",
      "model_module_version": "1.5.0",
      "model_name": "LabelModel",
      "state": {
       "_model_module_version": "1.5.0",
       "_view_module_version": "1.5.0",
       "layout": "IPY_MODEL_771cf100ef494d54b5c9a1a8e1167902",
       "style": "IPY_MODEL_3677336144c0459f9a489cacda42bfdb"
      }
     }
    },
    "version_major": 2,
    "version_minor": 0
   }
  }
 },
 "nbformat": 4,
 "nbformat_minor": 2
}

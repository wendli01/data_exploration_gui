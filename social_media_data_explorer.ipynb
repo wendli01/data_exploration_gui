{
 "cells": [
  {
   "cell_type": "markdown",
   "metadata": {},
   "source": [
    "# Social Media Data Explorer\n",
    "\n",
    "We can create an app that allows us to easily explore social media data."
   ]
  },
  {
   "cell_type": "markdown",
   "metadata": {},
   "source": [
    "## Prerequisites"
   ]
  },
  {
   "cell_type": "markdown",
   "metadata": {},
   "source": [
    "### Imports"
   ]
  },
  {
   "cell_type": "code",
   "execution_count": 9,
   "metadata": {
    "ExecuteTime": {
     "end_time": "2019-09-24T14:45:48.477067Z",
     "start_time": "2019-09-24T14:45:47.804867Z"
    }
   },
   "outputs": [],
   "source": [
    "import pandas as pd\n",
    "import seaborn as sns\n",
    "import numpy as np\n",
    "import ipywidgets as widgets\n",
    "from ipywidgets import interact, interactive, fixed, interact_manual, Layout, interactive_output\n",
    "from sqlalchemy import create_engine\n",
    "from IPython.display import display, HTML\n",
    "from getpass import getpass\n",
    "from matplotlib import pyplot as plt"
   ]
  },
  {
   "cell_type": "markdown",
   "metadata": {},
   "source": [
    "### Styling"
   ]
  },
  {
   "cell_type": "code",
   "execution_count": 10,
   "metadata": {
    "ExecuteTime": {
     "end_time": "2019-09-24T14:45:49.119016Z",
     "start_time": "2019-09-24T14:45:49.107282Z"
    }
   },
   "outputs": [
    {
     "data": {
      "text/html": [
       "<style>.container { width:80% !important; }</style>"
      ],
      "text/plain": [
       "<IPython.core.display.HTML object>"
      ]
     },
     "metadata": {},
     "output_type": "display_data"
    }
   ],
   "source": [
    "display(HTML(\"<style>.container { width:80% !important; }</style>\"))\n",
    "pd.set_option('display.max_colwidth', -1)"
   ]
  },
  {
   "cell_type": "markdown",
   "metadata": {},
   "source": [
    "## Data"
   ]
  },
  {
   "cell_type": "code",
   "execution_count": 11,
   "metadata": {
    "ExecuteTime": {
     "end_time": "2019-09-24T14:45:54.132613Z",
     "start_time": "2019-09-24T14:45:54.118110Z"
    }
   },
   "outputs": [],
   "source": [
    "df = pd.read_csv('HUMAN_public_social_media.csv')\n",
    "df.set_index('uniqueid', inplace=True)"
   ]
  },
  {
   "cell_type": "markdown",
   "metadata": {},
   "source": [
    "## Definitions"
   ]
  },
  {
   "cell_type": "markdown",
   "metadata": {
    "heading_collapsed": true
   },
   "source": [
    "### Pagination"
   ]
  },
  {
   "cell_type": "code",
   "execution_count": 12,
   "metadata": {
    "ExecuteTime": {
     "end_time": "2019-09-24T14:45:54.139842Z",
     "start_time": "2019-09-24T14:45:54.133914Z"
    },
    "hidden": true
   },
   "outputs": [],
   "source": [
    "def paginate_df(df, nb_items = 10):\n",
    "    def show_df(df, page):\n",
    "        df = df.head(page*nb_items).tail(nb_items)\n",
    "        display(df)\n",
    "        \n",
    "    def show_next(change):\n",
    "        pagination_slider.value += change\n",
    "        \n",
    "    def get_pagination_buttons():\n",
    "        next_button = widgets.Button(layout=widgets.Layout(width='30px'), icon='chevron-right')\n",
    "        next_button.on_click(lambda _: show_next(1))\n",
    "        prev_button = widgets.Button(layout=widgets.Layout(width='30px'), icon='chevron-left')\n",
    "        prev_button.on_click(lambda _: show_next(-1))\n",
    "        return [prev_button, next_button]\n",
    "    \n",
    "    nb_rows = widgets.Label(value = '{} rows'.format(len(df)))\n",
    "    \n",
    "    if len(df) > nb_items:\n",
    "        nb_pages = int(np.ceil(len(df)/nb_items))\n",
    "        pagination_slider = widgets.IntSlider(value=1, min = 1, max = nb_pages, layout=Layout(width='60%'))\n",
    "        pagination_slider_label = widgets.Label(value = 'of {} pages with '.format(nb_pages))\n",
    "\n",
    "        pagination_controls = widgets.HBox([pagination_slider, pagination_slider_label, nb_rows, *get_pagination_buttons()])\n",
    "        paginated_table = interactive_output(show_df, dict(df=fixed(df), page = pagination_slider))\n",
    "        display(widgets.VBox([pagination_controls, paginated_table]))\n",
    "    else:\n",
    "        display(nb_rows, df)"
   ]
  },
  {
   "cell_type": "markdown",
   "metadata": {
    "heading_collapsed": true
   },
   "source": [
    "### Plotting Columns"
   ]
  },
  {
   "cell_type": "code",
   "execution_count": 13,
   "metadata": {
    "ExecuteTime": {
     "end_time": "2019-09-24T14:45:54.155517Z",
     "start_time": "2019-09-24T14:45:54.142110Z"
    },
    "hidden": true
   },
   "outputs": [],
   "source": [
    "def plot_column_dist(df: pd.DataFrame, column:str, nb_to_plot = 10):\n",
    "    def is_text(vals):\n",
    "        if type(vals.dropna().values[0]) != str:\n",
    "            return False\n",
    "        \n",
    "        mean_nb_tokens = vals.dropna().str.split(' ').apply(len).mean()\n",
    "        return mean_nb_tokens > 3\n",
    "    \n",
    "    def is_numeric(vals):\n",
    "        return all(vals.apply(type).unique() == float) and len(vals.unique()) > nb_to_plot and not any(vals.isna())\n",
    "    \n",
    "    vals = df[column]\n",
    "    if len(vals.dropna()) == 0:\n",
    "        plt.title('No values to plot'), plt.show()\n",
    "        return\n",
    "    \n",
    "    if is_numeric(vals):\n",
    "        sns.distplot(vals)\n",
    "    else:\n",
    "        if type(vals.dropna().values[0]) in (list, tuple, set) or is_text(vals):\n",
    "            if is_text(vals):\n",
    "                vals = vals.str.split(' ')\n",
    "                vals.name = 'tokens'\n",
    "            concat_series = pd.Series(np.concatenate(vals.dropna().values))\n",
    "            counts = pd.DataFrame(concat_series.value_counts())\n",
    "        else:\n",
    "            counts = pd.DataFrame(vals.value_counts())\n",
    "        counts.head(nb_to_plot).plot(kind='bar', label = vals.name)\n",
    "    plt.tight_layout(), plt.grid(), plt.title(str(nb_to_plot) + ' most frequent ' + vals.name), plt.show()"
   ]
  },
  {
   "cell_type": "markdown",
   "metadata": {},
   "source": [
    "### Filtering DataFrames"
   ]
  },
  {
   "cell_type": "code",
   "execution_count": 14,
   "metadata": {
    "ExecuteTime": {
     "end_time": "2019-09-24T14:45:54.162628Z",
     "start_time": "2019-09-24T14:45:54.157423Z"
    }
   },
   "outputs": [],
   "source": [
    "def filter_df(df, order_by = 'uniqueid', ascending = True, required = [], search_column=None, search_term=''):\n",
    "    df = df.sort_values(order_by, ascending=ascending)\n",
    "    \n",
    "    if len(required) > 0:\n",
    "        df = df.dropna(subset=required)\n",
    "    \n",
    "    if search_term not in (None, '') and search_column in df.keys():\n",
    "        df = df[df[search_column].astype(str).str.lower().str.contains(search_term.lower())]\n",
    "    \n",
    "    return df\n",
    "    \n",
    "def show_filtered_df(df, order_by = 'uniqueid', ascending = True, nb_items = 10, required = [], search_column=None, search_term=''):\n",
    "    df = filter_df(df, order_by=order_by, ascending=ascending, required=required, search_column=search_column, search_term=search_term)\n",
    "    paginate_df(df, nb_items=nb_items)"
   ]
  },
  {
   "cell_type": "markdown",
   "metadata": {},
   "source": [
    "### Table App"
   ]
  },
  {
   "cell_type": "code",
   "execution_count": 15,
   "metadata": {
    "ExecuteTime": {
     "end_time": "2019-09-24T14:45:54.554103Z",
     "start_time": "2019-09-24T14:45:54.163748Z"
    },
    "scrolled": false
   },
   "outputs": [],
   "source": [
    "def table_app(df):\n",
    "    def save_filtered_data(_):\n",
    "        filtered_df = filter_df(df, order_by=order_by.value, ascending=ascending.value, required=filter_selector.value, \n",
    "                                search_column=search_column.value, search_term=search_term.value)\n",
    "        filtered_df.to_csv(save_fn.value)\n",
    "        save_status.value = '\\t  sucessfully saved {} rows as {}.'.format(len(filtered_df), save_fn.value)\n",
    "            \n",
    "    def plot_filtered(df, required, search_column, search_term, plot_column):\n",
    "        filtered_df = filter_df(df, required = required, search_column=search_column, search_term=search_term)\n",
    "        plot_column_dist(df=filtered_df, column = plot_column)\n",
    "\n",
    "    nb_items = widgets.Dropdown(options = [10, 20, 50], description = 'items per page', \n",
    "                                layout = Layout(width = '20%'))\n",
    "    order_by = widgets.Dropdown(options = df.keys(), description='order by')\n",
    "    ascending = widgets.ToggleButton(value=True, description = 'ascending')\n",
    "    sorting = widgets.HBox([order_by, ascending, nb_items], layout=Layout(height = '50px'))\n",
    "\n",
    "    filter_selector = widgets.SelectMultiple(options = df.keys())\n",
    "    \n",
    "    filter_tip = widgets.VBox([widgets.HTML('Select multiple by dragging or ctrl + click'),\n",
    "                               widgets.HTML('Deselect with ctrl + click')])\n",
    "    filtering = widgets.HBox([filter_selector, filter_tip])\n",
    "\n",
    "    save_button = widgets.Button(description='save')\n",
    "    save_fn = widgets.Text('filtered_data.csv')\n",
    "    save_button.on_click(save_filtered_data)\n",
    "    save_status = widgets.Label()\n",
    "    saving = widgets.HBox([save_fn, save_button, save_status])\n",
    "    \n",
    "    search_term = widgets.Text('', tooltip = 'Search')\n",
    "    search_column = widgets.Dropdown(options = df.keys())\n",
    "    plot_column = widgets.Dropdown(options = df.keys())\n",
    "    \n",
    "    column_dist = interactive_output(plot_filtered, dict(df=fixed(df), search_column = search_column, required = filter_selector, \n",
    "                                                         search_term=search_term, plot_column = plot_column))\n",
    "    column_plot_box = widgets.VBox([widgets.Label('Plot Columns'), plot_column, column_dist])\n",
    "    search_box = widgets.VBox([widgets.Label('Search Columns'), search_column, search_term])\n",
    "    searching = widgets.TwoByTwoLayout(top_left = search_box, top_right = column_plot_box)\n",
    "    widgets.dlink((search_column, 'value'), (plot_column, 'value'))\n",
    "\n",
    "    accordion = widgets.Accordion(children=[sorting, filtering, searching, saving])\n",
    "    accordion.set_title(0, 'Sorting')\n",
    "    accordion.set_title(1, 'Required Values')\n",
    "    accordion.set_title(2, 'Searching')\n",
    "    accordion.set_title(3, 'Save filtered Data')\n",
    "\n",
    "    interactive_table = interactive_output(show_filtered_df, \n",
    "                                           dict(df=fixed(df), order_by = order_by, nb_items = nb_items, required = filter_selector, \n",
    "                                                ascending=ascending, search_column=search_column, search_term=search_term))\n",
    "    return widgets.VBox([accordion, interactive_table])\n",
    "\n",
    "table_app(df);"
   ]
  },
  {
   "cell_type": "markdown",
   "metadata": {},
   "source": [
    "## Table App"
   ]
  },
  {
   "cell_type": "code",
   "execution_count": 16,
   "metadata": {
    "ExecuteTime": {
     "end_time": "2019-09-24T14:45:54.948541Z",
     "start_time": "2019-09-24T14:45:54.555251Z"
    },
    "scrolled": false
   },
   "outputs": [
    {
     "data": {
      "application/vnd.jupyter.widget-view+json": {
       "model_id": "9db888dc2480460f921f91132e8db0aa",
       "version_major": 2,
       "version_minor": 0
      },
      "text/plain": [
       "VBox(children=(Accordion(children=(HBox(children=(Dropdown(description='order by', options=('text', 'text_tran…"
      ]
     },
     "metadata": {},
     "output_type": "display_data"
    }
   ],
   "source": [
    "table_app(df)"
   ]
  }
 ],
 "metadata": {
  "kernelspec": {
   "display_name": "Python 3",
   "language": "python",
   "name": "python3"
  },
  "language_info": {
   "codemirror_mode": {
    "name": "ipython",
    "version": 3
   },
   "file_extension": ".py",
   "mimetype": "text/x-python",
   "name": "python",
   "nbconvert_exporter": "python",
   "pygments_lexer": "ipython3",
   "version": "3.7.3"
  },
  "notify_time": "30",
  "toc": {
   "base_numbering": 1,
   "nav_menu": {},
   "number_sections": true,
   "sideBar": true,
   "skip_h1_title": false,
   "title_cell": "Table of Contents",
   "title_sidebar": "Contents",
   "toc_cell": false,
   "toc_position": {
    "height": "calc(100% - 180px)",
    "left": "10px",
    "top": "150px",
    "width": "291.594px"
   },
   "toc_section_display": true,
   "toc_window_display": false
  },
  "varInspector": {
   "cols": {
    "lenName": 16,
    "lenType": 16,
    "lenVar": 40
   },
   "kernels_config": {
    "python": {
     "delete_cmd_postfix": "",
     "delete_cmd_prefix": "del ",
     "library": "var_list.py",
     "varRefreshCmd": "print(var_dic_list())"
    },
    "r": {
     "delete_cmd_postfix": ") ",
     "delete_cmd_prefix": "rm(",
     "library": "var_list.r",
     "varRefreshCmd": "cat(var_dic_list()) "
    }
   },
   "types_to_exclude": [
    "module",
    "function",
    "builtin_function_or_method",
    "instance",
    "_Feature"
   ],
   "window_display": false
  },
  "widgets": {
   "application/vnd.jupyter.widget-state+json": {
    "state": {
     "03002cfac5674344bc66e7b94dc6cb79": {
      "model_module": "@jupyter-widgets/base",
      "model_module_version": "1.2.0",
      "model_name": "LayoutModel",
      "state": {
       "_model_module_version": "1.2.0",
       "_view_module_version": "1.2.0",
       "height": "50px",
       "justify_items": null,
       "object_fit": null,
       "object_position": null
      }
     },
     "06191cfe42474867a7c0599634318451": {
      "model_module": "@jupyter-widgets/controls",
      "model_module_version": "1.5.0",
      "model_name": "DescriptionStyleModel",
      "state": {
       "_model_module_version": "1.5.0",
       "_view_module_version": "1.2.0",
       "description_width": ""
      }
     },
     "09a0500bfd8a4d309531181fba57d0aa": {
      "model_module": "@jupyter-widgets/base",
      "model_module_version": "1.2.0",
      "model_name": "LayoutModel",
      "state": {
       "_model_module_version": "1.2.0",
       "_view_module_version": "1.2.0",
       "justify_items": null,
       "object_fit": null,
       "object_position": null
      }
     },
     "09d33900dc7b4b1f93ff970b319a7579": {
      "model_module": "@jupyter-widgets/base",
      "model_module_version": "1.2.0",
      "model_name": "LayoutModel",
      "state": {
       "_model_module_version": "1.2.0",
       "_view_module_version": "1.2.0",
       "justify_items": null,
       "object_fit": null,
       "object_position": null
      }
     },
     "0b96fca3200d45678d6a15ecf5aa5a31": {
      "model_module": "@jupyter-widgets/controls",
      "model_module_version": "1.5.0",
      "model_name": "LabelModel",
      "state": {
       "_model_module_version": "1.5.0",
       "_view_module_version": "1.5.0",
       "layout": "IPY_MODEL_e1424317865f4d3da47d9b53b4e545d4",
       "style": "IPY_MODEL_75405aa6027f4565990068a695e8369e",
       "value": "of 266 pages with "
      }
     },
     "0c20d51b8e6e48c1878212be36e243a5": {
      "model_module": "@jupyter-widgets/controls",
      "model_module_version": "1.5.0",
      "model_name": "DescriptionStyleModel",
      "state": {
       "_model_module_version": "1.5.0",
       "_view_module_version": "1.2.0",
       "description_width": ""
      }
     },
     "0d4144dfbd5f44719e1a29a8edd5adbf": {
      "model_module": "@jupyter-widgets/base",
      "model_module_version": "1.2.0",
      "model_name": "LayoutModel",
      "state": {
       "_model_module_version": "1.2.0",
       "_view_module_version": "1.2.0",
       "justify_items": null,
       "object_fit": null,
       "object_position": null
      }
     },
     "100de7e6d2f240a1be7b5931d72b1a93": {
      "model_module": "@jupyter-widgets/base",
      "model_module_version": "1.2.0",
      "model_name": "LayoutModel",
      "state": {
       "_model_module_version": "1.2.0",
       "_view_module_version": "1.2.0",
       "justify_items": null,
       "object_fit": null,
       "object_position": null
      }
     },
     "11762bc8096d498fa4a2d75b4b68363b": {
      "model_module": "@jupyter-widgets/base",
      "model_module_version": "1.2.0",
      "model_name": "LayoutModel",
      "state": {
       "_model_module_version": "1.2.0",
       "_view_module_version": "1.2.0",
       "justify_items": null,
       "object_fit": null,
       "object_position": null
      }
     },
     "13d79079a62b4371968257f792bc2e16": {
      "model_module": "@jupyter-widgets/controls",
      "model_module_version": "1.5.0",
      "model_name": "ButtonModel",
      "state": {
       "_model_module_version": "1.5.0",
       "_view_module_version": "1.5.0",
       "description": "save",
       "layout": "IPY_MODEL_c6eef9113c804306a961cea465ed7b72",
       "style": "IPY_MODEL_d48a16537e8a44049e8053a8274f14d6"
      }
     },
     "166d9060cce74f7498a06733415383ef": {
      "model_module": "@jupyter-widgets/base",
      "model_module_version": "1.2.0",
      "model_name": "LayoutModel",
      "state": {
       "_model_module_version": "1.2.0",
       "_view_module_version": "1.2.0",
       "justify_items": null,
       "object_fit": null,
       "object_position": null
      }
     },
     "18cf9ba74e704264b94a610179cf8476": {
      "model_module": "@jupyter-widgets/controls",
      "model_module_version": "1.5.0",
      "model_name": "DescriptionStyleModel",
      "state": {
       "_model_module_version": "1.5.0",
       "_view_module_version": "1.2.0",
       "description_width": ""
      }
     },
     "19621a61df594ce29bca1df9739c51bd": {
      "model_module": "@jupyter-widgets/controls",
      "model_module_version": "1.5.0",
      "model_name": "HBoxModel",
      "state": {
       "_model_module_version": "1.5.0",
       "_view_module_version": "1.5.0",
       "children": [
        "IPY_MODEL_c96d4de6383447f1b6fc4bdc465e98ed",
        "IPY_MODEL_8ece146174134606abb5141c1924fadd"
       ],
       "layout": "IPY_MODEL_53d5207f502d472988c96d897c035081"
      }
     },
     "1a03ca8f65c6435bb24c7bd8a3297372": {
      "model_module": "@jupyter-widgets/controls",
      "model_module_version": "1.5.0",
      "model_name": "ButtonModel",
      "state": {
       "_model_module_version": "1.5.0",
       "_view_module_version": "1.5.0",
       "description": "save",
       "layout": "IPY_MODEL_ee7920a3c9374247b9d9c6af88a40ad4",
       "style": "IPY_MODEL_c459518c93a440eebf11f5142733a329"
      }
     },
     "1e20d9bbaf744c578e47ca4c7e912525": {
      "model_module": "@jupyter-widgets/base",
      "model_module_version": "1.2.0",
      "model_name": "LayoutModel",
      "state": {
       "_model_module_version": "1.2.0",
       "_view_module_version": "1.2.0",
       "justify_items": null,
       "object_fit": null,
       "object_position": null
      }
     },
     "1edeb57cf8a24c79889bf8597c07f1b4": {
      "model_module": "@jupyter-widgets/controls",
      "model_module_version": "1.5.0",
      "model_name": "GridBoxModel",
      "state": {
       "_model_module_version": "1.5.0",
       "_view_module_version": "1.5.0",
       "children": [
        "IPY_MODEL_b7a7c27fd52c4e43bd750c5365051e7e",
        "IPY_MODEL_fcb584063a524f528e9cbab29f259252"
       ],
       "layout": "IPY_MODEL_61e66db283fb4028b95a2da7b77c0d47"
      }
     },
     "22d317b2a4c34780960e80429b213a90": {
      "model_module": "@jupyter-widgets/controls",
      "model_module_version": "1.5.0",
      "model_name": "DescriptionStyleModel",
      "state": {
       "_model_module_version": "1.5.0",
       "_view_module_version": "1.2.0",
       "description_width": ""
      }
     },
     "24cbfe525d4840cc982f712752786f42": {
      "model_module": "@jupyter-widgets/base",
      "model_module_version": "1.2.0",
      "model_name": "LayoutModel",
      "state": {
       "_model_module_version": "1.2.0",
       "_view_module_version": "1.2.0",
       "justify_items": null,
       "object_fit": null,
       "object_position": null
      }
     },
     "26fbbbf6250543158460f7a4792b3111": {
      "model_module": "@jupyter-widgets/controls",
      "model_module_version": "1.5.0",
      "model_name": "DropdownModel",
      "state": {
       "_model_module_version": "1.5.0",
       "_options_labels": [
        "10",
        "20",
        "50"
       ],
       "_view_module_version": "1.5.0",
       "description": "items per page",
       "index": 0,
       "layout": "IPY_MODEL_6f97dc03f1d746b5b4cecbe3796af27a",
       "style": "IPY_MODEL_b135988b80ab4ce6bf23e74bb962e060"
      }
     },
     "27b50264cae14f88b4f76cfd76e98258": {
      "model_module": "@jupyter-widgets/controls",
      "model_module_version": "1.5.0",
      "model_name": "LabelModel",
      "state": {
       "_model_module_version": "1.5.0",
       "_view_module_version": "1.5.0",
       "layout": "IPY_MODEL_92de8628f4cd4528a7b1785fb0e4334d",
       "style": "IPY_MODEL_18cf9ba74e704264b94a610179cf8476",
       "value": "Plot Columns"
      }
     },
     "27e12877acc0420b92115b72e56d0ab1": {
      "model_module": "@jupyter-widgets/base",
      "model_module_version": "1.2.0",
      "model_name": "LayoutModel",
      "state": {
       "_model_module_version": "1.2.0",
       "_view_module_version": "1.2.0",
       "justify_items": null,
       "object_fit": null,
       "object_position": null
      }
     },
     "290fc8de3708419790f22544da5ac400": {
      "model_module": "@jupyter-widgets/controls",
      "model_module_version": "1.5.0",
      "model_name": "LabelModel",
      "state": {
       "_model_module_version": "1.5.0",
       "_view_module_version": "1.5.0",
       "layout": "IPY_MODEL_320b4b6f55864bc8b2b37aa69cc0cbc6",
       "style": "IPY_MODEL_6570646a225e4e4eb5fb8340b16c2533",
       "value": "2654 rows"
      }
     },
     "2990bb1cac9a469cb91e658205731934": {
      "model_module": "@jupyter-widgets/controls",
      "model_module_version": "1.5.0",
      "model_name": "DropdownModel",
      "state": {
       "_model_module_version": "1.5.0",
       "_options_labels": [
        "text",
        "text_translated",
        "media",
        "source",
        "mode",
        "num_persons",
        "_timestamp",
        "confidence",
        "source_reliability",
        "locations",
        "origin_bool",
        "origin",
        "destination",
        "geom_tweet",
        "triage_status"
       ],
       "_view_module_version": "1.5.0",
       "index": 0,
       "layout": "IPY_MODEL_9d41df328f0e46bd82a7d17ca3547a55",
       "style": "IPY_MODEL_3bc83e09c59c4dc7b84701b096116505"
      }
     },
     "2a071b06db994de8a03fb45ec72d6d14": {
      "model_module": "@jupyter-widgets/controls",
      "model_module_version": "1.5.0",
      "model_name": "ButtonStyleModel",
      "state": {
       "_model_module_version": "1.5.0",
       "_view_module_version": "1.2.0"
      }
     },
     "2cb0574aacd144cb823e7365b5384b57": {
      "model_module": "@jupyter-widgets/controls",
      "model_module_version": "1.5.0",
      "model_name": "DescriptionStyleModel",
      "state": {
       "_model_module_version": "1.5.0",
       "_view_module_version": "1.2.0",
       "description_width": ""
      }
     },
     "2eabffa99f7e4fc89ae830f59b81f12b": {
      "model_module": "@jupyter-widgets/controls",
      "model_module_version": "1.5.0",
      "model_name": "DescriptionStyleModel",
      "state": {
       "_model_module_version": "1.5.0",
       "_view_module_version": "1.2.0",
       "description_width": ""
      }
     },
     "2ed719c31f3c4970a58939b672162f31": {
      "model_module": "@jupyter-widgets/base",
      "model_module_version": "1.2.0",
      "model_name": "LayoutModel",
      "state": {
       "_model_module_version": "1.2.0",
       "_view_module_version": "1.2.0",
       "justify_items": null,
       "object_fit": null,
       "object_position": null
      }
     },
     "2f381e11f1b14fa389bb538006f1883b": {
      "model_module": "@jupyter-widgets/controls",
      "model_module_version": "1.5.0",
      "model_name": "VBoxModel",
      "state": {
       "_model_module_version": "1.5.0",
       "_view_module_version": "1.5.0",
       "children": [
        "IPY_MODEL_c2404983d72045bb9f7b2791295ffd38",
        "IPY_MODEL_d7d87d32527e4c50b50b8e8282437220"
       ],
       "layout": "IPY_MODEL_89b3613523f34408b29be52335f589a8"
      }
     },
     "3081d926f05a4475a1efd57b1f0b192a": {
      "model_module": "@jupyter-widgets/controls",
      "model_module_version": "1.5.0",
      "model_name": "DropdownModel",
      "state": {
       "_model_module_version": "1.5.0",
       "_options_labels": [
        "text",
        "text_translated",
        "media",
        "source",
        "mode",
        "num_persons",
        "_timestamp",
        "confidence",
        "source_reliability",
        "locations",
        "origin_bool",
        "origin",
        "destination",
        "geom_tweet",
        "triage_status"
       ],
       "_view_module_version": "1.5.0",
       "index": 0,
       "layout": "IPY_MODEL_565b87b69ded4d3f9c4f790eac5e53fb",
       "style": "IPY_MODEL_2eabffa99f7e4fc89ae830f59b81f12b"
      }
     },
     "314865e77f7f46eaa09e63d74213cb1c": {
      "model_module": "@jupyter-widgets/base",
      "model_module_version": "1.2.0",
      "model_name": "LayoutModel",
      "state": {
       "_model_module_version": "1.2.0",
       "_view_module_version": "1.2.0",
       "justify_items": null,
       "object_fit": null,
       "object_position": null
      }
     },
     "320b4b6f55864bc8b2b37aa69cc0cbc6": {
      "model_module": "@jupyter-widgets/base",
      "model_module_version": "1.2.0",
      "model_name": "LayoutModel",
      "state": {
       "_model_module_version": "1.2.0",
       "_view_module_version": "1.2.0",
       "justify_items": null,
       "object_fit": null,
       "object_position": null
      }
     },
     "34feb120a6ac4fa69e7c40cbff18a3db": {
      "model_module": "@jupyter-widgets/controls",
      "model_module_version": "1.5.0",
      "model_name": "SliderStyleModel",
      "state": {
       "_model_module_version": "1.5.0",
       "_view_module_version": "1.2.0",
       "description_width": ""
      }
     },
     "37d41576666c4418a6302572635b4e3b": {
      "model_module": "@jupyter-widgets/output",
      "model_module_version": "1.0.0",
      "model_name": "OutputModel",
      "state": {
       "layout": "IPY_MODEL_0d4144dfbd5f44719e1a29a8edd5adbf",
       "outputs": [
        {
         "data": {
          "text/html": "<div>\n<style scoped>\n    .dataframe tbody tr th:only-of-type {\n        vertical-align: middle;\n    }\n\n    .dataframe tbody tr th {\n        vertical-align: top;\n    }\n\n    .dataframe thead th {\n        text-align: right;\n    }\n</style>\n<table border=\"1\" class=\"dataframe\">\n  <thead>\n    <tr style=\"text-align: right;\">\n      <th></th>\n      <th>text</th>\n      <th>text_translated</th>\n      <th>media</th>\n      <th>source</th>\n      <th>mode</th>\n      <th>num_persons</th>\n      <th>_timestamp</th>\n      <th>confidence</th>\n      <th>source_reliability</th>\n      <th>locations</th>\n      <th>origin_bool</th>\n      <th>origin</th>\n      <th>destination</th>\n      <th>geom_tweet</th>\n      <th>triage_status</th>\n    </tr>\n    <tr>\n      <th>uniqueid</th>\n      <th></th>\n      <th></th>\n      <th></th>\n      <th></th>\n      <th></th>\n      <th></th>\n      <th></th>\n      <th></th>\n      <th></th>\n      <th></th>\n      <th></th>\n      <th></th>\n      <th></th>\n      <th></th>\n      <th></th>\n    </tr>\n  </thead>\n  <tbody>\n    <tr>\n      <th>1772</th>\n      <td>\"@JarretHaisley: Refugee crisis: Aboard the hope bus as refugees head to Austria http://t.co/8qfk2r5SrV\"</td>\n      <td>refugee crisis aboard the hope bus as refugees head to austria</td>\n      <td>None</td>\n      <td>twitter</td>\n      <td>bus</td>\n      <td>NaN</td>\n      <td>2019-09-29 09:08:05</td>\n      <td>0.59</td>\n      <td>1.00</td>\n      <td>['austria']</td>\n      <td>None</td>\n      <td>None</td>\n      <td>None</td>\n      <td>010100000076711B0DE05D30409A99999999194840</td>\n      <td>None</td>\n    </tr>\n    <tr>\n      <th>996</th>\n      <td>\"Allemagne: nombre record de 2.200 migrants arrivés dans le sud - AFP\" en replay sur Android TV Replay http://t.co/k8LZQkCzNh</td>\n      <td>germany record number of 2 200 migrants arrived in the south afp in replay on android tv replay</td>\n      <td>None</td>\n      <td>twitter</td>\n      <td>None</td>\n      <td>NaN</td>\n      <td>2019-09-25 04:44:59</td>\n      <td>0.74</td>\n      <td>0.85</td>\n      <td>['germany']</td>\n      <td>None</td>\n      <td>None</td>\n      <td>None</td>\n      <td>0101000000151DC9E53FC42A40EEEBC03923424A40</td>\n      <td>None</td>\n    </tr>\n    <tr>\n      <th>969</th>\n      <td>\"En Macédoine, les migrants remplissent les trains pour la Serbie - AFP\" en replay sur Android TV Replay http://t.co/k8LZQkCzNh</td>\n      <td>in macedonia migrants fill trains for serbia afp in replay on android tv replay</td>\n      <td>None</td>\n      <td>twitter</td>\n      <td>train</td>\n      <td>NaN</td>\n      <td>2019-09-12 04:08:04</td>\n      <td>0.63</td>\n      <td>0.12</td>\n      <td>['macedonia', 'serbia']</td>\n      <td>None</td>\n      <td>None</td>\n      <td>None</td>\n      <td>0101000000575BB1BFEC6E35400000000000004540</td>\n      <td>None</td>\n    </tr>\n    <tr>\n      <th>482</th>\n      <td>\"Fast 30.000 #Flüchtlinge sind seit vergangenem Freitag auf den griechischen Inseln eingetroffen\" -#Merkel Einladung</td>\n      <td>nearly 30 000 refugees have arrived on the greek islands since last friday merkel invitation</td>\n      <td>None</td>\n      <td>twitter</td>\n      <td>None</td>\n      <td>NaN</td>\n      <td>2019-11-12 18:50:48</td>\n      <td>0.78</td>\n      <td>0.66</td>\n      <td>['island']</td>\n      <td>None</td>\n      <td>None</td>\n      <td>None</td>\n      <td>None</td>\n      <td>None</td>\n    </tr>\n    <tr>\n      <th>795</th>\n      <td>\"Macedonia, ancora frontiere chiuse. I migranti passano dal filo spinato\" - http://t.co/lt7wNeffC7 http://t.co/jvg5cMgDxk</td>\n      <td>macedonia still closed borders migrants pass by barbed wire</td>\n      <td>['http://pbs.twimg.com/media/CNBxOh7WoAAP-zV.jpg']</td>\n      <td>twitter</td>\n      <td>None</td>\n      <td>NaN</td>\n      <td>2019-09-14 16:50:53</td>\n      <td>0.81</td>\n      <td>0.04</td>\n      <td>['macedonia']</td>\n      <td>None</td>\n      <td>None</td>\n      <td>None</td>\n      <td>0101000000575BB1BFEC6E35400000000000004540</td>\n      <td>None</td>\n    </tr>\n    <tr>\n      <th>1796</th>\n      <td>\"Migrants leave Budapest rail station for Vienna on foot \" - http://t.co/gr1NdHQQ6j</td>\n      <td>migrants leave budapest rail station for vienna on foot</td>\n      <td>None</td>\n      <td>twitter</td>\n      <td>on foot</td>\n      <td>NaN</td>\n      <td>2019-09-29 16:38:58</td>\n      <td>0.95</td>\n      <td>0.67</td>\n      <td>['budapest', 'vienna']</td>\n      <td>None</td>\n      <td>AT13</td>\n      <td>None</td>\n      <td>0101000000B003E78C280D3340D7A3703D0ABF4740</td>\n      <td>None</td>\n    </tr>\n    <tr>\n      <th>2134</th>\n      <td>\"Migrants' Main Rail Route to Germany From Austria to Remain Closed\" by REUTERS via NYT http://t.co/1UBjElRWrV</td>\n      <td>migrants main rail route to germany from austria to remain closed by reuters via nyt</td>\n      <td>None</td>\n      <td>twitter</td>\n      <td>None</td>\n      <td>NaN</td>\n      <td>2019-10-15 10:51:09</td>\n      <td>0.90</td>\n      <td>0.30</td>\n      <td>['germany', 'austria']</td>\n      <td>None</td>\n      <td>AT</td>\n      <td>DE</td>\n      <td>0101000000151DC9E53FC42A40EEEBC03923424A40</td>\n      <td>None</td>\n    </tr>\n    <tr>\n      <th>1158</th>\n      <td>\"More than 130,000 #migrants have attempted to cross the Mediterranean in 2015\"  http://t.co/ZOvpUsTx1d</td>\n      <td>more than 130 000 migrants have attempted to cross the mediterranean in 2015</td>\n      <td>None</td>\n      <td>twitter</td>\n      <td>None</td>\n      <td>NaN</td>\n      <td>2019-07-26 17:47:04</td>\n      <td>0.53</td>\n      <td>0.94</td>\n      <td>[]</td>\n      <td>None</td>\n      <td>None</td>\n      <td>None</td>\n      <td>None</td>\n      <td>None</td>\n    </tr>\n    <tr>\n      <th>2364</th>\n      <td>\"On Thursday Slovenia reported that 12,000 migrants had arrived in one day - a record in the current crisis in Central Europe.\" - BBC</td>\n      <td>on thursday slovenia reported that 12 000 migrants had arrived in one day a record in the current crisis in central europe bbc</td>\n      <td>None</td>\n      <td>twitter</td>\n      <td>None</td>\n      <td>NaN</td>\n      <td>2019-11-15 21:14:00</td>\n      <td>0.93</td>\n      <td>0.23</td>\n      <td>['slovenia']</td>\n      <td>None</td>\n      <td>None</td>\n      <td>None</td>\n      <td>0101000000151DC9E53F042D402CD49AE61D074740</td>\n      <td>None</td>\n    </tr>\n    <tr>\n      <th>1137</th>\n      <td>\"With Tel Abyad secured, the Syrian Kurds have managed to forge a corridor between Cezire and Kobani. On Monday,... http://t.co/iJDle1SzwW</td>\n      <td>with tel abyad secured the syrian kurds have managed to forge a corridor between cezire and kobani on monday</td>\n      <td>None</td>\n      <td>twitter</td>\n      <td>None</td>\n      <td>NaN</td>\n      <td>2019-07-10 16:24:53</td>\n      <td>0.71</td>\n      <td>0.24</td>\n      <td>['syria']</td>\n      <td>None</td>\n      <td>None</td>\n      <td>None</td>\n      <td>0101000000E8D9ACFA5C254240EFC9C342ADC14040</td>\n      <td>None</td>\n    </tr>\n  </tbody>\n</table>\n</div>",
          "text/plain": "                                                                                                                                                text  \\\nuniqueid                                                                                                                                               \n1772      \"@JarretHaisley: Refugee crisis: Aboard the hope bus as refugees head to Austria http://t.co/8qfk2r5SrV\"                                     \n996       \"Allemagne: nombre record de 2.200 migrants arrivés dans le sud - AFP\" en replay sur Android TV Replay http://t.co/k8LZQkCzNh                \n969       \"En Macédoine, les migrants remplissent les trains pour la Serbie - AFP\" en replay sur Android TV Replay http://t.co/k8LZQkCzNh              \n482       \"Fast 30.000 #Flüchtlinge sind seit vergangenem Freitag auf den griechischen Inseln eingetroffen\" -#Merkel Einladung                         \n795       \"Macedonia, ancora frontiere chiuse. I migranti passano dal filo spinato\" - http://t.co/lt7wNeffC7 http://t.co/jvg5cMgDxk                    \n1796      \"Migrants leave Budapest rail station for Vienna on foot \" - http://t.co/gr1NdHQQ6j                                                          \n2134      \"Migrants' Main Rail Route to Germany From Austria to Remain Closed\" by REUTERS via NYT http://t.co/1UBjElRWrV                               \n1158      \"More than 130,000 #migrants have attempted to cross the Mediterranean in 2015\"  http://t.co/ZOvpUsTx1d                                      \n2364      \"On Thursday Slovenia reported that 12,000 migrants had arrived in one day - a record in the current crisis in Central Europe.\" - BBC        \n1137      \"With Tel Abyad secured, the Syrian Kurds have managed to forge a corridor between Cezire and Kobani. On Monday,... http://t.co/iJDle1SzwW   \n\n                                                                                                                         text_translated  \\\nuniqueid                                                                                                                                   \n1772      refugee crisis aboard the hope bus as refugees head to austria                                                                   \n996       germany record number of 2 200 migrants arrived in the south afp in replay on android tv replay                                  \n969       in macedonia migrants fill trains for serbia afp in replay on android tv replay                                                  \n482       nearly 30 000 refugees have arrived on the greek islands since last friday merkel invitation                                     \n795       macedonia still closed borders migrants pass by barbed wire                                                                      \n1796      migrants leave budapest rail station for vienna on foot                                                                          \n2134      migrants main rail route to germany from austria to remain closed by reuters via nyt                                             \n1158      more than 130 000 migrants have attempted to cross the mediterranean in 2015                                                     \n2364      on thursday slovenia reported that 12 000 migrants had arrived in one day a record in the current crisis in central europe bbc   \n1137      with tel abyad secured the syrian kurds have managed to forge a corridor between cezire and kobani on monday                     \n\n                                                       media   source  \\\nuniqueid                                                                \n1772      None                                                twitter   \n996       None                                                twitter   \n969       None                                                twitter   \n482       None                                                twitter   \n795       ['http://pbs.twimg.com/media/CNBxOh7WoAAP-zV.jpg']  twitter   \n1796      None                                                twitter   \n2134      None                                                twitter   \n1158      None                                                twitter   \n2364      None                                                twitter   \n1137      None                                                twitter   \n\n             mode  num_persons          _timestamp  confidence  \\\nuniqueid                                                         \n1772      bus     NaN          2019-09-29 09:08:05  0.59         \n996       None    NaN          2019-09-25 04:44:59  0.74         \n969       train   NaN          2019-09-12 04:08:04  0.63         \n482       None    NaN          2019-11-12 18:50:48  0.78         \n795       None    NaN          2019-09-14 16:50:53  0.81         \n1796      on foot NaN          2019-09-29 16:38:58  0.95         \n2134      None    NaN          2019-10-15 10:51:09  0.90         \n1158      None    NaN          2019-07-26 17:47:04  0.53         \n2364      None    NaN          2019-11-15 21:14:00  0.93         \n1137      None    NaN          2019-07-10 16:24:53  0.71         \n\n          source_reliability                locations origin_bool origin  \\\nuniqueid                                                                   \n1772      1.00                ['austria']              None        None    \n996       0.85                ['germany']              None        None    \n969       0.12                ['macedonia', 'serbia']  None        None    \n482       0.66                ['island']               None        None    \n795       0.04                ['macedonia']            None        None    \n1796      0.67                ['budapest', 'vienna']   None        AT13    \n2134      0.30                ['germany', 'austria']   None        AT      \n1158      0.94                []                       None        None    \n2364      0.23                ['slovenia']             None        None    \n1137      0.24                ['syria']                None        None    \n\n         destination                                  geom_tweet triage_status  \nuniqueid                                                                        \n1772      None        010100000076711B0DE05D30409A99999999194840  None          \n996       None        0101000000151DC9E53FC42A40EEEBC03923424A40  None          \n969       None        0101000000575BB1BFEC6E35400000000000004540  None          \n482       None        None                                        None          \n795       None        0101000000575BB1BFEC6E35400000000000004540  None          \n1796      None        0101000000B003E78C280D3340D7A3703D0ABF4740  None          \n2134      DE          0101000000151DC9E53FC42A40EEEBC03923424A40  None          \n1158      None        None                                        None          \n2364      None        0101000000151DC9E53F042D402CD49AE61D074740  None          \n1137      None        0101000000E8D9ACFA5C254240EFC9C342ADC14040  None          "
         },
         "metadata": {},
         "output_type": "display_data"
        }
       ]
      }
     },
     "3a4a921ca11d4b368955f7fcb5b44f2d": {
      "model_module": "@jupyter-widgets/base",
      "model_module_version": "1.2.0",
      "model_name": "LayoutModel",
      "state": {
       "_model_module_version": "1.2.0",
       "_view_module_version": "1.2.0",
       "justify_items": null,
       "object_fit": null,
       "object_position": null
      }
     },
     "3a5f57f9473748839615bcf044fc55c5": {
      "model_module": "@jupyter-widgets/controls",
      "model_module_version": "1.5.0",
      "model_name": "ButtonModel",
      "state": {
       "_model_module_version": "1.5.0",
       "_view_module_version": "1.5.0",
       "icon": "chevron-right",
       "layout": "IPY_MODEL_a31175e191164aac985551d8b5bdc63f",
       "style": "IPY_MODEL_a4ec6925212942f5b67bb1101f598c60"
      }
     },
     "3ad987b9978947d2864d56d140e039cc": {
      "model_module": "@jupyter-widgets/controls",
      "model_module_version": "1.5.0",
      "model_name": "HBoxModel",
      "state": {
       "_model_module_version": "1.5.0",
       "_view_module_version": "1.5.0",
       "children": [
        "IPY_MODEL_af6e4f900ac5432eaf96f9b297cca5d5",
        "IPY_MODEL_1a03ca8f65c6435bb24c7bd8a3297372",
        "IPY_MODEL_dd3c188c508f4721ac8b07bcb8753e2c"
       ],
       "layout": "IPY_MODEL_72fab2f96d3946dbbc342c0019f10d46"
      }
     },
     "3bc83e09c59c4dc7b84701b096116505": {
      "model_module": "@jupyter-widgets/controls",
      "model_module_version": "1.5.0",
      "model_name": "DescriptionStyleModel",
      "state": {
       "_model_module_version": "1.5.0",
       "_view_module_version": "1.2.0",
       "description_width": ""
      }
     },
     "3cdeead130b94ac58aa989e139418ff5": {
      "model_module": "@jupyter-widgets/base",
      "model_module_version": "1.2.0",
      "model_name": "LayoutModel",
      "state": {
       "_model_module_version": "1.2.0",
       "_view_module_version": "1.2.0",
       "grid_area": "top-left",
       "justify_items": null,
       "object_fit": null,
       "object_position": null
      }
     },
     "3e8939cddcae4ed9a196516612c6810f": {
      "model_module": "@jupyter-widgets/controls",
      "model_module_version": "1.5.0",
      "model_name": "DescriptionStyleModel",
      "state": {
       "_model_module_version": "1.5.0",
       "_view_module_version": "1.2.0",
       "description_width": ""
      }
     },
     "3f56e13eac7a49f5b0920469b229e282": {
      "model_module": "@jupyter-widgets/base",
      "model_module_version": "1.2.0",
      "model_name": "LayoutModel",
      "state": {
       "_model_module_version": "1.2.0",
       "_view_module_version": "1.2.0",
       "height": "50px",
       "justify_items": null,
       "object_fit": null,
       "object_position": null
      }
     },
     "4007f8ac8e614885a79d04108138d08a": {
      "model_module": "@jupyter-widgets/controls",
      "model_module_version": "1.5.0",
      "model_name": "ButtonStyleModel",
      "state": {
       "_model_module_version": "1.5.0",
       "_view_module_version": "1.2.0"
      }
     },
     "41366d9cfa2b4f4dabbed35b3ccc28b4": {
      "model_module": "@jupyter-widgets/base",
      "model_module_version": "1.2.0",
      "model_name": "LayoutModel",
      "state": {
       "_model_module_version": "1.2.0",
       "_view_module_version": "1.2.0",
       "justify_items": null,
       "object_fit": null,
       "object_position": null,
       "width": "30px"
      }
     },
     "456f211dc9d24b5ca6cc091fe3700bcf": {
      "model_module": "@jupyter-widgets/controls",
      "model_module_version": "1.5.0",
      "model_name": "LabelModel",
      "state": {
       "_model_module_version": "1.5.0",
       "_view_module_version": "1.5.0",
       "layout": "IPY_MODEL_166d9060cce74f7498a06733415383ef",
       "style": "IPY_MODEL_fac0a4951dc346068c6d404271814aac",
       "value": "Search Columns"
      }
     },
     "4677080be81f4d7498111ca2165751fe": {
      "model_module": "@jupyter-widgets/controls",
      "model_module_version": "1.5.0",
      "model_name": "DropdownModel",
      "state": {
       "_model_module_version": "1.5.0",
       "_options_labels": [
        "text",
        "text_translated",
        "media",
        "source",
        "mode",
        "num_persons",
        "_timestamp",
        "confidence",
        "source_reliability",
        "locations",
        "origin_bool",
        "origin",
        "destination",
        "geom_tweet",
        "triage_status"
       ],
       "_view_module_version": "1.5.0",
       "index": 0,
       "layout": "IPY_MODEL_24cbfe525d4840cc982f712752786f42",
       "style": "IPY_MODEL_2cb0574aacd144cb823e7365b5384b57"
      }
     },
     "490c35f5049f495594aaf79f0421cfc1": {
      "model_module": "@jupyter-widgets/output",
      "model_module_version": "1.0.0",
      "model_name": "OutputModel",
      "state": {
       "layout": "IPY_MODEL_100de7e6d2f240a1be7b5931d72b1a93",
       "outputs": [
        {
         "data": {
          "image/png": "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\n",
          "text/plain": "<Figure size 432x288 with 1 Axes>"
         },
         "metadata": {
          "needs_background": "light"
         },
         "output_type": "display_data"
        }
       ]
      }
     },
     "4fa96e51cdc4458dad619a20e3e17eb3": {
      "model_module": "@jupyter-widgets/controls",
      "model_module_version": "1.5.0",
      "model_name": "VBoxModel",
      "state": {
       "_model_module_version": "1.5.0",
       "_view_module_version": "1.5.0",
       "children": [
        "IPY_MODEL_866d92c8ceba42dc935359488282f93a",
        "IPY_MODEL_71c774b42b934284a4afbc1eaa6265ed"
       ],
       "layout": "IPY_MODEL_ea8b9f3053eb4729ac6eb8ebb9ae91de"
      }
     },
     "520d7b532de34a37a306457be6cbe252": {
      "model_module": "@jupyter-widgets/controls",
      "model_module_version": "1.5.0",
      "model_name": "ButtonModel",
      "state": {
       "_model_module_version": "1.5.0",
       "_view_module_version": "1.5.0",
       "icon": "chevron-right",
       "layout": "IPY_MODEL_647fc759700b4c99a84f80d829f76dfa",
       "style": "IPY_MODEL_fabd3cdfaaf54e28ba177f9b4f910f42"
      }
     },
     "536d7ff7790845bb9e583b8ed19e1079": {
      "model_module": "@jupyter-widgets/controls",
      "model_module_version": "1.5.0",
      "model_name": "VBoxModel",
      "state": {
       "_model_module_version": "1.5.0",
       "_view_module_version": "1.5.0",
       "children": [
        "IPY_MODEL_ce8e450671b745dfae6a9b7cb0fcb4e9",
        "IPY_MODEL_863620a6a05f4635b8803d05ad37df94"
       ],
       "layout": "IPY_MODEL_09d33900dc7b4b1f93ff970b319a7579"
      }
     },
     "53bd3a2e72d24162a395eb2ccc0a469f": {
      "model_module": "@jupyter-widgets/base",
      "model_module_version": "1.2.0",
      "model_name": "LayoutModel",
      "state": {
       "_model_module_version": "1.2.0",
       "_view_module_version": "1.2.0",
       "grid_template_areas": "\"top-left top-right\"\n\"top-left top-right\"",
       "grid_template_columns": "1fr 1fr",
       "grid_template_rows": "1fr 1fr",
       "justify_items": null,
       "object_fit": null,
       "object_position": null
      }
     },
     "53d5207f502d472988c96d897c035081": {
      "model_module": "@jupyter-widgets/base",
      "model_module_version": "1.2.0",
      "model_name": "LayoutModel",
      "state": {
       "_model_module_version": "1.2.0",
       "_view_module_version": "1.2.0",
       "justify_items": null,
       "object_fit": null,
       "object_position": null
      }
     },
     "54993934473447deaeb9285eee7db51f": {
      "model_module": "@jupyter-widgets/base",
      "model_module_version": "1.2.0",
      "model_name": "LayoutModel",
      "state": {
       "_model_module_version": "1.2.0",
       "_view_module_version": "1.2.0",
       "justify_items": null,
       "object_fit": null,
       "object_position": null
      }
     },
     "565b87b69ded4d3f9c4f790eac5e53fb": {
      "model_module": "@jupyter-widgets/base",
      "model_module_version": "1.2.0",
      "model_name": "LayoutModel",
      "state": {
       "_model_module_version": "1.2.0",
       "_view_module_version": "1.2.0",
       "justify_items": null,
       "object_fit": null,
       "object_position": null
      }
     },
     "5664bc35f11a40e49b8a1d3ecaa08f4d": {
      "model_module": "@jupyter-widgets/controls",
      "model_module_version": "1.5.0",
      "model_name": "DescriptionStyleModel",
      "state": {
       "_model_module_version": "1.5.0",
       "_view_module_version": "1.2.0",
       "description_width": ""
      }
     },
     "5753aeb756d94e4e90d500224e21441d": {
      "model_module": "@jupyter-widgets/controls",
      "model_module_version": "1.5.0",
      "model_name": "VBoxModel",
      "state": {
       "_model_module_version": "1.5.0",
       "_view_module_version": "1.5.0",
       "children": [
        "IPY_MODEL_f8390c7c091d4c839731b789fdf04b8d",
        "IPY_MODEL_37d41576666c4418a6302572635b4e3b"
       ],
       "layout": "IPY_MODEL_27e12877acc0420b92115b72e56d0ab1"
      }
     },
     "59c59a640d834a6282be460b5097f6ab": {
      "model_module": "@jupyter-widgets/controls",
      "model_module_version": "1.5.0",
      "model_name": "LabelModel",
      "state": {
       "_model_module_version": "1.5.0",
       "_view_module_version": "1.5.0",
       "layout": "IPY_MODEL_fe6a22daa9d54e29a98dc548ef103669",
       "style": "IPY_MODEL_06191cfe42474867a7c0599634318451",
       "value": "Plot Columns"
      }
     },
     "6058d22045954a5fa8594fb2931e86c0": {
      "model_module": "@jupyter-widgets/controls",
      "model_module_version": "1.5.0",
      "model_name": "VBoxModel",
      "state": {
       "_model_module_version": "1.5.0",
       "_view_module_version": "1.5.0",
       "children": [
        "IPY_MODEL_bcb1fa6e014a48c3b693ca0f60bc09e2",
        "IPY_MODEL_2990bb1cac9a469cb91e658205731934",
        "IPY_MODEL_a8ba2bc6a22a407f8b04af719e4b8939"
       ],
       "layout": "IPY_MODEL_f6c5625a7d81440aa67af42a1942adeb"
      }
     },
     "61e66db283fb4028b95a2da7b77c0d47": {
      "model_module": "@jupyter-widgets/base",
      "model_module_version": "1.2.0",
      "model_name": "LayoutModel",
      "state": {
       "_model_module_version": "1.2.0",
       "_view_module_version": "1.2.0",
       "grid_template_areas": "\"top-left top-right\"\n\"top-left top-right\"",
       "grid_template_columns": "1fr 1fr",
       "grid_template_rows": "1fr 1fr",
       "justify_items": null,
       "object_fit": null,
       "object_position": null
      }
     },
     "62bca1995b0641fe9792a53f6faa37dd": {
      "model_module": "@jupyter-widgets/base",
      "model_module_version": "1.2.0",
      "model_name": "LayoutModel",
      "state": {
       "_model_module_version": "1.2.0",
       "_view_module_version": "1.2.0",
       "grid_area": "top-right",
       "justify_items": null,
       "object_fit": null,
       "object_position": null
      }
     },
     "647fc759700b4c99a84f80d829f76dfa": {
      "model_module": "@jupyter-widgets/base",
      "model_module_version": "1.2.0",
      "model_name": "LayoutModel",
      "state": {
       "_model_module_version": "1.2.0",
       "_view_module_version": "1.2.0",
       "justify_items": null,
       "object_fit": null,
       "object_position": null,
       "width": "30px"
      }
     },
     "653b530e1788436997d90cd4b67458a4": {
      "model_module": "@jupyter-widgets/base",
      "model_module_version": "1.2.0",
      "model_name": "LayoutModel",
      "state": {
       "_model_module_version": "1.2.0",
       "_view_module_version": "1.2.0",
       "justify_items": null,
       "object_fit": null,
       "object_position": null
      }
     },
     "6570646a225e4e4eb5fb8340b16c2533": {
      "model_module": "@jupyter-widgets/controls",
      "model_module_version": "1.5.0",
      "model_name": "DescriptionStyleModel",
      "state": {
       "_model_module_version": "1.5.0",
       "_view_module_version": "1.2.0",
       "description_width": ""
      }
     },
     "67d1496c9c194f658d876ceb1d4d83b6": {
      "model_module": "@jupyter-widgets/controls",
      "model_module_version": "1.5.0",
      "model_name": "ButtonModel",
      "state": {
       "_model_module_version": "1.5.0",
       "_view_module_version": "1.5.0",
       "icon": "chevron-left",
       "layout": "IPY_MODEL_6e38f45c60dc4a34a5754896939acdb6",
       "style": "IPY_MODEL_4007f8ac8e614885a79d04108138d08a"
      }
     },
     "69d8d8bbbadf4111a57f1909652407fb": {
      "model_module": "@jupyter-widgets/base",
      "model_module_version": "1.2.0",
      "model_name": "LayoutModel",
      "state": {
       "_model_module_version": "1.2.0",
       "_view_module_version": "1.2.0",
       "justify_items": null,
       "object_fit": null,
       "object_position": null
      }
     },
     "6ce14665dfe54148a2e2c6bfa5d919f0": {
      "model_module": "@jupyter-widgets/controls",
      "model_module_version": "1.5.0",
      "model_name": "DescriptionStyleModel",
      "state": {
       "_model_module_version": "1.5.0",
       "_view_module_version": "1.2.0",
       "description_width": ""
      }
     },
     "6e38f45c60dc4a34a5754896939acdb6": {
      "model_module": "@jupyter-widgets/base",
      "model_module_version": "1.2.0",
      "model_name": "LayoutModel",
      "state": {
       "_model_module_version": "1.2.0",
       "_view_module_version": "1.2.0",
       "justify_items": null,
       "object_fit": null,
       "object_position": null,
       "width": "30px"
      }
     },
     "6f79578331564be7af093831ba22a16b": {
      "model_module": "@jupyter-widgets/base",
      "model_module_version": "1.2.0",
      "model_name": "LayoutModel",
      "state": {
       "_model_module_version": "1.2.0",
       "_view_module_version": "1.2.0",
       "justify_items": null,
       "object_fit": null,
       "object_position": null
      }
     },
     "6f97dc03f1d746b5b4cecbe3796af27a": {
      "model_module": "@jupyter-widgets/base",
      "model_module_version": "1.2.0",
      "model_name": "LayoutModel",
      "state": {
       "_model_module_version": "1.2.0",
       "_view_module_version": "1.2.0",
       "justify_items": null,
       "object_fit": null,
       "object_position": null,
       "width": "20%"
      }
     },
     "71c774b42b934284a4afbc1eaa6265ed": {
      "model_module": "@jupyter-widgets/output",
      "model_module_version": "1.0.0",
      "model_name": "OutputModel",
      "state": {
       "layout": "IPY_MODEL_2ed719c31f3c4970a58939b672162f31",
       "outputs": [
        {
         "data": {
          "text/html": "<div>\n<style scoped>\n    .dataframe tbody tr th:only-of-type {\n        vertical-align: middle;\n    }\n\n    .dataframe tbody tr th {\n        vertical-align: top;\n    }\n\n    .dataframe thead th {\n        text-align: right;\n    }\n</style>\n<table border=\"1\" class=\"dataframe\">\n  <thead>\n    <tr style=\"text-align: right;\">\n      <th></th>\n      <th>text</th>\n      <th>text_translated</th>\n      <th>media</th>\n      <th>source</th>\n      <th>mode</th>\n      <th>num_persons</th>\n      <th>_timestamp</th>\n      <th>confidence</th>\n      <th>source_reliability</th>\n      <th>locations</th>\n      <th>origin_bool</th>\n      <th>origin</th>\n      <th>destination</th>\n      <th>geom_tweet</th>\n      <th>triage_status</th>\n    </tr>\n    <tr>\n      <th>uniqueid</th>\n      <th></th>\n      <th></th>\n      <th></th>\n      <th></th>\n      <th></th>\n      <th></th>\n      <th></th>\n      <th></th>\n      <th></th>\n      <th></th>\n      <th></th>\n      <th></th>\n      <th></th>\n      <th></th>\n      <th></th>\n    </tr>\n  </thead>\n  <tbody>\n    <tr>\n      <th>1772</th>\n      <td>\"@JarretHaisley: Refugee crisis: Aboard the hope bus as refugees head to Austria http://t.co/8qfk2r5SrV\"</td>\n      <td>refugee crisis aboard the hope bus as refugees head to austria</td>\n      <td>None</td>\n      <td>twitter</td>\n      <td>bus</td>\n      <td>NaN</td>\n      <td>2019-09-29 09:08:05</td>\n      <td>0.59</td>\n      <td>1.00</td>\n      <td>['austria']</td>\n      <td>None</td>\n      <td>None</td>\n      <td>None</td>\n      <td>010100000076711B0DE05D30409A99999999194840</td>\n      <td>None</td>\n    </tr>\n    <tr>\n      <th>996</th>\n      <td>\"Allemagne: nombre record de 2.200 migrants arrivés dans le sud - AFP\" en replay sur Android TV Replay http://t.co/k8LZQkCzNh</td>\n      <td>germany record number of 2 200 migrants arrived in the south afp in replay on android tv replay</td>\n      <td>None</td>\n      <td>twitter</td>\n      <td>None</td>\n      <td>NaN</td>\n      <td>2019-09-25 04:44:59</td>\n      <td>0.74</td>\n      <td>0.85</td>\n      <td>['germany']</td>\n      <td>None</td>\n      <td>None</td>\n      <td>None</td>\n      <td>0101000000151DC9E53FC42A40EEEBC03923424A40</td>\n      <td>None</td>\n    </tr>\n    <tr>\n      <th>969</th>\n      <td>\"En Macédoine, les migrants remplissent les trains pour la Serbie - AFP\" en replay sur Android TV Replay http://t.co/k8LZQkCzNh</td>\n      <td>in macedonia migrants fill trains for serbia afp in replay on android tv replay</td>\n      <td>None</td>\n      <td>twitter</td>\n      <td>train</td>\n      <td>NaN</td>\n      <td>2019-09-12 04:08:04</td>\n      <td>0.63</td>\n      <td>0.12</td>\n      <td>['macedonia', 'serbia']</td>\n      <td>None</td>\n      <td>None</td>\n      <td>None</td>\n      <td>0101000000575BB1BFEC6E35400000000000004540</td>\n      <td>None</td>\n    </tr>\n    <tr>\n      <th>482</th>\n      <td>\"Fast 30.000 #Flüchtlinge sind seit vergangenem Freitag auf den griechischen Inseln eingetroffen\" -#Merkel Einladung</td>\n      <td>nearly 30 000 refugees have arrived on the greek islands since last friday merkel invitation</td>\n      <td>None</td>\n      <td>twitter</td>\n      <td>None</td>\n      <td>NaN</td>\n      <td>2019-11-12 18:50:48</td>\n      <td>0.78</td>\n      <td>0.66</td>\n      <td>['island']</td>\n      <td>None</td>\n      <td>None</td>\n      <td>None</td>\n      <td>None</td>\n      <td>None</td>\n    </tr>\n    <tr>\n      <th>795</th>\n      <td>\"Macedonia, ancora frontiere chiuse. I migranti passano dal filo spinato\" - http://t.co/lt7wNeffC7 http://t.co/jvg5cMgDxk</td>\n      <td>macedonia still closed borders migrants pass by barbed wire</td>\n      <td>['http://pbs.twimg.com/media/CNBxOh7WoAAP-zV.jpg']</td>\n      <td>twitter</td>\n      <td>None</td>\n      <td>NaN</td>\n      <td>2019-09-14 16:50:53</td>\n      <td>0.81</td>\n      <td>0.04</td>\n      <td>['macedonia']</td>\n      <td>None</td>\n      <td>None</td>\n      <td>None</td>\n      <td>0101000000575BB1BFEC6E35400000000000004540</td>\n      <td>None</td>\n    </tr>\n    <tr>\n      <th>1796</th>\n      <td>\"Migrants leave Budapest rail station for Vienna on foot \" - http://t.co/gr1NdHQQ6j</td>\n      <td>migrants leave budapest rail station for vienna on foot</td>\n      <td>None</td>\n      <td>twitter</td>\n      <td>on foot</td>\n      <td>NaN</td>\n      <td>2019-09-29 16:38:58</td>\n      <td>0.95</td>\n      <td>0.67</td>\n      <td>['budapest', 'vienna']</td>\n      <td>None</td>\n      <td>AT13</td>\n      <td>None</td>\n      <td>0101000000B003E78C280D3340D7A3703D0ABF4740</td>\n      <td>None</td>\n    </tr>\n    <tr>\n      <th>2134</th>\n      <td>\"Migrants' Main Rail Route to Germany From Austria to Remain Closed\" by REUTERS via NYT http://t.co/1UBjElRWrV</td>\n      <td>migrants main rail route to germany from austria to remain closed by reuters via nyt</td>\n      <td>None</td>\n      <td>twitter</td>\n      <td>None</td>\n      <td>NaN</td>\n      <td>2019-10-15 10:51:09</td>\n      <td>0.90</td>\n      <td>0.30</td>\n      <td>['germany', 'austria']</td>\n      <td>None</td>\n      <td>AT</td>\n      <td>DE</td>\n      <td>0101000000151DC9E53FC42A40EEEBC03923424A40</td>\n      <td>None</td>\n    </tr>\n    <tr>\n      <th>1158</th>\n      <td>\"More than 130,000 #migrants have attempted to cross the Mediterranean in 2015\"  http://t.co/ZOvpUsTx1d</td>\n      <td>more than 130 000 migrants have attempted to cross the mediterranean in 2015</td>\n      <td>None</td>\n      <td>twitter</td>\n      <td>None</td>\n      <td>NaN</td>\n      <td>2019-07-26 17:47:04</td>\n      <td>0.53</td>\n      <td>0.94</td>\n      <td>[]</td>\n      <td>None</td>\n      <td>None</td>\n      <td>None</td>\n      <td>None</td>\n      <td>None</td>\n    </tr>\n    <tr>\n      <th>2364</th>\n      <td>\"On Thursday Slovenia reported that 12,000 migrants had arrived in one day - a record in the current crisis in Central Europe.\" - BBC</td>\n      <td>on thursday slovenia reported that 12 000 migrants had arrived in one day a record in the current crisis in central europe bbc</td>\n      <td>None</td>\n      <td>twitter</td>\n      <td>None</td>\n      <td>NaN</td>\n      <td>2019-11-15 21:14:00</td>\n      <td>0.93</td>\n      <td>0.23</td>\n      <td>['slovenia']</td>\n      <td>None</td>\n      <td>None</td>\n      <td>None</td>\n      <td>0101000000151DC9E53F042D402CD49AE61D074740</td>\n      <td>None</td>\n    </tr>\n    <tr>\n      <th>1137</th>\n      <td>\"With Tel Abyad secured, the Syrian Kurds have managed to forge a corridor between Cezire and Kobani. On Monday,... http://t.co/iJDle1SzwW</td>\n      <td>with tel abyad secured the syrian kurds have managed to forge a corridor between cezire and kobani on monday</td>\n      <td>None</td>\n      <td>twitter</td>\n      <td>None</td>\n      <td>NaN</td>\n      <td>2019-07-10 16:24:53</td>\n      <td>0.71</td>\n      <td>0.24</td>\n      <td>['syria']</td>\n      <td>None</td>\n      <td>None</td>\n      <td>None</td>\n      <td>0101000000E8D9ACFA5C254240EFC9C342ADC14040</td>\n      <td>None</td>\n    </tr>\n  </tbody>\n</table>\n</div>",
          "text/plain": "                                                                                                                                                text  \\\nuniqueid                                                                                                                                               \n1772      \"@JarretHaisley: Refugee crisis: Aboard the hope bus as refugees head to Austria http://t.co/8qfk2r5SrV\"                                     \n996       \"Allemagne: nombre record de 2.200 migrants arrivés dans le sud - AFP\" en replay sur Android TV Replay http://t.co/k8LZQkCzNh                \n969       \"En Macédoine, les migrants remplissent les trains pour la Serbie - AFP\" en replay sur Android TV Replay http://t.co/k8LZQkCzNh              \n482       \"Fast 30.000 #Flüchtlinge sind seit vergangenem Freitag auf den griechischen Inseln eingetroffen\" -#Merkel Einladung                         \n795       \"Macedonia, ancora frontiere chiuse. I migranti passano dal filo spinato\" - http://t.co/lt7wNeffC7 http://t.co/jvg5cMgDxk                    \n1796      \"Migrants leave Budapest rail station for Vienna on foot \" - http://t.co/gr1NdHQQ6j                                                          \n2134      \"Migrants' Main Rail Route to Germany From Austria to Remain Closed\" by REUTERS via NYT http://t.co/1UBjElRWrV                               \n1158      \"More than 130,000 #migrants have attempted to cross the Mediterranean in 2015\"  http://t.co/ZOvpUsTx1d                                      \n2364      \"On Thursday Slovenia reported that 12,000 migrants had arrived in one day - a record in the current crisis in Central Europe.\" - BBC        \n1137      \"With Tel Abyad secured, the Syrian Kurds have managed to forge a corridor between Cezire and Kobani. On Monday,... http://t.co/iJDle1SzwW   \n\n                                                                                                                         text_translated  \\\nuniqueid                                                                                                                                   \n1772      refugee crisis aboard the hope bus as refugees head to austria                                                                   \n996       germany record number of 2 200 migrants arrived in the south afp in replay on android tv replay                                  \n969       in macedonia migrants fill trains for serbia afp in replay on android tv replay                                                  \n482       nearly 30 000 refugees have arrived on the greek islands since last friday merkel invitation                                     \n795       macedonia still closed borders migrants pass by barbed wire                                                                      \n1796      migrants leave budapest rail station for vienna on foot                                                                          \n2134      migrants main rail route to germany from austria to remain closed by reuters via nyt                                             \n1158      more than 130 000 migrants have attempted to cross the mediterranean in 2015                                                     \n2364      on thursday slovenia reported that 12 000 migrants had arrived in one day a record in the current crisis in central europe bbc   \n1137      with tel abyad secured the syrian kurds have managed to forge a corridor between cezire and kobani on monday                     \n\n                                                       media   source  \\\nuniqueid                                                                \n1772      None                                                twitter   \n996       None                                                twitter   \n969       None                                                twitter   \n482       None                                                twitter   \n795       ['http://pbs.twimg.com/media/CNBxOh7WoAAP-zV.jpg']  twitter   \n1796      None                                                twitter   \n2134      None                                                twitter   \n1158      None                                                twitter   \n2364      None                                                twitter   \n1137      None                                                twitter   \n\n             mode  num_persons          _timestamp  confidence  \\\nuniqueid                                                         \n1772      bus     NaN          2019-09-29 09:08:05  0.59         \n996       None    NaN          2019-09-25 04:44:59  0.74         \n969       train   NaN          2019-09-12 04:08:04  0.63         \n482       None    NaN          2019-11-12 18:50:48  0.78         \n795       None    NaN          2019-09-14 16:50:53  0.81         \n1796      on foot NaN          2019-09-29 16:38:58  0.95         \n2134      None    NaN          2019-10-15 10:51:09  0.90         \n1158      None    NaN          2019-07-26 17:47:04  0.53         \n2364      None    NaN          2019-11-15 21:14:00  0.93         \n1137      None    NaN          2019-07-10 16:24:53  0.71         \n\n          source_reliability                locations origin_bool origin  \\\nuniqueid                                                                   \n1772      1.00                ['austria']              None        None    \n996       0.85                ['germany']              None        None    \n969       0.12                ['macedonia', 'serbia']  None        None    \n482       0.66                ['island']               None        None    \n795       0.04                ['macedonia']            None        None    \n1796      0.67                ['budapest', 'vienna']   None        AT13    \n2134      0.30                ['germany', 'austria']   None        AT      \n1158      0.94                []                       None        None    \n2364      0.23                ['slovenia']             None        None    \n1137      0.24                ['syria']                None        None    \n\n         destination                                  geom_tweet triage_status  \nuniqueid                                                                        \n1772      None        010100000076711B0DE05D30409A99999999194840  None          \n996       None        0101000000151DC9E53FC42A40EEEBC03923424A40  None          \n969       None        0101000000575BB1BFEC6E35400000000000004540  None          \n482       None        None                                        None          \n795       None        0101000000575BB1BFEC6E35400000000000004540  None          \n1796      None        0101000000B003E78C280D3340D7A3703D0ABF4740  None          \n2134      DE          0101000000151DC9E53FC42A40EEEBC03923424A40  None          \n1158      None        None                                        None          \n2364      None        0101000000151DC9E53F042D402CD49AE61D074740  None          \n1137      None        0101000000E8D9ACFA5C254240EFC9C342ADC14040  None          "
         },
         "metadata": {},
         "output_type": "display_data"
        }
       ]
      }
     },
     "72fab2f96d3946dbbc342c0019f10d46": {
      "model_module": "@jupyter-widgets/base",
      "model_module_version": "1.2.0",
      "model_name": "LayoutModel",
      "state": {
       "_model_module_version": "1.2.0",
       "_view_module_version": "1.2.0",
       "justify_items": null,
       "object_fit": null,
       "object_position": null
      }
     },
     "75405aa6027f4565990068a695e8369e": {
      "model_module": "@jupyter-widgets/controls",
      "model_module_version": "1.5.0",
      "model_name": "DescriptionStyleModel",
      "state": {
       "_model_module_version": "1.5.0",
       "_view_module_version": "1.2.0",
       "description_width": ""
      }
     },
     "77d3a20ddf4e4552936d159d6937e52b": {
      "model_module": "@jupyter-widgets/controls",
      "model_module_version": "1.5.0",
      "model_name": "VBoxModel",
      "state": {
       "_model_module_version": "1.5.0",
       "_view_module_version": "1.5.0",
       "children": [
        "IPY_MODEL_27b50264cae14f88b4f76cfd76e98258",
        "IPY_MODEL_4677080be81f4d7498111ca2165751fe",
        "IPY_MODEL_fa81e538c193433fb664b524757e12ee"
       ],
       "layout": "IPY_MODEL_62bca1995b0641fe9792a53f6faa37dd"
      }
     },
     "7c3aac02c2d643b68dc0f880ce9cb559": {
      "model_module": "@jupyter-widgets/base",
      "model_module_version": "1.2.0",
      "model_name": "LayoutModel",
      "state": {
       "_model_module_version": "1.2.0",
       "_view_module_version": "1.2.0",
       "justify_items": null,
       "object_fit": null,
       "object_position": null
      }
     },
     "7fe2860ef2d94447bf07e9740e1c6b04": {
      "model_module": "@jupyter-widgets/controls",
      "model_module_version": "1.5.0",
      "model_name": "DropdownModel",
      "state": {
       "_model_module_version": "1.5.0",
       "_options_labels": [
        "text",
        "text_translated",
        "media",
        "source",
        "mode",
        "num_persons",
        "_timestamp",
        "confidence",
        "source_reliability",
        "locations",
        "origin_bool",
        "origin",
        "destination",
        "geom_tweet",
        "triage_status"
       ],
       "_view_module_version": "1.5.0",
       "description": "order by",
       "index": 0,
       "layout": "IPY_MODEL_a7b38cae808d481696e4b80f75c57991",
       "style": "IPY_MODEL_eb8a0530aa4741f696714f595691b283"
      }
     },
     "82a98f4ef4814564b37741ae8379099b": {
      "model_module": "@jupyter-widgets/controls",
      "model_module_version": "1.5.0",
      "model_name": "DescriptionStyleModel",
      "state": {
       "_model_module_version": "1.5.0",
       "_view_module_version": "1.2.0",
       "description_width": ""
      }
     },
     "830dbef8038c429c98245db1fa4d2eef": {
      "model_module": "@jupyter-widgets/controls",
      "model_module_version": "1.5.0",
      "model_name": "IntSliderModel",
      "state": {
       "_model_module_version": "1.5.0",
       "_view_module_version": "1.5.0",
       "layout": "IPY_MODEL_b267a4c4bdb5435da71f9fdb6f92be72",
       "max": 266,
       "min": 1,
       "style": "IPY_MODEL_f111497e701143e4ac069a174b763fe9",
       "value": 1
      }
     },
     "8522efc196bb449e94f3bb04494229b3": {
      "model_module": "@jupyter-widgets/controls",
      "model_module_version": "1.5.0",
      "model_name": "DescriptionStyleModel",
      "state": {
       "_model_module_version": "1.5.0",
       "_view_module_version": "1.2.0",
       "description_width": ""
      }
     },
     "863620a6a05f4635b8803d05ad37df94": {
      "model_module": "@jupyter-widgets/output",
      "model_module_version": "1.0.0",
      "model_name": "OutputModel",
      "state": {
       "layout": "IPY_MODEL_8ca221cbe1454273806e45dc035be7cc",
       "outputs": [
        {
         "data": {
          "application/vnd.jupyter.widget-view+json": {
           "model_id": "4fa96e51cdc4458dad619a20e3e17eb3",
           "version_major": 2,
           "version_minor": 0
          },
          "text/plain": "VBox(children=(HBox(children=(IntSlider(value=1, layout=Layout(width='60%'), max=266, min=1), Label(value='of …"
         },
         "metadata": {},
         "output_type": "display_data"
        }
       ]
      }
     },
     "86665e2521b744a0986708fb150784ca": {
      "model_module": "@jupyter-widgets/base",
      "model_module_version": "1.2.0",
      "model_name": "LayoutModel",
      "state": {
       "_model_module_version": "1.2.0",
       "_view_module_version": "1.2.0",
       "justify_items": null,
       "object_fit": null,
       "object_position": null
      }
     },
     "866d92c8ceba42dc935359488282f93a": {
      "model_module": "@jupyter-widgets/controls",
      "model_module_version": "1.5.0",
      "model_name": "HBoxModel",
      "state": {
       "_model_module_version": "1.5.0",
       "_view_module_version": "1.5.0",
       "children": [
        "IPY_MODEL_830dbef8038c429c98245db1fa4d2eef",
        "IPY_MODEL_bc96f144528942908cb22624c810b983",
        "IPY_MODEL_290fc8de3708419790f22544da5ac400",
        "IPY_MODEL_67d1496c9c194f658d876ceb1d4d83b6",
        "IPY_MODEL_3a5f57f9473748839615bcf044fc55c5"
       ],
       "layout": "IPY_MODEL_6f79578331564be7af093831ba22a16b"
      }
     },
     "8841cdc0a80f4bb7b3ded825e906b69a": {
      "model_module": "@jupyter-widgets/base",
      "model_module_version": "1.2.0",
      "model_name": "LayoutModel",
      "state": {
       "_model_module_version": "1.2.0",
       "_view_module_version": "1.2.0",
       "justify_items": null,
       "object_fit": null,
       "object_position": null
      }
     },
     "89b3613523f34408b29be52335f589a8": {
      "model_module": "@jupyter-widgets/base",
      "model_module_version": "1.2.0",
      "model_name": "LayoutModel",
      "state": {
       "_model_module_version": "1.2.0",
       "_view_module_version": "1.2.0",
       "justify_items": null,
       "object_fit": null,
       "object_position": null
      }
     },
     "8c1f5937fa454382adca969bb5b510f9": {
      "model_module": "@jupyter-widgets/controls",
      "model_module_version": "1.5.0",
      "model_name": "DescriptionStyleModel",
      "state": {
       "_model_module_version": "1.5.0",
       "_view_module_version": "1.2.0",
       "description_width": ""
      }
     },
     "8ca221cbe1454273806e45dc035be7cc": {
      "model_module": "@jupyter-widgets/base",
      "model_module_version": "1.2.0",
      "model_name": "LayoutModel",
      "state": {
       "_model_module_version": "1.2.0",
       "_view_module_version": "1.2.0",
       "justify_items": null,
       "object_fit": null,
       "object_position": null
      }
     },
     "8eb129c068e34eb0b8106fbf24017070": {
      "model_module": "@jupyter-widgets/controls",
      "model_module_version": "1.5.0",
      "model_name": "HBoxModel",
      "state": {
       "_model_module_version": "1.5.0",
       "_view_module_version": "1.5.0",
       "children": [
        "IPY_MODEL_b97949ad2e19453c8f5b002ca5c505a8",
        "IPY_MODEL_c537c456cc3d4951b416b6df83aa206a",
        "IPY_MODEL_26fbbbf6250543158460f7a4792b3111"
       ],
       "layout": "IPY_MODEL_3f56e13eac7a49f5b0920469b229e282"
      }
     },
     "8ece146174134606abb5141c1924fadd": {
      "model_module": "@jupyter-widgets/controls",
      "model_module_version": "1.5.0",
      "model_name": "HTMLModel",
      "state": {
       "_model_module_version": "1.5.0",
       "_view_module_version": "1.5.0",
       "layout": "IPY_MODEL_54993934473447deaeb9285eee7db51f",
       "style": "IPY_MODEL_5664bc35f11a40e49b8a1d3ecaa08f4d",
       "value": "Select multiple by dragging or ctrl + click <br> Deselect with ctrl + click"
      }
     },
     "92de8628f4cd4528a7b1785fb0e4334d": {
      "model_module": "@jupyter-widgets/base",
      "model_module_version": "1.2.0",
      "model_name": "LayoutModel",
      "state": {
       "_model_module_version": "1.2.0",
       "_view_module_version": "1.2.0",
       "justify_items": null,
       "object_fit": null,
       "object_position": null
      }
     },
     "982b26c89a924df59b9bf6fef7381c50": {
      "model_module": "@jupyter-widgets/base",
      "model_module_version": "1.2.0",
      "model_name": "LayoutModel",
      "state": {
       "_model_module_version": "1.2.0",
       "_view_module_version": "1.2.0",
       "justify_items": null,
       "object_fit": null,
       "object_position": null
      }
     },
     "994d69e8b45546fca037a8f4e31d8c7b": {
      "model_module": "@jupyter-widgets/base",
      "model_module_version": "1.2.0",
      "model_name": "LayoutModel",
      "state": {
       "_model_module_version": "1.2.0",
       "_view_module_version": "1.2.0",
       "justify_items": null,
       "object_fit": null,
       "object_position": null
      }
     },
     "9a4d841ae723486c8dae2d2d67d9bbb0": {
      "model_module": "@jupyter-widgets/controls",
      "model_module_version": "1.5.0",
      "model_name": "LabelModel",
      "state": {
       "_model_module_version": "1.5.0",
       "_view_module_version": "1.5.0",
       "layout": "IPY_MODEL_314865e77f7f46eaa09e63d74213cb1c",
       "style": "IPY_MODEL_c6b22de3b24d451eb7856766b4db11cb",
       "value": "2654 rows"
      }
     },
     "9d41df328f0e46bd82a7d17ca3547a55": {
      "model_module": "@jupyter-widgets/base",
      "model_module_version": "1.2.0",
      "model_name": "LayoutModel",
      "state": {
       "_model_module_version": "1.2.0",
       "_view_module_version": "1.2.0",
       "justify_items": null,
       "object_fit": null,
       "object_position": null
      }
     },
     "9e725f8b29424c8595a637c6e2826203": {
      "model_module": "@jupyter-widgets/controls",
      "model_module_version": "1.5.0",
      "model_name": "TextModel",
      "state": {
       "_model_module_version": "1.5.0",
       "_view_module_version": "1.5.0",
       "layout": "IPY_MODEL_1e20d9bbaf744c578e47ca4c7e912525",
       "style": "IPY_MODEL_8c1f5937fa454382adca969bb5b510f9"
      }
     },
     "9f8733be69e84138910de34d92dbd80e": {
      "model_module": "@jupyter-widgets/controls",
      "model_module_version": "1.5.0",
      "model_name": "DescriptionStyleModel",
      "state": {
       "_model_module_version": "1.5.0",
       "_view_module_version": "1.2.0",
       "description_width": ""
      }
     },
     "a31175e191164aac985551d8b5bdc63f": {
      "model_module": "@jupyter-widgets/base",
      "model_module_version": "1.2.0",
      "model_name": "LayoutModel",
      "state": {
       "_model_module_version": "1.2.0",
       "_view_module_version": "1.2.0",
       "justify_items": null,
       "object_fit": null,
       "object_position": null,
       "width": "30px"
      }
     },
     "a412613b00a14311b1b44094edeb3272": {
      "model_module": "@jupyter-widgets/controls",
      "model_module_version": "1.5.0",
      "model_name": "DescriptionStyleModel",
      "state": {
       "_model_module_version": "1.5.0",
       "_view_module_version": "1.2.0",
       "description_width": ""
      }
     },
     "a4ec6925212942f5b67bb1101f598c60": {
      "model_module": "@jupyter-widgets/controls",
      "model_module_version": "1.5.0",
      "model_name": "ButtonStyleModel",
      "state": {
       "_model_module_version": "1.5.0",
       "_view_module_version": "1.2.0"
      }
     },
     "a7b38cae808d481696e4b80f75c57991": {
      "model_module": "@jupyter-widgets/base",
      "model_module_version": "1.2.0",
      "model_name": "LayoutModel",
      "state": {
       "_model_module_version": "1.2.0",
       "_view_module_version": "1.2.0",
       "justify_items": null,
       "object_fit": null,
       "object_position": null
      }
     },
     "a8ba2bc6a22a407f8b04af719e4b8939": {
      "model_module": "@jupyter-widgets/controls",
      "model_module_version": "1.5.0",
      "model_name": "TextModel",
      "state": {
       "_model_module_version": "1.5.0",
       "_view_module_version": "1.5.0",
       "layout": "IPY_MODEL_bd693307a0094240b3d35dc9b279ab8e",
       "style": "IPY_MODEL_e19d880cd7f54fc2af950f32897e4923"
      }
     },
     "ab40e6ec8aaa4c80ad99a918182130d2": {
      "model_module": "@jupyter-widgets/base",
      "model_module_version": "1.2.0",
      "model_name": "LayoutModel",
      "state": {
       "_model_module_version": "1.2.0",
       "_view_module_version": "1.2.0",
       "justify_items": null,
       "object_fit": null,
       "object_position": null
      }
     },
     "ab82d19c4b324e6e88da2bfeb8528aef": {
      "model_module": "@jupyter-widgets/controls",
      "model_module_version": "1.5.0",
      "model_name": "DescriptionStyleModel",
      "state": {
       "_model_module_version": "1.5.0",
       "_view_module_version": "1.2.0",
       "description_width": ""
      }
     },
     "abfa1a57826c4a4db049fc133d5c813d": {
      "model_module": "@jupyter-widgets/base",
      "model_module_version": "1.2.0",
      "model_name": "LayoutModel",
      "state": {
       "_model_module_version": "1.2.0",
       "_view_module_version": "1.2.0",
       "justify_items": null,
       "object_fit": null,
       "object_position": null,
       "width": "20%"
      }
     },
     "ac6252e124eb4de8b991b44f38d7db1b": {
      "model_module": "@jupyter-widgets/base",
      "model_module_version": "1.2.0",
      "model_name": "LayoutModel",
      "state": {
       "_model_module_version": "1.2.0",
       "_view_module_version": "1.2.0",
       "justify_items": null,
       "object_fit": null,
       "object_position": null
      }
     },
     "ae4b4bb18ab2444d91b01effb8d293de": {
      "model_module": "@jupyter-widgets/controls",
      "model_module_version": "1.5.0",
      "model_name": "GridBoxModel",
      "state": {
       "_model_module_version": "1.5.0",
       "_view_module_version": "1.5.0",
       "children": [
        "IPY_MODEL_6058d22045954a5fa8594fb2931e86c0",
        "IPY_MODEL_77d3a20ddf4e4552936d159d6937e52b"
       ],
       "layout": "IPY_MODEL_53bd3a2e72d24162a395eb2ccc0a469f"
      }
     },
     "af6e4f900ac5432eaf96f9b297cca5d5": {
      "model_module": "@jupyter-widgets/controls",
      "model_module_version": "1.5.0",
      "model_name": "TextModel",
      "state": {
       "_model_module_version": "1.5.0",
       "_view_module_version": "1.5.0",
       "layout": "IPY_MODEL_afe0b42a8735442399ea0577478d5844",
       "style": "IPY_MODEL_6ce14665dfe54148a2e2c6bfa5d919f0",
       "value": "filtered_data.csv"
      }
     },
     "afe0b42a8735442399ea0577478d5844": {
      "model_module": "@jupyter-widgets/base",
      "model_module_version": "1.2.0",
      "model_name": "LayoutModel",
      "state": {
       "_model_module_version": "1.2.0",
       "_view_module_version": "1.2.0",
       "justify_items": null,
       "object_fit": null,
       "object_position": null
      }
     },
     "b135988b80ab4ce6bf23e74bb962e060": {
      "model_module": "@jupyter-widgets/controls",
      "model_module_version": "1.5.0",
      "model_name": "DescriptionStyleModel",
      "state": {
       "_model_module_version": "1.5.0",
       "_view_module_version": "1.2.0",
       "description_width": ""
      }
     },
     "b267a4c4bdb5435da71f9fdb6f92be72": {
      "model_module": "@jupyter-widgets/base",
      "model_module_version": "1.2.0",
      "model_name": "LayoutModel",
      "state": {
       "_model_module_version": "1.2.0",
       "_view_module_version": "1.2.0",
       "justify_items": null,
       "object_fit": null,
       "object_position": null,
       "width": "60%"
      }
     },
     "b53a83724cad465b93a3e080f4578660": {
      "model_module": "@jupyter-widgets/controls",
      "model_module_version": "1.5.0",
      "model_name": "SelectMultipleModel",
      "state": {
       "_model_module_version": "1.5.0",
       "_options_labels": [
        "text",
        "text_translated",
        "media",
        "source",
        "mode",
        "num_persons",
        "_timestamp",
        "confidence",
        "source_reliability",
        "locations",
        "origin_bool",
        "origin",
        "destination",
        "geom_tweet",
        "triage_status"
       ],
       "_view_module_version": "1.5.0",
       "index": [],
       "layout": "IPY_MODEL_ac6252e124eb4de8b991b44f38d7db1b",
       "rows": 5,
       "style": "IPY_MODEL_f43e237d1e354a5bb5f7ab108b786b1f"
      }
     },
     "b61076377c274ef698cb612e04ca7458": {
      "model_module": "@jupyter-widgets/base",
      "model_module_version": "1.2.0",
      "model_name": "LayoutModel",
      "state": {
       "_model_module_version": "1.2.0",
       "_view_module_version": "1.2.0",
       "justify_items": null,
       "object_fit": null,
       "object_position": null
      }
     },
     "b7a7c27fd52c4e43bd750c5365051e7e": {
      "model_module": "@jupyter-widgets/controls",
      "model_module_version": "1.5.0",
      "model_name": "VBoxModel",
      "state": {
       "_model_module_version": "1.5.0",
       "_view_module_version": "1.5.0",
       "children": [
        "IPY_MODEL_456f211dc9d24b5ca6cc091fe3700bcf",
        "IPY_MODEL_f47e5852dc8e4fbfb973af98cb244b4a",
        "IPY_MODEL_9e725f8b29424c8595a637c6e2826203"
       ],
       "layout": "IPY_MODEL_3cdeead130b94ac58aa989e139418ff5"
      }
     },
     "b97949ad2e19453c8f5b002ca5c505a8": {
      "model_module": "@jupyter-widgets/controls",
      "model_module_version": "1.5.0",
      "model_name": "DropdownModel",
      "state": {
       "_model_module_version": "1.5.0",
       "_options_labels": [
        "text",
        "text_translated",
        "media",
        "source",
        "mode",
        "num_persons",
        "_timestamp",
        "confidence",
        "source_reliability",
        "locations",
        "origin_bool",
        "origin",
        "destination",
        "geom_tweet",
        "triage_status"
       ],
       "_view_module_version": "1.5.0",
       "description": "order by",
       "index": 0,
       "layout": "IPY_MODEL_11762bc8096d498fa4a2d75b4b68363b",
       "style": "IPY_MODEL_ab82d19c4b324e6e88da2bfeb8528aef"
      }
     },
     "bc96f144528942908cb22624c810b983": {
      "model_module": "@jupyter-widgets/controls",
      "model_module_version": "1.5.0",
      "model_name": "LabelModel",
      "state": {
       "_model_module_version": "1.5.0",
       "_view_module_version": "1.5.0",
       "layout": "IPY_MODEL_f9adb8de8dc147a6b33a94ad5d5b6b8c",
       "style": "IPY_MODEL_3e8939cddcae4ed9a196516612c6810f",
       "value": "of 266 pages with "
      }
     },
     "bcb1fa6e014a48c3b693ca0f60bc09e2": {
      "model_module": "@jupyter-widgets/controls",
      "model_module_version": "1.5.0",
      "model_name": "LabelModel",
      "state": {
       "_model_module_version": "1.5.0",
       "_view_module_version": "1.5.0",
       "layout": "IPY_MODEL_dd890f4bdfb64bebaf5ff6e3237aa659",
       "style": "IPY_MODEL_c014bd1bdfdb48f0b0a49e7187dec491",
       "value": "Search Columns"
      }
     },
     "bd693307a0094240b3d35dc9b279ab8e": {
      "model_module": "@jupyter-widgets/base",
      "model_module_version": "1.2.0",
      "model_name": "LayoutModel",
      "state": {
       "_model_module_version": "1.2.0",
       "_view_module_version": "1.2.0",
       "justify_items": null,
       "object_fit": null,
       "object_position": null
      }
     },
     "bed260b3d1e941e69526b9ff01308c25": {
      "model_module": "@jupyter-widgets/controls",
      "model_module_version": "1.5.0",
      "model_name": "DropdownModel",
      "state": {
       "_model_module_version": "1.5.0",
       "_options_labels": [
        "10",
        "20",
        "50"
       ],
       "_view_module_version": "1.5.0",
       "description": "items per page",
       "index": 0,
       "layout": "IPY_MODEL_abfa1a57826c4a4db049fc133d5c813d",
       "style": "IPY_MODEL_82a98f4ef4814564b37741ae8379099b"
      }
     },
     "c014bd1bdfdb48f0b0a49e7187dec491": {
      "model_module": "@jupyter-widgets/controls",
      "model_module_version": "1.5.0",
      "model_name": "DescriptionStyleModel",
      "state": {
       "_model_module_version": "1.5.0",
       "_view_module_version": "1.2.0",
       "description_width": ""
      }
     },
     "c11988dab0fc45f9b5e73f818d20897c": {
      "model_module": "@jupyter-widgets/base",
      "model_module_version": "1.2.0",
      "model_name": "LayoutModel",
      "state": {
       "_model_module_version": "1.2.0",
       "_view_module_version": "1.2.0",
       "justify_items": null,
       "object_fit": null,
       "object_position": null,
       "width": "60%"
      }
     },
     "c2404983d72045bb9f7b2791295ffd38": {
      "model_module": "@jupyter-widgets/controls",
      "model_module_version": "1.5.0",
      "model_name": "AccordionModel",
      "state": {
       "_model_module_version": "1.5.0",
       "_titles": {
        "0": "Sorting",
        "1": "Required Values",
        "2": "Searching",
        "3": "Save filtered Data"
       },
       "_view_module_version": "1.5.0",
       "children": [
        "IPY_MODEL_f340322c01a146e2b3319e372be09c20",
        "IPY_MODEL_e2eb2af6aef146f5bf39d215ae61fd5a",
        "IPY_MODEL_1edeb57cf8a24c79889bf8597c07f1b4",
        "IPY_MODEL_c70512106d5b4af297c82cf7f722cc69"
       ],
       "layout": "IPY_MODEL_ab40e6ec8aaa4c80ad99a918182130d2"
      }
     },
     "c459518c93a440eebf11f5142733a329": {
      "model_module": "@jupyter-widgets/controls",
      "model_module_version": "1.5.0",
      "model_name": "ButtonStyleModel",
      "state": {
       "_model_module_version": "1.5.0",
       "_view_module_version": "1.2.0"
      }
     },
     "c537c456cc3d4951b416b6df83aa206a": {
      "model_module": "@jupyter-widgets/controls",
      "model_module_version": "1.5.0",
      "model_name": "ToggleButtonModel",
      "state": {
       "_model_module_version": "1.5.0",
       "_view_module_version": "1.5.0",
       "description": "ascending",
       "layout": "IPY_MODEL_fe8567ff462b4394b60161fb3c56376e",
       "style": "IPY_MODEL_e3a4917fca024cccb7bc116e164a13f2",
       "value": true
      }
     },
     "c6b22de3b24d451eb7856766b4db11cb": {
      "model_module": "@jupyter-widgets/controls",
      "model_module_version": "1.5.0",
      "model_name": "DescriptionStyleModel",
      "state": {
       "_model_module_version": "1.5.0",
       "_view_module_version": "1.2.0",
       "description_width": ""
      }
     },
     "c6eef9113c804306a961cea465ed7b72": {
      "model_module": "@jupyter-widgets/base",
      "model_module_version": "1.2.0",
      "model_name": "LayoutModel",
      "state": {
       "_model_module_version": "1.2.0",
       "_view_module_version": "1.2.0",
       "justify_items": null,
       "object_fit": null,
       "object_position": null
      }
     },
     "c70512106d5b4af297c82cf7f722cc69": {
      "model_module": "@jupyter-widgets/controls",
      "model_module_version": "1.5.0",
      "model_name": "HBoxModel",
      "state": {
       "_model_module_version": "1.5.0",
       "_view_module_version": "1.5.0",
       "children": [
        "IPY_MODEL_d7310b0f4d1f4a5b8ed3c25dbf7d9d66",
        "IPY_MODEL_13d79079a62b4371968257f792bc2e16",
        "IPY_MODEL_f61d9c1a04894828ae60d60482e3f477"
       ],
       "layout": "IPY_MODEL_69d8d8bbbadf4111a57f1909652407fb"
      }
     },
     "c96d4de6383447f1b6fc4bdc465e98ed": {
      "model_module": "@jupyter-widgets/controls",
      "model_module_version": "1.5.0",
      "model_name": "SelectMultipleModel",
      "state": {
       "_model_module_version": "1.5.0",
       "_options_labels": [
        "text",
        "text_translated",
        "media",
        "source",
        "mode",
        "num_persons",
        "_timestamp",
        "confidence",
        "source_reliability",
        "locations",
        "origin_bool",
        "origin",
        "destination",
        "geom_tweet",
        "triage_status"
       ],
       "_view_module_version": "1.5.0",
       "index": [],
       "layout": "IPY_MODEL_653b530e1788436997d90cd4b67458a4",
       "rows": 5,
       "style": "IPY_MODEL_e5da5370026e4b1da3459187101d6d70"
      }
     },
     "ce8e450671b745dfae6a9b7cb0fcb4e9": {
      "model_module": "@jupyter-widgets/controls",
      "model_module_version": "1.5.0",
      "model_name": "AccordionModel",
      "state": {
       "_model_module_version": "1.5.0",
       "_titles": {
        "0": "Sorting",
        "1": "Required Values",
        "2": "Searching",
        "3": "Save filtered Data"
       },
       "_view_module_version": "1.5.0",
       "children": [
        "IPY_MODEL_8eb129c068e34eb0b8106fbf24017070",
        "IPY_MODEL_19621a61df594ce29bca1df9739c51bd",
        "IPY_MODEL_ae4b4bb18ab2444d91b01effb8d293de",
        "IPY_MODEL_3ad987b9978947d2864d56d140e039cc"
       ],
       "layout": "IPY_MODEL_3a4a921ca11d4b368955f7fcb5b44f2d"
      }
     },
     "cfceba0fc56e4493ae2f825ee1d7912d": {
      "model_module": "@jupyter-widgets/controls",
      "model_module_version": "1.5.0",
      "model_name": "HTMLModel",
      "state": {
       "_model_module_version": "1.5.0",
       "_view_module_version": "1.5.0",
       "layout": "IPY_MODEL_b61076377c274ef698cb612e04ca7458",
       "style": "IPY_MODEL_0c20d51b8e6e48c1878212be36e243a5",
       "value": "Select multiple by dragging or ctrl + click <br> Deselect with ctrl + click"
      }
     },
     "d48a16537e8a44049e8053a8274f14d6": {
      "model_module": "@jupyter-widgets/controls",
      "model_module_version": "1.5.0",
      "model_name": "ButtonStyleModel",
      "state": {
       "_model_module_version": "1.5.0",
       "_view_module_version": "1.2.0"
      }
     },
     "d7310b0f4d1f4a5b8ed3c25dbf7d9d66": {
      "model_module": "@jupyter-widgets/controls",
      "model_module_version": "1.5.0",
      "model_name": "TextModel",
      "state": {
       "_model_module_version": "1.5.0",
       "_view_module_version": "1.5.0",
       "layout": "IPY_MODEL_09a0500bfd8a4d309531181fba57d0aa",
       "style": "IPY_MODEL_9f8733be69e84138910de34d92dbd80e",
       "value": "filtered_data.csv"
      }
     },
     "d7d87d32527e4c50b50b8e8282437220": {
      "model_module": "@jupyter-widgets/output",
      "model_module_version": "1.0.0",
      "model_name": "OutputModel",
      "state": {
       "layout": "IPY_MODEL_994d69e8b45546fca037a8f4e31d8c7b",
       "outputs": [
        {
         "data": {
          "application/vnd.jupyter.widget-view+json": {
           "model_id": "5753aeb756d94e4e90d500224e21441d",
           "version_major": 2,
           "version_minor": 0
          },
          "text/plain": "VBox(children=(HBox(children=(IntSlider(value=1, layout=Layout(width='60%'), max=266, min=1), Label(value='of …"
         },
         "metadata": {},
         "output_type": "display_data"
        }
       ]
      }
     },
     "dd3c188c508f4721ac8b07bcb8753e2c": {
      "model_module": "@jupyter-widgets/controls",
      "model_module_version": "1.5.0",
      "model_name": "LabelModel",
      "state": {
       "_model_module_version": "1.5.0",
       "_view_module_version": "1.5.0",
       "layout": "IPY_MODEL_86665e2521b744a0986708fb150784ca",
       "style": "IPY_MODEL_a412613b00a14311b1b44094edeb3272"
      }
     },
     "dd890f4bdfb64bebaf5ff6e3237aa659": {
      "model_module": "@jupyter-widgets/base",
      "model_module_version": "1.2.0",
      "model_name": "LayoutModel",
      "state": {
       "_model_module_version": "1.2.0",
       "_view_module_version": "1.2.0",
       "justify_items": null,
       "object_fit": null,
       "object_position": null
      }
     },
     "e12bfc8034c74683aeeadbbb3ccaacca": {
      "model_module": "@jupyter-widgets/controls",
      "model_module_version": "1.5.0",
      "model_name": "DescriptionStyleModel",
      "state": {
       "_model_module_version": "1.5.0",
       "_view_module_version": "1.2.0",
       "description_width": ""
      }
     },
     "e1424317865f4d3da47d9b53b4e545d4": {
      "model_module": "@jupyter-widgets/base",
      "model_module_version": "1.2.0",
      "model_name": "LayoutModel",
      "state": {
       "_model_module_version": "1.2.0",
       "_view_module_version": "1.2.0",
       "justify_items": null,
       "object_fit": null,
       "object_position": null
      }
     },
     "e19d880cd7f54fc2af950f32897e4923": {
      "model_module": "@jupyter-widgets/controls",
      "model_module_version": "1.5.0",
      "model_name": "DescriptionStyleModel",
      "state": {
       "_model_module_version": "1.5.0",
       "_view_module_version": "1.2.0",
       "description_width": ""
      }
     },
     "e2eb2af6aef146f5bf39d215ae61fd5a": {
      "model_module": "@jupyter-widgets/controls",
      "model_module_version": "1.5.0",
      "model_name": "HBoxModel",
      "state": {
       "_model_module_version": "1.5.0",
       "_view_module_version": "1.5.0",
       "children": [
        "IPY_MODEL_b53a83724cad465b93a3e080f4578660",
        "IPY_MODEL_cfceba0fc56e4493ae2f825ee1d7912d"
       ],
       "layout": "IPY_MODEL_8841cdc0a80f4bb7b3ded825e906b69a"
      }
     },
     "e3a4917fca024cccb7bc116e164a13f2": {
      "model_module": "@jupyter-widgets/controls",
      "model_module_version": "1.5.0",
      "model_name": "DescriptionStyleModel",
      "state": {
       "_model_module_version": "1.5.0",
       "_view_module_version": "1.2.0",
       "description_width": ""
      }
     },
     "e5da5370026e4b1da3459187101d6d70": {
      "model_module": "@jupyter-widgets/controls",
      "model_module_version": "1.5.0",
      "model_name": "DescriptionStyleModel",
      "state": {
       "_model_module_version": "1.5.0",
       "_view_module_version": "1.2.0",
       "description_width": ""
      }
     },
     "e650379e18694ae1ad6e8eff5952bf5b": {
      "model_module": "@jupyter-widgets/base",
      "model_module_version": "1.2.0",
      "model_name": "LayoutModel",
      "state": {
       "_model_module_version": "1.2.0",
       "_view_module_version": "1.2.0",
       "grid_area": "top-right",
       "justify_items": null,
       "object_fit": null,
       "object_position": null
      }
     },
     "e9d42935bab641ba8972502516c0e6ac": {
      "model_module": "@jupyter-widgets/controls",
      "model_module_version": "1.5.0",
      "model_name": "IntSliderModel",
      "state": {
       "_model_module_version": "1.5.0",
       "_view_module_version": "1.5.0",
       "layout": "IPY_MODEL_c11988dab0fc45f9b5e73f818d20897c",
       "max": 266,
       "min": 1,
       "style": "IPY_MODEL_34feb120a6ac4fa69e7c40cbff18a3db",
       "value": 1
      }
     },
     "ea8b9f3053eb4729ac6eb8ebb9ae91de": {
      "model_module": "@jupyter-widgets/base",
      "model_module_version": "1.2.0",
      "model_name": "LayoutModel",
      "state": {
       "_model_module_version": "1.2.0",
       "_view_module_version": "1.2.0",
       "justify_items": null,
       "object_fit": null,
       "object_position": null
      }
     },
     "eb8a0530aa4741f696714f595691b283": {
      "model_module": "@jupyter-widgets/controls",
      "model_module_version": "1.5.0",
      "model_name": "DescriptionStyleModel",
      "state": {
       "_model_module_version": "1.5.0",
       "_view_module_version": "1.2.0",
       "description_width": ""
      }
     },
     "ec03f23d4b25447e91a4f68402491909": {
      "model_module": "@jupyter-widgets/base",
      "model_module_version": "1.2.0",
      "model_name": "LayoutModel",
      "state": {
       "_model_module_version": "1.2.0",
       "_view_module_version": "1.2.0",
       "justify_items": null,
       "object_fit": null,
       "object_position": null
      }
     },
     "ec91daa9ec3541c4a9664d421fd6a08e": {
      "model_module": "@jupyter-widgets/base",
      "model_module_version": "1.2.0",
      "model_name": "LayoutModel",
      "state": {
       "_model_module_version": "1.2.0",
       "_view_module_version": "1.2.0",
       "justify_items": null,
       "object_fit": null,
       "object_position": null
      }
     },
     "ee7920a3c9374247b9d9c6af88a40ad4": {
      "model_module": "@jupyter-widgets/base",
      "model_module_version": "1.2.0",
      "model_name": "LayoutModel",
      "state": {
       "_model_module_version": "1.2.0",
       "_view_module_version": "1.2.0",
       "justify_items": null,
       "object_fit": null,
       "object_position": null
      }
     },
     "f111497e701143e4ac069a174b763fe9": {
      "model_module": "@jupyter-widgets/controls",
      "model_module_version": "1.5.0",
      "model_name": "SliderStyleModel",
      "state": {
       "_model_module_version": "1.5.0",
       "_view_module_version": "1.2.0",
       "description_width": ""
      }
     },
     "f1e835bbafec492dbfbc62933a932fe6": {
      "model_module": "@jupyter-widgets/controls",
      "model_module_version": "1.5.0",
      "model_name": "ToggleButtonModel",
      "state": {
       "_model_module_version": "1.5.0",
       "_view_module_version": "1.5.0",
       "description": "ascending",
       "layout": "IPY_MODEL_982b26c89a924df59b9bf6fef7381c50",
       "style": "IPY_MODEL_8522efc196bb449e94f3bb04494229b3",
       "value": true
      }
     },
     "f340322c01a146e2b3319e372be09c20": {
      "model_module": "@jupyter-widgets/controls",
      "model_module_version": "1.5.0",
      "model_name": "HBoxModel",
      "state": {
       "_model_module_version": "1.5.0",
       "_view_module_version": "1.5.0",
       "children": [
        "IPY_MODEL_7fe2860ef2d94447bf07e9740e1c6b04",
        "IPY_MODEL_f1e835bbafec492dbfbc62933a932fe6",
        "IPY_MODEL_bed260b3d1e941e69526b9ff01308c25"
       ],
       "layout": "IPY_MODEL_03002cfac5674344bc66e7b94dc6cb79"
      }
     },
     "f43e237d1e354a5bb5f7ab108b786b1f": {
      "model_module": "@jupyter-widgets/controls",
      "model_module_version": "1.5.0",
      "model_name": "DescriptionStyleModel",
      "state": {
       "_model_module_version": "1.5.0",
       "_view_module_version": "1.2.0",
       "description_width": ""
      }
     },
     "f47e5852dc8e4fbfb973af98cb244b4a": {
      "model_module": "@jupyter-widgets/controls",
      "model_module_version": "1.5.0",
      "model_name": "DropdownModel",
      "state": {
       "_model_module_version": "1.5.0",
       "_options_labels": [
        "text",
        "text_translated",
        "media",
        "source",
        "mode",
        "num_persons",
        "_timestamp",
        "confidence",
        "source_reliability",
        "locations",
        "origin_bool",
        "origin",
        "destination",
        "geom_tweet",
        "triage_status"
       ],
       "_view_module_version": "1.5.0",
       "index": 0,
       "layout": "IPY_MODEL_f65d432957b64f1e87b0078bc9109de1",
       "style": "IPY_MODEL_22d317b2a4c34780960e80429b213a90"
      }
     },
     "f5330ee0aae04e29a4187bcd58c2a467": {
      "model_module": "@jupyter-widgets/controls",
      "model_module_version": "1.5.0",
      "model_name": "ButtonModel",
      "state": {
       "_model_module_version": "1.5.0",
       "_view_module_version": "1.5.0",
       "icon": "chevron-left",
       "layout": "IPY_MODEL_41366d9cfa2b4f4dabbed35b3ccc28b4",
       "style": "IPY_MODEL_2a071b06db994de8a03fb45ec72d6d14"
      }
     },
     "f61d9c1a04894828ae60d60482e3f477": {
      "model_module": "@jupyter-widgets/controls",
      "model_module_version": "1.5.0",
      "model_name": "LabelModel",
      "state": {
       "_model_module_version": "1.5.0",
       "_view_module_version": "1.5.0",
       "layout": "IPY_MODEL_7c3aac02c2d643b68dc0f880ce9cb559",
       "style": "IPY_MODEL_e12bfc8034c74683aeeadbbb3ccaacca"
      }
     },
     "f65d432957b64f1e87b0078bc9109de1": {
      "model_module": "@jupyter-widgets/base",
      "model_module_version": "1.2.0",
      "model_name": "LayoutModel",
      "state": {
       "_model_module_version": "1.2.0",
       "_view_module_version": "1.2.0",
       "justify_items": null,
       "object_fit": null,
       "object_position": null
      }
     },
     "f6c5625a7d81440aa67af42a1942adeb": {
      "model_module": "@jupyter-widgets/base",
      "model_module_version": "1.2.0",
      "model_name": "LayoutModel",
      "state": {
       "_model_module_version": "1.2.0",
       "_view_module_version": "1.2.0",
       "grid_area": "top-left",
       "justify_items": null,
       "object_fit": null,
       "object_position": null
      }
     },
     "f8390c7c091d4c839731b789fdf04b8d": {
      "model_module": "@jupyter-widgets/controls",
      "model_module_version": "1.5.0",
      "model_name": "HBoxModel",
      "state": {
       "_model_module_version": "1.5.0",
       "_view_module_version": "1.5.0",
       "children": [
        "IPY_MODEL_e9d42935bab641ba8972502516c0e6ac",
        "IPY_MODEL_0b96fca3200d45678d6a15ecf5aa5a31",
        "IPY_MODEL_9a4d841ae723486c8dae2d2d67d9bbb0",
        "IPY_MODEL_f5330ee0aae04e29a4187bcd58c2a467",
        "IPY_MODEL_520d7b532de34a37a306457be6cbe252"
       ],
       "layout": "IPY_MODEL_ec91daa9ec3541c4a9664d421fd6a08e"
      }
     },
     "f9adb8de8dc147a6b33a94ad5d5b6b8c": {
      "model_module": "@jupyter-widgets/base",
      "model_module_version": "1.2.0",
      "model_name": "LayoutModel",
      "state": {
       "_model_module_version": "1.2.0",
       "_view_module_version": "1.2.0",
       "justify_items": null,
       "object_fit": null,
       "object_position": null
      }
     },
     "fa81e538c193433fb664b524757e12ee": {
      "model_module": "@jupyter-widgets/output",
      "model_module_version": "1.0.0",
      "model_name": "OutputModel",
      "state": {
       "layout": "IPY_MODEL_ec03f23d4b25447e91a4f68402491909",
       "outputs": [
        {
         "data": {
          "image/png": "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\n",
          "text/plain": "<Figure size 432x288 with 1 Axes>"
         },
         "metadata": {
          "needs_background": "light"
         },
         "output_type": "display_data"
        }
       ]
      }
     },
     "fabd3cdfaaf54e28ba177f9b4f910f42": {
      "model_module": "@jupyter-widgets/controls",
      "model_module_version": "1.5.0",
      "model_name": "ButtonStyleModel",
      "state": {
       "_model_module_version": "1.5.0",
       "_view_module_version": "1.2.0"
      }
     },
     "fac0a4951dc346068c6d404271814aac": {
      "model_module": "@jupyter-widgets/controls",
      "model_module_version": "1.5.0",
      "model_name": "DescriptionStyleModel",
      "state": {
       "_model_module_version": "1.5.0",
       "_view_module_version": "1.2.0",
       "description_width": ""
      }
     },
     "fcb584063a524f528e9cbab29f259252": {
      "model_module": "@jupyter-widgets/controls",
      "model_module_version": "1.5.0",
      "model_name": "VBoxModel",
      "state": {
       "_model_module_version": "1.5.0",
       "_view_module_version": "1.5.0",
       "children": [
        "IPY_MODEL_59c59a640d834a6282be460b5097f6ab",
        "IPY_MODEL_3081d926f05a4475a1efd57b1f0b192a",
        "IPY_MODEL_490c35f5049f495594aaf79f0421cfc1"
       ],
       "layout": "IPY_MODEL_e650379e18694ae1ad6e8eff5952bf5b"
      }
     },
     "fe6a22daa9d54e29a98dc548ef103669": {
      "model_module": "@jupyter-widgets/base",
      "model_module_version": "1.2.0",
      "model_name": "LayoutModel",
      "state": {
       "_model_module_version": "1.2.0",
       "_view_module_version": "1.2.0",
       "justify_items": null,
       "object_fit": null,
       "object_position": null
      }
     },
     "fe8567ff462b4394b60161fb3c56376e": {
      "model_module": "@jupyter-widgets/base",
      "model_module_version": "1.2.0",
      "model_name": "LayoutModel",
      "state": {
       "_model_module_version": "1.2.0",
       "_view_module_version": "1.2.0",
       "justify_items": null,
       "object_fit": null,
       "object_position": null
      }
     }
    },
    "version_major": 2,
    "version_minor": 0
   }
  }
 },
 "nbformat": 4,
 "nbformat_minor": 2
}
